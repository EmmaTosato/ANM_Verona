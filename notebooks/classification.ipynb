{
 "cells": [
  {
   "metadata": {},
   "cell_type": "markdown",
   "source": "# Classification",
   "id": "f55c1fc939b2b4be"
  },
  {
   "metadata": {
    "ExecuteTime": {
     "end_time": "2025-07-18T09:46:43.122417Z",
     "start_time": "2025-07-18T09:46:38.862547Z"
    }
   },
   "cell_type": "code",
   "source": [
    "import pandas as pd\n",
    "import glob\n",
    "from analysis.utils import resolve_split_csv_path\n",
    "import os\n",
    "import matplotlib.pyplot as plt\n",
    "import matplotlib.image as mpimg\n",
    "\n",
    "# Load classification summaries\n",
    "path_class_adni_psp = \"/Users/emmatosato/Documents/PhD/ANM_Verona/output/voxel/umap_classification/adni_psp/summary_all_seeds.csv\"\n",
    "path_class_adni_cbs =\"/Users/emmatosato/Documents/PhD/ANM_Verona/output/voxel/umap_classification/adni_cbs/summary_all_seeds.csv\"\n",
    "path_class_cbs_psp =  '/Users/emmatosato/Documents/PhD/ANM_Verona/output/voxel/umap_classification/psp_cbs/summary_all_seeds.csv'\n",
    "\n",
    "# Load network classification summaries\n",
    "path_class_net_adni_psp = '/Users/emmatosato/Documents/PhD/ANM_Verona/output/networks/classification/adni_psp/summary_all_seeds.csv'\n",
    "path_class_net_adni_cbs = '/Users/emmatosato/Documents/PhD/ANM_Verona/output/networks/classification/adni_cbs/summary_all_seeds.csv'\n",
    "path_class_net_psp_cbs = '/Users/emmatosato/Documents/PhD/ANM_Verona/output/networks/classification/psp_cbs/summary_all_seeds.csv'\n",
    "\n",
    "# Load split dataframes\n",
    "dir_split = \"/Users/emmatosato/Documents/PhD/ANM_Verona/data/dataframes/split\"\n",
    "\n",
    "# Dataframes voxel classification\n",
    "df_classs_adni_psp = pd.read_csv(path_class_adni_psp)\n",
    "df_classs_adni_cbs = pd.read_csv(path_class_adni_cbs)\n",
    "df_classs_cbs_psp = pd.read_csv(path_class_cbs_psp)\n",
    "\n",
    "# Dataframe network classification\n",
    "df_classs_net_adni_psp = pd.read_csv(path_class_net_adni_psp)\n",
    "df_classs_net_adni_cbs = pd.read_csv(path_class_net_adni_cbs)\n",
    "df_classs_net_cbs_psp = pd.read_csv(path_class_net_psp_cbs)\n",
    "\n",
    "\n",
    "# Separate cross-validation and test metrics\n",
    "cv_metrics = [\"cv_accuracy\", \"cv_precision\", \"cv_recall\", \"cv_f1\", \"cv_auc_roc\"]\n",
    "test_metrics = [\"test_accuracy\", \"test_precision\", \"test_recall\", \"test_f1\", \"test_auc_roc\"]"
   ],
   "id": "ab33e5c0cbd15619",
   "outputs": [],
   "execution_count": 1
  },
  {
   "metadata": {
    "ExecuteTime": {
     "end_time": "2025-07-18T09:46:43.132055Z",
     "start_time": "2025-07-18T09:46:43.127085Z"
    }
   },
   "cell_type": "code",
   "source": [
    "def get_variables(df):\n",
    "    # Group by model\n",
    "    grouped = df.groupby(\"model\")\n",
    "\n",
    "    return  grouped\n",
    "\n",
    "def print_info(df_split, df_class):\n",
    "    print(f\"Number of seeds: {df_class['seed'].nunique()} and seeds: {df_class['seed'].unique()}\")\n",
    "    print(f\"Number of models: {df_class['model'].nunique()} and types: {df_class['model'].unique()}\\n\")\n",
    "    print(f\"Training set size: {(df_split['split'] == 'train').sum()}\")\n",
    "    print(f\"Test set size: {(df_split['split'] == 'test').sum()}\")\n",
    "\n",
    "def print_result_cv(grouped, group1, group2):\n",
    "    print(f\"\\nGroup {group1} vs {group2}\\n\")\n",
    "    print(\"=== Cross-validation across seeds ===\")\n",
    "    for model_name, group in grouped:\n",
    "        print(f\"\\nModel: {model_name}\")\n",
    "        display(group[cv_metrics].agg([\"mean\", \"std\"]).round(3))\n",
    "    print(\"\\n\")\n",
    "\n",
    "\n",
    "def print_result_test(grouped, group1, group2):\n",
    "    print(f\"\\nGroup {group1} vs {group2}\\n\")\n",
    "    print(\"=== Test performance on holdout set across seeds=== \")\n",
    "    for model_name, group in grouped:\n",
    "        print(f\"\\nModel: {model_name}\")\n",
    "        display(group[test_metrics].agg([\"mean\", \"std\"]).round(3))\n",
    "    print(\"\\n\")"
   ],
   "id": "668f755b2043727f",
   "outputs": [],
   "execution_count": 2
  },
  {
   "metadata": {},
   "cell_type": "markdown",
   "source": "# Voxel classification",
   "id": "74f79bb40e536e65"
  },
  {
   "metadata": {},
   "cell_type": "markdown",
   "source": "## ADNI vs PSP",
   "id": "a7dc8de29ec1aae6"
  },
  {
   "metadata": {
    "ExecuteTime": {
     "end_time": "2025-07-18T09:46:43.199856Z",
     "start_time": "2025-07-18T09:46:43.192709Z"
    }
   },
   "cell_type": "code",
   "source": [
    "# Extract number of seeds and grouped data\n",
    "group1 = \"ADNI\"\n",
    "group2 = \"PSP\"\n",
    "split_path = resolve_split_csv_path(dir_split, group1 , group2)\n",
    "df_split = pd.read_csv(split_path)\n",
    "\n",
    "print_info(df_split, df_classs_adni_psp)"
   ],
   "id": "b28de6a466bb8c9d",
   "outputs": [
    {
     "name": "stdout",
     "output_type": "stream",
     "text": [
      "\n",
      "Using split file: /Users/emmatosato/Documents/PhD/ANM_Verona/data/dataframes/split/ADNI_PSP_splitted.csv\n",
      "\n",
      "Number of seeds: 5 and seeds: [   42   123  2023 31415 98765]\n",
      "Number of models: 4 and types: ['SVM' 'RandomForest' 'GradientBoosting' 'KNN']\n",
      "\n",
      "Training set size: 105\n",
      "Test set size: 27\n"
     ]
    }
   ],
   "execution_count": 3
  },
  {
   "metadata": {
    "ExecuteTime": {
     "end_time": "2025-07-18T09:46:43.245642Z",
     "start_time": "2025-07-18T09:46:43.216279Z"
    }
   },
   "cell_type": "code",
   "source": [
    "grouped_adni_psp = get_variables(df_classs_adni_psp)\n",
    "print_result_test(grouped_adni_psp, group1, group2)"
   ],
   "id": "76d1bbafebee8399",
   "outputs": [
    {
     "name": "stdout",
     "output_type": "stream",
     "text": [
      "\n",
      "Group ADNI vs PSP\n",
      "\n",
      "=== Test performance on holdout set across seeds=== \n",
      "\n",
      "Model: GradientBoosting\n"
     ]
    },
    {
     "data": {
      "text/plain": [
       "      test_accuracy  test_precision  test_recall  test_f1  test_auc_roc\n",
       "mean          0.593           0.583        0.575    0.571         0.681\n",
       "std           0.000           0.000        0.000    0.000         0.000"
      ],
      "text/html": [
       "<div>\n",
       "<style scoped>\n",
       "    .dataframe tbody tr th:only-of-type {\n",
       "        vertical-align: middle;\n",
       "    }\n",
       "\n",
       "    .dataframe tbody tr th {\n",
       "        vertical-align: top;\n",
       "    }\n",
       "\n",
       "    .dataframe thead th {\n",
       "        text-align: right;\n",
       "    }\n",
       "</style>\n",
       "<table border=\"1\" class=\"dataframe\">\n",
       "  <thead>\n",
       "    <tr style=\"text-align: right;\">\n",
       "      <th></th>\n",
       "      <th>test_accuracy</th>\n",
       "      <th>test_precision</th>\n",
       "      <th>test_recall</th>\n",
       "      <th>test_f1</th>\n",
       "      <th>test_auc_roc</th>\n",
       "    </tr>\n",
       "  </thead>\n",
       "  <tbody>\n",
       "    <tr>\n",
       "      <th>mean</th>\n",
       "      <td>0.593</td>\n",
       "      <td>0.583</td>\n",
       "      <td>0.575</td>\n",
       "      <td>0.571</td>\n",
       "      <td>0.681</td>\n",
       "    </tr>\n",
       "    <tr>\n",
       "      <th>std</th>\n",
       "      <td>0.000</td>\n",
       "      <td>0.000</td>\n",
       "      <td>0.000</td>\n",
       "      <td>0.000</td>\n",
       "      <td>0.000</td>\n",
       "    </tr>\n",
       "  </tbody>\n",
       "</table>\n",
       "</div>"
      ]
     },
     "metadata": {},
     "output_type": "display_data"
    },
    {
     "name": "stdout",
     "output_type": "stream",
     "text": [
      "\n",
      "Model: KNN\n"
     ]
    },
    {
     "data": {
      "text/plain": [
       "      test_accuracy  test_precision  test_recall  test_f1  test_auc_roc\n",
       "mean          0.593           0.591        0.592     0.59         0.594\n",
       "std           0.000           0.000        0.000     0.00         0.000"
      ],
      "text/html": [
       "<div>\n",
       "<style scoped>\n",
       "    .dataframe tbody tr th:only-of-type {\n",
       "        vertical-align: middle;\n",
       "    }\n",
       "\n",
       "    .dataframe tbody tr th {\n",
       "        vertical-align: top;\n",
       "    }\n",
       "\n",
       "    .dataframe thead th {\n",
       "        text-align: right;\n",
       "    }\n",
       "</style>\n",
       "<table border=\"1\" class=\"dataframe\">\n",
       "  <thead>\n",
       "    <tr style=\"text-align: right;\">\n",
       "      <th></th>\n",
       "      <th>test_accuracy</th>\n",
       "      <th>test_precision</th>\n",
       "      <th>test_recall</th>\n",
       "      <th>test_f1</th>\n",
       "      <th>test_auc_roc</th>\n",
       "    </tr>\n",
       "  </thead>\n",
       "  <tbody>\n",
       "    <tr>\n",
       "      <th>mean</th>\n",
       "      <td>0.593</td>\n",
       "      <td>0.591</td>\n",
       "      <td>0.592</td>\n",
       "      <td>0.59</td>\n",
       "      <td>0.594</td>\n",
       "    </tr>\n",
       "    <tr>\n",
       "      <th>std</th>\n",
       "      <td>0.000</td>\n",
       "      <td>0.000</td>\n",
       "      <td>0.000</td>\n",
       "      <td>0.00</td>\n",
       "      <td>0.000</td>\n",
       "    </tr>\n",
       "  </tbody>\n",
       "</table>\n",
       "</div>"
      ]
     },
     "metadata": {},
     "output_type": "display_data"
    },
    {
     "name": "stdout",
     "output_type": "stream",
     "text": [
      "\n",
      "Model: RandomForest\n"
     ]
    },
    {
     "data": {
      "text/plain": [
       "      test_accuracy  test_precision  test_recall  test_f1  test_auc_roc\n",
       "mean          0.608           0.602        0.588    0.584         0.657\n",
       "std           0.033           0.038        0.030    0.028         0.014"
      ],
      "text/html": [
       "<div>\n",
       "<style scoped>\n",
       "    .dataframe tbody tr th:only-of-type {\n",
       "        vertical-align: middle;\n",
       "    }\n",
       "\n",
       "    .dataframe tbody tr th {\n",
       "        vertical-align: top;\n",
       "    }\n",
       "\n",
       "    .dataframe thead th {\n",
       "        text-align: right;\n",
       "    }\n",
       "</style>\n",
       "<table border=\"1\" class=\"dataframe\">\n",
       "  <thead>\n",
       "    <tr style=\"text-align: right;\">\n",
       "      <th></th>\n",
       "      <th>test_accuracy</th>\n",
       "      <th>test_precision</th>\n",
       "      <th>test_recall</th>\n",
       "      <th>test_f1</th>\n",
       "      <th>test_auc_roc</th>\n",
       "    </tr>\n",
       "  </thead>\n",
       "  <tbody>\n",
       "    <tr>\n",
       "      <th>mean</th>\n",
       "      <td>0.608</td>\n",
       "      <td>0.602</td>\n",
       "      <td>0.588</td>\n",
       "      <td>0.584</td>\n",
       "      <td>0.657</td>\n",
       "    </tr>\n",
       "    <tr>\n",
       "      <th>std</th>\n",
       "      <td>0.033</td>\n",
       "      <td>0.038</td>\n",
       "      <td>0.030</td>\n",
       "      <td>0.028</td>\n",
       "      <td>0.014</td>\n",
       "    </tr>\n",
       "  </tbody>\n",
       "</table>\n",
       "</div>"
      ]
     },
     "metadata": {},
     "output_type": "display_data"
    },
    {
     "name": "stdout",
     "output_type": "stream",
     "text": [
      "\n",
      "Model: SVM\n"
     ]
    },
    {
     "data": {
      "text/plain": [
       "      test_accuracy  test_precision  test_recall  test_f1  test_auc_roc\n",
       "mean          0.519             0.5          0.5    0.494         0.683\n",
       "std           0.000             0.0          0.0    0.000         0.000"
      ],
      "text/html": [
       "<div>\n",
       "<style scoped>\n",
       "    .dataframe tbody tr th:only-of-type {\n",
       "        vertical-align: middle;\n",
       "    }\n",
       "\n",
       "    .dataframe tbody tr th {\n",
       "        vertical-align: top;\n",
       "    }\n",
       "\n",
       "    .dataframe thead th {\n",
       "        text-align: right;\n",
       "    }\n",
       "</style>\n",
       "<table border=\"1\" class=\"dataframe\">\n",
       "  <thead>\n",
       "    <tr style=\"text-align: right;\">\n",
       "      <th></th>\n",
       "      <th>test_accuracy</th>\n",
       "      <th>test_precision</th>\n",
       "      <th>test_recall</th>\n",
       "      <th>test_f1</th>\n",
       "      <th>test_auc_roc</th>\n",
       "    </tr>\n",
       "  </thead>\n",
       "  <tbody>\n",
       "    <tr>\n",
       "      <th>mean</th>\n",
       "      <td>0.519</td>\n",
       "      <td>0.5</td>\n",
       "      <td>0.5</td>\n",
       "      <td>0.494</td>\n",
       "      <td>0.683</td>\n",
       "    </tr>\n",
       "    <tr>\n",
       "      <th>std</th>\n",
       "      <td>0.000</td>\n",
       "      <td>0.0</td>\n",
       "      <td>0.0</td>\n",
       "      <td>0.000</td>\n",
       "      <td>0.000</td>\n",
       "    </tr>\n",
       "  </tbody>\n",
       "</table>\n",
       "</div>"
      ]
     },
     "metadata": {},
     "output_type": "display_data"
    },
    {
     "name": "stdout",
     "output_type": "stream",
     "text": [
      "\n",
      "\n"
     ]
    }
   ],
   "execution_count": 4
  },
  {
   "metadata": {},
   "cell_type": "markdown",
   "source": "## ADNI vs CBS",
   "id": "655ee4b8db7cdf40"
  },
  {
   "metadata": {
    "ExecuteTime": {
     "end_time": "2025-07-18T09:46:43.302432Z",
     "start_time": "2025-07-18T09:46:43.296118Z"
    }
   },
   "cell_type": "code",
   "source": [
    "group1 = \"ADNI\"\n",
    "group2 = \"CBS\"\n",
    "split_path = resolve_split_csv_path(dir_split, group1 , group2)\n",
    "df_split = pd.read_csv(split_path)\n",
    "\n",
    "print_info(df_split, df_classs_adni_cbs)"
   ],
   "id": "4a5b5753b1dcbf7f",
   "outputs": [
    {
     "name": "stdout",
     "output_type": "stream",
     "text": [
      "\n",
      "Using split file: /Users/emmatosato/Documents/PhD/ANM_Verona/data/dataframes/split/ADNI_CBS_splitted.csv\n",
      "\n",
      "Number of seeds: 5 and seeds: [   42   123  2023 31415 98765]\n",
      "Number of models: 4 and types: ['SVM' 'RandomForest' 'GradientBoosting' 'KNN']\n",
      "\n",
      "Training set size: 92\n",
      "Test set size: 24\n"
     ]
    }
   ],
   "execution_count": 5
  },
  {
   "metadata": {
    "ExecuteTime": {
     "end_time": "2025-07-18T09:46:43.388757Z",
     "start_time": "2025-07-18T09:46:43.363751Z"
    }
   },
   "cell_type": "code",
   "source": [
    "grouped_adni_cbs = get_variables(df_classs_adni_cbs)\n",
    "print_result_test(grouped_adni_cbs, group1, group2)\n"
   ],
   "id": "4c61194817c1538d",
   "outputs": [
    {
     "name": "stdout",
     "output_type": "stream",
     "text": [
      "\n",
      "Group ADNI vs CBS\n",
      "\n",
      "=== Test performance on holdout set across seeds=== \n",
      "\n",
      "Model: GradientBoosting\n"
     ]
    },
    {
     "data": {
      "text/plain": [
       "      test_accuracy  test_precision  test_recall  test_f1  test_auc_roc\n",
       "mean          0.525           0.458        0.464    0.455         0.341\n",
       "std           0.023           0.019        0.019    0.016         0.015"
      ],
      "text/html": [
       "<div>\n",
       "<style scoped>\n",
       "    .dataframe tbody tr th:only-of-type {\n",
       "        vertical-align: middle;\n",
       "    }\n",
       "\n",
       "    .dataframe tbody tr th {\n",
       "        vertical-align: top;\n",
       "    }\n",
       "\n",
       "    .dataframe thead th {\n",
       "        text-align: right;\n",
       "    }\n",
       "</style>\n",
       "<table border=\"1\" class=\"dataframe\">\n",
       "  <thead>\n",
       "    <tr style=\"text-align: right;\">\n",
       "      <th></th>\n",
       "      <th>test_accuracy</th>\n",
       "      <th>test_precision</th>\n",
       "      <th>test_recall</th>\n",
       "      <th>test_f1</th>\n",
       "      <th>test_auc_roc</th>\n",
       "    </tr>\n",
       "  </thead>\n",
       "  <tbody>\n",
       "    <tr>\n",
       "      <th>mean</th>\n",
       "      <td>0.525</td>\n",
       "      <td>0.458</td>\n",
       "      <td>0.464</td>\n",
       "      <td>0.455</td>\n",
       "      <td>0.341</td>\n",
       "    </tr>\n",
       "    <tr>\n",
       "      <th>std</th>\n",
       "      <td>0.023</td>\n",
       "      <td>0.019</td>\n",
       "      <td>0.019</td>\n",
       "      <td>0.016</td>\n",
       "      <td>0.015</td>\n",
       "    </tr>\n",
       "  </tbody>\n",
       "</table>\n",
       "</div>"
      ]
     },
     "metadata": {},
     "output_type": "display_data"
    },
    {
     "name": "stdout",
     "output_type": "stream",
     "text": [
      "\n",
      "Model: KNN\n"
     ]
    },
    {
     "data": {
      "text/plain": [
       "      test_accuracy  test_precision  test_recall  test_f1  test_auc_roc\n",
       "mean          0.708           0.694        0.656    0.661         0.522\n",
       "std           0.000           0.000        0.000    0.000         0.000"
      ],
      "text/html": [
       "<div>\n",
       "<style scoped>\n",
       "    .dataframe tbody tr th:only-of-type {\n",
       "        vertical-align: middle;\n",
       "    }\n",
       "\n",
       "    .dataframe tbody tr th {\n",
       "        vertical-align: top;\n",
       "    }\n",
       "\n",
       "    .dataframe thead th {\n",
       "        text-align: right;\n",
       "    }\n",
       "</style>\n",
       "<table border=\"1\" class=\"dataframe\">\n",
       "  <thead>\n",
       "    <tr style=\"text-align: right;\">\n",
       "      <th></th>\n",
       "      <th>test_accuracy</th>\n",
       "      <th>test_precision</th>\n",
       "      <th>test_recall</th>\n",
       "      <th>test_f1</th>\n",
       "      <th>test_auc_roc</th>\n",
       "    </tr>\n",
       "  </thead>\n",
       "  <tbody>\n",
       "    <tr>\n",
       "      <th>mean</th>\n",
       "      <td>0.708</td>\n",
       "      <td>0.694</td>\n",
       "      <td>0.656</td>\n",
       "      <td>0.661</td>\n",
       "      <td>0.522</td>\n",
       "    </tr>\n",
       "    <tr>\n",
       "      <th>std</th>\n",
       "      <td>0.000</td>\n",
       "      <td>0.000</td>\n",
       "      <td>0.000</td>\n",
       "      <td>0.000</td>\n",
       "      <td>0.000</td>\n",
       "    </tr>\n",
       "  </tbody>\n",
       "</table>\n",
       "</div>"
      ]
     },
     "metadata": {},
     "output_type": "display_data"
    },
    {
     "name": "stdout",
     "output_type": "stream",
     "text": [
      "\n",
      "Model: RandomForest\n"
     ]
    },
    {
     "data": {
      "text/plain": [
       "      test_accuracy  test_precision  test_recall  test_f1  test_auc_roc\n",
       "mean          0.658           0.629        0.598    0.597         0.496\n",
       "std           0.035           0.047        0.036    0.040         0.028"
      ],
      "text/html": [
       "<div>\n",
       "<style scoped>\n",
       "    .dataframe tbody tr th:only-of-type {\n",
       "        vertical-align: middle;\n",
       "    }\n",
       "\n",
       "    .dataframe tbody tr th {\n",
       "        vertical-align: top;\n",
       "    }\n",
       "\n",
       "    .dataframe thead th {\n",
       "        text-align: right;\n",
       "    }\n",
       "</style>\n",
       "<table border=\"1\" class=\"dataframe\">\n",
       "  <thead>\n",
       "    <tr style=\"text-align: right;\">\n",
       "      <th></th>\n",
       "      <th>test_accuracy</th>\n",
       "      <th>test_precision</th>\n",
       "      <th>test_recall</th>\n",
       "      <th>test_f1</th>\n",
       "      <th>test_auc_roc</th>\n",
       "    </tr>\n",
       "  </thead>\n",
       "  <tbody>\n",
       "    <tr>\n",
       "      <th>mean</th>\n",
       "      <td>0.658</td>\n",
       "      <td>0.629</td>\n",
       "      <td>0.598</td>\n",
       "      <td>0.597</td>\n",
       "      <td>0.496</td>\n",
       "    </tr>\n",
       "    <tr>\n",
       "      <th>std</th>\n",
       "      <td>0.035</td>\n",
       "      <td>0.047</td>\n",
       "      <td>0.036</td>\n",
       "      <td>0.040</td>\n",
       "      <td>0.028</td>\n",
       "    </tr>\n",
       "  </tbody>\n",
       "</table>\n",
       "</div>"
      ]
     },
     "metadata": {},
     "output_type": "display_data"
    },
    {
     "name": "stdout",
     "output_type": "stream",
     "text": [
      "\n",
      "Model: SVM\n"
     ]
    },
    {
     "data": {
      "text/plain": [
       "      test_accuracy  test_precision  test_recall  test_f1  test_auc_roc\n",
       "mean          0.625           0.312          0.5    0.385         0.563\n",
       "std           0.000           0.000          0.0    0.000         0.000"
      ],
      "text/html": [
       "<div>\n",
       "<style scoped>\n",
       "    .dataframe tbody tr th:only-of-type {\n",
       "        vertical-align: middle;\n",
       "    }\n",
       "\n",
       "    .dataframe tbody tr th {\n",
       "        vertical-align: top;\n",
       "    }\n",
       "\n",
       "    .dataframe thead th {\n",
       "        text-align: right;\n",
       "    }\n",
       "</style>\n",
       "<table border=\"1\" class=\"dataframe\">\n",
       "  <thead>\n",
       "    <tr style=\"text-align: right;\">\n",
       "      <th></th>\n",
       "      <th>test_accuracy</th>\n",
       "      <th>test_precision</th>\n",
       "      <th>test_recall</th>\n",
       "      <th>test_f1</th>\n",
       "      <th>test_auc_roc</th>\n",
       "    </tr>\n",
       "  </thead>\n",
       "  <tbody>\n",
       "    <tr>\n",
       "      <th>mean</th>\n",
       "      <td>0.625</td>\n",
       "      <td>0.312</td>\n",
       "      <td>0.5</td>\n",
       "      <td>0.385</td>\n",
       "      <td>0.563</td>\n",
       "    </tr>\n",
       "    <tr>\n",
       "      <th>std</th>\n",
       "      <td>0.000</td>\n",
       "      <td>0.000</td>\n",
       "      <td>0.0</td>\n",
       "      <td>0.000</td>\n",
       "      <td>0.000</td>\n",
       "    </tr>\n",
       "  </tbody>\n",
       "</table>\n",
       "</div>"
      ]
     },
     "metadata": {},
     "output_type": "display_data"
    },
    {
     "name": "stdout",
     "output_type": "stream",
     "text": [
      "\n",
      "\n"
     ]
    }
   ],
   "execution_count": 6
  },
  {
   "metadata": {},
   "cell_type": "markdown",
   "source": "## PSP vs CBS",
   "id": "1eca4fb5449837ee"
  },
  {
   "metadata": {
    "ExecuteTime": {
     "end_time": "2025-07-18T09:46:43.450700Z",
     "start_time": "2025-07-18T09:46:43.444640Z"
    }
   },
   "cell_type": "code",
   "source": [
    "## ADNI vs CBS\n",
    "group1 = \"PSP\"\n",
    "group2 = \"CBS\"\n",
    "split_path = resolve_split_csv_path(dir_split, group1, group2)\n",
    "df_split = pd.read_csv(split_path)\n",
    "\n",
    "print_info(df_split, df_classs_cbs_psp)"
   ],
   "id": "daedc2a7d2345210",
   "outputs": [
    {
     "name": "stdout",
     "output_type": "stream",
     "text": [
      "\n",
      "Using split file: /Users/emmatosato/Documents/PhD/ANM_Verona/data/dataframes/split/PSP_CBS_splitted.csv\n",
      "\n",
      "Number of seeds: 5 and seeds: [   42   123  2023 31415 98765]\n",
      "Number of models: 4 and types: ['SVM' 'RandomForest' 'GradientBoosting' 'KNN']\n",
      "\n",
      "Training set size: 83\n",
      "Test set size: 21\n"
     ]
    }
   ],
   "execution_count": 7
  },
  {
   "metadata": {
    "ExecuteTime": {
     "end_time": "2025-07-18T09:46:43.544734Z",
     "start_time": "2025-07-18T09:46:43.521333Z"
    }
   },
   "cell_type": "code",
   "source": [
    "grouped_psp_cbs = get_variables(df_classs_cbs_psp)\n",
    "print_result_test(grouped_psp_cbs, group1, group2)"
   ],
   "id": "6ff9a257fb30430a",
   "outputs": [
    {
     "name": "stdout",
     "output_type": "stream",
     "text": [
      "\n",
      "Group PSP vs CBS\n",
      "\n",
      "=== Test performance on holdout set across seeds=== \n",
      "\n",
      "Model: GradientBoosting\n"
     ]
    },
    {
     "data": {
      "text/plain": [
       "      test_accuracy  test_precision  test_recall  test_f1  test_auc_roc\n",
       "mean          0.476             0.5          0.5    0.471         0.580\n",
       "std           0.000             0.0          0.0    0.000         0.011"
      ],
      "text/html": [
       "<div>\n",
       "<style scoped>\n",
       "    .dataframe tbody tr th:only-of-type {\n",
       "        vertical-align: middle;\n",
       "    }\n",
       "\n",
       "    .dataframe tbody tr th {\n",
       "        vertical-align: top;\n",
       "    }\n",
       "\n",
       "    .dataframe thead th {\n",
       "        text-align: right;\n",
       "    }\n",
       "</style>\n",
       "<table border=\"1\" class=\"dataframe\">\n",
       "  <thead>\n",
       "    <tr style=\"text-align: right;\">\n",
       "      <th></th>\n",
       "      <th>test_accuracy</th>\n",
       "      <th>test_precision</th>\n",
       "      <th>test_recall</th>\n",
       "      <th>test_f1</th>\n",
       "      <th>test_auc_roc</th>\n",
       "    </tr>\n",
       "  </thead>\n",
       "  <tbody>\n",
       "    <tr>\n",
       "      <th>mean</th>\n",
       "      <td>0.476</td>\n",
       "      <td>0.5</td>\n",
       "      <td>0.5</td>\n",
       "      <td>0.471</td>\n",
       "      <td>0.580</td>\n",
       "    </tr>\n",
       "    <tr>\n",
       "      <th>std</th>\n",
       "      <td>0.000</td>\n",
       "      <td>0.0</td>\n",
       "      <td>0.0</td>\n",
       "      <td>0.000</td>\n",
       "      <td>0.011</td>\n",
       "    </tr>\n",
       "  </tbody>\n",
       "</table>\n",
       "</div>"
      ]
     },
     "metadata": {},
     "output_type": "display_data"
    },
    {
     "name": "stdout",
     "output_type": "stream",
     "text": [
      "\n",
      "Model: KNN\n"
     ]
    },
    {
     "data": {
      "text/plain": [
       "      test_accuracy  test_precision  test_recall  test_f1  test_auc_roc\n",
       "mean          0.571           0.558        0.556    0.555         0.556\n",
       "std           0.000           0.000        0.000    0.000         0.000"
      ],
      "text/html": [
       "<div>\n",
       "<style scoped>\n",
       "    .dataframe tbody tr th:only-of-type {\n",
       "        vertical-align: middle;\n",
       "    }\n",
       "\n",
       "    .dataframe tbody tr th {\n",
       "        vertical-align: top;\n",
       "    }\n",
       "\n",
       "    .dataframe thead th {\n",
       "        text-align: right;\n",
       "    }\n",
       "</style>\n",
       "<table border=\"1\" class=\"dataframe\">\n",
       "  <thead>\n",
       "    <tr style=\"text-align: right;\">\n",
       "      <th></th>\n",
       "      <th>test_accuracy</th>\n",
       "      <th>test_precision</th>\n",
       "      <th>test_recall</th>\n",
       "      <th>test_f1</th>\n",
       "      <th>test_auc_roc</th>\n",
       "    </tr>\n",
       "  </thead>\n",
       "  <tbody>\n",
       "    <tr>\n",
       "      <th>mean</th>\n",
       "      <td>0.571</td>\n",
       "      <td>0.558</td>\n",
       "      <td>0.556</td>\n",
       "      <td>0.555</td>\n",
       "      <td>0.556</td>\n",
       "    </tr>\n",
       "    <tr>\n",
       "      <th>std</th>\n",
       "      <td>0.000</td>\n",
       "      <td>0.000</td>\n",
       "      <td>0.000</td>\n",
       "      <td>0.000</td>\n",
       "      <td>0.000</td>\n",
       "    </tr>\n",
       "  </tbody>\n",
       "</table>\n",
       "</div>"
      ]
     },
     "metadata": {},
     "output_type": "display_data"
    },
    {
     "name": "stdout",
     "output_type": "stream",
     "text": [
      "\n",
      "Model: RandomForest\n"
     ]
    },
    {
     "data": {
      "text/plain": [
       "      test_accuracy  test_precision  test_recall  test_f1  test_auc_roc\n",
       "mean          0.457           0.491        0.492    0.440         0.555\n",
       "std           0.026           0.038        0.031    0.021         0.061"
      ],
      "text/html": [
       "<div>\n",
       "<style scoped>\n",
       "    .dataframe tbody tr th:only-of-type {\n",
       "        vertical-align: middle;\n",
       "    }\n",
       "\n",
       "    .dataframe tbody tr th {\n",
       "        vertical-align: top;\n",
       "    }\n",
       "\n",
       "    .dataframe thead th {\n",
       "        text-align: right;\n",
       "    }\n",
       "</style>\n",
       "<table border=\"1\" class=\"dataframe\">\n",
       "  <thead>\n",
       "    <tr style=\"text-align: right;\">\n",
       "      <th></th>\n",
       "      <th>test_accuracy</th>\n",
       "      <th>test_precision</th>\n",
       "      <th>test_recall</th>\n",
       "      <th>test_f1</th>\n",
       "      <th>test_auc_roc</th>\n",
       "    </tr>\n",
       "  </thead>\n",
       "  <tbody>\n",
       "    <tr>\n",
       "      <th>mean</th>\n",
       "      <td>0.457</td>\n",
       "      <td>0.491</td>\n",
       "      <td>0.492</td>\n",
       "      <td>0.440</td>\n",
       "      <td>0.555</td>\n",
       "    </tr>\n",
       "    <tr>\n",
       "      <th>std</th>\n",
       "      <td>0.026</td>\n",
       "      <td>0.038</td>\n",
       "      <td>0.031</td>\n",
       "      <td>0.021</td>\n",
       "      <td>0.061</td>\n",
       "    </tr>\n",
       "  </tbody>\n",
       "</table>\n",
       "</div>"
      ]
     },
     "metadata": {},
     "output_type": "display_data"
    },
    {
     "name": "stdout",
     "output_type": "stream",
     "text": [
      "\n",
      "Model: SVM\n"
     ]
    },
    {
     "data": {
      "text/plain": [
       "      test_accuracy  test_precision  test_recall  test_f1  test_auc_roc\n",
       "mean          0.619           0.644        0.639    0.618         0.600\n",
       "std           0.000           0.000        0.000    0.000         0.149"
      ],
      "text/html": [
       "<div>\n",
       "<style scoped>\n",
       "    .dataframe tbody tr th:only-of-type {\n",
       "        vertical-align: middle;\n",
       "    }\n",
       "\n",
       "    .dataframe tbody tr th {\n",
       "        vertical-align: top;\n",
       "    }\n",
       "\n",
       "    .dataframe thead th {\n",
       "        text-align: right;\n",
       "    }\n",
       "</style>\n",
       "<table border=\"1\" class=\"dataframe\">\n",
       "  <thead>\n",
       "    <tr style=\"text-align: right;\">\n",
       "      <th></th>\n",
       "      <th>test_accuracy</th>\n",
       "      <th>test_precision</th>\n",
       "      <th>test_recall</th>\n",
       "      <th>test_f1</th>\n",
       "      <th>test_auc_roc</th>\n",
       "    </tr>\n",
       "  </thead>\n",
       "  <tbody>\n",
       "    <tr>\n",
       "      <th>mean</th>\n",
       "      <td>0.619</td>\n",
       "      <td>0.644</td>\n",
       "      <td>0.639</td>\n",
       "      <td>0.618</td>\n",
       "      <td>0.600</td>\n",
       "    </tr>\n",
       "    <tr>\n",
       "      <th>std</th>\n",
       "      <td>0.000</td>\n",
       "      <td>0.000</td>\n",
       "      <td>0.000</td>\n",
       "      <td>0.000</td>\n",
       "      <td>0.149</td>\n",
       "    </tr>\n",
       "  </tbody>\n",
       "</table>\n",
       "</div>"
      ]
     },
     "metadata": {},
     "output_type": "display_data"
    },
    {
     "name": "stdout",
     "output_type": "stream",
     "text": [
      "\n",
      "\n"
     ]
    }
   ],
   "execution_count": 8
  },
  {
   "metadata": {},
   "cell_type": "markdown",
   "source": "# Networks Classification",
   "id": "d604e12c471988b5"
  },
  {
   "metadata": {},
   "cell_type": "markdown",
   "source": "## ADNI vs PSP",
   "id": "f1cc2b429b965c31"
  },
  {
   "metadata": {
    "ExecuteTime": {
     "end_time": "2025-07-18T09:46:43.606277Z",
     "start_time": "2025-07-18T09:46:43.601275Z"
    }
   },
   "cell_type": "code",
   "source": "df_net_noThr = pd.read_csv('/Users/emmatosato/Documents/PhD/ANM_Verona/data/dataframes/networks/networks_noTHR.csv')",
   "id": "60ced7b0b549458a",
   "outputs": [],
   "execution_count": 9
  },
  {
   "metadata": {
    "ExecuteTime": {
     "end_time": "2025-07-18T09:46:43.700767Z",
     "start_time": "2025-07-18T09:46:43.676044Z"
    }
   },
   "cell_type": "code",
   "source": [
    "group1 = \"ADNI\"\n",
    "group2 = \"PSP\"\n",
    "\n",
    "grouped_net_adni_psp = get_variables(df_classs_net_adni_psp)\n",
    "print_result_test(grouped_net_adni_psp, group1, group2)"
   ],
   "id": "9f139fdfa7ddddf7",
   "outputs": [
    {
     "name": "stdout",
     "output_type": "stream",
     "text": [
      "\n",
      "Group ADNI vs PSP\n",
      "\n",
      "=== Test performance on holdout set across seeds=== \n",
      "\n",
      "Model: GradientBoosting\n"
     ]
    },
    {
     "data": {
      "text/plain": [
       "      test_accuracy  test_precision  test_recall  test_f1  test_auc_roc\n",
       "mean          0.600           0.593        0.582    0.578         0.648\n",
       "std           0.031           0.036        0.028    0.026         0.019"
      ],
      "text/html": [
       "<div>\n",
       "<style scoped>\n",
       "    .dataframe tbody tr th:only-of-type {\n",
       "        vertical-align: middle;\n",
       "    }\n",
       "\n",
       "    .dataframe tbody tr th {\n",
       "        vertical-align: top;\n",
       "    }\n",
       "\n",
       "    .dataframe thead th {\n",
       "        text-align: right;\n",
       "    }\n",
       "</style>\n",
       "<table border=\"1\" class=\"dataframe\">\n",
       "  <thead>\n",
       "    <tr style=\"text-align: right;\">\n",
       "      <th></th>\n",
       "      <th>test_accuracy</th>\n",
       "      <th>test_precision</th>\n",
       "      <th>test_recall</th>\n",
       "      <th>test_f1</th>\n",
       "      <th>test_auc_roc</th>\n",
       "    </tr>\n",
       "  </thead>\n",
       "  <tbody>\n",
       "    <tr>\n",
       "      <th>mean</th>\n",
       "      <td>0.600</td>\n",
       "      <td>0.593</td>\n",
       "      <td>0.582</td>\n",
       "      <td>0.578</td>\n",
       "      <td>0.648</td>\n",
       "    </tr>\n",
       "    <tr>\n",
       "      <th>std</th>\n",
       "      <td>0.031</td>\n",
       "      <td>0.036</td>\n",
       "      <td>0.028</td>\n",
       "      <td>0.026</td>\n",
       "      <td>0.019</td>\n",
       "    </tr>\n",
       "  </tbody>\n",
       "</table>\n",
       "</div>"
      ]
     },
     "metadata": {},
     "output_type": "display_data"
    },
    {
     "name": "stdout",
     "output_type": "stream",
     "text": [
      "\n",
      "Model: KNN\n"
     ]
    },
    {
     "data": {
      "text/plain": [
       "      test_accuracy  test_precision  test_recall  test_f1  test_auc_roc\n",
       "mean          0.519           0.525        0.525    0.519         0.586\n",
       "std           0.000           0.000        0.000    0.000         0.000"
      ],
      "text/html": [
       "<div>\n",
       "<style scoped>\n",
       "    .dataframe tbody tr th:only-of-type {\n",
       "        vertical-align: middle;\n",
       "    }\n",
       "\n",
       "    .dataframe tbody tr th {\n",
       "        vertical-align: top;\n",
       "    }\n",
       "\n",
       "    .dataframe thead th {\n",
       "        text-align: right;\n",
       "    }\n",
       "</style>\n",
       "<table border=\"1\" class=\"dataframe\">\n",
       "  <thead>\n",
       "    <tr style=\"text-align: right;\">\n",
       "      <th></th>\n",
       "      <th>test_accuracy</th>\n",
       "      <th>test_precision</th>\n",
       "      <th>test_recall</th>\n",
       "      <th>test_f1</th>\n",
       "      <th>test_auc_roc</th>\n",
       "    </tr>\n",
       "  </thead>\n",
       "  <tbody>\n",
       "    <tr>\n",
       "      <th>mean</th>\n",
       "      <td>0.519</td>\n",
       "      <td>0.525</td>\n",
       "      <td>0.525</td>\n",
       "      <td>0.519</td>\n",
       "      <td>0.586</td>\n",
       "    </tr>\n",
       "    <tr>\n",
       "      <th>std</th>\n",
       "      <td>0.000</td>\n",
       "      <td>0.000</td>\n",
       "      <td>0.000</td>\n",
       "      <td>0.000</td>\n",
       "      <td>0.000</td>\n",
       "    </tr>\n",
       "  </tbody>\n",
       "</table>\n",
       "</div>"
      ]
     },
     "metadata": {},
     "output_type": "display_data"
    },
    {
     "name": "stdout",
     "output_type": "stream",
     "text": [
      "\n",
      "Model: RandomForest\n"
     ]
    },
    {
     "data": {
      "text/plain": [
       "      test_accuracy  test_precision  test_recall  test_f1  test_auc_roc\n",
       "mean          0.615           0.611        0.610    0.609         0.655\n",
       "std           0.020           0.018        0.017    0.018         0.020"
      ],
      "text/html": [
       "<div>\n",
       "<style scoped>\n",
       "    .dataframe tbody tr th:only-of-type {\n",
       "        vertical-align: middle;\n",
       "    }\n",
       "\n",
       "    .dataframe tbody tr th {\n",
       "        vertical-align: top;\n",
       "    }\n",
       "\n",
       "    .dataframe thead th {\n",
       "        text-align: right;\n",
       "    }\n",
       "</style>\n",
       "<table border=\"1\" class=\"dataframe\">\n",
       "  <thead>\n",
       "    <tr style=\"text-align: right;\">\n",
       "      <th></th>\n",
       "      <th>test_accuracy</th>\n",
       "      <th>test_precision</th>\n",
       "      <th>test_recall</th>\n",
       "      <th>test_f1</th>\n",
       "      <th>test_auc_roc</th>\n",
       "    </tr>\n",
       "  </thead>\n",
       "  <tbody>\n",
       "    <tr>\n",
       "      <th>mean</th>\n",
       "      <td>0.615</td>\n",
       "      <td>0.611</td>\n",
       "      <td>0.610</td>\n",
       "      <td>0.609</td>\n",
       "      <td>0.655</td>\n",
       "    </tr>\n",
       "    <tr>\n",
       "      <th>std</th>\n",
       "      <td>0.020</td>\n",
       "      <td>0.018</td>\n",
       "      <td>0.017</td>\n",
       "      <td>0.018</td>\n",
       "      <td>0.020</td>\n",
       "    </tr>\n",
       "  </tbody>\n",
       "</table>\n",
       "</div>"
      ]
     },
     "metadata": {},
     "output_type": "display_data"
    },
    {
     "name": "stdout",
     "output_type": "stream",
     "text": [
      "\n",
      "Model: SVM\n"
     ]
    },
    {
     "data": {
      "text/plain": [
       "      test_accuracy  test_precision  test_recall  test_f1  test_auc_roc\n",
       "mean          0.519             0.5          0.5    0.494         0.639\n",
       "std           0.000             0.0          0.0    0.000         0.000"
      ],
      "text/html": [
       "<div>\n",
       "<style scoped>\n",
       "    .dataframe tbody tr th:only-of-type {\n",
       "        vertical-align: middle;\n",
       "    }\n",
       "\n",
       "    .dataframe tbody tr th {\n",
       "        vertical-align: top;\n",
       "    }\n",
       "\n",
       "    .dataframe thead th {\n",
       "        text-align: right;\n",
       "    }\n",
       "</style>\n",
       "<table border=\"1\" class=\"dataframe\">\n",
       "  <thead>\n",
       "    <tr style=\"text-align: right;\">\n",
       "      <th></th>\n",
       "      <th>test_accuracy</th>\n",
       "      <th>test_precision</th>\n",
       "      <th>test_recall</th>\n",
       "      <th>test_f1</th>\n",
       "      <th>test_auc_roc</th>\n",
       "    </tr>\n",
       "  </thead>\n",
       "  <tbody>\n",
       "    <tr>\n",
       "      <th>mean</th>\n",
       "      <td>0.519</td>\n",
       "      <td>0.5</td>\n",
       "      <td>0.5</td>\n",
       "      <td>0.494</td>\n",
       "      <td>0.639</td>\n",
       "    </tr>\n",
       "    <tr>\n",
       "      <th>std</th>\n",
       "      <td>0.000</td>\n",
       "      <td>0.0</td>\n",
       "      <td>0.0</td>\n",
       "      <td>0.000</td>\n",
       "      <td>0.000</td>\n",
       "    </tr>\n",
       "  </tbody>\n",
       "</table>\n",
       "</div>"
      ]
     },
     "metadata": {},
     "output_type": "display_data"
    },
    {
     "name": "stdout",
     "output_type": "stream",
     "text": [
      "\n",
      "\n"
     ]
    }
   ],
   "execution_count": 10
  },
  {
   "metadata": {},
   "cell_type": "markdown",
   "source": "## ADNI vs CBS",
   "id": "e14f5b7103951470"
  },
  {
   "metadata": {
    "ExecuteTime": {
     "end_time": "2025-07-18T09:46:43.796881Z",
     "start_time": "2025-07-18T09:46:43.771929Z"
    }
   },
   "cell_type": "code",
   "source": [
    "group1 = \"ADNI\"\n",
    "group2 = \"CBS\"\n",
    "\n",
    "grouped_net_adni_cbs = get_variables(df_classs_net_adni_cbs)\n",
    "print_result_test(grouped_net_adni_cbs, group1, group2)\n"
   ],
   "id": "9a144fcd6e320941",
   "outputs": [
    {
     "name": "stdout",
     "output_type": "stream",
     "text": [
      "\n",
      "Group ADNI vs CBS\n",
      "\n",
      "=== Test performance on holdout set across seeds=== \n",
      "\n",
      "Model: GradientBoosting\n"
     ]
    },
    {
     "data": {
      "text/plain": [
       "      test_accuracy  test_precision  test_recall  test_f1  test_auc_roc\n",
       "mean          0.583           0.516        0.511    0.496         0.548\n",
       "std           0.000           0.000        0.000    0.000         0.000"
      ],
      "text/html": [
       "<div>\n",
       "<style scoped>\n",
       "    .dataframe tbody tr th:only-of-type {\n",
       "        vertical-align: middle;\n",
       "    }\n",
       "\n",
       "    .dataframe tbody tr th {\n",
       "        vertical-align: top;\n",
       "    }\n",
       "\n",
       "    .dataframe thead th {\n",
       "        text-align: right;\n",
       "    }\n",
       "</style>\n",
       "<table border=\"1\" class=\"dataframe\">\n",
       "  <thead>\n",
       "    <tr style=\"text-align: right;\">\n",
       "      <th></th>\n",
       "      <th>test_accuracy</th>\n",
       "      <th>test_precision</th>\n",
       "      <th>test_recall</th>\n",
       "      <th>test_f1</th>\n",
       "      <th>test_auc_roc</th>\n",
       "    </tr>\n",
       "  </thead>\n",
       "  <tbody>\n",
       "    <tr>\n",
       "      <th>mean</th>\n",
       "      <td>0.583</td>\n",
       "      <td>0.516</td>\n",
       "      <td>0.511</td>\n",
       "      <td>0.496</td>\n",
       "      <td>0.548</td>\n",
       "    </tr>\n",
       "    <tr>\n",
       "      <th>std</th>\n",
       "      <td>0.000</td>\n",
       "      <td>0.000</td>\n",
       "      <td>0.000</td>\n",
       "      <td>0.000</td>\n",
       "      <td>0.000</td>\n",
       "    </tr>\n",
       "  </tbody>\n",
       "</table>\n",
       "</div>"
      ]
     },
     "metadata": {},
     "output_type": "display_data"
    },
    {
     "name": "stdout",
     "output_type": "stream",
     "text": [
      "\n",
      "Model: KNN\n"
     ]
    },
    {
     "data": {
      "text/plain": [
       "      test_accuracy  test_precision  test_recall  test_f1  test_auc_roc\n",
       "mean          0.583           0.476        0.489    0.444          0.53\n",
       "std           0.000           0.000        0.000    0.000          0.00"
      ],
      "text/html": [
       "<div>\n",
       "<style scoped>\n",
       "    .dataframe tbody tr th:only-of-type {\n",
       "        vertical-align: middle;\n",
       "    }\n",
       "\n",
       "    .dataframe tbody tr th {\n",
       "        vertical-align: top;\n",
       "    }\n",
       "\n",
       "    .dataframe thead th {\n",
       "        text-align: right;\n",
       "    }\n",
       "</style>\n",
       "<table border=\"1\" class=\"dataframe\">\n",
       "  <thead>\n",
       "    <tr style=\"text-align: right;\">\n",
       "      <th></th>\n",
       "      <th>test_accuracy</th>\n",
       "      <th>test_precision</th>\n",
       "      <th>test_recall</th>\n",
       "      <th>test_f1</th>\n",
       "      <th>test_auc_roc</th>\n",
       "    </tr>\n",
       "  </thead>\n",
       "  <tbody>\n",
       "    <tr>\n",
       "      <th>mean</th>\n",
       "      <td>0.583</td>\n",
       "      <td>0.476</td>\n",
       "      <td>0.489</td>\n",
       "      <td>0.444</td>\n",
       "      <td>0.53</td>\n",
       "    </tr>\n",
       "    <tr>\n",
       "      <th>std</th>\n",
       "      <td>0.000</td>\n",
       "      <td>0.000</td>\n",
       "      <td>0.000</td>\n",
       "      <td>0.000</td>\n",
       "      <td>0.00</td>\n",
       "    </tr>\n",
       "  </tbody>\n",
       "</table>\n",
       "</div>"
      ]
     },
     "metadata": {},
     "output_type": "display_data"
    },
    {
     "name": "stdout",
     "output_type": "stream",
     "text": [
      "\n",
      "Model: RandomForest\n"
     ]
    },
    {
     "data": {
      "text/plain": [
       "      test_accuracy  test_precision  test_recall  test_f1  test_auc_roc\n",
       "mean          0.625           0.588        0.558     0.55         0.538\n",
       "std           0.059           0.090        0.056     0.06         0.023"
      ],
      "text/html": [
       "<div>\n",
       "<style scoped>\n",
       "    .dataframe tbody tr th:only-of-type {\n",
       "        vertical-align: middle;\n",
       "    }\n",
       "\n",
       "    .dataframe tbody tr th {\n",
       "        vertical-align: top;\n",
       "    }\n",
       "\n",
       "    .dataframe thead th {\n",
       "        text-align: right;\n",
       "    }\n",
       "</style>\n",
       "<table border=\"1\" class=\"dataframe\">\n",
       "  <thead>\n",
       "    <tr style=\"text-align: right;\">\n",
       "      <th></th>\n",
       "      <th>test_accuracy</th>\n",
       "      <th>test_precision</th>\n",
       "      <th>test_recall</th>\n",
       "      <th>test_f1</th>\n",
       "      <th>test_auc_roc</th>\n",
       "    </tr>\n",
       "  </thead>\n",
       "  <tbody>\n",
       "    <tr>\n",
       "      <th>mean</th>\n",
       "      <td>0.625</td>\n",
       "      <td>0.588</td>\n",
       "      <td>0.558</td>\n",
       "      <td>0.55</td>\n",
       "      <td>0.538</td>\n",
       "    </tr>\n",
       "    <tr>\n",
       "      <th>std</th>\n",
       "      <td>0.059</td>\n",
       "      <td>0.090</td>\n",
       "      <td>0.056</td>\n",
       "      <td>0.06</td>\n",
       "      <td>0.023</td>\n",
       "    </tr>\n",
       "  </tbody>\n",
       "</table>\n",
       "</div>"
      ]
     },
     "metadata": {},
     "output_type": "display_data"
    },
    {
     "name": "stdout",
     "output_type": "stream",
     "text": [
      "\n",
      "Model: SVM\n"
     ]
    },
    {
     "data": {
      "text/plain": [
       "      test_accuracy  test_precision  test_recall  test_f1  test_auc_roc\n",
       "mean          0.583           0.516        0.511    0.496         0.496\n",
       "std           0.000           0.000        0.000    0.000         0.000"
      ],
      "text/html": [
       "<div>\n",
       "<style scoped>\n",
       "    .dataframe tbody tr th:only-of-type {\n",
       "        vertical-align: middle;\n",
       "    }\n",
       "\n",
       "    .dataframe tbody tr th {\n",
       "        vertical-align: top;\n",
       "    }\n",
       "\n",
       "    .dataframe thead th {\n",
       "        text-align: right;\n",
       "    }\n",
       "</style>\n",
       "<table border=\"1\" class=\"dataframe\">\n",
       "  <thead>\n",
       "    <tr style=\"text-align: right;\">\n",
       "      <th></th>\n",
       "      <th>test_accuracy</th>\n",
       "      <th>test_precision</th>\n",
       "      <th>test_recall</th>\n",
       "      <th>test_f1</th>\n",
       "      <th>test_auc_roc</th>\n",
       "    </tr>\n",
       "  </thead>\n",
       "  <tbody>\n",
       "    <tr>\n",
       "      <th>mean</th>\n",
       "      <td>0.583</td>\n",
       "      <td>0.516</td>\n",
       "      <td>0.511</td>\n",
       "      <td>0.496</td>\n",
       "      <td>0.496</td>\n",
       "    </tr>\n",
       "    <tr>\n",
       "      <th>std</th>\n",
       "      <td>0.000</td>\n",
       "      <td>0.000</td>\n",
       "      <td>0.000</td>\n",
       "      <td>0.000</td>\n",
       "      <td>0.000</td>\n",
       "    </tr>\n",
       "  </tbody>\n",
       "</table>\n",
       "</div>"
      ]
     },
     "metadata": {},
     "output_type": "display_data"
    },
    {
     "name": "stdout",
     "output_type": "stream",
     "text": [
      "\n",
      "\n"
     ]
    }
   ],
   "execution_count": 11
  },
  {
   "metadata": {},
   "cell_type": "markdown",
   "source": "## PSP vs CBS",
   "id": "ccf2d42e43d1d4f6"
  },
  {
   "metadata": {
    "ExecuteTime": {
     "end_time": "2025-07-18T09:46:43.918518Z",
     "start_time": "2025-07-18T09:46:43.894832Z"
    }
   },
   "cell_type": "code",
   "source": [
    "group1 = \"PSP\"\n",
    "group2 = \"CBS\"\n",
    "\n",
    "grouped_net_cbs_psp = get_variables(df_classs_net_cbs_psp)\n",
    "print_result_test(grouped_net_cbs_psp, group1, group2)"
   ],
   "id": "58ab519954263a9",
   "outputs": [
    {
     "name": "stdout",
     "output_type": "stream",
     "text": [
      "\n",
      "Group PSP vs CBS\n",
      "\n",
      "=== Test performance on holdout set across seeds=== \n",
      "\n",
      "Model: GradientBoosting\n"
     ]
    },
    {
     "data": {
      "text/plain": [
       "      test_accuracy  test_precision  test_recall  test_f1  test_auc_roc\n",
       "mean          0.752           0.775        0.725    0.729         0.678\n",
       "std           0.021           0.017        0.025    0.028         0.016"
      ],
      "text/html": [
       "<div>\n",
       "<style scoped>\n",
       "    .dataframe tbody tr th:only-of-type {\n",
       "        vertical-align: middle;\n",
       "    }\n",
       "\n",
       "    .dataframe tbody tr th {\n",
       "        vertical-align: top;\n",
       "    }\n",
       "\n",
       "    .dataframe thead th {\n",
       "        text-align: right;\n",
       "    }\n",
       "</style>\n",
       "<table border=\"1\" class=\"dataframe\">\n",
       "  <thead>\n",
       "    <tr style=\"text-align: right;\">\n",
       "      <th></th>\n",
       "      <th>test_accuracy</th>\n",
       "      <th>test_precision</th>\n",
       "      <th>test_recall</th>\n",
       "      <th>test_f1</th>\n",
       "      <th>test_auc_roc</th>\n",
       "    </tr>\n",
       "  </thead>\n",
       "  <tbody>\n",
       "    <tr>\n",
       "      <th>mean</th>\n",
       "      <td>0.752</td>\n",
       "      <td>0.775</td>\n",
       "      <td>0.725</td>\n",
       "      <td>0.729</td>\n",
       "      <td>0.678</td>\n",
       "    </tr>\n",
       "    <tr>\n",
       "      <th>std</th>\n",
       "      <td>0.021</td>\n",
       "      <td>0.017</td>\n",
       "      <td>0.025</td>\n",
       "      <td>0.028</td>\n",
       "      <td>0.016</td>\n",
       "    </tr>\n",
       "  </tbody>\n",
       "</table>\n",
       "</div>"
      ]
     },
     "metadata": {},
     "output_type": "display_data"
    },
    {
     "name": "stdout",
     "output_type": "stream",
     "text": [
      "\n",
      "Model: KNN\n"
     ]
    },
    {
     "data": {
      "text/plain": [
       "      test_accuracy  test_precision  test_recall  test_f1  test_auc_roc\n",
       "mean          0.619           0.613        0.583    0.571         0.546\n",
       "std           0.000           0.000        0.000    0.000         0.000"
      ],
      "text/html": [
       "<div>\n",
       "<style scoped>\n",
       "    .dataframe tbody tr th:only-of-type {\n",
       "        vertical-align: middle;\n",
       "    }\n",
       "\n",
       "    .dataframe tbody tr th {\n",
       "        vertical-align: top;\n",
       "    }\n",
       "\n",
       "    .dataframe thead th {\n",
       "        text-align: right;\n",
       "    }\n",
       "</style>\n",
       "<table border=\"1\" class=\"dataframe\">\n",
       "  <thead>\n",
       "    <tr style=\"text-align: right;\">\n",
       "      <th></th>\n",
       "      <th>test_accuracy</th>\n",
       "      <th>test_precision</th>\n",
       "      <th>test_recall</th>\n",
       "      <th>test_f1</th>\n",
       "      <th>test_auc_roc</th>\n",
       "    </tr>\n",
       "  </thead>\n",
       "  <tbody>\n",
       "    <tr>\n",
       "      <th>mean</th>\n",
       "      <td>0.619</td>\n",
       "      <td>0.613</td>\n",
       "      <td>0.583</td>\n",
       "      <td>0.571</td>\n",
       "      <td>0.546</td>\n",
       "    </tr>\n",
       "    <tr>\n",
       "      <th>std</th>\n",
       "      <td>0.000</td>\n",
       "      <td>0.000</td>\n",
       "      <td>0.000</td>\n",
       "      <td>0.000</td>\n",
       "      <td>0.000</td>\n",
       "    </tr>\n",
       "  </tbody>\n",
       "</table>\n",
       "</div>"
      ]
     },
     "metadata": {},
     "output_type": "display_data"
    },
    {
     "name": "stdout",
     "output_type": "stream",
     "text": [
      "\n",
      "Model: RandomForest\n"
     ]
    },
    {
     "data": {
      "text/plain": [
       "      test_accuracy  test_precision  test_recall  test_f1  test_auc_roc\n",
       "mean          0.705           0.705        0.683    0.685         0.668\n",
       "std           0.021           0.021        0.025    0.027         0.015"
      ],
      "text/html": [
       "<div>\n",
       "<style scoped>\n",
       "    .dataframe tbody tr th:only-of-type {\n",
       "        vertical-align: middle;\n",
       "    }\n",
       "\n",
       "    .dataframe tbody tr th {\n",
       "        vertical-align: top;\n",
       "    }\n",
       "\n",
       "    .dataframe thead th {\n",
       "        text-align: right;\n",
       "    }\n",
       "</style>\n",
       "<table border=\"1\" class=\"dataframe\">\n",
       "  <thead>\n",
       "    <tr style=\"text-align: right;\">\n",
       "      <th></th>\n",
       "      <th>test_accuracy</th>\n",
       "      <th>test_precision</th>\n",
       "      <th>test_recall</th>\n",
       "      <th>test_f1</th>\n",
       "      <th>test_auc_roc</th>\n",
       "    </tr>\n",
       "  </thead>\n",
       "  <tbody>\n",
       "    <tr>\n",
       "      <th>mean</th>\n",
       "      <td>0.705</td>\n",
       "      <td>0.705</td>\n",
       "      <td>0.683</td>\n",
       "      <td>0.685</td>\n",
       "      <td>0.668</td>\n",
       "    </tr>\n",
       "    <tr>\n",
       "      <th>std</th>\n",
       "      <td>0.021</td>\n",
       "      <td>0.021</td>\n",
       "      <td>0.025</td>\n",
       "      <td>0.027</td>\n",
       "      <td>0.015</td>\n",
       "    </tr>\n",
       "  </tbody>\n",
       "</table>\n",
       "</div>"
      ]
     },
     "metadata": {},
     "output_type": "display_data"
    },
    {
     "name": "stdout",
     "output_type": "stream",
     "text": [
      "\n",
      "Model: SVM\n"
     ]
    },
    {
     "data": {
      "text/plain": [
       "      test_accuracy  test_precision  test_recall  test_f1  test_auc_roc\n",
       "mean          0.667           0.659        0.653    0.654         0.677\n",
       "std           0.000           0.000        0.000    0.000         0.002"
      ],
      "text/html": [
       "<div>\n",
       "<style scoped>\n",
       "    .dataframe tbody tr th:only-of-type {\n",
       "        vertical-align: middle;\n",
       "    }\n",
       "\n",
       "    .dataframe tbody tr th {\n",
       "        vertical-align: top;\n",
       "    }\n",
       "\n",
       "    .dataframe thead th {\n",
       "        text-align: right;\n",
       "    }\n",
       "</style>\n",
       "<table border=\"1\" class=\"dataframe\">\n",
       "  <thead>\n",
       "    <tr style=\"text-align: right;\">\n",
       "      <th></th>\n",
       "      <th>test_accuracy</th>\n",
       "      <th>test_precision</th>\n",
       "      <th>test_recall</th>\n",
       "      <th>test_f1</th>\n",
       "      <th>test_auc_roc</th>\n",
       "    </tr>\n",
       "  </thead>\n",
       "  <tbody>\n",
       "    <tr>\n",
       "      <th>mean</th>\n",
       "      <td>0.667</td>\n",
       "      <td>0.659</td>\n",
       "      <td>0.653</td>\n",
       "      <td>0.654</td>\n",
       "      <td>0.677</td>\n",
       "    </tr>\n",
       "    <tr>\n",
       "      <th>std</th>\n",
       "      <td>0.000</td>\n",
       "      <td>0.000</td>\n",
       "      <td>0.000</td>\n",
       "      <td>0.000</td>\n",
       "      <td>0.002</td>\n",
       "    </tr>\n",
       "  </tbody>\n",
       "</table>\n",
       "</div>"
      ]
     },
     "metadata": {},
     "output_type": "display_data"
    },
    {
     "name": "stdout",
     "output_type": "stream",
     "text": [
      "\n",
      "\n"
     ]
    }
   ],
   "execution_count": 12
  }
 ],
 "metadata": {
  "kernelspec": {
   "display_name": "Python 3",
   "language": "python",
   "name": "python3"
  },
  "language_info": {
   "codemirror_mode": {
    "name": "ipython",
    "version": 2
   },
   "file_extension": ".py",
   "mimetype": "text/x-python",
   "name": "python",
   "nbconvert_exporter": "python",
   "pygments_lexer": "ipython2",
   "version": "2.7.6"
  }
 },
 "nbformat": 4,
 "nbformat_minor": 5
}
