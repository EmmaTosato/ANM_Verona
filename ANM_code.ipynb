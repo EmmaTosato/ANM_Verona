{
 "cells": [
  {
   "metadata": {},
   "cell_type": "markdown",
   "source": "# Utils",
   "id": "d2307c9fb1159ab0"
  },
  {
   "metadata": {},
   "cell_type": "markdown",
   "source": "### Libraries",
   "id": "9b2b11082d01386"
  },
  {
   "metadata": {
    "ExecuteTime": {
     "end_time": "2025-04-16T09:37:25.562933Z",
     "start_time": "2025-04-16T09:37:25.555582Z"
    }
   },
   "cell_type": "code",
   "source": [
    "import numpy as np\n",
    "import pandas as pd\n",
    "import os\n",
    "import glob\n",
    "import nibabel as nib\n",
    "import umap\n",
    "import numpy as np\n",
    "import matplotlib.pyplot as plt\n",
    "import seaborn as sns\n",
    "\n",
    "from sklearn.cluster import KMeans, DBSCAN\n",
    "from sklearn.mixture import GaussianMixture\n",
    "import hdbscan\n",
    "from sklearn.model_selection import train_test_split\n",
    "from sklearn.metrics import mean_squared_error, mean_absolute_error, r2_score\n",
    "import statsmodels.api as sm\n"
   ],
   "id": "2bbfb5d9ad283893",
   "outputs": [],
   "execution_count": 29
  },
  {
   "metadata": {
    "ExecuteTime": {
     "end_time": "2025-04-16T09:37:26.997016Z",
     "start_time": "2025-04-16T09:37:26.994614Z"
    }
   },
   "cell_type": "code",
   "source": [
    "import warnings\n",
    "\n",
    "# Suppress all FutureWarnings\n",
    "warnings.simplefilter(action='ignore', category=FutureWarning)"
   ],
   "id": "e685d252e53c8907",
   "outputs": [],
   "execution_count": 30
  },
  {
   "metadata": {},
   "cell_type": "markdown",
   "source": "### Paths and folders",
   "id": "8b6fcec9b4b2fec2"
  },
  {
   "metadata": {
    "ExecuteTime": {
     "end_time": "2025-04-16T09:37:28.743391Z",
     "start_time": "2025-04-16T09:37:28.739478Z"
    }
   },
   "cell_type": "code",
   "source": [
    "# FC maps mean\n",
    "dir_FCmaps = './data/FCmaps_mean_temp/'\n",
    "dir_FCmaps3D_processed = '/Users/emmatosato/Documents/PhD/ANM_Verona/data/FCmaps3D_processed'\n",
    "harvard_oxford_mask = './data_utils/mask_GM.nii'\n",
    "atrophy_dataset_matches = './data_utils/atrophy_matched.xlsx'\n",
    "labels_csv = '/Users/emmatosato/Documents/PhD/ANM_Verona/data_utils'"
   ],
   "id": "c6f2415abd969dfe",
   "outputs": [],
   "execution_count": 31
  },
  {
   "metadata": {
    "ExecuteTime": {
     "end_time": "2025-04-16T09:37:30.154085Z",
     "start_time": "2025-04-16T09:37:30.150423Z"
    }
   },
   "cell_type": "code",
   "source": [
    "# Create output directory if it doesn't exist\n",
    "os.makedirs(dir_FCmaps3D_processed, exist_ok=True)"
   ],
   "id": "40cb1d605a32d8e6",
   "outputs": [],
   "execution_count": 32
  },
  {
   "metadata": {},
   "cell_type": "markdown",
   "source": "### Functions",
   "id": "4c0f853779e1ddb2"
  },
  {
   "metadata": {
    "ExecuteTime": {
     "end_time": "2025-04-15T08:37:25.319650Z",
     "start_time": "2025-04-15T08:37:25.316117Z"
    }
   },
   "cell_type": "code",
   "source": [
    "def evaluate_metrics(y_true, y_pred):\n",
    "    \"\"\"\n",
    "    Calculate the evaluation metrics: MSE, RMSE, MAE, and R².\n",
    "    \"\"\"\n",
    "    mse = mean_squared_error(y_true, y_pred)\n",
    "    rmse = np.sqrt(mse)\n",
    "    mae = mean_absolute_error(y_true, y_pred)\n",
    "    r2 = r2_score(y_true, y_pred)\n",
    "\n",
    "    return {\n",
    "        'MSE': mse,\n",
    "        'RMSE': rmse,\n",
    "        'MAE': mae,\n",
    "        'R²': r2\n",
    "    }"
   ],
   "id": "70b4ed2d1a293b3a",
   "outputs": [],
   "execution_count": 5
  },
  {
   "metadata": {},
   "cell_type": "markdown",
   "source": "# Data",
   "id": "615a9598c6cde30a"
  },
  {
   "metadata": {},
   "cell_type": "markdown",
   "source": "### Load data",
   "id": "b07e011ae14fd1e4"
  },
  {
   "metadata": {},
   "cell_type": "markdown",
   "source": "#### Functional Connectivity maps",
   "id": "7866e4ebf41ab03a"
  },
  {
   "metadata": {},
   "cell_type": "markdown",
   "source": "Load the FC maps data in nii.gz format and extract the subjects identifiers",
   "id": "2f6f81242949afb8"
  },
  {
   "metadata": {
    "ExecuteTime": {
     "end_time": "2025-04-15T08:37:29.070189Z",
     "start_time": "2025-04-15T08:37:29.062613Z"
    }
   },
   "cell_type": "code",
   "source": [
    "# Path to the directory containing FC maps\n",
    "path_dir = os.path.join(dir_FCmaps, '*gz')\n",
    "\n",
    "# Collects all file paths and sort\n",
    "## TODO: Check the sorting once we have the data\n",
    "files=glob.glob(path_dir)\n",
    "files.sort()\n",
    "\n",
    "# Extract Subject Identifiers\n",
    "sub_id = [sub.replace(dir_FCmaps, '') for sub in files]\n",
    "sub_id = [sub.replace('.FDC.nii.gz', '') for sub in sub_id]\n",
    "\n",
    "# Create DataFrame from processed subject IDs (See later)\n",
    "df_ids = pd.DataFrame({'ID': sub_id})"
   ],
   "id": "e341a71b457ed198",
   "outputs": [],
   "execution_count": 6
  },
  {
   "metadata": {},
   "cell_type": "markdown",
   "source": "One file example",
   "id": "9a28656fcc9a7e06"
  },
  {
   "metadata": {
    "ExecuteTime": {
     "end_time": "2025-04-11T16:07:08.271818Z",
     "start_time": "2025-04-11T16:07:08.252408Z"
    }
   },
   "cell_type": "code",
   "source": [
    "path_temp = os.join(dir_FCmaps, '1_S_5005.FDC.nii.gz')\n",
    "temp = nib.load(path_temp).get_fdata()"
   ],
   "id": "8e283b2e214f7d80",
   "outputs": [],
   "execution_count": 101
  },
  {
   "metadata": {
    "ExecuteTime": {
     "end_time": "2025-04-11T16:07:10.674202Z",
     "start_time": "2025-04-11T16:07:10.670390Z"
    }
   },
   "cell_type": "code",
   "source": "temp.shape",
   "id": "cb5492d27b44160a",
   "outputs": [
    {
     "data": {
      "text/plain": [
       "(91, 109, 91)"
      ]
     },
     "execution_count": 102,
     "metadata": {},
     "output_type": "execute_result"
    }
   ],
   "execution_count": 102
  },
  {
   "metadata": {},
   "cell_type": "markdown",
   "source": "Flatten and store each subject’s data (the FC maps)",
   "id": "20eda22f9870a6a5"
  },
  {
   "metadata": {
    "ExecuteTime": {
     "end_time": "2025-04-11T16:07:22.726025Z",
     "start_time": "2025-04-11T16:07:10.978240Z"
    }
   },
   "cell_type": "code",
   "source": [
    "# Empty list to hold flattened brain maps\n",
    "maps_FDC=[]\n",
    "\n",
    "# Loop over files and add the brain maps\n",
    "for x in range(len(files)):\n",
    "    print(files[x])\n",
    "    d=nib.load(files[x]).get_fdata().flatten()\n",
    "    maps_FDC.append(d)\n",
    "\n",
    "# Saving affine transformation matrix\n",
    "aff = nib.load(files[0]).affine\n",
    "\n",
    "# Create dataframe: stores subjects as rows and voxels as columns\n",
    "df=pd.DataFrame(maps_FDC)"
   ],
   "id": "361ac4401554a8a2",
   "outputs": [
    {
     "name": "stdout",
     "output_type": "stream",
     "text": [
      "./data/FCmaps_mean/002_S_4654.FDC.nii.gz\n",
      "./data/FCmaps_mean/002_S_6695.FDC.nii.gz\n",
      "./data/FCmaps_mean/003_S_6264.FDC.nii.gz\n",
      "./data/FCmaps_mean/003_S_6268.FDC.nii.gz\n",
      "./data/FCmaps_mean/003_S_6432.FDC.nii.gz\n",
      "./data/FCmaps_mean/003_S_6479.FDC.nii.gz\n",
      "./data/FCmaps_mean/003_S_6606.FDC.nii.gz\n",
      "./data/FCmaps_mean/006_S_6252.FDC.nii.gz\n",
      "./data/FCmaps_mean/006_S_6682.FDC.nii.gz\n",
      "./data/FCmaps_mean/007_S_6341.FDC.nii.gz\n",
      "./data/FCmaps_mean/011_S_4893.FDC.nii.gz\n",
      "./data/FCmaps_mean/011_S_6303.FDC.nii.gz\n",
      "./data/FCmaps_mean/012_S_4188.FDC.nii.gz\n",
      "./data/FCmaps_mean/016_S_4902.FDC.nii.gz\n",
      "./data/FCmaps_mean/016_S_6708.FDC.nii.gz\n",
      "./data/FCmaps_mean/016_S_6839.FDC.nii.gz\n",
      "./data/FCmaps_mean/018_S_2155.FDC.nii.gz\n",
      "./data/FCmaps_mean/019_S_6483.FDC.nii.gz\n",
      "./data/FCmaps_mean/019_S_6668.FDC.nii.gz\n",
      "./data/FCmaps_mean/021_S_0626.FDC.nii.gz\n",
      "./data/FCmaps_mean/021_S_5237.FDC.nii.gz\n",
      "./data/FCmaps_mean/021_S_6312.FDC.nii.gz\n",
      "./data/FCmaps_mean/027_S_6965.FDC.nii.gz\n",
      "./data/FCmaps_mean/032_S_6600.FDC.nii.gz\n",
      "./data/FCmaps_mean/032_S_6602.FDC.nii.gz\n",
      "./data/FCmaps_mean/032_S_6700.FDC.nii.gz\n",
      "./data/FCmaps_mean/035_S_4114.FDC.nii.gz\n",
      "./data/FCmaps_mean/035_S_6927.FDC.nii.gz\n",
      "./data/FCmaps_mean/036_S_4430.FDC.nii.gz\n",
      "./data/FCmaps_mean/036_S_4538.FDC.nii.gz\n",
      "./data/FCmaps_mean/073_S_6673.FDC.nii.gz\n",
      "./data/FCmaps_mean/098_S_6601.FDC.nii.gz\n",
      "./data/FCmaps_mean/098_S_6655.FDC.nii.gz\n",
      "./data/FCmaps_mean/098_S_6658.FDC.nii.gz\n",
      "./data/FCmaps_mean/099_S_6632.FDC.nii.gz\n",
      "./data/FCmaps_mean/099_S_6691.FDC.nii.gz\n",
      "./data/FCmaps_mean/114_S_6039.FDC.nii.gz\n",
      "./data/FCmaps_mean/130_S_4294.FDC.nii.gz\n",
      "./data/FCmaps_mean/130_S_4415.FDC.nii.gz\n",
      "./data/FCmaps_mean/130_S_6072.FDC.nii.gz\n",
      "./data/FCmaps_mean/131_S_7032.FDC.nii.gz\n",
      "./data/FCmaps_mean/135_S_6545.FDC.nii.gz\n",
      "./data/FCmaps_mean/137_S_4862.FDC.nii.gz\n",
      "./data/FCmaps_mean/141_S_2333.FDC.nii.gz\n",
      "./data/FCmaps_mean/1_S_5005.FDC.nii.gz\n",
      "./data/FCmaps_mean/1_S_5006.FDC.nii.gz\n",
      "./data/FCmaps_mean/1_S_5007.FDC.nii.gz\n",
      "./data/FCmaps_mean/1_S_5008.FDC.nii.gz\n",
      "./data/FCmaps_mean/1_S_5009.FDC.nii.gz\n",
      "./data/FCmaps_mean/1_S_5010.FDC.nii.gz\n",
      "./data/FCmaps_mean/1_S_5011.FDC.nii.gz\n"
     ]
    }
   ],
   "execution_count": 103
  },
  {
   "metadata": {
    "ExecuteTime": {
     "end_time": "2025-04-11T16:07:22.732443Z",
     "start_time": "2025-04-11T16:07:22.729691Z"
    }
   },
   "cell_type": "code",
   "source": "df.shape",
   "id": "c3c596a5995501f9",
   "outputs": [
    {
     "data": {
      "text/plain": [
       "(51, 902629)"
      ]
     },
     "execution_count": 104,
     "metadata": {},
     "output_type": "execute_result"
    }
   ],
   "execution_count": 104
  },
  {
   "metadata": {},
   "cell_type": "markdown",
   "source": "#### Metadata",
   "id": "7fcbe02d65c6800"
  },
  {
   "metadata": {},
   "cell_type": "markdown",
   "source": [
    "Dataset containing:\n",
    "- ID of the subject\n",
    "- The diagnosis (Group)\n",
    "- Sex\n",
    "- Age\n",
    "- Education\n",
    "\n",
    "The regressors:\n",
    "- CDR_SB: disease gravity with a larger range\n",
    "- CDR: same but smaller range"
   ],
   "id": "5059a630e74506b7"
  },
  {
   "metadata": {
    "ExecuteTime": {
     "end_time": "2025-04-16T09:38:17.255428Z",
     "start_time": "2025-04-16T09:38:16.767390Z"
    }
   },
   "cell_type": "code",
   "source": [
    "df_xlsx = pd.read_excel(atrophy_dataset_matches, sheet_name='dataset')\n",
    "df_xlsx['Age'] = df_xlsx['Age'].round(1)"
   ],
   "id": "a2cdb94ee2c6ab0d",
   "outputs": [],
   "execution_count": 35
  },
  {
   "metadata": {
    "ExecuteTime": {
     "end_time": "2025-04-16T09:38:24.388506Z",
     "start_time": "2025-04-16T09:38:24.383144Z"
    }
   },
   "cell_type": "code",
   "source": "df_xlsx.head(5)",
   "id": "4c8d2675a9fbfe",
   "outputs": [
    {
     "data": {
      "text/plain": [
       "         ID Group Sex   Age  Education  CDR_SB  CDR\n",
       "0  1_S_5000   CBS   M  70.0         16     5.0  1.0\n",
       "1  1_S_5001   CBS   F  65.0         16    15.0  3.0\n",
       "2  1_S_5003   PSP   F  86.0         18     1.0  0.5\n",
       "3  1_S_5004   PSP   F  67.0         14     1.5  0.5\n",
       "4  1_S_5005   PSP   F  67.0         20     0.0  0.0"
      ],
      "text/html": [
       "<div>\n",
       "<style scoped>\n",
       "    .dataframe tbody tr th:only-of-type {\n",
       "        vertical-align: middle;\n",
       "    }\n",
       "\n",
       "    .dataframe tbody tr th {\n",
       "        vertical-align: top;\n",
       "    }\n",
       "\n",
       "    .dataframe thead th {\n",
       "        text-align: right;\n",
       "    }\n",
       "</style>\n",
       "<table border=\"1\" class=\"dataframe\">\n",
       "  <thead>\n",
       "    <tr style=\"text-align: right;\">\n",
       "      <th></th>\n",
       "      <th>ID</th>\n",
       "      <th>Group</th>\n",
       "      <th>Sex</th>\n",
       "      <th>Age</th>\n",
       "      <th>Education</th>\n",
       "      <th>CDR_SB</th>\n",
       "      <th>CDR</th>\n",
       "    </tr>\n",
       "  </thead>\n",
       "  <tbody>\n",
       "    <tr>\n",
       "      <th>0</th>\n",
       "      <td>1_S_5000</td>\n",
       "      <td>CBS</td>\n",
       "      <td>M</td>\n",
       "      <td>70.0</td>\n",
       "      <td>16</td>\n",
       "      <td>5.0</td>\n",
       "      <td>1.0</td>\n",
       "    </tr>\n",
       "    <tr>\n",
       "      <th>1</th>\n",
       "      <td>1_S_5001</td>\n",
       "      <td>CBS</td>\n",
       "      <td>F</td>\n",
       "      <td>65.0</td>\n",
       "      <td>16</td>\n",
       "      <td>15.0</td>\n",
       "      <td>3.0</td>\n",
       "    </tr>\n",
       "    <tr>\n",
       "      <th>2</th>\n",
       "      <td>1_S_5003</td>\n",
       "      <td>PSP</td>\n",
       "      <td>F</td>\n",
       "      <td>86.0</td>\n",
       "      <td>18</td>\n",
       "      <td>1.0</td>\n",
       "      <td>0.5</td>\n",
       "    </tr>\n",
       "    <tr>\n",
       "      <th>3</th>\n",
       "      <td>1_S_5004</td>\n",
       "      <td>PSP</td>\n",
       "      <td>F</td>\n",
       "      <td>67.0</td>\n",
       "      <td>14</td>\n",
       "      <td>1.5</td>\n",
       "      <td>0.5</td>\n",
       "    </tr>\n",
       "    <tr>\n",
       "      <th>4</th>\n",
       "      <td>1_S_5005</td>\n",
       "      <td>PSP</td>\n",
       "      <td>F</td>\n",
       "      <td>67.0</td>\n",
       "      <td>20</td>\n",
       "      <td>0.0</td>\n",
       "      <td>0.0</td>\n",
       "    </tr>\n",
       "  </tbody>\n",
       "</table>\n",
       "</div>"
      ]
     },
     "execution_count": 38,
     "metadata": {},
     "output_type": "execute_result"
    }
   ],
   "execution_count": 38
  },
  {
   "metadata": {},
   "cell_type": "markdown",
   "source": "Creating a new CSV with the labels columns we need for the various analysis and the right order",
   "id": "768f36a8c9369558"
  },
  {
   "metadata": {
    "ExecuteTime": {
     "end_time": "2025-04-11T16:07:25.199355Z",
     "start_time": "2025-04-11T16:07:25.193885Z"
    }
   },
   "cell_type": "code",
   "source": "df_labels = pd.merge(df_ids, df_xlsx[['ID', 'Group', 'CDR', 'CDR_SB']], on='ID', how='left')",
   "id": "7f3501cdf88c3166",
   "outputs": [],
   "execution_count": 107
  },
  {
   "metadata": {
    "ExecuteTime": {
     "end_time": "2025-04-11T16:07:25.656684Z",
     "start_time": "2025-04-11T16:07:25.652515Z"
    }
   },
   "cell_type": "code",
   "source": "df_labels.to_csv(os.path.join(dir_FCmaps3D_processed, labels_csv), index=False)",
   "id": "1f9d4b4b69b3142b",
   "outputs": [],
   "execution_count": 108
  },
  {
   "metadata": {},
   "cell_type": "markdown",
   "source": "### Preprocessing",
   "id": "4c12c2b07428273d"
  },
  {
   "metadata": {},
   "cell_type": "markdown",
   "source": "#### Thresholding",
   "id": "910d3dab9e84fe94"
  },
  {
   "metadata": {},
   "cell_type": "markdown",
   "source": [
    "Set a threshold for values below 0.2 for defining correlation\n",
    "\n",
    "N.B: the df containing the FD maps will be copied here and the modified without additional copies"
   ],
   "id": "fc66b2a7478ac41e"
  },
  {
   "metadata": {
    "ExecuteTime": {
     "end_time": "2025-04-11T16:07:28.615381Z",
     "start_time": "2025-04-11T16:07:27.191723Z"
    }
   },
   "cell_type": "code",
   "source": [
    "df_thr = df.copy()\n",
    "\n",
    "# Threshold: set all values < 0.2 to 0\n",
    "df_thr[df_thr < 0.2] = 0"
   ],
   "id": "dd011c7e7602784d",
   "outputs": [],
   "execution_count": 109
  },
  {
   "metadata": {
    "ExecuteTime": {
     "end_time": "2025-04-11T16:07:28.627824Z",
     "start_time": "2025-04-11T16:07:28.620459Z"
    }
   },
   "cell_type": "code",
   "source": "df_thr.iloc[:5,:10]",
   "id": "f61b29bdf390f024",
   "outputs": [
    {
     "data": {
      "text/plain": [
       "     0    1    2    3    4    5    6    7    8    9\n",
       "0  0.0  0.0  0.0  0.0  0.0  0.0  0.0  0.0  0.0  0.0\n",
       "1  0.0  0.0  0.0  0.0  0.0  0.0  0.0  0.0  0.0  0.0\n",
       "2  0.0  0.0  0.0  0.0  0.0  0.0  0.0  0.0  0.0  0.0\n",
       "3  0.0  0.0  0.0  0.0  0.0  0.0  0.0  0.0  0.0  0.0\n",
       "4  0.0  0.0  0.0  0.0  0.0  0.0  0.0  0.0  0.0  0.0"
      ],
      "text/html": [
       "<div>\n",
       "<style scoped>\n",
       "    .dataframe tbody tr th:only-of-type {\n",
       "        vertical-align: middle;\n",
       "    }\n",
       "\n",
       "    .dataframe tbody tr th {\n",
       "        vertical-align: top;\n",
       "    }\n",
       "\n",
       "    .dataframe thead th {\n",
       "        text-align: right;\n",
       "    }\n",
       "</style>\n",
       "<table border=\"1\" class=\"dataframe\">\n",
       "  <thead>\n",
       "    <tr style=\"text-align: right;\">\n",
       "      <th></th>\n",
       "      <th>0</th>\n",
       "      <th>1</th>\n",
       "      <th>2</th>\n",
       "      <th>3</th>\n",
       "      <th>4</th>\n",
       "      <th>5</th>\n",
       "      <th>6</th>\n",
       "      <th>7</th>\n",
       "      <th>8</th>\n",
       "      <th>9</th>\n",
       "    </tr>\n",
       "  </thead>\n",
       "  <tbody>\n",
       "    <tr>\n",
       "      <th>0</th>\n",
       "      <td>0.0</td>\n",
       "      <td>0.0</td>\n",
       "      <td>0.0</td>\n",
       "      <td>0.0</td>\n",
       "      <td>0.0</td>\n",
       "      <td>0.0</td>\n",
       "      <td>0.0</td>\n",
       "      <td>0.0</td>\n",
       "      <td>0.0</td>\n",
       "      <td>0.0</td>\n",
       "    </tr>\n",
       "    <tr>\n",
       "      <th>1</th>\n",
       "      <td>0.0</td>\n",
       "      <td>0.0</td>\n",
       "      <td>0.0</td>\n",
       "      <td>0.0</td>\n",
       "      <td>0.0</td>\n",
       "      <td>0.0</td>\n",
       "      <td>0.0</td>\n",
       "      <td>0.0</td>\n",
       "      <td>0.0</td>\n",
       "      <td>0.0</td>\n",
       "    </tr>\n",
       "    <tr>\n",
       "      <th>2</th>\n",
       "      <td>0.0</td>\n",
       "      <td>0.0</td>\n",
       "      <td>0.0</td>\n",
       "      <td>0.0</td>\n",
       "      <td>0.0</td>\n",
       "      <td>0.0</td>\n",
       "      <td>0.0</td>\n",
       "      <td>0.0</td>\n",
       "      <td>0.0</td>\n",
       "      <td>0.0</td>\n",
       "    </tr>\n",
       "    <tr>\n",
       "      <th>3</th>\n",
       "      <td>0.0</td>\n",
       "      <td>0.0</td>\n",
       "      <td>0.0</td>\n",
       "      <td>0.0</td>\n",
       "      <td>0.0</td>\n",
       "      <td>0.0</td>\n",
       "      <td>0.0</td>\n",
       "      <td>0.0</td>\n",
       "      <td>0.0</td>\n",
       "      <td>0.0</td>\n",
       "    </tr>\n",
       "    <tr>\n",
       "      <th>4</th>\n",
       "      <td>0.0</td>\n",
       "      <td>0.0</td>\n",
       "      <td>0.0</td>\n",
       "      <td>0.0</td>\n",
       "      <td>0.0</td>\n",
       "      <td>0.0</td>\n",
       "      <td>0.0</td>\n",
       "      <td>0.0</td>\n",
       "      <td>0.0</td>\n",
       "      <td>0.0</td>\n",
       "    </tr>\n",
       "  </tbody>\n",
       "</table>\n",
       "</div>"
      ]
     },
     "execution_count": 110,
     "metadata": {},
     "output_type": "execute_result"
    }
   ],
   "execution_count": 110
  },
  {
   "metadata": {
    "ExecuteTime": {
     "end_time": "2025-04-11T16:07:29.925712Z",
     "start_time": "2025-04-11T16:07:29.922615Z"
    }
   },
   "cell_type": "code",
   "source": "df_thr.shape",
   "id": "b5df2c80d3e752be",
   "outputs": [
    {
     "data": {
      "text/plain": [
       "(51, 902629)"
      ]
     },
     "execution_count": 111,
     "metadata": {},
     "output_type": "execute_result"
    }
   ],
   "execution_count": 111
  },
  {
   "metadata": {},
   "cell_type": "markdown",
   "source": "#### GM Mask",
   "id": "f81280d70543524c"
  },
  {
   "metadata": {},
   "cell_type": "markdown",
   "source": [
    "- Binary mask of grey matter using the Harvard-Oxford Atlas\n",
    "\n",
    "- Keeping the Gray Matter voxels"
   ],
   "id": "ac634cb3c5710ee9"
  },
  {
   "metadata": {
    "ExecuteTime": {
     "end_time": "2025-04-11T16:07:38.888199Z",
     "start_time": "2025-04-11T16:07:38.869314Z"
    }
   },
   "cell_type": "code",
   "source": [
    "# Load GM mask and flatten\n",
    "mask= nib.load(harvard_oxford_mask).get_fdata().flatten()\n",
    "\n",
    "# Ensure lengths match\n",
    "assert len(mask) == df_thr.shape[1], \"Mask and number of columns do not match\"\n",
    "\n",
    "# Mask\n",
    "df_thr_masked = df_thr.loc[:, mask != 0]\n",
    "\n",
    "# Re-index for clarity\n",
    "df_thr_masked.columns = range(df_thr_masked.shape[1])"
   ],
   "id": "12e89e56890e2e5a",
   "outputs": [],
   "execution_count": 116
  },
  {
   "metadata": {
    "ExecuteTime": {
     "end_time": "2025-04-11T16:07:39.835685Z",
     "start_time": "2025-04-11T16:07:39.832978Z"
    }
   },
   "cell_type": "code",
   "source": "df_thr_masked.shape",
   "id": "a1cf4dfa092b448f",
   "outputs": [
    {
     "data": {
      "text/plain": [
       "(51, 55004)"
      ]
     },
     "execution_count": 118,
     "metadata": {},
     "output_type": "execute_result"
    }
   ],
   "execution_count": 118
  },
  {
   "metadata": {
    "ExecuteTime": {
     "end_time": "2025-04-11T16:07:40.469042Z",
     "start_time": "2025-04-11T16:07:40.461715Z"
    }
   },
   "cell_type": "code",
   "source": "df_thr_masked.iloc[:5,:5]",
   "id": "bf1a15c34d77b177",
   "outputs": [
    {
     "data": {
      "text/plain": [
       "     0    1    2    3    4\n",
       "0  0.0  0.0  0.0  0.0  0.0\n",
       "1  0.0  0.0  0.0  0.0  0.0\n",
       "2  0.0  0.0  0.0  0.0  0.0\n",
       "3  0.0  0.0  0.0  0.0  0.0\n",
       "4  0.0  0.0  0.0  0.0  0.0"
      ],
      "text/html": [
       "<div>\n",
       "<style scoped>\n",
       "    .dataframe tbody tr th:only-of-type {\n",
       "        vertical-align: middle;\n",
       "    }\n",
       "\n",
       "    .dataframe tbody tr th {\n",
       "        vertical-align: top;\n",
       "    }\n",
       "\n",
       "    .dataframe thead th {\n",
       "        text-align: right;\n",
       "    }\n",
       "</style>\n",
       "<table border=\"1\" class=\"dataframe\">\n",
       "  <thead>\n",
       "    <tr style=\"text-align: right;\">\n",
       "      <th></th>\n",
       "      <th>0</th>\n",
       "      <th>1</th>\n",
       "      <th>2</th>\n",
       "      <th>3</th>\n",
       "      <th>4</th>\n",
       "    </tr>\n",
       "  </thead>\n",
       "  <tbody>\n",
       "    <tr>\n",
       "      <th>0</th>\n",
       "      <td>0.0</td>\n",
       "      <td>0.0</td>\n",
       "      <td>0.0</td>\n",
       "      <td>0.0</td>\n",
       "      <td>0.0</td>\n",
       "    </tr>\n",
       "    <tr>\n",
       "      <th>1</th>\n",
       "      <td>0.0</td>\n",
       "      <td>0.0</td>\n",
       "      <td>0.0</td>\n",
       "      <td>0.0</td>\n",
       "      <td>0.0</td>\n",
       "    </tr>\n",
       "    <tr>\n",
       "      <th>2</th>\n",
       "      <td>0.0</td>\n",
       "      <td>0.0</td>\n",
       "      <td>0.0</td>\n",
       "      <td>0.0</td>\n",
       "      <td>0.0</td>\n",
       "    </tr>\n",
       "    <tr>\n",
       "      <th>3</th>\n",
       "      <td>0.0</td>\n",
       "      <td>0.0</td>\n",
       "      <td>0.0</td>\n",
       "      <td>0.0</td>\n",
       "      <td>0.0</td>\n",
       "    </tr>\n",
       "    <tr>\n",
       "      <th>4</th>\n",
       "      <td>0.0</td>\n",
       "      <td>0.0</td>\n",
       "      <td>0.0</td>\n",
       "      <td>0.0</td>\n",
       "      <td>0.0</td>\n",
       "    </tr>\n",
       "  </tbody>\n",
       "</table>\n",
       "</div>"
      ]
     },
     "execution_count": 119,
     "metadata": {},
     "output_type": "execute_result"
    }
   ],
   "execution_count": 119
  },
  {
   "metadata": {},
   "cell_type": "markdown",
   "source": "#### Add Labels and Identifiers",
   "id": "3a78eaba8b7c991f"
  },
  {
   "metadata": {
    "ExecuteTime": {
     "end_time": "2025-04-11T16:18:25.267804Z",
     "start_time": "2025-04-11T16:18:25.251681Z"
    }
   },
   "cell_type": "code",
   "source": [
    "# Merge labels into subject IDs\n",
    "df_temp = pd.merge(df_ids, df_labels, on='ID', how='left')\n",
    "\n",
    "# Concatenate with the data\n",
    "df_merged = pd.concat([df_temp, df_thr_masked.drop(columns='ID')], axis=1)"
   ],
   "id": "917ac8d8510495fc",
   "outputs": [],
   "execution_count": 129
  },
  {
   "metadata": {
    "ExecuteTime": {
     "end_time": "2025-04-11T16:18:29.149535Z",
     "start_time": "2025-04-11T16:18:29.132874Z"
    }
   },
   "cell_type": "code",
   "source": "df_merged.head(5)",
   "id": "f3bd1c0debfa54b7",
   "outputs": [
    {
     "data": {
      "text/plain": [
       "           ID Group  CDR  CDR_SB    0    1    2    3    4    5  ...     54994  \\\n",
       "0  002_S_4654  ADNI  0.5     1.5  0.0  0.0  0.0  0.0  0.0  0.0  ...  0.000000   \n",
       "1  002_S_6695  ADNI  0.5     4.5  0.0  0.0  0.0  0.0  0.0  0.0  ...  0.217471   \n",
       "2  003_S_6264  ADNI  0.5     2.5  0.0  0.0  0.0  0.0  0.0  0.0  ...  0.000000   \n",
       "3  003_S_6268  ADNI  0.5     0.5  0.0  0.0  0.0  0.0  0.0  0.0  ...  0.000000   \n",
       "4  003_S_6432  ADNI  0.5     0.5  0.0  0.0  0.0  0.0  0.0  0.0  ...  0.000000   \n",
       "\n",
       "   54995  54996  54997  54998     54999     55000     55001  55002     55003  \n",
       "0    0.0    0.0    0.0    0.0  0.000000  0.000000  0.000000    0.0  0.000000  \n",
       "1    0.0    0.0    0.0    0.0  0.203301  0.227984  0.219296    0.0  0.210275  \n",
       "2    0.0    0.0    0.0    0.0  0.000000  0.000000  0.000000    0.0  0.000000  \n",
       "3    0.0    0.0    0.0    0.0  0.000000  0.000000  0.000000    0.0  0.000000  \n",
       "4    0.0    0.0    0.0    0.0  0.000000  0.000000  0.000000    0.0  0.000000  \n",
       "\n",
       "[5 rows x 55008 columns]"
      ],
      "text/html": [
       "<div>\n",
       "<style scoped>\n",
       "    .dataframe tbody tr th:only-of-type {\n",
       "        vertical-align: middle;\n",
       "    }\n",
       "\n",
       "    .dataframe tbody tr th {\n",
       "        vertical-align: top;\n",
       "    }\n",
       "\n",
       "    .dataframe thead th {\n",
       "        text-align: right;\n",
       "    }\n",
       "</style>\n",
       "<table border=\"1\" class=\"dataframe\">\n",
       "  <thead>\n",
       "    <tr style=\"text-align: right;\">\n",
       "      <th></th>\n",
       "      <th>ID</th>\n",
       "      <th>Group</th>\n",
       "      <th>CDR</th>\n",
       "      <th>CDR_SB</th>\n",
       "      <th>0</th>\n",
       "      <th>1</th>\n",
       "      <th>2</th>\n",
       "      <th>3</th>\n",
       "      <th>4</th>\n",
       "      <th>5</th>\n",
       "      <th>...</th>\n",
       "      <th>54994</th>\n",
       "      <th>54995</th>\n",
       "      <th>54996</th>\n",
       "      <th>54997</th>\n",
       "      <th>54998</th>\n",
       "      <th>54999</th>\n",
       "      <th>55000</th>\n",
       "      <th>55001</th>\n",
       "      <th>55002</th>\n",
       "      <th>55003</th>\n",
       "    </tr>\n",
       "  </thead>\n",
       "  <tbody>\n",
       "    <tr>\n",
       "      <th>0</th>\n",
       "      <td>002_S_4654</td>\n",
       "      <td>ADNI</td>\n",
       "      <td>0.5</td>\n",
       "      <td>1.5</td>\n",
       "      <td>0.0</td>\n",
       "      <td>0.0</td>\n",
       "      <td>0.0</td>\n",
       "      <td>0.0</td>\n",
       "      <td>0.0</td>\n",
       "      <td>0.0</td>\n",
       "      <td>...</td>\n",
       "      <td>0.000000</td>\n",
       "      <td>0.0</td>\n",
       "      <td>0.0</td>\n",
       "      <td>0.0</td>\n",
       "      <td>0.0</td>\n",
       "      <td>0.000000</td>\n",
       "      <td>0.000000</td>\n",
       "      <td>0.000000</td>\n",
       "      <td>0.0</td>\n",
       "      <td>0.000000</td>\n",
       "    </tr>\n",
       "    <tr>\n",
       "      <th>1</th>\n",
       "      <td>002_S_6695</td>\n",
       "      <td>ADNI</td>\n",
       "      <td>0.5</td>\n",
       "      <td>4.5</td>\n",
       "      <td>0.0</td>\n",
       "      <td>0.0</td>\n",
       "      <td>0.0</td>\n",
       "      <td>0.0</td>\n",
       "      <td>0.0</td>\n",
       "      <td>0.0</td>\n",
       "      <td>...</td>\n",
       "      <td>0.217471</td>\n",
       "      <td>0.0</td>\n",
       "      <td>0.0</td>\n",
       "      <td>0.0</td>\n",
       "      <td>0.0</td>\n",
       "      <td>0.203301</td>\n",
       "      <td>0.227984</td>\n",
       "      <td>0.219296</td>\n",
       "      <td>0.0</td>\n",
       "      <td>0.210275</td>\n",
       "    </tr>\n",
       "    <tr>\n",
       "      <th>2</th>\n",
       "      <td>003_S_6264</td>\n",
       "      <td>ADNI</td>\n",
       "      <td>0.5</td>\n",
       "      <td>2.5</td>\n",
       "      <td>0.0</td>\n",
       "      <td>0.0</td>\n",
       "      <td>0.0</td>\n",
       "      <td>0.0</td>\n",
       "      <td>0.0</td>\n",
       "      <td>0.0</td>\n",
       "      <td>...</td>\n",
       "      <td>0.000000</td>\n",
       "      <td>0.0</td>\n",
       "      <td>0.0</td>\n",
       "      <td>0.0</td>\n",
       "      <td>0.0</td>\n",
       "      <td>0.000000</td>\n",
       "      <td>0.000000</td>\n",
       "      <td>0.000000</td>\n",
       "      <td>0.0</td>\n",
       "      <td>0.000000</td>\n",
       "    </tr>\n",
       "    <tr>\n",
       "      <th>3</th>\n",
       "      <td>003_S_6268</td>\n",
       "      <td>ADNI</td>\n",
       "      <td>0.5</td>\n",
       "      <td>0.5</td>\n",
       "      <td>0.0</td>\n",
       "      <td>0.0</td>\n",
       "      <td>0.0</td>\n",
       "      <td>0.0</td>\n",
       "      <td>0.0</td>\n",
       "      <td>0.0</td>\n",
       "      <td>...</td>\n",
       "      <td>0.000000</td>\n",
       "      <td>0.0</td>\n",
       "      <td>0.0</td>\n",
       "      <td>0.0</td>\n",
       "      <td>0.0</td>\n",
       "      <td>0.000000</td>\n",
       "      <td>0.000000</td>\n",
       "      <td>0.000000</td>\n",
       "      <td>0.0</td>\n",
       "      <td>0.000000</td>\n",
       "    </tr>\n",
       "    <tr>\n",
       "      <th>4</th>\n",
       "      <td>003_S_6432</td>\n",
       "      <td>ADNI</td>\n",
       "      <td>0.5</td>\n",
       "      <td>0.5</td>\n",
       "      <td>0.0</td>\n",
       "      <td>0.0</td>\n",
       "      <td>0.0</td>\n",
       "      <td>0.0</td>\n",
       "      <td>0.0</td>\n",
       "      <td>0.0</td>\n",
       "      <td>...</td>\n",
       "      <td>0.000000</td>\n",
       "      <td>0.0</td>\n",
       "      <td>0.0</td>\n",
       "      <td>0.0</td>\n",
       "      <td>0.0</td>\n",
       "      <td>0.000000</td>\n",
       "      <td>0.000000</td>\n",
       "      <td>0.000000</td>\n",
       "      <td>0.0</td>\n",
       "      <td>0.000000</td>\n",
       "    </tr>\n",
       "  </tbody>\n",
       "</table>\n",
       "<p>5 rows × 55008 columns</p>\n",
       "</div>"
      ]
     },
     "execution_count": 130,
     "metadata": {},
     "output_type": "execute_result"
    }
   ],
   "execution_count": 130
  },
  {
   "metadata": {},
   "cell_type": "markdown",
   "source": "# Analysis with UMAP",
   "id": "a1480a87240f9d06"
  },
  {
   "metadata": {},
   "cell_type": "markdown",
   "source": "### Input Data",
   "id": "a7fa052f5922cbc0"
  },
  {
   "metadata": {},
   "cell_type": "markdown",
   "source": "For the further analysis we will remove the ID labels columns, but the order is mantained",
   "id": "8e4b1cafb25c5349"
  },
  {
   "metadata": {
    "ExecuteTime": {
     "end_time": "2025-04-11T16:21:51.328497Z",
     "start_time": "2025-04-11T16:21:51.304877Z"
    }
   },
   "cell_type": "code",
   "outputs": [],
   "execution_count": 132,
   "source": [
    "# Features selection\n",
    "X = df_merged.copy()\n",
    "X = df_merged.drop(columns=['ID', 'Group', 'CDR', 'CDR_SB'])"
   ],
   "id": "c8414831602f9605"
  },
  {
   "metadata": {},
   "cell_type": "markdown",
   "source": "### Unsupervised Clustering",
   "id": "beedd560fdc25792"
  },
  {
   "metadata": {
    "ExecuteTime": {
     "end_time": "2025-04-11T10:34:27.284088Z",
     "start_time": "2025-04-11T10:34:27.281060Z"
    }
   },
   "cell_type": "code",
   "source": [
    "# Model intialization\n",
    "reducer = umap.UMAP(n_neighbors=15, n_components=2, metric='euclidean', n_epochs=1000, learning_rate=1.0, init='spectral', min_dist=0.1, spread=1.0, low_memory=False, set_op_mix_ratio=1.0, local_connectivity=1, repulsion_strength=1.0, negative_sample_rate=5, transform_queue_size=4.0, a=None, b=None, random_state=42, metric_kwds=None, angular_rp_forest=False, target_n_neighbors=-1, transform_seed=42, verbose=False, unique=False)"
   ],
   "id": "f0125b119839f9ff",
   "outputs": [],
   "execution_count": 22
  },
  {
   "metadata": {},
   "cell_type": "markdown",
   "source": "Reduction",
   "id": "c07b5ad24199f59d"
  },
  {
   "metadata": {
    "ExecuteTime": {
     "end_time": "2025-04-11T10:34:32.611433Z",
     "start_time": "2025-04-11T10:34:28.056762Z"
    }
   },
   "cell_type": "code",
   "source": "X_umap = reducer.fit_transform(X)",
   "id": "3e709176df2a03d9",
   "outputs": [
    {
     "name": "stderr",
     "output_type": "stream",
     "text": [
      "/opt/anaconda3/envs/neuro/lib/python3.10/site-packages/umap/umap_.py:1952: UserWarning: n_jobs value 1 overridden to 1 by setting random_state. Use no seed for parallelism.\n",
      "  warn(\n"
     ]
    }
   ],
   "execution_count": 23
  },
  {
   "metadata": {},
   "cell_type": "markdown",
   "source": "UMAP is not changing the order of the rows so each row correspond to the previous subject in the not reduced datasey.",
   "id": "f959e6c5aa18d570"
  },
  {
   "metadata": {
    "ExecuteTime": {
     "end_time": "2025-04-11T10:34:35.414710Z",
     "start_time": "2025-04-11T10:34:35.409071Z"
    }
   },
   "cell_type": "code",
   "source": "X_umap.shape",
   "id": "fa3fafec4f2822a9",
   "outputs": [
    {
     "data": {
      "text/plain": [
       "(51, 2)"
      ]
     },
     "execution_count": 24,
     "metadata": {},
     "output_type": "execute_result"
    }
   ],
   "execution_count": 24
  },
  {
   "metadata": {
    "ExecuteTime": {
     "end_time": "2025-04-11T10:34:36.255049Z",
     "start_time": "2025-04-11T10:34:36.092730Z"
    }
   },
   "cell_type": "code",
   "source": [
    "plt.figure(figsize=(8, 6))\n",
    "plt.scatter(X_umap[:, 0], X_umap[:, 1], s=10, alpha=0.6)\n",
    "plt.title(\"UMAP Embedding\")\n",
    "plt.xlabel(\"UMAP 1\")\n",
    "plt.ylabel(\"UMAP 2\")\n",
    "plt.grid(True)\n",
    "plt.show()"
   ],
   "id": "d88d6bfcb34a3ca6",
   "outputs": [
    {
     "data": {
      "text/plain": [
       "<Figure size 800x600 with 1 Axes>"
      ],
      "image/png": "[encoded data removed]"
     },
     "metadata": {},
     "output_type": "display_data"
    }
   ],
   "execution_count": 25
  },
  {
   "metadata": {},
   "cell_type": "markdown",
   "source": "Unsupervised clustering",
   "id": "6999d30254e79742"
  },
  {
   "metadata": {
    "ExecuteTime": {
     "end_time": "2025-04-11T10:35:38.919945Z",
     "start_time": "2025-04-11T10:35:38.791502Z"
    }
   },
   "cell_type": "code",
   "source": [
    "# HDBSCAN\n",
    "clusterer_hdb = hdbscan.HDBSCAN(min_cluster_size=5)\n",
    "labels_hdb = clusterer_hdb.fit_predict(X_umap)\n",
    "\n",
    "# DBSCAN\n",
    "clusterer_db = DBSCAN(eps=0.5, min_samples=5)\n",
    "labels_db = clusterer_db.fit_predict(X_umap)\n",
    "\n",
    "# K-Means\n",
    "kmeans = KMeans(n_clusters=3, random_state=42)\n",
    "labels_km = kmeans.fit_predict(X_umap)\n",
    "\n",
    "# GMM\n",
    "gmm = GaussianMixture(n_components=3, random_state=42)\n",
    "labels_gmm = gmm.fit_predict(X_umap)"
   ],
   "id": "a4fdabab57f24301",
   "outputs": [],
   "execution_count": 26
  },
  {
   "metadata": {},
   "cell_type": "markdown",
   "source": "#### Plotting",
   "id": "dc582c26488a08a2"
  },
  {
   "metadata": {
    "ExecuteTime": {
     "end_time": "2025-04-11T10:35:40.630866Z",
     "start_time": "2025-04-11T10:35:40.627491Z"
    }
   },
   "cell_type": "code",
   "source": [
    "# Dataframe for collecting data for the plotting\n",
    "labeling_umap = pd.DataFrame({\n",
    "    'labels_hdb': labels_hdb,  # HDBSCAN clusters\n",
    "    'labels_db': labels_db,    # DBSCAN clusters\n",
    "    'labels_km': labels_km,    # K-Means clusters\n",
    "    'labels_gmm': labels_gmm,  # GMM clusters\n",
    "    'X1': X_umap[:, 0],        # UMAP component 1\n",
    "    'X2': X_umap[:, 1],        # UMAP component 2\n",
    "    'group': df_merged['Group'],        # Diagnosis\n",
    "    'subject_id': df_merged['ID']       # Identifiers\n",
    "})"
   ],
   "id": "4d7f7916f5da90d9",
   "outputs": [],
   "execution_count": 27
  },
  {
   "metadata": {
    "ExecuteTime": {
     "end_time": "2025-04-11T10:35:43.406368Z",
     "start_time": "2025-04-11T10:35:42.654493Z"
    }
   },
   "cell_type": "code",
   "source": [
    "def plot_clusters_vs_groups(X_umap, labels_dict, group_column, figsize=(14, 20)):\n",
    "    n = len(labels_dict)\n",
    "    n_cols = 2\n",
    "    n_rows = n\n",
    "\n",
    "    # Create figure\n",
    "    fig, axes = plt.subplots(n_rows, n_cols, figsize=figsize)\n",
    "\n",
    "    # Build the subplot\n",
    "    for i, (title, labels) in enumerate(labels_dict.items()):\n",
    "        ax_left = axes[i, 0]\n",
    "        ax_right = axes[i, 1]\n",
    "\n",
    "        # Plot the left column: color-coded by cluster labels\n",
    "        plot_df_left = pd.DataFrame({\n",
    "            'X1': X_umap[:, 0],\n",
    "            'X2': X_umap[:, 1],\n",
    "            'cluster': labels,\n",
    "            'group': group_column\n",
    "        })\n",
    "\n",
    "        sns.scatterplot(data=plot_df_left, x='X1', y='X2', hue='cluster', palette='Set1', s=50, ax=ax_left, legend='full')\n",
    "        ax_left.set_title(f'{title} - Clustering')\n",
    "        ax_left.set_xlabel(\"UMAP 1\")\n",
    "        ax_left.set_ylabel(\"UMAP 2\")\n",
    "\n",
    "        # Plot the right column: color-coded by group labels\n",
    "        plot_df_right = pd.DataFrame({\n",
    "            'X1': X_umap[:, 0],\n",
    "            'X2': X_umap[:, 1],\n",
    "            'cluster': labels,\n",
    "            'group': group_column\n",
    "        })\n",
    "\n",
    "        sns.scatterplot(data=plot_df_right, x='X1', y='X2', hue='group', palette='Set2', s=50, ax=ax_right, legend='full')\n",
    "        ax_right.set_title(f'{title} - Group Labeling')\n",
    "        ax_right.set_xlabel(\"UMAP 1\")\n",
    "        ax_right.set_ylabel(\"UMAP 2\")\n",
    "\n",
    "    plt.tight_layout()\n",
    "    plt.show()\n",
    "\n",
    "# Dictionary of clustering results\n",
    "labels_dict = {\n",
    "    \"HDBSCAN\": labeling_umap['labels_hdb'],\n",
    "    \"DBSCAN\": labeling_umap['labels_db'],\n",
    "    \"K-Means\": labeling_umap['labels_km'],\n",
    "    \"GMM\": labeling_umap['labels_gmm']\n",
    "}\n",
    "\n",
    "# Plot with 4x2 subplots for each technique (left: clustering, right: group)\n",
    "plot_clusters_vs_groups(X_umap, labels_dict, labeling_umap['group'])"
   ],
   "id": "e4b2707198a3f44c",
   "outputs": [
    {
     "data": {
      "text/plain": [
       "<Figure size 1400x2000 with 8 Axes>"
      ],
      "image/png": "[encoded data removed]"
     },
     "metadata": {},
     "output_type": "display_data"
    }
   ],
   "execution_count": 28
  },
  {
   "metadata": {},
   "cell_type": "markdown",
   "source": "## Regression",
   "id": "259d883b1ae62cae"
  },
  {
   "metadata": {},
   "cell_type": "markdown",
   "source": "Target variable defined",
   "id": "756f12ab1b795e40"
  },
  {
   "metadata": {
    "ExecuteTime": {
     "end_time": "2025-04-11T10:36:05.665281Z",
     "start_time": "2025-04-11T10:36:05.600169Z"
    }
   },
   "cell_type": "code",
   "outputs": [],
   "execution_count": 29,
   "source": "y = df_merged['CDR_SB']",
   "id": "59322676927210fa"
  },
  {
   "metadata": {},
   "cell_type": "markdown",
   "source": "Reduction",
   "id": "1cd59621f6d4ae5c"
  },
  {
   "metadata": {
    "ExecuteTime": {
     "end_time": "2025-03-28T17:39:22.839941Z",
     "start_time": "2025-03-28T17:39:22.823188Z"
    }
   },
   "cell_type": "code",
   "source": "reducer = umap.UMAP(n_neighbors=15, n_components=2, metric='euclidean', n_epochs=1000, learning_rate=1.0, init='spectral', min_dist=0.1, spread=1.0, low_memory=False, set_op_mix_ratio=1.0, local_connectivity=1, repulsion_strength=1.0, negative_sample_rate=5, transform_queue_size=4.0, a=None, b=None, random_state=42, metric_kwds=None, angular_rp_forest=False, target_n_neighbors=-1, transform_seed=42, verbose=False, unique=False)",
   "id": "49ef0c4d876d6fe1",
   "outputs": [],
   "execution_count": 267
  },
  {
   "metadata": {
    "ExecuteTime": {
     "end_time": "2025-03-28T17:39:36.724638Z",
     "start_time": "2025-03-28T17:39:32.502582Z"
    }
   },
   "cell_type": "code",
   "source": "X_umap = reducer.fit_transform(X)",
   "id": "f621c2f0cc8e2f96",
   "outputs": [
    {
     "name": "stderr",
     "output_type": "stream",
     "text": [
      "/opt/anaconda3/envs/neuro/lib/python3.10/site-packages/umap/umap_.py:1952: UserWarning: n_jobs value 1 overridden to 1 by setting random_state. Use no seed for parallelism.\n",
      "  warn(\n"
     ]
    }
   ],
   "execution_count": 268
  },
  {
   "metadata": {},
   "cell_type": "markdown",
   "source": "Fit  regressions model",
   "id": "9f535e67bfbd8e32"
  },
  {
   "metadata": {
    "ExecuteTime": {
     "end_time": "2025-03-28T17:39:58.074716Z",
     "start_time": "2025-03-28T17:39:57.963445Z"
    }
   },
   "cell_type": "code",
   "source": [
    "# Add a constant to the features\n",
    "X = sm.add_constant(X_umap)\n",
    "\n",
    "# Fit the OLS model\n",
    "model = sm.OLS(y, X).fit()\n",
    "\n",
    "# Display the results\n",
    "print(model.summary())"
   ],
   "id": "a261e8aa7b981805",
   "outputs": [
    {
     "name": "stdout",
     "output_type": "stream",
     "text": [
      "                            OLS Regression Results                            \n",
      "==============================================================================\n",
      "Dep. Variable:                 CDR_SB   R-squared:                       0.244\n",
      "Model:                            OLS   Adj. R-squared:                  0.213\n",
      "Method:                 Least Squares   F-statistic:                     7.758\n",
      "Date:                Fri, 28 Mar 2025   Prob (F-statistic):            0.00120\n",
      "Time:                        18:39:58   Log-Likelihood:                -133.56\n",
      "No. Observations:                  51   AIC:                             273.1\n",
      "Df Residuals:                      48   BIC:                             278.9\n",
      "Df Model:                           2                                         \n",
      "Covariance Type:            nonrobust                                         \n",
      "==============================================================================\n",
      "                 coef    std err          t      P>|t|      [0.025      0.975]\n",
      "------------------------------------------------------------------------------\n",
      "const         29.5196     12.367      2.387      0.021       4.655      54.384\n",
      "x1            -1.2872      0.459     -2.803      0.007      -2.211      -0.364\n",
      "x2            -0.2258      0.365     -0.619      0.539      -0.959       0.507\n",
      "==============================================================================\n",
      "Omnibus:                       24.758   Durbin-Watson:                   2.054\n",
      "Prob(Omnibus):                  0.000   Jarque-Bera (JB):               44.597\n",
      "Skew:                           1.493   Prob(JB):                     2.07e-10\n",
      "Kurtosis:                       6.474   Cond. No.                         572.\n",
      "==============================================================================\n",
      "\n",
      "Notes:\n",
      "[1] Standard Errors assume that the covariance matrix of the errors is correctly specified.\n"
     ]
    }
   ],
   "execution_count": 270
  },
  {
   "metadata": {},
   "cell_type": "markdown",
   "source": "# CNN Classification",
   "id": "8cb1cc7208c2be1"
  },
  {
   "metadata": {},
   "cell_type": "markdown",
   "source": "## Preprocessing",
   "id": "28f4fec60c943873"
  },
  {
   "metadata": {
    "ExecuteTime": {
     "end_time": "2025-04-15T08:37:43.916787Z",
     "start_time": "2025-04-15T08:37:43.913957Z"
    }
   },
   "cell_type": "code",
   "source": [
    "# Check subject ID and path alignment\n",
    "for f, sid in zip(files, sub_id):\n",
    "    assert sid in os.path.basename(f), f\"ID mismatch: {sid} not in {f}\""
   ],
   "id": "ab83a978b92041c3",
   "outputs": [],
   "execution_count": 7
  },
  {
   "metadata": {},
   "cell_type": "markdown",
   "source": "Load the mask",
   "id": "950c1623641d0792"
  },
  {
   "metadata": {
    "ExecuteTime": {
     "end_time": "2025-04-15T08:37:53.329101Z",
     "start_time": "2025-04-15T08:37:53.310781Z"
    }
   },
   "cell_type": "code",
   "source": "mask = nib.load(harvard_oxford_mask).get_fdata()",
   "id": "c6ce01a13d9d483e",
   "outputs": [],
   "execution_count": 8
  },
  {
   "metadata": {},
   "cell_type": "markdown",
   "source": [
    "The data have been loaded above. Now we will process the FC maps and save them in a 3D format:\n",
    "- Loading\n",
    "\n",
    "- Thresholding\n",
    "\n",
    "- Masking"
   ],
   "id": "27f785842bf540bc"
  },
  {
   "metadata": {
    "ExecuteTime": {
     "end_time": "2025-04-11T15:08:35.109452Z",
     "start_time": "2025-04-11T15:08:34.405364Z"
    }
   },
   "cell_type": "code",
   "source": [
    "for file_path, subj_id in zip(files, sub_id):\n",
    "    # Load 3D FC map\n",
    "    img = nib.load(file_path).get_fdata()\n",
    "\n",
    "    # Apply threshold\n",
    "    img[img < 0.2] = 0\n",
    "\n",
    "    # Apply GM mask\n",
    "    assert img.shape == mask.shape, f\"Shape mismatch for {subj_id}\"\n",
    "    img[mask == 0] = 0\n",
    "\n",
    "    # Save to .npy\n",
    "    out_path = os.path.join(dir_FCmaps3D_processed, f\"{subj_id}.npy\")\n",
    "    np.save(out_path, img)\n",
    "\n",
    "print(\"All maps processed and saved.\")"
   ],
   "id": "f5680fc2162c4461",
   "outputs": [
    {
     "name": "stdout",
     "output_type": "stream",
     "text": [
      "All maps processed and saved.\n"
     ]
    }
   ],
   "execution_count": 72
  },
  {
   "metadata": {},
   "cell_type": "markdown",
   "source": "## Further analysis",
   "id": "e177cc180b439a6f"
  },
  {
   "metadata": {
    "ExecuteTime": {
     "end_time": "2025-04-15T14:40:05.240043Z",
     "start_time": "2025-04-15T14:40:05.236398Z"
    }
   },
   "cell_type": "code",
   "source": "files = glob.glob(os.path.join(dir_FCmaps3D_processed, '*.npy'))",
   "id": "6900d0a5cba98cbf",
   "outputs": [],
   "execution_count": 23
  },
  {
   "metadata": {
    "ExecuteTime": {
     "end_time": "2025-04-15T14:41:01.739988Z",
     "start_time": "2025-04-15T14:41:01.732290Z"
    }
   },
   "cell_type": "code",
   "source": " np.load(files[0]).shape",
   "id": "7aaa7def0000f910",
   "outputs": [
    {
     "data": {
      "text/plain": [
       "(91, 109, 91)"
      ]
     },
     "execution_count": 28,
     "metadata": {},
     "output_type": "execute_result"
    }
   ],
   "execution_count": 28
  },
  {
   "metadata": {
    "ExecuteTime": {
     "end_time": "2025-04-15T08:51:42.345319Z",
     "start_time": "2025-04-15T08:51:42.224977Z"
    }
   },
   "cell_type": "code",
   "outputs": [
    {
     "name": "stdout",
     "output_type": "stream",
     "text": [
      "All-zero map: 007_S_6341.npy\n",
      "All-zero map: 073_S_6673.npy\n",
      "All-zero map: 099_S_6691.npy\n",
      "All-zero map: 1_S_5009.npy\n",
      "-----------------------------\n",
      "Voxel stats across 47 valid subjects:\n",
      "- Min:  0.2000  and  Max:  1.6188\n",
      "- Mean: 0.2584 \n",
      "- Std: 0.0515\n"
     ]
    }
   ],
   "execution_count": 20,
   "source": [
    "mins, maxs, means, stds = [], [], [], []\n",
    "empty_count = 0\n",
    "\n",
    "# Loop through each file and calculate statistics\n",
    "for f in files:\n",
    "    data = c\n",
    "    nonzero = data[data != 0]\n",
    "\n",
    "    if nonzero.size > 0:\n",
    "        mins.append(nonzero.min())\n",
    "        maxs.append(nonzero.max())\n",
    "        means.append(nonzero.mean())\n",
    "        stds.append(nonzero.std())\n",
    "    else:\n",
    "        empty_count += 1\n",
    "        print(f\"All-zero map: {os.path.basename(f)}\")\n",
    "\n",
    "# Print summary\n",
    "print(\"-----------------------------\")\n",
    "print(f\"Voxel stats across {len(files) - empty_count} valid subjects:\")\n",
    "print(f\"- Min:  {np.min(mins):.4f}  and  Max:  {np.max(maxs):.4f}\")\n",
    "print(f\"- Mean: {np.mean(means):.4f} \")\n",
    "print(f\"- Std: {np.mean(stds):.4f}\")"
   ],
   "id": "73c509fb82f3fa0e"
  },
  {
   "metadata": {},
   "cell_type": "markdown",
   "source": "## Data Augmentation",
   "id": "9bf20a331f85f97b"
  },
  {
   "metadata": {},
   "cell_type": "code",
   "outputs": [],
   "execution_count": null,
   "source": "",
   "id": "6f3bfc5442d2e6ec"
  }
 ],
 "metadata": {
  "kernelspec": {
   "display_name": "Python 3",
   "language": "python",
   "name": "python3"
  },
  "language_info": {
   "codemirror_mode": {
    "name": "ipython",
    "version": 2
   },
   "file_extension": ".py",
   "mimetype": "text/x-python",
   "name": "python",
   "nbconvert_exporter": "python",
   "pygments_lexer": "ipython2",
   "version": "2.7.6"
  }
 },
 "nbformat": 4,
 "nbformat_minor": 5
}
