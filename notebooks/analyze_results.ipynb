{
 "cells": [
  {
   "cell_type": "code",
   "execution_count": null,
   "id": "initial_id",
   "metadata": {
    "collapsed": true
   },
   "outputs": [],
   "source": [
    "import os\n",
    "import json\n",
    "import torch\n",
    "import pandas as pd\n",
    "import matplotlib.pyplot as plt\n",
    "import seaborn as sns"
   ]
  },
  {
   "metadata": {},
   "cell_type": "markdown",
   "source": "# Functions",
   "id": "dbe572b1d9ab3bd0"
  },
  {
   "metadata": {},
   "cell_type": "code",
   "outputs": [],
   "execution_count": null,
   "source": [
    "def load_grid_summary(base_path):\n",
    "    return pd.read_csv(os.path.join(base_path, \"grid_summary.csv\"))\n",
    "\n",
    "def load_combination_summary(config_path):\n",
    "    with open(os.path.join(config_path, \"combination_summary.json\")) as f:\n",
    "        return json.load(f)\n",
    "\n",
    "def load_log_csv(config_path):\n",
    "    return pd.read_csv(os.path.join(config_path, \"log.csv\"))\n",
    "\n",
    "def load_model_fold(config_path, fold_number):\n",
    "    model_path = os.path.join(config_path, f\"model_fold{fold_number}.pt\")\n",
    "    return torch.load(model_path, map_location=\"cpu\")"
   ],
   "id": "4fff643a74099a1"
  },
  {
   "metadata": {},
   "cell_type": "code",
   "outputs": [],
   "execution_count": null,
   "source": [
    "def plot_loss_accuracy(log_df, config_id):\n",
    "    plt.figure(figsize=(10, 5))\n",
    "    sns.lineplot(data=log_df, x=\"epoch\", y=\"train_loss\", hue=\"fold\", legend='brief', palette=\"Blues\", linewidth=1.5)\n",
    "    sns.lineplot(data=log_df, x=\"epoch\", y=\"val_loss\", hue=\"fold\", legend=False, palette=\"Oranges\", linewidth=1.5)\n",
    "    plt.title(f\"Train/Val Loss - {config_id}\")\n",
    "    plt.xlabel(\"Epoch\")\n",
    "    plt.ylabel(\"Loss\")\n",
    "    plt.grid(True)\n",
    "    plt.show()\n",
    "\n",
    "    plt.figure(figsize=(8, 4))\n",
    "    sns.lineplot(data=log_df, x=\"epoch\", y=\"val_accuracy\", hue=\"fold\", palette=\"Greens\", linewidth=1.5)\n",
    "    plt.title(f\"Validation Accuracy - {config_id}\")\n",
    "    plt.xlabel(\"Epoch\")\n",
    "    plt.ylabel(\"Accuracy\")\n",
    "    plt.grid(True)\n",
    "    plt.show()\n"
   ],
   "id": "9fa54b2e303c9e6d"
  },
  {
   "metadata": {},
   "cell_type": "code",
   "outputs": [],
   "execution_count": null,
   "source": [
    "def plot_fold_accuracies(combination_summary, config_id):\n",
    "    acc = combination_summary[\"fold_accuracies\"]\n",
    "    sns.boxplot(data=acc)\n",
    "    plt.title(f\"Fold Accuracy Distribution - {config_id}\")\n",
    "    plt.ylabel(\"Accuracy\")\n",
    "    plt.grid(True)\n",
    "    plt.show()\n"
   ],
   "id": "2fe47da92426716f"
  },
  {
   "metadata": {},
   "cell_type": "markdown",
   "source": "# Results",
   "id": "e72c954d805d0df4"
  },
  {
   "metadata": {},
   "cell_type": "markdown",
   "source": "Load and show the best combinations",
   "id": "22632825af2dbe9b"
  },
  {
   "metadata": {},
   "cell_type": "code",
   "outputs": [],
   "execution_count": null,
   "source": [
    "# Load grid summary\n",
    "base_path = \"tuning_results\"\n",
    "summary_df = load_grid_summary(base_path)\n",
    "summary_df_sorted = summary_df.sort_values(\"mean_val_accuracy\", ascending=False).reset_index(drop=True)\n",
    "\n",
    "# Show the top n combinations\n",
    "top_n = 5\n",
    "top_configs = summary_df_sorted.head(top_n)\n",
    "top_configs"
   ],
   "id": "cb7f294b6ef3dfe7"
  },
  {
   "metadata": {},
   "cell_type": "markdown",
   "source": "Some plots",
   "id": "fc67e3db2e975927"
  },
  {
   "metadata": {},
   "cell_type": "code",
   "outputs": [],
   "execution_count": null,
   "source": [
    "selected_config = top_configs.iloc[0]\n",
    "config_path = selected_config['path']\n",
    "log_df = load_log_csv(config_path)\n",
    "\n",
    "plot_loss_accuracy(log_df, selected_config['config_id'])"
   ],
   "id": "d11a103da1babd4b"
  },
  {
   "metadata": {},
   "cell_type": "code",
   "outputs": [],
   "execution_count": null,
   "source": [
    "comb_summary = load_combination_summary(config_path)\n",
    "plot_fold_accuracies(comb_summary, selected_config['config_id'])"
   ],
   "id": "8688e1d02eac5d69"
  },
  {
   "metadata": {},
   "cell_type": "markdown",
   "source": "Load a checkpoint",
   "id": "7a95825ba46c696d"
  },
  {
   "metadata": {},
   "cell_type": "code",
   "outputs": [],
   "execution_count": null,
   "source": [
    "checkpoint = load_model_fold(config_path, fold_number=1)\n",
    "\n",
    "model_state = checkpoint['state_dict']\n",
    "metrics = checkpoint['metrics']\n",
    "params = checkpoint['params']\n"
   ],
   "id": "7ba40a7eb7967248"
  }
 ],
 "metadata": {
  "kernelspec": {
   "display_name": "Python 3",
   "language": "python",
   "name": "python3"
  },
  "language_info": {
   "codemirror_mode": {
    "name": "ipython",
    "version": 2
   },
   "file_extension": ".py",
   "mimetype": "text/x-python",
   "name": "python",
   "nbconvert_exporter": "python",
   "pygments_lexer": "ipython2",
   "version": "2.7.6"
  }
 },
 "nbformat": 4,
 "nbformat_minor": 5
}
