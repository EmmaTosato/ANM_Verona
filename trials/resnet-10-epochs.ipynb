{
 "cells": [
  {
   "cell_type": "markdown",
   "id": "77fce72d",
   "metadata": {
    "_cell_guid": "0dc9200c-3482-40ff-af90-7efe4c0b35a2",
    "_uuid": "08321992-8acb-49ac-9f76-ce49558b1ad8",
    "collapsed": false,
    "jupyter": {
     "outputs_hidden": false
    },
    "papermill": {
     "duration": 0.006829,
     "end_time": "2025-05-05T17:07:09.552821",
     "exception": false,
     "start_time": "2025-05-05T17:07:09.545992",
     "status": "completed"
    },
    "tags": []
   },
   "source": [
    "# Utils"
   ]
  },
  {
   "cell_type": "code",
   "execution_count": 1,
   "id": "7936a819",
   "metadata": {
    "_cell_guid": "12403a2b-f9c2-4f5a-b1ee-98055ac775d4",
    "_uuid": "5fe5b164-3b38-4d65-a30f-2ef11767aa67",
    "collapsed": false,
    "execution": {
     "iopub.execute_input": "2025-05-05T17:07:09.564675Z",
     "iopub.status.busy": "2025-05-05T17:07:09.564438Z",
     "iopub.status.idle": "2025-05-05T17:07:16.668883Z",
     "shell.execute_reply": "2025-05-05T17:07:16.668296Z"
    },
    "jupyter": {
     "outputs_hidden": false
    },
    "papermill": {
     "duration": 7.111906,
     "end_time": "2025-05-05T17:07:16.670295",
     "exception": false,
     "start_time": "2025-05-05T17:07:09.558389",
     "status": "completed"
    },
    "tags": []
   },
   "outputs": [],
   "source": [
    "import os\n",
    "import numpy as np\n",
    "import pandas as pd\n",
    "import nibabel as nib\n",
    "from tqdm import tqdm\n",
    "\n",
    "import torch\n",
    "import torch.nn as nn\n",
    "import torch.optim as optim\n",
    "from torch.utils.data import Dataset, DataLoader\n",
    "\n",
    "from sklearn.model_selection import train_test_split\n",
    "from sklearn.metrics import accuracy_score, classification_report, confusion_matrix, mean_squared_error, r2_score\n",
    "from sklearn.metrics import precision_recall_curve, roc_curve, auc\n",
    "from sklearn.preprocessing import label_binarize\n",
    "from sklearn.model_selection import StratifiedKFold\n",
    "\n",
    "import matplotlib.pyplot as plt\n",
    "import seaborn as sns"
   ]
  },
  {
   "cell_type": "code",
   "execution_count": 2,
   "id": "4f92ab01",
   "metadata": {
    "_cell_guid": "95bcd408-d8b1-417b-b716-b982f8d264bb",
    "_uuid": "d4b8b1ba-e644-43db-88da-1e774061b952",
    "collapsed": false,
    "execution": {
     "iopub.execute_input": "2025-05-05T17:07:16.682363Z",
     "iopub.status.busy": "2025-05-05T17:07:16.682022Z",
     "iopub.status.idle": "2025-05-05T17:07:16.708972Z",
     "shell.execute_reply": "2025-05-05T17:07:16.708483Z"
    },
    "jupyter": {
     "outputs_hidden": false
    },
    "papermill": {
     "duration": 0.034121,
     "end_time": "2025-05-05T17:07:16.710088",
     "exception": false,
     "start_time": "2025-05-05T17:07:16.675967",
     "status": "completed"
    },
    "tags": []
   },
   "outputs": [],
   "source": [
    "# Paths\n",
    "path_labels = '/kaggle/input/fcmaps-metadata/labels.csv'\n",
    "path_fcmaps = '/kaggle/input/fcmaps-processed'                   \n",
    "path_fcmaps_augmented = '/kaggle/input/fcmaps-augmented-processed/FCmaps_augmented_processed'\n",
    "\n",
    "# Load labels\n",
    "df_labels = pd.read_csv(path_labels)\n",
    "\n",
    "# Temporary:\n",
    "to_exclude = ['3_S_5003', '4_S_5003', '4_S_5005', '4_S_5007', '4_S_5008']\n",
    "df_labels = df_labels[~df_labels['ID'].isin(to_exclude)].reset_index(drop=True)"
   ]
  },
  {
   "cell_type": "code",
   "execution_count": 3,
   "id": "f9e8ad83",
   "metadata": {
    "_cell_guid": "3c330a4c-d2e1-47f8-8b72-b02f7f380c02",
    "_uuid": "8bbc51cf-82cf-41ec-bcc4-58a4bc1098bf",
    "collapsed": false,
    "execution": {
     "iopub.execute_input": "2025-05-05T17:07:16.721682Z",
     "iopub.status.busy": "2025-05-05T17:07:16.721486Z",
     "iopub.status.idle": "2025-05-05T17:07:16.772626Z",
     "shell.execute_reply": "2025-05-05T17:07:16.771877Z"
    },
    "jupyter": {
     "outputs_hidden": false
    },
    "papermill": {
     "duration": 0.058106,
     "end_time": "2025-05-05T17:07:16.773758",
     "exception": false,
     "start_time": "2025-05-05T17:07:16.715652",
     "status": "completed"
    },
    "tags": []
   },
   "outputs": [],
   "source": [
    "# Parameters\n",
    "batch_size = 16\n",
    "epochs = 10\n",
    "lr = 1e-3\n",
    "device = torch.device(\"cuda\" if torch.cuda.is_available() else \"cpu\")\n",
    "task = 'classification'               # or 'regression'\n",
    "n_folds = 10\n",
    "\n",
    "if task == 'classification':\n",
    "    criterion = nn.CrossEntropyLoss()\n",
    "    n_classes = 2  \n",
    "    label_column = 'Group'\n",
    "else:\n",
    "    criterion = nn.MSELoss()\n",
    "    n_classes = 1\n",
    "    #label_column = 'Age'"
   ]
  },
  {
   "cell_type": "markdown",
   "id": "d0de5f0d",
   "metadata": {
    "_cell_guid": "757df327-1471-4b7f-914f-d5b49996d6ee",
    "_uuid": "04576f96-432e-4920-b95b-53de896f9592",
    "collapsed": false,
    "jupyter": {
     "outputs_hidden": false
    },
    "papermill": {
     "duration": 0.005244,
     "end_time": "2025-05-05T17:07:16.784814",
     "exception": false,
     "start_time": "2025-05-05T17:07:16.779570",
     "status": "completed"
    },
    "tags": []
   },
   "source": [
    "# Dataset"
   ]
  },
  {
   "cell_type": "code",
   "execution_count": 4,
   "id": "b5a24e8a",
   "metadata": {
    "_cell_guid": "c16fa8f8-af11-44f7-a4f8-6b8c18d13938",
    "_uuid": "6c596cdc-d001-4729-8b76-bf0bf9dd7ddd",
    "collapsed": false,
    "execution": {
     "iopub.execute_input": "2025-05-05T17:07:16.796538Z",
     "iopub.status.busy": "2025-05-05T17:07:16.796320Z",
     "iopub.status.idle": "2025-05-05T17:07:16.803821Z",
     "shell.execute_reply": "2025-05-05T17:07:16.803145Z"
    },
    "jupyter": {
     "outputs_hidden": false
    },
    "papermill": {
     "duration": 0.014497,
     "end_time": "2025-05-05T17:07:16.804876",
     "exception": false,
     "start_time": "2025-05-05T17:07:16.790379",
     "status": "completed"
    },
    "tags": []
   },
   "outputs": [],
   "source": [
    "class FCDataset(Dataset):\n",
    "    def __init__(self, data_dir, df_labels, label_column, task, transform=None):       \n",
    "        self.data_dir = data_dir\n",
    "        self.df_labels = df_labels.reset_index(drop=True)\n",
    "        self.label_column = label_column\n",
    "        self.task = task\n",
    "        self.transform = transform\n",
    "    \n",
    "        # Dictionary for mapping strings to indices if labels are not numbers\n",
    "        if not pd.api.types.is_numeric_dtype(self.df_labels[self.label_column]):\n",
    "            unique_labels = sorted(self.df_labels[self.label_column].unique())\n",
    "            self.label_mapping = {label: i for i, label in enumerate(unique_labels)}\n",
    "        else:\n",
    "            self.label_mapping = None\n",
    "            \n",
    "        self.samples = []\n",
    "\n",
    "        # Loop over each row of the dataframe\n",
    "        for _, row in self.df_labels.iterrows():\n",
    "            subj_id = row['ID']\n",
    "            \n",
    "            if self.task == 'classification':\n",
    "                # Classification: map the labels\n",
    "                label = self.label_mapping[row[self.label_column]]\n",
    "            \n",
    "            else:  \n",
    "                # Regression: convert to float\n",
    "                label = float(row[self.label_column])\n",
    "\n",
    "            # Reconstruct the file paths \n",
    "            file_path = os.path.join(data_dir, f\"{subj_id}.processed.npy\")\n",
    "            if os.path.exists(file_path):\n",
    "                self.samples.append((file_path, label))\n",
    "            else:\n",
    "                print(f\"Missing file: {file_path}\")\n",
    "\n",
    "    def __len__(self):\n",
    "        return len(self.samples)\n",
    "\n",
    "    def __getitem__(self, idx):\n",
    "        file_path, label = self.samples[idx]\n",
    "        \n",
    "        # Load and reshape the volume: (1, 91, 109, 91)\n",
    "        volume = np.load(file_path)\n",
    "        volume = np.expand_dims(volume, axis=0)  \n",
    "\n",
    "        # Covert volume into a tensor\n",
    "        x = torch.tensor(volume, dtype=torch.float32)\n",
    "\n",
    "        # Convert the label into a tensor\n",
    "        if self.task == 'classification':\n",
    "            y = torch.tensor(label, dtype=torch.long)\n",
    "        else: \n",
    "            y = torch.tensor(label, dtype=torch.float32)\n",
    "\n",
    "        if self.transform:\n",
    "            x = self.transform(x)\n",
    "\n",
    "        return x, y"
   ]
  },
  {
   "cell_type": "code",
   "execution_count": 5,
   "id": "c6fc0060",
   "metadata": {
    "_cell_guid": "100702f9-e13d-4b5d-9889-471adad7d19b",
    "_uuid": "ba3bc74d-f35e-4140-acb9-c53ec5da4170",
    "collapsed": false,
    "execution": {
     "iopub.execute_input": "2025-05-05T17:07:16.816254Z",
     "iopub.status.busy": "2025-05-05T17:07:16.816037Z",
     "iopub.status.idle": "2025-05-05T17:07:16.823184Z",
     "shell.execute_reply": "2025-05-05T17:07:16.822472Z"
    },
    "jupyter": {
     "outputs_hidden": false
    },
    "papermill": {
     "duration": 0.014247,
     "end_time": "2025-05-05T17:07:16.824364",
     "exception": false,
     "start_time": "2025-05-05T17:07:16.810117",
     "status": "completed"
    },
    "tags": []
   },
   "outputs": [],
   "source": [
    "class AugmentedFCDataset(Dataset):\n",
    "    def __init__(self, data_dir, df_labels, label_column, task, transform=None):\n",
    "        \n",
    "        self.data_dir = data_dir\n",
    "        self.df_labels = df_labels.reset_index(drop=True)\n",
    "        self.label_column = label_column\n",
    "        self.task = task\n",
    "        self.transform = transform\n",
    "\n",
    "        # Mapping\n",
    "        if not pd.api.types.is_numeric_dtype(self.df_labels[self.label_column]):\n",
    "            unique_labels = sorted(self.df_labels[self.label_column].unique())\n",
    "            self.label_mapping = {label: i for i, label in enumerate(unique_labels)}\n",
    "        else:\n",
    "            self.label_mapping = None\n",
    "            \n",
    "        self.samples = []\n",
    "\n",
    "        for _, row in self.df_labels.iterrows():\n",
    "            subj_id = row['ID']\n",
    "\n",
    "            if self.task == 'classification':\n",
    "                label = self.label_mapping[row[self.label_column]]\n",
    "            else:\n",
    "                label = float(row[self.label_column])\n",
    "\n",
    "            # Loop over each subject folder and list each augmentation\n",
    "            subject_folder = os.path.join(data_dir, subj_id)\n",
    "            if os.path.isdir(subject_folder):\n",
    "                for file in os.listdir(subject_folder):\n",
    "                    if file.endswith('.npy'):\n",
    "                        file_path = os.path.join(subject_folder, file)\n",
    "                        self.samples.append((file_path, label))\n",
    "            else:\n",
    "                print(f\"Warning: missing augmented folder for subject {subj_id}\")\n",
    "\n",
    "    def __len__(self):\n",
    "        return len(self.samples)\n",
    "\n",
    "    def __getitem__(self, idx):\n",
    "        file_path, label = self.samples[idx]\n",
    "\n",
    "        # Load and reshape the volume: (1, 91, 109, 91)\n",
    "        volume = np.load(file_path)\n",
    "        volume = np.expand_dims(volume, axis=0)\n",
    "\n",
    "        x = torch.tensor(volume, dtype=torch.float32)\n",
    "\n",
    "        if self.task == 'classification':\n",
    "            y = torch.tensor(label, dtype=torch.long)\n",
    "        else:\n",
    "            y = torch.tensor(label, dtype=torch.float32)\n",
    "\n",
    "        if self.transform:\n",
    "            x = self.transform(x)\n",
    "\n",
    "        return x, y"
   ]
  },
  {
   "cell_type": "markdown",
   "id": "a2462569",
   "metadata": {
    "_cell_guid": "1bd9c9fa-d237-49d8-8454-4e79c6240c6d",
    "_uuid": "bbc37a01-7c4c-4e11-bc36-2748fd22d4b7",
    "collapsed": false,
    "jupyter": {
     "outputs_hidden": false
    },
    "papermill": {
     "duration": 0.005112,
     "end_time": "2025-05-05T17:07:16.834727",
     "exception": false,
     "start_time": "2025-05-05T17:07:16.829615",
     "status": "completed"
    },
    "tags": []
   },
   "source": [
    "# CNN Models"
   ]
  },
  {
   "cell_type": "markdown",
   "id": "b5ac521d",
   "metadata": {
    "_cell_guid": "4719c403-77b3-4920-b165-76d78357546d",
    "_uuid": "0983aaeb-ca17-4319-9c53-19ad3e84857f",
    "collapsed": false,
    "jupyter": {
     "outputs_hidden": false
    },
    "papermill": {
     "duration": 0.005081,
     "end_time": "2025-05-05T17:07:16.845119",
     "exception": false,
     "start_time": "2025-05-05T17:07:16.840038",
     "status": "completed"
    },
    "tags": []
   },
   "source": [
    "## Network"
   ]
  },
  {
   "cell_type": "code",
   "execution_count": 6,
   "id": "c7d7dced",
   "metadata": {
    "_cell_guid": "6a32de33-c308-47cb-a6ac-017d808f1d45",
    "_uuid": "40063ec0-dc87-48ab-9bf1-40d055cdc428",
    "collapsed": false,
    "execution": {
     "iopub.execute_input": "2025-05-05T17:07:16.856269Z",
     "iopub.status.busy": "2025-05-05T17:07:16.856049Z",
     "iopub.status.idle": "2025-05-05T17:07:21.386478Z",
     "shell.execute_reply": "2025-05-05T17:07:21.385850Z"
    },
    "jupyter": {
     "outputs_hidden": false
    },
    "papermill": {
     "duration": 4.5375,
     "end_time": "2025-05-05T17:07:21.387861",
     "exception": false,
     "start_time": "2025-05-05T17:07:16.850361",
     "status": "completed"
    },
    "tags": []
   },
   "outputs": [],
   "source": [
    "from torchvision.models.video import r3d_18\n",
    "\n",
    "class SimpleCNN3D(nn.Module):\n",
    "    def __init__(self, n_classes):\n",
    "        super(SimpleCNN3D, self).__init__()\n",
    "        self.conv1 = nn.Conv3d(1, 16, kernel_size=3, padding=1)\n",
    "        self.bn1 = nn.BatchNorm3d(16)\n",
    "        self.pool1 = nn.MaxPool3d(2)\n",
    "\n",
    "        self.conv2 = nn.Conv3d(16, 32, kernel_size=3, padding=1)\n",
    "        self.bn2 = nn.BatchNorm3d(32)\n",
    "        self.pool2 = nn.MaxPool3d(2)\n",
    "\n",
    "        self.conv3 = nn.Conv3d(32, 64, kernel_size=3, padding=1)\n",
    "        self.bn3 = nn.BatchNorm3d(64)\n",
    "        self.pool3 = nn.AdaptiveAvgPool3d(1)\n",
    "\n",
    "        self.dropout = nn.Dropout(p=0.4)\n",
    "        self.fc = nn.Linear(64, n_classes)\n",
    "\n",
    "    def forward(self, x):\n",
    "        x = self.pool1(torch.relu(self.bn1(self.conv1(x))))\n",
    "        x = self.pool2(torch.relu(self.bn2(self.conv2(x))))\n",
    "        x = self.pool3(torch.relu(self.bn3(self.conv3(x))))\n",
    "        x = x.view(x.size(0), -1)\n",
    "        x = self.dropout(x)\n",
    "        return self.fc(x)\n",
    "\n",
    "\n",
    "class ResNet3D(nn.Module):\n",
    "    def __init__(self, n_classes):\n",
    "        super(ResNet3D, self).__init__()\n",
    "        self.model = r3d_18(weights=None)\n",
    "        self.model.stem[0] = nn.Conv3d(1, 64, kernel_size=(3,7,7), stride=(1,2,2), padding=(1,3,3), bias=False)\n",
    "        self.model.fc = nn.Linear(self.model.fc.in_features, n_classes)\n",
    "\n",
    "    def forward(self, x):\n",
    "        return self.model(x)"
   ]
  },
  {
   "cell_type": "markdown",
   "id": "71d579b0",
   "metadata": {
    "_cell_guid": "af895431-da57-43f4-b56d-bcb82d23266e",
    "_uuid": "0cf4894c-d53d-4571-9052-1a566dfb0a40",
    "collapsed": false,
    "jupyter": {
     "outputs_hidden": false
    },
    "papermill": {
     "duration": 0.005366,
     "end_time": "2025-05-05T17:07:21.398995",
     "exception": false,
     "start_time": "2025-05-05T17:07:21.393629",
     "status": "completed"
    },
    "tags": []
   },
   "source": [
    "## Training, Validation and Testing loops"
   ]
  },
  {
   "cell_type": "markdown",
   "id": "6c49d59e",
   "metadata": {
    "papermill": {
     "duration": 0.005004,
     "end_time": "2025-05-05T17:07:21.409206",
     "exception": false,
     "start_time": "2025-05-05T17:07:21.404202",
     "status": "completed"
    },
    "tags": []
   },
   "source": [
    "Training function"
   ]
  },
  {
   "cell_type": "code",
   "execution_count": 7,
   "id": "8d5f7da1",
   "metadata": {
    "_cell_guid": "b39cc62b-6f61-4f22-9821-f1d043d0c77d",
    "_uuid": "c48c6421-5d11-4bad-bafb-8c920bf7d669",
    "collapsed": false,
    "execution": {
     "iopub.execute_input": "2025-05-05T17:07:21.420562Z",
     "iopub.status.busy": "2025-05-05T17:07:21.420129Z",
     "iopub.status.idle": "2025-05-05T17:07:21.424891Z",
     "shell.execute_reply": "2025-05-05T17:07:21.424214Z"
    },
    "jupyter": {
     "outputs_hidden": false
    },
    "papermill": {
     "duration": 0.011541,
     "end_time": "2025-05-05T17:07:21.425924",
     "exception": false,
     "start_time": "2025-05-05T17:07:21.414383",
     "status": "completed"
    },
    "tags": []
   },
   "outputs": [],
   "source": [
    "def train(train_loader, model, criterion, optimizer, device):\n",
    "    # Enable training mode \n",
    "    model.train()\n",
    "    running_loss = 0.0\n",
    "\n",
    "    for x_batch, y_batch in train_loader:\n",
    "        x_batch, y_batch = x_batch.to(device), y_batch.to(device)\n",
    "\n",
    "        # Reset gradients\n",
    "        optimizer.zero_grad()\n",
    "        \n",
    "        # Forward pass\n",
    "        outputs = model(x_batch)\n",
    "\n",
    "        # Compute loss\n",
    "        loss = criterion(outputs, y_batch)\n",
    "\n",
    "        # Backpropagation\n",
    "        loss.backward()\n",
    "\n",
    "        # Update weights\n",
    "        optimizer.step()\n",
    "\n",
    "        running_loss += loss.item() * x_batch.size(0)\n",
    "\n",
    "    train_loss = running_loss / len(train_loader.dataset)\n",
    "    return train_loss"
   ]
  },
  {
   "cell_type": "markdown",
   "id": "dfffde62",
   "metadata": {
    "papermill": {
     "duration": 0.005034,
     "end_time": "2025-05-05T17:07:21.436311",
     "exception": false,
     "start_time": "2025-05-05T17:07:21.431277",
     "status": "completed"
    },
    "tags": []
   },
   "source": [
    "Validation function"
   ]
  },
  {
   "cell_type": "code",
   "execution_count": 8,
   "id": "80ccbcf0",
   "metadata": {
    "_cell_guid": "63dcc98a-9d0c-4801-b716-47fbebd7d5cf",
    "_uuid": "60459c7f-6418-4a8f-95b0-8f16110535cb",
    "collapsed": false,
    "execution": {
     "iopub.execute_input": "2025-05-05T17:07:21.447593Z",
     "iopub.status.busy": "2025-05-05T17:07:21.447363Z",
     "iopub.status.idle": "2025-05-05T17:07:21.452204Z",
     "shell.execute_reply": "2025-05-05T17:07:21.451534Z"
    },
    "jupyter": {
     "outputs_hidden": false
    },
    "papermill": {
     "duration": 0.011662,
     "end_time": "2025-05-05T17:07:21.453245",
     "exception": false,
     "start_time": "2025-05-05T17:07:21.441583",
     "status": "completed"
    },
    "tags": []
   },
   "outputs": [],
   "source": [
    "def validate(val_loader, model, criterion, device, task):\n",
    "    # Set model to evaluation mode\n",
    "    model.eval()\n",
    "    running_loss = 0.0\n",
    "    correct = 0\n",
    "\n",
    "    # Disable gradient computation\n",
    "    with torch.no_grad():\n",
    "        for x_val, y_val in val_loader:\n",
    "            x_val, y_val = x_val.to(device), y_val.to(device)\n",
    "            outputs = model(x_val)\n",
    "            loss = criterion(outputs, y_val)\n",
    "            running_loss += loss.item() * x_val.size(0)\n",
    "            \n",
    "            _, predicted = torch.max(outputs, 1)\n",
    "            correct += (predicted == y_val).sum().item()\n",
    "\n",
    "    val_loss = running_loss / len(val_loader.dataset)\n",
    "    val_accuracy = correct / len(val_loader.dataset)\n",
    "    return val_loss, val_accuracy"
   ]
  },
  {
   "cell_type": "markdown",
   "id": "e55fc202",
   "metadata": {
    "papermill": {
     "duration": 0.005089,
     "end_time": "2025-05-05T17:07:21.463839",
     "exception": false,
     "start_time": "2025-05-05T17:07:21.458750",
     "status": "completed"
    },
    "tags": []
   },
   "source": [
    "Evaluation function (to get predictions)"
   ]
  },
  {
   "cell_type": "code",
   "execution_count": 9,
   "id": "a80620a5",
   "metadata": {
    "_cell_guid": "5e26f0d9-41ac-40ca-a490-0b0cda53f58a",
    "_uuid": "fd8d03ee-55ba-4d36-be01-f5184a7fc69f",
    "collapsed": false,
    "execution": {
     "iopub.execute_input": "2025-05-05T17:07:21.474870Z",
     "iopub.status.busy": "2025-05-05T17:07:21.474668Z",
     "iopub.status.idle": "2025-05-05T17:07:21.479190Z",
     "shell.execute_reply": "2025-05-05T17:07:21.478528Z"
    },
    "jupyter": {
     "outputs_hidden": false
    },
    "papermill": {
     "duration": 0.011317,
     "end_time": "2025-05-05T17:07:21.480317",
     "exception": false,
     "start_time": "2025-05-05T17:07:21.469000",
     "status": "completed"
    },
    "tags": []
   },
   "outputs": [],
   "source": [
    "def evaluate(model, loader, task, device):\n",
    "    model.eval()\n",
    "    true_labels, pred_labels = [], []\n",
    "\n",
    "    with torch.no_grad():\n",
    "        for x, y in loader:\n",
    "            x, y = x.to(device), y.to(device)\n",
    "            outputs = model(x)\n",
    "\n",
    "            # Convert output to prediction\n",
    "            if task == 'classification':\n",
    "                preds = torch.argmax(outputs, dim=1)  \n",
    "            else:\n",
    "                preds = outputs.squeeze()  \n",
    "\n",
    "            # Store true and predicted values\n",
    "            true_labels.extend(y.cpu().numpy())\n",
    "            pred_labels.extend(preds.cpu().numpy())\n",
    "\n",
    "    return np.array(true_labels), np.array(pred_labels)"
   ]
  },
  {
   "cell_type": "markdown",
   "id": "ec28d2b1",
   "metadata": {
    "_cell_guid": "3241348f-6cb0-41e9-882f-06cecda801cf",
    "_uuid": "ff174829-9963-4626-bb6a-434a1ceae3b5",
    "collapsed": false,
    "jupyter": {
     "outputs_hidden": false
    },
    "papermill": {
     "duration": 0.004963,
     "end_time": "2025-05-05T17:07:21.490555",
     "exception": false,
     "start_time": "2025-05-05T17:07:21.485592",
     "status": "completed"
    },
    "tags": []
   },
   "source": [
    "# Data"
   ]
  },
  {
   "cell_type": "markdown",
   "id": "e75500ec",
   "metadata": {
    "_cell_guid": "8b02b407-28f0-4cb0-a47e-34d7ff2b5295",
    "_uuid": "655f2d4d-00b1-4dcd-9b58-972f890ffb9f",
    "collapsed": false,
    "jupyter": {
     "outputs_hidden": false
    },
    "papermill": {
     "duration": 0.00511,
     "end_time": "2025-05-05T17:07:21.500897",
     "exception": false,
     "start_time": "2025-05-05T17:07:21.495787",
     "status": "completed"
    },
    "tags": []
   },
   "source": [
    "Load some files for example"
   ]
  },
  {
   "cell_type": "code",
   "execution_count": 10,
   "id": "911fefd9",
   "metadata": {
    "_cell_guid": "43b418e6-2c7d-4bad-915d-c6030d1c130e",
    "_uuid": "4a7c7134-8a2a-4acd-8374-25810b5a558e",
    "collapsed": false,
    "execution": {
     "iopub.execute_input": "2025-05-05T17:07:21.511952Z",
     "iopub.status.busy": "2025-05-05T17:07:21.511741Z",
     "iopub.status.idle": "2025-05-05T17:07:21.542422Z",
     "shell.execute_reply": "2025-05-05T17:07:21.541710Z"
    },
    "jupyter": {
     "outputs_hidden": false
    },
    "papermill": {
     "duration": 0.037444,
     "end_time": "2025-05-05T17:07:21.543506",
     "exception": false,
     "start_time": "2025-05-05T17:07:21.506062",
     "status": "completed"
    },
    "tags": []
   },
   "outputs": [
    {
     "name": "stdout",
     "output_type": "stream",
     "text": [
      "(91, 109, 91)\n",
      "float32\n"
     ]
    }
   ],
   "source": [
    "img3D = np.load('/kaggle/input/fcmaps-processed/002_S_4654.processed.npy')\n",
    "\n",
    "print(img3D.shape)\n",
    "print(img3D.dtype)"
   ]
  },
  {
   "cell_type": "markdown",
   "id": "0d723d66",
   "metadata": {
    "_cell_guid": "674ebd63-ce1b-450c-9131-9892ac08b634",
    "_uuid": "523d9291-5e26-40f7-acd2-24cf141800b1",
    "collapsed": false,
    "jupyter": {
     "outputs_hidden": false
    },
    "papermill": {
     "duration": 0.005824,
     "end_time": "2025-05-05T17:07:21.554802",
     "exception": false,
     "start_time": "2025-05-05T17:07:21.548978",
     "status": "completed"
    },
    "tags": []
   },
   "source": [
    "## Pairwise classification"
   ]
  },
  {
   "cell_type": "markdown",
   "id": "3e8732e7",
   "metadata": {
    "_cell_guid": "cc30bc2c-02ee-41ac-81fd-fa835044bb1b",
    "_uuid": "fac3cbaa-9e89-4b5a-907a-8bf51243f86e",
    "collapsed": false,
    "jupyter": {
     "outputs_hidden": false
    },
    "papermill": {
     "duration": 0.00515,
     "end_time": "2025-05-05T17:07:21.565480",
     "exception": false,
     "start_time": "2025-05-05T17:07:21.560330",
     "status": "completed"
    },
    "tags": []
   },
   "source": [
    "- ADNI + CBS = 116 \n",
    "- CBS + PSP = 105 \n",
    "- ADNI + PSP = 133"
   ]
  },
  {
   "cell_type": "code",
   "execution_count": 11,
   "id": "40eeb565",
   "metadata": {
    "_cell_guid": "63d50781-a04e-49de-bf3a-b7c310f3460b",
    "_uuid": "8cbe464f-6472-475d-9e76-7fca48b7da10",
    "collapsed": false,
    "execution": {
     "iopub.execute_input": "2025-05-05T17:07:21.576756Z",
     "iopub.status.busy": "2025-05-05T17:07:21.576573Z",
     "iopub.status.idle": "2025-05-05T17:07:21.581103Z",
     "shell.execute_reply": "2025-05-05T17:07:21.580387Z"
    },
    "jupyter": {
     "outputs_hidden": false
    },
    "papermill": {
     "duration": 0.011477,
     "end_time": "2025-05-05T17:07:21.582245",
     "exception": false,
     "start_time": "2025-05-05T17:07:21.570768",
     "status": "completed"
    },
    "tags": []
   },
   "outputs": [],
   "source": [
    "group1 = 'ADNI'\n",
    "group2 = 'PSP'\n",
    "\n",
    "df_pair = df_labels[df_labels['Group'].isin([group1, group2])].reset_index(drop=True)"
   ]
  },
  {
   "cell_type": "code",
   "execution_count": 12,
   "id": "41c3abad",
   "metadata": {
    "_cell_guid": "fbcfde95-1394-42e6-94ba-ee474521c3b5",
    "_uuid": "c566f84b-5c6e-44d7-9089-0b0e0b3185e8",
    "collapsed": false,
    "execution": {
     "iopub.execute_input": "2025-05-05T17:07:21.593604Z",
     "iopub.status.busy": "2025-05-05T17:07:21.593431Z",
     "iopub.status.idle": "2025-05-05T17:07:21.598421Z",
     "shell.execute_reply": "2025-05-05T17:07:21.597610Z"
    },
    "jupyter": {
     "outputs_hidden": false
    },
    "papermill": {
     "duration": 0.012034,
     "end_time": "2025-05-05T17:07:21.599702",
     "exception": false,
     "start_time": "2025-05-05T17:07:21.587668",
     "status": "completed"
    },
    "tags": []
   },
   "outputs": [
    {
     "data": {
      "text/plain": [
       "(129, 5)"
      ]
     },
     "execution_count": 12,
     "metadata": {},
     "output_type": "execute_result"
    }
   ],
   "source": [
    "df_pair.shape"
   ]
  },
  {
   "cell_type": "markdown",
   "id": "8b6f2c92",
   "metadata": {
    "_cell_guid": "023fe908-59d4-40df-ba22-a87a5ade6acc",
    "_uuid": "a0033120-1d58-4602-a85c-2129ab2bc762",
    "collapsed": false,
    "jupyter": {
     "outputs_hidden": false
    },
    "papermill": {
     "duration": 0.006178,
     "end_time": "2025-05-05T17:07:21.612294",
     "exception": false,
     "start_time": "2025-05-05T17:07:21.606116",
     "status": "completed"
    },
    "tags": []
   },
   "source": [
    "## Splitting"
   ]
  },
  {
   "cell_type": "code",
   "execution_count": 13,
   "id": "d054fceb",
   "metadata": {
    "_cell_guid": "9176a0f7-9e7c-4bd5-ac94-862402b44018",
    "_uuid": "05b0448a-d101-4234-8b5e-7325a9bede61",
    "collapsed": false,
    "execution": {
     "iopub.execute_input": "2025-05-05T17:07:21.625791Z",
     "iopub.status.busy": "2025-05-05T17:07:21.625583Z",
     "iopub.status.idle": "2025-05-05T17:07:21.634407Z",
     "shell.execute_reply": "2025-05-05T17:07:21.633873Z"
    },
    "jupyter": {
     "outputs_hidden": false
    },
    "papermill": {
     "duration": 0.016897,
     "end_time": "2025-05-05T17:07:21.635601",
     "exception": false,
     "start_time": "2025-05-05T17:07:21.618704",
     "status": "completed"
    },
    "tags": []
   },
   "outputs": [],
   "source": [
    "# Splitting of the dataset in training and testing\n",
    "train_df, df_test = train_test_split(\n",
    "    df_pair,\n",
    "    test_size=0.2,\n",
    "    stratify=df_pair['Group'],\n",
    "    random_state=42\n",
    ")\n",
    "\n",
    "# Splitting of training in training and validation \n",
    "df_train, df_val = train_test_split(\n",
    "    train_df,\n",
    "    test_size=0.2,\n",
    "    stratify=train_df[label_column],\n",
    "    random_state=42\n",
    ")"
   ]
  },
  {
   "cell_type": "markdown",
   "id": "37302fc4",
   "metadata": {
    "_cell_guid": "f0f84aa2-fac7-47be-b4df-c30a9526c949",
    "_uuid": "4ff176c6-8214-4461-81d9-f3c7862e838d",
    "collapsed": false,
    "jupyter": {
     "outputs_hidden": false
    },
    "papermill": {
     "duration": 0.005337,
     "end_time": "2025-05-05T17:07:21.646566",
     "exception": false,
     "start_time": "2025-05-05T17:07:21.641229",
     "status": "completed"
    },
    "tags": []
   },
   "source": [
    "Check the balance between groups"
   ]
  },
  {
   "cell_type": "code",
   "execution_count": 14,
   "id": "d31e34bd",
   "metadata": {
    "_cell_guid": "eb0c4f8b-6b52-4be1-891b-88cbb2e83a2b",
    "_uuid": "dbad722c-30c4-431d-8be7-245013513d6f",
    "collapsed": false,
    "execution": {
     "iopub.execute_input": "2025-05-05T17:07:21.657904Z",
     "iopub.status.busy": "2025-05-05T17:07:21.657698Z",
     "iopub.status.idle": "2025-05-05T17:07:21.664892Z",
     "shell.execute_reply": "2025-05-05T17:07:21.664176Z"
    },
    "jupyter": {
     "outputs_hidden": false
    },
    "papermill": {
     "duration": 0.014025,
     "end_time": "2025-05-05T17:07:21.665961",
     "exception": false,
     "start_time": "2025-05-05T17:07:21.651936",
     "status": "completed"
    },
    "tags": []
   },
   "outputs": [
    {
     "name": "stdout",
     "output_type": "stream",
     "text": [
      "Group\n",
      "ADNI    45\n",
      "PSP     37\n",
      "Name: count, dtype: int64\n",
      "Group\n",
      "ADNI    12\n",
      "PSP      9\n",
      "Name: count, dtype: int64\n",
      "Group\n",
      "ADNI    15\n",
      "PSP     11\n",
      "Name: count, dtype: int64\n"
     ]
    }
   ],
   "source": [
    "print(df_train['Group'].value_counts())\n",
    "print(df_val['Group'].value_counts())\n",
    "print(df_test['Group'].value_counts())"
   ]
  },
  {
   "cell_type": "markdown",
   "id": "b4a4a93b",
   "metadata": {
    "_cell_guid": "336964a1-aa14-41d5-8786-caf48134e884",
    "_uuid": "c6f9fccc-f7a4-45a5-9656-dd1c1c8e7674",
    "collapsed": false,
    "jupyter": {
     "outputs_hidden": false
    },
    "papermill": {
     "duration": 0.005348,
     "end_time": "2025-05-05T17:07:21.676894",
     "exception": false,
     "start_time": "2025-05-05T17:07:21.671546",
     "status": "completed"
    },
    "tags": []
   },
   "source": [
    "Example of augmentation"
   ]
  },
  {
   "cell_type": "code",
   "execution_count": 15,
   "id": "357faf7a",
   "metadata": {
    "_cell_guid": "2ffb1827-d910-4e13-925c-86819ca6846c",
    "_uuid": "3bcaae5d-911d-4089-98cb-cf4372c517bc",
    "collapsed": false,
    "execution": {
     "iopub.execute_input": "2025-05-05T17:07:21.689468Z",
     "iopub.status.busy": "2025-05-05T17:07:21.689253Z",
     "iopub.status.idle": "2025-05-05T17:07:22.580476Z",
     "shell.execute_reply": "2025-05-05T17:07:22.579827Z"
    },
    "jupyter": {
     "outputs_hidden": false
    },
    "papermill": {
     "duration": 0.89881,
     "end_time": "2025-05-05T17:07:22.581863",
     "exception": false,
     "start_time": "2025-05-05T17:07:21.683053",
     "status": "completed"
    },
    "tags": []
   },
   "outputs": [],
   "source": [
    "train_dataset = AugmentedFCDataset(path_fcmaps_augmented, train_df, label_column, task)"
   ]
  },
  {
   "cell_type": "code",
   "execution_count": 16,
   "id": "3766c25a",
   "metadata": {
    "_cell_guid": "e71d43ec-74d8-4a32-857d-555509a590cd",
    "_uuid": "60daa1b2-6688-473e-9202-e8257bcad817",
    "collapsed": false,
    "execution": {
     "iopub.execute_input": "2025-05-05T17:07:22.637720Z",
     "iopub.status.busy": "2025-05-05T17:07:22.637454Z",
     "iopub.status.idle": "2025-05-05T17:07:22.641458Z",
     "shell.execute_reply": "2025-05-05T17:07:22.640567Z"
    },
    "jupyter": {
     "outputs_hidden": false
    },
    "papermill": {
     "duration": 0.011517,
     "end_time": "2025-05-05T17:07:22.642554",
     "exception": false,
     "start_time": "2025-05-05T17:07:22.631037",
     "status": "completed"
    },
    "tags": []
   },
   "outputs": [
    {
     "name": "stdout",
     "output_type": "stream",
     "text": [
      "Shape before augmentation:  (103, 5)\n",
      "Shape after augmentation:  1030\n"
     ]
    }
   ],
   "source": [
    "print(\"Shape before augmentation: \", train_df.shape )\n",
    "print(\"Shape after augmentation: \", len(train_dataset) )"
   ]
  },
  {
   "cell_type": "markdown",
   "id": "bedd615b",
   "metadata": {
    "_cell_guid": "e2d815a8-c067-4c69-ac16-f12435930d5b",
    "_uuid": "6891e92e-42bc-4659-8074-f21d3e55b795",
    "collapsed": false,
    "jupyter": {
     "outputs_hidden": false
    },
    "papermill": {
     "duration": 0.005555,
     "end_time": "2025-05-05T17:07:22.653818",
     "exception": false,
     "start_time": "2025-05-05T17:07:22.648263",
     "status": "completed"
    },
    "tags": []
   },
   "source": [
    "# Training"
   ]
  },
  {
   "cell_type": "code",
   "execution_count": 17,
   "id": "55fbb62b",
   "metadata": {
    "_cell_guid": "8638b365-5cdd-4d0d-b2dc-db8e6d10e0aa",
    "_uuid": "bac1f448-3531-4a1d-95f2-b8c251ac3de2",
    "collapsed": false,
    "execution": {
     "iopub.execute_input": "2025-05-05T17:07:22.665859Z",
     "iopub.status.busy": "2025-05-05T17:07:22.665650Z",
     "iopub.status.idle": "2025-05-05T17:32:38.703919Z",
     "shell.execute_reply": "2025-05-05T17:32:38.703230Z"
    },
    "jupyter": {
     "outputs_hidden": false
    },
    "papermill": {
     "duration": 1516.05189,
     "end_time": "2025-05-05T17:32:38.711422",
     "exception": false,
     "start_time": "2025-05-05T17:07:22.659532",
     "status": "completed"
    },
    "tags": []
   },
   "outputs": [
    {
     "name": "stdout",
     "output_type": "stream",
     "text": [
      "Epoch 1/10 | Train Loss: 0.7514 | Val Loss: 1.2130 | Val Accuracy: 0.4286\n",
      "Epoch 2/10 | Train Loss: 0.6132 | Val Loss: 1.1061 | Val Accuracy: 0.7619\n",
      "Epoch 3/10 | Train Loss: 0.5406 | Val Loss: 1.3081 | Val Accuracy: 0.6190\n",
      "Epoch 4/10 | Train Loss: 0.3990 | Val Loss: 3.7803 | Val Accuracy: 0.4762\n",
      "Epoch 5/10 | Train Loss: 0.3142 | Val Loss: 1.6853 | Val Accuracy: 0.6667\n",
      "Epoch 6/10 | Train Loss: 0.3042 | Val Loss: 2.2335 | Val Accuracy: 0.7143\n",
      "Epoch 7/10 | Train Loss: 0.1934 | Val Loss: 1.1448 | Val Accuracy: 0.6667\n",
      "Epoch 8/10 | Train Loss: 0.1442 | Val Loss: 1.7676 | Val Accuracy: 0.7143\n",
      "Epoch 9/10 | Train Loss: 0.1870 | Val Loss: 1.3203 | Val Accuracy: 0.7619\n",
      "Epoch 10/10 | Train Loss: 0.1038 | Val Loss: 2.1942 | Val Accuracy: 0.7619\n"
     ]
    }
   ],
   "source": [
    "# Create Datasets\n",
    "train_dataset = AugmentedFCDataset(path_fcmaps_augmented, df_train, label_column, task)\n",
    "val_dataset = FCDataset(path_fcmaps, df_val, label_column, task)\n",
    "\n",
    "# Create DataLoaders\n",
    "train_loader = DataLoader(train_dataset, batch_size=batch_size, shuffle=True)\n",
    "val_loader = DataLoader(val_dataset, batch_size=batch_size, shuffle=False)\n",
    "\n",
    "# MODEL: ResNet3D\n",
    "model = ResNet3D(n_classes=2).to(device)\n",
    "optimizer = optim.Adam(model.parameters(), lr=lr)\n",
    "\n",
    "# Paramters\n",
    "train_losses = []\n",
    "val_losses = []\n",
    "val_accuracies = []\n",
    "\n",
    "best_accuracy = -float('inf')\n",
    "best_epoch = -1\n",
    "best_model_path = None\n",
    "\n",
    "# Training \n",
    "for epoch in range(epochs):\n",
    "    train_loss = train(train_loader, model, criterion, optimizer, device)\n",
    "    val_loss, val_accuracy = validate(val_loader, model, criterion, device, task)\n",
    "\n",
    "    print(f\"Epoch {epoch+1}/{epochs} | Train Loss: {train_loss:.4f} | Val Loss: {val_loss:.4f} | Val Accuracy: {val_accuracy:.4f}\")\n",
    "\n",
    "    train_losses.append(train_loss)\n",
    "    val_losses.append(val_loss)\n",
    "    val_accuracies.append(val_accuracy)\n",
    "\n",
    "    # Save best model with epoch number in the filename\n",
    "    if val_accuracy > best_accuracy:\n",
    "        best_accuracy = val_accuracy\n",
    "        best_epoch = epoch + 1  \n",
    "        best_model_path = f'best_model_epoch{best_epoch}.pt'\n",
    "        torch.save(model.state_dict(), best_model_path)"
   ]
  },
  {
   "cell_type": "code",
   "execution_count": 18,
   "id": "47ba21f8",
   "metadata": {
    "_cell_guid": "69522e7a-41f1-40f9-86a7-237370cf63fb",
    "_uuid": "3c9707dc-60b8-4c31-a416-927fa8be3477",
    "collapsed": false,
    "execution": {
     "iopub.execute_input": "2025-05-05T17:32:38.724274Z",
     "iopub.status.busy": "2025-05-05T17:32:38.724042Z",
     "iopub.status.idle": "2025-05-05T17:32:39.125297Z",
     "shell.execute_reply": "2025-05-05T17:32:39.124619Z"
    },
    "jupyter": {
     "outputs_hidden": false
    },
    "papermill": {
     "duration": 0.409167,
     "end_time": "2025-05-05T17:32:39.126642",
     "exception": false,
     "start_time": "2025-05-05T17:32:38.717475",
     "status": "completed"
    },
    "tags": []
   },
   "outputs": [
    {
     "data": {
      "image/png": "[encoded data removed]",
      "text/plain": [
       "<Figure size 800x500 with 1 Axes>"
      ]
     },
     "metadata": {},
     "output_type": "display_data"
    },
    {
     "data": {
      "image/png": "[encoded data removed]",
      "text/plain": [
       "<Figure size 800x500 with 1 Axes>"
      ]
     },
     "metadata": {},
     "output_type": "display_data"
    }
   ],
   "source": [
    "def plot_losses_and_accuracy(train_losses, val_losses, val_accuracies):\n",
    "    plt.figure(figsize=(8, 5))\n",
    "    plt.plot(train_losses, label='Train Loss', marker='o')\n",
    "    plt.plot(val_losses, label='Validation Loss', marker='s')\n",
    "    plt.plot(val_accuracies, label='Validation Accuracy', marker='^')\n",
    "    plt.xlabel('Epoch')\n",
    "    plt.ylabel('Value')\n",
    "    plt.title('Training Loss, Validation Loss and Validation Accuracy')\n",
    "    plt.legend()\n",
    "    plt.grid(True)\n",
    "    plt.show()\n",
    "\n",
    "def plot_losses_only(train_losses, val_losses):\n",
    "    plt.figure(figsize=(8, 5))\n",
    "    plt.plot(train_losses, label='Train Loss', marker='o')\n",
    "    plt.plot(val_losses, label='Validation Loss', marker='s')\n",
    "    plt.xlabel('Epoch')\n",
    "    plt.ylabel('Loss')\n",
    "    plt.title('Training and Validation Loss')\n",
    "    plt.legend()\n",
    "    plt.grid(True)\n",
    "    plt.show()\n",
    "\n",
    "# --- PLOT ---\n",
    "plot_losses_and_accuracy(train_losses, val_losses, val_accuracies)\n",
    "plot_losses_only(train_losses, val_losses)"
   ]
  },
  {
   "cell_type": "markdown",
   "id": "74836e5f",
   "metadata": {
    "_cell_guid": "81191a98-5ca9-4b75-be3a-1d08338d78e5",
    "_uuid": "0c9179c3-722a-4851-be2b-1bcd7c25c0fd",
    "collapsed": false,
    "jupyter": {
     "outputs_hidden": false
    },
    "papermill": {
     "duration": 0.007075,
     "end_time": "2025-05-05T17:32:39.141701",
     "exception": false,
     "start_time": "2025-05-05T17:32:39.134626",
     "status": "completed"
    },
    "tags": []
   },
   "source": [
    "# Evaluation"
   ]
  },
  {
   "cell_type": "code",
   "execution_count": 19,
   "id": "52e35971",
   "metadata": {
    "_cell_guid": "f9da0b4d-a7f6-43cb-9410-f6696589fcbb",
    "_uuid": "a21a71b5-da73-473b-bfe1-1a7f0ef328d6",
    "collapsed": false,
    "execution": {
     "iopub.execute_input": "2025-05-05T17:32:39.156918Z",
     "iopub.status.busy": "2025-05-05T17:32:39.156703Z",
     "iopub.status.idle": "2025-05-05T17:32:39.160458Z",
     "shell.execute_reply": "2025-05-05T17:32:39.159838Z"
    },
    "jupyter": {
     "outputs_hidden": false
    },
    "papermill": {
     "duration": 0.012571,
     "end_time": "2025-05-05T17:32:39.161467",
     "exception": false,
     "start_time": "2025-05-05T17:32:39.148896",
     "status": "completed"
    },
    "tags": []
   },
   "outputs": [
    {
     "name": "stdout",
     "output_type": "stream",
     "text": [
      "\n",
      "Best validation accuracy: 0.7619 at epoch 2\n",
      "Best model saved at: best_model_epoch2.pt\n"
     ]
    }
   ],
   "source": [
    "print(f\"\\nBest validation accuracy: {best_accuracy:.4f} at epoch {best_epoch}\")\n",
    "print(f\"Best model saved at: {best_model_path}\")"
   ]
  },
  {
   "cell_type": "code",
   "execution_count": 20,
   "id": "73624741",
   "metadata": {
    "_cell_guid": "4741b28c-9862-420b-8d43-df46111ff1da",
    "_uuid": "bd67ddc9-9804-4819-8f86-8568099abb2f",
    "collapsed": false,
    "execution": {
     "iopub.execute_input": "2025-05-05T17:32:39.176771Z",
     "iopub.status.busy": "2025-05-05T17:32:39.176580Z",
     "iopub.status.idle": "2025-05-05T17:32:41.959945Z",
     "shell.execute_reply": "2025-05-05T17:32:41.959387Z"
    },
    "jupyter": {
     "outputs_hidden": false
    },
    "papermill": {
     "duration": 2.792583,
     "end_time": "2025-05-05T17:32:41.961327",
     "exception": false,
     "start_time": "2025-05-05T17:32:39.168744",
     "status": "completed"
    },
    "tags": []
   },
   "outputs": [
    {
     "name": "stderr",
     "output_type": "stream",
     "text": [
      "/tmp/ipykernel_19/3029131000.py:7: FutureWarning: You are using `torch.load` with `weights_only=False` (the current default value), which uses the default pickle module implicitly. It is possible to construct malicious pickle data which will execute arbitrary code during unpickling (See https://github.com/pytorch/pytorch/blob/main/SECURITY.md#untrusted-models for more details). In a future release, the default value for `weights_only` will be flipped to `True`. This limits the functions that could be executed during unpickling. Arbitrary objects will no longer be allowed to be loaded via this mode unless they are explicitly allowlisted by the user via `torch.serialization.add_safe_globals`. We recommend you start setting `weights_only=True` for any use case where you don't have full control of the loaded file. Please open an issue on GitHub for any issues related to this experimental feature.\n",
      "  model.load_state_dict(torch.load(best_model_path))\n"
     ]
    }
   ],
   "source": [
    "# Dataset and DataLoaders \n",
    "test_dataset = FCDataset(path_fcmaps, df_test, label_column, task)\n",
    "test_loader = DataLoader(test_dataset, batch_size=batch_size, shuffle=False)\n",
    "\n",
    "# Load the model\n",
    "model = ResNet3D(n_classes=n_classes).to(device)\n",
    "model.load_state_dict(torch.load(best_model_path))\n",
    "model.eval()\n",
    "\n",
    "# Test\n",
    "y_true, y_pred = evaluate(model, test_loader, task, device)"
   ]
  },
  {
   "cell_type": "markdown",
   "id": "ae237ebe",
   "metadata": {
    "_cell_guid": "208a4169-4b98-462e-be46-9a1ce7a8c9b5",
    "_uuid": "f46a08f2-e96c-4deb-aef7-e5221654df32",
    "collapsed": false,
    "jupyter": {
     "outputs_hidden": false
    },
    "papermill": {
     "duration": 0.007231,
     "end_time": "2025-05-05T17:32:41.976507",
     "exception": false,
     "start_time": "2025-05-05T17:32:41.969276",
     "status": "completed"
    },
    "tags": []
   },
   "source": [
    "## Classification"
   ]
  },
  {
   "cell_type": "code",
   "execution_count": 21,
   "id": "9908c85f",
   "metadata": {
    "_cell_guid": "99862f4c-9524-438d-943b-94c54caa18ef",
    "_uuid": "5deb4aa3-552f-4ce2-97f4-593afa6170d8",
    "collapsed": false,
    "execution": {
     "iopub.execute_input": "2025-05-05T17:32:41.992414Z",
     "iopub.status.busy": "2025-05-05T17:32:41.991910Z",
     "iopub.status.idle": "2025-05-05T17:32:42.003577Z",
     "shell.execute_reply": "2025-05-05T17:32:42.003086Z"
    },
    "jupyter": {
     "outputs_hidden": false
    },
    "papermill": {
     "duration": 0.020729,
     "end_time": "2025-05-05T17:32:42.004586",
     "exception": false,
     "start_time": "2025-05-05T17:32:41.983857",
     "status": "completed"
    },
    "tags": []
   },
   "outputs": [],
   "source": [
    "# Metrics\n",
    "report = classification_report(\n",
    "    y_true, y_pred,\n",
    "    output_dict=True,\n",
    "    zero_division=0  \n",
    ")\n",
    "\n",
    "df_report = pd.DataFrame(report).transpose()"
   ]
  },
  {
   "cell_type": "code",
   "execution_count": 22,
   "id": "49eccbde",
   "metadata": {
    "_cell_guid": "67c5b792-c8bd-44a8-9bde-1d793bab1505",
    "_uuid": "04d082f0-1234-405a-bc5d-6c7d34394d04",
    "collapsed": false,
    "execution": {
     "iopub.execute_input": "2025-05-05T17:32:42.020017Z",
     "iopub.status.busy": "2025-05-05T17:32:42.019844Z",
     "iopub.status.idle": "2025-05-05T17:32:42.037196Z",
     "shell.execute_reply": "2025-05-05T17:32:42.036437Z"
    },
    "jupyter": {
     "outputs_hidden": false
    },
    "papermill": {
     "duration": 0.026264,
     "end_time": "2025-05-05T17:32:42.038315",
     "exception": false,
     "start_time": "2025-05-05T17:32:42.012051",
     "status": "completed"
    },
    "tags": []
   },
   "outputs": [
    {
     "data": {
      "text/html": [
       "<div>\n",
       "<style scoped>\n",
       "    .dataframe tbody tr th:only-of-type {\n",
       "        vertical-align: middle;\n",
       "    }\n",
       "\n",
       "    .dataframe tbody tr th {\n",
       "        vertical-align: top;\n",
       "    }\n",
       "\n",
       "    .dataframe thead th {\n",
       "        text-align: right;\n",
       "    }\n",
       "</style>\n",
       "<table border=\"1\" class=\"dataframe\">\n",
       "  <thead>\n",
       "    <tr style=\"text-align: right;\">\n",
       "      <th></th>\n",
       "      <th>precision</th>\n",
       "      <th>recall</th>\n",
       "      <th>f1-score</th>\n",
       "      <th>support</th>\n",
       "    </tr>\n",
       "  </thead>\n",
       "  <tbody>\n",
       "    <tr>\n",
       "      <th>0</th>\n",
       "      <td>0.579</td>\n",
       "      <td>0.733</td>\n",
       "      <td>0.647</td>\n",
       "      <td>15.000</td>\n",
       "    </tr>\n",
       "    <tr>\n",
       "      <th>1</th>\n",
       "      <td>0.429</td>\n",
       "      <td>0.273</td>\n",
       "      <td>0.333</td>\n",
       "      <td>11.000</td>\n",
       "    </tr>\n",
       "    <tr>\n",
       "      <th>accuracy</th>\n",
       "      <td>0.538</td>\n",
       "      <td>0.538</td>\n",
       "      <td>0.538</td>\n",
       "      <td>0.538</td>\n",
       "    </tr>\n",
       "    <tr>\n",
       "      <th>macro avg</th>\n",
       "      <td>0.504</td>\n",
       "      <td>0.503</td>\n",
       "      <td>0.490</td>\n",
       "      <td>26.000</td>\n",
       "    </tr>\n",
       "    <tr>\n",
       "      <th>weighted avg</th>\n",
       "      <td>0.515</td>\n",
       "      <td>0.538</td>\n",
       "      <td>0.514</td>\n",
       "      <td>26.000</td>\n",
       "    </tr>\n",
       "  </tbody>\n",
       "</table>\n",
       "</div>"
      ],
      "text/plain": [
       "              precision  recall  f1-score  support\n",
       "0                 0.579   0.733     0.647   15.000\n",
       "1                 0.429   0.273     0.333   11.000\n",
       "accuracy          0.538   0.538     0.538    0.538\n",
       "macro avg         0.504   0.503     0.490   26.000\n",
       "weighted avg      0.515   0.538     0.514   26.000"
      ]
     },
     "execution_count": 22,
     "metadata": {},
     "output_type": "execute_result"
    }
   ],
   "source": [
    "df_report.round(3)"
   ]
  },
  {
   "cell_type": "code",
   "execution_count": 23,
   "id": "db94fb5b",
   "metadata": {
    "_cell_guid": "ff58b369-2c6f-423f-b182-d78804848e3e",
    "_uuid": "7f7343e7-8050-4e58-8cab-9c5967991b67",
    "collapsed": false,
    "execution": {
     "iopub.execute_input": "2025-05-05T17:32:42.053925Z",
     "iopub.status.busy": "2025-05-05T17:32:42.053755Z",
     "iopub.status.idle": "2025-05-05T17:32:42.210038Z",
     "shell.execute_reply": "2025-05-05T17:32:42.209314Z"
    },
    "jupyter": {
     "outputs_hidden": false
    },
    "papermill": {
     "duration": 0.165484,
     "end_time": "2025-05-05T17:32:42.211292",
     "exception": false,
     "start_time": "2025-05-05T17:32:42.045808",
     "status": "completed"
    },
    "tags": []
   },
   "outputs": [
    {
     "data": {
      "image/png": "[encoded data removed]",
      "text/plain": [
       "<Figure size 640x480 with 2 Axes>"
      ]
     },
     "metadata": {},
     "output_type": "display_data"
    }
   ],
   "source": [
    "# Confusion matrix\n",
    "conf_matrix = confusion_matrix(y_true, y_pred)\n",
    "sns.heatmap(conf_matrix, annot=True, fmt='d', cmap='Blues')\n",
    "plt.title(\"Test Confusion Matrix\")\n",
    "plt.xlabel(\"Predicted\")\n",
    "plt.ylabel(\"True\")\n",
    "plt.show()"
   ]
  }
 ],
 "metadata": {
  "kaggle": {
   "accelerator": "gpu",
   "dataSources": [
    {
     "datasetId": 7276265,
     "sourceId": 11601721,
     "sourceType": "datasetVersion"
    },
    {
     "datasetId": 7276616,
     "sourceId": 11602172,
     "sourceType": "datasetVersion"
    },
    {
     "datasetId": 7276639,
     "sourceId": 11602206,
     "sourceType": "datasetVersion"
    }
   ],
   "dockerImageVersionId": 31011,
   "isGpuEnabled": true,
   "isInternetEnabled": true,
   "language": "python",
   "sourceType": "notebook"
  },
  "kernelspec": {
   "display_name": "Python 3",
   "language": "python",
   "name": "python3"
  },
  "language_info": {
   "codemirror_mode": {
    "name": "ipython",
    "version": 3
   },
   "file_extension": ".py",
   "mimetype": "text/x-python",
   "name": "python",
   "nbconvert_exporter": "python",
   "pygments_lexer": "ipython3",
   "version": "3.11.11"
  },
  "papermill": {
   "default_parameters": {},
   "duration": 1539.802536,
   "end_time": "2025-05-05T17:32:45.376046",
   "environment_variables": {},
   "exception": null,
   "input_path": "__notebook__.ipynb",
   "output_path": "__notebook__.ipynb",
   "parameters": {},
   "start_time": "2025-05-05T17:07:05.573510",
   "version": "2.6.0"
  }
 },
 "nbformat": 4,
 "nbformat_minor": 5
}
