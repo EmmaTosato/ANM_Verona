{
 "cells": [
  {
   "metadata": {},
   "cell_type": "markdown",
   "source": "# Utils",
   "id": "d2307c9fb1159ab0"
  },
  {
   "metadata": {},
   "cell_type": "markdown",
   "source": "### Libraries",
   "id": "9b2b11082d01386"
  },
  {
   "metadata": {},
   "cell_type": "code",
   "source": [
    "import pandas as pd\n",
    "import os\n",
    "import glob\n",
    "import nibabel as nib\n",
    "import matplotlib.pyplot as plt\n",
    "import seaborn as sns\n",
    "from sklearn.cluster import KMeans, DBSCAN\n",
    "from sklearn.mixture import GaussianMixture\n",
    "import hdbscan\n",
    "import umap\n",
    "import statsmodels.api as sm\n",
    "import warnings\n",
    "import sys\n",
    "import numpy as np\n",
    "from sklearn.metrics import silhouette_score\n",
    "from scipy.optimize import linear_sum_assignment\n",
    "from scipy.stats import chi2_contingency\n",
    "from scipy.stats import kruskal\n",
    "import scikit_posthocs as sp"
   ],
   "id": "8f9011cd0abd3331",
   "outputs": [],
   "execution_count": null
  },
  {
   "metadata": {},
   "cell_type": "code",
   "source": [
    "# Suppress all FutureWarnings\n",
    "warnings.simplefilter(action='ignore', category=FutureWarning)\n",
    "\n",
    "sys.path.append(\"/Users/emmatosato/Documents/PhD/ANM_Verona/src/data_processing\")"
   ],
   "id": "d066a2db917b8be1",
   "outputs": [],
   "execution_count": null
  },
  {
   "metadata": {},
   "cell_type": "code",
   "source": [
    "import importlib\n",
    "from data_processing import umap_clustering, umap_regression, clustering_evaluation, umap_run, processing_flat\n",
    "\n",
    "importlib.reload(clustering_evaluation)\n",
    "importlib.reload(umap_regression)\n",
    "importlib.reload(umap_clustering)\n",
    "importlib.reload(umap_run)\n",
    "importlib.reload(processing_flat)\n",
    "\n",
    "from data_processing.clustering_evaluation import evaluate_kmeans, evaluate_gmm, evaluate_hdbscan, evaluate_consensus\n",
    "from data_processing.umap_regression import main_regression, plot_ols_diagnostics, remove_missing_values, plot_actual_vs_predicted\n",
    "from data_processing.umap_clustering import main_clustering\n",
    "from data_processing.processing_flat import main_processing_flat"
   ],
   "id": "8f2feb79630e9642",
   "outputs": [],
   "execution_count": null
  },
  {
   "metadata": {},
   "cell_type": "markdown",
   "source": "### Paths and folders",
   "id": "8b6fcec9b4b2fec2"
  },
  {
   "metadata": {},
   "cell_type": "code",
   "source": [
    "# FC maps directories\n",
    "dir_FCmaps = '/Users/emmatosato/Documents/PhD/ANM_Verona/data/FCmaps'\n",
    "dir_FCmaps_processed = '/data/FCmaps_augmented_processed'\n",
    "dir_data_utils = \"/Users/emmatosato/Documents/PhD/ANM_Verona/data_utils/\"\n",
    "\n",
    "# Path to masks\n",
    "gm_mask_path = '/Users/emmatosato/Documents/PhD/ANM_Verona/utils/masks/GM_mask.nii'\n",
    "harvard_oxford_mask_path = '/Users/emmatosato/Documents/PhD/ANM_Verona/utils/masks/mask_GM.nii'\n",
    "\n",
    "# Metadata\n",
    "atrophy_dataset_matches = '/Users/emmatosato/Documents/PhD/ANM_Verona/utils/metadata/atrophy_matched.xlsx'\n",
    "cognitive_dataset ='/Users/emmatosato/Documents/PhD/ANM_Verona/utils/metadata/cognitive_dataset.xlsx'\n",
    "path_df_meta = \"/Users/emmatosato/Documents/PhD/ANM_Verona/data/dataframes/meta/df_meta.csv\"\n",
    "\n",
    "# Done dataframe of preprocessed FC maps\n",
    "path_df_gm = \"/Users/emmatosato/Documents/PhD/ANM_Verona/data/dataframes/fdc/df_gm.pkl\"\n",
    "path_df_thr02_gm = \"/Users/emmatosato/Documents/PhD/ANM_Verona/data/dataframes/fdc/df_thr02_gm.pkl\""
   ],
   "id": "c6f2415abd969dfe",
   "outputs": [],
   "execution_count": null
  },
  {
   "metadata": {},
   "cell_type": "markdown",
   "source": "# Data",
   "id": "d60f1bf76e7d79dc"
  },
  {
   "metadata": {},
   "cell_type": "markdown",
   "source": "## Raw data",
   "id": "698891919317f663"
  },
  {
   "metadata": {},
   "cell_type": "markdown",
   "source": "#### One file example",
   "id": "12408347dff698ea"
  },
  {
   "metadata": {},
   "cell_type": "code",
   "source": [
    "# Load an image\n",
    "path_temp = os.path.join(dir_FCmaps, '1_S_5005.FDC.nii.gz')\n",
    "img = nib.load(path_temp)\n",
    "\n",
    "# Separate the data and affine\n",
    "temp_img = img.get_fdata()      # 3D volume data\n",
    "temp_affine = img.affine        # 4x4 affine matrix\n",
    "\n",
    "# Print shapes\n",
    "print(temp_img.shape)\n",
    "print(temp_affine.shape)"
   ],
   "id": "f0ebd8fa3587fe0d",
   "outputs": [],
   "execution_count": null
  },
  {
   "metadata": {},
   "cell_type": "markdown",
   "source": "#### Load data",
   "id": "16f7b76371b4b5b"
  },
  {
   "metadata": {},
   "cell_type": "markdown",
   "source": "Function for listing the data in nii.gz format and extract the subjects identifiers + printing some infos",
   "id": "a347049cd9c2a54d"
  },
  {
   "metadata": {},
   "cell_type": "code",
   "source": [
    "def listData_saveID(dir):\n",
    "    # All nii.gz files in the directory\n",
    "    files_path = sorted(glob.glob(os.path.join(dir, '*gz')))\n",
    "\n",
    "    # Extract Subject IDs from filenames\n",
    "    subject_id = [os.path.basename(f).replace('.FDC.nii.gz', '') for f in files_path]\n",
    "\n",
    "    # Sanity checks\n",
    "    assert len(files_path) == len(subject_id), (\n",
    "        f\"Mismatch count: {len(files_path)} files vs {len(subject_id)} IDs\"\n",
    "    )\n",
    "    assert len(subject_id) == len(set(subject_id)), \"ID duplicated\"\n",
    "    for fp, sid in zip(files_path, subject_id):\n",
    "        fname = os.path.basename(fp)\n",
    "        expected = sid + '.FDC.nii.gz'\n",
    "        assert fname == expected, (\n",
    "            f\"Filename “{fname}” do not correspond to the extracted ID“{sid}”\"\n",
    "        )\n",
    "\n",
    "    print(\"Check length:\")\n",
    "    print(\"Files: \", len(files_path))\n",
    "    print(\"Subject: \", len(subject_id))\n",
    "\n",
    "    return files_path, subject_id"
   ],
   "id": "e341a71b457ed198",
   "outputs": [],
   "execution_count": null
  },
  {
   "metadata": {},
   "cell_type": "code",
   "source": "files, sub_id = listData_saveID(dir_FCmaps)",
   "id": "fd8008a4ac215b1e",
   "outputs": [],
   "execution_count": null
  },
  {
   "metadata": {},
   "cell_type": "code",
   "source": [
    "maps_FDC = []\n",
    "for path in files:\n",
    "    print(path)\n",
    "    data = nib.load(path).get_fdata().flatten()\n",
    "    maps_FDC.append(data)\n",
    "\n",
    "# Stores subjects as rows and voxels as columns\n",
    "df=pd.DataFrame(maps_FDC)"
   ],
   "id": "ca7cf0e10394f52e",
   "outputs": [],
   "execution_count": null
  },
  {
   "metadata": {},
   "cell_type": "code",
   "source": [
    "# Copy without id\n",
    "df_eda = df.copy()"
   ],
   "id": "a91e302c01d36c6",
   "outputs": [],
   "execution_count": null
  },
  {
   "metadata": {},
   "cell_type": "code",
   "source": [
    "# Insert subjects id\n",
    "df.insert(0, 'ID', sub_id)\n",
    "print(\"\\n\", df.shape, \"\\n\")"
   ],
   "id": "fe6d0ddf20b37008",
   "outputs": [],
   "execution_count": null
  },
  {
   "metadata": {},
   "cell_type": "markdown",
   "source": "Some asserts",
   "id": "3624546e54efea3d"
  },
  {
   "metadata": {},
   "cell_type": "code",
   "source": [
    "# 1Ensure the EDA copy has one row per file\n",
    "assert df_eda.shape[0] == len(files), (\n",
    "    f\"Rows in df_eda ({df_eda.shape[0]}) != number of files ({len(files)})\"\n",
    ")\n",
    "\n",
    "# Ensure the df has one row per subject ID\n",
    "assert df.shape[0] == len(sub_id), (\n",
    "    f\"Number of rows ({df.shape[0]}) != number of IDs ({len(sub_id)})\"\n",
    ")\n",
    "\n",
    "# Verify the ID column matches the original sub_id order exactly\n",
    "assert df['ID'].tolist() == sub_id, \"Row IDs do not match the original sub_id order\"\n",
    "\n",
    "# Confirm there are no duplicate IDs\n",
    "assert df['ID'].is_unique, \"There are duplicate IDs in the DataFrame\"\n",
    "\n",
    "# Check that inserting the ID column did not alter the numeric data\n",
    "numeric_equal = (df.drop('ID', axis=1).values == df_eda.values).all()\n",
    "assert numeric_equal, \"Numeric data was altered when inserting the ID column\""
   ],
   "id": "5f79250d2618b475",
   "outputs": [],
   "execution_count": null
  },
  {
   "metadata": {},
   "cell_type": "markdown",
   "source": "#### EDA",
   "id": "4cd80b9b8e3e626b"
  },
  {
   "metadata": {},
   "cell_type": "code",
   "source": "print(f\"Shape of the dataframes: {df_eda.shape}\")",
   "id": "b1ced203b9a63bba",
   "outputs": [],
   "execution_count": null
  },
  {
   "metadata": {},
   "cell_type": "code",
   "source": [
    "# Global Statistics\n",
    "all_voxels = df_eda.values.flatten()\n",
    "all_voxels = all_voxels[~np.isnan(all_voxels)]\n",
    "\n",
    "# Descriptive statistics\n",
    "stats_summary = {\n",
    "    \"Min\": np.min(all_voxels),\n",
    "    \"Max\": np.max(all_voxels),\n",
    "    \"Mean\": np.mean(all_voxels),\n",
    "    \"Std\": np.std(all_voxels),\n",
    "    \"1st Percentile\": np.percentile(all_voxels, 1),\n",
    "    \"25th Percentile\": np.percentile(all_voxels, 25),\n",
    "    \"Median (50th)\": np.percentile(all_voxels, 50),\n",
    "    \"75th Percentile\": np.percentile(all_voxels, 75),\n",
    "    \"99th Percentile\": np.percentile(all_voxels, 99),\n",
    "}\n",
    "\n",
    "df_stats = pd.DataFrame.from_dict(stats_summary, orient='index', columns=['Value'])\n",
    "print(df_stats)"
   ],
   "id": "262a7e4c78402393",
   "outputs": [],
   "execution_count": null
  },
  {
   "metadata": {},
   "cell_type": "markdown",
   "source": "## Metadata",
   "id": "7b966529c376770e"
  },
  {
   "metadata": {},
   "cell_type": "markdown",
   "source": [
    "Dataset containing:\n",
    "- ID of the subject\n",
    "- The diagnosis (Group)\n",
    "- Sex\n",
    "- Age\n",
    "- Education\n",
    "\n",
    "The regressors:\n",
    "- CDR_SB: disease gravity with a larger range\n",
    "- CDR: same but smaller range"
   ],
   "id": "5059a630e74506b7"
  },
  {
   "metadata": {},
   "cell_type": "code",
   "source": [
    "# Load the metadata and align to FC map order\n",
    "df_meta = pd.read_excel(cognitive_dataset, sheet_name='Sheet1')\n",
    "df_meta['Age'] = df_meta['Age'].round(1)"
   ],
   "id": "a2cdb94ee2c6ab0d",
   "outputs": [],
   "execution_count": null
  },
  {
   "metadata": {},
   "cell_type": "code",
   "source": "df_meta.head(5)",
   "id": "4c8d2675a9fbfe",
   "outputs": [],
   "execution_count": null
  },
  {
   "metadata": {},
   "cell_type": "markdown",
   "source": "#### EDA on Labels",
   "id": "75bbb8130260c742"
  },
  {
   "metadata": {},
   "cell_type": "code",
   "source": [
    "print(\"Meta dataset BEFORE removing a subject\")\n",
    "print(df_meta.shape)\n",
    "\n",
    "# Remove the subject with ID \"4_S_5003\"\n",
    "df_meta = df_meta[df_meta['ID'] != '4_S_5003'].reset_index(drop=True)\n",
    "\n",
    "print(\"Meta dataset AFTER removing a subject\")\n",
    "print(df_meta.shape)"
   ],
   "id": "5c40ae7174a7c67d",
   "outputs": [],
   "execution_count": null
  },
  {
   "metadata": {},
   "cell_type": "code",
   "source": [
    "# Saving the new csv\n",
    "df_meta.to_csv(\"/Users/emmatosato/Documents/PhD/ANM_Verona/utils/metadata/labels.csv\", index=False)"
   ],
   "id": "6b6f6926f68a565c",
   "outputs": [],
   "execution_count": null
  },
  {
   "metadata": {},
   "cell_type": "markdown",
   "source": "General info",
   "id": "3c4a85df4881ef9c"
  },
  {
   "metadata": {},
   "cell_type": "code",
   "source": "print(df_meta.info())",
   "id": "20f443d79d342986",
   "outputs": [],
   "execution_count": null
  },
  {
   "metadata": {},
   "cell_type": "markdown",
   "source": "Missing values",
   "id": "20902029116b2c7d"
  },
  {
   "metadata": {},
   "cell_type": "code",
   "source": [
    "print(\"\\nMissing values for column:\")\n",
    "print(df_meta.isna().sum())"
   ],
   "id": "2b06daec429d0f9",
   "outputs": [],
   "execution_count": null
  },
  {
   "metadata": {},
   "cell_type": "markdown",
   "source": "Unique values WITH NaN",
   "id": "7427ff4e2707246b"
  },
  {
   "metadata": {},
   "cell_type": "code",
   "source": [
    "print(\"\\nUnique Values:\")\n",
    "print(\"Group:\", sorted(df_meta['Group'].unique()))\n",
    "print(\"CDR_SB:\", np.sort(df_meta['CDR_SB'].unique()))\n",
    "print(\"MMSE:\", np.sort(df_meta['MMSE'].unique()))"
   ],
   "id": "6172d29bfd3fdc71",
   "outputs": [],
   "execution_count": null
  },
  {
   "metadata": {},
   "cell_type": "markdown",
   "source": "Unique values WITHOUT NaN",
   "id": "10ad5526b634568d"
  },
  {
   "metadata": {},
   "cell_type": "code",
   "source": [
    "cdr_sb_no_nan = df_meta['CDR_SB'].dropna()\n",
    "mmse_no_nan = df_meta['MMSE'].dropna()"
   ],
   "id": "3a84fc9a62471f2b",
   "outputs": [],
   "execution_count": null
  },
  {
   "metadata": {},
   "cell_type": "code",
   "source": [
    "print(\"\\nUnique Values:\")\n",
    "print(\"CDR_SB:\", np.sort(cdr_sb_no_nan.unique()))\n",
    "print(\"MMSE:\", np.sort(mmse_no_nan.unique()))"
   ],
   "id": "b62dcaa34c3e9714",
   "outputs": [],
   "execution_count": null
  },
  {
   "metadata": {},
   "cell_type": "code",
   "source": "print(df_meta.select_dtypes(include='number').describe().round(1))",
   "id": "23b0bdcd397cc90d",
   "outputs": [],
   "execution_count": null
  },
  {
   "metadata": {},
   "cell_type": "code",
   "source": [
    "fig, axes = plt.subplots(1, 2, figsize=(12, 4))\n",
    "\n",
    "sns.histplot(mmse_no_nan, bins=25, ax=axes[0], color='#61bdcd', edgecolor='black', alpha=0.85)\n",
    "axes[0].set_title(\"MMSE Distribution\", fontsize=14, weight='bold')\n",
    "\n",
    "sns.histplot(cdr_sb_no_nan, bins=25, ax=axes[1], color='#61bdcd', edgecolor='black', alpha=0.85, kde=True)\n",
    "axes[1].set_title(\"CDR_SB Distribution\", fontsize=14, weight='bold')\n",
    "\n",
    "plt.tight_layout()\n",
    "plt.show()"
   ],
   "id": "78e1b5a0c3c187c4",
   "outputs": [],
   "execution_count": null
  },
  {
   "metadata": {},
   "cell_type": "markdown",
   "source": "#### GMM on CDR_SB",
   "id": "4b7138387957da4d"
  },
  {
   "metadata": {},
   "cell_type": "markdown",
   "source": [
    "- Assigning each CDB_SB value to a cluster using GMM, removing NaN values before\n",
    "- New column for the metadata dataframe"
   ],
   "id": "714814b2b4f204e1"
  },
  {
   "metadata": {},
   "cell_type": "code",
   "source": [
    "# Filter valid CDR_SB values\n",
    "df_cdr = df_meta[['ID', 'CDR_SB']].dropna().copy()\n",
    "print(\"Dimensions after dropping NaN\", df_cdr.shape)\n",
    "\n",
    "# Fit GMM and predict raw labels\n",
    "np.random.seed(42)\n",
    "x_gmm = df_cdr['CDR_SB'].values.reshape(-1, 1)\n",
    "gmm = GaussianMixture(n_components=3, random_state=42).fit(x_gmm)\n",
    "df_cdr['GMM_Label'] = gmm.predict(x_gmm)\n",
    "\n",
    "# Reorder labels by CDR_SB severity\n",
    "means = df_cdr.groupby('GMM_Label')['CDR_SB'].mean().sort_values()\n",
    "label_map = {old: new for new, old in enumerate(means.index)}\n",
    "df_cdr['GMM_Label'] = df_cdr['GMM_Label'].map(label_map)\n",
    "\n",
    "# Include in metadata\n",
    "label_map = dict(zip(df_cdr['ID'], df_cdr['GMM_Label']))\n",
    "df_meta = df_meta.drop(columns=['GMM_Label'], errors='ignore')\n",
    "df_meta['GMM_Label'] = df_meta['ID'].map(label_map).astype('Int64')"
   ],
   "id": "da613d57fd5aa726",
   "outputs": [],
   "execution_count": null
  },
  {
   "metadata": {},
   "cell_type": "code",
   "source": "print(df_meta['GMM_Label'].value_counts().sort_index())",
   "id": "7282a270c85ba63a",
   "outputs": [],
   "execution_count": null
  },
  {
   "metadata": {},
   "cell_type": "code",
   "source": [
    "plt.figure(figsize=(7, 5))\n",
    "sns.histplot(\n",
    "    data=df_meta.dropna(subset=['CDR_SB', 'GMM_Label']),\n",
    "    x='CDR_SB',\n",
    "    hue='GMM_Label',\n",
    "    palette='Set2',\n",
    "    multiple='stack',   # oppure 'dodge' per barre affiancate\n",
    "    bins=35,\n",
    "    edgecolor='black',\n",
    "    alpha=0.8\n",
    ")\n",
    "\n",
    "plt.xlabel(\"CDR_SB\", fontsize=12)\n",
    "plt.ylabel(\"Number of Subjects\", fontsize=12)\n",
    "plt.title(\"CDR_SB Distribution by GMM Cluster\", fontsize=14)\n",
    "plt.grid(axis='y', linestyle='--', alpha=0.4)\n",
    "plt.tight_layout()\n",
    "plt.show()"
   ],
   "id": "c6074ee27cae3333",
   "outputs": [],
   "execution_count": null
  },
  {
   "metadata": {},
   "cell_type": "code",
   "source": "aic, bic = evaluate_gmm(x_gmm, K_range=range(2, 9), save_path= None, prefix=\"cdr_sb\", plot_flag=True)",
   "id": "9c1741cee678bbbd",
   "outputs": [],
   "execution_count": null
  },
  {
   "metadata": {},
   "cell_type": "markdown",
   "source": "## Yeo Data",
   "id": "84b8fc584474c2fb"
  },
  {
   "metadata": {},
   "cell_type": "code",
   "source": [
    "df_networks_no_thr = pd.read_csv(\"/Users/emmatosato/Documents/PhD/ANM_Verona/data/mean_networks/mean_networks_noTHR.csv\")\n",
    "df_networks_thr01 = pd.read_csv(\"/Users/emmatosato/Documents/PhD/ANM_Verona/data/mean_networks/mean_networks_thr01.csv\")\n",
    "df_networks_thr02 = pd.read_csv(\"/Users/emmatosato/Documents/PhD/ANM_Verona/data/mean_networks/mean_networks_thr02.csv\")"
   ],
   "id": "956ae8e026a719ce",
   "outputs": [],
   "execution_count": null
  },
  {
   "metadata": {},
   "cell_type": "code",
   "source": [
    "df_networks_no_thr = df_networks_no_thr.rename(columns={\"CODE\": \"ID\"})\n",
    "df_networks_thr01 = df_networks_thr01.rename(columns={\"CODE\": \"ID\"})\n",
    "df_networks_thr02 = df_networks_thr02.rename(columns={\"CODE\": \"ID\"})"
   ],
   "id": "5f56ec19bccae709",
   "outputs": [],
   "execution_count": null
  },
  {
   "metadata": {},
   "cell_type": "code",
   "source": "features_network = ['VIS_mean', 'VAN_mean', 'DAN_mean', 'DMN_mean', 'LMB_mean', 'FPN_mean', 'SMN_mean', 'SUBCORTICAL_mean']",
   "id": "a0dfad7f689b3b5b",
   "outputs": [],
   "execution_count": null
  },
  {
   "metadata": {},
   "cell_type": "markdown",
   "source": "# Analysis with UMAP",
   "id": "615a9598c6cde30a"
  },
  {
   "metadata": {},
   "cell_type": "markdown",
   "source": "## Data",
   "id": "10edbefeb5b19e51"
  },
  {
   "metadata": {},
   "cell_type": "markdown",
   "source": "### Load data",
   "id": "b07e011ae14fd1e4"
  },
  {
   "metadata": {},
   "cell_type": "markdown",
   "source": "Recall the dataframe with ID and values of the maps",
   "id": "e2bca850be675657"
  },
  {
   "metadata": {},
   "cell_type": "code",
   "source": [
    "print(\"\\n\", df.shape, \"\\n\")\n",
    "df.iloc[:5, :5]"
   ],
   "id": "ae2fed907301bf90",
   "outputs": [],
   "execution_count": null
  },
  {
   "metadata": {},
   "cell_type": "markdown",
   "source": "Merging the meta columns with the above dataframe: the order of the subject must be the same of the dataframe of the FC maps",
   "id": "ffc225be42e4964a"
  },
  {
   "metadata": {},
   "cell_type": "code",
   "source": [
    "df_meta = df_meta.set_index('ID').loc[df['ID']].reset_index()\n",
    "\n",
    "assert all(df['ID'] == df_meta['ID']), \"Mismatch between ID of df and df_meta_ordered\"\n",
    "print(\"The ID are now perfectly aligned\")"
   ],
   "id": "28416976a250208c",
   "outputs": [],
   "execution_count": null
  },
  {
   "metadata": {},
   "cell_type": "markdown",
   "source": "### Preprocessing",
   "id": "4c12c2b07428273d"
  },
  {
   "metadata": {},
   "cell_type": "code",
   "source": "df.shape",
   "id": "bc2e164ae01c4c4a",
   "outputs": [],
   "execution_count": null
  },
  {
   "metadata": {},
   "cell_type": "markdown",
   "source": "#### Thresholding",
   "id": "910d3dab9e84fe94"
  },
  {
   "metadata": {},
   "cell_type": "markdown",
   "source": "Set a threshold for values below 0.1 and 0.2 for defining correlation",
   "id": "fc66b2a7478ac41e"
  },
  {
   "metadata": {},
   "cell_type": "code",
   "source": [
    "def apply_threshold(dataframe, threshold):\n",
    "    df_thr = dataframe.copy()\n",
    "    df_thr.iloc[:, 1:] = df_thr.iloc[:, 1:].mask(df_thr.iloc[:, 1:] < threshold, 0)\n",
    "    return df_thr"
   ],
   "id": "dd011c7e7602784d",
   "outputs": [],
   "execution_count": null
  },
  {
   "metadata": {},
   "cell_type": "code",
   "source": "df_thr_01 = apply_threshold(df, threshold=0.1)",
   "id": "550a9f807f7dd33e",
   "outputs": [],
   "execution_count": null
  },
  {
   "metadata": {},
   "cell_type": "code",
   "source": "df_thr_02 = apply_threshold(df, threshold=0.2)",
   "id": "aaa4cb5ac07e8bb6",
   "outputs": [],
   "execution_count": null
  },
  {
   "metadata": {},
   "cell_type": "markdown",
   "source": "#### GM Mask",
   "id": "f81280d70543524c"
  },
  {
   "metadata": {},
   "cell_type": "markdown",
   "source": [
    "- Binary mask of grey matter using the Harvard-Oxford Atlas\n",
    "\n",
    "- Keeping the Gray Matter voxels"
   ],
   "id": "ac634cb3c5710ee9"
  },
  {
   "metadata": {},
   "cell_type": "code",
   "source": [
    "def apply_mask(df_thr, mask_path):\n",
    "    # Load and flatten GM mask\n",
    "    mask = nib.load(mask_path).get_fdata().flatten()\n",
    "    assert mask.shape[0] == df_thr.shape[1] - 1, \"Mask and data length mismatch\"\n",
    "\n",
    "    # Mask\n",
    "    voxel_data = df_thr.iloc[:, 1:]\n",
    "    voxel_data_masked = voxel_data.loc[:, mask != 0]\n",
    "\n",
    "    # Return the masked dataframes\n",
    "    df_masked = pd.concat([df_thr[['ID']], voxel_data_masked], axis=1)\n",
    "    df_masked.columns = ['ID'] + list(range(voxel_data_masked.shape[1]))\n",
    "    return df_masked"
   ],
   "id": "12e89e56890e2e5a",
   "outputs": [],
   "execution_count": null
  },
  {
   "metadata": {},
   "cell_type": "code",
   "source": [
    "# GM masking\n",
    "# 0.1 threshold\n",
    "df_thr01_gm = apply_mask(df_thr_01, gm_mask_path)\n",
    "\n",
    "# 0.2 threshold\n",
    "df_thr02_gm = apply_mask(df_thr_02, gm_mask_path)\n",
    "\n",
    "# Without threshold\n",
    "df_gm = apply_mask(df, gm_mask_path)"
   ],
   "id": "a1cf4dfa092b448f",
   "outputs": [],
   "execution_count": null
  },
  {
   "metadata": {},
   "cell_type": "code",
   "source": [
    "# Harvard masking\n",
    "# 0.1 threshold\n",
    "df_thr01_har = apply_mask(df_thr_01, harvard_oxford_mask_path)\n",
    "\n",
    "# 0.2 threshold\n",
    "df_thr02_har = apply_mask(df_thr_02, harvard_oxford_mask_path)\n",
    "\n",
    "# Without\n",
    "df_har = apply_mask(df, harvard_oxford_mask_path)"
   ],
   "id": "bb85e9a257d11c05",
   "outputs": [],
   "execution_count": null
  },
  {
   "metadata": {},
   "cell_type": "markdown",
   "source": "### EDA",
   "id": "7c7c631d5225cc0b"
  },
  {
   "metadata": {},
   "cell_type": "code",
   "source": [
    "print(\"Dimensions of dataframes after gm masking with 2 different thresholds:\")\n",
    "print(\"0.1 threshold\", df_thr01_gm.shape)\n",
    "print(\"0.2 threshold\", df_thr02_gm.shape)\n",
    "\n",
    "print(\"\\nDimensions of dataframes after harvard masking with 2 different thresholds:\")\n",
    "print(\"0.1 threshold\", df_thr01_har.shape)\n",
    "print(\"0.2 threshold\", df_thr02_har.shape)\n",
    "\n",
    "print(\"\\nDimensions of dataframes after gm masking and harvard masking without thresholding:\")\n",
    "print(\"GM Mask\", df_gm.shape)\n",
    "print(\"Harvard Mask\", df_har.shape)"
   ],
   "id": "f52e58ef016bc712",
   "outputs": [],
   "execution_count": null
  },
  {
   "metadata": {},
   "cell_type": "code",
   "source": [
    "def summarize_voxel_data(df_masked, threshold=None):\n",
    "    summary = {}\n",
    "    summary['Shape'] = df_masked.shape\n",
    "\n",
    "    if threshold:\n",
    "        has_low = ((df_masked.iloc[:, 1:] > 0) & (df_masked.iloc[:, 1:] < threshold)).any().any()\n",
    "        summary['Valori tra 0 e threshold'] = has_low\n",
    "    else:\n",
    "        summary['Valori tra 0 e threshold'] = 'N/A'\n",
    "\n",
    "    zero_rows = (df_masked.iloc[:, 1:] == 0).all(axis=1).sum()\n",
    "    summary['Zero maps'] = f\"{zero_rows} su {df_masked.shape[0]}\"\n",
    "\n",
    "    voxel_data = df_masked.iloc[:, 1:].values\n",
    "    nonzero_voxels = voxel_data[voxel_data != 0]\n",
    "\n",
    "    summary['All Min'] = voxel_data.min()\n",
    "    summary['All Max'] = voxel_data.max()\n",
    "    summary['All Mean'] = voxel_data.mean()\n",
    "    summary['All Std'] = voxel_data.std()\n",
    "\n",
    "    summary['Nonzero Min'] = nonzero_voxels.min()\n",
    "    summary['Nonzero Max'] = nonzero_voxels.max()\n",
    "    summary['Nonzero Mean'] = nonzero_voxels.mean()\n",
    "    summary['Nonzero Std'] = nonzero_voxels.std()\n",
    "\n",
    "    return summary"
   ],
   "id": "376dce1d9d582b2f",
   "outputs": [],
   "execution_count": null
  },
  {
   "metadata": {},
   "cell_type": "code",
   "source": [
    "# Dataset\n",
    "dataframes = {\n",
    "    \"thr_01_gm\": (df_thr01_gm, 0.1),\n",
    "    \"thr_02_gm\": (df_thr02_gm, 0.2),\n",
    "    \"thr_01_har\": (df_thr01_har, 0.1),\n",
    "    \"thr_02_har\": (df_thr02_har, 0.2),\n",
    "    \"gm_no_thr\": (df_gm, None),\n",
    "    \"har_no_thr\": (df_har, None)\n",
    "}\n",
    "\n",
    "# Functions\n",
    "results = []\n",
    "\n",
    "for name, (dfm, thr) in dataframes.items():\n",
    "    summary = summarize_voxel_data(dfm, threshold=thr)\n",
    "    summary['Dataset'] = name\n",
    "    results.append(summary)\n",
    "\n",
    "# Summary\n",
    "df_summary = pd.DataFrame(results).set_index('Dataset')\n",
    "pd.options.display.float_format = '{:.4f}'.format"
   ],
   "id": "1f3f08e950823b3f",
   "outputs": [],
   "execution_count": null
  },
  {
   "metadata": {},
   "cell_type": "code",
   "source": [
    "print(\"Summary of voxel data:\")\n",
    "display(df_summary)"
   ],
   "id": "31307f44397022ad",
   "outputs": [],
   "execution_count": null
  },
  {
   "metadata": {},
   "cell_type": "markdown",
   "source": "### Input Data",
   "id": "2925b64f90879331"
  },
  {
   "metadata": {},
   "cell_type": "markdown",
   "source": [
    "For the further analysis we will remove the ID labels columns, but the order is mantained.\n",
    "\n",
    "Possible dataset from mean maps:\n",
    "- `df_thr01_gm_masked`\n",
    "- `df_thr02_gm_masked`\n",
    "- `df_thr01_har_masked`\n",
    "- `df_thr02_har_masked`\n",
    "- `df_gm_masked`\n",
    "- `df_har_masked`\n",
    "\n",
    "Possible dataset from mean network:\n",
    "- `df_networks_no_thr`\n",
    "- `df_networks_thr01`\n",
    "- `df_networks_thr02`\n",
    "\n",
    "Here we go with one example"
   ],
   "id": "35ac240fade635ab"
  },
  {
   "metadata": {
    "ExecuteTime": {
     "end_time": "2025-06-06T14:35:05.369245Z",
     "start_time": "2025-06-06T14:35:05.365536Z"
    }
   },
   "cell_type": "code",
   "source": [
    "def features_merging(df_voxel, df_labels):\n",
    "    # Meta columns\n",
    "    meta_columns = list(df_labels.columns)\n",
    "\n",
    "    # Merge based on subject ID\n",
    "    dataframe_merge = pd.merge(df_voxel, df_labels, on='ID', how='left', validate='one_to_one')\n",
    "\n",
    "    # Reorder columns: metadata first, then voxel features\n",
    "    ordered_cols = meta_columns + [col for col in dataframe_merge.columns if col not in meta_columns]\n",
    "    dataframe_merge = dataframe_merge[ordered_cols]\n",
    "\n",
    "    # Sanity check to ensure row alignment\n",
    "    assert (dataframe_merge['ID'].values == df_voxel['ID'].values).all(), \"Row order mismatch after merge\"\n",
    "\n",
    "    # Extract features only (drop metadata)\n",
    "    x = dataframe_merge.drop(columns=meta_columns)\n",
    "\n",
    "    return dataframe_merge, x"
   ],
   "id": "aa7acf95263f5887",
   "outputs": [],
   "execution_count": 220
  },
  {
   "metadata": {},
   "cell_type": "code",
   "source": [
    "# Function for skipping the preprocessing step above\n",
    "def open_dataframes(path_data, path_metadata):\n",
    "    df_masked = pd.read_pickle(path_data)\n",
    "    df_meta = pd.read_csv(path_metadata)\n",
    "\n",
    "    return df_masked, df_meta"
   ],
   "id": "39d8afffcf7bfb88",
   "outputs": [],
   "execution_count": null
  },
  {
   "metadata": {
    "ExecuteTime": {
     "end_time": "2025-06-06T14:34:45.842731Z",
     "start_time": "2025-06-06T14:34:45.285066Z"
    }
   },
   "cell_type": "code",
   "source": [
    "# Load dataframes\n",
    "df_gm, df_meta = open_dataframes(path_df_gm, path_df_meta)\n",
    "\n",
    "# Merge with metadata\n",
    "df_merged, X = features_merging(df_gm, df_meta)"
   ],
   "id": "ba9800f9f902f1a8",
   "outputs": [
    {
     "name": "stdout",
     "output_type": "stream",
     "text": [
      "Meta columns: ['ID', 'Group', 'Sex', 'Age', 'Education', 'CDR_SB', 'MMSE', 'labels_gmm_cdr']\n"
     ]
    }
   ],
   "execution_count": 219
  },
  {
   "metadata": {},
   "cell_type": "markdown",
   "source": "## Dimensionality Reduction",
   "id": "caf4e1ba1b303547"
  },
  {
   "metadata": {},
   "cell_type": "markdown",
   "source": "UMAP is not changing the order of the rows so each row correspond to the previous subject in the not reduced dataset.",
   "id": "f959e6c5aa18d570"
  },
  {
   "metadata": {},
   "cell_type": "code",
   "source": "np.random.seed(42)",
   "id": "ee58576aac6c3858",
   "outputs": [],
   "execution_count": null
  },
  {
   "metadata": {},
   "cell_type": "code",
   "source": "umap_params = {'n_neighbors': 15, 'n_components': 2, 'metric': 'euclidean', 'n_epochs': 1000, 'learning_rate': 1.0, 'init': 'spectral', 'min_dist': 0.1, 'spread': 1.0, 'low_memory': False, 'set_op_mix_ratio': 1.0, 'local_connectivity': 1, 'repulsion_strength': 1.0, 'negative_sample_rate': 5, 'transform_queue_size': 4.0, 'a': None, 'b': None, 'random_state': 42, 'metric_kwds': None, 'angular_rp_forest': False, 'target_n_neighbors': -1, 'transform_seed': 42, 'verbose': False, 'unique': False}",
   "id": "2769c967482f0690",
   "outputs": [],
   "execution_count": null
  },
  {
   "metadata": {},
   "cell_type": "code",
   "source": [
    "# Parameters\n",
    "reducer = umap.UMAP(**umap_params)\n",
    "\n",
    "# Fit the model\n",
    "X_umap = reducer.fit_transform(X)"
   ],
   "id": "82b7b02a4e210603",
   "outputs": [],
   "execution_count": null
  },
  {
   "metadata": {},
   "cell_type": "code",
   "source": [
    "plt.figure(figsize=(6, 4))\n",
    "plt.scatter(X_umap[:, 0], X_umap[:, 1], s=10, alpha=0.6)\n",
    "plt.title(\"UMAP Embedding\")\n",
    "plt.xlabel(\"UMAP 1\")\n",
    "plt.ylabel(\"UMAP 2\")\n",
    "plt.grid(True)\n",
    "plt.show()"
   ],
   "id": "adf32c14a0daa316",
   "outputs": [],
   "execution_count": null
  },
  {
   "metadata": {},
   "cell_type": "markdown",
   "source": "## Unsupervised Clustering",
   "id": "1ad0e488bf3b3a59"
  },
  {
   "metadata": {},
   "cell_type": "markdown",
   "source": "### Fit models",
   "id": "5bd06ff6b5c6a94b"
  },
  {
   "metadata": {},
   "cell_type": "code",
   "source": [
    "# HDBSCAN\n",
    "cluster_hdb = hdbscan.HDBSCAN(min_cluster_size=5)\n",
    "labels_hdb = cluster_hdb.fit_predict(X_umap)\n",
    "\n",
    "# DBSCAN\n",
    "clusterer_db = DBSCAN(eps=0.5, min_samples=5)\n",
    "labels_db = clusterer_db.fit_predict(X_umap)\n",
    "\n",
    "# K-Means\n",
    "kmeans = KMeans(n_clusters=7, random_state=42)\n",
    "labels_km = kmeans.fit_predict(X_umap)\n",
    "\n",
    "# GMM\n",
    "gmm = GaussianMixture(n_components=3, random_state=42)\n",
    "labels_gmm = gmm.fit_predict(X_umap)"
   ],
   "id": "6c00751832aca690",
   "outputs": [],
   "execution_count": null
  },
  {
   "metadata": {},
   "cell_type": "markdown",
   "source": "Result collection",
   "id": "a7e3f4cc39e8bc06"
  },
  {
   "metadata": {},
   "cell_type": "code",
   "source": [
    "labels_dict = {\n",
    "    \"HDBSCAN\": labels_hdb,\n",
    "    \"DBSCAN\": labels_db,\n",
    "    \"K-Means\": labels_km,\n",
    "    \"GMM\": labels_gmm\n",
    "}"
   ],
   "id": "3efcc2bd180ee49",
   "outputs": [],
   "execution_count": null
  },
  {
   "metadata": {},
   "cell_type": "code",
   "source": [
    "labels_df = pd.DataFrame({\n",
    "    'ID': df_merged['ID'],\n",
    "    'Group': df_merged['Group'],\n",
    "    'CDR_SB': df_merged['CDR_SB'],\n",
    "    'MMSE': df_merged['MMSE'],\n",
    "    'GMM_Label': df_merged['GMM_Label'],\n",
    "    'HDBSCAN': labels_hdb,\n",
    "    'DBSCAN': labels_db,\n",
    "    'KMeans': labels_km,\n",
    "    'GMM': labels_gmm\n",
    "})\n",
    "\n",
    "#labels_df.to_csv(\"/Users/emmatosato/Documents/PhD/ANM_Verona/utils/clustering_labels_by_ID.csv\", index=False)"
   ],
   "id": "1966468dee060374",
   "outputs": [],
   "execution_count": null
  },
  {
   "metadata": {},
   "cell_type": "code",
   "source": [
    "# HDBSCAN optimal clusters\n",
    "labels_hdb, n_hdb = evaluate_hdbscan(X_umap, min_cluster_size=5)"
   ],
   "id": "5865c2731abd23d2",
   "outputs": [],
   "execution_count": null
  },
  {
   "metadata": {},
   "cell_type": "markdown",
   "source": "### Optimal number of clusters",
   "id": "e0c793048dd0eeef"
  },
  {
   "metadata": {},
   "cell_type": "code",
   "source": [
    "# K-Means optimal clusters\n",
    "inertias, sil_scores = evaluate_kmeans(\n",
    "    X_umap,\n",
    "    K_range=range(2, 11),\n",
    "    save_path=None,\n",
    "    prefix= \"gm\",\n",
    "    plot_flag=True\n",
    ")\n",
    "\n",
    "# GMM optimal clusters\n",
    "aic, bic = evaluate_gmm(\n",
    "    X_umap,\n",
    "    K_range=range(2, 11),\n",
    "    save_path=None,\n",
    "    prefix=\"gm\",\n",
    "    plot_flag=True\n",
    ")\n",
    "\n",
    "# Consenus clustering\n",
    "stability_scores = evaluate_consensus(\n",
    "    X_umap,\n",
    "    K_range=range(2, 11),\n",
    "    n_runs=100,\n",
    "    save_path=None,\n",
    "    prefix='gm',\n",
    "    plot_flag=True\n",
    ")"
   ],
   "id": "3776c11b1be248a",
   "outputs": [],
   "execution_count": null
  },
  {
   "metadata": {},
   "cell_type": "markdown",
   "source": "### Plotting",
   "id": "dc582c26488a08a2"
  },
  {
   "metadata": {},
   "cell_type": "code",
   "source": [
    "def plot_clusters_vs_labels(x_umap, labels_dictionary, label_source_df, label_column, figsize=(16, 24), margin=5):\n",
    "    n = len(labels_dictionary)\n",
    "    n_cols = 2\n",
    "    n_rows = n\n",
    "\n",
    "    x_min, x_max = x_umap[:, 0].min() - margin, x_umap[:, 0].max() + margin\n",
    "    y_min, y_max = x_umap[:, 1].min() - margin, x_umap[:, 1].max() + margin\n",
    "\n",
    "    fig, axes = plt.subplots(n_rows, n_cols, figsize=figsize)\n",
    "\n",
    "    for i, (title, labels) in enumerate(labels_dictionary.items()):\n",
    "        ax_left = axes[i, 0]\n",
    "        ax_right = axes[i, 1]\n",
    "\n",
    "        plot_df = pd.DataFrame({\n",
    "            'X1': x_umap[:, 0],\n",
    "            'X2': x_umap[:, 1],\n",
    "            'cluster': labels,\n",
    "            'label': label_source_df[label_column].reset_index(drop=True)\n",
    "        })\n",
    "\n",
    "        sns.scatterplot(data=plot_df, x='X1', y='X2', hue='cluster', palette='Set1', s=50, ax=ax_left, legend='full')\n",
    "        ax_left.set_title(f'{title} - Clustering')\n",
    "        ax_left.set_xlim(x_min, x_max)\n",
    "        ax_left.set_ylim(y_min, y_max)\n",
    "        ax_left.set_xlabel(\"UMAP 1\")\n",
    "        ax_left.set_ylabel(\"UMAP 2\")\n",
    "\n",
    "        sns.scatterplot(data=plot_df, x='X1', y='X2', hue='label', palette='Set2', s=50, ax=ax_right, legend='full')\n",
    "        ax_right.set_title(f'{title} - {label_column}')\n",
    "        ax_right.set_xlim(x_min, x_max)\n",
    "        ax_right.set_ylim(y_min, y_max)\n",
    "        ax_right.set_xlabel(\"UMAP 1\")\n",
    "        ax_right.set_ylabel(\"UMAP 2\")\n",
    "\n",
    "    plt.tight_layout()\n",
    "    plt.show()"
   ],
   "id": "8775992832f4d1a1",
   "outputs": [],
   "execution_count": null
  },
  {
   "metadata": {},
   "cell_type": "code",
   "source": "plot_clusters_vs_labels(X_umap, labels_dict, df_merged, label_column='GMM_Label', margin=2.5)",
   "id": "39fc11ce55819d26",
   "outputs": [],
   "execution_count": null
  },
  {
   "metadata": {},
   "cell_type": "code",
   "source": "plot_clusters_vs_labels(X_umap, labels_dict, df_merged, label_column='Group', margin=2.5)",
   "id": "b685855eac53d7b2",
   "outputs": [],
   "execution_count": null
  },
  {
   "metadata": {},
   "cell_type": "markdown",
   "source": "### Statistical Evaluation",
   "id": "d5250bf51c74c99e"
  },
  {
   "metadata": {},
   "cell_type": "markdown",
   "source": "##### Do clusters separate diagnoses?",
   "id": "8de39d05b50beb31"
  },
  {
   "metadata": {},
   "cell_type": "code",
   "source": [
    "diagnoses = ['ADNI', 'CBS', 'PSP']\n",
    "\n",
    "for diag in diagnoses:\n",
    "    print(f\"\\n=== Chi-squared test for {diag} ===\")\n",
    "\n",
    "    # Crea colonna binaria con etichette leggibili\n",
    "    labels_df[f'{diag}_label'] = labels_df['Group'].apply(lambda x: diag if x == diag else 'other')\n",
    "\n",
    "    # Tabella di contingenza: Cluster vs (diag vs other)\n",
    "    contingency = pd.crosstab(labels_df['KMeans'], labels_df[f'{diag}_label'])\n",
    "    print(\"Contingency Table:\")\n",
    "    print(contingency)\n",
    "\n",
    "    # Chi-squared test\n",
    "    chi2, p_value, dof, expected = chi2_contingency(contingency)\n",
    "\n",
    "    # Output\n",
    "    print(f\"\\nChi² = {chi2:.4f}\")\n",
    "    print(f\"p-value = {p_value:.4f}\")\n",
    "    print(f\"Degrees of Freedom = {dof}\")"
   ],
   "id": "89133ffe47afc6b8",
   "outputs": [],
   "execution_count": null
  },
  {
   "metadata": {},
   "cell_type": "markdown",
   "source": [
    "## Linear Regression\n",
    "- Select dataframe and target variable\n",
    "- OLS\n",
    "- Plot\n",
    "- Shuffling"
   ],
   "id": "259d883b1ae62cae"
  },
  {
   "metadata": {},
   "cell_type": "markdown",
   "source": "### Data",
   "id": "9a24e10881a1f67d"
  },
  {
   "metadata": {
    "ExecuteTime": {
     "end_time": "2025-06-06T14:40:05.507172Z",
     "start_time": "2025-06-06T14:40:05.026314Z"
    }
   },
   "cell_type": "code",
   "source": [
    "# Load data\n",
    "df_gm, df_meta = open_dataframes(path_df_gm, path_df_meta)\n",
    "\n",
    "# Remove subjects with NaN values\n",
    "target_col = \"CDR_SB\"\n",
    "df_gm_regr = remove_missing_values(df_gm, df_meta, target_col)\n",
    "\n",
    "# Features\n",
    "df_merged, X = features_merging(df_gm_regr, df_meta)\n",
    "\n",
    "# Print shapes\n",
    "print(\"Old shape of the dataframe (data + ID): \", df_gm.shape)\n",
    "print(\"New shape of the dataframe (data + ID): \", df_gm_regr.shape)\n",
    "print(\"Shape of the complete dataframe (data + ID + metadata): \", df_merged.shape)\n",
    "print(\"Shape of the metadata (ID included): \", df_meta.shape)\n",
    "print(\"Shape of the input data X: \", X.shape)"
   ],
   "id": "b966040569273c45",
   "outputs": [
    {
     "name": "stdout",
     "output_type": "stream",
     "text": [
      "Old shape of the dataframe (data + ID):  (176, 161818)\n",
      "New shape of the dataframe (data + ID):  (171, 161818)\n",
      "Shape of the complete dataframe (data + ID + metadata):  (171, 161825)\n",
      "Shape of the metadata (ID included):  (176, 8)\n",
      "Shape of the input data X:  (171, 161817)\n"
     ]
    }
   ],
   "execution_count": 235
  },
  {
   "metadata": {},
   "cell_type": "markdown",
   "source": "### All subjects",
   "id": "dd23628713b51b55"
  },
  {
   "metadata": {
    "ExecuteTime": {
     "end_time": "2025-06-06T14:40:20.261805Z",
     "start_time": "2025-06-06T14:40:18.685482Z"
    }
   },
   "cell_type": "code",
   "source": [
    "# UMAP\n",
    "reducer = umap.UMAP(**umap_params)\n",
    "X_umap = reducer.fit_transform(X)\n",
    "\n",
    "# Target\n",
    "y = df_merged[target_col]\n",
    "\n",
    "# Add constant (intercept)\n",
    "X_with_const = sm.add_constant(X_umap)\n",
    "\n",
    "# Fit OLS\n",
    "model = sm.OLS(y, X_with_const).fit()\n",
    "\n",
    "# Predictions and residuals\n",
    "y_pred = model.predict(X_with_const)\n",
    "residuals = y - y_pred\n",
    "\n",
    "# Summary\n",
    "print(model.summary())"
   ],
   "id": "9852df8e4b32a6d4",
   "outputs": [
    {
     "name": "stdout",
     "output_type": "stream",
     "text": [
      "                            OLS Regression Results                            \n",
      "==============================================================================\n",
      "Dep. Variable:                 CDR_SB   R-squared:                       0.084\n",
      "Model:                            OLS   Adj. R-squared:                  0.073\n",
      "Method:                 Least Squares   F-statistic:                     7.707\n",
      "Date:                Fri, 06 Jun 2025   Prob (F-statistic):           0.000628\n",
      "Time:                        16:40:20   Log-Likelihood:                -445.84\n",
      "No. Observations:                 171   AIC:                             897.7\n",
      "Df Residuals:                     168   BIC:                             907.1\n",
      "Df Model:                           2                                         \n",
      "Covariance Type:            nonrobust                                         \n",
      "==============================================================================\n",
      "                 coef    std err          t      P>|t|      [0.025      0.975]\n",
      "------------------------------------------------------------------------------\n",
      "const          8.5135      1.161      7.332      0.000       6.221      10.806\n",
      "x1            -0.5419      0.151     -3.589      0.000      -0.840      -0.244\n",
      "x2             0.0637      0.117      0.545      0.586      -0.167       0.294\n",
      "==============================================================================\n",
      "Omnibus:                       45.787   Durbin-Watson:                   2.073\n",
      "Prob(Omnibus):                  0.000   Jarque-Bera (JB):               80.178\n",
      "Skew:                           1.328   Prob(JB):                     3.89e-18\n",
      "Kurtosis:                       5.048   Cond. No.                         41.8\n",
      "==============================================================================\n",
      "\n",
      "Notes:\n",
      "[1] Standard Errors assume that the covariance matrix of the errors is correctly specified.\n"
     ]
    }
   ],
   "execution_count": 236
  },
  {
   "metadata": {},
   "cell_type": "markdown",
   "source": "#### Plotting",
   "id": "8e5db7d7ef5524e7"
  },
  {
   "metadata": {},
   "cell_type": "code",
   "source": "plot_ols_diagnostics(y, y_pred, residuals, \"OLS Actuals vs Predicted and Residuals\",save_path=None, plot_flag=True)",
   "id": "e5927409321755b4",
   "outputs": [],
   "execution_count": null
  },
  {
   "metadata": {},
   "cell_type": "code",
   "source": "#plot_actual_vs_predicted(target = y, predictions=  y_pred, \"OLS Distributions\", save_path=None, plot_flag=True):",
   "id": "b5eca254d77f8e88",
   "outputs": [],
   "execution_count": null
  },
  {
   "metadata": {},
   "cell_type": "markdown",
   "source": "#### Covariates",
   "id": "7a272989dc269d8f"
  },
  {
   "metadata": {},
   "cell_type": "code",
   "source": [
    "# UMAP\n",
    "reducer = umap.UMAP(**umap_params)\n",
    "X_umap = reducer.fit_transform(X)\n",
    "\n",
    "# Target\n",
    "y = df_merged[target_col].astype(float)\n",
    "\n",
    "# Covariate encoding\n",
    "covariates = [\"Sex\", \"Age\", \"Education\"]\n",
    "df_cov = df_merged[covariates].copy()\n",
    "\n",
    "# Ensure numeric types\n",
    "df_cov[\"Age\"] = pd.to_numeric(df_cov[\"Age\"], errors=\"coerce\")\n",
    "df_cov[\"Education\"] = pd.to_numeric(df_cov[\"Education\"], errors=\"coerce\")\n",
    "df_cov = pd.get_dummies(df_cov, drop_first=True)\n",
    "\n",
    "# Combine UMAP + covariates\n",
    "df_umap = pd.DataFrame(X_umap, columns=[\"UMAP1\", \"UMAP2\"])\n",
    "X_design = pd.concat([df_umap.reset_index(drop=True), df_cov.reset_index(drop=True)], axis=1)\n",
    "\n",
    "# Final casting\n",
    "X_design = X_design.astype(float)\n",
    "\n",
    "# Add constant\n",
    "X_with_const = sm.add_constant(X_design)\n",
    "\n",
    "# Fit OLS\n",
    "model = sm.OLS(y, X_with_const).fit()\n",
    "\n",
    "# Predictions and residuals\n",
    "y_pred = model.predict(X_with_const)\n",
    "residuals = y - y_pred\n",
    "\n",
    "# Summary\n",
    "print(model.summary())"
   ],
   "id": "154f36a1c3b5e98e",
   "outputs": [],
   "execution_count": null
  },
  {
   "metadata": {},
   "cell_type": "markdown",
   "source": "#### Shuffling Regression",
   "id": "98233b3c16416015"
  },
  {
   "metadata": {},
   "cell_type": "code",
   "source": [
    "# R² real\n",
    "r2_real = model.rsquared\n",
    "\n",
    "# List of R² after shuffling\n",
    "r2_shuffled = []\n",
    "\n",
    "for _ in range(100):\n",
    "    y_shuffled = y.sample(frac=1, replace=False, random_state=None).reset_index(drop=True)\n",
    "    model_shuffled = sm.OLS(y_shuffled, X_with_const).fit()\n",
    "    r2_shuffled.append(model_shuffled.rsquared)\n",
    "\n",
    "# empiric p-value\n",
    "p_value = np.mean([r >= r2_real for r in r2_shuffled])\n",
    "\n",
    "print(f\"R² real: {r2_real:.4f}\")\n",
    "print(f\"R² shuffled: {np.mean(r2_shuffled):.4f}\")\n",
    "print(f\"p-value (shuffling): {p_value:.4f}\")"
   ],
   "id": "8ada419945def4f8",
   "outputs": [],
   "execution_count": null
  },
  {
   "metadata": {},
   "cell_type": "markdown",
   "source": "### GMM distributions",
   "id": "28e1e8b5e0e96540"
  },
  {
   "metadata": {
    "ExecuteTime": {
     "end_time": "2025-06-06T14:43:38.947599Z",
     "start_time": "2025-06-06T14:43:38.725615Z"
    }
   },
   "cell_type": "code",
   "source": [
    "# Load data\n",
    "df_gm, df_meta = open_dataframes(path_df_gm, path_df_meta)"
   ],
   "id": "c92a9f0960e161d5",
   "outputs": [],
   "execution_count": 239
  },
  {
   "metadata": {
    "ExecuteTime": {
     "end_time": "2025-06-06T14:43:39.417580Z",
     "start_time": "2025-06-06T14:43:39.413528Z"
    }
   },
   "cell_type": "code",
   "source": [
    "# CDR means\n",
    "for gmmLabel in range(0,3):\n",
    "    mean_cdr = df_meta.loc[df_meta['labels_gmm_cdr'] == gmmLabel, 'CDR_SB'].mean()\n",
    "    print(f\"Media CDR_SB per gruppo {gmmLabel}: {mean_cdr:.3f}\")"
   ],
   "id": "a9e82132dbe3c496",
   "outputs": [
    {
     "name": "stdout",
     "output_type": "stream",
     "text": [
      "Media CDR_SB per gruppo 0: 1.406\n",
      "Media CDR_SB per gruppo 1: 5.243\n",
      "Media CDR_SB per gruppo 2: 12.267\n"
     ]
    }
   ],
   "execution_count": 240
  },
  {
   "metadata": {
    "ExecuteTime": {
     "end_time": "2025-06-06T14:56:13.258211Z",
     "start_time": "2025-06-06T14:56:10.676489Z"
    }
   },
   "cell_type": "code",
   "source": [
    "target_col = \"CDR_SB\"\n",
    "label_col = \"labels_gmm_cdr\"\n",
    "\n",
    "# Loop over each GMM cluster\n",
    "for gmm_label in df_meta[label_col].dropna().unique():\n",
    "    print(f\"\\n=== GMM Cluster {gmm_label} ===\")\n",
    "\n",
    "    # Get IDs for the current cluster\n",
    "    ids_in_cluster = df_meta[df_meta[label_col] == gmm_label][\"ID\"]\n",
    "\n",
    "    # Filter metadata and remove missing target values\n",
    "    df_meta_cluster = df_meta[df_meta[\"ID\"].isin(ids_in_cluster)].reset_index(drop=True)\n",
    "    df_meta_cluster = df_meta_cluster[df_meta_cluster[target_col].notna()]\n",
    "\n",
    "    # Filter voxel data accordingly\n",
    "    df_cluster = df_gm[df_gm[\"ID\"].isin(df_meta_cluster[\"ID\"])].reset_index(drop=True)\n",
    "\n",
    "    # Run regression\n",
    "    model, y_pred, residuals, subject_errors, group_rmse_stats = main_regression(\n",
    "        df_masked = df_cluster,\n",
    "        df_meta = df_meta_cluster,\n",
    "        target_variable = target_col,\n",
    "        covariates = [\"Sex\", \"Age\", \"Education\"],\n",
    "        y_log_transform = False,\n",
    "        plot_flag = False,\n",
    "        save_path = None,\n",
    "        title_prefix = f\"gm_mask_GMM_{gmm_label}\"\n",
    "    )"
   ],
   "id": "3086d5ff7018239a",
   "outputs": [
    {
     "name": "stdout",
     "output_type": "stream",
     "text": [
      "\n",
      "=== GMM Cluster 0.0 ===\n",
      "Dataframe shape after merge: (80, 161825)\n",
      "Meta columns: 8\n",
      "Feature matrix shape: (80, 161817) \n",
      "\n",
      "Running UMAP...\n",
      "\n",
      "OLS REGRESSION SUMMARY\n",
      "                            OLS Regression Results                            \n",
      "==============================================================================\n",
      "Dep. Variable:                 CDR_SB   R-squared:                       0.117\n",
      "Model:                            OLS   Adj. R-squared:                  0.058\n",
      "Method:                 Least Squares   F-statistic:                     1.965\n",
      "Date:                Fri, 06 Jun 2025   Prob (F-statistic):             0.0938\n",
      "Time:                        16:56:11   Log-Likelihood:                -87.715\n",
      "No. Observations:                  80   AIC:                             187.4\n",
      "Df Residuals:                      74   BIC:                             201.7\n",
      "Df Model:                           5                                         \n",
      "Covariance Type:            nonrobust                                         \n",
      "==============================================================================\n",
      "                 coef    std err          t      P>|t|      [0.025      0.975]\n",
      "------------------------------------------------------------------------------\n",
      "const          3.0644      0.862      3.557      0.001       1.348       4.781\n",
      "UMAP1          0.1132      0.121      0.933      0.354      -0.129       0.355\n",
      "UMAP2         -0.1019      0.049     -2.085      0.040      -0.199      -0.005\n",
      "Age           -0.0150      0.011     -1.404      0.164      -0.036       0.006\n",
      "Education     -0.0170      0.023     -0.723      0.472      -0.064       0.030\n",
      "Sex_M          0.2756      0.171      1.607      0.112      -0.066       0.617\n",
      "==============================================================================\n",
      "Omnibus:                        8.056   Durbin-Watson:                   1.814\n",
      "Prob(Omnibus):                  0.018   Jarque-Bera (JB):                3.216\n",
      "Skew:                          -0.158   Prob(JB):                        0.200\n",
      "Kurtosis:                       2.070   Cond. No.                         744.\n",
      "==============================================================================\n",
      "\n",
      "Notes:\n",
      "[1] Standard Errors assume that the covariance matrix of the errors is correctly specified.\n",
      "\n",
      "\n",
      "--------------------------------------------------------------------------------\n",
      "SHUFFLING REGRESSION\n",
      "--------------------------------------------------------------------------------\n",
      "R² real:      0.1172\n",
      "R² shuffled:  0.0613\n",
      "Empirical p:  0.0800\n",
      "\n",
      "\n",
      "--------------------------------------------------------------------------------\n",
      "RMSE BY DIAGNOSTIC GROUP AND OVERALL METRICS\n",
      "--------------------------------------------------------------------------------\n",
      "       Mean_RMSE  Std_RMSE   N\n",
      "Group                         \n",
      "ADNI      0.6300    0.3600  40\n",
      "PSP       0.6300    0.3700  22\n",
      "CBS       0.6100    0.4100  18\n",
      "\n",
      "\n",
      "MAE:  0.625\n",
      "RMSE: 0.7243\n",
      "\n",
      "\n",
      "--------------------------------------------------------------------------------\n",
      "SUBJECTS RANKED BY RMSE (BEST TO WORST)\n",
      "--------------------------------------------------------------------------------\n",
      "        ID Group  CDR_SB  Predicted CDR_SB   RMSE\n",
      "  1_S_5064   PSP  1.5000            1.4970 0.0030\n",
      "114_S_6039  ADNI  2.0000            1.9858 0.0142\n",
      "  1_S_5018   CBS  1.5000            1.5171 0.0171\n",
      "006_S_6252  ADNI  1.0000            0.9793 0.0207\n",
      "  1_S_5004   PSP  1.5000            1.5664 0.0664\n",
      "137_S_4862  ADNI  1.0000            1.0979 0.0979\n",
      "  1_S_5079   CBS  1.5000            1.6041 0.1041\n",
      "  1_S_5036   CBS  1.5000            1.3283 0.1717\n",
      "  1_S_5074   PSP  2.0000            1.7832 0.2168\n",
      "123_S_6825  ADNI  1.0000            1.2487 0.2487\n",
      "  4_S_5005   PSP  1.0000            1.2607 0.2607\n",
      "  1_S_5085   CBS  1.5000            1.7635 0.2635\n",
      "036_S_6134  ADNI  1.0000            1.2831 0.2831\n",
      "  1_S_5013   CBS  1.0000            1.2909 0.2909\n",
      "035_S_4114  ADNI  1.5000            1.2005 0.2995\n",
      "168_S_6467  ADNI  1.0000            1.3003 0.3003\n",
      "  1_S_5003   PSP  1.0000            1.3067 0.3067\n",
      "  5_S_5004   PSP  1.0000            1.3222 0.3222\n",
      "  3_S_5002   PSP  1.5000            1.8414 0.3414\n",
      "  5_S_5009   CBS  1.0000            1.3418 0.3418\n",
      "131_S_7032  ADNI  2.0000            1.6552 0.3448\n",
      "032_S_6700  ADNI  1.5000            1.1483 0.3517\n",
      "  1_S_5043   CBS  2.0000            1.6193 0.3807\n",
      "027_S_6034  ADNI  2.0000            1.6019 0.3981\n",
      "099_S_6632  ADNI  1.5000            1.1014 0.3986\n",
      "116_S_6775  ADNI  1.0000            1.4182 0.4182\n",
      "  1_S_5076   CBS  1.0000            1.4238 0.4238\n",
      "003_S_6479  ADNI  1.5000            1.0750 0.4250\n",
      "941_S_6345  ADNI  2.0000            1.5568 0.4432\n",
      "168_S_6426  ADNI  0.5000            0.9464 0.4464\n",
      "  1_S_5027   CBS  1.0000            1.4553 0.4553\n",
      "053_S_6598  ADNI  2.0000            1.5426 0.4574\n",
      "126_S_4891  ADNI  2.0000            1.5380 0.4620\n",
      "002_S_4654  ADNI  1.5000            1.0278 0.4722\n",
      "  1_S_5059   PSP  2.0000            1.5096 0.4904\n",
      "016_S_6708  ADNI  2.5000            1.9656 0.5344\n",
      "  3_S_5003   PSP  1.0000            1.5397 0.5397\n",
      "  1_S_5040   PSP  2.5000            1.9548 0.5452\n",
      "  1_S_5062   PSP  2.5000            1.9383 0.5617\n",
      "099_S_6691  ADNI  0.5000            1.0630 0.5630\n",
      "003_S_6432  ADNI  0.5000            1.0929 0.5929\n",
      "  1_S_5058   PSP  1.5000            0.9025 0.5975\n",
      "098_S_6601  ADNI  2.0000            1.3540 0.6460\n",
      "  1_S_5073   CBS  2.0000            1.3481 0.6519\n",
      "305_S_6498  ADNI  0.5000            1.1619 0.6619\n",
      "021_S_5237  ADNI  2.0000            1.3270 0.6730\n",
      "  1_S_5016   CBS  2.0000            1.3189 0.6811\n",
      "073_S_6673  ADNI  0.5000            1.1827 0.6827\n",
      "  1_S_5060   CBS  1.0000            1.7038 0.7038\n",
      "018_S_2155  ADNI  2.0000            1.2961 0.7039\n",
      "019_S_6483  ADNI  2.0000            1.2891 0.7109\n",
      "003_S_6264  ADNI  2.5000            1.7861 0.7139\n",
      "  5_S_5001   PSP  1.0000            1.7202 0.7202\n",
      "  1_S_5022   CBS  0.5000            1.2241 0.7241\n",
      "  1_S_5037   PSP  2.0000            1.2570 0.7430\n",
      "123_S_6884  ADNI  2.0000            1.2490 0.7510\n",
      "  3_S_5000   PSP  2.0000            1.2347 0.7653\n",
      "  1_S_5080   PSP  2.5000            1.6529 0.8471\n",
      "041_S_4510  ADNI  2.5000            1.6405 0.8595\n",
      "301_S_6777  ADNI  2.5000            1.6398 0.8602\n",
      "  1_S_5029   PSP  2.0000            1.1370 0.8630\n",
      "006_S_6682  ADNI  0.5000            1.3906 0.8906\n",
      "  1_S_5098   CBS  2.5000            1.5957 0.9043\n",
      "067_S_6529  ADNI  2.5000            1.5788 0.9212\n",
      "  1_S_5078   PSP  0.0000            0.9875 0.9875\n",
      "007_S_6341  ADNI  2.5000            1.5025 0.9975\n",
      "003_S_6268  ADNI  0.5000            1.5232 1.0232\n",
      "  1_S_5053   CBS  0.0000            1.0304 1.0304\n",
      "  1_S_5054   CBS  0.5000            1.5551 1.0551\n",
      "  1_S_5034   PSP  0.5000            1.5879 1.0879\n",
      "  1_S_5049   PSP  0.0000            1.1375 1.1375\n",
      "141_S_2333  ADNI  0.5000            1.6650 1.1650\n",
      "021_S_6312  ADNI  0.0000            1.1975 1.1975\n",
      "098_S_6658  ADNI  2.5000            1.2874 1.2126\n",
      "  1_S_5047   PSP  0.5000            1.7139 1.2139\n",
      "  1_S_5021   CBS  0.5000            1.7547 1.2547\n",
      "027_S_6788  ADNI  2.5000            1.2090 1.2910\n",
      "  1_S_5005   PSP  0.0000            1.3219 1.3219\n",
      "  1_S_5065   CBS  0.0000            1.4599 1.4599\n",
      "027_S_5277  ADNI  2.5000            0.8836 1.6164\n",
      "\n",
      "=== GMM Cluster 1.0 ===\n",
      "Dataframe shape after merge: (76, 161825)\n",
      "Meta columns: 8\n",
      "Feature matrix shape: (76, 161817) \n",
      "\n",
      "Running UMAP...\n",
      "\n",
      "OLS REGRESSION SUMMARY\n",
      "                            OLS Regression Results                            \n",
      "==============================================================================\n",
      "Dep. Variable:                 CDR_SB   R-squared:                       0.053\n",
      "Model:                            OLS   Adj. R-squared:                 -0.015\n",
      "Method:                 Least Squares   F-statistic:                    0.7792\n",
      "Date:                Fri, 06 Jun 2025   Prob (F-statistic):              0.568\n",
      "Time:                        16:56:12   Log-Likelihood:                -135.98\n",
      "No. Observations:                  76   AIC:                             284.0\n",
      "Df Residuals:                      70   BIC:                             297.9\n",
      "Df Model:                           5                                         \n",
      "Covariance Type:            nonrobust                                         \n",
      "==============================================================================\n",
      "                 coef    std err          t      P>|t|      [0.025      0.975]\n",
      "------------------------------------------------------------------------------\n",
      "const          3.2153      1.804      1.782      0.079      -0.383       6.814\n",
      "UMAP1          0.0194      0.122      0.159      0.874      -0.225       0.264\n",
      "UMAP2         -0.0347      0.113     -0.306      0.760      -0.260       0.191\n",
      "Age            0.0252      0.021      1.176      0.244      -0.018       0.068\n",
      "Education     -0.0015      0.057     -0.026      0.979      -0.114       0.111\n",
      "Sex_M          0.4693      0.378      1.242      0.218      -0.284       1.223\n",
      "==============================================================================\n",
      "Omnibus:                        6.221   Durbin-Watson:                   2.054\n",
      "Prob(Omnibus):                  0.045   Jarque-Bera (JB):                4.681\n",
      "Skew:                           0.482   Prob(JB):                       0.0963\n",
      "Kurtosis:                       2.260   Cond. No.                         776.\n",
      "==============================================================================\n",
      "\n",
      "Notes:\n",
      "[1] Standard Errors assume that the covariance matrix of the errors is correctly specified.\n",
      "\n",
      "\n",
      "--------------------------------------------------------------------------------\n",
      "SHUFFLING REGRESSION\n",
      "--------------------------------------------------------------------------------\n",
      "R² real:      0.0527\n",
      "R² shuffled:  0.0705\n",
      "Empirical p:  0.6100\n",
      "\n",
      "\n",
      "--------------------------------------------------------------------------------\n",
      "RMSE BY DIAGNOSTIC GROUP AND OVERALL METRICS\n",
      "--------------------------------------------------------------------------------\n",
      "       Mean_RMSE  Std_RMSE   N\n",
      "Group                         \n",
      "PSP       1.3700    0.7900  30\n",
      "ADNI      1.2700    0.8200  28\n",
      "CBS       0.9000    0.6500  18\n",
      "\n",
      "\n",
      "MAE:  1.2215\n",
      "RMSE: 1.4481\n",
      "\n",
      "\n",
      "--------------------------------------------------------------------------------\n",
      "SUBJECTS RANKED BY RMSE (BEST TO WORST)\n",
      "--------------------------------------------------------------------------------\n",
      "        ID Group  CDR_SB  Predicted CDR_SB   RMSE\n",
      "130_S_2373  ADNI  5.5000            5.4319 0.0681\n",
      "021_S_0626  ADNI  6.0000            6.1098 0.1098\n",
      "  4_S_5006   CBS  5.0000            5.1116 0.1116\n",
      "032_S_6602  ADNI  5.0000            5.1250 0.1250\n",
      "  1_S_5033   PSP  6.0000            5.8560 0.1440\n",
      "  1_S_5042   PSP  5.0000            4.8512 0.1488\n",
      "130_S_4294  ADNI  5.5000            5.3436 0.1564\n",
      "  5_S_5006   PSP  5.5000            5.2872 0.2128\n",
      "  1_S_5000   CBS  5.0000            5.3069 0.3069\n",
      "  1_S_5072   CBS  5.5000            5.1484 0.3516\n",
      "  1_S_5026   CBS  6.0000            5.6436 0.3564\n",
      "  1_S_5091   PSP  6.0000            5.5207 0.4793\n",
      "032_S_6600  ADNI  5.5000            4.9818 0.5182\n",
      "  4_S_5004   PSP  6.0000            5.4805 0.5195\n",
      "011_S_6303  ADNI  5.0000            5.5224 0.5224\n",
      "  1_S_5092   CBS  5.0000            5.5318 0.5318\n",
      "  1_S_5046   CBS  5.0000            5.5639 0.5639\n",
      "  1_S_5094   CBS  4.0000            4.5760 0.5760\n",
      "  1_S_5009   CBS  6.0000            5.4092 0.5908\n",
      "  1_S_5051   PSP  6.0000            5.4033 0.5967\n",
      "  1_S_5075   CBS  6.0000            5.3791 0.6209\n",
      "  1_S_5061   PSP  5.0000            5.6364 0.6364\n",
      "  1_S_5017   CBS  4.5000            5.1483 0.6483\n",
      "  4_S_5000   PSP  4.0000            4.6910 0.6910\n",
      "126_S_6683  ADNI  4.5000            5.2022 0.7022\n",
      "  1_S_5045   PSP  4.0000            4.7451 0.7451\n",
      "  1_S_5041   CBS  4.0000            4.7512 0.7512\n",
      "098_S_6655  ADNI  6.5000            5.7343 0.7657\n",
      "305_S_6810  ADNI  4.5000            5.3984 0.8984\n",
      "002_S_6695  ADNI  4.5000            5.4305 0.9305\n",
      "168_S_6142  ADNI  4.5000            5.4427 0.9427\n",
      "  1_S_5039   CBS  5.5000            4.5442 0.9558\n",
      "  1_S_5048   CBS  4.0000            4.9805 0.9805\n",
      "130_S_6072  ADNI  4.5000            5.4860 0.9860\n",
      "  1_S_5083   CBS  4.5000            5.5315 1.0315\n",
      "  1_S_5070   PSP  3.5000            4.5473 1.0473\n",
      "016_S_6839  ADNI  6.0000            4.9518 1.0482\n",
      "  1_S_5067   PSP  6.0000            4.9416 1.0584\n",
      "  1_S_5030   PSP  6.0000            4.9416 1.0584\n",
      "035_S_6927  ADNI  3.5000            4.6054 1.1054\n",
      "037_S_6216  ADNI  4.5000            5.6680 1.1680\n",
      "  1_S_5008   PSP  4.0000            5.1824 1.1824\n",
      "027_S_6965  ADNI  4.5000            5.7119 1.2119\n",
      "  1_S_5057   PSP  6.0000            4.7673 1.2327\n",
      "  5_S_5003   PSP  6.5000            5.2180 1.2820\n",
      "036_S_4538  ADNI  4.0000            5.3136 1.3136\n",
      "022_S_6796  ADNI  4.0000            5.3258 1.3258\n",
      "  1_S_5068   PSP  3.5000            4.8806 1.3806\n",
      "  1_S_5031   CBS  3.5000            4.9068 1.4068\n",
      "  1_S_5077   PSP  7.0000            5.5787 1.4213\n",
      "168_S_6843  ADNI  3.5000            5.0186 1.5186\n",
      "  1_S_5044   PSP  6.5000            4.9263 1.5737\n",
      "127_S_6433  ADNI  4.0000            5.6309 1.6309\n",
      "  5_S_5008   PSP  3.5000            5.1393 1.6393\n",
      "  1_S_5055   PSP  3.5000            5.1781 1.6781\n",
      "  1_S_5056   PSP  3.0000            4.7174 1.7174\n",
      "  4_S_5002   PSP  3.5000            5.2732 1.7732\n",
      "  1_S_5050   PSP  7.0000            5.2111 1.7889\n",
      "  4_S_5007   PSP  7.5000            5.7006 1.7994\n",
      "011_S_4893  ADNI  7.0000            5.1588 1.8412\n",
      "  1_S_5006   CBS  7.0000            5.1170 1.8830\n",
      "127_S_6549  ADNI  3.5000            5.4201 1.9201\n",
      "  1_S_5010   PSP  3.0000            5.0577 2.0577\n",
      "  1_S_5032   PSP  3.5000            5.5633 2.0633\n",
      "  1_S_5089   CBS  3.5000            5.6360 2.1360\n",
      "019_S_6668  ADNI  3.0000            5.1714 2.1714\n",
      "003_S_6606  ADNI  3.0000            5.1785 2.1785\n",
      "  1_S_5028   PSP  8.0000            5.7028 2.2972\n",
      "126_S_4507  ADNI  8.0000            5.6999 2.3001\n",
      "041_S_4974  ADNI  8.0000            5.6186 2.3814\n",
      "  1_S_5024   CBS  7.5000            5.1087 2.3913\n",
      "130_S_4415  ADNI  8.0000            5.3333 2.6667\n",
      "  5_S_5002   PSP  8.0000            5.3184 2.6816\n",
      "  1_S_5093   PSP  8.0000            5.2210 2.7790\n",
      "135_S_6545  ADNI  8.0000            4.8425 3.1575\n",
      "  1_S_5095   PSP  8.0000            4.7093 3.2907\n",
      "\n",
      "=== GMM Cluster 2.0 ===\n",
      "Dataframe shape after merge: (15, 161825)\n",
      "Meta columns: 8\n",
      "Feature matrix shape: (15, 161817) \n",
      "\n",
      "Running UMAP...\n",
      "\n",
      "OLS REGRESSION SUMMARY\n",
      "                            OLS Regression Results                            \n",
      "==============================================================================\n",
      "Dep. Variable:                 CDR_SB   R-squared:                       0.166\n",
      "Model:                            OLS   Adj. R-squared:                 -0.297\n",
      "Method:                 Least Squares   F-statistic:                    0.3588\n",
      "Date:                Fri, 06 Jun 2025   Prob (F-statistic):              0.864\n",
      "Time:                        16:56:13   Log-Likelihood:                -35.161\n",
      "No. Observations:                  15   AIC:                             82.32\n",
      "Df Residuals:                       9   BIC:                             86.57\n",
      "Df Model:                           5                                         \n",
      "Covariance Type:            nonrobust                                         \n",
      "==============================================================================\n",
      "                 coef    std err          t      P>|t|      [0.025      0.975]\n",
      "------------------------------------------------------------------------------\n",
      "const          5.0052     36.041      0.139      0.893     -76.525      86.535\n",
      "UMAP1         -0.4119      1.054     -0.391      0.705      -2.796       1.973\n",
      "UMAP2         -0.3137      1.428     -0.220      0.831      -3.545       2.918\n",
      "Age            0.0558      0.112      0.500      0.629      -0.196       0.308\n",
      "Education      0.2884      0.311      0.929      0.377      -0.414       0.991\n",
      "Sex_M          0.9984      2.116      0.472      0.648      -3.789       5.785\n",
      "==============================================================================\n",
      "Omnibus:                        3.381   Durbin-Watson:                   1.936\n",
      "Prob(Omnibus):                  0.184   Jarque-Bera (JB):                1.382\n",
      "Skew:                           0.688   Prob(JB):                        0.501\n",
      "Kurtosis:                       3.566   Cond. No.                     3.28e+03\n",
      "==============================================================================\n",
      "\n",
      "Notes:\n",
      "[1] Standard Errors assume that the covariance matrix of the errors is correctly specified.\n",
      "[2] The condition number is large, 3.28e+03. This might indicate that there are\n",
      "strong multicollinearity or other numerical problems.\n",
      "\n",
      "\n",
      "--------------------------------------------------------------------------------\n",
      "SHUFFLING REGRESSION\n",
      "--------------------------------------------------------------------------------\n",
      "R² real:      0.1662\n",
      "R² shuffled:  0.3665\n",
      "Empirical p:  0.8500\n",
      "\n",
      "\n",
      "--------------------------------------------------------------------------------\n",
      "RMSE BY DIAGNOSTIC GROUP AND OVERALL METRICS\n",
      "--------------------------------------------------------------------------------\n",
      "       Mean_RMSE  Std_RMSE  N\n",
      "Group                        \n",
      "PSP       2.7900    2.6100  5\n",
      "CBS       1.5000    1.1700  6\n",
      "ADNI      1.2900    0.8600  4\n",
      "\n",
      "\n",
      "MAE:  1.8729\n",
      "RMSE: 2.5221\n",
      "\n",
      "\n",
      "--------------------------------------------------------------------------------\n",
      "SUBJECTS RANKED BY RMSE (BEST TO WORST)\n",
      "--------------------------------------------------------------------------------\n",
      "        ID Group  CDR_SB  Predicted CDR_SB   RMSE\n",
      "  4_S_5001   CBS 12.0000           11.8541 0.1459\n",
      "  4_S_5010   PSP 12.0000           12.1707 0.1707\n",
      "  3_S_5001   PSP 13.5000           13.9059 0.4059\n",
      "036_S_4715  ADNI 11.0000           11.4940 0.4940\n",
      "  1_S_5038   CBS  9.0000            9.5136 0.5136\n",
      "  1_S_5019   CBS 11.0000           11.6839 0.6839\n",
      "036_S_4430  ADNI 14.0000           13.2758 0.7242\n",
      "012_S_4188  ADNI 15.0000           13.4461 1.5539\n",
      "  4_S_5009   CBS  9.0000           11.3421 2.3421\n",
      "016_S_4902  ADNI 10.0000           12.3755 2.3755\n",
      "  1_S_5023   CBS 16.0000           13.4206 2.5794\n",
      "  1_S_5001   CBS 15.0000           12.2729 2.7271\n",
      "  1_S_5011   PSP  9.0000           11.7415 2.7415\n",
      "  5_S_5007   PSP  9.5000           13.8194 4.3194\n",
      "  1_S_5007   PSP 18.0000           11.6838 6.3162\n"
     ]
    }
   ],
   "execution_count": 241
  },
  {
   "metadata": {},
   "cell_type": "markdown",
   "source": "### Cluster K-Means",
   "id": "27b6e1bda0a0c2bb"
  },
  {
   "metadata": {},
   "cell_type": "code",
   "outputs": [],
   "execution_count": null,
   "source": [
    "# Load data\n",
    "df_gm, df_meta = open_dataframes(path_df_gm, path_df_meta)"
   ],
   "id": "23b0897e81083b18"
  },
  {
   "metadata": {},
   "cell_type": "code",
   "outputs": [],
   "execution_count": null,
   "source": [
    "target_col = \"CDR_SB\"\n",
    "cluster_col = \"KMeans\"\n",
    "\n",
    "for cluster_id in labels_df[cluster_col].unique():\n",
    "    print(f\"\\n=== Cluster {cluster_id} ===\")\n",
    "\n",
    "    # Get subject IDs for the current cluster\n",
    "    ids_in_cluster = labels_df[labels_df[cluster_col] == cluster_id][\"ID\"]\n",
    "\n",
    "    # Filter df_meta and df_gm_masked based on IDs only\n",
    "    df_meta_cluster = df_meta[df_meta[\"ID\"].isin(ids_in_cluster)].reset_index(drop=True)\n",
    "    df_cluster = df_gm[df_gm[\"ID\"].isin(ids_in_cluster)].reset_index(drop=True)\n",
    "\n",
    "    # Run regression (NaN removal is handled internally)\n",
    "    model, y_pred, residuals, subject_errors, group_rmse_stats = main_regression(\n",
    "        df_masked = df_cluster,\n",
    "        df_meta = df_meta_cluster,\n",
    "        target_variable = target_col,\n",
    "        covariates = ['Sex', 'Age', 'Education'],\n",
    "        y_log_transform = False,\n",
    "        plot_flag = True,\n",
    "        save_path = None,\n",
    "        title_prefix = f\"cluster_{cluster_col}_{cluster_id}\"\n",
    "    )"
   ],
   "id": "77d862ec0925531f"
  }
 ],
 "metadata": {
  "kernelspec": {
   "display_name": "Python 3",
   "language": "python",
   "name": "python3"
  },
  "language_info": {
   "codemirror_mode": {
    "name": "ipython",
    "version": 2
   },
   "file_extension": ".py",
   "mimetype": "text/x-python",
   "name": "python",
   "nbconvert_exporter": "python",
   "pygments_lexer": "ipython2",
   "version": "2.7.6"
  }
 },
 "nbformat": 4,
 "nbformat_minor": 5
}
