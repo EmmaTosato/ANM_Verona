{
 "cells": [
  {
   "cell_type": "code",
   "id": "initial_id",
   "metadata": {
    "collapsed": true,
    "ExecuteTime": {
     "end_time": "2025-07-16T10:11:24.085614Z",
     "start_time": "2025-07-16T10:11:22.292248Z"
    }
   },
   "source": [
    "import numpy as np\n",
    "import torch\n",
    "import pandas as pd"
   ],
   "outputs": [],
   "execution_count": 3
  },
  {
   "metadata": {
    "ExecuteTime": {
     "end_time": "2025-07-16T10:11:08.552819Z",
     "start_time": "2025-07-16T10:11:08.548481Z"
    }
   },
   "cell_type": "code",
   "source": [
    "import os\n",
    "os.getcwd()"
   ],
   "id": "e036a1bd05647414",
   "outputs": [
    {
     "data": {
      "text/plain": [
       "'/tmp/rb4XCe7OTU'"
      ]
     },
     "execution_count": 1,
     "metadata": {},
     "output_type": "execute_result"
    }
   ],
   "execution_count": 1
  },
  {
   "metadata": {},
   "cell_type": "markdown",
   "source": "# Testing",
   "id": "2986564a6e97ec7a"
  },
  {
   "metadata": {
    "ExecuteTime": {
     "end_time": "2025-07-16T10:13:43.325985Z",
     "start_time": "2025-07-16T10:13:43.319500Z"
    }
   },
   "cell_type": "code",
   "source": [
    "test_results = pd.read_csv(\"/data/users/etosato/ANM_Verona/results/runs/all_testing_results.csv\")\n",
    "test_results[\"run_id\"] = test_results[\"run_id\"].astype(str).str.replace(\"run\", \"\", regex=False).astype(int)\n",
    "display(test_results)"
   ],
   "id": "1c8a070e1b70c18a",
   "outputs": [
    {
     "data": {
      "text/plain": [
       "    run_id        group   seed  accuracy  precision  recall     f1\n",
       "0        1  ADNI vs PSP     42     0.519      0.471   0.667  0.552\n",
       "1        2  ADNI vs PSP    123     0.593      0.571   0.333  0.421\n",
       "2        3  ADNI vs PSP   2023     0.519      0.444   0.333  0.381\n",
       "3        4  ADNI vs PSP  31415     0.444      0.364   0.333  0.348\n",
       "4        5  ADNI vs PSP  98765     0.296      0.111   0.083  0.095\n",
       "5        6  ADNI vs CBS     42     0.583      0.444   0.444  0.444\n",
       "6        7  ADNI vs CBS    123     0.625      0.500   0.778  0.609\n",
       "7        8  ADNI vs CBS   2023     0.708      1.000   0.222  0.364\n",
       "8        9  ADNI vs CBS  31415     0.458      0.357   0.556  0.435\n",
       "9       10  ADNI vs CBS  98765     0.625      0.500   0.444  0.471\n",
       "10      11   PSP vs CBS     42     0.619      0.643   0.750  0.692\n",
       "11      12   PSP vs CBS    123     0.524      0.550   0.917  0.688\n",
       "12      13   PSP vs CBS   2023     0.524      0.571   0.667  0.615\n",
       "13      14   PSP vs CBS  31415     0.524      0.571   0.667  0.615\n",
       "14      15   PSP vs CBS  98765     0.619      0.611   0.917  0.733"
      ],
      "text/html": [
       "<div>\n",
       "<style scoped>\n",
       "    .dataframe tbody tr th:only-of-type {\n",
       "        vertical-align: middle;\n",
       "    }\n",
       "\n",
       "    .dataframe tbody tr th {\n",
       "        vertical-align: top;\n",
       "    }\n",
       "\n",
       "    .dataframe thead th {\n",
       "        text-align: right;\n",
       "    }\n",
       "</style>\n",
       "<table border=\"1\" class=\"dataframe\">\n",
       "  <thead>\n",
       "    <tr style=\"text-align: right;\">\n",
       "      <th></th>\n",
       "      <th>run_id</th>\n",
       "      <th>group</th>\n",
       "      <th>seed</th>\n",
       "      <th>accuracy</th>\n",
       "      <th>precision</th>\n",
       "      <th>recall</th>\n",
       "      <th>f1</th>\n",
       "    </tr>\n",
       "  </thead>\n",
       "  <tbody>\n",
       "    <tr>\n",
       "      <th>0</th>\n",
       "      <td>1</td>\n",
       "      <td>ADNI vs PSP</td>\n",
       "      <td>42</td>\n",
       "      <td>0.519</td>\n",
       "      <td>0.471</td>\n",
       "      <td>0.667</td>\n",
       "      <td>0.552</td>\n",
       "    </tr>\n",
       "    <tr>\n",
       "      <th>1</th>\n",
       "      <td>2</td>\n",
       "      <td>ADNI vs PSP</td>\n",
       "      <td>123</td>\n",
       "      <td>0.593</td>\n",
       "      <td>0.571</td>\n",
       "      <td>0.333</td>\n",
       "      <td>0.421</td>\n",
       "    </tr>\n",
       "    <tr>\n",
       "      <th>2</th>\n",
       "      <td>3</td>\n",
       "      <td>ADNI vs PSP</td>\n",
       "      <td>2023</td>\n",
       "      <td>0.519</td>\n",
       "      <td>0.444</td>\n",
       "      <td>0.333</td>\n",
       "      <td>0.381</td>\n",
       "    </tr>\n",
       "    <tr>\n",
       "      <th>3</th>\n",
       "      <td>4</td>\n",
       "      <td>ADNI vs PSP</td>\n",
       "      <td>31415</td>\n",
       "      <td>0.444</td>\n",
       "      <td>0.364</td>\n",
       "      <td>0.333</td>\n",
       "      <td>0.348</td>\n",
       "    </tr>\n",
       "    <tr>\n",
       "      <th>4</th>\n",
       "      <td>5</td>\n",
       "      <td>ADNI vs PSP</td>\n",
       "      <td>98765</td>\n",
       "      <td>0.296</td>\n",
       "      <td>0.111</td>\n",
       "      <td>0.083</td>\n",
       "      <td>0.095</td>\n",
       "    </tr>\n",
       "    <tr>\n",
       "      <th>5</th>\n",
       "      <td>6</td>\n",
       "      <td>ADNI vs CBS</td>\n",
       "      <td>42</td>\n",
       "      <td>0.583</td>\n",
       "      <td>0.444</td>\n",
       "      <td>0.444</td>\n",
       "      <td>0.444</td>\n",
       "    </tr>\n",
       "    <tr>\n",
       "      <th>6</th>\n",
       "      <td>7</td>\n",
       "      <td>ADNI vs CBS</td>\n",
       "      <td>123</td>\n",
       "      <td>0.625</td>\n",
       "      <td>0.500</td>\n",
       "      <td>0.778</td>\n",
       "      <td>0.609</td>\n",
       "    </tr>\n",
       "    <tr>\n",
       "      <th>7</th>\n",
       "      <td>8</td>\n",
       "      <td>ADNI vs CBS</td>\n",
       "      <td>2023</td>\n",
       "      <td>0.708</td>\n",
       "      <td>1.000</td>\n",
       "      <td>0.222</td>\n",
       "      <td>0.364</td>\n",
       "    </tr>\n",
       "    <tr>\n",
       "      <th>8</th>\n",
       "      <td>9</td>\n",
       "      <td>ADNI vs CBS</td>\n",
       "      <td>31415</td>\n",
       "      <td>0.458</td>\n",
       "      <td>0.357</td>\n",
       "      <td>0.556</td>\n",
       "      <td>0.435</td>\n",
       "    </tr>\n",
       "    <tr>\n",
       "      <th>9</th>\n",
       "      <td>10</td>\n",
       "      <td>ADNI vs CBS</td>\n",
       "      <td>98765</td>\n",
       "      <td>0.625</td>\n",
       "      <td>0.500</td>\n",
       "      <td>0.444</td>\n",
       "      <td>0.471</td>\n",
       "    </tr>\n",
       "    <tr>\n",
       "      <th>10</th>\n",
       "      <td>11</td>\n",
       "      <td>PSP vs CBS</td>\n",
       "      <td>42</td>\n",
       "      <td>0.619</td>\n",
       "      <td>0.643</td>\n",
       "      <td>0.750</td>\n",
       "      <td>0.692</td>\n",
       "    </tr>\n",
       "    <tr>\n",
       "      <th>11</th>\n",
       "      <td>12</td>\n",
       "      <td>PSP vs CBS</td>\n",
       "      <td>123</td>\n",
       "      <td>0.524</td>\n",
       "      <td>0.550</td>\n",
       "      <td>0.917</td>\n",
       "      <td>0.688</td>\n",
       "    </tr>\n",
       "    <tr>\n",
       "      <th>12</th>\n",
       "      <td>13</td>\n",
       "      <td>PSP vs CBS</td>\n",
       "      <td>2023</td>\n",
       "      <td>0.524</td>\n",
       "      <td>0.571</td>\n",
       "      <td>0.667</td>\n",
       "      <td>0.615</td>\n",
       "    </tr>\n",
       "    <tr>\n",
       "      <th>13</th>\n",
       "      <td>14</td>\n",
       "      <td>PSP vs CBS</td>\n",
       "      <td>31415</td>\n",
       "      <td>0.524</td>\n",
       "      <td>0.571</td>\n",
       "      <td>0.667</td>\n",
       "      <td>0.615</td>\n",
       "    </tr>\n",
       "    <tr>\n",
       "      <th>14</th>\n",
       "      <td>15</td>\n",
       "      <td>PSP vs CBS</td>\n",
       "      <td>98765</td>\n",
       "      <td>0.619</td>\n",
       "      <td>0.611</td>\n",
       "      <td>0.917</td>\n",
       "      <td>0.733</td>\n",
       "    </tr>\n",
       "  </tbody>\n",
       "</table>\n",
       "</div>"
      ]
     },
     "metadata": {},
     "output_type": "display_data"
    }
   ],
   "execution_count": 5
  },
  {
   "metadata": {
    "ExecuteTime": {
     "end_time": "2025-07-16T10:13:44.008715Z",
     "start_time": "2025-07-16T10:13:44.001250Z"
    }
   },
   "cell_type": "code",
   "source": [
    "metrics_cols = ['accuracy', 'precision', 'recall', 'f1']\n",
    "group_stats = test_results.groupby(\"group\")[metrics_cols].agg(['mean', 'std'])\n",
    "display(round(group_stats,3))"
   ],
   "id": "e2cfffe9ab0a4bf1",
   "outputs": [
    {
     "data": {
      "text/plain": [
       "            accuracy        precision        recall            f1       \n",
       "                mean    std      mean    std   mean    std   mean    std\n",
       "group                                                                   \n",
       "ADNI vs CBS    0.600  0.091     0.560  0.253  0.489  0.202  0.465  0.090\n",
       "ADNI vs PSP    0.474  0.113     0.392  0.174  0.350  0.208  0.359  0.167\n",
       "PSP vs CBS     0.562  0.052     0.589  0.037  0.784  0.126  0.669  0.052"
      ],
      "text/html": [
       "<div>\n",
       "<style scoped>\n",
       "    .dataframe tbody tr th:only-of-type {\n",
       "        vertical-align: middle;\n",
       "    }\n",
       "\n",
       "    .dataframe tbody tr th {\n",
       "        vertical-align: top;\n",
       "    }\n",
       "\n",
       "    .dataframe thead tr th {\n",
       "        text-align: left;\n",
       "    }\n",
       "\n",
       "    .dataframe thead tr:last-of-type th {\n",
       "        text-align: right;\n",
       "    }\n",
       "</style>\n",
       "<table border=\"1\" class=\"dataframe\">\n",
       "  <thead>\n",
       "    <tr>\n",
       "      <th></th>\n",
       "      <th colspan=\"2\" halign=\"left\">accuracy</th>\n",
       "      <th colspan=\"2\" halign=\"left\">precision</th>\n",
       "      <th colspan=\"2\" halign=\"left\">recall</th>\n",
       "      <th colspan=\"2\" halign=\"left\">f1</th>\n",
       "    </tr>\n",
       "    <tr>\n",
       "      <th></th>\n",
       "      <th>mean</th>\n",
       "      <th>std</th>\n",
       "      <th>mean</th>\n",
       "      <th>std</th>\n",
       "      <th>mean</th>\n",
       "      <th>std</th>\n",
       "      <th>mean</th>\n",
       "      <th>std</th>\n",
       "    </tr>\n",
       "    <tr>\n",
       "      <th>group</th>\n",
       "      <th></th>\n",
       "      <th></th>\n",
       "      <th></th>\n",
       "      <th></th>\n",
       "      <th></th>\n",
       "      <th></th>\n",
       "      <th></th>\n",
       "      <th></th>\n",
       "    </tr>\n",
       "  </thead>\n",
       "  <tbody>\n",
       "    <tr>\n",
       "      <th>ADNI vs CBS</th>\n",
       "      <td>0.600</td>\n",
       "      <td>0.091</td>\n",
       "      <td>0.560</td>\n",
       "      <td>0.253</td>\n",
       "      <td>0.489</td>\n",
       "      <td>0.202</td>\n",
       "      <td>0.465</td>\n",
       "      <td>0.090</td>\n",
       "    </tr>\n",
       "    <tr>\n",
       "      <th>ADNI vs PSP</th>\n",
       "      <td>0.474</td>\n",
       "      <td>0.113</td>\n",
       "      <td>0.392</td>\n",
       "      <td>0.174</td>\n",
       "      <td>0.350</td>\n",
       "      <td>0.208</td>\n",
       "      <td>0.359</td>\n",
       "      <td>0.167</td>\n",
       "    </tr>\n",
       "    <tr>\n",
       "      <th>PSP vs CBS</th>\n",
       "      <td>0.562</td>\n",
       "      <td>0.052</td>\n",
       "      <td>0.589</td>\n",
       "      <td>0.037</td>\n",
       "      <td>0.784</td>\n",
       "      <td>0.126</td>\n",
       "      <td>0.669</td>\n",
       "      <td>0.052</td>\n",
       "    </tr>\n",
       "  </tbody>\n",
       "</table>\n",
       "</div>"
      ]
     },
     "metadata": {},
     "output_type": "display_data"
    }
   ],
   "execution_count": 6
  },
  {
   "metadata": {
    "ExecuteTime": {
     "end_time": "2025-07-16T10:14:00.091128Z",
     "start_time": "2025-07-16T10:14:00.088446Z"
    }
   },
   "cell_type": "code",
   "source": "group_stats.to_csv(\"/data/users/etosato/ANM_Verona/results/runs/summary_stats.csv\")",
   "id": "2df22ab027f61147",
   "outputs": [],
   "execution_count": 8
  },
  {
   "metadata": {},
   "cell_type": "markdown",
   "source": "# Example",
   "id": "7363199b1933a7"
  },
  {
   "metadata": {
    "ExecuteTime": {
     "end_time": "2025-05-29T09:05:35.110783Z",
     "start_time": "2025-05-29T09:05:35.107284Z"
    }
   },
   "cell_type": "code",
   "source": [
    "volume = np.load(\"/data/users/etosato/ANM_Verona/data/FCmaps_processed/1_S_5000.processed.npy\")\n",
    "print(\"Shape of the volume:\", volume.shape)"
   ],
   "id": "afa4be176a4b23eb",
   "outputs": [
    {
     "name": "stdout",
     "output_type": "stream",
     "text": [
      "Shape of the volume: (91, 109, 91)\n"
     ]
    }
   ],
   "execution_count": 3
  },
  {
   "metadata": {},
   "cell_type": "markdown",
   "source": "# Checkpoints",
   "id": "4a1591fba52d6ac7"
  },
  {
   "metadata": {},
   "cell_type": "markdown",
   "source": "Example of checkpoint loading",
   "id": "5bbe344b929b86f5"
  },
  {
   "metadata": {
    "ExecuteTime": {
     "end_time": "2025-06-05T10:18:50.256720Z",
     "start_time": "2025-06-05T10:18:50.209048Z"
    }
   },
   "cell_type": "code",
   "source": [
    "# Path to the saved checkpoint\n",
    "ckpt_path = \"/cnn/runs/run1/best_model_fold2.pt\"\n",
    "\n",
    "# Load checkpoint\n",
    "checkpoint = torch.load(ckpt_path, map_location=\"cpu\", weights_only=False)\n",
    "\n",
    "# Show all available keys in the checkpoint\n",
    "print(\"Available keys in the checkpoint:\")\n",
    "print(checkpoint.keys())"
   ],
   "id": "4ea5f6cf3e943ca0",
   "outputs": [
    {
     "name": "stdout",
     "output_type": "stream",
     "text": [
      "Available keys in the checkpoint:\n",
      "dict_keys(['state_dict', 'optimizer_state', 'val_accuracy', 'epoch', 'best_train_loss', 'best_val_loss', 'fold'])\n"
     ]
    }
   ],
   "execution_count": 7
  },
  {
   "metadata": {
    "ExecuteTime": {
     "end_time": "2025-06-05T10:18:50.960624Z",
     "start_time": "2025-06-05T10:18:50.957898Z"
    }
   },
   "cell_type": "code",
   "source": [
    "# Training information\n",
    "epoch = checkpoint[\"epoch\"]\n",
    "val_accuracy = checkpoint[\"val_accuracy\"]\n",
    "train_loss = checkpoint[\"best_train_loss\"]\n",
    "val_loss = checkpoint[\"best_val_loss\"]\n",
    "fold = checkpoint[\"fold\"]\n",
    "\n",
    "print(f\"Fold: {fold}\")\n",
    "print(f\"Best Epoch: {epoch}\")\n",
    "print(f\"Validation Accuracy: {val_accuracy:.3f}\")\n",
    "print(f\"Best Training Loss: {train_loss:.3f}\")\n",
    "print(f\"Best Validation Loss: {val_loss:.3f}\")\n"
   ],
   "id": "3d668306d50f9b97",
   "outputs": [
    {
     "name": "stdout",
     "output_type": "stream",
     "text": [
      "Fold: 2\n",
      "Best Epoch: 10\n",
      "Validation Accuracy: 0.714\n",
      "Best Training Loss: 0.560\n",
      "Best Validation Loss: 0.971\n"
     ]
    }
   ],
   "execution_count": 8
  },
  {
   "metadata": {},
   "cell_type": "markdown",
   "source": "# Tuning",
   "id": "1668d491d660205c"
  },
  {
   "metadata": {
    "ExecuteTime": {
     "end_time": "2025-07-07T13:51:46.671504Z",
     "start_time": "2025-07-07T13:51:46.643252Z"
    }
   },
   "cell_type": "code",
   "source": [
    "# Load the CSV file\n",
    "csv_path = \"/src/cnn/tuning/adni_psp.csv\"\n",
    "df = pd.read_csv(csv_path)\n",
    "\n",
    "# Sort: highest best_accuracy first, then lowest avg_val_loss\n",
    "sorted_df_acc = df.sort_values(by=[\"best_accuracy\", \"avg_val_loss\"], ascending=[False, True])\n",
    "\n",
    "# Select the best configuration\n",
    "best_config_acc = sorted_df_acc.iloc[0]\n",
    "\n",
    "print(\"Best configuration:\")\n",
    "print(best_config_acc)"
   ],
   "id": "be089bf859e32f39",
   "outputs": [
    {
     "name": "stdout",
     "output_type": "stream",
     "text": [
      "Best configuration:\n",
      "tuning                      2\n",
      "config                config8\n",
      "group             ADNI vs PSP\n",
      "threshold              no thr\n",
      "best_fold                   3\n",
      "best_accuracy           0.905\n",
      "avg_accuracy            0.819\n",
      "avg_train_loss           0.16\n",
      "avg_val_loss            0.708\n",
      "optimizer                adam\n",
      "batch_size                  8\n",
      "lr                     0.0001\n",
      "weight_decay            0.001\n",
      "model_type           densenet\n",
      "epochs                     50\n",
      "test size                 0.2\n",
      "Name: 7, dtype: object\n"
     ]
    }
   ],
   "execution_count": 22
  },
  {
   "metadata": {
    "ExecuteTime": {
     "end_time": "2025-07-07T13:47:54.663606Z",
     "start_time": "2025-07-07T13:47:54.595657Z"
    }
   },
   "cell_type": "code",
   "source": [
    "top_10_configs = sorted_df_acc[[\n",
    "    \"tuning\", \"config\", \"best_accuracy\", \"avg_accuracy\", \"avg_val_loss\",\n",
    "    \"optimizer\", \"batch_size\", \"lr\", \"weight_decay\", \"model_type\"\n",
    "]].head(10)\n",
    "\n",
    "print(\"Top 10 configurations (by best_accuracy, then avg_val_loss):\")\n",
    "display(top_10_configs)\n"
   ],
   "id": "d8ad35774960b708",
   "outputs": [
    {
     "name": "stdout",
     "output_type": "stream",
     "text": [
      "Top 10 configurations (by best_accuracy, then avg_val_loss):\n"
     ]
    },
    {
     "data": {
      "text/plain": [
       "    tuning    config  best_accuracy  avg_accuracy  avg_val_loss optimizer  \\\n",
       "7        2   config8          0.905         0.819         0.708      adam   \n",
       "4        2   config5          0.905         0.800         0.970      adam   \n",
       "6        2   config7          0.905         0.810         1.016      adam   \n",
       "16       6   config1          0.857         0.657         0.615      adam   \n",
       "17       6   config2          0.857         0.810         0.641      adam   \n",
       "0        2   config1          0.857         0.810         0.675      adam   \n",
       "15       2  config16          0.857         0.800         0.680       sgd   \n",
       "13       2  config14          0.857         0.810         0.697       sgd   \n",
       "20       6   config5          0.857         0.829         0.713      adam   \n",
       "14       2  config15          0.857         0.771         0.744       sgd   \n",
       "\n",
       "    batch_size      lr  weight_decay model_type  \n",
       "7            8  0.0001        0.0010   densenet  \n",
       "4            8  0.0001        0.0001     resnet  \n",
       "6            8  0.0001        0.0010     resnet  \n",
       "16           4  0.0010        0.0010     resnet  \n",
       "17           4  0.0010        0.0010   densenet  \n",
       "0            8  0.0010        0.0001     resnet  \n",
       "15           8  0.0001        0.0010   densenet  \n",
       "13           8  0.0001        0.0001   densenet  \n",
       "20           4  0.0000        0.0010   densenet  \n",
       "14           8  0.0001        0.0010     resnet  "
      ],
      "text/html": [
       "<div>\n",
       "<style scoped>\n",
       "    .dataframe tbody tr th:only-of-type {\n",
       "        vertical-align: middle;\n",
       "    }\n",
       "\n",
       "    .dataframe tbody tr th {\n",
       "        vertical-align: top;\n",
       "    }\n",
       "\n",
       "    .dataframe thead th {\n",
       "        text-align: right;\n",
       "    }\n",
       "</style>\n",
       "<table border=\"1\" class=\"dataframe\">\n",
       "  <thead>\n",
       "    <tr style=\"text-align: right;\">\n",
       "      <th></th>\n",
       "      <th>tuning</th>\n",
       "      <th>config</th>\n",
       "      <th>best_accuracy</th>\n",
       "      <th>avg_accuracy</th>\n",
       "      <th>avg_val_loss</th>\n",
       "      <th>optimizer</th>\n",
       "      <th>batch_size</th>\n",
       "      <th>lr</th>\n",
       "      <th>weight_decay</th>\n",
       "      <th>model_type</th>\n",
       "    </tr>\n",
       "  </thead>\n",
       "  <tbody>\n",
       "    <tr>\n",
       "      <th>7</th>\n",
       "      <td>2</td>\n",
       "      <td>config8</td>\n",
       "      <td>0.905</td>\n",
       "      <td>0.819</td>\n",
       "      <td>0.708</td>\n",
       "      <td>adam</td>\n",
       "      <td>8</td>\n",
       "      <td>0.0001</td>\n",
       "      <td>0.0010</td>\n",
       "      <td>densenet</td>\n",
       "    </tr>\n",
       "    <tr>\n",
       "      <th>4</th>\n",
       "      <td>2</td>\n",
       "      <td>config5</td>\n",
       "      <td>0.905</td>\n",
       "      <td>0.800</td>\n",
       "      <td>0.970</td>\n",
       "      <td>adam</td>\n",
       "      <td>8</td>\n",
       "      <td>0.0001</td>\n",
       "      <td>0.0001</td>\n",
       "      <td>resnet</td>\n",
       "    </tr>\n",
       "    <tr>\n",
       "      <th>6</th>\n",
       "      <td>2</td>\n",
       "      <td>config7</td>\n",
       "      <td>0.905</td>\n",
       "      <td>0.810</td>\n",
       "      <td>1.016</td>\n",
       "      <td>adam</td>\n",
       "      <td>8</td>\n",
       "      <td>0.0001</td>\n",
       "      <td>0.0010</td>\n",
       "      <td>resnet</td>\n",
       "    </tr>\n",
       "    <tr>\n",
       "      <th>16</th>\n",
       "      <td>6</td>\n",
       "      <td>config1</td>\n",
       "      <td>0.857</td>\n",
       "      <td>0.657</td>\n",
       "      <td>0.615</td>\n",
       "      <td>adam</td>\n",
       "      <td>4</td>\n",
       "      <td>0.0010</td>\n",
       "      <td>0.0010</td>\n",
       "      <td>resnet</td>\n",
       "    </tr>\n",
       "    <tr>\n",
       "      <th>17</th>\n",
       "      <td>6</td>\n",
       "      <td>config2</td>\n",
       "      <td>0.857</td>\n",
       "      <td>0.810</td>\n",
       "      <td>0.641</td>\n",
       "      <td>adam</td>\n",
       "      <td>4</td>\n",
       "      <td>0.0010</td>\n",
       "      <td>0.0010</td>\n",
       "      <td>densenet</td>\n",
       "    </tr>\n",
       "    <tr>\n",
       "      <th>0</th>\n",
       "      <td>2</td>\n",
       "      <td>config1</td>\n",
       "      <td>0.857</td>\n",
       "      <td>0.810</td>\n",
       "      <td>0.675</td>\n",
       "      <td>adam</td>\n",
       "      <td>8</td>\n",
       "      <td>0.0010</td>\n",
       "      <td>0.0001</td>\n",
       "      <td>resnet</td>\n",
       "    </tr>\n",
       "    <tr>\n",
       "      <th>15</th>\n",
       "      <td>2</td>\n",
       "      <td>config16</td>\n",
       "      <td>0.857</td>\n",
       "      <td>0.800</td>\n",
       "      <td>0.680</td>\n",
       "      <td>sgd</td>\n",
       "      <td>8</td>\n",
       "      <td>0.0001</td>\n",
       "      <td>0.0010</td>\n",
       "      <td>densenet</td>\n",
       "    </tr>\n",
       "    <tr>\n",
       "      <th>13</th>\n",
       "      <td>2</td>\n",
       "      <td>config14</td>\n",
       "      <td>0.857</td>\n",
       "      <td>0.810</td>\n",
       "      <td>0.697</td>\n",
       "      <td>sgd</td>\n",
       "      <td>8</td>\n",
       "      <td>0.0001</td>\n",
       "      <td>0.0001</td>\n",
       "      <td>densenet</td>\n",
       "    </tr>\n",
       "    <tr>\n",
       "      <th>20</th>\n",
       "      <td>6</td>\n",
       "      <td>config5</td>\n",
       "      <td>0.857</td>\n",
       "      <td>0.829</td>\n",
       "      <td>0.713</td>\n",
       "      <td>adam</td>\n",
       "      <td>4</td>\n",
       "      <td>0.0000</td>\n",
       "      <td>0.0010</td>\n",
       "      <td>densenet</td>\n",
       "    </tr>\n",
       "    <tr>\n",
       "      <th>14</th>\n",
       "      <td>2</td>\n",
       "      <td>config15</td>\n",
       "      <td>0.857</td>\n",
       "      <td>0.771</td>\n",
       "      <td>0.744</td>\n",
       "      <td>sgd</td>\n",
       "      <td>8</td>\n",
       "      <td>0.0001</td>\n",
       "      <td>0.0010</td>\n",
       "      <td>resnet</td>\n",
       "    </tr>\n",
       "  </tbody>\n",
       "</table>\n",
       "</div>"
      ]
     },
     "metadata": {},
     "output_type": "display_data"
    }
   ],
   "execution_count": 21
  },
  {
   "metadata": {
    "ExecuteTime": {
     "end_time": "2025-07-07T13:39:12.256764Z",
     "start_time": "2025-07-07T13:39:12.229377Z"
    }
   },
   "cell_type": "code",
   "source": [
    "sorted_df_loss = df.sort_values(by=[\"avg_val_loss\", \"best_accuracy\"], ascending=[True, False])\n",
    "\n",
    "# Select the best configuration\n",
    "best_config_loss = sorted_df_loss.iloc[0]\n",
    "\n",
    "print(\"Best configuration:\")\n",
    "print(best_config_loss)"
   ],
   "id": "41ae4a82ab571661",
   "outputs": [
    {
     "name": "stdout",
     "output_type": "stream",
     "text": [
      "Best configuration:\n",
      "tuning                      6\n",
      "config                config1\n",
      "group             ADNI vs PSP\n",
      "threshold              no thr\n",
      "best_fold                   4\n",
      "best_accuracy           0.857\n",
      "avg_accuracy            0.657\n",
      "avg_train_loss          0.606\n",
      "avg_val_loss            0.615\n",
      "optimizer                adam\n",
      "batch_size                  4\n",
      "lr                      0.001\n",
      "weight_decay            0.001\n",
      "model_type             resnet\n",
      "epochs                     50\n",
      "test size                 0.2\n",
      "Name: 16, dtype: object\n"
     ]
    }
   ],
   "execution_count": 11
  },
  {
   "metadata": {},
   "cell_type": "code",
   "source": "sorted_df_loss",
   "id": "81b341ed50046623",
   "outputs": [],
   "execution_count": null
  },
  {
   "metadata": {},
   "cell_type": "code",
   "outputs": [],
   "execution_count": null,
   "source": "",
   "id": "5ea754dc2fd6aace"
  }
 ],
 "metadata": {
  "kernelspec": {
   "display_name": "Python 3",
   "language": "python",
   "name": "python3"
  },
  "language_info": {
   "codemirror_mode": {
    "name": "ipython",
    "version": 2
   },
   "file_extension": ".py",
   "mimetype": "text/x-python",
   "name": "python",
   "nbconvert_exporter": "python",
   "pygments_lexer": "ipython2",
   "version": "2.7.6"
  }
 },
 "nbformat": 4,
 "nbformat_minor": 5
}
