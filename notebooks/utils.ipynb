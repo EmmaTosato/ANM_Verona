{
 "cells": [
  {
   "cell_type": "code",
   "id": "initial_id",
   "metadata": {
    "collapsed": true,
    "ExecuteTime": {
     "end_time": "2025-04-23T09:47:23.736844Z",
     "start_time": "2025-04-23T09:47:23.735138Z"
    }
   },
   "source": [
    "import os\n",
    "import random\n",
    "import argparse\n",
    "import glob\n",
    "import csv\n",
    "import subprocess"
   ],
   "outputs": [],
   "execution_count": 1
  },
  {
   "metadata": {
    "ExecuteTime": {
     "end_time": "2025-04-23T09:48:32.843205Z",
     "start_time": "2025-04-23T09:48:32.840528Z"
    }
   },
   "cell_type": "code",
   "source": [
    "hcp_list = '/Users/emmatosato/Documents/PhD/ANM_Verona/data_utils/list_HCP.txt'\n",
    "n_augmentations = 10\n",
    "subset_size = 17"
   ],
   "id": "fb91f75b6821ae11",
   "outputs": [],
   "execution_count": 2
  },
  {
   "metadata": {
    "ExecuteTime": {
     "end_time": "2025-04-23T09:49:14.960715Z",
     "start_time": "2025-04-23T09:49:14.955264Z"
    }
   },
   "cell_type": "code",
   "source": [
    "# Read HCP file\n",
    "with open(hcp_list, \"r\") as f:\n",
    "    hcp_pool = [line.strip() for line in f.readlines()]\n",
    "\n",
    "random.seed(42)\n",
    "\n",
    "# Generate fixed HCP subsets that NOT overlap\n",
    "shuffled_hcp = random.sample(hcp_pool, n_augmentations * subset_size)\n",
    "\n",
    "hcp_subsets = [\n",
    "    shuffled_hcp[i * subset_size : (i + 1) * subset_size]\n",
    "    for i in range(n_augmentations)\n",
    "]"
   ],
   "id": "76c25420121151d",
   "outputs": [],
   "execution_count": 3
  },
  {
   "metadata": {
    "ExecuteTime": {
     "end_time": "2025-04-23T09:49:38.766431Z",
     "start_time": "2025-04-23T09:49:38.760799Z"
    }
   },
   "cell_type": "code",
   "source": "hcp_subsets",
   "id": "45cb2d9872d629e9",
   "outputs": [
    {
     "data": {
      "text/plain": [
       "[['901139',\n",
       "  '145834',\n",
       "  '109123',\n",
       "  '191336',\n",
       "  '180533',\n",
       "  '177645',\n",
       "  '155938',\n",
       "  '140117',\n",
       "  '725751',\n",
       "  '134627',\n",
       "  '818859',\n",
       "  '381038',\n",
       "  '114823',\n",
       "  '111514',\n",
       "  '134829',\n",
       "  '176542',\n",
       "  '178142'],\n",
       " ['601127',\n",
       "  '833249',\n",
       "  '943862',\n",
       "  '757764',\n",
       "  '169747',\n",
       "  '901442',\n",
       "  '380036',\n",
       "  '177140',\n",
       "  '401422',\n",
       "  '191841',\n",
       "  '102311',\n",
       "  '159239',\n",
       "  '898176',\n",
       "  '209228',\n",
       "  '771354',\n",
       "  '158136',\n",
       "  '871762'],\n",
       " ['205220',\n",
       "  '905147',\n",
       "  '872764',\n",
       "  '257845',\n",
       "  '135124',\n",
       "  '221319',\n",
       "  '212419',\n",
       "  '186949',\n",
       "  '116726',\n",
       "  '429040',\n",
       "  '146735',\n",
       "  '251833',\n",
       "  '115825',\n",
       "  '942658',\n",
       "  '157336',\n",
       "  '365343',\n",
       "  '200210'],\n",
       " ['199655',\n",
       "  '397760',\n",
       "  '389357',\n",
       "  '167440',\n",
       "  '192641',\n",
       "  '671855',\n",
       "  '214524',\n",
       "  '878877',\n",
       "  '108323',\n",
       "  '203418',\n",
       "  '146129',\n",
       "  '263436',\n",
       "  '550439',\n",
       "  '572045',\n",
       "  '393247',\n",
       "  '118225',\n",
       "  '169343'],\n",
       " ['910241',\n",
       "  '177746',\n",
       "  '200311',\n",
       "  '436845',\n",
       "  '131722',\n",
       "  '169040',\n",
       "  '167036',\n",
       "  '706040',\n",
       "  '204521',\n",
       "  '150423',\n",
       "  '214019',\n",
       "  '751550',\n",
       "  '200614',\n",
       "  '115017',\n",
       "  '197348',\n",
       "  '330324',\n",
       "  '132118'],\n",
       " ['187345',\n",
       "  '581450',\n",
       "  '318637',\n",
       "  '861456',\n",
       "  '360030',\n",
       "  '249947',\n",
       "  '246133',\n",
       "  '745555',\n",
       "  '951457',\n",
       "  '162935',\n",
       "  '878776',\n",
       "  '789373',\n",
       "  '105923',\n",
       "  '765864',\n",
       "  '171633',\n",
       "  '233326',\n",
       "  '782561'],\n",
       " ['144226',\n",
       "  '193845',\n",
       "  '562345',\n",
       "  '181232',\n",
       "  '899885',\n",
       "  '346137',\n",
       "  '130518',\n",
       "  '148133',\n",
       "  '541943',\n",
       "  '126931',\n",
       "  '283543',\n",
       "  '352738',\n",
       "  '192439',\n",
       "  '128935',\n",
       "  '178243',\n",
       "  '385046',\n",
       "  '239136'],\n",
       " ['814649',\n",
       "  '137128',\n",
       "  '690152',\n",
       "  '126426',\n",
       "  '927359',\n",
       "  '146937',\n",
       "  '724446',\n",
       "  '467351',\n",
       "  '104416',\n",
       "  '406836',\n",
       "  '654552',\n",
       "  '191033',\n",
       "  '825048',\n",
       "  '175237',\n",
       "  '158035',\n",
       "  '195041',\n",
       "  '412528'],\n",
       " ['173334',\n",
       "  '196144',\n",
       "  '627549',\n",
       "  '926862',\n",
       "  '100610',\n",
       "  '165436',\n",
       "  '644246',\n",
       "  '525541',\n",
       "  '130114',\n",
       "  '156334',\n",
       "  '169444',\n",
       "  '164131',\n",
       "  '573249',\n",
       "  '198653',\n",
       "  '463040',\n",
       "  '164636',\n",
       "  '125525'],\n",
       " ['320826',\n",
       "  '185442',\n",
       "  '201515',\n",
       "  '680957',\n",
       "  '131217',\n",
       "  '182739',\n",
       "  '770352',\n",
       "  '859671',\n",
       "  '732243',\n",
       "  '547046',\n",
       "  '182436',\n",
       "  '958976',\n",
       "  '102816',\n",
       "  '783462',\n",
       "  '172130',\n",
       "  '617748',\n",
       "  '395756']]"
      ]
     },
     "execution_count": 5,
     "metadata": {},
     "output_type": "execute_result"
    }
   ],
   "execution_count": 5
  },
  {
   "metadata": {
    "ExecuteTime": {
     "end_time": "2025-04-23T09:49:30.157418Z",
     "start_time": "2025-04-23T09:49:30.152861Z"
    }
   },
   "cell_type": "code",
   "source": [
    "# Flatten all subsets into a single list\n",
    "all_hcps = [hcp for subset in hcp_subsets for hcp in subset]\n",
    "\n",
    "# Compare total length vs. number of unique HCPs\n",
    "if len(all_hcps) == len(set(all_hcps)):\n",
    "    print(\"Subsets are disjoint: no overlaps.\")\n",
    "else:\n",
    "    print(\"Warning: there are overlapping HCPs between subsets.\")\n"
   ],
   "id": "cb146bad185ecd64",
   "outputs": [
    {
     "name": "stdout",
     "output_type": "stream",
     "text": [
      "Subsets are disjoint: no overlaps.\n"
     ]
    }
   ],
   "execution_count": 4
  },
  {
   "metadata": {},
   "cell_type": "code",
   "outputs": [],
   "execution_count": null,
   "source": "",
   "id": "a12e018f2f006095"
  }
 ],
 "metadata": {
  "kernelspec": {
   "display_name": "Python 3",
   "language": "python",
   "name": "python3"
  },
  "language_info": {
   "codemirror_mode": {
    "name": "ipython",
    "version": 2
   },
   "file_extension": ".py",
   "mimetype": "text/x-python",
   "name": "python",
   "nbconvert_exporter": "python",
   "pygments_lexer": "ipython2",
   "version": "2.7.6"
  }
 },
 "nbformat": 4,
 "nbformat_minor": 5
}
