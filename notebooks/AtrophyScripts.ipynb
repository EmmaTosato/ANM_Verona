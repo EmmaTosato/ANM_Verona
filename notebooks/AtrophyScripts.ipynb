{
 "cells": [
  {
   "metadata": {},
   "cell_type": "markdown",
   "source": "# Utils",
   "id": "d2307c9fb1159ab0"
  },
  {
   "metadata": {},
   "cell_type": "markdown",
   "source": "### Libraries",
   "id": "9b2b11082d01386"
  },
  {
   "metadata": {
    "ExecuteTime": {
     "end_time": "2025-06-04T11:13:13.605434Z",
     "start_time": "2025-06-04T11:13:13.087850Z"
    }
   },
   "cell_type": "code",
   "source": [
    "import pandas as pd\n",
    "import os\n",
    "import glob\n",
    "import nibabel as nib\n",
    "import numpy as np\n",
    "import contextlib\n",
    "from sklearn.mixture import GaussianMixture\n",
    "import warnings\n",
    "import sys"
   ],
   "id": "2bbfb5d9ad283893",
   "outputs": [],
   "execution_count": 2
  },
  {
   "metadata": {
    "ExecuteTime": {
     "end_time": "2025-06-04T11:13:14.128234Z",
     "start_time": "2025-06-04T11:13:14.125270Z"
    }
   },
   "cell_type": "code",
   "source": [
    "# Suppress all FutureWarnings\n",
    "warnings.simplefilter(action='ignore', category=FutureWarning)\n",
    "\n",
    "sys.path.append(\"/Users/emmatosato/Documents/PhD/ANM_Verona/src/data_processing\")"
   ],
   "id": "512dd25a90632626",
   "outputs": [],
   "execution_count": 3
  },
  {
   "metadata": {
    "ExecuteTime": {
     "end_time": "2025-06-04T11:13:17.489788Z",
     "start_time": "2025-06-04T11:13:14.554431Z"
    }
   },
   "cell_type": "code",
   "source": [
    "import importlib\n",
    "import data_processing.umap_run as umap_run\n",
    "import data_processing.umap_clustering as umap_clustering\n",
    "import data_processing.clustering_evaluation as clustering_evaluation\n",
    "import data_processing.umap_regression as umap_regression\n",
    "import data_processing.processing_flat as processing_flat\n",
    "\n",
    "importlib.reload(umap_run)\n",
    "importlib.reload(clustering_evaluation)\n",
    "importlib.reload(umap_regression)\n",
    "importlib.reload(processing_flat)\n",
    "importlib.reload(umap_clustering)  # ricarica per ultimo: dipende da umap_run\n",
    "\n",
    "from data_processing.umap_regression import main_regression\n",
    "from data_processing.umap_clustering import main_clustering, run_clustering\n",
    "from data_processing.processing_flat import main_processing_flat\n",
    "from data_processing.clustering_evaluation import evaluate_kmeans, evaluate_gmm, evaluate_hdbscan, evaluate_consensus\n",
    "from data_processing.umap_run import x_features_return, run_umap\n"
   ],
   "id": "de655afea9f9ec59",
   "outputs": [],
   "execution_count": 4
  },
  {
   "metadata": {
    "ExecuteTime": {
     "end_time": "2025-06-04T11:13:18.122197Z",
     "start_time": "2025-06-04T11:13:18.095874Z"
    }
   },
   "cell_type": "code",
   "source": [
    "%load_ext autoreload\n",
    "%autoreload 2"
   ],
   "id": "91c48527f521e592",
   "outputs": [],
   "execution_count": 5
  },
  {
   "metadata": {},
   "cell_type": "markdown",
   "source": "### Paths and folders",
   "id": "8b6fcec9b4b2fec2"
  },
  {
   "metadata": {
    "ExecuteTime": {
     "end_time": "2025-06-04T11:13:19.223459Z",
     "start_time": "2025-06-04T11:13:19.193265Z"
    }
   },
   "cell_type": "code",
   "source": [
    "# FC maps mean\n",
    "dir_FCmaps = '/Users/emmatosato/Documents/PhD/ANM_Verona/data/FCmaps'\n",
    "dir_FCmaps_processed = '/data/FCmaps_augmented_processed'\n",
    "dir_data_utils = \"/Users/emmatosato/Documents/PhD/ANM_Verona/data_utils/\"\n",
    "dir_dataframe = \"/data/dataframes\"\n",
    "gm_mask_path = '/Users/emmatosato/Documents/PhD/ANM_Verona/utils/masks/GM_mask.nii'\n",
    "harvard_oxford_mask_path = '/Users/emmatosato/Documents/PhD/ANM_Verona/utils/masks/mask_GM.nii'\n",
    "atrophy_dataset_matches = '/Users/emmatosato/Documents/PhD/ANM_Verona/utils/metadata/atrophy_matched.xlsx'\n",
    "cognitive_dataset ='/Users/emmatosato/Documents/PhD/ANM_Verona/utils/metadata/cognitive_dataset.xlsx'"
   ],
   "id": "bd346be385bf17d3",
   "outputs": [],
   "execution_count": 6
  },
  {
   "metadata": {},
   "cell_type": "markdown",
   "source": "# Data",
   "id": "7d9eb228ef387d93"
  },
  {
   "metadata": {
    "ExecuteTime": {
     "end_time": "2025-06-04T11:15:29.356446Z",
     "start_time": "2025-06-04T11:14:32.305021Z"
    }
   },
   "cell_type": "code",
   "source": [
    "df_thr02_gm_masked = pd.read_csv(os.path.join(dir_dataframe, \"df_thr02_gm_masked.csv\"))\n",
    "df_gm_masked = pd.read_csv(os.path.join(dir_dataframe, \"df_thr02_gm_masked.csv\"))\n",
    "df_meta = pd.read_csv(os.path.join(dir_dataframe, \"df_meta.csv\"))\n",
    "df_summary = pd.read_csv(os.path.join(dir_dataframe, \"df_summary.csv\"))"
   ],
   "id": "17845deb5fd61ee2",
   "outputs": [],
   "execution_count": 8
  },
  {
   "metadata": {},
   "cell_type": "markdown",
   "source": "# Network Analysis",
   "id": "2ff8cf439a2d7309"
  },
  {
   "metadata": {
    "ExecuteTime": {
     "end_time": "2025-06-03T15:30:58.539752Z",
     "start_time": "2025-06-03T15:30:58.509620Z"
    }
   },
   "cell_type": "code",
   "source": [
    "import pandas as pd\n",
    "import umap\n",
    "import matplotlib.pyplot as plt\n",
    "import seaborn as sns\n",
    "from sklearn.cluster import KMeans\n",
    "from sklearn.metrics import silhouette_score\n",
    "\n",
    "# Merge reti + metadati\n",
    "df_merged = pd.merge(df_networks_thr02, df_meta, on='ID', how='inner')\n",
    "\n",
    "# Colonne dei network\n",
    "network_features = ['VIS_mean', 'VAN_mean', 'DAN_mean', 'DMN_mean',\n",
    "                    'LMB_mean', 'FPN_mean', 'SMN_mean', 'SUBCORTICAL_mean']\n",
    "X_network = df_merged[network_features].values\n",
    "\n",
    "# UMAP projection\n",
    "reducer = umap.UMAP(n_neighbors=15, min_dist=0.1, random_state=42)\n",
    "X_umap = reducer.fit_transform(X_network)\n",
    "df_merged[['UMAP1', 'UMAP2']] = X_umap\n",
    "\n",
    "# KMeans clustering\n",
    "kmeans = KMeans(n_clusters=3, random_state=42)\n",
    "df_merged['Cluster'] = kmeans.fit_predict(X_network)\n",
    "sil_score = silhouette_score(X_network, df_merged['Cluster'])\n",
    "\n",
    "# Plot\n",
    "fig, axs = plt.subplots(1, 2, figsize=(14, 6), sharex=True, sharey=True)\n",
    "\n",
    "# Plot by Cluster\n",
    "sns.scatterplot(data=df_merged, x='UMAP1', y='UMAP2', hue='Cluster',\n",
    "                palette='tab10', ax=axs[0])\n",
    "axs[0].set_title(f\"KMeans Clusters (Silhouette: {sil_score:.2f})\")\n",
    "\n",
    "# Plot by Group\n",
    "sns.scatterplot(data=df_merged, x='UMAP1', y='UMAP2', hue='Group',\n",
    "                palette='Set2', ax=axs[1])\n",
    "axs[1].set_title(\"Diagnostic Groups\")\n",
    "\n",
    "for ax in axs:\n",
    "    ax.set_xlabel(\"UMAP 1\")\n",
    "    ax.set_ylabel(\"UMAP 2\")\n",
    "\n",
    "plt.tight_layout()\n",
    "plt.show()"
   ],
   "id": "71e106ae5cd3d846",
   "outputs": [
    {
     "name": "stdout",
     "output_type": "stream",
     "text": [
      "GMM_Label\n",
      "0    80\n",
      "1    76\n",
      "2    15\n",
      "Name: count, dtype: Int64\n"
     ]
    }
   ],
   "execution_count": 23
  },
  {
   "metadata": {},
   "cell_type": "code",
   "outputs": [],
   "execution_count": null,
   "source": [
    "import statsmodels.api as sm\n",
    "\n",
    "# Merge: reti + metadati\n",
    "df_merged = pd.merge(df_networks_thr02, df_meta, on='ID', how='inner')\n",
    "\n",
    "# Seleziona solo soggetti con CDR_SB valido\n",
    "df_mean_regression = df_merged[df_merged['CDR_SB'].notna()].copy()\n",
    "\n",
    "# Feature + confounders\n",
    "network_features = ['VIS_mean', 'VAN_mean', 'DAN_mean', 'DMN_mean', 'LMB_mean', 'FPN_mean', 'SMN_mean', 'SUBCORTICAL_mean']\n",
    "confounders = ['Age', 'Sex', 'Education']\n",
    "\n",
    "# Outcome variable\n",
    "y = df_mean_regression['CDR_SB']\n",
    "\n",
    "# Prepare design matrix X\n",
    "X = df_mean_regression[network_features + confounders].copy()\n",
    "\n",
    "# Convert categorical variables if needed\n",
    "X['Sex'] = X['Sex'].map({'M': 0, 'F': 1})  # Adjust mapping as needed\n",
    "\n",
    "# Add intercept\n",
    "X = sm.add_constant(X)\n",
    "\n",
    "# Fit the model\n",
    "model = sm.OLS(y, X)\n",
    "results = model.fit()\n",
    "\n",
    "# Print model summary\n",
    "print(results.summary())\n"
   ],
   "id": "ddf2bd3dc5073d24"
  },
  {
   "metadata": {},
   "cell_type": "markdown",
   "source": "# GMM Distributions",
   "id": "fe55243a36fd99bd"
  },
  {
   "metadata": {},
   "cell_type": "code",
   "outputs": [],
   "execution_count": null,
   "source": [
    "for gmmLabel in range(0,3):\n",
    "    mean_cdr = df_meta.loc[df_meta['GMM_Label'] == gmmLabel, 'CDR_SB'].mean()\n",
    "    print(f\"Media CDR_SB per gruppo {gmmLabel}: {mean_cdr:.3f}\")\n",
    "\n",
    "\n",
    "# Select the subjects ID with a particular GMM_Label\n",
    "gmm_ids = df_meta[df_meta['GMM_Label'] == 0]['ID']\n",
    "\n",
    "# Filter the dataset\n",
    "df_features = df_thr02_har_masked.copy()\n",
    "\n",
    "df_masked_gmm = df_features[df_features['ID'].isin(gmm_ids)].reset_index(drop=True)\n",
    "df_meta_gmm = df_meta[df_meta['ID'].isin(gmm_ids)].reset_index(drop=True)"
   ],
   "id": "f4cf3a833c7b2f08"
  }
 ],
 "metadata": {
  "kernelspec": {
   "display_name": "Python 3",
   "language": "python",
   "name": "python3"
  },
  "language_info": {
   "codemirror_mode": {
    "name": "ipython",
    "version": 2
   },
   "file_extension": ".py",
   "mimetype": "text/x-python",
   "name": "python",
   "nbconvert_exporter": "python",
   "pygments_lexer": "ipython2",
   "version": "2.7.6"
  }
 },
 "nbformat": 4,
 "nbformat_minor": 5
}
