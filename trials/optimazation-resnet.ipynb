{
 "cells": [
  {
   "cell_type": "markdown",
   "id": "d2c12a0e",
   "metadata": {
    "_cell_guid": "64f40b31-4a3d-4124-9990-838b99b4a7ed",
    "_uuid": "592f4a32-17f2-49ad-87c9-3adb5c0d8e1a",
    "collapsed": false,
    "id": "fzCQtgq1irG0",
    "jupyter": {
     "outputs_hidden": false
    },
    "papermill": {
     "duration": 0.006482,
     "end_time": "2025-05-07T13:38:24.672513",
     "exception": false,
     "start_time": "2025-05-07T13:38:24.666031",
     "status": "completed"
    },
    "tags": []
   },
   "source": [
    "# Utils"
   ]
  },
  {
   "cell_type": "code",
   "execution_count": 1,
   "id": "12b2e4d8",
   "metadata": {
    "_cell_guid": "104f6c9f-678f-4843-ac31-1580e02d2214",
    "_uuid": "439b50e2-5a53-410d-ac9e-22393bf2dff0",
    "collapsed": false,
    "execution": {
     "iopub.execute_input": "2025-05-07T13:38:24.684893Z",
     "iopub.status.busy": "2025-05-07T13:38:24.684650Z",
     "iopub.status.idle": "2025-05-07T13:38:33.004561Z",
     "shell.execute_reply": "2025-05-07T13:38:33.003760Z"
    },
    "id": "-uDnJCodirG0",
    "jupyter": {
     "outputs_hidden": false
    },
    "papermill": {
     "duration": 8.327634,
     "end_time": "2025-05-07T13:38:33.006032",
     "exception": false,
     "start_time": "2025-05-07T13:38:24.678398",
     "status": "completed"
    },
    "tags": []
   },
   "outputs": [],
   "source": [
    "import os\n",
    "import numpy as np\n",
    "import pandas as pd\n",
    "import nibabel as nib\n",
    "from tqdm import tqdm\n",
    "from itertools import product\n",
    "import random\n",
    "\n",
    "import torch\n",
    "import torch.nn as nn\n",
    "import torch.optim as optim\n",
    "from torch.utils.data import Dataset, DataLoader\n",
    "\n",
    "from sklearn.model_selection import train_test_split\n",
    "from sklearn.metrics import accuracy_score, classification_report, confusion_matrix, mean_squared_error, r2_score\n",
    "from sklearn.metrics import precision_recall_curve, roc_curve, auc\n",
    "from sklearn.preprocessing import label_binarize\n",
    "from sklearn.model_selection import StratifiedKFold\n",
    "\n",
    "import matplotlib.pyplot as plt\n",
    "import seaborn as sns"
   ]
  },
  {
   "cell_type": "code",
   "execution_count": 2,
   "id": "8435f1d3",
   "metadata": {
    "execution": {
     "iopub.execute_input": "2025-05-07T13:38:33.018513Z",
     "iopub.status.busy": "2025-05-07T13:38:33.018119Z",
     "iopub.status.idle": "2025-05-07T13:38:33.071977Z",
     "shell.execute_reply": "2025-05-07T13:38:33.071461Z"
    },
    "papermill": {
     "duration": 0.061195,
     "end_time": "2025-05-07T13:38:33.073242",
     "exception": false,
     "start_time": "2025-05-07T13:38:33.012047",
     "status": "completed"
    },
    "tags": []
   },
   "outputs": [],
   "source": [
    "# Reproducibility\n",
    "seed = 42\n",
    "random.seed(seed)\n",
    "np.random.seed(seed)\n",
    "torch.manual_seed(seed)\n",
    "if torch.cuda.is_available():\n",
    "    torch.cuda.manual_seed_all(seed)"
   ]
  },
  {
   "cell_type": "code",
   "execution_count": 3,
   "id": "0d5500c3",
   "metadata": {
    "_cell_guid": "e835016f-6aa1-4e5b-be7f-6abc2b6dfa01",
    "_uuid": "9449a8db-ca67-44bf-81ab-daf8c3c829e2",
    "collapsed": false,
    "execution": {
     "iopub.execute_input": "2025-05-07T13:38:33.085111Z",
     "iopub.status.busy": "2025-05-07T13:38:33.084907Z",
     "iopub.status.idle": "2025-05-07T13:38:33.122162Z",
     "shell.execute_reply": "2025-05-07T13:38:33.121473Z"
    },
    "id": "0k3R9wfWirG0",
    "jupyter": {
     "outputs_hidden": false
    },
    "papermill": {
     "duration": 0.044519,
     "end_time": "2025-05-07T13:38:33.123383",
     "exception": false,
     "start_time": "2025-05-07T13:38:33.078864",
     "status": "completed"
    },
    "tags": []
   },
   "outputs": [],
   "source": [
    "# Paths\n",
    "path_labels = '/kaggle/input/fcmaps-metadata/labels.csv'\n",
    "path_fcmaps = '/kaggle/input/fcmaps-processed'\n",
    "path_fcmaps_augmented = '/kaggle/input/fcmaps-augmented-processed/FCmaps_augmented_processed'\n",
    "\n",
    "# Load labels\n",
    "df_labels = pd.read_csv(path_labels)\n",
    "\n",
    "# Temporary:\n",
    "to_exclude = ['3_S_5003', '4_S_5003', '4_S_5005', '4_S_5007', '4_S_5008']\n",
    "df_labels = df_labels[~df_labels['ID'].isin(to_exclude)].reset_index(drop=True)"
   ]
  },
  {
   "cell_type": "code",
   "execution_count": 4,
   "id": "eb3a17c5",
   "metadata": {
    "_cell_guid": "5ed5c3cc-deae-472d-9f40-1a79ea421177",
    "_uuid": "e9e7f93a-a926-4f43-a971-6956d9f28588",
    "collapsed": false,
    "execution": {
     "iopub.execute_input": "2025-05-07T13:38:33.134966Z",
     "iopub.status.busy": "2025-05-07T13:38:33.134529Z",
     "iopub.status.idle": "2025-05-07T13:38:33.138699Z",
     "shell.execute_reply": "2025-05-07T13:38:33.138137Z"
    },
    "id": "K21bU-sDirG1",
    "jupyter": {
     "outputs_hidden": false
    },
    "papermill": {
     "duration": 0.011107,
     "end_time": "2025-05-07T13:38:33.139826",
     "exception": false,
     "start_time": "2025-05-07T13:38:33.128719",
     "status": "completed"
    },
    "tags": []
   },
   "outputs": [],
   "source": [
    "# Parameters\n",
    "batch_size = 4\n",
    "epochs = 10\n",
    "lr = 1e-3\n",
    "device = torch.device(\"cuda\" if torch.cuda.is_available() else \"cpu\")\n",
    "task = 'classification'               # or 'regression'\n",
    "n_folds = 10\n",
    "\n",
    "if task == 'classification':\n",
    "    criterion = nn.CrossEntropyLoss()\n",
    "    n_classes = 2\n",
    "    label_column = 'Group'\n",
    "else:\n",
    "    criterion = nn.MSELoss()\n",
    "    n_classes = 1\n",
    "    #label_column = 'Age'"
   ]
  },
  {
   "cell_type": "markdown",
   "id": "af08e529",
   "metadata": {
    "_cell_guid": "b3be6de3-dbf8-4710-baaa-9e062e4a1f93",
    "_uuid": "eb5eb267-5844-4eab-96af-d2686b737974",
    "collapsed": false,
    "id": "MYVSqOGpirG1",
    "jupyter": {
     "outputs_hidden": false
    },
    "papermill": {
     "duration": 0.005154,
     "end_time": "2025-05-07T13:38:33.150540",
     "exception": false,
     "start_time": "2025-05-07T13:38:33.145386",
     "status": "completed"
    },
    "tags": []
   },
   "source": [
    "# Dataset"
   ]
  },
  {
   "cell_type": "code",
   "execution_count": 5,
   "id": "16685136",
   "metadata": {
    "_cell_guid": "be210c49-cd3b-461a-8c22-8031b4af6f3a",
    "_uuid": "0bf3cc44-798d-40d6-9460-db57fa57f473",
    "collapsed": false,
    "execution": {
     "iopub.execute_input": "2025-05-07T13:38:33.161933Z",
     "iopub.status.busy": "2025-05-07T13:38:33.161746Z",
     "iopub.status.idle": "2025-05-07T13:38:33.170109Z",
     "shell.execute_reply": "2025-05-07T13:38:33.169632Z"
    },
    "id": "Qr-DinzRirG1",
    "jupyter": {
     "outputs_hidden": false
    },
    "papermill": {
     "duration": 0.015367,
     "end_time": "2025-05-07T13:38:33.171046",
     "exception": false,
     "start_time": "2025-05-07T13:38:33.155679",
     "status": "completed"
    },
    "tags": []
   },
   "outputs": [],
   "source": [
    "class FCDataset(Dataset):\n",
    "    def __init__(self, data_dir, df_labels, label_column, task, transform=None):\n",
    "        self.data_dir = data_dir\n",
    "        self.df_labels = df_labels.reset_index(drop=True)\n",
    "        self.label_column = label_column\n",
    "        self.task = task\n",
    "        self.transform = transform\n",
    "\n",
    "        # Dictionary for mapping strings to indices if labels are not numbers\n",
    "        if not pd.api.types.is_numeric_dtype(self.df_labels[self.label_column]):\n",
    "            unique_labels = sorted(self.df_labels[self.label_column].unique())\n",
    "            self.label_mapping = {label: i for i, label in enumerate(unique_labels)}\n",
    "        else:\n",
    "            self.label_mapping = None\n",
    "\n",
    "        self.samples = []\n",
    "\n",
    "        # Loop over each row of the dataframe\n",
    "        for _, row in self.df_labels.iterrows():\n",
    "            subj_id = row['ID']\n",
    "\n",
    "            if self.task == 'classification':\n",
    "                # Classification: map the labels\n",
    "                label = self.label_mapping[row[self.label_column]]\n",
    "\n",
    "            else:\n",
    "                # Regression: convert to float\n",
    "                label = float(row[self.label_column])\n",
    "\n",
    "            # Reconstruct the file paths\n",
    "            file_path = os.path.join(data_dir, f\"{subj_id}.processed.npy\")\n",
    "            if os.path.exists(file_path):\n",
    "                self.samples.append((file_path, label))\n",
    "            else:\n",
    "                print(f\"Missing file: {file_path}\")\n",
    "\n",
    "    def __len__(self):\n",
    "        return len(self.samples)\n",
    "\n",
    "    def __getitem__(self, idx):\n",
    "        file_path, label = self.samples[idx]\n",
    "\n",
    "        # Load and reshape the volume: (1, 91, 109, 91)\n",
    "        volume = np.load(file_path)\n",
    "        volume = np.expand_dims(volume, axis=0)\n",
    "\n",
    "        # Covert volume into a tensor\n",
    "        x = torch.tensor(volume, dtype=torch.float32)\n",
    "\n",
    "        # Convert the label into a tensor\n",
    "        if self.task == 'classification':\n",
    "            y = torch.tensor(label, dtype=torch.long)\n",
    "        else:\n",
    "            y = torch.tensor(label, dtype=torch.float32)\n",
    "\n",
    "        if self.transform:\n",
    "            x = self.transform(x)\n",
    "\n",
    "        return x, y"
   ]
  },
  {
   "cell_type": "code",
   "execution_count": 6,
   "id": "2861848f",
   "metadata": {
    "_cell_guid": "d9272939-f4ce-474c-9563-d26e1a75cc23",
    "_uuid": "7d701db4-1a7e-4c16-8d45-246860d8a274",
    "collapsed": false,
    "execution": {
     "iopub.execute_input": "2025-05-07T13:38:33.182459Z",
     "iopub.status.busy": "2025-05-07T13:38:33.182243Z",
     "iopub.status.idle": "2025-05-07T13:38:33.189339Z",
     "shell.execute_reply": "2025-05-07T13:38:33.188849Z"
    },
    "id": "nV-8LVftirG1",
    "jupyter": {
     "outputs_hidden": false
    },
    "papermill": {
     "duration": 0.014144,
     "end_time": "2025-05-07T13:38:33.190453",
     "exception": false,
     "start_time": "2025-05-07T13:38:33.176309",
     "status": "completed"
    },
    "tags": []
   },
   "outputs": [],
   "source": [
    "class AugmentedFCDataset(Dataset):\n",
    "    def __init__(self, data_dir, df_labels, label_column, task, transform=None):\n",
    "\n",
    "        self.data_dir = data_dir\n",
    "        self.df_labels = df_labels.reset_index(drop=True)\n",
    "        self.label_column = label_column\n",
    "        self.task = task\n",
    "        self.transform = transform\n",
    "\n",
    "        # Mapping\n",
    "        if not pd.api.types.is_numeric_dtype(self.df_labels[self.label_column]):\n",
    "            unique_labels = sorted(self.df_labels[self.label_column].unique())\n",
    "            self.label_mapping = {label: i for i, label in enumerate(unique_labels)}\n",
    "        else:\n",
    "            self.label_mapping = None\n",
    "\n",
    "        self.samples = []\n",
    "\n",
    "        for _, row in self.df_labels.iterrows():\n",
    "            subj_id = row['ID']\n",
    "\n",
    "            if self.task == 'classification':\n",
    "                label = self.label_mapping[row[self.label_column]]\n",
    "            else:\n",
    "                label = float(row[self.label_column])\n",
    "\n",
    "            # Loop over each subject folder and list each augmentation\n",
    "            subject_folder = os.path.join(data_dir, subj_id)\n",
    "            if os.path.isdir(subject_folder):\n",
    "                for file in os.listdir(subject_folder):\n",
    "                    if file.endswith('.npy'):\n",
    "                        file_path = os.path.join(subject_folder, file)\n",
    "                        self.samples.append((file_path, label))\n",
    "            else:\n",
    "                print(f\"Warning: missing augmented folder for subject {subj_id}\")\n",
    "\n",
    "    def __len__(self):\n",
    "        return len(self.samples)\n",
    "\n",
    "    def __getitem__(self, idx):\n",
    "        file_path, label = self.samples[idx]\n",
    "\n",
    "        # Load and reshape the volume: (1, 91, 109, 91)\n",
    "        volume = np.load(file_path)\n",
    "        volume = np.expand_dims(volume, axis=0)\n",
    "\n",
    "        x = torch.tensor(volume, dtype=torch.float32)\n",
    "\n",
    "        if self.task == 'classification':\n",
    "            y = torch.tensor(label, dtype=torch.long)\n",
    "        else:\n",
    "            y = torch.tensor(label, dtype=torch.float32)\n",
    "\n",
    "        if self.transform:\n",
    "            x = self.transform(x)\n",
    "\n",
    "        return x, y"
   ]
  },
  {
   "cell_type": "markdown",
   "id": "15592b5b",
   "metadata": {
    "_cell_guid": "20660409-9a11-46cb-a5ae-46b59ecc9b26",
    "_uuid": "fedaa9f8-d1d6-4d78-943a-078ddb5aa065",
    "collapsed": false,
    "id": "stQOq62eirG2",
    "jupyter": {
     "outputs_hidden": false
    },
    "papermill": {
     "duration": 0.005001,
     "end_time": "2025-05-07T13:38:33.200650",
     "exception": false,
     "start_time": "2025-05-07T13:38:33.195649",
     "status": "completed"
    },
    "tags": []
   },
   "source": [
    "# CNN Models"
   ]
  },
  {
   "cell_type": "markdown",
   "id": "a2f1904e",
   "metadata": {
    "_cell_guid": "6ff79344-c42e-4bd3-bb50-44a694dd8d20",
    "_uuid": "d3c86c54-9e2f-47c1-9e94-f2c9c103ab79",
    "collapsed": false,
    "id": "VU6dccdairG2",
    "jupyter": {
     "outputs_hidden": false
    },
    "papermill": {
     "duration": 0.005027,
     "end_time": "2025-05-07T13:38:33.210791",
     "exception": false,
     "start_time": "2025-05-07T13:38:33.205764",
     "status": "completed"
    },
    "tags": []
   },
   "source": [
    "## Network"
   ]
  },
  {
   "cell_type": "code",
   "execution_count": 7,
   "id": "b638d766",
   "metadata": {
    "_cell_guid": "d091136c-9f53-4bb5-99d8-2e3e13f710a7",
    "_uuid": "aeca2007-4b9d-49b6-8a5d-d7b564592a22",
    "collapsed": false,
    "execution": {
     "iopub.execute_input": "2025-05-07T13:38:33.221932Z",
     "iopub.status.busy": "2025-05-07T13:38:33.221758Z",
     "iopub.status.idle": "2025-05-07T13:38:38.362521Z",
     "shell.execute_reply": "2025-05-07T13:38:38.361724Z"
    },
    "id": "W-ZJzNPHirG2",
    "jupyter": {
     "outputs_hidden": false
    },
    "papermill": {
     "duration": 5.147913,
     "end_time": "2025-05-07T13:38:38.363958",
     "exception": false,
     "start_time": "2025-05-07T13:38:33.216045",
     "status": "completed"
    },
    "tags": []
   },
   "outputs": [],
   "source": [
    "from torchvision.models.video import r3d_18\n",
    "\n",
    "class SimpleCNN3D(nn.Module):\n",
    "    def __init__(self, n_classes):\n",
    "        super(SimpleCNN3D, self).__init__()\n",
    "        self.conv1 = nn.Conv3d(1, 16, kernel_size=3, padding=1)\n",
    "        self.bn1 = nn.BatchNorm3d(16)\n",
    "        self.pool1 = nn.MaxPool3d(2)\n",
    "\n",
    "        self.conv2 = nn.Conv3d(16, 32, kernel_size=3, padding=1)\n",
    "        self.bn2 = nn.BatchNorm3d(32)\n",
    "        self.pool2 = nn.MaxPool3d(2)\n",
    "\n",
    "        self.conv3 = nn.Conv3d(32, 64, kernel_size=3, padding=1)\n",
    "        self.bn3 = nn.BatchNorm3d(64)\n",
    "        self.pool3 = nn.AdaptiveAvgPool3d(1)\n",
    "\n",
    "        self.dropout = nn.Dropout(p=0.4)\n",
    "        self.fc = nn.Linear(64, n_classes)\n",
    "\n",
    "    def forward(self, x):\n",
    "        x = self.pool1(torch.relu(self.bn1(self.conv1(x))))\n",
    "        x = self.pool2(torch.relu(self.bn2(self.conv2(x))))\n",
    "        x = self.pool3(torch.relu(self.bn3(self.conv3(x))))\n",
    "        x = x.view(x.size(0), -1)\n",
    "        x = self.dropout(x)\n",
    "        return self.fc(x)\n",
    "\n",
    "\n",
    "class ResNet3D(nn.Module):\n",
    "    def __init__(self, n_classes):\n",
    "        super(ResNet3D, self).__init__()\n",
    "        self.model = r3d_18(pretrained=False)\n",
    "        self.model.stem[0] = nn.Conv3d(1, 64, kernel_size=(3,7,7), stride=(1,2,2), padding=(1,3,3), bias=False)\n",
    "        self.model.fc = nn.Linear(self.model.fc.in_features, n_classes)\n",
    "\n",
    "    def forward(self, x):\n",
    "        return self.model(x)"
   ]
  },
  {
   "cell_type": "markdown",
   "id": "3b3ae612",
   "metadata": {
    "_cell_guid": "9bc19405-a6bd-4812-8f6f-fb0d7d0595f1",
    "_uuid": "9e69f3e6-e486-42cd-8c6f-a278e68b46ca",
    "collapsed": false,
    "id": "SyVZxdUMirG2",
    "jupyter": {
     "outputs_hidden": false
    },
    "papermill": {
     "duration": 0.005951,
     "end_time": "2025-05-07T13:38:38.375666",
     "exception": false,
     "start_time": "2025-05-07T13:38:38.369715",
     "status": "completed"
    },
    "tags": []
   },
   "source": [
    "## Training, Validation and Testing loops"
   ]
  },
  {
   "cell_type": "code",
   "execution_count": 8,
   "id": "d2706e30",
   "metadata": {
    "_cell_guid": "51f826a0-0e14-4316-bfa1-35e8ea6549f9",
    "_uuid": "6e33cbec-1df0-4f3e-90e8-252b7624b69b",
    "collapsed": false,
    "execution": {
     "iopub.execute_input": "2025-05-07T13:38:38.387359Z",
     "iopub.status.busy": "2025-05-07T13:38:38.386957Z",
     "iopub.status.idle": "2025-05-07T13:38:38.391519Z",
     "shell.execute_reply": "2025-05-07T13:38:38.391024Z"
    },
    "id": "C0tCo2NjirG2",
    "jupyter": {
     "outputs_hidden": false
    },
    "papermill": {
     "duration": 0.011572,
     "end_time": "2025-05-07T13:38:38.392589",
     "exception": false,
     "start_time": "2025-05-07T13:38:38.381017",
     "status": "completed"
    },
    "tags": []
   },
   "outputs": [],
   "source": [
    "def train(train_loader, model, criterion, optimizer, device):\n",
    "    # Enable training mode (dropout, batchnorm updates)\n",
    "    model.train()\n",
    "    running_loss = 0.0\n",
    "\n",
    "    for x_batch, y_batch in train_loader:\n",
    "        x_batch, y_batch = x_batch.to(device), y_batch.to(device)\n",
    "\n",
    "        # Reset gradients\n",
    "        optimizer.zero_grad()\n",
    "\n",
    "        # Forward pass\n",
    "        outputs = model(x_batch)\n",
    "\n",
    "        # Compute loss\n",
    "        loss = criterion(outputs, y_batch)\n",
    "\n",
    "        # Backpropagation\n",
    "        loss.backward()\n",
    "\n",
    "        # Update weights\n",
    "        optimizer.step()\n",
    "\n",
    "        running_loss += loss.item() * x_batch.size(0)\n",
    "\n",
    "    train_loss = running_loss / len(train_loader.dataset)\n",
    "    return train_loss"
   ]
  },
  {
   "cell_type": "code",
   "execution_count": 9,
   "id": "626643e4",
   "metadata": {
    "_cell_guid": "bee15ed4-c57a-4a52-bf49-05ddcff3c105",
    "_uuid": "448397aa-f4e0-4d47-91a9-880c2bffac1f",
    "collapsed": false,
    "execution": {
     "iopub.execute_input": "2025-05-07T13:38:38.403811Z",
     "iopub.status.busy": "2025-05-07T13:38:38.403610Z",
     "iopub.status.idle": "2025-05-07T13:38:38.407976Z",
     "shell.execute_reply": "2025-05-07T13:38:38.407457Z"
    },
    "id": "sxMlZJOJirG2",
    "jupyter": {
     "outputs_hidden": false
    },
    "papermill": {
     "duration": 0.011162,
     "end_time": "2025-05-07T13:38:38.408935",
     "exception": false,
     "start_time": "2025-05-07T13:38:38.397773",
     "status": "completed"
    },
    "tags": []
   },
   "outputs": [],
   "source": [
    "def validate(val_loader, model, criterion, device, task):\n",
    "    model.eval()\n",
    "    running_loss = 0.0\n",
    "    correct = 0\n",
    "\n",
    "    with torch.no_grad():\n",
    "        for x_val, y_val in val_loader:\n",
    "            x_val, y_val = x_val.to(device), y_val.to(device)\n",
    "            outputs = model(x_val)\n",
    "            loss = criterion(outputs, y_val)\n",
    "            running_loss += loss.item() * x_val.size(0)\n",
    "\n",
    "            _, predicted = torch.max(outputs, 1)\n",
    "            correct += (predicted == y_val).sum().item()\n",
    "\n",
    "    val_loss = running_loss / len(val_loader.dataset)\n",
    "    val_accuracy = correct / len(val_loader.dataset)\n",
    "    return val_loss, val_accuracy"
   ]
  },
  {
   "cell_type": "code",
   "execution_count": 10,
   "id": "0b6abe02",
   "metadata": {
    "_cell_guid": "45f4544f-3d3b-4cd5-bac6-0008026e07c8",
    "_uuid": "572ab7bc-8bbb-4e80-8269-855f300d1c35",
    "collapsed": false,
    "execution": {
     "iopub.execute_input": "2025-05-07T13:38:38.420350Z",
     "iopub.status.busy": "2025-05-07T13:38:38.420148Z",
     "iopub.status.idle": "2025-05-07T13:38:38.424782Z",
     "shell.execute_reply": "2025-05-07T13:38:38.424126Z"
    },
    "id": "u-ApCibyirG2",
    "jupyter": {
     "outputs_hidden": false
    },
    "papermill": {
     "duration": 0.011719,
     "end_time": "2025-05-07T13:38:38.425872",
     "exception": false,
     "start_time": "2025-05-07T13:38:38.414153",
     "status": "completed"
    },
    "tags": []
   },
   "outputs": [],
   "source": [
    "def evaluate(model, loader, task, device):\n",
    "    model.eval()\n",
    "    true_labels, pred_labels = [], []\n",
    "\n",
    "    # Disable gradient computation\n",
    "    with torch.no_grad():\n",
    "        for x, y in loader:\n",
    "            x, y = x.to(device), y.to(device)\n",
    "            outputs = model(x)\n",
    "\n",
    "            # Convert output to prediction\n",
    "            if task == 'classification':\n",
    "                preds = torch.argmax(outputs, dim=1)\n",
    "            else:\n",
    "                preds = outputs.squeeze()\n",
    "\n",
    "            # Store true and predicted values\n",
    "            true_labels.extend(y.cpu().numpy())\n",
    "            pred_labels.extend(preds.cpu().numpy())\n",
    "\n",
    "    return np.array(true_labels), np.array(pred_labels)"
   ]
  },
  {
   "cell_type": "markdown",
   "id": "495f52aa",
   "metadata": {
    "_cell_guid": "a92ab0e0-0ef0-4cb1-8ed7-096954c390ea",
    "_uuid": "0e46f20c-0b15-4b80-b456-8bd3b3c0e392",
    "collapsed": false,
    "id": "EIqHbsWuirG2",
    "jupyter": {
     "outputs_hidden": false
    },
    "papermill": {
     "duration": 0.005124,
     "end_time": "2025-05-07T13:38:38.436099",
     "exception": false,
     "start_time": "2025-05-07T13:38:38.430975",
     "status": "completed"
    },
    "tags": []
   },
   "source": [
    "# Data"
   ]
  },
  {
   "cell_type": "markdown",
   "id": "c345656c",
   "metadata": {
    "_cell_guid": "b91217ef-16ed-4928-8754-b02f3a215af2",
    "_uuid": "0a664b2f-2a4d-4aac-873d-add166c67311",
    "collapsed": false,
    "id": "1btK54ZvirG2",
    "jupyter": {
     "outputs_hidden": false
    },
    "papermill": {
     "duration": 0.005081,
     "end_time": "2025-05-07T13:38:38.446390",
     "exception": false,
     "start_time": "2025-05-07T13:38:38.441309",
     "status": "completed"
    },
    "tags": []
   },
   "source": [
    "Load some files for example"
   ]
  },
  {
   "cell_type": "code",
   "execution_count": 11,
   "id": "492481ac",
   "metadata": {
    "_cell_guid": "abbec8d4-d797-4d12-981c-a1608d197d19",
    "_uuid": "95ad1144-9ddc-49de-a2f1-02701e70a530",
    "collapsed": false,
    "execution": {
     "iopub.execute_input": "2025-05-07T13:38:38.457530Z",
     "iopub.status.busy": "2025-05-07T13:38:38.457307Z",
     "iopub.status.idle": "2025-05-07T13:38:38.485000Z",
     "shell.execute_reply": "2025-05-07T13:38:38.484285Z"
    },
    "id": "gmXD_SHCirG2",
    "jupyter": {
     "outputs_hidden": false
    },
    "outputId": "4d8a2b00-af80-463d-bc15-3dd47152bb8f",
    "papermill": {
     "duration": 0.03444,
     "end_time": "2025-05-07T13:38:38.486025",
     "exception": false,
     "start_time": "2025-05-07T13:38:38.451585",
     "status": "completed"
    },
    "tags": []
   },
   "outputs": [
    {
     "name": "stdout",
     "output_type": "stream",
     "text": [
      "(91, 109, 91)\n",
      "float32\n"
     ]
    }
   ],
   "source": [
    "img3D = np.load('/kaggle/input/fcmaps-processed/002_S_4654.processed.npy')\n",
    "\n",
    "print(img3D.shape)\n",
    "print(img3D.dtype)"
   ]
  },
  {
   "cell_type": "markdown",
   "id": "cea8b2cf",
   "metadata": {
    "_cell_guid": "8c7c5c2b-2e85-4871-93c9-72f19bbe09a0",
    "_uuid": "19f186e1-56b1-4fdc-8b0c-03a128a647e3",
    "collapsed": false,
    "id": "R66gRFy1irG3",
    "jupyter": {
     "outputs_hidden": false
    },
    "papermill": {
     "duration": 0.00522,
     "end_time": "2025-05-07T13:38:38.496714",
     "exception": false,
     "start_time": "2025-05-07T13:38:38.491494",
     "status": "completed"
    },
    "tags": []
   },
   "source": [
    "## Pairwise classification"
   ]
  },
  {
   "cell_type": "markdown",
   "id": "b2a0a543",
   "metadata": {
    "_cell_guid": "6b8f5d3f-0cd2-4449-a423-891568861207",
    "_uuid": "d823d078-8bfe-4d7d-b9c0-1b6091ab59a1",
    "collapsed": false,
    "id": "i5shodEpirG3",
    "jupyter": {
     "outputs_hidden": false
    },
    "papermill": {
     "duration": 0.005052,
     "end_time": "2025-05-07T13:38:38.506999",
     "exception": false,
     "start_time": "2025-05-07T13:38:38.501947",
     "status": "completed"
    },
    "tags": []
   },
   "source": [
    "- ADNI + CBS = 116\n",
    "- CBS + PSP = 105\n",
    "- ADNI + PSP = 133"
   ]
  },
  {
   "cell_type": "code",
   "execution_count": 12,
   "id": "8cd5463f",
   "metadata": {
    "_cell_guid": "df5cc8b2-ff4c-4f9f-9750-35029adf95c1",
    "_uuid": "c7d49815-aead-48f7-8cbc-ba63df41112c",
    "collapsed": false,
    "execution": {
     "iopub.execute_input": "2025-05-07T13:38:38.518155Z",
     "iopub.status.busy": "2025-05-07T13:38:38.517953Z",
     "iopub.status.idle": "2025-05-07T13:38:38.522288Z",
     "shell.execute_reply": "2025-05-07T13:38:38.521791Z"
    },
    "id": "-ky088KlirG3",
    "jupyter": {
     "outputs_hidden": false
    },
    "papermill": {
     "duration": 0.011051,
     "end_time": "2025-05-07T13:38:38.523226",
     "exception": false,
     "start_time": "2025-05-07T13:38:38.512175",
     "status": "completed"
    },
    "tags": []
   },
   "outputs": [],
   "source": [
    "group1 = 'ADNI'\n",
    "group2 = 'PSP'\n",
    "\n",
    "df_pair = df_labels[df_labels['Group'].isin([group1, group2])].reset_index(drop=True)"
   ]
  },
  {
   "cell_type": "code",
   "execution_count": 13,
   "id": "a05c5783",
   "metadata": {
    "_cell_guid": "6f98a6bf-3620-4318-b92f-e36b5865d5d4",
    "_uuid": "c84aa5b2-86e9-4445-b1b7-f9966e9e9313",
    "collapsed": false,
    "execution": {
     "iopub.execute_input": "2025-05-07T13:38:38.534701Z",
     "iopub.status.busy": "2025-05-07T13:38:38.534506Z",
     "iopub.status.idle": "2025-05-07T13:38:38.539057Z",
     "shell.execute_reply": "2025-05-07T13:38:38.538562Z"
    },
    "id": "IBNJdkuEirG3",
    "jupyter": {
     "outputs_hidden": false
    },
    "outputId": "582efe12-011e-4be5-ba96-c848c38513ad",
    "papermill": {
     "duration": 0.011486,
     "end_time": "2025-05-07T13:38:38.539995",
     "exception": false,
     "start_time": "2025-05-07T13:38:38.528509",
     "status": "completed"
    },
    "tags": []
   },
   "outputs": [
    {
     "data": {
      "text/plain": [
       "(129, 5)"
      ]
     },
     "execution_count": 13,
     "metadata": {},
     "output_type": "execute_result"
    }
   ],
   "source": [
    "df_pair.shape"
   ]
  },
  {
   "cell_type": "markdown",
   "id": "26135ff2",
   "metadata": {
    "_cell_guid": "15e8f8af-fbe7-47ea-9abc-67a6d816f8c6",
    "_uuid": "97bbac7c-1d75-4cfe-9da0-26f932860a07",
    "collapsed": false,
    "id": "VkCAW4ueirG3",
    "jupyter": {
     "outputs_hidden": false
    },
    "papermill": {
     "duration": 0.005234,
     "end_time": "2025-05-07T13:38:38.550558",
     "exception": false,
     "start_time": "2025-05-07T13:38:38.545324",
     "status": "completed"
    },
    "tags": []
   },
   "source": [
    "## Splitting"
   ]
  },
  {
   "cell_type": "code",
   "execution_count": 14,
   "id": "5e43bc5e",
   "metadata": {
    "_cell_guid": "20f37934-02e0-465d-9fb8-52393073b538",
    "_uuid": "7f39e1a6-146f-4cb9-b5f3-cc0fdc6f6c6c",
    "collapsed": false,
    "execution": {
     "iopub.execute_input": "2025-05-07T13:38:38.562026Z",
     "iopub.status.busy": "2025-05-07T13:38:38.561579Z",
     "iopub.status.idle": "2025-05-07T13:38:38.567976Z",
     "shell.execute_reply": "2025-05-07T13:38:38.567481Z"
    },
    "id": "DBYxyKGairG3",
    "jupyter": {
     "outputs_hidden": false
    },
    "papermill": {
     "duration": 0.013239,
     "end_time": "2025-05-07T13:38:38.568984",
     "exception": false,
     "start_time": "2025-05-07T13:38:38.555745",
     "status": "completed"
    },
    "tags": []
   },
   "outputs": [],
   "source": [
    "train_df, test_df = train_test_split(\n",
    "    df_pair,\n",
    "    test_size=0.2,\n",
    "    stratify=df_pair['Group'],\n",
    "    random_state=42\n",
    ")"
   ]
  },
  {
   "cell_type": "markdown",
   "id": "09e7832f",
   "metadata": {
    "_cell_guid": "4ddb6954-4c67-4845-a213-9cab53432e7f",
    "_uuid": "1e957bcd-e605-4aad-9730-74fd033b0484",
    "collapsed": false,
    "id": "YSwmJhwvirG3",
    "jupyter": {
     "outputs_hidden": false
    },
    "papermill": {
     "duration": 0.005283,
     "end_time": "2025-05-07T13:38:38.579929",
     "exception": false,
     "start_time": "2025-05-07T13:38:38.574646",
     "status": "completed"
    },
    "tags": []
   },
   "source": [
    "Check the balance between groups"
   ]
  },
  {
   "cell_type": "code",
   "execution_count": 15,
   "id": "5bcdb497",
   "metadata": {
    "_cell_guid": "c4f31c35-469e-46b9-aaee-b92dbca5943f",
    "_uuid": "b541f02c-85de-4457-9aca-23554942c7b8",
    "collapsed": false,
    "execution": {
     "iopub.execute_input": "2025-05-07T13:38:38.591680Z",
     "iopub.status.busy": "2025-05-07T13:38:38.591097Z",
     "iopub.status.idle": "2025-05-07T13:38:38.597774Z",
     "shell.execute_reply": "2025-05-07T13:38:38.596969Z"
    },
    "id": "WQFjAdr8irG3",
    "jupyter": {
     "outputs_hidden": false
    },
    "outputId": "4fe199fb-0026-4c8e-d294-0e124ed5f4cb",
    "papermill": {
     "duration": 0.013771,
     "end_time": "2025-05-07T13:38:38.598935",
     "exception": false,
     "start_time": "2025-05-07T13:38:38.585164",
     "status": "completed"
    },
    "tags": []
   },
   "outputs": [
    {
     "name": "stdout",
     "output_type": "stream",
     "text": [
      "Group\n",
      "ADNI    57\n",
      "PSP     46\n",
      "Name: count, dtype: int64\n",
      "Group\n",
      "ADNI    15\n",
      "PSP     11\n",
      "Name: count, dtype: int64\n"
     ]
    }
   ],
   "source": [
    "print(train_df['Group'].value_counts())\n",
    "print(test_df['Group'].value_counts())"
   ]
  },
  {
   "cell_type": "markdown",
   "id": "65ad917d",
   "metadata": {
    "_cell_guid": "f3527af2-c54f-4852-aa43-fcd329fbbbed",
    "_uuid": "09a6a687-6a85-4df1-b823-09db8942368f",
    "collapsed": false,
    "id": "Zm7UgUWuirG3",
    "jupyter": {
     "outputs_hidden": false
    },
    "papermill": {
     "duration": 0.005207,
     "end_time": "2025-05-07T13:38:38.609940",
     "exception": false,
     "start_time": "2025-05-07T13:38:38.604733",
     "status": "completed"
    },
    "tags": []
   },
   "source": [
    "Example of augmentation"
   ]
  },
  {
   "cell_type": "code",
   "execution_count": 16,
   "id": "3e06e717",
   "metadata": {
    "_cell_guid": "c67ff5f6-6c30-4500-8969-573166609868",
    "_uuid": "24ad76c3-f52e-42f1-a279-cb8a7e22dcd1",
    "collapsed": false,
    "execution": {
     "iopub.execute_input": "2025-05-07T13:38:38.621323Z",
     "iopub.status.busy": "2025-05-07T13:38:38.621151Z",
     "iopub.status.idle": "2025-05-07T13:38:39.462143Z",
     "shell.execute_reply": "2025-05-07T13:38:39.461550Z"
    },
    "id": "XXuniARWirG3",
    "jupyter": {
     "outputs_hidden": false
    },
    "papermill": {
     "duration": 0.848242,
     "end_time": "2025-05-07T13:38:39.463508",
     "exception": false,
     "start_time": "2025-05-07T13:38:38.615266",
     "status": "completed"
    },
    "tags": []
   },
   "outputs": [],
   "source": [
    "train_dataset = AugmentedFCDataset(path_fcmaps_augmented, train_df, label_column, task)"
   ]
  },
  {
   "cell_type": "code",
   "execution_count": 17,
   "id": "f391d5c3",
   "metadata": {
    "_cell_guid": "734e98e8-4e26-4b76-9aea-86e52d20fb99",
    "_uuid": "a2557667-3961-4d5b-bac9-69c76f27ddeb",
    "collapsed": false,
    "execution": {
     "iopub.execute_input": "2025-05-07T13:38:39.475658Z",
     "iopub.status.busy": "2025-05-07T13:38:39.475231Z",
     "iopub.status.idle": "2025-05-07T13:38:39.479183Z",
     "shell.execute_reply": "2025-05-07T13:38:39.478479Z"
    },
    "id": "RCM3sUteirG3",
    "jupyter": {
     "outputs_hidden": false
    },
    "outputId": "524a2de7-8bda-4758-c4d1-70bd91fdb225",
    "papermill": {
     "duration": 0.011023,
     "end_time": "2025-05-07T13:38:39.480233",
     "exception": false,
     "start_time": "2025-05-07T13:38:39.469210",
     "status": "completed"
    },
    "tags": []
   },
   "outputs": [
    {
     "name": "stdout",
     "output_type": "stream",
     "text": [
      "Shape before augmentation:  (103, 5)\n",
      "Shape after augmentation:  1030\n"
     ]
    }
   ],
   "source": [
    "print(\"Shape before augmentation: \", train_df.shape )\n",
    "print(\"Shape after augmentation: \", len(train_dataset) )"
   ]
  },
  {
   "cell_type": "markdown",
   "id": "81d2f272",
   "metadata": {
    "_cell_guid": "d999ebea-aaab-4c19-a6d6-ba6396fcd356",
    "_uuid": "48d789e4-79e1-470d-ba2a-adc09007be7f",
    "collapsed": false,
    "id": "Z7HHhalAirG3",
    "jupyter": {
     "outputs_hidden": false
    },
    "papermill": {
     "duration": 0.064838,
     "end_time": "2025-05-07T13:38:39.550669",
     "exception": false,
     "start_time": "2025-05-07T13:38:39.485831",
     "status": "completed"
    },
    "tags": []
   },
   "source": [
    "# Training"
   ]
  },
  {
   "cell_type": "code",
   "execution_count": 18,
   "id": "23681fd4",
   "metadata": {
    "_cell_guid": "384282be-d56e-4694-b9fd-fe2ab0498131",
    "_uuid": "fd2c35e5-655c-4c0f-a7d7-8c3962ea99b6",
    "collapsed": false,
    "execution": {
     "iopub.execute_input": "2025-05-07T13:38:39.564141Z",
     "iopub.status.busy": "2025-05-07T13:38:39.563404Z",
     "iopub.status.idle": "2025-05-07T22:32:02.097664Z",
     "shell.execute_reply": "2025-05-07T22:32:02.096859Z"
    },
    "id": "Rrti106WirG3",
    "jupyter": {
     "outputs_hidden": false
    },
    "papermill": {
     "duration": 32002.554723,
     "end_time": "2025-05-07T22:32:02.111348",
     "exception": false,
     "start_time": "2025-05-07T13:38:39.556625",
     "status": "completed"
    },
    "tags": []
   },
   "outputs": [
    {
     "name": "stdout",
     "output_type": "stream",
     "text": [
      "\n",
      "Trial 1/20 -> batch_size=16, lr=0.0001, epochs=10, weight_decay=1e-05, optimizer=adam\n"
     ]
    },
    {
     "name": "stderr",
     "output_type": "stream",
     "text": [
      "/usr/local/lib/python3.11/dist-packages/torchvision/models/_utils.py:208: UserWarning: The parameter 'pretrained' is deprecated since 0.13 and may be removed in the future, please use 'weights' instead.\n",
      "  warnings.warn(\n",
      "/usr/local/lib/python3.11/dist-packages/torchvision/models/_utils.py:223: UserWarning: Arguments other than a weight enum or `None` for 'weights' are deprecated since 0.13 and may be removed in the future. The current behavior is equivalent to passing `weights=None`.\n",
      "  warnings.warn(msg)\n"
     ]
    },
    {
     "name": "stdout",
     "output_type": "stream",
     "text": [
      "Epoch 1/10 | Train Loss: 0.6491 | Val Loss: 0.6745 | Val Accuracy: 0.5714\n",
      "Epoch 2/10 | Train Loss: 0.3939 | Val Loss: 2.9362 | Val Accuracy: 0.6667\n",
      "Epoch 3/10 | Train Loss: 0.2266 | Val Loss: 2.5189 | Val Accuracy: 0.7619\n",
      "Epoch 4/10 | Train Loss: 0.1496 | Val Loss: 1.4789 | Val Accuracy: 0.6190\n",
      "Epoch 5/10 | Train Loss: 0.0470 | Val Loss: 2.5404 | Val Accuracy: 0.6667\n",
      "Epoch 6/10 | Train Loss: 0.0106 | Val Loss: 2.3389 | Val Accuracy: 0.6190\n",
      "Epoch 7/10 | Train Loss: 0.0072 | Val Loss: 2.3724 | Val Accuracy: 0.6190\n",
      "Epoch 8/10 | Train Loss: 0.0062 | Val Loss: 2.3762 | Val Accuracy: 0.5714\n",
      "Epoch 9/10 | Train Loss: 0.0049 | Val Loss: 2.4991 | Val Accuracy: 0.6667\n",
      "Epoch 10/10 | Train Loss: 0.0035 | Val Loss: 2.3975 | Val Accuracy: 0.6190\n",
      "\n",
      "Trial 2/20 -> batch_size=4, lr=0.0001, epochs=10, weight_decay=0, optimizer=sgd\n",
      "Epoch 1/10 | Train Loss: 0.6927 | Val Loss: 0.6672 | Val Accuracy: 0.6190\n",
      "Epoch 2/10 | Train Loss: 0.6658 | Val Loss: 0.7354 | Val Accuracy: 0.6190\n",
      "Epoch 3/10 | Train Loss: 0.6667 | Val Loss: 0.7195 | Val Accuracy: 0.6190\n",
      "Epoch 4/10 | Train Loss: 0.6425 | Val Loss: 0.6655 | Val Accuracy: 0.6190\n",
      "Epoch 5/10 | Train Loss: 0.6287 | Val Loss: 0.7302 | Val Accuracy: 0.4762\n",
      "Epoch 6/10 | Train Loss: 0.6044 | Val Loss: 0.6811 | Val Accuracy: 0.7143\n",
      "Epoch 7/10 | Train Loss: 0.5853 | Val Loss: 0.6826 | Val Accuracy: 0.6190\n",
      "Epoch 8/10 | Train Loss: 0.5569 | Val Loss: 0.6363 | Val Accuracy: 0.6667\n",
      "Epoch 9/10 | Train Loss: 0.5531 | Val Loss: 0.7070 | Val Accuracy: 0.7143\n",
      "Epoch 10/10 | Train Loss: 0.5415 | Val Loss: 0.6646 | Val Accuracy: 0.7143\n",
      "\n",
      "Trial 3/20 -> batch_size=4, lr=0.0001, epochs=10, weight_decay=0, optimizer=adam\n",
      "Epoch 1/10 | Train Loss: 0.5955 | Val Loss: 1.3970 | Val Accuracy: 0.6190\n",
      "Epoch 2/10 | Train Loss: 0.3517 | Val Loss: 1.4270 | Val Accuracy: 0.7143\n",
      "Epoch 3/10 | Train Loss: 0.2072 | Val Loss: 1.1509 | Val Accuracy: 0.6667\n",
      "Epoch 4/10 | Train Loss: 0.1116 | Val Loss: 1.9035 | Val Accuracy: 0.6667\n",
      "Epoch 5/10 | Train Loss: 0.0569 | Val Loss: 2.6561 | Val Accuracy: 0.5714\n",
      "Epoch 6/10 | Train Loss: 0.0355 | Val Loss: 1.6973 | Val Accuracy: 0.5238\n",
      "Epoch 7/10 | Train Loss: 0.0061 | Val Loss: 1.9186 | Val Accuracy: 0.5714\n",
      "Epoch 8/10 | Train Loss: 0.0050 | Val Loss: 1.9364 | Val Accuracy: 0.5714\n",
      "Epoch 9/10 | Train Loss: 0.0055 | Val Loss: 2.1645 | Val Accuracy: 0.5714\n",
      "Epoch 10/10 | Train Loss: 0.0042 | Val Loss: 1.7700 | Val Accuracy: 0.6190\n",
      "\n",
      "Trial 4/20 -> batch_size=16, lr=0.001, epochs=10, weight_decay=0, optimizer=sgd\n",
      "Epoch 1/10 | Train Loss: 0.6853 | Val Loss: 0.6741 | Val Accuracy: 0.5714\n",
      "Epoch 2/10 | Train Loss: 0.6384 | Val Loss: 0.6489 | Val Accuracy: 0.8095\n",
      "Epoch 3/10 | Train Loss: 0.5757 | Val Loss: 0.6517 | Val Accuracy: 0.7619\n",
      "Epoch 4/10 | Train Loss: 0.4847 | Val Loss: 0.9132 | Val Accuracy: 0.7619\n",
      "Epoch 5/10 | Train Loss: 0.4105 | Val Loss: 0.9185 | Val Accuracy: 0.7143\n",
      "Epoch 6/10 | Train Loss: 0.2769 | Val Loss: 1.0950 | Val Accuracy: 0.7619\n",
      "Epoch 7/10 | Train Loss: 0.2092 | Val Loss: 1.2328 | Val Accuracy: 0.7143\n",
      "Epoch 8/10 | Train Loss: 0.1585 | Val Loss: 1.4770 | Val Accuracy: 0.6667\n",
      "Epoch 9/10 | Train Loss: 0.1126 | Val Loss: 1.3534 | Val Accuracy: 0.7143\n",
      "Epoch 10/10 | Train Loss: 0.0923 | Val Loss: 1.3543 | Val Accuracy: 0.6667\n",
      "\n",
      "Trial 5/20 -> batch_size=4, lr=0.0005, epochs=10, weight_decay=0, optimizer=adam\n",
      "Epoch 1/10 | Train Loss: 0.6495 | Val Loss: 0.7495 | Val Accuracy: 0.6667\n",
      "Epoch 2/10 | Train Loss: 0.4857 | Val Loss: 0.8001 | Val Accuracy: 0.6667\n",
      "Epoch 3/10 | Train Loss: 0.3741 | Val Loss: 1.3348 | Val Accuracy: 0.6667\n",
      "Epoch 4/10 | Train Loss: 0.2952 | Val Loss: 1.1741 | Val Accuracy: 0.7619\n",
      "Epoch 5/10 | Train Loss: 0.1626 | Val Loss: 1.4763 | Val Accuracy: 0.6190\n",
      "Epoch 6/10 | Train Loss: 0.1074 | Val Loss: 2.0755 | Val Accuracy: 0.5714\n",
      "Epoch 7/10 | Train Loss: 0.0854 | Val Loss: 1.3035 | Val Accuracy: 0.6667\n",
      "Epoch 8/10 | Train Loss: 0.0345 | Val Loss: 1.7732 | Val Accuracy: 0.6190\n",
      "Epoch 9/10 | Train Loss: 0.0169 | Val Loss: 1.6087 | Val Accuracy: 0.6667\n",
      "Epoch 10/10 | Train Loss: 0.0086 | Val Loss: 1.9394 | Val Accuracy: 0.6667\n",
      "\n",
      "Trial 6/20 -> batch_size=16, lr=0.0005, epochs=10, weight_decay=1e-05, optimizer=adam\n",
      "Epoch 1/10 | Train Loss: 0.6636 | Val Loss: 0.6571 | Val Accuracy: 0.6667\n",
      "Epoch 2/10 | Train Loss: 0.4539 | Val Loss: 1.2623 | Val Accuracy: 0.5714\n",
      "Epoch 3/10 | Train Loss: 0.3853 | Val Loss: 1.0181 | Val Accuracy: 0.6667\n",
      "Epoch 4/10 | Train Loss: 0.2347 | Val Loss: 1.1258 | Val Accuracy: 0.5714\n",
      "Epoch 5/10 | Train Loss: 0.1094 | Val Loss: 1.7681 | Val Accuracy: 0.7143\n",
      "Epoch 6/10 | Train Loss: 0.0437 | Val Loss: 1.5337 | Val Accuracy: 0.5714\n",
      "Epoch 7/10 | Train Loss: 0.0490 | Val Loss: 3.2066 | Val Accuracy: 0.6190\n",
      "Epoch 8/10 | Train Loss: 0.0230 | Val Loss: 3.3613 | Val Accuracy: 0.6667\n",
      "Epoch 9/10 | Train Loss: 0.0081 | Val Loss: 3.0634 | Val Accuracy: 0.6667\n",
      "Epoch 10/10 | Train Loss: 0.0056 | Val Loss: 3.1029 | Val Accuracy: 0.7143\n",
      "\n",
      "Trial 7/20 -> batch_size=4, lr=0.0005, epochs=10, weight_decay=0, optimizer=sgd\n",
      "Epoch 1/10 | Train Loss: 0.7021 | Val Loss: 0.7115 | Val Accuracy: 0.6190\n",
      "Epoch 2/10 | Train Loss: 0.6475 | Val Loss: 0.6785 | Val Accuracy: 0.7143\n",
      "Epoch 3/10 | Train Loss: 0.5315 | Val Loss: 0.9992 | Val Accuracy: 0.7143\n",
      "Epoch 4/10 | Train Loss: 0.3915 | Val Loss: 0.9221 | Val Accuracy: 0.6667\n",
      "Epoch 5/10 | Train Loss: 0.2841 | Val Loss: 2.2686 | Val Accuracy: 0.5714\n",
      "Epoch 6/10 | Train Loss: 0.2162 | Val Loss: 1.3304 | Val Accuracy: 0.6667\n",
      "Epoch 7/10 | Train Loss: 0.1779 | Val Loss: 1.6572 | Val Accuracy: 0.5714\n",
      "Epoch 8/10 | Train Loss: 0.1601 | Val Loss: 1.2507 | Val Accuracy: 0.6667\n",
      "Epoch 9/10 | Train Loss: 0.1157 | Val Loss: 0.9971 | Val Accuracy: 0.7143\n",
      "Epoch 10/10 | Train Loss: 0.1013 | Val Loss: 1.1858 | Val Accuracy: 0.6667\n",
      "\n",
      "Trial 8/20 -> batch_size=4, lr=0.0005, epochs=10, weight_decay=1e-05, optimizer=adam\n",
      "Epoch 1/10 | Train Loss: 0.6871 | Val Loss: 0.7486 | Val Accuracy: 0.6190\n",
      "Epoch 2/10 | Train Loss: 0.5746 | Val Loss: 1.0087 | Val Accuracy: 0.6190\n",
      "Epoch 3/10 | Train Loss: 0.4519 | Val Loss: 1.4763 | Val Accuracy: 0.5238\n",
      "Epoch 4/10 | Train Loss: 0.4047 | Val Loss: 1.2504 | Val Accuracy: 0.5714\n",
      "Epoch 5/10 | Train Loss: 0.2636 | Val Loss: 1.5572 | Val Accuracy: 0.5714\n",
      "Epoch 6/10 | Train Loss: 0.2091 | Val Loss: 1.9597 | Val Accuracy: 0.5714\n",
      "Epoch 7/10 | Train Loss: 0.1533 | Val Loss: 1.7748 | Val Accuracy: 0.6190\n",
      "Epoch 8/10 | Train Loss: 0.0766 | Val Loss: 2.0136 | Val Accuracy: 0.5714\n",
      "Epoch 9/10 | Train Loss: 0.0464 | Val Loss: 2.2895 | Val Accuracy: 0.5238\n",
      "Epoch 10/10 | Train Loss: 0.0434 | Val Loss: 2.4576 | Val Accuracy: 0.5714\n",
      "\n",
      "Trial 9/20 -> batch_size=16, lr=0.0005, epochs=10, weight_decay=1e-05, optimizer=adam\n",
      "Epoch 1/10 | Train Loss: 0.6470 | Val Loss: 0.7002 | Val Accuracy: 0.3810\n",
      "Epoch 2/10 | Train Loss: 0.4129 | Val Loss: 1.6010 | Val Accuracy: 0.7143\n",
      "Epoch 3/10 | Train Loss: 0.2514 | Val Loss: 2.6429 | Val Accuracy: 0.5714\n",
      "Epoch 4/10 | Train Loss: 0.2474 | Val Loss: 1.7925 | Val Accuracy: 0.6190\n",
      "Epoch 5/10 | Train Loss: 0.1258 | Val Loss: 1.6115 | Val Accuracy: 0.6667\n",
      "Epoch 6/10 | Train Loss: 0.0816 | Val Loss: 1.5236 | Val Accuracy: 0.7143\n",
      "Epoch 7/10 | Train Loss: 0.0507 | Val Loss: 1.5139 | Val Accuracy: 0.7143\n",
      "Epoch 8/10 | Train Loss: 0.0457 | Val Loss: 2.5042 | Val Accuracy: 0.7143\n",
      "Epoch 9/10 | Train Loss: 0.0163 | Val Loss: 1.9743 | Val Accuracy: 0.7143\n",
      "Epoch 10/10 | Train Loss: 0.0185 | Val Loss: 2.0756 | Val Accuracy: 0.7143\n",
      "\n",
      "Trial 10/20 -> batch_size=16, lr=0.0005, epochs=10, weight_decay=0, optimizer=adam\n",
      "Epoch 1/10 | Train Loss: 0.6670 | Val Loss: 0.8000 | Val Accuracy: 0.7143\n",
      "Epoch 2/10 | Train Loss: 0.5401 | Val Loss: 1.5367 | Val Accuracy: 0.6667\n",
      "Epoch 3/10 | Train Loss: 0.4613 | Val Loss: 1.1741 | Val Accuracy: 0.7143\n",
      "Epoch 4/10 | Train Loss: 0.3655 | Val Loss: 4.1543 | Val Accuracy: 0.4762\n",
      "Epoch 5/10 | Train Loss: 0.2549 | Val Loss: 1.8858 | Val Accuracy: 0.6190\n",
      "Epoch 6/10 | Train Loss: 0.1615 | Val Loss: 2.5328 | Val Accuracy: 0.6190\n",
      "Epoch 7/10 | Train Loss: 0.0996 | Val Loss: 1.9186 | Val Accuracy: 0.7143\n",
      "Epoch 8/10 | Train Loss: 0.0664 | Val Loss: 2.5016 | Val Accuracy: 0.6667\n",
      "Epoch 9/10 | Train Loss: 0.1024 | Val Loss: 3.1737 | Val Accuracy: 0.6190\n",
      "Epoch 10/10 | Train Loss: 0.0635 | Val Loss: 2.4919 | Val Accuracy: 0.6667\n",
      "\n",
      "Trial 11/20 -> batch_size=4, lr=0.001, epochs=10, weight_decay=1e-05, optimizer=adam\n",
      "Epoch 1/10 | Train Loss: 0.7597 | Val Loss: 0.9322 | Val Accuracy: 0.5238\n",
      "Epoch 2/10 | Train Loss: 0.6200 | Val Loss: 0.5390 | Val Accuracy: 0.7143\n",
      "Epoch 3/10 | Train Loss: 0.5241 | Val Loss: 0.8603 | Val Accuracy: 0.6667\n",
      "Epoch 4/10 | Train Loss: 0.4122 | Val Loss: 1.0472 | Val Accuracy: 0.7143\n",
      "Epoch 5/10 | Train Loss: 0.3381 | Val Loss: 1.4333 | Val Accuracy: 0.5238\n",
      "Epoch 6/10 | Train Loss: 0.2170 | Val Loss: 1.2196 | Val Accuracy: 0.7143\n",
      "Epoch 7/10 | Train Loss: 0.1296 | Val Loss: 1.5533 | Val Accuracy: 0.6667\n",
      "Epoch 8/10 | Train Loss: 0.0863 | Val Loss: 1.7798 | Val Accuracy: 0.6190\n",
      "Epoch 9/10 | Train Loss: 0.0430 | Val Loss: 2.2049 | Val Accuracy: 0.6190\n",
      "Epoch 10/10 | Train Loss: 0.0322 | Val Loss: 1.9803 | Val Accuracy: 0.5714\n",
      "\n",
      "Trial 12/20 -> batch_size=4, lr=0.0001, epochs=10, weight_decay=1e-05, optimizer=sgd\n",
      "Epoch 1/10 | Train Loss: 0.6991 | Val Loss: 0.7198 | Val Accuracy: 0.4286\n",
      "Epoch 2/10 | Train Loss: 0.6729 | Val Loss: 0.6959 | Val Accuracy: 0.6190\n",
      "Epoch 3/10 | Train Loss: 0.6620 | Val Loss: 0.6601 | Val Accuracy: 0.6190\n",
      "Epoch 4/10 | Train Loss: 0.6537 | Val Loss: 0.6937 | Val Accuracy: 0.6190\n",
      "Epoch 5/10 | Train Loss: 0.6288 | Val Loss: 0.6695 | Val Accuracy: 0.6667\n",
      "Epoch 6/10 | Train Loss: 0.6137 | Val Loss: 0.6553 | Val Accuracy: 0.6190\n",
      "Epoch 7/10 | Train Loss: 0.5887 | Val Loss: 0.6587 | Val Accuracy: 0.6667\n",
      "Epoch 8/10 | Train Loss: 0.5676 | Val Loss: 0.7890 | Val Accuracy: 0.6667\n",
      "Epoch 9/10 | Train Loss: 0.5536 | Val Loss: 0.6831 | Val Accuracy: 0.6667\n",
      "Epoch 10/10 | Train Loss: 0.5102 | Val Loss: 0.6876 | Val Accuracy: 0.6667\n",
      "\n",
      "Trial 13/20 -> batch_size=16, lr=0.0005, epochs=10, weight_decay=1e-05, optimizer=sgd\n",
      "Epoch 1/10 | Train Loss: 0.7153 | Val Loss: 0.6690 | Val Accuracy: 0.5238\n",
      "Epoch 2/10 | Train Loss: 0.6650 | Val Loss: 0.6314 | Val Accuracy: 0.6190\n",
      "Epoch 3/10 | Train Loss: 0.6460 | Val Loss: 0.6317 | Val Accuracy: 0.6667\n",
      "Epoch 4/10 | Train Loss: 0.5972 | Val Loss: 0.6697 | Val Accuracy: 0.7143\n",
      "Epoch 5/10 | Train Loss: 0.5595 | Val Loss: 0.6457 | Val Accuracy: 0.6667\n",
      "Epoch 6/10 | Train Loss: 0.5083 | Val Loss: 0.6461 | Val Accuracy: 0.7143\n",
      "Epoch 7/10 | Train Loss: 0.4834 | Val Loss: 0.6304 | Val Accuracy: 0.7143\n",
      "Epoch 8/10 | Train Loss: 0.4525 | Val Loss: 0.6385 | Val Accuracy: 0.7143\n",
      "Epoch 9/10 | Train Loss: 0.4322 | Val Loss: 0.6570 | Val Accuracy: 0.7143\n",
      "Epoch 10/10 | Train Loss: 0.4092 | Val Loss: 0.6925 | Val Accuracy: 0.7143\n",
      "\n",
      "Trial 14/20 -> batch_size=4, lr=0.001, epochs=10, weight_decay=0, optimizer=adam\n",
      "Epoch 1/10 | Train Loss: 0.7084 | Val Loss: 0.8805 | Val Accuracy: 0.5238\n",
      "Epoch 2/10 | Train Loss: 0.6247 | Val Loss: 0.9238 | Val Accuracy: 0.6667\n",
      "Epoch 3/10 | Train Loss: 0.5135 | Val Loss: 1.0043 | Val Accuracy: 0.5714\n",
      "Epoch 4/10 | Train Loss: 0.4492 | Val Loss: 1.0191 | Val Accuracy: 0.6190\n",
      "Epoch 5/10 | Train Loss: 0.2780 | Val Loss: 1.1085 | Val Accuracy: 0.7143\n",
      "Epoch 6/10 | Train Loss: 0.2679 | Val Loss: 0.8372 | Val Accuracy: 0.6190\n",
      "Epoch 7/10 | Train Loss: 0.2159 | Val Loss: 1.1600 | Val Accuracy: 0.5714\n",
      "Epoch 8/10 | Train Loss: 0.1666 | Val Loss: 1.3345 | Val Accuracy: 0.6190\n",
      "Epoch 9/10 | Train Loss: 0.1378 | Val Loss: 1.4747 | Val Accuracy: 0.6667\n",
      "Epoch 10/10 | Train Loss: 0.0783 | Val Loss: 1.5103 | Val Accuracy: 0.6190\n",
      "\n",
      "Trial 15/20 -> batch_size=16, lr=0.001, epochs=10, weight_decay=0, optimizer=sgd\n",
      "Epoch 1/10 | Train Loss: 0.7111 | Val Loss: 0.6757 | Val Accuracy: 0.6190\n",
      "Epoch 2/10 | Train Loss: 0.6364 | Val Loss: 1.0508 | Val Accuracy: 0.5714\n",
      "Epoch 3/10 | Train Loss: 0.5734 | Val Loss: 0.5951 | Val Accuracy: 0.7619\n",
      "Epoch 4/10 | Train Loss: 0.4825 | Val Loss: 0.7424 | Val Accuracy: 0.6667\n",
      "Epoch 5/10 | Train Loss: 0.4462 | Val Loss: 1.5906 | Val Accuracy: 0.6190\n",
      "Epoch 6/10 | Train Loss: 0.3429 | Val Loss: 1.4024 | Val Accuracy: 0.7143\n",
      "Epoch 7/10 | Train Loss: 0.2478 | Val Loss: 1.3095 | Val Accuracy: 0.7143\n",
      "Epoch 8/10 | Train Loss: 0.1875 | Val Loss: 1.5358 | Val Accuracy: 0.7143\n",
      "Epoch 9/10 | Train Loss: 0.1250 | Val Loss: 2.2269 | Val Accuracy: 0.6667\n",
      "Epoch 10/10 | Train Loss: 0.1115 | Val Loss: 1.6720 | Val Accuracy: 0.7143\n",
      "\n",
      "Trial 16/20 -> batch_size=8, lr=0.0005, epochs=10, weight_decay=1e-05, optimizer=adam\n",
      "Epoch 1/10 | Train Loss: 0.7458 | Val Loss: 1.3005 | Val Accuracy: 0.8095\n",
      "Epoch 2/10 | Train Loss: 0.5048 | Val Loss: 0.8536 | Val Accuracy: 0.7143\n",
      "Epoch 3/10 | Train Loss: 0.4161 | Val Loss: 1.0345 | Val Accuracy: 0.5238\n",
      "Epoch 4/10 | Train Loss: 0.3468 | Val Loss: 1.0603 | Val Accuracy: 0.6190\n",
      "Epoch 5/10 | Train Loss: 0.2687 | Val Loss: 2.0450 | Val Accuracy: 0.7143\n",
      "Epoch 6/10 | Train Loss: 0.1554 | Val Loss: 1.9088 | Val Accuracy: 0.6667\n",
      "Epoch 7/10 | Train Loss: 0.1240 | Val Loss: 1.5667 | Val Accuracy: 0.6667\n",
      "Epoch 8/10 | Train Loss: 0.1056 | Val Loss: 1.9800 | Val Accuracy: 0.6667\n",
      "Epoch 9/10 | Train Loss: 0.0542 | Val Loss: 2.0648 | Val Accuracy: 0.6667\n",
      "Epoch 10/10 | Train Loss: 0.0750 | Val Loss: 1.6715 | Val Accuracy: 0.7143\n",
      "\n",
      "Trial 17/20 -> batch_size=4, lr=0.0001, epochs=10, weight_decay=1e-05, optimizer=sgd\n",
      "Epoch 1/10 | Train Loss: 0.6956 | Val Loss: 0.6535 | Val Accuracy: 0.6190\n",
      "Epoch 2/10 | Train Loss: 0.6710 | Val Loss: 0.6518 | Val Accuracy: 0.6190\n",
      "Epoch 3/10 | Train Loss: 0.6562 | Val Loss: 0.6406 | Val Accuracy: 0.6667\n",
      "Epoch 4/10 | Train Loss: 0.6322 | Val Loss: 0.6287 | Val Accuracy: 0.6190\n",
      "Epoch 5/10 | Train Loss: 0.6208 | Val Loss: 0.6424 | Val Accuracy: 0.6190\n",
      "Epoch 6/10 | Train Loss: 0.5989 | Val Loss: 0.7301 | Val Accuracy: 0.7143\n",
      "Epoch 7/10 | Train Loss: 0.5694 | Val Loss: 0.7519 | Val Accuracy: 0.6667\n",
      "Epoch 8/10 | Train Loss: 0.5372 | Val Loss: 0.6464 | Val Accuracy: 0.6667\n",
      "Epoch 9/10 | Train Loss: 0.5176 | Val Loss: 0.6375 | Val Accuracy: 0.6667\n",
      "Epoch 10/10 | Train Loss: 0.5011 | Val Loss: 0.6149 | Val Accuracy: 0.7619\n",
      "\n",
      "Trial 18/20 -> batch_size=4, lr=0.0001, epochs=10, weight_decay=0, optimizer=sgd\n",
      "Epoch 1/10 | Train Loss: 0.6922 | Val Loss: 0.6809 | Val Accuracy: 0.6190\n",
      "Epoch 2/10 | Train Loss: 0.6773 | Val Loss: 0.6612 | Val Accuracy: 0.6667\n",
      "Epoch 3/10 | Train Loss: 0.6640 | Val Loss: 0.7274 | Val Accuracy: 0.6190\n",
      "Epoch 4/10 | Train Loss: 0.6489 | Val Loss: 0.6540 | Val Accuracy: 0.7619\n",
      "Epoch 5/10 | Train Loss: 0.6204 | Val Loss: 0.6673 | Val Accuracy: 0.6667\n",
      "Epoch 6/10 | Train Loss: 0.6098 | Val Loss: 0.7116 | Val Accuracy: 0.6667\n",
      "Epoch 7/10 | Train Loss: 0.5862 | Val Loss: 0.7247 | Val Accuracy: 0.7143\n",
      "Epoch 8/10 | Train Loss: 0.5532 | Val Loss: 0.6408 | Val Accuracy: 0.6667\n",
      "Epoch 9/10 | Train Loss: 0.5410 | Val Loss: 0.6236 | Val Accuracy: 0.6667\n",
      "Epoch 10/10 | Train Loss: 0.5263 | Val Loss: 0.6170 | Val Accuracy: 0.7619\n",
      "\n",
      "Trial 19/20 -> batch_size=8, lr=0.001, epochs=10, weight_decay=0, optimizer=sgd\n",
      "Epoch 1/10 | Train Loss: 0.6846 | Val Loss: 0.6520 | Val Accuracy: 0.7143\n",
      "Epoch 2/10 | Train Loss: 0.5703 | Val Loss: 0.6453 | Val Accuracy: 0.7143\n",
      "Epoch 3/10 | Train Loss: 0.4526 | Val Loss: 1.0207 | Val Accuracy: 0.7143\n",
      "Epoch 4/10 | Train Loss: 0.3403 | Val Loss: 3.1856 | Val Accuracy: 0.6190\n",
      "Epoch 5/10 | Train Loss: 0.2736 | Val Loss: 0.9432 | Val Accuracy: 0.7619\n",
      "Epoch 6/10 | Train Loss: 0.2375 | Val Loss: 2.2297 | Val Accuracy: 0.5714\n",
      "Epoch 7/10 | Train Loss: 0.1595 | Val Loss: 1.2509 | Val Accuracy: 0.6667\n",
      "Epoch 8/10 | Train Loss: 0.0654 | Val Loss: 2.2233 | Val Accuracy: 0.7143\n",
      "Epoch 9/10 | Train Loss: 0.0272 | Val Loss: 2.0230 | Val Accuracy: 0.6667\n",
      "Epoch 10/10 | Train Loss: 0.0496 | Val Loss: 1.9960 | Val Accuracy: 0.6667\n",
      "\n",
      "Trial 20/20 -> batch_size=4, lr=0.0001, epochs=10, weight_decay=1e-05, optimizer=sgd\n",
      "Epoch 1/10 | Train Loss: 0.6962 | Val Loss: 0.6646 | Val Accuracy: 0.5714\n",
      "Epoch 2/10 | Train Loss: 0.6766 | Val Loss: 0.6809 | Val Accuracy: 0.7143\n",
      "Epoch 3/10 | Train Loss: 0.6561 | Val Loss: 0.6668 | Val Accuracy: 0.6190\n",
      "Epoch 4/10 | Train Loss: 0.6458 | Val Loss: 0.6723 | Val Accuracy: 0.7619\n",
      "Epoch 5/10 | Train Loss: 0.6244 | Val Loss: 0.6552 | Val Accuracy: 0.7143\n",
      "Epoch 6/10 | Train Loss: 0.6205 | Val Loss: 0.6865 | Val Accuracy: 0.6667\n",
      "Epoch 7/10 | Train Loss: 0.5984 | Val Loss: 0.6808 | Val Accuracy: 0.7143\n",
      "Epoch 8/10 | Train Loss: 0.5985 | Val Loss: 0.6393 | Val Accuracy: 0.6190\n",
      "Epoch 9/10 | Train Loss: 0.5808 | Val Loss: 0.8396 | Val Accuracy: 0.6190\n",
      "Epoch 10/10 | Train Loss: 0.5735 | Val Loss: 0.6601 | Val Accuracy: 0.7143\n"
     ]
    }
   ],
   "source": [
    "# -------------------- PARAMETERS --------------------\n",
    "\n",
    "# Search spaces for each hyperparameter\n",
    "batch_sizes = [4, 8, 16]   \n",
    "lrs = [1e-4, 5e-4, 1e-3]  \n",
    "epochs_list = [10]  \n",
    "weight_decays = [0, 1e-5]  \n",
    "optimizers = ['adam', 'sgd']  \n",
    "\n",
    "# Random combinations\n",
    "n_trials = 20\n",
    "\n",
    "results = []\n",
    "all_train_val_losses = []\n",
    "\n",
    "# -------------------- SPLIT TRAIN/VAL --------------------\n",
    "\n",
    "subjects = train_df['ID'].values\n",
    "labels = train_df[label_column].values\n",
    "\n",
    "train_subj, val_subj = train_test_split(subjects, stratify=labels, test_size=0.2, random_state=42)\n",
    "\n",
    "df_train = train_df[train_df['ID'].isin(train_subj)]\n",
    "df_val = train_df[train_df['ID'].isin(val_subj)]\n",
    "\n",
    "# -------------------- RANDOM SEARCH --------------------\n",
    "\n",
    "for trial in range(n_trials):\n",
    "    # Extract a random combination of hyperparameters\n",
    "    batch_size = random.choice(batch_sizes)\n",
    "    lr = random.choice(lrs)\n",
    "    epochs = random.choice(epochs_list)\n",
    "    weight_decay = random.choice(weight_decays)\n",
    "    optimizer_type = random.choice(optimizers)\n",
    "\n",
    "    print(f\"\\nTrial {trial+1}/{n_trials} -> batch_size={batch_size}, lr={lr}, \"\n",
    "          f\"epochs={epochs}, weight_decay={weight_decay}, optimizer={optimizer_type}\")\n",
    "\n",
    "    # Dataset e DataLoader\n",
    "    train_dataset = AugmentedFCDataset(path_fcmaps_augmented, df_train, label_column, task)\n",
    "    val_dataset = FCDataset(path_fcmaps, df_val, label_column, task)\n",
    "\n",
    "    train_loader = DataLoader(train_dataset, batch_size=batch_size, shuffle=True)\n",
    "    val_loader = DataLoader(val_dataset, batch_size=batch_size, shuffle=False)\n",
    "\n",
    "    # Model\n",
    "    #model = SimpleCNN3D(n_classes=n_classes).to(device)\n",
    "    model = ResNet3D(n_classes=n_classes).to(device)\n",
    "        \n",
    "    # Optimizer\n",
    "    if optimizer_type == 'adam':\n",
    "        optimizer = optim.Adam(model.parameters(), lr=lr, weight_decay=weight_decay)\n",
    "    elif optimizer_type == 'sgd':\n",
    "        optimizer = optim.SGD(model.parameters(), lr=lr, momentum=0.9, weight_decay=weight_decay)\n",
    "    else:\n",
    "        raise ValueError(\"Unsupported optimizer\")\n",
    "\n",
    "    # Scheduler \n",
    "    scheduler = optim.lr_scheduler.ReduceLROnPlateau(optimizer, mode='min', factor=0.5, patience=2)\n",
    "\n",
    "    # -------------------- TRAINING --------------------\n",
    "\n",
    "    best_accuracy = -float('inf')\n",
    "    best_val_loss = float('inf')\n",
    "    \n",
    "    for epoch in range(epochs):\n",
    "        train_loss = train(train_loader, model, criterion, optimizer, device)\n",
    "        val_loss, val_accuracy = validate(val_loader, model, criterion, device, task)\n",
    "    \n",
    "        print(f\"Epoch {epoch+1}/{epochs} | Train Loss: {train_loss:.4f} | \"\n",
    "              f\"Val Loss: {val_loss:.4f} | Val Accuracy: {val_accuracy:.4f}\")\n",
    "    \n",
    "        scheduler.step(val_loss)\n",
    "    \n",
    "        if val_accuracy > best_accuracy:\n",
    "            best_accuracy = val_accuracy\n",
    "            best_val_loss = val_loss\n",
    "            torch.save(model.state_dict(), f\"best_model_trial{trial+1}.pt\")\n",
    "\n",
    "\n",
    "    # Save best results\n",
    "    results.append({\n",
    "    'trial': trial + 1,\n",
    "    'batch_size': batch_size,\n",
    "    'lr': lr,\n",
    "    'epochs': epochs,\n",
    "    'weight_decay': weight_decay,\n",
    "    'optimizer': optimizer_type,\n",
    "    'best_val_accuracy': best_accuracy,\n",
    "    'best_val_loss': best_val_loss\n",
    "})"
   ]
  },
  {
   "cell_type": "code",
   "execution_count": 19,
   "id": "334d5bd6",
   "metadata": {
    "execution": {
     "iopub.execute_input": "2025-05-07T22:32:02.138306Z",
     "iopub.status.busy": "2025-05-07T22:32:02.138082Z",
     "iopub.status.idle": "2025-05-07T22:32:02.168858Z",
     "shell.execute_reply": "2025-05-07T22:32:02.168053Z"
    },
    "papermill": {
     "duration": 0.045285,
     "end_time": "2025-05-07T22:32:02.169840",
     "exception": false,
     "start_time": "2025-05-07T22:32:02.124555",
     "status": "completed"
    },
    "tags": []
   },
   "outputs": [
    {
     "name": "stdout",
     "output_type": "stream",
     "text": [
      "\n",
      "==== Ranking for Accuracy ====\n",
      "    trial  best_val_accuracy  batch_size      lr  epochs  weight_decay  \\\n",
      "0       4           0.809524          16  0.0010      10       0.00000   \n",
      "1      16           0.809524           8  0.0005      10       0.00001   \n",
      "2       5           0.761905           4  0.0005      10       0.00000   \n",
      "3       1           0.761905          16  0.0001      10       0.00001   \n",
      "4      17           0.761905           4  0.0001      10       0.00001   \n",
      "5      19           0.761905           8  0.0010      10       0.00000   \n",
      "6      20           0.761905           4  0.0001      10       0.00001   \n",
      "7      18           0.761905           4  0.0001      10       0.00000   \n",
      "8      15           0.761905          16  0.0010      10       0.00000   \n",
      "9       2           0.714286           4  0.0001      10       0.00000   \n",
      "10      3           0.714286           4  0.0001      10       0.00000   \n",
      "11      6           0.714286          16  0.0005      10       0.00001   \n",
      "12      9           0.714286          16  0.0005      10       0.00001   \n",
      "13      7           0.714286           4  0.0005      10       0.00000   \n",
      "14     10           0.714286          16  0.0005      10       0.00000   \n",
      "15     11           0.714286           4  0.0010      10       0.00001   \n",
      "16     13           0.714286          16  0.0005      10       0.00001   \n",
      "17     14           0.714286           4  0.0010      10       0.00000   \n",
      "18     12           0.666667           4  0.0001      10       0.00001   \n",
      "19      8           0.619048           4  0.0005      10       0.00001   \n",
      "\n",
      "   optimizer  \n",
      "0        sgd  \n",
      "1       adam  \n",
      "2       adam  \n",
      "3       adam  \n",
      "4        sgd  \n",
      "5        sgd  \n",
      "6        sgd  \n",
      "7        sgd  \n",
      "8        sgd  \n",
      "9        sgd  \n",
      "10      adam  \n",
      "11      adam  \n",
      "12      adam  \n",
      "13       sgd  \n",
      "14      adam  \n",
      "15      adam  \n",
      "16       sgd  \n",
      "17      adam  \n",
      "18       sgd  \n",
      "19      adam  \n",
      "\n",
      "==== Ranking for Loss ====\n",
      "    trial  best_val_loss  batch_size      lr  epochs  weight_decay optimizer\n",
      "0      11       0.538989           4  0.0010      10       0.00001      adam\n",
      "1      15       0.595112          16  0.0010      10       0.00000       sgd\n",
      "2      17       0.614942           4  0.0001      10       0.00001       sgd\n",
      "3       4       0.648877          16  0.0010      10       0.00000       sgd\n",
      "4      18       0.654003           4  0.0001      10       0.00000       sgd\n",
      "5      12       0.669486           4  0.0001      10       0.00001       sgd\n",
      "6      13       0.669716          16  0.0005      10       0.00001       sgd\n",
      "7      20       0.672251           4  0.0001      10       0.00001       sgd\n",
      "8       7       0.678537           4  0.0005      10       0.00000       sgd\n",
      "9       2       0.681149           4  0.0001      10       0.00000       sgd\n",
      "10      8       0.748623           4  0.0005      10       0.00001      adam\n",
      "11     10       0.800004          16  0.0005      10       0.00000      adam\n",
      "12     19       0.943247           8  0.0010      10       0.00000       sgd\n",
      "13     14       1.108497           4  0.0010      10       0.00000      adam\n",
      "14      5       1.174074           4  0.0005      10       0.00000      adam\n",
      "15     16       1.300529           8  0.0005      10       0.00001      adam\n",
      "16      3       1.427006           4  0.0001      10       0.00000      adam\n",
      "17      9       1.600981          16  0.0005      10       0.00001      adam\n",
      "18      6       1.768123          16  0.0005      10       0.00001      adam\n",
      "19      1       2.518883          16  0.0001      10       0.00001      adam\n",
      "\n",
      "==== Ranking Accuracy-Loss ====\n",
      "    trial  best_val_accuracy  best_val_loss     score  batch_size      lr  \\\n",
      "0      11           0.714286       0.538989  1.325234           4  0.0010   \n",
      "1      15           0.761905       0.595112  1.280271          16  0.0010   \n",
      "2       4           0.809524       0.648877  1.247577          16  0.0010   \n",
      "3      17           0.761905       0.614942  1.238987           4  0.0001   \n",
      "4      18           0.761905       0.654003  1.164987           4  0.0001   \n",
      "5      20           0.761905       0.672251  1.133364           4  0.0001   \n",
      "6      13           0.714286       0.669716  1.066550          16  0.0005   \n",
      "7       7           0.714286       0.678537  1.052684           4  0.0005   \n",
      "8       2           0.714286       0.681149  1.048649           4  0.0001   \n",
      "9      12           0.666667       0.669486  0.995789           4  0.0001   \n",
      "10     10           0.714286       0.800004  0.892853          16  0.0005   \n",
      "11      8           0.619048       0.748623  0.826915           4  0.0005   \n",
      "12     19           0.761905       0.943247  0.807747           8  0.0010   \n",
      "13      5           0.761905       1.174074  0.648941           4  0.0005   \n",
      "14     14           0.714286       1.108497  0.644373           4  0.0010   \n",
      "15     16           0.809524       1.300529  0.622457           8  0.0005   \n",
      "16      3           0.714286       1.427006  0.500549           4  0.0001   \n",
      "17      9           0.714286       1.600981  0.446155          16  0.0005   \n",
      "18      6           0.714286       1.768123  0.403980          16  0.0005   \n",
      "19      1           0.761905       2.518883  0.302477          16  0.0001   \n",
      "\n",
      "    epochs  weight_decay optimizer  \n",
      "0       10       0.00001      adam  \n",
      "1       10       0.00000       sgd  \n",
      "2       10       0.00000       sgd  \n",
      "3       10       0.00001       sgd  \n",
      "4       10       0.00000       sgd  \n",
      "5       10       0.00001       sgd  \n",
      "6       10       0.00001       sgd  \n",
      "7       10       0.00000       sgd  \n",
      "8       10       0.00000       sgd  \n",
      "9       10       0.00001       sgd  \n",
      "10      10       0.00000      adam  \n",
      "11      10       0.00001      adam  \n",
      "12      10       0.00000       sgd  \n",
      "13      10       0.00000      adam  \n",
      "14      10       0.00000      adam  \n",
      "15      10       0.00001      adam  \n",
      "16      10       0.00000      adam  \n",
      "17      10       0.00001      adam  \n",
      "18      10       0.00001      adam  \n",
      "19      10       0.00001      adam  \n"
     ]
    }
   ],
   "source": [
    "df_results = pd.DataFrame(results)\n",
    "\n",
    "print(\"\\n==== Ranking for Accuracy ====\")\n",
    "df_acc = df_results.sort_values(by='best_val_accuracy', ascending=False).reset_index(drop=True)\n",
    "df_acc['rank_accuracy'] = df_acc.index + 1\n",
    "print(df_acc[['trial', 'best_val_accuracy', 'batch_size', 'lr', 'epochs', 'weight_decay', 'optimizer']])\n",
    "\n",
    "print(\"\\n==== Ranking for Loss ====\")\n",
    "df_loss = df_results.sort_values(by='best_val_loss', ascending=True).reset_index(drop=True)\n",
    "df_loss['rank_loss'] = df_loss.index + 1\n",
    "print(df_loss[['trial', 'best_val_loss', 'batch_size', 'lr', 'epochs', 'weight_decay', 'optimizer']])\n",
    "\n",
    "print(\"\\n==== Ranking Accuracy-Loss ====\")\n",
    "df_results['score'] = (df_results['best_val_accuracy'] / df_results['best_val_loss'])\n",
    "df_combined = df_results.sort_values(by='score', ascending=False).reset_index(drop=True)\n",
    "df_combined['rank_combined'] = df_combined.index + 1\n",
    "print(df_combined[['trial', 'best_val_accuracy', 'best_val_loss', 'score','batch_size', 'lr', 'epochs', 'weight_decay', 'optimizer']])"
   ]
  },
  {
   "cell_type": "markdown",
   "id": "5a272f90",
   "metadata": {
    "_cell_guid": "0beaf3b4-5aed-41ef-9ca4-d3ad85ff3a7f",
    "_uuid": "443453e4-8dfc-4a03-9874-7229a2d28c31",
    "collapsed": false,
    "id": "ftKBEuXzirG4",
    "jupyter": {
     "outputs_hidden": false
    },
    "papermill": {
     "duration": 0.012835,
     "end_time": "2025-05-07T22:32:02.195555",
     "exception": false,
     "start_time": "2025-05-07T22:32:02.182720",
     "status": "completed"
    },
    "tags": []
   },
   "source": [
    "# Evaluation"
   ]
  },
  {
   "cell_type": "code",
   "execution_count": 20,
   "id": "d2d2e65a",
   "metadata": {
    "_cell_guid": "5e90dec9-e405-4584-9958-d3625c5ffcd3",
    "_uuid": "f1862080-a469-475f-864b-a7a6d2fc3cb2",
    "collapsed": false,
    "execution": {
     "iopub.execute_input": "2025-05-07T22:32:02.222525Z",
     "iopub.status.busy": "2025-05-07T22:32:02.222291Z",
     "iopub.status.idle": "2025-05-07T22:32:02.226330Z",
     "shell.execute_reply": "2025-05-07T22:32:02.225667Z"
    },
    "id": "gJ9cXIWwirG7",
    "jupyter": {
     "outputs_hidden": false
    },
    "papermill": {
     "duration": 0.018852,
     "end_time": "2025-05-07T22:32:02.227409",
     "exception": false,
     "start_time": "2025-05-07T22:32:02.208557",
     "status": "completed"
    },
    "tags": []
   },
   "outputs": [
    {
     "name": "stdout",
     "output_type": "stream",
     "text": [
      "Best model path: best_model_trial1.pt\n"
     ]
    }
   ],
   "source": [
    "best_trial = df_results.iloc[0]['trial']\n",
    "\n",
    "best_model_path = f\"best_model_trial{int(best_trial)}.pt\"\n",
    "print(f\"Best model path: {best_model_path}\")"
   ]
  },
  {
   "cell_type": "code",
   "execution_count": 21,
   "id": "a92a1dd5",
   "metadata": {
    "_cell_guid": "46e77466-e197-4dd0-aab9-f2dab3f89e37",
    "_uuid": "0c6e33c6-7723-48fa-bf78-b9777767db5f",
    "collapsed": false,
    "execution": {
     "iopub.execute_input": "2025-05-07T22:32:02.255073Z",
     "iopub.status.busy": "2025-05-07T22:32:02.254610Z",
     "iopub.status.idle": "2025-05-07T22:32:02.344451Z",
     "shell.execute_reply": "2025-05-07T22:32:02.343715Z"
    },
    "id": "WCUUy0VcirG7",
    "jupyter": {
     "outputs_hidden": false
    },
    "papermill": {
     "duration": 0.105132,
     "end_time": "2025-05-07T22:32:02.345832",
     "exception": false,
     "start_time": "2025-05-07T22:32:02.240700",
     "status": "completed"
    },
    "tags": []
   },
   "outputs": [],
   "source": [
    "test_dataset = FCDataset(path_fcmaps,test_df,label_column,task)\n",
    "test_loader = DataLoader(test_dataset, batch_size=batch_size, shuffle=False)"
   ]
  },
  {
   "cell_type": "code",
   "execution_count": 22,
   "id": "b5c433dd",
   "metadata": {
    "_cell_guid": "7e79731a-e0fd-4b3b-85cf-c149edb0918d",
    "_uuid": "b37519f2-8d6a-459e-aa33-deedfed89976",
    "collapsed": false,
    "execution": {
     "iopub.execute_input": "2025-05-07T22:32:02.373850Z",
     "iopub.status.busy": "2025-05-07T22:32:02.373225Z",
     "iopub.status.idle": "2025-05-07T22:32:05.025887Z",
     "shell.execute_reply": "2025-05-07T22:32:05.025077Z"
    },
    "id": "5-RHG7KkirG7",
    "jupyter": {
     "outputs_hidden": false
    },
    "papermill": {
     "duration": 2.667828,
     "end_time": "2025-05-07T22:32:05.027319",
     "exception": false,
     "start_time": "2025-05-07T22:32:02.359491",
     "status": "completed"
    },
    "tags": []
   },
   "outputs": [
    {
     "name": "stderr",
     "output_type": "stream",
     "text": [
      "/usr/local/lib/python3.11/dist-packages/torchvision/models/_utils.py:208: UserWarning: The parameter 'pretrained' is deprecated since 0.13 and may be removed in the future, please use 'weights' instead.\n",
      "  warnings.warn(\n",
      "/usr/local/lib/python3.11/dist-packages/torchvision/models/_utils.py:223: UserWarning: Arguments other than a weight enum or `None` for 'weights' are deprecated since 0.13 and may be removed in the future. The current behavior is equivalent to passing `weights=None`.\n",
      "  warnings.warn(msg)\n"
     ]
    }
   ],
   "source": [
    "# Load the model\n",
    "model = ResNet3D(n_classes=n_classes).to(device)\n",
    "model.load_state_dict(torch.load(best_model_path, weights_only=True))\n",
    "model.eval()\n",
    "\n",
    "# Test\n",
    "y_true, y_pred = evaluate(model, test_loader, task, device)"
   ]
  },
  {
   "cell_type": "code",
   "execution_count": 23,
   "id": "c861d719",
   "metadata": {
    "_cell_guid": "4f880a91-cf26-407f-9081-079474c75191",
    "_uuid": "9b49335d-da3a-4a03-b852-86856c9a3189",
    "collapsed": false,
    "execution": {
     "iopub.execute_input": "2025-05-07T22:32:05.055728Z",
     "iopub.status.busy": "2025-05-07T22:32:05.055518Z",
     "iopub.status.idle": "2025-05-07T22:32:05.080795Z",
     "shell.execute_reply": "2025-05-07T22:32:05.079902Z"
    },
    "id": "vcZn6FX9irG8",
    "jupyter": {
     "outputs_hidden": false
    },
    "papermill": {
     "duration": 0.04047,
     "end_time": "2025-05-07T22:32:05.081841",
     "exception": true,
     "start_time": "2025-05-07T22:32:05.041371",
     "status": "failed"
    },
    "tags": []
   },
   "outputs": [
    {
     "ename": "NameError",
     "evalue": "name 'precision_score' is not defined",
     "output_type": "error",
     "traceback": [
      "\u001b[0;31m---------------------------------------------------------------------------\u001b[0m",
      "\u001b[0;31mNameError\u001b[0m                                 Traceback (most recent call last)",
      "\u001b[0;32m/tmp/ipykernel_19/3450342746.py\u001b[0m in \u001b[0;36m<cell line: 0>\u001b[0;34m()\u001b[0m\n\u001b[1;32m      1\u001b[0m \u001b[0;31m# Metrics\u001b[0m\u001b[0;34m\u001b[0m\u001b[0;34m\u001b[0m\u001b[0m\n\u001b[1;32m      2\u001b[0m \u001b[0maccuracy\u001b[0m \u001b[0;34m=\u001b[0m \u001b[0maccuracy_score\u001b[0m\u001b[0;34m(\u001b[0m\u001b[0my_true\u001b[0m\u001b[0;34m,\u001b[0m \u001b[0my_pred\u001b[0m\u001b[0;34m)\u001b[0m\u001b[0;34m\u001b[0m\u001b[0;34m\u001b[0m\u001b[0m\n\u001b[0;32m----> 3\u001b[0;31m \u001b[0mprecision\u001b[0m \u001b[0;34m=\u001b[0m \u001b[0mprecision_score\u001b[0m\u001b[0;34m(\u001b[0m\u001b[0my_true\u001b[0m\u001b[0;34m,\u001b[0m \u001b[0my_pred\u001b[0m\u001b[0;34m)\u001b[0m\u001b[0;34m\u001b[0m\u001b[0;34m\u001b[0m\u001b[0m\n\u001b[0m\u001b[1;32m      4\u001b[0m \u001b[0mrecall\u001b[0m \u001b[0;34m=\u001b[0m \u001b[0mrecall_score\u001b[0m\u001b[0;34m(\u001b[0m\u001b[0my_true\u001b[0m\u001b[0;34m,\u001b[0m \u001b[0my_pred\u001b[0m\u001b[0;34m)\u001b[0m\u001b[0;34m\u001b[0m\u001b[0;34m\u001b[0m\u001b[0m\n\u001b[1;32m      5\u001b[0m \u001b[0mf1\u001b[0m \u001b[0;34m=\u001b[0m \u001b[0mf1_score\u001b[0m\u001b[0;34m(\u001b[0m\u001b[0my_true\u001b[0m\u001b[0;34m,\u001b[0m \u001b[0my_pred\u001b[0m\u001b[0;34m)\u001b[0m\u001b[0;34m\u001b[0m\u001b[0;34m\u001b[0m\u001b[0m\n",
      "\u001b[0;31mNameError\u001b[0m: name 'precision_score' is not defined"
     ]
    }
   ],
   "source": [
    "# Metrics\n",
    "accuracy = accuracy_score(y_true, y_pred)\n",
    "precision = precision_score(y_true, y_pred)\n",
    "recall = recall_score(y_true, y_pred)\n",
    "f1 = f1_score(y_true, y_pred)\n",
    "try:\n",
    "    roc_auc = roc_auc_score(y_true, y_pred)\n",
    "except ValueError:\n",
    "    roc_auc = float('nan')  # AUC not computable if only 1 class present\n",
    "\n",
    "print(\"\\n--- Test Metrics ---\")\n",
    "print(f\"Accuracy : {accuracy:.4f}\")\n",
    "print(f\"Precision: {precision:.4f}\")\n",
    "print(f\"Recall   : {recall:.4f}\")\n",
    "print(f\"F1-score : {f1:.4f}\")\n",
    "print(f\"ROC AUC  : {roc_auc:.4f}\")"
   ]
  },
  {
   "cell_type": "code",
   "execution_count": null,
   "id": "f2a389e6",
   "metadata": {
    "_cell_guid": "8a567068-1db2-45fd-9ee8-01ca3cd98e94",
    "_uuid": "e94e2f85-19d8-4ca2-827b-6aa756f53cec",
    "collapsed": false,
    "execution": {
     "iopub.execute_input": "2025-04-29T16:30:51.943775Z",
     "iopub.status.busy": "2025-04-29T16:30:51.943516Z",
     "iopub.status.idle": "2025-04-29T16:30:52.154743Z",
     "shell.execute_reply": "2025-04-29T16:30:52.154104Z",
     "shell.execute_reply.started": "2025-04-29T16:30:51.943754Z"
    },
    "id": "BatVfk6-irG8",
    "jupyter": {
     "outputs_hidden": false
    },
    "papermill": {
     "duration": null,
     "end_time": null,
     "exception": null,
     "start_time": null,
     "status": "pending"
    },
    "tags": []
   },
   "outputs": [],
   "source": [
    "# Confusion matrix\n",
    "conf_matrix = confusion_matrix(y_true, y_pred)\n",
    "sns.heatmap(conf_matrix, annot=True, fmt='d', cmap='Blues')\n",
    "plt.title(\"Test Confusion Matrix\")\n",
    "plt.xlabel(\"Predicted\")\n",
    "plt.ylabel(\"True\")\n",
    "plt.show()"
   ]
  }
 ],
 "metadata": {
  "colab": {
   "name": "CNN_ANM",
   "provenance": []
  },
  "kaggle": {
   "accelerator": "gpu",
   "dataSources": [
    {
     "datasetId": 7276265,
     "sourceId": 11601721,
     "sourceType": "datasetVersion"
    },
    {
     "datasetId": 7276616,
     "sourceId": 11602172,
     "sourceType": "datasetVersion"
    },
    {
     "datasetId": 7276639,
     "sourceId": 11602206,
     "sourceType": "datasetVersion"
    }
   ],
   "dockerImageVersionId": 31011,
   "isGpuEnabled": true,
   "isInternetEnabled": true,
   "language": "python",
   "sourceType": "notebook"
  },
  "kernelspec": {
   "display_name": "Python 3",
   "language": "python",
   "name": "python3"
  },
  "language_info": {
   "codemirror_mode": {
    "name": "ipython",
    "version": 3
   },
   "file_extension": ".py",
   "mimetype": "text/x-python",
   "name": "python",
   "nbconvert_exporter": "python",
   "pygments_lexer": "ipython3",
   "version": "3.11.11"
  },
  "papermill": {
   "default_parameters": {},
   "duration": 32028.35026,
   "end_time": "2025-05-07T22:32:08.697817",
   "environment_variables": {},
   "exception": true,
   "input_path": "__notebook__.ipynb",
   "output_path": "__notebook__.ipynb",
   "parameters": {},
   "start_time": "2025-05-07T13:38:20.347557",
   "version": "2.6.0"
  }
 },
 "nbformat": 4,
 "nbformat_minor": 5
}
