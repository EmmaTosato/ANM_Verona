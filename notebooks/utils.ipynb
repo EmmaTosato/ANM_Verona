{
 "cells": [
  {
   "cell_type": "code",
   "id": "initial_id",
   "metadata": {
    "collapsed": true,
    "ExecuteTime": {
     "end_time": "2025-04-24T14:25:48.684314Z",
     "start_time": "2025-04-24T14:25:48.344206Z"
    }
   },
   "source": [
    "import random\n",
    "import pandas as pd"
   ],
   "outputs": [],
   "execution_count": 1
  },
  {
   "metadata": {
    "ExecuteTime": {
     "end_time": "2025-04-24T14:25:49.820845Z",
     "start_time": "2025-04-24T14:25:49.816408Z"
    }
   },
   "cell_type": "code",
   "source": [
    "hcp_list_path = '/data_utils/debugging/list_HCP.txt'\n",
    "n_augmentations = 10\n",
    "subset_size = 17\n",
    "csv_aug_path = '/data_utils/metadata/aug_tracking.csv'\n",
    "output_txt = \"/Users/emmatosato/Documents/PhD/ANM_Verona/data_utils/hcp_missing_report.txt\"\n",
    "csv_missing_path = \"/data_utils/debugging/missing_hcp.csv\""
   ],
   "id": "fb91f75b6821ae11",
   "outputs": [],
   "execution_count": 2
  },
  {
   "metadata": {},
   "cell_type": "markdown",
   "source": "## HCP List",
   "id": "a9f3738ce87703b4"
  },
  {
   "metadata": {
    "ExecuteTime": {
     "end_time": "2025-04-23T09:49:14.960715Z",
     "start_time": "2025-04-23T09:49:14.955264Z"
    }
   },
   "cell_type": "code",
   "source": [
    "# Read HCP file\n",
    "with open(hcp_list_path, \"r\") as f:\n",
    "    hcp_pool = [line.strip() for line in f.readlines()]\n",
    "\n",
    "random.seed(42)\n",
    "\n",
    "# Generate fixed HCP subsets that NOT overlap\n",
    "shuffled_hcp = random.sample(hcp_pool, n_augmentations * subset_size)\n",
    "\n",
    "hcp_subsets = [\n",
    "    shuffled_hcp[i * subset_size : (i + 1) * subset_size]\n",
    "    for i in range(n_augmentations)\n",
    "]"
   ],
   "id": "76c25420121151d",
   "outputs": [],
   "execution_count": 3
  },
  {
   "metadata": {
    "ExecuteTime": {
     "end_time": "2025-04-23T09:49:38.766431Z",
     "start_time": "2025-04-23T09:49:38.760799Z"
    }
   },
   "cell_type": "code",
   "source": "hcp_subsets",
   "id": "45cb2d9872d629e9",
   "outputs": [
    {
     "data": {
      "text/plain": [
       "[['901139',\n",
       "  '145834',\n",
       "  '109123',\n",
       "  '191336',\n",
       "  '180533',\n",
       "  '177645',\n",
       "  '155938',\n",
       "  '140117',\n",
       "  '725751',\n",
       "  '134627',\n",
       "  '818859',\n",
       "  '381038',\n",
       "  '114823',\n",
       "  '111514',\n",
       "  '134829',\n",
       "  '176542',\n",
       "  '178142'],\n",
       " ['601127',\n",
       "  '833249',\n",
       "  '943862',\n",
       "  '757764',\n",
       "  '169747',\n",
       "  '901442',\n",
       "  '380036',\n",
       "  '177140',\n",
       "  '401422',\n",
       "  '191841',\n",
       "  '102311',\n",
       "  '159239',\n",
       "  '898176',\n",
       "  '209228',\n",
       "  '771354',\n",
       "  '158136',\n",
       "  '871762'],\n",
       " ['205220',\n",
       "  '905147',\n",
       "  '872764',\n",
       "  '257845',\n",
       "  '135124',\n",
       "  '221319',\n",
       "  '212419',\n",
       "  '186949',\n",
       "  '116726',\n",
       "  '429040',\n",
       "  '146735',\n",
       "  '251833',\n",
       "  '115825',\n",
       "  '942658',\n",
       "  '157336',\n",
       "  '365343',\n",
       "  '200210'],\n",
       " ['199655',\n",
       "  '397760',\n",
       "  '389357',\n",
       "  '167440',\n",
       "  '192641',\n",
       "  '671855',\n",
       "  '214524',\n",
       "  '878877',\n",
       "  '108323',\n",
       "  '203418',\n",
       "  '146129',\n",
       "  '263436',\n",
       "  '550439',\n",
       "  '572045',\n",
       "  '393247',\n",
       "  '118225',\n",
       "  '169343'],\n",
       " ['910241',\n",
       "  '177746',\n",
       "  '200311',\n",
       "  '436845',\n",
       "  '131722',\n",
       "  '169040',\n",
       "  '167036',\n",
       "  '706040',\n",
       "  '204521',\n",
       "  '150423',\n",
       "  '214019',\n",
       "  '751550',\n",
       "  '200614',\n",
       "  '115017',\n",
       "  '197348',\n",
       "  '330324',\n",
       "  '132118'],\n",
       " ['187345',\n",
       "  '581450',\n",
       "  '318637',\n",
       "  '861456',\n",
       "  '360030',\n",
       "  '249947',\n",
       "  '246133',\n",
       "  '745555',\n",
       "  '951457',\n",
       "  '162935',\n",
       "  '878776',\n",
       "  '789373',\n",
       "  '105923',\n",
       "  '765864',\n",
       "  '171633',\n",
       "  '233326',\n",
       "  '782561'],\n",
       " ['144226',\n",
       "  '193845',\n",
       "  '562345',\n",
       "  '181232',\n",
       "  '899885',\n",
       "  '346137',\n",
       "  '130518',\n",
       "  '148133',\n",
       "  '541943',\n",
       "  '126931',\n",
       "  '283543',\n",
       "  '352738',\n",
       "  '192439',\n",
       "  '128935',\n",
       "  '178243',\n",
       "  '385046',\n",
       "  '239136'],\n",
       " ['814649',\n",
       "  '137128',\n",
       "  '690152',\n",
       "  '126426',\n",
       "  '927359',\n",
       "  '146937',\n",
       "  '724446',\n",
       "  '467351',\n",
       "  '104416',\n",
       "  '406836',\n",
       "  '654552',\n",
       "  '191033',\n",
       "  '825048',\n",
       "  '175237',\n",
       "  '158035',\n",
       "  '195041',\n",
       "  '412528'],\n",
       " ['173334',\n",
       "  '196144',\n",
       "  '627549',\n",
       "  '926862',\n",
       "  '100610',\n",
       "  '165436',\n",
       "  '644246',\n",
       "  '525541',\n",
       "  '130114',\n",
       "  '156334',\n",
       "  '169444',\n",
       "  '164131',\n",
       "  '573249',\n",
       "  '198653',\n",
       "  '463040',\n",
       "  '164636',\n",
       "  '125525'],\n",
       " ['320826',\n",
       "  '185442',\n",
       "  '201515',\n",
       "  '680957',\n",
       "  '131217',\n",
       "  '182739',\n",
       "  '770352',\n",
       "  '859671',\n",
       "  '732243',\n",
       "  '547046',\n",
       "  '182436',\n",
       "  '958976',\n",
       "  '102816',\n",
       "  '783462',\n",
       "  '172130',\n",
       "  '617748',\n",
       "  '395756']]"
      ]
     },
     "execution_count": 5,
     "metadata": {},
     "output_type": "execute_result"
    }
   ],
   "execution_count": 5
  },
  {
   "metadata": {
    "ExecuteTime": {
     "end_time": "2025-04-23T09:49:30.157418Z",
     "start_time": "2025-04-23T09:49:30.152861Z"
    }
   },
   "cell_type": "code",
   "outputs": [
    {
     "name": "stdout",
     "output_type": "stream",
     "text": [
      "Subsets are disjoint: no overlaps.\n"
     ]
    }
   ],
   "execution_count": 4,
   "source": [
    "# Flatten all subsets into a single list\n",
    "all_hcps = [hcp for subset in hcp_subsets for hcp in subset]\n",
    "\n",
    "# Compare total length vs. number of unique HCPs\n",
    "if len(all_hcps) == len(set(all_hcps)):\n",
    "    print(\"Subsets are disjoint: no overlaps.\")\n",
    "else:\n",
    "    print(\"Warning: there are overlapping HCPs between subsets.\")"
   ],
   "id": "cb146bad185ecd64"
  },
  {
   "metadata": {},
   "cell_type": "markdown",
   "source": "## Augmentation Check",
   "id": "381fb2282309431b"
  },
  {
   "metadata": {
    "ExecuteTime": {
     "end_time": "2025-04-24T10:47:31.401167Z",
     "start_time": "2025-04-24T10:47:31.392186Z"
    }
   },
   "cell_type": "code",
   "source": "df = pd.read_csv(csv_aug_path)",
   "id": "a12e018f2f006095",
   "outputs": [],
   "execution_count": 3
  },
  {
   "metadata": {
    "ExecuteTime": {
     "end_time": "2025-04-24T10:48:12.233532Z",
     "start_time": "2025-04-24T10:48:12.221040Z"
    }
   },
   "cell_type": "code",
   "source": "df.iloc[:5,:5]",
   "id": "b66a6a8018b6cf0d",
   "outputs": [
    {
     "data": {
      "text/plain": [
       "      subject  augmentation  \\\n",
       "0  002_S_4654             1   \n",
       "1  002_S_4654             2   \n",
       "2  002_S_4654             3   \n",
       "3  002_S_4654             4   \n",
       "4  002_S_4654             5   \n",
       "\n",
       "                                          hcp_subset  \\\n",
       "0  901139,145834,109123,191336,180533,177645,1559...   \n",
       "1  601127,833249,943862,757764,169747,901442,3800...   \n",
       "2  205220,905147,872764,257845,135124,221319,2124...   \n",
       "3  199655,397760,389357,167440,192641,671855,2145...   \n",
       "4  910241,177746,200311,436845,131722,169040,1670...   \n",
       "\n",
       "                                 expected_hcp_subset  \n",
       "0  901139,145834,109123,191336,180533,177645,1559...  \n",
       "1  601127,833249,943862,757764,169747,901442,3800...  \n",
       "2  205220,905147,872764,257845,135124,221319,2124...  \n",
       "3  199655,397760,389357,167440,192641,671855,2145...  \n",
       "4  910241,177746,200311,436845,131722,169040,1670...  "
      ],
      "text/html": [
       "<div>\n",
       "<style scoped>\n",
       "    .dataframe tbody tr th:only-of-type {\n",
       "        vertical-align: middle;\n",
       "    }\n",
       "\n",
       "    .dataframe tbody tr th {\n",
       "        vertical-align: top;\n",
       "    }\n",
       "\n",
       "    .dataframe thead th {\n",
       "        text-align: right;\n",
       "    }\n",
       "</style>\n",
       "<table border=\"1\" class=\"dataframe\">\n",
       "  <thead>\n",
       "    <tr style=\"text-align: right;\">\n",
       "      <th></th>\n",
       "      <th>subject</th>\n",
       "      <th>augmentation</th>\n",
       "      <th>hcp_subset</th>\n",
       "      <th>expected_hcp_subset</th>\n",
       "    </tr>\n",
       "  </thead>\n",
       "  <tbody>\n",
       "    <tr>\n",
       "      <th>0</th>\n",
       "      <td>002_S_4654</td>\n",
       "      <td>1</td>\n",
       "      <td>901139,145834,109123,191336,180533,177645,1559...</td>\n",
       "      <td>901139,145834,109123,191336,180533,177645,1559...</td>\n",
       "    </tr>\n",
       "    <tr>\n",
       "      <th>1</th>\n",
       "      <td>002_S_4654</td>\n",
       "      <td>2</td>\n",
       "      <td>601127,833249,943862,757764,169747,901442,3800...</td>\n",
       "      <td>601127,833249,943862,757764,169747,901442,3800...</td>\n",
       "    </tr>\n",
       "    <tr>\n",
       "      <th>2</th>\n",
       "      <td>002_S_4654</td>\n",
       "      <td>3</td>\n",
       "      <td>205220,905147,872764,257845,135124,221319,2124...</td>\n",
       "      <td>205220,905147,872764,257845,135124,221319,2124...</td>\n",
       "    </tr>\n",
       "    <tr>\n",
       "      <th>3</th>\n",
       "      <td>002_S_4654</td>\n",
       "      <td>4</td>\n",
       "      <td>199655,397760,389357,167440,192641,671855,2145...</td>\n",
       "      <td>199655,397760,389357,167440,192641,671855,2145...</td>\n",
       "    </tr>\n",
       "    <tr>\n",
       "      <th>4</th>\n",
       "      <td>002_S_4654</td>\n",
       "      <td>5</td>\n",
       "      <td>910241,177746,200311,436845,131722,169040,1670...</td>\n",
       "      <td>910241,177746,200311,436845,131722,169040,1670...</td>\n",
       "    </tr>\n",
       "  </tbody>\n",
       "</table>\n",
       "</div>"
      ]
     },
     "execution_count": 10,
     "metadata": {},
     "output_type": "execute_result"
    }
   ],
   "execution_count": 10
  },
  {
   "metadata": {
    "ExecuteTime": {
     "end_time": "2025-04-24T10:48:15.291850Z",
     "start_time": "2025-04-24T10:48:15.284971Z"
    }
   },
   "cell_type": "code",
   "source": [
    "# 1. Check: ogni soggetto ha 10 augmentation\n",
    "augment_per_subject = df.groupby(\"subject\")[\"augmentation\"].count()\n",
    "subjects_missing = augment_per_subject[augment_per_subject != 10]\n",
    "\n",
    "if subjects_missing.empty:\n",
    "    print(\"Tutti i soggetti hanno esattamente 10 augmentation.\")\n",
    "else:\n",
    "    print(\"Alcuni soggetti NON hanno 10 augmentation:\")\n",
    "    display(subjects_missing)"
   ],
   "id": "26798c9b0403d0cf",
   "outputs": [
    {
     "name": "stdout",
     "output_type": "stream",
     "text": [
      "Tutti i soggetti hanno esattamente 10 augmentation.\n"
     ]
    }
   ],
   "execution_count": 11
  },
  {
   "metadata": {
    "ExecuteTime": {
     "end_time": "2025-04-24T10:48:47.200375Z",
     "start_time": "2025-04-24T10:48:47.190840Z"
    }
   },
   "cell_type": "code",
   "source": [
    "# 2. Check: gli hcp_subset per ogni augmentation devono essere sempre gli stessi per tutti i soggetti\n",
    "expected_hcp_by_aug = df.groupby(\"augmentation\")[\"hcp_subset\"].agg(lambda x: x.mode().iloc[0])\n",
    "df[\"expected_hcp_subset\"] = df[\"augmentation\"].map(expected_hcp_by_aug)\n",
    "df_inconsistent = df[df[\"hcp_subset\"] != df[\"expected_hcp_subset\"]]\n",
    "\n",
    "if df_inconsistent.empty:\n",
    "    print(\"Gli stessi HCP sono stati usati per ogni augmentation in tutti i soggetti.\")\n",
    "else:\n",
    "    print(\"Alcune augmentation hanno gruppi HCP diversi tra soggetti\")"
   ],
   "id": "f5e8416b93b65904",
   "outputs": [
    {
     "name": "stdout",
     "output_type": "stream",
     "text": [
      "Alcune augmentation hanno gruppi HCP diversi tra soggetti\n"
     ]
    }
   ],
   "execution_count": 14
  },
  {
   "metadata": {
    "ExecuteTime": {
     "end_time": "2025-04-24T10:48:48.390798Z",
     "start_time": "2025-04-24T10:48:48.386122Z"
    }
   },
   "cell_type": "code",
   "source": [
    "incosistent_subject = df_inconsistent[\"subject\"].unique()\n",
    "print(\"Soggetti con inconsistenze negli HCP subset:\")\n",
    "print(incosistent_subject)"
   ],
   "id": "1d3de7687ec75d72",
   "outputs": [
    {
     "name": "stdout",
     "output_type": "stream",
     "text": [
      "Soggetti con inconsistenze negli HCP subset:\n",
      "['3_S_5003' '4_S_5003' '4_S_5005' '4_S_5007' '4_S_5008']\n"
     ]
    }
   ],
   "execution_count": 15
  },
  {
   "metadata": {
    "ExecuteTime": {
     "end_time": "2025-04-24T10:48:51.779315Z",
     "start_time": "2025-04-24T10:48:51.772329Z"
    }
   },
   "cell_type": "code",
   "source": "df_inconsistent.iloc[:1,:]['hcp_subset'].values[0]",
   "id": "bea172e1b1af7ef",
   "outputs": [
    {
     "data": {
      "text/plain": [
       "'901139,109123,725751,134627,381038,111514,134829,176542'"
      ]
     },
     "execution_count": 16,
     "metadata": {},
     "output_type": "execute_result"
    }
   ],
   "execution_count": 16
  },
  {
   "metadata": {
    "ExecuteTime": {
     "end_time": "2025-04-24T10:48:52.919231Z",
     "start_time": "2025-04-24T10:48:52.914401Z"
    }
   },
   "cell_type": "code",
   "source": "df_inconsistent.iloc[:1,:]['expected_hcp_subset'].values[0]",
   "id": "a62256e241da367c",
   "outputs": [
    {
     "data": {
      "text/plain": [
       "'901139,145834,109123,191336,180533,177645,155938,140117,725751,134627,818859,381038,114823,111514,134829,176542,178142'"
      ]
     },
     "execution_count": 17,
     "metadata": {},
     "output_type": "execute_result"
    }
   ],
   "execution_count": 17
  },
  {
   "metadata": {
    "ExecuteTime": {
     "end_time": "2025-04-24T11:12:15.526048Z",
     "start_time": "2025-04-24T11:12:15.452486Z"
    }
   },
   "cell_type": "code",
   "source": [
    "# Funzione per calcolare i veri mancanti\n",
    "def get_missing_hcps(expected, actual):\n",
    "    expected_set = set(expected.split(\",\"))\n",
    "    actual_set = set(actual.split(\",\"))\n",
    "    return sorted(list(expected_set - actual_set))\n",
    "\n",
    "# Report\n",
    "with open(output_txt, \"w\") as f:\n",
    "    for subject in df[\"subject\"].unique():\n",
    "        subj_df = df[(df[\"subject\"] == subject) & (df[\"hcp_subset\"] != df[\"expected_hcp_subset\"])]\n",
    "        if subj_df.empty:\n",
    "            continue\n",
    "        f.write(f\"soggetto {subject}\\n\")\n",
    "        for _, row in subj_df.iterrows():\n",
    "            missing = get_missing_hcps(row[\"expected_hcp_subset\"], row[\"hcp_subset\"])\n",
    "            f.write(f\"Augmentation {int(row['augmentation'])}\\n\")\n",
    "            f.write(f\"File HCP mancanti: {','.join(missing)}\\n\\n\")\n",
    "        f.write(\"-\" * 30 + \"\\n\\n\")\n",
    "\n",
    "print(f\"Report corretto salvato in: {output_txt}\")"
   ],
   "id": "60a9dcd882ce2348",
   "outputs": [
    {
     "name": "stdout",
     "output_type": "stream",
     "text": [
      "Report corretto salvato in: /Users/emmatosato/Documents/PhD/ANM_Verona/data_utils/hcp_missing_report.txt\n"
     ]
    }
   ],
   "execution_count": 24
  },
  {
   "metadata": {
    "ExecuteTime": {
     "end_time": "2025-04-24T12:00:06.867597Z",
     "start_time": "2025-04-24T12:00:06.857060Z"
    }
   },
   "cell_type": "code",
   "source": [
    "# Dizionario: soggetto → set di HCP mancanti (accumulati da più augmentations)\n",
    "missing_dict = {}\n",
    "\n",
    "for _, row in df_inconsistent.iterrows():\n",
    "    subject = row[\"subject\"]\n",
    "    missing = set(get_missing_hcps(row[\"expected_hcp_subset\"], row[\"hcp_subset\"]))\n",
    "    if subject not in missing_dict:\n",
    "        missing_dict[subject] = set()\n",
    "    missing_dict[subject].update(missing)\n",
    "\n",
    "# Costruzione del DataFrame e salvataggio\n",
    "rows = [{\"subject\": subj, \"missing_hcp\": \",\".join(sorted(missing_dict[subj]))} for subj in missing_dict]\n",
    "df_missing = pd.DataFrame(rows)\n",
    "df_missing.to_csv(csv_missing_path, index=False)\n",
    "\n",
    "print(f\"CSV con HCP mancanti salvato in: {csv_missing_path}\")"
   ],
   "id": "6147db4dcf0f34ef",
   "outputs": [
    {
     "name": "stdout",
     "output_type": "stream",
     "text": [
      "CSV con HCP mancanti salvato in: /Users/emmatosato/Documents/PhD/ANM_Verona/data_utils/missing_hcp.csv\n"
     ]
    }
   ],
   "execution_count": 32
  },
  {
   "metadata": {},
   "cell_type": "markdown",
   "source": "## Comparing HCPs and SCA files missing",
   "id": "8120d838ca7349fd"
  },
  {
   "metadata": {
    "ExecuteTime": {
     "end_time": "2025-04-24T14:26:07.661196Z",
     "start_time": "2025-04-24T14:26:07.651983Z"
    }
   },
   "cell_type": "code",
   "source": [
    "# Percorsi ai file\n",
    "missing_sca_path = \"/Users/emmatosato/Documents/PhD/ANM_Verona/data_utils/debugging/missing_SCA_files.csv\"\n",
    "missing_hcp_path = \"/Users/emmatosato/Documents/PhD/ANM_Verona/data_utils/debugging/missing_hcp.csv\"\n",
    "output_txt_path = \"/Users/emmatosato/Documents/PhD/ANM_Verona/data_utils/debugging/final_comparation.txt\"\n",
    "\n",
    "# Caricamento dei CSV\n",
    "df_sca = pd.read_csv(missing_sca_path)  # Contiene SCA mancanti\n",
    "df_hcp = pd.read_csv(missing_hcp_path)  # Contiene HCP mancanti post-augmentation\n",
    "\n",
    " # Lista globale per accumulare tutti gli SCA che non sono nei missing HCP\n",
    "all_sca_not_in_hcp = set()\n",
    "\n",
    "# Apertura file di output\n",
    "with open(output_txt_path, \"w\") as f:\n",
    "    # Iterazione con contatore numerato per ogni soggetto\n",
    "    for idx, subject in enumerate(df_sca[\"subject\"], start=1):\n",
    "        sca_row = df_sca[df_sca[\"subject\"] == subject].iloc[0]  # Riga dei missing SCA\n",
    "        hcp_row = df_hcp[df_hcp[\"subject\"] == subject]          # Riga dei missing HCP\n",
    "\n",
    "        # Parsing delle stringhe in insiemi\n",
    "        sca_missing = set(sca_row[\"SCA_files_missing\"].split(\",\"))\n",
    "        hcp_missing = set()\n",
    "\n",
    "        if not hcp_row.empty:\n",
    "            hcp_missing = set(hcp_row[\"missing_hcp\"].iloc[0].split(\",\"))\n",
    "\n",
    "        f.write(f\"{idx}) Subject: {subject}\\n\")\n",
    "\n",
    "        # Lista per ID che mancano nei SCA ma non nei missing_hcp\n",
    "        sca_not_in_hcp = []\n",
    "\n",
    "        # Controllo 1:1 tra ogni SCA ID e quelli HCP\n",
    "        for sca_id in sorted(sca_missing):\n",
    "            if sca_id in hcp_missing:\n",
    "                f.write(f\"- Missing SCA {sca_id} --> Missing hcp after augmentation\\n\")\n",
    "            else:\n",
    "                f.write(f\"- Missing SCA {sca_id} --> NOT Missing hcp after augmentation\\n\")\n",
    "                sca_not_in_hcp.append(sca_id)\n",
    "                all_sca_not_in_hcp.add(sca_id)\n",
    "\n",
    "        # Eventuale stampa dei missing in SCA e non HCP after augmentation\n",
    "        extra_hcp = sorted(hcp_missing - sca_missing)\n",
    "        if extra_hcp:\n",
    "            f.write(\"\\n------------------\\n\")\n",
    "            f.write(\"HCP missing after augmentation BUT not in SCA missing:\\n\")\n",
    "            f.write(\", \".join(extra_hcp) + \"\\n\")\n",
    "\n",
    "        # Stampa finale della lista accumulata\n",
    "        if sca_not_in_hcp:\n",
    "            f.write(\"\\nSoggetti che NON mancano dopo augmentation ma di cui mancano gli SCA files:\\n\")\n",
    "            f.write(\", \".join(sca_not_in_hcp) + \"\\n\")\n",
    "\n",
    "        # Separatore blocco soggetto\n",
    "        f.write(\"-\" * 50 + \"\\n\\n\")\n",
    "\n",
    "print(f\"Comparazione completata e salvata in: {output_txt_path}\")"
   ],
   "id": "2b93cc6d6043641d",
   "outputs": [
    {
     "name": "stdout",
     "output_type": "stream",
     "text": [
      "Comparazione completata e salvata in: /Users/emmatosato/Documents/PhD/ANM_Verona/data_utils/debugging/final_comparation.txt\n"
     ]
    }
   ],
   "execution_count": 4
  },
  {
   "metadata": {},
   "cell_type": "markdown",
   "source": "HCP missing from both",
   "id": "edef6a75978e26d"
  },
  {
   "metadata": {
    "ExecuteTime": {
     "end_time": "2025-04-24T14:26:19.109047Z",
     "start_time": "2025-04-24T14:26:19.101917Z"
    }
   },
   "cell_type": "code",
   "source": "all_sca_not_in_hcp",
   "id": "1e5cc350a06f3151",
   "outputs": [
    {
     "data": {
      "text/plain": [
       "{'146432', '178647', '826353'}"
      ]
     },
     "execution_count": 5,
     "metadata": {},
     "output_type": "execute_result"
    }
   ],
   "execution_count": 5
  },
  {
   "metadata": {},
   "cell_type": "markdown",
   "source": "## HCP subsets",
   "id": "57f0b1657d00664c"
  },
  {
   "metadata": {},
   "cell_type": "markdown",
   "source": "",
   "id": "849a6bfdf66c608b"
  },
  {
   "metadata": {
    "ExecuteTime": {
     "end_time": "2025-04-24T14:26:36.676176Z",
     "start_time": "2025-04-24T14:26:36.667664Z"
    }
   },
   "cell_type": "code",
   "source": [
    "aug1 = ['901139', '145834', '109123', '191336', '180533', '177645', '155938', '140117', '725751', '134627', '818859', '381038', '114823', '111514', '134829', '176542', '178142']\n",
    "aug2 = ['601127', '833249', '943862', '757764', '169747', '901442', '380036', '177140', '401422', '191841', '102311', '159239', '898176', '209228', '771354', '158136', '871762']\n",
    "aug3 = ['205220', '905147', '872764', '257845', '135124', '221319', '212419', '186949', '116726', '429040', '146735', '251833', '115825', '942658', '157336', '365343', '200210']\n",
    "aug4 = ['199655', '397760', '389357', '167440', '192641', '671855', '214524', '878877', '108323', '203418', '146129', '263436', '550439', '572045', '393247', '118225', '169343']\n",
    "aug5 = ['910241', '177746', '200311', '436845', '131722', '169040', '167036', '706040', '204521', '150423', '214019', '751550', '200614', '115017', '197348', '330324', '132118']\n",
    "aug6 = ['187345', '581450', '318637', '861456', '360030', '249947', '246133', '745555', '951457', '162935', '878776', '789373', '105923', '765864', '171633', '233326', '782561']\n",
    "aug7 = ['144226', '193845', '562345', '181232', '899885', '346137', '130518', '148133', '541943', '126931', '283543', '352738', '192439', '128935', '178243', '385046', '239136']\n",
    "aug8 = ['814649', '137128', '690152', '126426', '927359', '146937', '724446', '467351', '104416', '406836', '654552', '191033', '825048', '175237', '158035', '195041', '412528']\n",
    "aug9 = ['173334', '196144', '627549', '926862', '100610', '165436', '644246', '525541', '130114', '156334', '169444', '164131', '573249', '198653', '463040', '164636', '125525']\n",
    "aug10 = ['320826', '185442', '201515', '680957', '131217', '182739', '770352', '859671', '732243', '547046', '182436', '958976', '102816', '783462', '172130', '617748', '395756']"
   ],
   "id": "e2b21443a2828014",
   "outputs": [],
   "execution_count": 6
  },
  {
   "metadata": {
    "ExecuteTime": {
     "end_time": "2025-04-24T14:26:37.759364Z",
     "start_time": "2025-04-24T14:26:37.754697Z"
    }
   },
   "cell_type": "code",
   "source": [
    "lengths = [len(aug1), len(aug2), len(aug3), len(aug4), len(aug5),\n",
    "           len(aug6), len(aug7), len(aug8), len(aug9), len(aug10)]\n",
    "\n",
    "for i, l in enumerate(lengths, start=1):\n",
    "    print(f\"aug{i} length: {l}\")\n"
   ],
   "id": "72861551ec32c79d",
   "outputs": [
    {
     "name": "stdout",
     "output_type": "stream",
     "text": [
      "aug1 length: 17\n",
      "aug2 length: 17\n",
      "aug3 length: 17\n",
      "aug4 length: 17\n",
      "aug5 length: 17\n",
      "aug6 length: 17\n",
      "aug7 length: 17\n",
      "aug8 length: 17\n",
      "aug9 length: 17\n",
      "aug10 length: 17\n"
     ]
    }
   ],
   "execution_count": 7
  },
  {
   "metadata": {
    "ExecuteTime": {
     "end_time": "2025-04-24T14:26:38.587367Z",
     "start_time": "2025-04-24T14:26:38.582077Z"
    }
   },
   "cell_type": "code",
   "source": [
    "# Lista di tutti i subset\n",
    "augmentations = [aug1, aug2, aug3, aug4, aug5, aug6, aug7, aug8, aug9, aug10]\n",
    "\n",
    "# Controllo duplicati per ogni subset\n",
    "for i, aug in enumerate(augmentations, start=1):\n",
    "    duplicates = [x for x in set(aug) if aug.count(x) > 1]\n",
    "    if duplicates:\n",
    "        print(f\"Duplicati trovati in aug{i}: {duplicates}\")\n",
    "    else:\n",
    "        print(f\"Nessun duplicato in aug{i}\")\n"
   ],
   "id": "683a1953a0195269",
   "outputs": [
    {
     "name": "stdout",
     "output_type": "stream",
     "text": [
      "Nessun duplicato in aug1\n",
      "Nessun duplicato in aug2\n",
      "Nessun duplicato in aug3\n",
      "Nessun duplicato in aug4\n",
      "Nessun duplicato in aug5\n",
      "Nessun duplicato in aug6\n",
      "Nessun duplicato in aug7\n",
      "Nessun duplicato in aug8\n",
      "Nessun duplicato in aug9\n",
      "Nessun duplicato in aug10\n"
     ]
    }
   ],
   "execution_count": 8
  },
  {
   "metadata": {
    "ExecuteTime": {
     "end_time": "2025-04-24T14:26:53.016084Z",
     "start_time": "2025-04-24T14:26:53.012376Z"
    }
   },
   "cell_type": "code",
   "source": [
    "# 1. Unisci tutti i subset in una lista unica\n",
    "all_aug_hcp = set(aug1 + aug2 + aug3 + aug4 + aug5 + aug6 + aug7 + aug8 + aug9 + aug10)\n",
    "\n",
    "# 2. Carica la lista completa da file\n",
    "with open(\"/Users/emmatosato/Documents/PhD/ANM_Verona/data_utils/debugging/list_HCP.txt\", \"r\") as f:\n",
    "    full_hcp_list = set([line.strip() for line in f.readlines()])\n",
    "\n",
    "# 3. Confronto: quali HCP mancano nei subset\n",
    "missing_from_aug = sorted(full_hcp_list - all_aug_hcp)\n",
    "\n",
    "print(\"HCP presenti nel file ma ASSENTI nei 10 subset:\")\n",
    "for hcp in missing_from_aug:\n",
    "    print(hcp)\n",
    "\n",
    "print(f\"\\nTotale mancanti: {len(missing_from_aug)}\")"
   ],
   "id": "6867c8177dab5f1",
   "outputs": [
    {
     "name": "stdout",
     "output_type": "stream",
     "text": [
      "HCP presenti nel file ma ASSENTI nei 10 subset:\n",
      "146432\n",
      "178647\n",
      "826353\n",
      "\n",
      "Totale mancanti: 3\n"
     ]
    }
   ],
   "execution_count": 10
  }
 ],
 "metadata": {
  "kernelspec": {
   "display_name": "Python 3",
   "language": "python",
   "name": "python3"
  },
  "language_info": {
   "codemirror_mode": {
    "name": "ipython",
    "version": 2
   },
   "file_extension": ".py",
   "mimetype": "text/x-python",
   "name": "python",
   "nbconvert_exporter": "python",
   "pygments_lexer": "ipython2",
   "version": "2.7.6"
  }
 },
 "nbformat": 4,
 "nbformat_minor": 5
}
