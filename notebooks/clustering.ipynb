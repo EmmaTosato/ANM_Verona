{
 "cells": [
  {
   "metadata": {},
   "cell_type": "markdown",
   "source": "### Input Data",
   "id": "80492a554353d9d1"
  },
  {
   "metadata": {},
   "cell_type": "markdown",
   "source": [
    "For the further analysis we will remove the ID labels columns, but the order is mantained.\n",
    "#\n",
    "Possible dataset from mean maps:\n",
    "- `df_thr01_gm_masked`\n",
    "- `df_thr02_gm_masked`\n",
    "- `df_thr01_har_masked`\n",
    "- `df_thr02_har_masked`\n",
    "- `df_gm_masked`\n",
    "- `df_har_masked`\n",
    "#\n",
    "Possible dataset from mean network:\n",
    "- `df_networks_no_thr`\n",
    "- `df_networks_thr01`\n",
    "- `df_networks_thr02`\n",
    "#\n",
    "Here we go with one example"
   ],
   "id": "32a7be67a71cb878"
  },
  {
   "metadata": {},
   "cell_type": "code",
   "outputs": [],
   "execution_count": null,
   "source": [
    "def features_merging(df_voxel, df_labels):\n",
    "    # Meta columns\n",
    "    meta_columns = list(df_labels.columns)\n",
    "\n",
    "    # Merge based on subject ID\n",
    "    dataframe_merge = pd.merge(df_voxel, df_labels, on='ID', how='left', validate='one_to_one')\n",
    "\n",
    "    # Reorder columns: metadata first, then voxel features\n",
    "    ordered_cols = meta_columns + [col for col in dataframe_merge.columns if col not in meta_columns]\n",
    "    dataframe_merge = dataframe_merge[ordered_cols]\n",
    "\n",
    "    # Sanity check to ensure row alignment\n",
    "    assert (dataframe_merge['ID'].values == df_voxel['ID'].values).all(), \"Row order mismatch after merge\"\n",
    "\n",
    "    # Extract features only (drop metadata)\n",
    "    x = dataframe_merge.drop(columns=meta_columns)\n",
    "\n",
    "    return dataframe_merge, x"
   ],
   "id": "a391f2c82ac2a6d9"
  },
  {
   "metadata": {},
   "cell_type": "code",
   "outputs": [],
   "execution_count": null,
   "source": [
    "# Function for skipping the preprocessing step above\n",
    "def open_dataframes(path_data, path_metadata):\n",
    "    df_masked = pd.read_pickle(path_data)\n",
    "    df_meta = pd.read_csv(path_metadata)\n",
    "\n",
    "    return df_masked, df_meta"
   ],
   "id": "7d68610312d55f47"
  },
  {
   "metadata": {},
   "cell_type": "code",
   "outputs": [],
   "execution_count": null,
   "source": [
    "# Load dataframes\n",
    "df_gm, df_meta = open_dataframes(path_df_gm, path_df_meta)\n",
    "\n",
    "# Merge with metadata\n",
    "df_merged, X = features_merging(df_gm, df_meta)"
   ],
   "id": "49d5f1dd8844f317"
  },
  {
   "metadata": {},
   "cell_type": "markdown",
   "source": "## Dimensionality Reduction",
   "id": "99ba9bf54fa4b51b"
  },
  {
   "metadata": {},
   "cell_type": "markdown",
   "source": "UMAP is not changing the order of the rows so each row correspond to the previous subject in the not reduced dataset.",
   "id": "a807ed987cdddfd8"
  },
  {
   "metadata": {},
   "cell_type": "code",
   "outputs": [],
   "execution_count": null,
   "source": "np.random.seed(42)",
   "id": "91d4481f7d4e2329"
  },
  {
   "metadata": {},
   "cell_type": "code",
   "outputs": [],
   "execution_count": null,
   "source": "umap_params = {'n_neighbors': 15, 'n_components': 2, 'metric': 'euclidean', 'n_epochs': 1000, 'learning_rate': 1.0, 'init': 'spectral', 'min_dist': 0.1, 'spread': 1.0, 'low_memory': False, 'set_op_mix_ratio': 1.0, 'local_connectivity': 1, 'repulsion_strength': 1.0, 'negative_sample_rate': 5, 'transform_queue_size': 4.0, 'a': None, 'b': None, 'random_state': 42, 'metric_kwds': None, 'angular_rp_forest': False, 'target_n_neighbors': -1, 'transform_seed': 42, 'verbose': False, 'unique': False}",
   "id": "f001e614a094deb1"
  },
  {
   "metadata": {},
   "cell_type": "code",
   "outputs": [],
   "execution_count": null,
   "source": [
    "# Parameters\n",
    "reducer = umap.UMAP(**umap_params)\n",
    "\n",
    "# Fit the model\n",
    "X_umap = reducer.fit_transform(X)"
   ],
   "id": "f87a43743c638380"
  },
  {
   "metadata": {},
   "cell_type": "code",
   "outputs": [],
   "execution_count": null,
   "source": [
    "plt.figure(figsize=(6, 4))\n",
    "plt.scatter(X_umap[:, 0], X_umap[:, 1], s=10, alpha=0.6)\n",
    "plt.title(\"UMAP Embedding\")\n",
    "plt.xlabel(\"UMAP 1\")\n",
    "plt.ylabel(\"UMAP 2\")\n",
    "plt.grid(True)\n",
    "plt.show()"
   ],
   "id": "479f821e67c45cbd"
  },
  {
   "metadata": {},
   "cell_type": "markdown",
   "source": "## Unsupervised Clustering",
   "id": "d54dc7532a5eeb60"
  },
  {
   "metadata": {},
   "cell_type": "markdown",
   "source": "### Fit models",
   "id": "90241d3c949bb798"
  },
  {
   "metadata": {},
   "cell_type": "code",
   "outputs": [],
   "execution_count": null,
   "source": [
    "# HDBSCAN\n",
    "cluster_hdb = hdbscan.HDBSCAN(min_cluster_size=5)\n",
    "labels_hdb = cluster_hdb.fit_predict(X_umap)\n",
    "\n",
    "# DBSCAN\n",
    "clusterer_db = DBSCAN(eps=0.5, min_samples=5)\n",
    "labels_db = clusterer_db.fit_predict(X_umap)\n",
    "\n",
    "# K-Means\n",
    "kmeans = KMeans(n_clusters=3, random_state=42)\n",
    "labels_km = kmeans.fit_predict(X_umap)\n",
    "\n",
    "# GMM\n",
    "gmm = GaussianMixture(n_components=3, random_state=42)\n",
    "labels_gmm = gmm.fit_predict(X_umap)"
   ],
   "id": "46f8539223752cb2"
  },
  {
   "metadata": {},
   "cell_type": "markdown",
   "source": "Result collection",
   "id": "241a090c512de43d"
  },
  {
   "metadata": {},
   "cell_type": "code",
   "outputs": [],
   "execution_count": null,
   "source": [
    "labels_dict = {\n",
    "    \"HDBSCAN\": labels_hdb,\n",
    "    #\"DBSCAN\": labels_db,\n",
    "    \"K-Means\": labels_km,\n",
    "    #\"GMM\": labels_gmm\n",
    "}"
   ],
   "id": "2fac61edd83dd66f"
  },
  {
   "metadata": {},
   "cell_type": "code",
   "outputs": [],
   "execution_count": null,
   "source": [
    "labels_df = pd.DataFrame({\n",
    "    'ID': df_merged['ID'],\n",
    "    'Group': df_merged['Group'],\n",
    "    'CDR_SB': df_merged['CDR_SB'],\n",
    "    'MMSE': df_merged['MMSE'],\n",
    "    'labels_gmm_cdr': df_merged['labels_gmm_cdr'],\n",
    "    'HDBSCAN': labels_hdb,\n",
    "    'DBSCAN': labels_db,\n",
    "    'KMeans': labels_km,\n",
    "    'GMM': labels_gmm\n",
    "})\n",
    "\n",
    "#labels_df.to_csv(\"/Users/emmatosato/Documents/PhD/ANM_Verona/utils/clustering_labels_by_ID.csv\", index=False)"
   ],
   "id": "902f663f7a5fbf7d"
  },
  {
   "metadata": {},
   "cell_type": "code",
   "outputs": [],
   "execution_count": null,
   "source": [
    "# HDBSCAN optimal clusters\n",
    "labels_hdb, n_hdb = evaluate_hdbscan(X_umap, min_cluster_size=5)"
   ],
   "id": "98d59675b300a3eb"
  },
  {
   "metadata": {},
   "cell_type": "markdown",
   "source": "### Optimal number of clusters",
   "id": "c908bb73524d5df2"
  },
  {
   "metadata": {},
   "cell_type": "code",
   "outputs": [],
   "execution_count": null,
   "source": [
    "# K-Means optimal clusters\n",
    "#inertias, sil_scores = evaluate_kmeans(X_umap,K_range=range(2, 11),save_path=None,prefix= \"gm\",plot_flag=True)\n",
    "\n",
    "# GMM optimal clusters\n",
    "#aic, bic = evaluate_gmm(X_umap, K_range=range(2, 11), save_path=None, prefix=\"gm\",plot_flag=True)\n",
    "\n",
    "# Consenus clustering\n",
    "#stability_scores = evaluate_consensus(X_umap,K_range=range(2, 11),n_runs=100,save_path=None,prefix='gm',plot_flag=True)"
   ],
   "id": "86230c70edd9c7f0"
  },
  {
   "metadata": {},
   "cell_type": "markdown",
   "source": "### Plotting",
   "id": "3b6c7660f1500ba2"
  },
  {
   "metadata": {},
   "cell_type": "code",
   "outputs": [],
   "execution_count": null,
   "source": [
    "def plot_clusters_vs_labels(x_umap, labels_dictionary, label_source_df, label_column, figsize=(16, 24), margin=5):\n",
    "    n = len(labels_dictionary)\n",
    "    n_cols = 2\n",
    "    n_rows = n\n",
    "\n",
    "    x_min, x_max = x_umap[:, 0].min() - margin, x_umap[:, 0].max() + margin\n",
    "    y_min, y_max = x_umap[:, 1].min() - margin, x_umap[:, 1].max() + margin\n",
    "\n",
    "    fig, axes = plt.subplots(n_rows, n_cols, figsize=figsize)\n",
    "\n",
    "    for i, (title, labels) in enumerate(labels_dictionary.items()):\n",
    "        ax_left = axes[i, 0]\n",
    "        ax_right = axes[i, 1]\n",
    "\n",
    "        plot_df = pd.DataFrame({\n",
    "            'X1': x_umap[:, 0],\n",
    "            'X2': x_umap[:, 1],\n",
    "            'cluster': labels,\n",
    "            'label': label_source_df[label_column].reset_index(drop=True)\n",
    "        })\n",
    "\n",
    "        sns.scatterplot(data=plot_df, x='X1', y='X2', hue='cluster', palette='Set1', s=50, ax=ax_left, legend='full')\n",
    "        ax_left.set_title(f'{title} - Clustering')\n",
    "        ax_left.set_xlim(x_min, x_max)\n",
    "        ax_left.set_ylim(y_min, y_max)\n",
    "        ax_left.set_xlabel(\"UMAP 1\")\n",
    "        ax_left.set_ylabel(\"UMAP 2\")\n",
    "\n",
    "        sns.scatterplot(data=plot_df, x='X1', y='X2', hue='label', palette='Set2', s=50, ax=ax_right, legend='full')\n",
    "        ax_right.set_title(f'{title} - {label_column}')\n",
    "        ax_right.set_xlim(x_min, x_max)\n",
    "        ax_right.set_ylim(y_min, y_max)\n",
    "        ax_right.set_xlabel(\"UMAP 1\")\n",
    "        ax_right.set_ylabel(\"UMAP 2\")\n",
    "\n",
    "    plt.tight_layout()\n",
    "    plt.show()"
   ],
   "id": "e3c5f8930e16b9d8"
  },
  {
   "metadata": {},
   "cell_type": "code",
   "outputs": [],
   "execution_count": null,
   "source": "#plot_clusters_vs_labels(X_umap, labels_dict, df_merged, label_column='labels_gmm_cdr', margin=1.5)",
   "id": "b51b7fd45c703f27"
  },
  {
   "metadata": {},
   "cell_type": "code",
   "outputs": [],
   "execution_count": null,
   "source": "#plot_clusters_vs_labels(X_umap, labels_dict, df_merged, label_column='Group', margin=2.5)",
   "id": "379647ba17e7d8ff"
  },
  {
   "metadata": {},
   "cell_type": "code",
   "outputs": [],
   "execution_count": null,
   "source": "plot_clusters_vs_groups(X_umap, labels_dict, labels_df['Group'], save_path = None, title_prefix ='Prova', margin = 2.0, plot_flag=True)",
   "id": "97e4f0c0e783a817"
  },
  {
   "metadata": {},
   "cell_type": "code",
   "outputs": [],
   "execution_count": null,
   "source": "plot_clusters_vs_groups(X_umap, labels_dict, labels_df['labels_gmm_cdr'], save_path = None, title_prefix =None, margin= 2.0, plot_flag=True, colors_gmm= True)",
   "id": "188546b0bd70e47d"
  },
  {
   "metadata": {},
   "cell_type": "markdown",
   "source": "### Statistical Evaluation",
   "id": "8021aed2129c14e1"
  },
  {
   "metadata": {},
   "cell_type": "markdown",
   "source": "##### Do clusters separate diagnoses?",
   "id": "e065775cf4e2b5e8"
  },
  {
   "metadata": {},
   "cell_type": "code",
   "outputs": [],
   "execution_count": null,
   "source": [
    "diagnoses = ['ADNI', 'CBS', 'PSP']\n",
    "\n",
    "for diag in diagnoses:\n",
    "    print(f\"\\n=== Chi-squared test for {diag} ===\")\n",
    "\n",
    "    # Crea colonna binaria con etichette leggibili\n",
    "    labels_df[f'{diag}_label'] = labels_df['Group'].apply(lambda x: diag if x == diag else 'other')\n",
    "\n",
    "    # Tabella di contingenza: Cluster vs (diag vs other)\n",
    "    contingency = pd.crosstab(labels_df['KMeans'], labels_df[f'{diag}_label'])\n",
    "    print(\"Contingency Table:\")\n",
    "    print(contingency)\n",
    "\n",
    "    # Chi-squared test\n",
    "    chi2, p_value, dof, expected = chi2_contingency(contingency)\n",
    "\n",
    "    # Output\n",
    "    print(f\"\\nChi² = {chi2:.4f}\")\n",
    "    print(f\"p-value = {p_value:.4f}\")\n",
    "    print(f\"Degrees of Freedom = {dof}\")"
   ],
   "id": "534353a90ccf769f"
  }
 ],
 "metadata": {},
 "nbformat": 5,
 "nbformat_minor": 9
}
