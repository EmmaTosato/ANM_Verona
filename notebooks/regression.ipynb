{
 "cells": [
  {
   "metadata": {},
   "cell_type": "code",
   "outputs": [],
   "execution_count": null,
   "source": "",
   "id": "a075839777838d8e"
  },
  {
   "metadata": {},
   "cell_type": "markdown",
   "source": [
    "## Linear Regression\n",
    "- Select dataframe and target variable\n",
    "- OLS\n",
    "- Plot\n",
    "- Shuffling"
   ],
   "id": "671ad6c4bc5e86c9"
  },
  {
   "metadata": {},
   "cell_type": "markdown",
   "source": "### Data",
   "id": "8a39fd18a571c8b6"
  },
  {
   "metadata": {},
   "cell_type": "code",
   "outputs": [],
   "execution_count": null,
   "source": [
    "# Load data\n",
    "df_gm, df_meta = open_dataframes(path_df_gm, path_df_meta)\n",
    "\n",
    "# Remove subjects with NaN values\n",
    "target_col = \"CDR_SB\"\n",
    "df_gm_regr = remove_missing_values(df_gm, df_meta, target_col)\n",
    "\n",
    "# Features\n",
    "df_merged, X = features_merging(df_gm_regr, df_meta)\n",
    "\n",
    "# Print shapes\n",
    "print(\"Old shape of the dataframe (data + ID): \", df_gm.shape)\n",
    "print(\"New shape of the dataframe (data + ID): \", df_gm_regr.shape)\n",
    "print(\"Shape of the complete dataframe (data + ID + metadata): \", df_merged.shape)\n",
    "print(\"Shape of the metadata (ID included): \", df_meta.shape)\n",
    "print(\"Shape of the input data X: \", X.shape)"
   ],
   "id": "3a1ae13f522982b1"
  },
  {
   "metadata": {},
   "cell_type": "markdown",
   "source": "### All subjects",
   "id": "eaffd9948976eb5a"
  },
  {
   "metadata": {},
   "cell_type": "code",
   "outputs": [],
   "execution_count": null,
   "source": [
    "# UMAP\n",
    "reducer = umap.UMAP(**umap_params)\n",
    "X_umap = reducer.fit_transform(X)\n",
    "\n",
    "# Target\n",
    "y = df_merged[target_col]\n",
    "\n",
    "# Add constant (intercept)\n",
    "X_with_const = sm.add_constant(X_umap)\n",
    "\n",
    "# Fit OLS\n",
    "model = sm.OLS(y, X_with_const).fit()\n",
    "\n",
    "# Predictions and residuals\n",
    "y_pred = model.predict(X_with_const)\n",
    "residuals = y - y_pred\n",
    "\n",
    "# Summary\n",
    "print(model.summary())"
   ],
   "id": "bf3621021e29b75d"
  },
  {
   "metadata": {},
   "cell_type": "markdown",
   "source": "#### Plotting",
   "id": "180c46f57dfbb497"
  },
  {
   "metadata": {},
   "cell_type": "code",
   "outputs": [],
   "execution_count": null,
   "source": "plot_ols_diagnostics(y, y_pred, residuals, \"OLS Actuals vs Predicted and Residuals\",save_path=None, plot_flag=True, color_by_group=True, group_labels=df_merged['Group'])",
   "id": "48f1b8e6e2a88b1f"
  },
  {
   "metadata": {},
   "cell_type": "code",
   "outputs": [],
   "execution_count": null,
   "source": "#plot_actual_vs_predicted(target = y, predictions=  y_pred, \"OLS Distributions\", save_path=None, plot_flag=True):",
   "id": "da77f3de1902d653"
  },
  {
   "metadata": {},
   "cell_type": "markdown",
   "source": "#### Covariates",
   "id": "d064aac5334ccdf3"
  },
  {
   "metadata": {},
   "cell_type": "code",
   "outputs": [],
   "execution_count": null,
   "source": [
    "# UMAP\n",
    "reducer = umap.UMAP(**umap_params)\n",
    "X_umap = reducer.fit_transform(X)\n",
    "\n",
    "# Target\n",
    "y = df_merged[target_col].astype(float)\n",
    "\n",
    "# Covariate encoding\n",
    "covariates = [\"Sex\", \"Age\", \"Education\"]\n",
    "df_cov = df_merged[covariates].copy()\n",
    "\n",
    "# Ensure numeric types\n",
    "df_cov[\"Age\"] = pd.to_numeric(df_cov[\"Age\"], errors=\"coerce\")\n",
    "df_cov[\"Education\"] = pd.to_numeric(df_cov[\"Education\"], errors=\"coerce\")\n",
    "df_cov = pd.get_dummies(df_cov, drop_first=True)\n",
    "\n",
    "# Combine UMAP + covariates\n",
    "df_umap = pd.DataFrame(X_umap, columns=[\"UMAP1\", \"UMAP2\"])\n",
    "X_design = pd.concat([df_umap.reset_index(drop=True), df_cov.reset_index(drop=True)], axis=1)\n",
    "\n",
    "# Final casting\n",
    "X_design = X_design.astype(float)\n",
    "\n",
    "# Add constant\n",
    "X_with_const = sm.add_constant(X_design)\n",
    "\n",
    "# Fit OLS\n",
    "model = sm.OLS(y, X_with_const).fit()\n",
    "\n",
    "# Predictions and residuals\n",
    "y_pred = model.predict(X_with_const)\n",
    "residuals = y - y_pred\n",
    "\n",
    "# Summary\n",
    "print(model.summary())"
   ],
   "id": "46f5f9ec8d2cf2c3"
  },
  {
   "metadata": {},
   "cell_type": "markdown",
   "source": "#### Shuffling Regression",
   "id": "5dc69a118869dcd0"
  },
  {
   "metadata": {},
   "cell_type": "code",
   "outputs": [],
   "execution_count": null,
   "source": [
    "# R² real\n",
    "r2_real = model.rsquared\n",
    "\n",
    "# List of R² after shuffling\n",
    "r2_shuffled = []\n",
    "\n",
    "for _ in range(100):\n",
    "    y_shuffled = y.sample(frac=1, replace=False, random_state=None).reset_index(drop=True)\n",
    "    model_shuffled = sm.OLS(y_shuffled, X_with_const).fit()\n",
    "    r2_shuffled.append(model_shuffled.rsquared)\n",
    "\n",
    "# empiric p-value\n",
    "p_value = np.mean([r >= r2_real for r in r2_shuffled])\n",
    "\n",
    "print(f\"R² real: {r2_real:.4f}\")\n",
    "print(f\"R² shuffled: {np.mean(r2_shuffled):.4f}\")\n",
    "print(f\"p-value (shuffling): {p_value:.4f}\")"
   ],
   "id": "40d766c1c845a057"
  },
  {
   "metadata": {},
   "cell_type": "markdown",
   "source": "### GMM distributions",
   "id": "78a45792378d0153"
  },
  {
   "metadata": {},
   "cell_type": "code",
   "outputs": [],
   "execution_count": null,
   "source": [
    "# Load data\n",
    "df_gm, df_meta = open_dataframes(path_df_gm, path_df_meta)"
   ],
   "id": "230631d6d698d1b4"
  },
  {
   "metadata": {},
   "cell_type": "code",
   "outputs": [],
   "execution_count": null,
   "source": [
    "# CDR means\n",
    "for gmmLabel in range(0,3):\n",
    "    mean_cdr = df_meta.loc[df_meta['labels_gmm_cdr'] == gmmLabel, 'CDR_SB'].mean()\n",
    "    print(f\"Media CDR_SB per gruppo {gmmLabel}: {mean_cdr:.3f}\")"
   ],
   "id": "93cf189cc5321c56"
  },
  {
   "metadata": {},
   "cell_type": "code",
   "outputs": [],
   "execution_count": null,
   "source": [
    "target_col = \"CDR_SB\"\n",
    "label_col = \"labels_gmm_cdr\"\n",
    "\n",
    "# Loop over each GMM cluster\n",
    "for gmm_label in df_meta[label_col].dropna().unique():\n",
    "    print(f\"\\n=== GMM Cluster {gmm_label} ===\")\n",
    "\n",
    "    # Get IDs for the current cluster\n",
    "    ids_in_cluster = df_meta[df_meta[label_col] == gmm_label][\"ID\"]\n",
    "\n",
    "    # Filter metadata and remove missing target values\n",
    "    df_meta_cluster = df_meta[df_meta[\"ID\"].isin(ids_in_cluster)].reset_index(drop=True)\n",
    "    df_meta_cluster = df_meta_cluster[df_meta_cluster[target_col].notna()]\n",
    "\n",
    "    # Filter voxel data accordingly\n",
    "    df_cluster = df_gm[df_gm[\"ID\"].isin(df_meta_cluster[\"ID\"])].reset_index(drop=True)\n",
    "\n",
    "    # Run regression\n",
    "    model, y_pred, residuals, subject_errors, group_rmse_stats = main_regression(\n",
    "        df_masked = df_cluster,\n",
    "        df_meta = df_meta_cluster,\n",
    "        target_variable = target_col,\n",
    "        covariates = [\"Sex\", \"Age\", \"Education\"],\n",
    "        y_log_transform = False,\n",
    "        plot_flag = False,\n",
    "        save_path = None,\n",
    "        title_prefix = f\"gm_mask_GMM_{gmm_label}\"\n",
    "    )"
   ],
   "id": "b39b47d69390ab22"
  },
  {
   "metadata": {},
   "cell_type": "markdown",
   "source": "### Cluster K-Means",
   "id": "d5e57a9ab02afc0b"
  },
  {
   "metadata": {},
   "cell_type": "code",
   "outputs": [],
   "execution_count": null,
   "source": [
    "# Load data\n",
    "df_gm, df_meta = open_dataframes(path_df_gm, path_df_meta)"
   ],
   "id": "563d7b901a8bf82f"
  },
  {
   "metadata": {},
   "cell_type": "code",
   "outputs": [],
   "execution_count": null,
   "source": [
    "target_col = \"CDR_SB\"\n",
    "cluster_col = \"KMeans\"\n",
    "\n",
    "for cluster_id in labels_df[cluster_col].unique():\n",
    "    print(f\"\\n=== Cluster {cluster_id} ===\")\n",
    "\n",
    "    # Get subject IDs for the current cluster\n",
    "    ids_in_cluster = labels_df[labels_df[cluster_col] == cluster_id][\"ID\"]\n",
    "\n",
    "    # Filter df_meta and df_gm_masked based on IDs only\n",
    "    df_meta_cluster = df_meta[df_meta[\"ID\"].isin(ids_in_cluster)].reset_index(drop=True)\n",
    "    df_cluster = df_gm[df_gm[\"ID\"].isin(ids_in_cluster)].reset_index(drop=True)\n",
    "\n",
    "    # Run regression (NaN removal is handled internally)\n",
    "    model, y_pred, residuals, subject_errors, group_rmse_stats = main_regression(\n",
    "        df_masked = df_cluster,\n",
    "        df_meta = df_meta_cluster,\n",
    "        target_variable = target_col,\n",
    "        covariates = ['Sex', 'Age', 'Education'],\n",
    "        y_log_transform = False,\n",
    "        plot_flag = True,\n",
    "        save_path = None,\n",
    "        title_prefix = f\"cluster_{cluster_col}_{cluster_id}\"\n",
    "    )"
   ],
   "id": "700ff67c36ccfd3c"
  }
 ],
 "metadata": {},
 "nbformat": 5,
 "nbformat_minor": 9
}
