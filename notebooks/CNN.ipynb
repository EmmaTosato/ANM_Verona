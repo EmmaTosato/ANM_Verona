{
 "metadata": {
  "kernelspec": {
   "language": "python",
   "display_name": "Python 3",
   "name": "python3"
  },
  "language_info": {
   "name": "python",
   "version": "3.11.11",
   "mimetype": "text/x-python",
   "codemirror_mode": {
    "name": "ipython",
    "version": 3
   },
   "pygments_lexer": "ipython3",
   "nbconvert_exporter": "python",
   "file_extension": ".py"
  },
  "kaggle": {
   "accelerator": "gpu",
   "dataSources": [
    {
     "sourceId": 11601721,
     "sourceType": "datasetVersion",
     "datasetId": 7276265
    },
    {
     "sourceId": 11602172,
     "sourceType": "datasetVersion",
     "datasetId": 7276616
    },
    {
     "sourceId": 11602206,
     "sourceType": "datasetVersion",
     "datasetId": 7276639
    }
   ],
   "dockerImageVersionId": 31011,
   "isInternetEnabled": true,
   "language": "python",
   "sourceType": "notebook",
   "isGpuEnabled": true
  }
 },
 "nbformat_minor": 4,
 "nbformat": 4,
 "cells": [
  {
   "cell_type": "markdown",
   "source": "# Utils",
   "metadata": {
    "_uuid": "14955c6c-b6b7-4cc3-b48a-18780436718f",
    "_cell_guid": "a8170246-22b6-42a9-abd6-68c2979d5f8a",
    "trusted": true,
    "collapsed": false,
    "jupyter": {
     "outputs_hidden": false
    }
   }
  },
  {
   "cell_type": "markdown",
   "source": "Import libraries",
   "metadata": {}
  },
  {
   "cell_type": "code",
   "source": [
    "import os\n",
    "import numpy as np\n",
    "import pandas as pd\n",
    "import nibabel as nib\n",
    "from tqdm import tqdm\n",
    "\n",
    "import torch\n",
    "import torch.nn as nn\n",
    "import torch.optim as optim\n",
    "from torch.utils.data import Dataset, DataLoader\n",
    "from torchvision.models.video import r3d_18\n",
    "\n",
    "from sklearn.model_selection import train_test_split\n",
    "from sklearn.metrics import accuracy_score, classification_report, confusion_matrix, mean_squared_error, r2_score\n",
    "from sklearn.metrics import precision_recall_curve, roc_curve, auc\n",
    "from sklearn.preprocessing import label_binarize\n",
    "from sklearn.model_selection import StratifiedKFold\n",
    "\n",
    "import matplotlib.pyplot as plt\n",
    "import seaborn as sns"
   ],
   "metadata": {
    "_uuid": "6308cabb-bcd2-4137-ad37-379413164088",
    "_cell_guid": "d7a8972d-7eb1-4b76-9fc5-3ee8e93b1422",
    "trusted": true,
    "collapsed": false,
    "execution": {
     "iopub.status.busy": "2025-05-05T14:53:18.904836Z",
     "iopub.execute_input": "2025-05-05T14:53:18.905513Z",
     "iopub.status.idle": "2025-05-05T14:53:24.598551Z",
     "shell.execute_reply.started": "2025-05-05T14:53:18.905486Z",
     "shell.execute_reply": "2025-05-05T14:53:24.597802Z"
    },
    "jupyter": {
     "outputs_hidden": false
    }
   },
   "outputs": [],
   "execution_count": null
  },
  {
   "cell_type": "code",
   "source": "# Paths\npath_labels = '/kaggle/input/fcmaps-metadata/labels.csv'\npath_fcmaps = '/kaggle/input/fcmaps-processed'                   \npath_fcmaps_augmented = '/kaggle/input/fcmaps-augmented-processed/FCmaps_augmented_processed'\n\n# Load labels\ndf_labels = pd.read_csv(path_labels)\n\n# Temporary:\nto_exclude = ['3_S_5003', '4_S_5003', '4_S_5005', '4_S_5007', '4_S_5008']\ndf_labels = df_labels[~df_labels['ID'].isin(to_exclude)].reset_index(drop=True)",
   "metadata": {
    "_uuid": "98413937-5d05-451e-bd82-db2568a79065",
    "_cell_guid": "4dca98c7-47ba-4b83-b5a4-2265860865de",
    "trusted": true,
    "collapsed": false,
    "execution": {
     "iopub.status.busy": "2025-05-05T14:53:24.599835Z",
     "iopub.execute_input": "2025-05-05T14:53:24.600208Z",
     "iopub.status.idle": "2025-05-05T14:53:24.634779Z",
     "shell.execute_reply.started": "2025-05-05T14:53:24.600188Z",
     "shell.execute_reply": "2025-05-05T14:53:24.634099Z"
    },
    "jupyter": {
     "outputs_hidden": false
    }
   },
   "outputs": [],
   "execution_count": null
  },
  {
   "cell_type": "code",
   "source": "# Parameters\nbatch_size = 4\nepochs = 10\nlr = 1e-3\ndevice = torch.device(\"cuda\" if torch.cuda.is_available() else \"cpu\")\ntask = 'classification'               # or 'regression'\nn_folds = 10\n\nif task == 'classification':\n    criterion = nn.CrossEntropyLoss()\n    n_classes = 2  \n    label_column = 'Group'\nelse:\n    criterion = nn.MSELoss()\n    n_classes = 1\n    #label_column = 'Age'",
   "metadata": {
    "_uuid": "893c4830-dc91-4a34-a5c4-26859088ad91",
    "_cell_guid": "4941eb5c-bdab-4fb6-a42a-3200f9077521",
    "trusted": true,
    "collapsed": false,
    "execution": {
     "iopub.status.busy": "2025-05-05T14:53:24.635537Z",
     "iopub.execute_input": "2025-05-05T14:53:24.635804Z",
     "iopub.status.idle": "2025-05-05T14:53:24.696512Z",
     "shell.execute_reply.started": "2025-05-05T14:53:24.635781Z",
     "shell.execute_reply": "2025-05-05T14:53:24.695798Z"
    },
    "jupyter": {
     "outputs_hidden": false
    }
   },
   "outputs": [],
   "execution_count": null
  },
  {
   "cell_type": "markdown",
   "source": "# Dataset",
   "metadata": {
    "_uuid": "f20ef8dd-c556-4e79-a1f3-5209b30013c3",
    "_cell_guid": "80218115-2e61-4df0-b18a-00ce132993fd",
    "trusted": true,
    "collapsed": false,
    "jupyter": {
     "outputs_hidden": false
    }
   }
  },
  {
   "cell_type": "code",
   "source": "class FCDataset(Dataset):\n    def __init__(self, data_dir, df_labels, label_column, task, transform=None):       \n        self.data_dir = data_dir\n        self.df_labels = df_labels.reset_index(drop=True)\n        self.label_column = label_column\n        self.task = task\n        self.transform = transform\n    \n        # Dictionary for mapping strings to indices if labels are not numbers\n        if not pd.api.types.is_numeric_dtype(self.df_labels[self.label_column]):\n            unique_labels = sorted(self.df_labels[self.label_column].unique())\n            self.label_mapping = {label: i for i, label in enumerate(unique_labels)}\n        else:\n            self.label_mapping = None\n            \n        self.samples = []\n\n        # Loop over each row of the dataframe\n        for _, row in self.df_labels.iterrows():\n            subj_id = row['ID']\n            \n            if self.task == 'classification':\n                # Classification: map the labels\n                label = self.label_mapping[row[self.label_column]]\n            \n            else:  \n                # Regression: convert to float\n                label = float(row[self.label_column])\n\n            # Reconstruct the file paths \n            file_path = os.path.join(data_dir, f\"{subj_id}.processed.npy\")\n            if os.path.exists(file_path):\n                self.samples.append((file_path, label))\n            else:\n                print(f\"Missing file: {file_path}\")\n\n    def __len__(self):\n        return len(self.samples)\n\n    def __getitem__(self, idx):\n        file_path, label = self.samples[idx]\n        \n        # Load and reshape the volume: (1, 91, 109, 91)\n        volume = np.load(file_path)\n        volume = np.expand_dims(volume, axis=0)  \n\n        # Covert volume into a tensor\n        x = torch.tensor(volume, dtype=torch.float32)\n\n        # Convert the label into a tensor\n        if self.task == 'classification':\n            y = torch.tensor(label, dtype=torch.long)\n        else: \n            y = torch.tensor(label, dtype=torch.float32)\n\n        if self.transform:\n            x = self.transform(x)\n\n        return x, y",
   "metadata": {
    "_uuid": "2e930299-ad48-4722-866f-adee975b09ee",
    "_cell_guid": "1378c44f-1174-41ef-8068-61a0a8406200",
    "trusted": true,
    "collapsed": false,
    "execution": {
     "iopub.status.busy": "2025-05-05T14:53:24.698236Z",
     "iopub.execute_input": "2025-05-05T14:53:24.698453Z",
     "iopub.status.idle": "2025-05-05T14:53:24.713750Z",
     "shell.execute_reply.started": "2025-05-05T14:53:24.698435Z",
     "shell.execute_reply": "2025-05-05T14:53:24.713126Z"
    },
    "jupyter": {
     "outputs_hidden": false
    }
   },
   "outputs": [],
   "execution_count": null
  },
  {
   "cell_type": "code",
   "source": "class AugmentedFCDataset(Dataset):\n    def __init__(self, data_dir, df_labels, label_column, task, transform=None):\n        \n        self.data_dir = data_dir\n        self.df_labels = df_labels.reset_index(drop=True)\n        self.label_column = label_column\n        self.task = task\n        self.transform = transform\n\n        # Mapping\n        if not pd.api.types.is_numeric_dtype(self.df_labels[self.label_column]):\n            unique_labels = sorted(self.df_labels[self.label_column].unique())\n            self.label_mapping = {label: i for i, label in enumerate(unique_labels)}\n        else:\n            self.label_mapping = None\n            \n        self.samples = []\n\n        for _, row in self.df_labels.iterrows():\n            subj_id = row['ID']\n\n            if self.task == 'classification':\n                label = self.label_mapping[row[self.label_column]]\n            else:\n                label = float(row[self.label_column])\n\n            # Loop over each subject folder and list each augmentation\n            subject_folder = os.path.join(data_dir, subj_id)\n            if os.path.isdir(subject_folder):\n                for file in os.listdir(subject_folder):\n                    if file.endswith('.npy'):\n                        file_path = os.path.join(subject_folder, file)\n                        self.samples.append((file_path, label))\n            else:\n                print(f\"Warning: missing augmented folder for subject {subj_id}\")\n\n    def __len__(self):\n        return len(self.samples)\n\n    def __getitem__(self, idx):\n        file_path, label = self.samples[idx]\n\n        # Load and reshape the volume: (1, 91, 109, 91)\n        volume = np.load(file_path)\n        volume = np.expand_dims(volume, axis=0)\n\n        x = torch.tensor(volume, dtype=torch.float32)\n\n        if self.task == 'classification':\n            y = torch.tensor(label, dtype=torch.long)\n        else:\n            y = torch.tensor(label, dtype=torch.float32)\n\n        if self.transform:\n            x = self.transform(x)\n\n        return x, y",
   "metadata": {
    "_uuid": "8e946be7-1c81-475e-9ba0-e13f2656066a",
    "_cell_guid": "504d0cf4-617c-41d6-bcc5-50726ac5dec7",
    "trusted": true,
    "collapsed": false,
    "execution": {
     "iopub.status.busy": "2025-05-05T14:53:24.714404Z",
     "iopub.execute_input": "2025-05-05T14:53:24.714624Z",
     "iopub.status.idle": "2025-05-05T14:53:24.728924Z",
     "shell.execute_reply.started": "2025-05-05T14:53:24.714608Z",
     "shell.execute_reply": "2025-05-05T14:53:24.728302Z"
    },
    "jupyter": {
     "outputs_hidden": false
    }
   },
   "outputs": [],
   "execution_count": null
  },
  {
   "cell_type": "markdown",
   "source": "# CNN Models",
   "metadata": {
    "_uuid": "e2170dc4-5a1e-428b-9ca1-7467c67dad06",
    "_cell_guid": "5734aab1-e999-4373-a84d-5d9a0debe8a4",
    "trusted": true,
    "collapsed": false,
    "jupyter": {
     "outputs_hidden": false
    }
   }
  },
  {
   "cell_type": "markdown",
   "source": "## Network",
   "metadata": {
    "_uuid": "132064ae-b4bf-49ea-89c0-e079dbfa968c",
    "_cell_guid": "3825f1bd-e30e-4349-8797-8a4b390396e7",
    "trusted": true,
    "collapsed": false,
    "jupyter": {
     "outputs_hidden": false
    }
   }
  },
  {
   "cell_type": "code",
   "source": [
    "class SimpleCNN3D(nn.Module):\n",
    "    def __init__(self, n_classes):\n",
    "        super(SimpleCNN3D, self).__init__()\n",
    "        self.conv1 = nn.Conv3d(1, 16, kernel_size=3, padding=1)\n",
    "        self.bn1 = nn.BatchNorm3d(16)\n",
    "        self.pool1 = nn.MaxPool3d(2)\n",
    "\n",
    "        self.conv2 = nn.Conv3d(16, 32, kernel_size=3, padding=1)\n",
    "        self.bn2 = nn.BatchNorm3d(32)\n",
    "        self.pool2 = nn.MaxPool3d(2)\n",
    "\n",
    "        self.conv3 = nn.Conv3d(32, 64, kernel_size=3, padding=1)\n",
    "        self.bn3 = nn.BatchNorm3d(64)\n",
    "        self.pool3 = nn.AdaptiveAvgPool3d(1)\n",
    "\n",
    "        self.dropout = nn.Dropout(p=0.4)\n",
    "        self.fc = nn.Linear(64, n_classes)\n",
    "\n",
    "    def forward(self, x):\n",
    "        x = self.pool1(torch.relu(self.bn1(self.conv1(x))))\n",
    "        x = self.pool2(torch.relu(self.bn2(self.conv2(x))))\n",
    "        x = self.pool3(torch.relu(self.bn3(self.conv3(x))))\n",
    "        x = x.view(x.size(0), -1)\n",
    "        x = self.dropout(x)\n",
    "        return self.fc(x)\n",
    "\n",
    "\n",
    "class ResNet3D(nn.Module):\n",
    "    def __init__(self, n_classes):\n",
    "        super(ResNet3D, self).__init__()\n",
    "        self.model = r3d_18(weights=None)\n",
    "        self.model.stem[0] = nn.Conv3d(1, 64, kernel_size=(3,7,7), stride=(1,2,2), padding=(1,3,3), bias=False)\n",
    "        self.model.fc = nn.Linear(self.model.fc.in_features, n_classes)\n",
    "\n",
    "    def forward(self, x):\n",
    "        return self.model(x)"
   ],
   "metadata": {
    "_uuid": "0d73c0ce-5bc5-4e2e-86a7-c110763eb8f2",
    "_cell_guid": "be1e4ebc-f2f6-4800-8b1f-5be8bb947bcb",
    "trusted": true,
    "collapsed": false,
    "execution": {
     "iopub.status.busy": "2025-05-05T14:53:24.729588Z",
     "iopub.execute_input": "2025-05-05T14:53:24.729853Z",
     "iopub.status.idle": "2025-05-05T14:53:27.555617Z",
     "shell.execute_reply.started": "2025-05-05T14:53:24.729835Z",
     "shell.execute_reply": "2025-05-05T14:53:27.554886Z"
    },
    "jupyter": {
     "outputs_hidden": false
    }
   },
   "outputs": [],
   "execution_count": null
  },
  {
   "cell_type": "markdown",
   "source": "## Training, Validation and Testing loops",
   "metadata": {
    "_uuid": "1c901ad8-3094-4426-a8c8-bdf734f82bb7",
    "_cell_guid": "2c2afc97-9dda-4ee6-969c-e08e7c3ce62e",
    "trusted": true,
    "collapsed": false,
    "jupyter": {
     "outputs_hidden": false
    }
   }
  },
  {
   "metadata": {},
   "cell_type": "markdown",
   "source": "Training function"
  },
  {
   "metadata": {
    "_uuid": "a026f03f-50d6-41d9-a5fa-14ec1b44ae7b",
    "_cell_guid": "c7ec2d5a-08d2-4f3b-8bae-ebc1a8872a21",
    "trusted": true,
    "collapsed": false,
    "jupyter": {
     "outputs_hidden": false
    },
    "execution": {
     "iopub.status.busy": "2025-05-05T14:53:27.556381Z",
     "iopub.execute_input": "2025-05-05T14:53:27.556828Z",
     "iopub.status.idle": "2025-05-05T14:53:27.561654Z",
     "shell.execute_reply.started": "2025-05-05T14:53:27.556807Z",
     "shell.execute_reply": "2025-05-05T14:53:27.561012Z"
    }
   },
   "cell_type": "code",
   "outputs": [],
   "execution_count": null,
   "source": [
    "def train(train_loader, model, criterion, optimizer, device):\n",
    "    # Enable training mode\n",
    "    model.train()\n",
    "    running_loss = 0.0\n",
    "\n",
    "    for x_batch, y_batch in train_loader:\n",
    "        x_batch, y_batch = x_batch.to(device), y_batch.to(device)\n",
    "\n",
    "        # Reset gradients\n",
    "        optimizer.zero_grad()\n",
    "\n",
    "        # Forward pass\n",
    "        outputs = model(x_batch)\n",
    "\n",
    "        # Compute loss\n",
    "        loss = criterion(outputs, y_batch)\n",
    "\n",
    "        # Backpropagation\n",
    "        loss.backward()\n",
    "\n",
    "        # Update weights\n",
    "        optimizer.step()\n",
    "\n",
    "        running_loss += loss.item() * x_batch.size(0)\n",
    "\n",
    "    train_loss = running_loss / len(train_loader.dataset)\n",
    "    return train_loss"
   ]
  },
  {
   "metadata": {},
   "cell_type": "markdown",
   "source": "Validation function"
  },
  {
   "cell_type": "code",
   "source": [
    "def validate(val_loader, model, criterion, device, task):\n",
    "    # Set model to evaluation mode\n",
    "    model.eval()\n",
    "    running_loss = 0.0\n",
    "    correct = 0\n",
    "\n",
    "    # Disable gradient computation\n",
    "    with torch.no_grad():\n",
    "        for x_val, y_val in val_loader:\n",
    "            x_val, y_val = x_val.to(device), y_val.to(device)\n",
    "            outputs = model(x_val)\n",
    "            loss = criterion(outputs, y_val)\n",
    "            running_loss += loss.item() * x_val.size(0)\n",
    "            \n",
    "            _, predicted = torch.max(outputs, 1)\n",
    "            correct += (predicted == y_val).sum().item()\n",
    "\n",
    "    val_loss = running_loss / len(val_loader.dataset)\n",
    "    val_accuracy = correct / len(val_loader.dataset)\n",
    "    return val_loss, val_accuracy"
   ],
   "metadata": {
    "_uuid": "afb41a72-1478-4874-ad49-7831556faa0b",
    "_cell_guid": "2522e86e-94e6-49ab-b24d-55e062ed8136",
    "trusted": true,
    "collapsed": false,
    "execution": {
     "iopub.status.busy": "2025-05-05T14:53:27.562483Z",
     "iopub.execute_input": "2025-05-05T14:53:27.562687Z",
     "iopub.status.idle": "2025-05-05T14:53:27.586447Z",
     "shell.execute_reply.started": "2025-05-05T14:53:27.562662Z",
     "shell.execute_reply": "2025-05-05T14:53:27.585643Z"
    },
    "jupyter": {
     "outputs_hidden": false
    }
   },
   "outputs": [],
   "execution_count": null
  },
  {
   "metadata": {},
   "cell_type": "markdown",
   "source": "Evaluation function (to get predictions)"
  },
  {
   "cell_type": "code",
   "source": "def evaluate(model, loader, task, device):\n    model.eval()\n    true_labels, pred_labels = [], []\n\n    # Disable gradient computation\n    with torch.no_grad():\n        for x, y in loader:\n            x, y = x.to(device), y.to(device)\n            outputs = model(x)\n\n            # Convert output to prediction\n            if task == 'classification':\n                preds = torch.argmax(outputs, dim=1)  \n            else:\n                preds = outputs.squeeze()  \n\n            # Store true and predicted values\n            true_labels.extend(y.cpu().numpy())\n            pred_labels.extend(preds.cpu().numpy())\n\n    return np.array(true_labels), np.array(pred_labels)",
   "metadata": {
    "_uuid": "b45ef765-c4f3-41dd-b4ab-81992b217596",
    "_cell_guid": "8fb12d4a-8347-471c-a387-d62538eb206f",
    "trusted": true,
    "collapsed": false,
    "jupyter": {
     "outputs_hidden": false
    },
    "execution": {
     "iopub.status.busy": "2025-05-05T14:53:27.587184Z",
     "iopub.execute_input": "2025-05-05T14:53:27.587390Z",
     "iopub.status.idle": "2025-05-05T14:53:27.600519Z",
     "shell.execute_reply.started": "2025-05-05T14:53:27.587367Z",
     "shell.execute_reply": "2025-05-05T14:53:27.599994Z"
    }
   },
   "outputs": [],
   "execution_count": null
  },
  {
   "cell_type": "markdown",
   "source": "# Data",
   "metadata": {
    "_uuid": "b2db1b9d-5367-4530-b420-09d3ae32c3ad",
    "_cell_guid": "6dc0c921-38e3-4bb4-8a11-d606111f78f0",
    "trusted": true,
    "collapsed": false,
    "jupyter": {
     "outputs_hidden": false
    }
   }
  },
  {
   "cell_type": "markdown",
   "source": "Load some files for example",
   "metadata": {
    "_uuid": "a4c95302-d2c2-4a14-a130-4330512df1a5",
    "_cell_guid": "50fc3f92-cb3b-4f27-9efd-57e41c7b8567",
    "trusted": true,
    "collapsed": false,
    "jupyter": {
     "outputs_hidden": false
    }
   }
  },
  {
   "cell_type": "code",
   "source": "img3D = np.load('/kaggle/input/fcmaps-processed/002_S_4654.processed.npy')\n\nprint(img3D.shape)\nprint(img3D.dtype)",
   "metadata": {
    "_uuid": "1d952ddc-8906-49db-9c80-e6eca7895738",
    "_cell_guid": "fd80399b-7d7f-462c-aece-e81719701c49",
    "trusted": true,
    "collapsed": false,
    "execution": {
     "iopub.status.busy": "2025-05-05T14:53:27.602410Z",
     "iopub.execute_input": "2025-05-05T14:53:27.602576Z",
     "iopub.status.idle": "2025-05-05T14:53:27.662490Z",
     "shell.execute_reply.started": "2025-05-05T14:53:27.602563Z",
     "shell.execute_reply": "2025-05-05T14:53:27.661919Z"
    },
    "jupyter": {
     "outputs_hidden": false
    }
   },
   "outputs": [],
   "execution_count": null
  },
  {
   "cell_type": "markdown",
   "source": "## Pairwise classification",
   "metadata": {
    "_uuid": "c5cee6ea-d167-4fc9-98c3-c56e6c7b3638",
    "_cell_guid": "890356bb-fcff-4b08-a89f-0da28c1d41cb",
    "trusted": true,
    "collapsed": false,
    "jupyter": {
     "outputs_hidden": false
    }
   }
  },
  {
   "cell_type": "markdown",
   "source": "- ADNI + CBS = 116 \n- CBS + PSP = 105 \n- ADNI + PSP = 133",
   "metadata": {
    "_uuid": "5f7ba586-b2cb-42ea-9ff8-01e5d70b020a",
    "_cell_guid": "55084900-45ce-4c28-9c1c-f7cf5dbb836c",
    "trusted": true,
    "collapsed": false,
    "jupyter": {
     "outputs_hidden": false
    }
   }
  },
  {
   "cell_type": "code",
   "source": "group1 = 'ADNI'\ngroup2 = 'PSP'\n\ndf_pair = df_labels[df_labels['Group'].isin([group1, group2])].reset_index(drop=True)",
   "metadata": {
    "_uuid": "3ff3adfd-f5d3-4f1f-b904-b38a5c302f35",
    "_cell_guid": "e326315d-0669-4462-856a-c9a76ae56b9b",
    "trusted": true,
    "collapsed": false,
    "execution": {
     "iopub.status.busy": "2025-05-05T14:53:27.663237Z",
     "iopub.execute_input": "2025-05-05T14:53:27.663440Z",
     "iopub.status.idle": "2025-05-05T14:53:27.668490Z",
     "shell.execute_reply.started": "2025-05-05T14:53:27.663420Z",
     "shell.execute_reply": "2025-05-05T14:53:27.667802Z"
    },
    "jupyter": {
     "outputs_hidden": false
    }
   },
   "outputs": [],
   "execution_count": null
  },
  {
   "cell_type": "code",
   "source": "df_pair.shape",
   "metadata": {
    "_uuid": "7c45ab18-d0c0-47e2-9bed-ba420f6fe935",
    "_cell_guid": "ef467a53-ac3c-4f14-b4d6-56450d67d893",
    "trusted": true,
    "collapsed": false,
    "execution": {
     "iopub.status.busy": "2025-05-05T14:53:27.669170Z",
     "iopub.execute_input": "2025-05-05T14:53:27.669346Z",
     "iopub.status.idle": "2025-05-05T14:53:27.685214Z",
     "shell.execute_reply.started": "2025-05-05T14:53:27.669332Z",
     "shell.execute_reply": "2025-05-05T14:53:27.684578Z"
    },
    "jupyter": {
     "outputs_hidden": false
    }
   },
   "outputs": [],
   "execution_count": null
  },
  {
   "cell_type": "markdown",
   "source": "## Splitting",
   "metadata": {
    "_uuid": "33591bb2-3114-4397-bdaa-d83ee4376915",
    "_cell_guid": "3e744a5d-abe0-4fdf-bac1-30af3c7b9c3b",
    "trusted": true,
    "collapsed": false,
    "jupyter": {
     "outputs_hidden": false
    }
   }
  },
  {
   "cell_type": "code",
   "source": "train_df, test_df = train_test_split(\n    df_pair,\n    test_size=0.2,\n    stratify=df_pair['Group'],\n    random_state=42\n)",
   "metadata": {
    "_uuid": "5552591d-88aa-444c-8fd4-daf5ff5bb765",
    "_cell_guid": "d85dee23-fce5-42e8-b48f-b602ed3a0dea",
    "trusted": true,
    "collapsed": false,
    "jupyter": {
     "outputs_hidden": false
    },
    "execution": {
     "iopub.status.busy": "2025-05-05T14:53:27.685812Z",
     "iopub.execute_input": "2025-05-05T14:53:27.686003Z",
     "iopub.status.idle": "2025-05-05T14:53:27.701818Z",
     "shell.execute_reply.started": "2025-05-05T14:53:27.685989Z",
     "shell.execute_reply": "2025-05-05T14:53:27.701302Z"
    }
   },
   "outputs": [],
   "execution_count": null
  },
  {
   "cell_type": "markdown",
   "source": "Check the balance between groups",
   "metadata": {
    "_uuid": "4412081a-7d85-4aea-aabc-724c93f91af8",
    "_cell_guid": "1503504a-edb1-4c57-b8bb-621749f64b98",
    "trusted": true,
    "collapsed": false,
    "jupyter": {
     "outputs_hidden": false
    }
   }
  },
  {
   "cell_type": "code",
   "source": "print(train_df['Group'].value_counts())\nprint(test_df['Group'].value_counts())",
   "metadata": {
    "_uuid": "6a932c5e-6f9d-4dcb-bcad-523b4d7b4fe6",
    "_cell_guid": "846692b8-ee6d-47b8-a44b-5d8c8cac1345",
    "trusted": true,
    "collapsed": false,
    "execution": {
     "iopub.status.busy": "2025-05-05T14:53:27.702398Z",
     "iopub.execute_input": "2025-05-05T14:53:27.702555Z",
     "iopub.status.idle": "2025-05-05T14:53:27.718209Z",
     "shell.execute_reply.started": "2025-05-05T14:53:27.702543Z",
     "shell.execute_reply": "2025-05-05T14:53:27.717508Z"
    },
    "jupyter": {
     "outputs_hidden": false
    }
   },
   "outputs": [],
   "execution_count": null
  },
  {
   "cell_type": "markdown",
   "source": "Example of augmentation",
   "metadata": {
    "_uuid": "449306b6-8015-432d-b600-91259c26aac8",
    "_cell_guid": "495eff62-9280-47d4-af0b-51174ba4c276",
    "trusted": true,
    "collapsed": false,
    "jupyter": {
     "outputs_hidden": false
    }
   }
  },
  {
   "cell_type": "code",
   "source": "train_dataset = AugmentedFCDataset(path_fcmaps_augmented, train_df, label_column, task)",
   "metadata": {
    "_uuid": "58e1e2e1-4abe-4a50-bce0-e5882eb93445",
    "_cell_guid": "601e67e2-851f-4e60-b451-056fbec4d50e",
    "trusted": true,
    "collapsed": false,
    "execution": {
     "iopub.status.busy": "2025-05-05T08:13:46.199804Z",
     "iopub.execute_input": "2025-05-05T08:13:46.200009Z",
     "iopub.status.idle": "2025-05-05T08:13:46.327934Z",
     "shell.execute_reply.started": "2025-05-05T08:13:46.199989Z",
     "shell.execute_reply": "2025-05-05T08:13:46.327413Z"
    },
    "jupyter": {
     "outputs_hidden": false
    }
   },
   "outputs": [],
   "execution_count": null
  },
  {
   "cell_type": "code",
   "source": "print(\"Shape before augmentation: \", train_df.shape )\nprint(\"Shape after augmentation: \", len(train_dataset) )",
   "metadata": {
    "_uuid": "fb591b5c-7e0f-4306-9850-d83f82a7defb",
    "_cell_guid": "a6d729c8-ed47-4ec3-a7ab-9eb73cd4ddb3",
    "trusted": true,
    "collapsed": false,
    "execution": {
     "iopub.status.busy": "2025-05-05T08:13:51.808348Z",
     "iopub.execute_input": "2025-05-05T08:13:51.809037Z",
     "iopub.status.idle": "2025-05-05T08:13:51.812879Z",
     "shell.execute_reply.started": "2025-05-05T08:13:51.809014Z",
     "shell.execute_reply": "2025-05-05T08:13:51.812219Z"
    },
    "jupyter": {
     "outputs_hidden": false
    }
   },
   "outputs": [],
   "execution_count": null
  },
  {
   "cell_type": "markdown",
   "source": "# Training",
   "metadata": {
    "_uuid": "b7e5c58b-7649-48ff-8422-0594a22be558",
    "_cell_guid": "66554c95-6c75-4d71-a19b-d3fb70e27c77",
    "trusted": true,
    "collapsed": false,
    "jupyter": {
     "outputs_hidden": false
    }
   }
  },
  {
   "cell_type": "code",
   "source": [
    "# For k-fold cross-validation\n",
    "skf = StratifiedKFold(n_splits= n_folds, shuffle=True, random_state=42)\n",
    "\n",
    "# Subjects and correspondent labels \n",
    "subjects = train_df['ID'].values\n",
    "labels = train_df[label_column].values\n",
    "all_train_losses = []\n",
    "all_val_losses = []\n",
    "\n",
    "# Loop over the k-fold\n",
    "for fold, (train_idx, val_idx) in enumerate(skf.split(subjects, labels)):\n",
    "    print(f\"\\n--- Fold {fold+1} ---\")\n",
    "    \n",
    "    # Subjects for the current fold\n",
    "    df_train_fold = train_df[train_df['ID'].isin(subjects[train_idx])]\n",
    "    df_val_fold   = train_df[train_df['ID'].isin(subjects[val_idx])]\n",
    "\n",
    "    # Create Datasets\n",
    "    train_dataset = AugmentedFCDataset(path_fcmaps_augmented, df_train_fold, label_column, task)\n",
    "    val_dataset = FCDataset(path_fcmaps, df_val_fold, label_column, task)\n",
    "\n",
    "    # Create DataLoaders\n",
    "    train_loader = DataLoader(train_dataset, batch_size=batch_size, shuffle=True)\n",
    "    val_loader = DataLoader(val_dataset, batch_size=batch_size, shuffle=False)\n",
    "    \n",
    "    # Create the model and optimizer \n",
    "    model = SimpleCNN3D(n_classes=2).to(device)\n",
    "    #model = ResNet3D(n_classes=2).to(device)\n",
    "    optimizer = optim.Adam(model.parameters(), lr=lr)\n",
    "\n",
    "    # Variables\n",
    "    best_loss = float('inf')\n",
    "    best_accuracy = -float('inf')\n",
    "    best_epoch = -1\n",
    "    best_model_path = None\n",
    "    train_losses, val_losses = [], []\n",
    "    \n",
    "   # Loop over epochs\n",
    "    for epoch in range(epochs):        \n",
    "        train_loss = train(train_loader, model, criterion, optimizer, device)\n",
    "        val_loss, val_accuracy = validate(val_loader, model, criterion, device, task)\n",
    "\n",
    "        print(f\"Epoch {epoch+1}/{epochs} | Train Loss: {train_loss:.4f} | Val Loss: {val_loss:.4f} | Val Accuracy: {val_accuracy:.4f}\")\n",
    "\n",
    "        # Append losses\n",
    "        train_losses.append(train_loss)\n",
    "        val_losses.append(val_loss)\n",
    "\n",
    "        # Save best model based on validation accuracy\n",
    "        if val_accuracy > best_accuracy:\n",
    "            best_accuracy = val_accuracy\n",
    "            best_epoch = epoch + 1\n",
    "            best_model_path = f\"best_fold{fold}_epoch{best_epoch}.pt\"\n",
    "            torch.save(model.state_dict(), best_model_path)\n",
    "\n",
    "    # Save for plotting\n",
    "    all_train_losses.append(train_losses)\n",
    "    all_val_losses.append(val_losses)"
   ],
   "metadata": {
    "_uuid": "66ab0210-bd10-408d-8c5f-0138c73e0865",
    "_cell_guid": "c807ac98-646e-43cb-bc22-a5b935db1328",
    "trusted": true,
    "collapsed": false,
    "jupyter": {
     "outputs_hidden": false
    }
   },
   "outputs": [],
   "execution_count": null
  },
  {
   "cell_type": "code",
   "source": [
    "def plot_all_folds(all_train_losses, all_val_losses):\n",
    "    cols = 2\n",
    "    rows = (n_folds + 1) // cols\n",
    "\n",
    "    fig, axes = plt.subplots(rows, cols, figsize=(12, 4 * rows))\n",
    "    axes = axes.flatten()\n",
    "\n",
    "    for i in range(n_folds):\n",
    "        ax = axes[i]\n",
    "        ax.plot(all_train_losses[i], label='Train Loss')\n",
    "        ax.plot(all_val_losses[i], label='Validation Loss')\n",
    "        ax.set_title(f'Fold {i+1}')\n",
    "        ax.set_xlabel('Epoch')\n",
    "        ax.set_ylabel('Loss')\n",
    "        ax.grid(True)\n",
    "        ax.legend()\n",
    "\n",
    "    # Rimuovi eventuali subplot vuoti se n_folds è dispari\n",
    "    for j in range(i + 1, len(axes)):\n",
    "        fig.delaxes(axes[j])\n",
    "\n",
    "    plt.tight_layout()\n",
    "    plt.suptitle('Training and Validation Loss per Fold', fontsize=16, y=1.02)\n",
    "    plt.show()\n",
    "\n",
    "# Plot\n",
    "plot_all_folds(all_train_losses, all_val_losses)\n"
   ],
   "metadata": {
    "_uuid": "0aad0476-ed52-44ea-a86f-a94362eade21",
    "_cell_guid": "219aca36-009a-4289-8f6b-7668eacf25d5",
    "trusted": true,
    "collapsed": false,
    "jupyter": {
     "outputs_hidden": false
    }
   },
   "outputs": [],
   "execution_count": null
  },
  {
   "cell_type": "markdown",
   "source": "# Evaluation",
   "metadata": {
    "_uuid": "57dcf171-266a-4124-91d3-7f25eddda102",
    "_cell_guid": "66a3790c-90bf-4022-95db-dfa02f7b3aa4",
    "trusted": true,
    "collapsed": false,
    "jupyter": {
     "outputs_hidden": false
    }
   }
  },
  {
   "cell_type": "code",
   "source": [
    "print(f\"\\nBest validation accuracy: {best_accuracy:.4f} at epoch {best_epoch}\")\n",
    "print(f\"Best model saved at: {best_model_path}\")"
   ],
   "metadata": {
    "_uuid": "8344a777-9f96-479a-89f1-8eb686cbdee1",
    "_cell_guid": "e3a9c4d9-bb3f-4b18-9140-674b62d753ff",
    "trusted": true,
    "collapsed": false,
    "jupyter": {
     "outputs_hidden": false
    }
   },
   "outputs": [],
   "execution_count": null
  },
  {
   "cell_type": "code",
   "source": [
    "# Dataset and DataLoaders\n",
    "test_dataset = FCDataset(path_fcmaps, test_df, label_column, task)\n",
    "test_loader = DataLoader(test_dataset, batch_size=batch_size, shuffle=False)\n",
    "\n",
    "# Load the model\n",
    "model = SimpleCNN3D(n_classes=n_classes).to(device)\n",
    "model.load_state_dict(torch.load(best_model_path, weights_only=True))\n",
    "model.eval()\n",
    "\n",
    "# Test\n",
    "y_true, y_pred = evaluate(model, test_loader, task, device)"
   ],
   "metadata": {
    "_uuid": "4385eb5c-2144-4129-b93e-ffa9b249c285",
    "_cell_guid": "77371e42-1b0b-4421-b22d-8ffa4e4f4d1f",
    "trusted": true,
    "collapsed": false,
    "jupyter": {
     "outputs_hidden": false
    },
    "execution": {
     "iopub.status.busy": "2025-04-29T16:27:51.853773Z",
     "iopub.execute_input": "2025-04-29T16:27:51.854639Z",
     "iopub.status.idle": "2025-04-29T16:27:51.949390Z",
     "shell.execute_reply.started": "2025-04-29T16:27:51.854613Z",
     "shell.execute_reply": "2025-04-29T16:27:51.948852Z"
    }
   },
   "outputs": [],
   "execution_count": null
  },
  {
   "cell_type": "markdown",
   "source": "## Classification",
   "metadata": {
    "_uuid": "eb1c596f-025a-4938-bbdf-e42bb5d465a5",
    "_cell_guid": "3ba9927b-7ab7-42d6-b71a-554c58f359b2",
    "trusted": true,
    "collapsed": false,
    "jupyter": {
     "outputs_hidden": false
    }
   }
  },
  {
   "cell_type": "code",
   "source": "# Metrics\nreport = classification_report(\n    y_true, y_pred,\n    output_dict=True,\n    zero_division=0  \n)\n\ndf_report = pd.DataFrame(report).transpose()",
   "metadata": {
    "_uuid": "b003cfd9-ac41-4197-8131-e60b971bf4ed",
    "_cell_guid": "a442f2ef-996e-4794-814b-4dcd4da3e83a",
    "trusted": true,
    "collapsed": false,
    "execution": {
     "iopub.status.busy": "2025-04-29T16:32:47.086239Z",
     "iopub.execute_input": "2025-04-29T16:32:47.086490Z",
     "iopub.status.idle": "2025-04-29T16:32:47.097496Z",
     "shell.execute_reply.started": "2025-04-29T16:32:47.086471Z",
     "shell.execute_reply": "2025-04-29T16:32:47.096868Z"
    },
    "jupyter": {
     "outputs_hidden": false
    }
   },
   "outputs": [],
   "execution_count": null
  },
  {
   "cell_type": "code",
   "source": "df_report.round(3)",
   "metadata": {
    "_uuid": "706ca8dc-418e-4716-964d-4b49b8e0fc70",
    "_cell_guid": "516a8010-126a-4099-bf0b-9793b7ea3ff9",
    "trusted": true,
    "collapsed": false,
    "execution": {
     "iopub.status.busy": "2025-04-29T16:32:58.564436Z",
     "iopub.execute_input": "2025-04-29T16:32:58.565092Z",
     "iopub.status.idle": "2025-04-29T16:32:58.573360Z",
     "shell.execute_reply.started": "2025-04-29T16:32:58.565069Z",
     "shell.execute_reply": "2025-04-29T16:32:58.572681Z"
    },
    "jupyter": {
     "outputs_hidden": false
    }
   },
   "outputs": [],
   "execution_count": null
  },
  {
   "cell_type": "code",
   "source": "# Confusion matrix\nconf_matrix = confusion_matrix(y_true, y_pred)\nsns.heatmap(conf_matrix, annot=True, fmt='d', cmap='Blues')\nplt.title(\"Test Confusion Matrix\")\nplt.xlabel(\"Predicted\")\nplt.ylabel(\"True\")\nplt.show()",
   "metadata": {
    "_uuid": "c25f4378-a2d6-4eb7-b881-161974b7f48c",
    "_cell_guid": "622271e5-c646-4f37-8a4f-e972a32dfff3",
    "trusted": true,
    "collapsed": false,
    "jupyter": {
     "outputs_hidden": false
    },
    "execution": {
     "iopub.status.busy": "2025-04-29T16:30:51.943516Z",
     "iopub.execute_input": "2025-04-29T16:30:51.943775Z",
     "iopub.status.idle": "2025-04-29T16:30:52.154743Z",
     "shell.execute_reply.started": "2025-04-29T16:30:51.943754Z",
     "shell.execute_reply": "2025-04-29T16:30:52.154104Z"
    }
   },
   "outputs": [],
   "execution_count": null
  },
  {
   "cell_type": "markdown",
   "source": "#### TODO:\n- Multiclass Precision-Recall Curve\n- Plotting the Multiclass ROC Curve",
   "metadata": {
    "_uuid": "1016c424-07f6-4f54-8bfa-55dde31fe8a9",
    "_cell_guid": "788f131c-59a5-477d-9029-920a0478aefd",
    "trusted": true,
    "collapsed": false,
    "execution": {
     "iopub.status.busy": "2025-04-15T14:07:21.712122Z",
     "iopub.execute_input": "2025-04-15T14:07:21.712736Z",
     "iopub.status.idle": "2025-04-15T14:07:21.715934Z",
     "shell.execute_reply.started": "2025-04-15T14:07:21.712709Z",
     "shell.execute_reply": "2025-04-15T14:07:21.715077Z"
    },
    "jupyter": {
     "outputs_hidden": false
    }
   }
  },
  {
   "cell_type": "markdown",
   "source": "# Synthetic data",
   "metadata": {
    "_uuid": "1925b2d5-f1e7-4127-a2da-f2778a476918",
    "_cell_guid": "0faab8c2-2efc-4b71-b5c5-5d321b84df9c",
    "trusted": true,
    "collapsed": false,
    "jupyter": {
     "outputs_hidden": false
    }
   }
  },
  {
   "cell_type": "markdown",
   "source": "Synthetic data creation",
   "metadata": {
    "_uuid": "74003561-39b9-46fa-ad73-55367c02187d",
    "_cell_guid": "87122bfe-5c66-450e-86f9-d0f8dfd87e58",
    "trusted": true,
    "collapsed": false,
    "jupyter": {
     "outputs_hidden": false
    }
   }
  },
  {
   "cell_type": "code",
   "source": "n_samples = 1500  # total samples (750 per class)\nimg_shape = (1, 91, 109, 91)  # volume shape\nblock_coords = (slice(30, 50), slice(40, 60), slice(30, 50))  # distinguishable block\n\n# Create random noise data\nsynthetic_data = np.random.normal(0, 1, (n_samples, *img_shape))\nsynthetic_labels = np.array([0]*750 + [1]*750)\n\n# Inject a distinguishable pattern for class 1\nfor i in range(750, 1500):\n    synthetic_data[i, 0, block_coords[0], block_coords[1], block_coords[2]] += 5\n\nprint(f\"Data shape: {synthetic_data.shape}, Labels shape: {synthetic_labels.shape}\")",
   "metadata": {
    "_uuid": "05129251-6819-4c89-a6a2-960c45e9243f",
    "_cell_guid": "029e0101-2ec5-4350-9121-53ab0a0cd748",
    "trusted": true,
    "collapsed": false,
    "execution": {
     "iopub.status.busy": "2025-05-05T15:09:09.921637Z",
     "iopub.execute_input": "2025-05-05T15:09:09.922281Z",
     "iopub.status.idle": "2025-05-05T15:09:51.202304Z",
     "shell.execute_reply.started": "2025-05-05T15:09:09.922252Z",
     "shell.execute_reply": "2025-05-05T15:09:51.201487Z"
    },
    "jupyter": {
     "outputs_hidden": false
    }
   },
   "outputs": [
    {
     "name": "stdout",
     "text": "Data shape: (1500, 1, 91, 109, 91), Labels shape: (1500,)\n",
     "output_type": "stream"
    }
   ],
   "execution_count": 22
  },
  {
   "cell_type": "markdown",
   "source": "Class Dataset",
   "metadata": {
    "_uuid": "663721d2-c3b6-424a-b56d-ea114993e3ec",
    "_cell_guid": "d216f715-b88a-441c-b4ea-e4fc6d123db4",
    "trusted": true,
    "collapsed": false,
    "execution": {
     "iopub.status.busy": "2025-05-05T09:59:49.460781Z",
     "iopub.execute_input": "2025-05-05T09:59:49.461342Z",
     "iopub.status.idle": "2025-05-05T09:59:50.424221Z",
     "shell.execute_reply.started": "2025-05-05T09:59:49.461321Z",
     "shell.execute_reply": "2025-05-05T09:59:50.423510Z"
    },
    "jupyter": {
     "outputs_hidden": false
    }
   }
  },
  {
   "cell_type": "code",
   "source": "class SyntheticDataset(Dataset):\n    def __init__(self, data, labels):\n        self.data = data\n        self.labels = labels\n\n    def __len__(self):\n        return len(self.data)\n\n    def __getitem__(self, idx):\n        x = torch.tensor(self.data[idx], dtype=torch.float32)\n        y = torch.tensor(self.labels[idx], dtype=torch.long)\n        return x, y",
   "metadata": {
    "_uuid": "014a8e60-5834-4c9e-b7c3-49ddb591763f",
    "_cell_guid": "e3db5ffd-e9a8-4e93-906c-ef51ef1f3285",
    "trusted": true,
    "collapsed": false,
    "jupyter": {
     "outputs_hidden": false
    },
    "execution": {
     "iopub.status.busy": "2025-05-05T15:10:10.356353Z",
     "iopub.execute_input": "2025-05-05T15:10:10.356633Z",
     "iopub.status.idle": "2025-05-05T15:10:10.361254Z",
     "shell.execute_reply.started": "2025-05-05T15:10:10.356611Z",
     "shell.execute_reply": "2025-05-05T15:10:10.360676Z"
    }
   },
   "outputs": [],
   "execution_count": 23
  },
  {
   "cell_type": "markdown",
   "source": "Train / Validation Split and Dataloaders",
   "metadata": {
    "_uuid": "d37c395c-5dc6-4832-b27a-2aa7d97b5c24",
    "_cell_guid": "43b92007-f4e2-4e26-8456-2df699ca2fce",
    "trusted": true,
    "collapsed": false,
    "jupyter": {
     "outputs_hidden": false
    }
   }
  },
  {
   "cell_type": "code",
   "source": "# Splitting\n# First split: Train (80%) + Temp (20%)\ntrain_data, temp_data, train_labels, temp_labels = train_test_split(\n    synthetic_data, synthetic_labels, test_size=0.2, stratify=synthetic_labels, random_state=42\n)\n\n# Second split: Validation (10%) + Test (10%)\nval_data, test_data, val_labels, test_labels = train_test_split(\n    temp_data, temp_labels, test_size=0.5, stratify=temp_labels, random_state=42\n)\n\n# Check sizes\nprint(f\"Train samples: {len(train_data)}\")\nprint(f\"Validation samples: {len(val_data)}\")\nprint(f\"Test samples: {len(test_data)}\")\n\n# Datasets\ntrain_dataset = SyntheticDataset(train_data, train_labels)\nval_dataset = SyntheticDataset(val_data, val_labels)\ntest_dataset = SyntheticDataset(test_data, test_labels)\n\n# Dataloaders\ntrain_loader = DataLoader(train_dataset, batch_size=4, shuffle=True)\nval_loader = DataLoader(val_dataset, batch_size=4, shuffle=False)\ntest_loader = DataLoader(test_dataset, batch_size=4, shuffle=False)",
   "metadata": {
    "_uuid": "bb0f5e6b-2d5d-4acd-b2aa-19a00fb7613e",
    "_cell_guid": "b8c338c0-6771-4a72-bbf2-a6246a1442d8",
    "trusted": true,
    "collapsed": false,
    "jupyter": {
     "outputs_hidden": false
    },
    "execution": {
     "iopub.status.busy": "2025-05-05T15:10:12.091069Z",
     "iopub.execute_input": "2025-05-05T15:10:12.091336Z",
     "iopub.status.idle": "2025-05-05T15:10:16.523102Z",
     "shell.execute_reply.started": "2025-05-05T15:10:12.091315Z",
     "shell.execute_reply": "2025-05-05T15:10:16.522400Z"
    }
   },
   "outputs": [
    {
     "name": "stdout",
     "text": "Train samples: 1200\nValidation samples: 150\nTest samples: 150\n",
     "output_type": "stream"
    }
   ],
   "execution_count": 24
  },
  {
   "cell_type": "markdown",
   "source": "## Simple CNN",
   "metadata": {}
  },
  {
   "cell_type": "markdown",
   "source": "Model and training",
   "metadata": {}
  },
  {
   "cell_type": "code",
   "source": "# Create model, criterion, optimizer\nmodel = SimpleCNN3D(n_classes=2).to(device)\ncriterion = nn.CrossEntropyLoss()\noptimizer = optim.Adam(model.parameters(), lr=1e-3)\n\n# Training variables\nn_epochs = 20\ntrain_losses = []\nval_losses = []\nval_accuracies = []\n\n# Training loop\nfor epoch in range(n_epochs):\n    train_loss = train(train_loader, model, criterion, optimizer, device)\n    val_loss, val_acc = validate(val_loader, model, criterion, device, task='classification')\n\n    train_losses.append(train_loss)\n    val_losses.append(val_loss)\n    val_accuracies.append(val_acc)\n\n    print(f\"Epoch {epoch+1}/{n_epochs} | Train Loss: {train_loss:.4f} | Val Loss: {val_loss:.4f} | Val Accuracy: {val_acc:.4f}\")",
   "metadata": {
    "_uuid": "0307e906-40ad-495e-8df1-f1670b349006",
    "_cell_guid": "af99488e-85fd-44d9-ae57-e125c664ae71",
    "trusted": true,
    "collapsed": false,
    "jupyter": {
     "outputs_hidden": false
    },
    "execution": {
     "iopub.status.busy": "2025-05-05T15:10:20.277785Z",
     "iopub.execute_input": "2025-05-05T15:10:20.278320Z",
     "iopub.status.idle": "2025-05-05T15:17:15.475812Z",
     "shell.execute_reply.started": "2025-05-05T15:10:20.278296Z",
     "shell.execute_reply": "2025-05-05T15:17:15.475061Z"
    }
   },
   "outputs": [
    {
     "name": "stdout",
     "text": "Epoch 1/20 | Train Loss: 0.4127 | Val Loss: 0.2336 | Val Accuracy: 1.0000\nEpoch 2/20 | Train Loss: 0.2336 | Val Loss: 1.7777 | Val Accuracy: 0.5000\nEpoch 3/20 | Train Loss: 0.1207 | Val Loss: 0.0707 | Val Accuracy: 1.0000\nEpoch 4/20 | Train Loss: 0.0644 | Val Loss: 0.4919 | Val Accuracy: 0.5000\nEpoch 5/20 | Train Loss: 0.0415 | Val Loss: 0.1179 | Val Accuracy: 1.0000\nEpoch 6/20 | Train Loss: 0.0280 | Val Loss: 0.0212 | Val Accuracy: 1.0000\nEpoch 7/20 | Train Loss: 0.0209 | Val Loss: 0.0165 | Val Accuracy: 1.0000\nEpoch 8/20 | Train Loss: 0.0144 | Val Loss: 0.0059 | Val Accuracy: 1.0000\nEpoch 9/20 | Train Loss: 0.0134 | Val Loss: 0.0037 | Val Accuracy: 1.0000\nEpoch 10/20 | Train Loss: 0.0103 | Val Loss: 0.0151 | Val Accuracy: 1.0000\nEpoch 11/20 | Train Loss: 0.0074 | Val Loss: 0.0061 | Val Accuracy: 1.0000\nEpoch 12/20 | Train Loss: 0.0064 | Val Loss: 0.0013 | Val Accuracy: 1.0000\nEpoch 13/20 | Train Loss: 0.0045 | Val Loss: 0.0046 | Val Accuracy: 1.0000\nEpoch 14/20 | Train Loss: 0.0050 | Val Loss: 0.0027 | Val Accuracy: 1.0000\nEpoch 15/20 | Train Loss: 0.0069 | Val Loss: 0.0013 | Val Accuracy: 1.0000\nEpoch 16/20 | Train Loss: 0.0041 | Val Loss: 0.0006 | Val Accuracy: 1.0000\nEpoch 17/20 | Train Loss: 0.0029 | Val Loss: 0.0016 | Val Accuracy: 1.0000\nEpoch 18/20 | Train Loss: 0.0023 | Val Loss: 0.0004 | Val Accuracy: 1.0000\nEpoch 19/20 | Train Loss: 0.0044 | Val Loss: 0.0119 | Val Accuracy: 1.0000\nEpoch 20/20 | Train Loss: 0.0014 | Val Loss: 0.0004 | Val Accuracy: 1.0000\n",
     "output_type": "stream"
    }
   ],
   "execution_count": 25
  },
  {
   "cell_type": "markdown",
   "source": "Plotting",
   "metadata": {}
  },
  {
   "cell_type": "code",
   "source": "plt.plot(train_losses, label='Train Loss')\nplt.plot(val_losses, label='Validation Loss')\nplt.xlabel('Epoch')\nplt.ylabel('Loss')\nplt.legend()\nplt.title('Training and Validation Loss')\nplt.grid(True)\nplt.show()",
   "metadata": {
    "trusted": true,
    "execution": {
     "iopub.status.busy": "2025-05-05T15:17:39.860721Z",
     "iopub.execute_input": "2025-05-05T15:17:39.861296Z",
     "iopub.status.idle": "2025-05-05T15:17:40.098613Z",
     "shell.execute_reply.started": "2025-05-05T15:17:39.861271Z",
     "shell.execute_reply": "2025-05-05T15:17:40.097818Z"
    }
   },
   "outputs": [
    {
     "output_type": "display_data",
     "data": {
      "text/plain": "<Figure size 640x480 with 1 Axes>",
      "image/png": "[encoded data removed]"
     },
     "metadata": {}
    }
   ],
   "execution_count": 26
  },
  {
   "cell_type": "markdown",
   "source": "Prediction",
   "metadata": {}
  },
  {
   "cell_type": "code",
   "source": "# Prediction\ny_true, y_pred = evaluate(model, test_loader, task='classification', device=device)",
   "metadata": {
    "trusted": true,
    "execution": {
     "iopub.status.busy": "2025-05-05T15:40:55.381462Z",
     "iopub.execute_input": "2025-05-05T15:40:55.382182Z",
     "iopub.status.idle": "2025-05-05T15:41:04.054237Z",
     "shell.execute_reply.started": "2025-05-05T15:40:55.382157Z",
     "shell.execute_reply": "2025-05-05T15:41:04.053432Z"
    }
   },
   "outputs": [],
   "execution_count": 30
  },
  {
   "cell_type": "code",
   "source": "# Performance\nprint(\"Test Classification Report:\\n\")\nprint(classification_report(y_true, y_pred), '\\n')\n\nsns.heatmap(confusion_matrix(y_true, y_pred), annot=True, fmt=\"d\", cmap=\"Blues\")\nplt.title(\"Confusion Matrix - Test Set\")\nplt.xlabel(\"Predicted\")\nplt.ylabel(\"True\")\nplt.show()",
   "metadata": {
    "trusted": true,
    "execution": {
     "iopub.status.busy": "2025-05-05T15:41:08.525849Z",
     "iopub.execute_input": "2025-05-05T15:41:08.526636Z",
     "iopub.status.idle": "2025-05-05T15:41:08.693979Z",
     "shell.execute_reply.started": "2025-05-05T15:41:08.526607Z",
     "shell.execute_reply": "2025-05-05T15:41:08.693186Z"
    }
   },
   "outputs": [
    {
     "name": "stdout",
     "text": "Test Classification Report:\n\n              precision    recall  f1-score   support\n\n           0       1.00      1.00      1.00        75\n           1       1.00      1.00      1.00        75\n\n    accuracy                           1.00       150\n   macro avg       1.00      1.00      1.00       150\nweighted avg       1.00      1.00      1.00       150\n \n\n",
     "output_type": "stream"
    },
    {
     "output_type": "display_data",
     "data": {
      "text/plain": "<Figure size 640x480 with 2 Axes>",
      "image/png": "[encoded data removed]"
     },
     "metadata": {}
    }
   ],
   "execution_count": 31
  },
  {
   "cell_type": "markdown",
   "source": "## ResNet",
   "metadata": {}
  },
  {
   "cell_type": "code",
   "source": "# Create model, criterion, optimizer\nmodel = ResNet3D(n_classes=2).to(device)\ncriterion = nn.CrossEntropyLoss()\noptimizer = optim.Adam(model.parameters(), lr=1e-3)\n\n# Training variables\nn_epochs = 10\ntrain_losses = []\nval_losses = []\nval_accuracies = []\n\n# Training loop\nfor epoch in range(n_epochs):\n    train_loss = train(train_loader, model, criterion, optimizer, device)\n    val_loss, val_acc = validate(val_loader, model, criterion, device, task='classification')\n\n    train_losses.append(train_loss)\n    val_losses.append(val_loss)\n    val_accuracies.append(val_acc)\n\n    print(f\"Epoch {epoch+1}/{n_epochs} | Train Loss: {train_loss:.4f} | Val Loss: {val_loss:.4f} | Val Accuracy: {val_acc:.4f}\")",
   "metadata": {
    "trusted": true,
    "execution": {
     "iopub.status.busy": "2025-05-05T16:11:14.451834Z",
     "iopub.execute_input": "2025-05-05T16:11:14.452412Z",
     "iopub.status.idle": "2025-05-05T16:52:54.100708Z",
     "shell.execute_reply.started": "2025-05-05T16:11:14.452388Z",
     "shell.execute_reply": "2025-05-05T16:52:54.099939Z"
    }
   },
   "outputs": [
    {
     "name": "stdout",
     "text": "Epoch 1/10 | Train Loss: 0.0616 | Val Loss: 0.0001 | Val Accuracy: 1.0000\nEpoch 2/10 | Train Loss: 0.0013 | Val Loss: 0.0000 | Val Accuracy: 1.0000\nEpoch 3/10 | Train Loss: 0.0005 | Val Loss: 0.0000 | Val Accuracy: 1.0000\nEpoch 4/10 | Train Loss: 0.0002 | Val Loss: 0.0000 | Val Accuracy: 1.0000\nEpoch 5/10 | Train Loss: 0.0001 | Val Loss: 0.0000 | Val Accuracy: 1.0000\nEpoch 6/10 | Train Loss: 0.0001 | Val Loss: 0.0000 | Val Accuracy: 1.0000\nEpoch 7/10 | Train Loss: 0.0000 | Val Loss: 0.0000 | Val Accuracy: 1.0000\nEpoch 8/10 | Train Loss: 0.0000 | Val Loss: 0.0000 | Val Accuracy: 1.0000\nEpoch 9/10 | Train Loss: 0.0000 | Val Loss: 0.0000 | Val Accuracy: 1.0000\nEpoch 10/10 | Train Loss: 0.0000 | Val Loss: 0.0001 | Val Accuracy: 1.0000\n",
     "output_type": "stream"
    }
   ],
   "execution_count": 33
  },
  {
   "cell_type": "code",
   "source": "plt.plot(train_losses, label='Train Loss')\nplt.plot(val_losses, label='Validation Loss')\nplt.xlabel('Epoch')\nplt.ylabel('Loss')\nplt.legend()\nplt.title('Training and Validation Loss')\nplt.grid(True)\nplt.show()",
   "metadata": {
    "trusted": true,
    "execution": {
     "iopub.status.busy": "2025-05-05T17:07:11.714815Z",
     "iopub.execute_input": "2025-05-05T17:07:11.715212Z",
     "iopub.status.idle": "2025-05-05T17:07:11.899065Z",
     "shell.execute_reply.started": "2025-05-05T17:07:11.715176Z",
     "shell.execute_reply": "2025-05-05T17:07:11.898284Z"
    }
   },
   "outputs": [
    {
     "output_type": "display_data",
     "data": {
      "text/plain": "<Figure size 640x480 with 1 Axes>",
      "image/png": "[encoded data removed]"
     },
     "metadata": {}
    }
   ],
   "execution_count": 34
  },
  {
   "cell_type": "code",
   "source": "# Prediction\ny_true, y_pred = evaluate(model, test_loader, task='classification', device=device)",
   "metadata": {
    "trusted": true,
    "execution": {
     "iopub.status.busy": "2025-05-05T17:07:41.492254Z",
     "iopub.execute_input": "2025-05-05T17:07:41.493019Z",
     "iopub.status.idle": "2025-05-05T17:07:50.207601Z",
     "shell.execute_reply.started": "2025-05-05T17:07:41.492991Z",
     "shell.execute_reply": "2025-05-05T17:07:50.207021Z"
    }
   },
   "outputs": [],
   "execution_count": 36
  },
  {
   "cell_type": "code",
   "source": "# Performance\nprint(\"Test Classification Report:\\n\")\nprint(classification_report(y_true, y_pred), '\\n')\n\nsns.heatmap(confusion_matrix(y_true, y_pred), annot=True, fmt=\"d\", cmap=\"Blues\")\nplt.title(\"Confusion Matrix - Test Set\")\nplt.xlabel(\"Predicted\")\nplt.ylabel(\"True\")\nplt.show()",
   "metadata": {
    "trusted": true,
    "execution": {
     "iopub.status.busy": "2025-05-05T17:07:59.099108Z",
     "iopub.execute_input": "2025-05-05T17:07:59.099388Z",
     "iopub.status.idle": "2025-05-05T17:07:59.253211Z",
     "shell.execute_reply.started": "2025-05-05T17:07:59.099366Z",
     "shell.execute_reply": "2025-05-05T17:07:59.252451Z"
    }
   },
   "outputs": [
    {
     "name": "stdout",
     "text": "Test Classification Report:\n\n              precision    recall  f1-score   support\n\n           0       1.00      1.00      1.00        75\n           1       1.00      1.00      1.00        75\n\n    accuracy                           1.00       150\n   macro avg       1.00      1.00      1.00       150\nweighted avg       1.00      1.00      1.00       150\n \n\n",
     "output_type": "stream"
    },
    {
     "output_type": "display_data",
     "data": {
      "text/plain": "<Figure size 640x480 with 2 Axes>",
      "image/png": "[encoded data removed]"
     },
     "metadata": {}
    }
   ],
   "execution_count": 37
  }
 ]
}
