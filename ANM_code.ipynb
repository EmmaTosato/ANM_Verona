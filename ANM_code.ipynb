{
 "cells": [
  {
   "metadata": {},
   "cell_type": "markdown",
   "source": "# Libraries",
   "id": "d2307c9fb1159ab0"
  },
  {
   "metadata": {
    "ExecuteTime": {
     "end_time": "2025-03-21T17:04:53.919615Z",
     "start_time": "2025-03-21T17:04:53.692703Z"
    }
   },
   "cell_type": "code",
   "source": [
    "import numpy as np\n",
    "import pandas as pd\n",
    "import os\n",
    "import glob\n",
    "import nibabel as nib"
   ],
   "id": "2bbfb5d9ad283893",
   "outputs": [],
   "execution_count": 1
  },
  {
   "metadata": {},
   "cell_type": "markdown",
   "source": "# UMAP\n",
   "id": "826745a6f9deadbf"
  },
  {
   "metadata": {},
   "cell_type": "markdown",
   "source": "## Data Loading and Processing",
   "id": "615a9598c6cde30a"
  },
  {
   "metadata": {},
   "cell_type": "markdown",
   "source": "Load the FC maps data in nii.gz format and extract the subjects identifiers",
   "id": "2f6f81242949afb8"
  },
  {
   "metadata": {
    "ExecuteTime": {
     "end_time": "2025-03-21T17:21:43.402429Z",
     "start_time": "2025-03-21T17:21:43.378325Z"
    }
   },
   "cell_type": "code",
   "source": [
    "# Path to the directory containing FC maps\n",
    "path_dir ='/Users/emmatosato/Documents/PhD/General/Verona/FCmaps_mean/*gz'\n",
    "\n",
    "# Collects all file paths and sort\n",
    "files=glob.glob(path_dir)\n",
    "files.sort()\n",
    "\n",
    "# Extract Subject Identifiers\n",
    "sub_id = [sub.replace('/Users/emmatosato/Documents/PhD/General/Verona/FCmaps_mean/', '') for sub in files]\n",
    "sub_id = [sub.replace('.FDC.nii.gz', '') for sub in sub_id]"
   ],
   "id": "e341a71b457ed198",
   "outputs": [],
   "execution_count": 24
  },
  {
   "metadata": {},
   "cell_type": "markdown",
   "source": "Flatten and store each subject’s data",
   "id": "20eda22f9870a6a5"
  },
  {
   "metadata": {
    "ExecuteTime": {
     "end_time": "2025-03-21T17:22:26.347569Z",
     "start_time": "2025-03-21T17:21:45.334828Z"
    }
   },
   "cell_type": "code",
   "source": [
    "# Empty list to hold flattened brain maps\n",
    "mapsPCFDC=[]\n",
    "\n",
    "# Loop over files\n",
    "for x in range(len(files)):\n",
    "    print(files[x])\n",
    "    d=nib.load(files[x]).get_fdata().flatten()\n",
    "    mapsPCFDC.append(d)\n",
    "\n",
    "# Saving affine transformation matrix\n",
    "aff = nib.load(files[0]).affine\n",
    "\n",
    "# Create dataframe\n",
    "df=pd.DataFrame(mapsPCFDC)\n",
    "df=df.T\n",
    "\n",
    "# Add Subject Identifiers\n",
    "df_fdc=df.T\n",
    "df_fdc.insert(loc = 0, column = 'ID', value = sub_id)"
   ],
   "id": "361ac4401554a8a2",
   "outputs": [
    {
     "name": "stdout",
     "output_type": "stream",
     "text": [
      "/Users/emmatosato/Documents/PhD/General/Verona/FCmaps_mean/002_S_4654.FDC.nii.gz\n",
      "/Users/emmatosato/Documents/PhD/General/Verona/FCmaps_mean/002_S_6695.FDC.nii.gz\n",
      "/Users/emmatosato/Documents/PhD/General/Verona/FCmaps_mean/003_S_6264.FDC.nii.gz\n",
      "/Users/emmatosato/Documents/PhD/General/Verona/FCmaps_mean/003_S_6268.FDC.nii.gz\n",
      "/Users/emmatosato/Documents/PhD/General/Verona/FCmaps_mean/003_S_6432.FDC.nii.gz\n",
      "/Users/emmatosato/Documents/PhD/General/Verona/FCmaps_mean/003_S_6479.FDC.nii.gz\n",
      "/Users/emmatosato/Documents/PhD/General/Verona/FCmaps_mean/003_S_6606.FDC.nii.gz\n",
      "/Users/emmatosato/Documents/PhD/General/Verona/FCmaps_mean/006_S_6252.FDC.nii.gz\n",
      "/Users/emmatosato/Documents/PhD/General/Verona/FCmaps_mean/006_S_6682.FDC.nii.gz\n",
      "/Users/emmatosato/Documents/PhD/General/Verona/FCmaps_mean/007_S_6341.FDC.nii.gz\n",
      "/Users/emmatosato/Documents/PhD/General/Verona/FCmaps_mean/011_S_4893.FDC.nii.gz\n",
      "/Users/emmatosato/Documents/PhD/General/Verona/FCmaps_mean/011_S_6303.FDC.nii.gz\n",
      "/Users/emmatosato/Documents/PhD/General/Verona/FCmaps_mean/012_S_4188.FDC.nii.gz\n",
      "/Users/emmatosato/Documents/PhD/General/Verona/FCmaps_mean/016_S_4902.FDC.nii.gz\n",
      "/Users/emmatosato/Documents/PhD/General/Verona/FCmaps_mean/016_S_6708.FDC.nii.gz\n",
      "/Users/emmatosato/Documents/PhD/General/Verona/FCmaps_mean/016_S_6839.FDC.nii.gz\n",
      "/Users/emmatosato/Documents/PhD/General/Verona/FCmaps_mean/018_S_2155.FDC.nii.gz\n",
      "/Users/emmatosato/Documents/PhD/General/Verona/FCmaps_mean/019_S_6483.FDC.nii.gz\n",
      "/Users/emmatosato/Documents/PhD/General/Verona/FCmaps_mean/019_S_6668.FDC.nii.gz\n",
      "/Users/emmatosato/Documents/PhD/General/Verona/FCmaps_mean/021_S_0626.FDC.nii.gz\n",
      "/Users/emmatosato/Documents/PhD/General/Verona/FCmaps_mean/021_S_5237.FDC.nii.gz\n",
      "/Users/emmatosato/Documents/PhD/General/Verona/FCmaps_mean/021_S_6312.FDC.nii.gz\n",
      "/Users/emmatosato/Documents/PhD/General/Verona/FCmaps_mean/027_S_6965.FDC.nii.gz\n",
      "/Users/emmatosato/Documents/PhD/General/Verona/FCmaps_mean/032_S_6600.FDC.nii.gz\n",
      "/Users/emmatosato/Documents/PhD/General/Verona/FCmaps_mean/032_S_6602.FDC.nii.gz\n",
      "/Users/emmatosato/Documents/PhD/General/Verona/FCmaps_mean/032_S_6700.FDC.nii.gz\n",
      "/Users/emmatosato/Documents/PhD/General/Verona/FCmaps_mean/035_S_4114.FDC.nii.gz\n",
      "/Users/emmatosato/Documents/PhD/General/Verona/FCmaps_mean/035_S_6927.FDC.nii.gz\n",
      "/Users/emmatosato/Documents/PhD/General/Verona/FCmaps_mean/036_S_4430.FDC.nii.gz\n",
      "/Users/emmatosato/Documents/PhD/General/Verona/FCmaps_mean/036_S_4538.FDC.nii.gz\n",
      "/Users/emmatosato/Documents/PhD/General/Verona/FCmaps_mean/073_S_6673.FDC.nii.gz\n",
      "/Users/emmatosato/Documents/PhD/General/Verona/FCmaps_mean/098_S_6601.FDC.nii.gz\n",
      "/Users/emmatosato/Documents/PhD/General/Verona/FCmaps_mean/098_S_6655.FDC.nii.gz\n",
      "/Users/emmatosato/Documents/PhD/General/Verona/FCmaps_mean/098_S_6658.FDC.nii.gz\n",
      "/Users/emmatosato/Documents/PhD/General/Verona/FCmaps_mean/099_S_6632.FDC.nii.gz\n",
      "/Users/emmatosato/Documents/PhD/General/Verona/FCmaps_mean/099_S_6691.FDC.nii.gz\n",
      "/Users/emmatosato/Documents/PhD/General/Verona/FCmaps_mean/114_S_6039.FDC.nii.gz\n",
      "/Users/emmatosato/Documents/PhD/General/Verona/FCmaps_mean/130_S_4294.FDC.nii.gz\n",
      "/Users/emmatosato/Documents/PhD/General/Verona/FCmaps_mean/130_S_4415.FDC.nii.gz\n",
      "/Users/emmatosato/Documents/PhD/General/Verona/FCmaps_mean/130_S_6072.FDC.nii.gz\n",
      "/Users/emmatosato/Documents/PhD/General/Verona/FCmaps_mean/131_S_7032.FDC.nii.gz\n",
      "/Users/emmatosato/Documents/PhD/General/Verona/FCmaps_mean/135_S_6545.FDC.nii.gz\n",
      "/Users/emmatosato/Documents/PhD/General/Verona/FCmaps_mean/137_S_4862.FDC.nii.gz\n",
      "/Users/emmatosato/Documents/PhD/General/Verona/FCmaps_mean/141_S_2333.FDC.nii.gz\n",
      "/Users/emmatosato/Documents/PhD/General/Verona/FCmaps_mean/1_S_5005.FDC.nii.gz\n",
      "/Users/emmatosato/Documents/PhD/General/Verona/FCmaps_mean/1_S_5006.FDC.nii.gz\n",
      "/Users/emmatosato/Documents/PhD/General/Verona/FCmaps_mean/1_S_5007.FDC.nii.gz\n",
      "/Users/emmatosato/Documents/PhD/General/Verona/FCmaps_mean/1_S_5008.FDC.nii.gz\n",
      "/Users/emmatosato/Documents/PhD/General/Verona/FCmaps_mean/1_S_5009.FDC.nii.gz\n",
      "/Users/emmatosato/Documents/PhD/General/Verona/FCmaps_mean/1_S_5010.FDC.nii.gz\n",
      "/Users/emmatosato/Documents/PhD/General/Verona/FCmaps_mean/1_S_5011.FDC.nii.gz\n"
     ]
    }
   ],
   "execution_count": 25
  },
  {
   "metadata": {},
   "cell_type": "markdown",
   "source": "Threshold and mask",
   "id": "f81280d70543524c"
  },
  {
   "metadata": {},
   "cell_type": "code",
   "outputs": [],
   "execution_count": null,
   "source": [
    "# Set all values below 0.2 to 0\n",
    "df = df.mask(df < 0.2, 0)"
   ],
   "id": "12e89e56890e2e5a"
  },
  {
   "metadata": {},
   "cell_type": "markdown",
   "source": "# Dimensionality Reduction with UMAP",
   "id": "dc964c8201936233"
  },
  {
   "metadata": {},
   "cell_type": "code",
   "outputs": [],
   "execution_count": null,
   "source": "",
   "id": "9b0f8fc0d322543e"
  }
 ],
 "metadata": {
  "kernelspec": {
   "display_name": "Python 3",
   "language": "python",
   "name": "python3"
  },
  "language_info": {
   "codemirror_mode": {
    "name": "ipython",
    "version": 2
   },
   "file_extension": ".py",
   "mimetype": "text/x-python",
   "name": "python",
   "nbconvert_exporter": "python",
   "pygments_lexer": "ipython2",
   "version": "2.7.6"
  }
 },
 "nbformat": 4,
 "nbformat_minor": 5
}
