{
 "cells": [
  {
   "metadata": {},
   "cell_type": "markdown",
   "source": "# Utils",
   "id": "c3c58a627c13edad"
  },
  {
   "metadata": {
    "ExecuteTime": {
     "end_time": "2025-06-27T09:36:00.369024Z",
     "start_time": "2025-06-27T09:36:00.174849Z"
    }
   },
   "cell_type": "code",
   "source": [
    "import warnings\n",
    "import umap\n",
    "import importlib\n",
    "import pandas as pd\n",
    "import numpy as np\n",
    "import matplotlib.pyplot as plt\n",
    "from sklearn.cluster import KMeans\n",
    "import hdbscan\n",
    "from scipy.stats import chi2_contingency\n",
    "from sklearn.preprocessing import LabelEncoder\n",
    "from sklearn.model_selection import train_test_split\n",
    "from sklearn.svm import SVC\n",
    "from sklearn.ensemble import RandomForestClassifier\n",
    "from sklearn.metrics import (\n",
    "    classification_report, confusion_matrix, roc_auc_score,\n",
    "    accuracy_score, precision_score, recall_score, f1_score\n",
    ")\n",
    "import seaborn as sns\n",
    "import matplotlib.pyplot as plt\n",
    "\n",
    "\n",
    "warnings.simplefilter(action='ignore', category=FutureWarning)\n",
    "\n",
    "from analysis import umap_run, clustering_evaluation, clustering\n",
    "from preprocessing import processflat\n",
    "\n",
    "importlib.reload(umap_run)\n",
    "importlib.reload(clustering_evaluation)\n",
    "importlib.reload(clustering)\n",
    "importlib.reload(processflat)\n",
    "\n",
    "from preprocessing.processflat import x_features_return\n",
    "from analysis.clustering import plot_clusters_vs_groups\n",
    "from analysis.umap_run import run_umap\n",
    "\n",
    "%load_ext autoreload\n",
    "%autoreload 2"
   ],
   "id": "d229c77880fb63f3",
   "outputs": [
    {
     "name": "stdout",
     "output_type": "stream",
     "text": [
      "The autoreload extension is already loaded. To reload it, use:\n",
      "  %reload_ext autoreload\n"
     ]
    }
   ],
   "execution_count": 8
  },
  {
   "metadata": {
    "ExecuteTime": {
     "end_time": "2025-06-27T09:36:00.390366Z",
     "start_time": "2025-06-27T09:36:00.372551Z"
    }
   },
   "cell_type": "code",
   "source": [
    "# FC maps directories\n",
    "dir_FCmaps = '/Users/emmatosato/Documents/PhD/ANM_Verona/data/FCmaps'\n",
    "dir_FCmaps_processed = '/data/FCmaps_augmented_processed'\n",
    "dir_data_utils = \"/Users/emmatosato/Documents/PhD/ANM_Verona/data_utils/\"\n",
    "\n",
    "# Path to masks\n",
    "gm_mask_path = '/Users/emmatosato/Documents/PhD/ANM_Verona/utils/masks/GM_mask.nii'\n",
    "harvard_oxford_mask_path = '/Users/emmatosato/Documents/PhD/ANM_Verona/utils/masks/mask_GM.nii'\n",
    "\n",
    "# Metadata\n",
    "atrophy_dataset_matches = '/Users/emmatosato/Documents/PhD/ANM_Verona/utils/metadata/atrophy_matched.xlsx'\n",
    "cognitive_dataset ='/Users/emmatosato/Documents/PhD/ANM_Verona/utils/metadata/cognitive_dataset.xlsx'\n",
    "path_df_meta = \"/Users/emmatosato/Documents/PhD/ANM_Verona/data/dataframes/meta/df_meta.csv\"\n",
    "\n",
    "# Done dataframe of preprocessed FC maps\n",
    "path_df_gm = \"/Users/emmatosato/Documents/PhD/ANM_Verona/data/dataframes/fdc/df_gm.pkl\"\n",
    "path_df_thr02_gm = \"/Users/emmatosato/Documents/PhD/ANM_Verona/data/dataframes/fdc/df_thr02_gm.pkl\""
   ],
   "id": "2684776bb8d39807",
   "outputs": [],
   "execution_count": 9
  },
  {
   "metadata": {},
   "cell_type": "markdown",
   "source": "# Umap",
   "id": "b156b85129041aca"
  },
  {
   "metadata": {},
   "cell_type": "markdown",
   "source": "## Input Data",
   "id": "80492a554353d9d1"
  },
  {
   "metadata": {},
   "cell_type": "markdown",
   "source": [
    "For the further analysis we will remove the ID labels columns, but the order is maintained.\n",
    "\n",
    "Possible dataset from mean maps:\n",
    "- `df_thr01_gm_masked`\n",
    "- `df_thr02_gm_masked`\n",
    "- `df_thr01_har_masked`\n",
    "- `df_thr02_har_masked`\n",
    "- `df_gm_masked`\n",
    "- `df_har_masked`\n",
    "\n",
    "Possible dataset from mean network:\n",
    "- `df_networks_no_thr`\n",
    "- `df_networks_thr01`\n",
    "- `df_networks_thr02`\n",
    "\n",
    "Here we go with one example"
   ],
   "id": "32a7be67a71cb878"
  },
  {
   "metadata": {
    "ExecuteTime": {
     "end_time": "2025-06-27T09:36:00.735864Z",
     "start_time": "2025-06-27T09:36:00.406650Z"
    }
   },
   "cell_type": "code",
   "source": [
    "# Load dataframes\n",
    "df_gm = pd.read_pickle(path_df_gm)\n",
    "df_meta = pd.read_csv(path_df_meta)\n",
    "\n",
    "# Merge with metadata\n",
    "df_merged, X = x_features_return(df_gm, df_meta)"
   ],
   "id": "49d5f1dd8844f317",
   "outputs": [
    {
     "name": "stdout",
     "output_type": "stream",
     "text": [
      "\n",
      "-------------------- Dataset Info --------------------\n",
      "Meta columns (Labels and Covariates):       10\n",
      "Feature matrix shape (X):                (176, 161817)\n",
      "Complete dataframe shape after merge:    (176, 161827)\n",
      "-------------------------------------------------------\n",
      "\n"
     ]
    }
   ],
   "execution_count": 10
  },
  {
   "metadata": {},
   "cell_type": "markdown",
   "source": "## Dimensionality Reduction",
   "id": "99ba9bf54fa4b51b"
  },
  {
   "metadata": {},
   "cell_type": "markdown",
   "source": "UMAP is not changing the order of the rows so each row correspond to the previous subject in the not reduced dataset.",
   "id": "a807ed987cdddfd8"
  },
  {
   "metadata": {
    "ExecuteTime": {
     "end_time": "2025-06-27T09:36:00.814982Z",
     "start_time": "2025-06-27T09:36:00.797680Z"
    }
   },
   "cell_type": "code",
   "source": "np.random.seed(42)",
   "id": "207e6546a00bb578",
   "outputs": [],
   "execution_count": 11
  },
  {
   "metadata": {
    "ExecuteTime": {
     "end_time": "2025-06-27T09:36:04.400857Z",
     "start_time": "2025-06-27T09:36:02.734953Z"
    }
   },
   "cell_type": "code",
   "source": [
    "# Parameters\n",
    "umap_params = {'n_neighbors': 15, 'n_components': 2, 'metric': 'euclidean', 'n_epochs': 1000, 'learning_rate': 1.0, 'init': 'spectral', 'min_dist': 0.1, 'spread': 1.0, 'low_memory': False, 'set_op_mix_ratio': 1.0, 'local_connectivity': 1, 'repulsion_strength': 1.0, 'negative_sample_rate': 5, 'transform_queue_size': 4.0, 'a': None, 'b': None, 'random_state': 42, 'metric_kwds': None, 'angular_rp_forest': False, 'target_n_neighbors': -1, 'transform_seed': 42, 'verbose': False, 'unique': False}\n",
    "reducer = umap.UMAP(**umap_params)\n",
    "\n",
    "# Fit the model\n",
    "X_umap = reducer.fit_transform(X)"
   ],
   "id": "f87a43743c638380",
   "outputs": [],
   "execution_count": 12
  },
  {
   "metadata": {
    "ExecuteTime": {
     "end_time": "2025-06-27T09:36:04.479466Z",
     "start_time": "2025-06-27T09:36:04.404634Z"
    }
   },
   "cell_type": "code",
   "source": [
    "plt.figure(figsize=(6, 4))\n",
    "plt.scatter(X_umap[:, 0], X_umap[:, 1], s=10, alpha=0.6)\n",
    "plt.title(\"UMAP Embedding\")\n",
    "plt.xlabel(\"UMAP 1\")\n",
    "plt.ylabel(\"UMAP 2\")\n",
    "plt.grid(True)\n",
    "plt.show()"
   ],
   "id": "479f821e67c45cbd",
   "outputs": [
    {
     "data": {
      "text/plain": [
       "<Figure size 600x400 with 1 Axes>"
      ],
      "image/png": "[encoded data removed]"
     },
     "metadata": {},
     "output_type": "display_data"
    }
   ],
   "execution_count": 13
  },
  {
   "metadata": {},
   "cell_type": "markdown",
   "source": "# Unsupervised Clustering",
   "id": "d54dc7532a5eeb60"
  },
  {
   "metadata": {},
   "cell_type": "markdown",
   "source": "## Fit models",
   "id": "90241d3c949bb798"
  },
  {
   "metadata": {
    "ExecuteTime": {
     "end_time": "2025-06-27T09:36:05.917625Z",
     "start_time": "2025-06-27T09:36:05.893806Z"
    }
   },
   "cell_type": "code",
   "source": [
    "# HDBSCAN\n",
    "cluster_hdb = hdbscan.HDBSCAN(min_cluster_size=5)\n",
    "labels_hdb = cluster_hdb.fit_predict(X_umap)\n",
    "\n",
    "# K-Means\n",
    "kmeans = KMeans(n_clusters=7, random_state=42)\n",
    "labels_km = kmeans.fit_predict(X_umap)"
   ],
   "id": "46f8539223752cb2",
   "outputs": [],
   "execution_count": 14
  },
  {
   "metadata": {},
   "cell_type": "markdown",
   "source": "Result collection",
   "id": "241a090c512de43d"
  },
  {
   "metadata": {
    "ExecuteTime": {
     "end_time": "2025-06-27T09:36:07.347152Z",
     "start_time": "2025-06-27T09:36:07.319683Z"
    }
   },
   "cell_type": "code",
   "source": [
    "labels_dict = {\n",
    "    \"HDBSCAN\": labels_hdb,\n",
    "    \"K-Means\": labels_km,\n",
    "}\n",
    "\n",
    "labels_df = pd.DataFrame({\n",
    "    'ID': df_merged['ID'],\n",
    "    'Group': df_merged['Group'],\n",
    "    'CDR_SB': df_merged['CDR_SB'],\n",
    "    'MMSE': df_merged['MMSE'],\n",
    "    'labels_gmm_cdr': df_merged['labels_gmm_cdr'],\n",
    "    'HDBSCAN': labels_hdb,\n",
    "    'KMeans': labels_km,\n",
    "})\n"
   ],
   "id": "2fac61edd83dd66f",
   "outputs": [],
   "execution_count": 15
  },
  {
   "metadata": {},
   "cell_type": "markdown",
   "source": "## Statistical Evaluation",
   "id": "8021aed2129c14e1"
  },
  {
   "metadata": {
    "ExecuteTime": {
     "end_time": "2025-06-18T07:28:23.955940Z",
     "start_time": "2025-06-18T07:28:23.922828Z"
    }
   },
   "cell_type": "code",
   "outputs": [
    {
     "name": "stdout",
     "output_type": "stream",
     "text": [
      "\n",
      "=== Chi-squared test for ADNI ===\n",
      "Contingency Table:\n",
      "ADNI_label  ADNI  other\n",
      "KMeans                 \n",
      "0             25     41\n",
      "1             25     53\n",
      "2             22     10\n",
      "\n",
      "Chi² = 13.0431\n",
      "p-value = 0.0015\n",
      "Degrees of Freedom = 2\n",
      "\n",
      "=== Chi-squared test for CBS ===\n",
      "Contingency Table:\n",
      "CBS_label  CBS  other\n",
      "KMeans               \n",
      "0           17     49\n",
      "1           21     57\n",
      "2            6     26\n",
      "\n",
      "Chi² = 0.8407\n",
      "p-value = 0.6568\n",
      "Degrees of Freedom = 2\n",
      "\n",
      "=== Chi-squared test for PSP ===\n",
      "Contingency Table:\n",
      "PSP_label  PSP  other\n",
      "KMeans               \n",
      "0           24     42\n",
      "1           32     46\n",
      "2            4     28\n",
      "\n",
      "Chi² = 8.4602\n",
      "p-value = 0.0146\n",
      "Degrees of Freedom = 2\n"
     ]
    }
   ],
   "execution_count": 12,
   "source": [
    "diagnoses = ['ADNI', 'CBS', 'PSP']\n",
    "\n",
    "for diag in diagnoses:\n",
    "    print(f\"\\n=== Chi-squared test for {diag} ===\")\n",
    "\n",
    "    # Crea colonna binaria con etichette leggibili\n",
    "    labels_df[f'{diag}_label'] = labels_df['Group'].apply(lambda x: diag if x == diag else 'other')\n",
    "\n",
    "    # Tabella di contingenza: Cluster vs (diag vs other)\n",
    "    contingency = pd.crosstab(labels_df['KMeans'], labels_df[f'{diag}_label'])\n",
    "    print(\"Contingency Table:\")\n",
    "    print(contingency)\n",
    "\n",
    "    # Chi-squared test\n",
    "    chi2, p_value, dof, expected = chi2_contingency(contingency)\n",
    "\n",
    "    # Output\n",
    "    print(f\"\\nChi² = {chi2:.4f}\")\n",
    "    print(f\"p-value = {p_value:.4f}\")\n",
    "    print(f\"Degrees of Freedom = {dof}\")"
   ],
   "id": "534353a90ccf769f"
  }
 ],
 "metadata": {
  "kernelspec": {
   "name": "python3",
   "language": "python",
   "display_name": "Python 3 (ipykernel)"
  }
 },
 "nbformat": 5,
 "nbformat_minor": 9
}
