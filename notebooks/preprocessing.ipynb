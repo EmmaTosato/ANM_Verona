{
 "cells": [
  {
   "metadata": {},
   "cell_type": "markdown",
   "source": "# Utils",
   "id": "4a0aa225dfc274ad"
  },
  {
   "metadata": {
    "ExecuteTime": {
     "end_time": "2025-06-18T15:22:46.039110Z",
     "start_time": "2025-06-18T15:22:46.006592Z"
    }
   },
   "cell_type": "code",
   "source": [
    "# Libraries\n",
    "import pandas as pd\n",
    "import os\n",
    "import glob\n",
    "import nibabel as nib\n",
    "import matplotlib.pyplot as plt\n",
    "import seaborn as sns\n",
    "from sklearn.mixture import GaussianMixture\n",
    "import warnings\n",
    "import sys\n",
    "import numpy as np\n",
    "\n",
    "# Suppress all FutureWarnings\n",
    "warnings.simplefilter(action='ignore', category=FutureWarning)\n",
    "\n",
    "sys.path.append(\"/Users/emmatosato/Documents/PhD/ANM_Verona/src/data_processing\")\n",
    "\n",
    "# Scripts\n",
    "import importlib\n",
    "from preprocessing import processflat\n",
    "from analysis import umap_run, clustering_evaluation, clustering, regression\n",
    "\n",
    "importlib.reload(clustering_evaluation)\n",
    "importlib.reload(regression)\n",
    "importlib.reload(clustering)\n",
    "importlib.reload(umap_run)\n",
    "importlib.reload(processflat)\n",
    "\n",
    "from analysis.clustering import plot_clusters_vs_groups\n",
    "from preprocessing.processflat import x_features_return\n",
    "\n",
    "%load_ext autoreload\n",
    "%autoreload 2"
   ],
   "id": "b92922d0c25189c7",
   "outputs": [],
   "execution_count": 2
  },
  {
   "metadata": {
    "ExecuteTime": {
     "end_time": "2025-06-18T15:22:48.475546Z",
     "start_time": "2025-06-18T15:22:48.447189Z"
    }
   },
   "cell_type": "code",
   "source": [
    "# FC maps directories\n",
    "dir_FCmaps = '/Users/emmatosato/Documents/PhD/ANM_Verona/data/FCmaps'\n",
    "dir_FCmaps_processed = '/data/FCmaps_augmented_processed'\n",
    "dir_data_utils = \"/Users/emmatosato/Documents/PhD/ANM_Verona/data_utils/\"\n",
    "\n",
    "# Path to masks\n",
    "gm_mask_path = '/Users/emmatosato/Documents/PhD/ANM_Verona/utils/masks/GM_mask.nii'\n",
    "harvard_oxford_mask_path = '/Users/emmatosato/Documents/PhD/ANM_Verona/utils/masks/mask_GM.nii'\n",
    "\n",
    "# Metadata\n",
    "atrophy_dataset_matches = '/Users/emmatosato/Documents/PhD/ANM_Verona/utils/metadata/atrophy_matched.xlsx'\n",
    "cognitive_dataset ='/Users/emmatosato/Documents/PhD/ANM_Verona/utils/metadata/cognitive_dataset.xlsx'\n",
    "path_df_meta = \"/Users/emmatosato/Documents/PhD/ANM_Verona/data/dataframes/meta/df_meta.csv\"\n",
    "\n",
    "# Done dataframe of preprocessed FC maps\n",
    "path_df_gm = \"/Users/emmatosato/Documents/PhD/ANM_Verona/data/dataframes/fdc/df_gm.pkl\"\n",
    "path_df_thr02_gm = \"/Users/emmatosato/Documents/PhD/ANM_Verona/data/dataframes/fdc/df_thr02_gm.pkl\""
   ],
   "id": "737513dc87a0b233",
   "outputs": [],
   "execution_count": 3
  },
  {
   "metadata": {},
   "cell_type": "markdown",
   "source": "# Data",
   "id": "1fe9fd9849f07fba"
  },
  {
   "metadata": {},
   "cell_type": "markdown",
   "source": "## Raw data",
   "id": "4286d94b6d93f5cd"
  },
  {
   "metadata": {},
   "cell_type": "markdown",
   "source": "#### One file example",
   "id": "cef343d7b03d08a7"
  },
  {
   "metadata": {
    "ExecuteTime": {
     "end_time": "2025-06-18T15:22:49.165273Z",
     "start_time": "2025-06-18T15:22:49.126329Z"
    }
   },
   "cell_type": "code",
   "source": [
    "# Load an image\n",
    "path_temp = os.path.join(dir_FCmaps, '1_S_5005.FDC.nii.gz')\n",
    "img = nib.load(path_temp)\n",
    "\n",
    "# Separate the data and affine\n",
    "temp_img = img.get_fdata()      # 3D volume data\n",
    "temp_affine = img.affine        # 4x4 affine matrix\n",
    "\n",
    "# Print shapes\n",
    "print(temp_img.shape)\n",
    "print(temp_affine.shape)"
   ],
   "id": "b20e7f28d74e77fe",
   "outputs": [
    {
     "name": "stdout",
     "output_type": "stream",
     "text": [
      "(91, 109, 91)\n",
      "(4, 4)\n"
     ]
    }
   ],
   "execution_count": 4
  },
  {
   "metadata": {},
   "cell_type": "markdown",
   "source": "#### Load data",
   "id": "20ddbad83e889a36"
  },
  {
   "metadata": {},
   "cell_type": "markdown",
   "source": "Function for listing the data in nii.gz format and extract the subjects identifiers + printing some infos",
   "id": "ed52e15722bfe879"
  },
  {
   "metadata": {
    "ExecuteTime": {
     "end_time": "2025-06-18T15:22:49.634638Z",
     "start_time": "2025-06-18T15:22:49.603326Z"
    }
   },
   "cell_type": "code",
   "source": [
    "def listData_saveID(dir):\n",
    "    # All nii.gz files in the directory\n",
    "    files_path = sorted(glob.glob(os.path.join(dir, '*gz')))\n",
    "\n",
    "    # Extract Subject IDs from filenames\n",
    "    subject_id = [os.path.basename(f).replace('.FDC.nii.gz', '') for f in files_path]\n",
    "\n",
    "    # Sanity checks\n",
    "    assert len(files_path) == len(subject_id), (\n",
    "        f\"Mismatch count: {len(files_path)} files vs {len(subject_id)} IDs\"\n",
    "    )\n",
    "    assert len(subject_id) == len(set(subject_id)), \"ID duplicated\"\n",
    "    for fp, sid in zip(files_path, subject_id):\n",
    "        fname = os.path.basename(fp)\n",
    "        expected = sid + '.FDC.nii.gz'\n",
    "        assert fname == expected, (\n",
    "            f\"Filename “{fname}” do not correspond to the extracted ID“{sid}”\"\n",
    "        )\n",
    "\n",
    "    print(\"Check length:\")\n",
    "    print(\"Files: \", len(files_path))\n",
    "    print(\"Subject: \", len(subject_id))\n",
    "\n",
    "    return files_path, subject_id"
   ],
   "id": "630d3c8e453f4c34",
   "outputs": [],
   "execution_count": 5
  },
  {
   "metadata": {
    "ExecuteTime": {
     "end_time": "2025-06-18T15:22:49.803252Z",
     "start_time": "2025-06-18T15:22:49.776497Z"
    }
   },
   "cell_type": "code",
   "source": "files, sub_id = listData_saveID(dir_FCmaps)",
   "id": "d82fb5d6d9ffcedd",
   "outputs": [
    {
     "name": "stdout",
     "output_type": "stream",
     "text": [
      "Check length:\n",
      "Files:  176\n",
      "Subject:  176\n"
     ]
    }
   ],
   "execution_count": 6
  },
  {
   "metadata": {
    "ExecuteTime": {
     "end_time": "2025-06-18T15:23:25.264935Z",
     "start_time": "2025-06-18T15:22:49.939927Z"
    }
   },
   "cell_type": "code",
   "source": [
    "maps_FDC = []\n",
    "for path in files:\n",
    "    print(path)\n",
    "    data = nib.load(path).get_fdata().flatten()\n",
    "    maps_FDC.append(data)\n",
    "\n",
    "# Stores subjects as rows and voxels as columns\n",
    "df=pd.DataFrame(maps_FDC)"
   ],
   "id": "74f12fc280995b09",
   "outputs": [
    {
     "name": "stdout",
     "output_type": "stream",
     "text": [
      "/Users/emmatosato/Documents/PhD/ANM_Verona/data/FCmaps/002_S_4654.FDC.nii.gz\n",
      "/Users/emmatosato/Documents/PhD/ANM_Verona/data/FCmaps/002_S_6695.FDC.nii.gz\n",
      "/Users/emmatosato/Documents/PhD/ANM_Verona/data/FCmaps/003_S_6264.FDC.nii.gz\n",
      "/Users/emmatosato/Documents/PhD/ANM_Verona/data/FCmaps/003_S_6268.FDC.nii.gz\n",
      "/Users/emmatosato/Documents/PhD/ANM_Verona/data/FCmaps/003_S_6432.FDC.nii.gz\n",
      "/Users/emmatosato/Documents/PhD/ANM_Verona/data/FCmaps/003_S_6479.FDC.nii.gz\n",
      "/Users/emmatosato/Documents/PhD/ANM_Verona/data/FCmaps/003_S_6606.FDC.nii.gz\n",
      "/Users/emmatosato/Documents/PhD/ANM_Verona/data/FCmaps/006_S_6252.FDC.nii.gz\n",
      "/Users/emmatosato/Documents/PhD/ANM_Verona/data/FCmaps/006_S_6682.FDC.nii.gz\n",
      "/Users/emmatosato/Documents/PhD/ANM_Verona/data/FCmaps/007_S_6341.FDC.nii.gz\n",
      "/Users/emmatosato/Documents/PhD/ANM_Verona/data/FCmaps/011_S_4893.FDC.nii.gz\n",
      "/Users/emmatosato/Documents/PhD/ANM_Verona/data/FCmaps/011_S_6303.FDC.nii.gz\n",
      "/Users/emmatosato/Documents/PhD/ANM_Verona/data/FCmaps/012_S_4188.FDC.nii.gz\n",
      "/Users/emmatosato/Documents/PhD/ANM_Verona/data/FCmaps/016_S_4902.FDC.nii.gz\n",
      "/Users/emmatosato/Documents/PhD/ANM_Verona/data/FCmaps/016_S_6708.FDC.nii.gz\n",
      "/Users/emmatosato/Documents/PhD/ANM_Verona/data/FCmaps/016_S_6839.FDC.nii.gz\n",
      "/Users/emmatosato/Documents/PhD/ANM_Verona/data/FCmaps/018_S_2155.FDC.nii.gz\n",
      "/Users/emmatosato/Documents/PhD/ANM_Verona/data/FCmaps/019_S_6483.FDC.nii.gz\n",
      "/Users/emmatosato/Documents/PhD/ANM_Verona/data/FCmaps/019_S_6668.FDC.nii.gz\n",
      "/Users/emmatosato/Documents/PhD/ANM_Verona/data/FCmaps/021_S_0626.FDC.nii.gz\n",
      "/Users/emmatosato/Documents/PhD/ANM_Verona/data/FCmaps/021_S_5237.FDC.nii.gz\n",
      "/Users/emmatosato/Documents/PhD/ANM_Verona/data/FCmaps/021_S_6312.FDC.nii.gz\n",
      "/Users/emmatosato/Documents/PhD/ANM_Verona/data/FCmaps/022_S_6796.FDC.nii.gz\n",
      "/Users/emmatosato/Documents/PhD/ANM_Verona/data/FCmaps/027_S_5277.FDC.nii.gz\n",
      "/Users/emmatosato/Documents/PhD/ANM_Verona/data/FCmaps/027_S_6034.FDC.nii.gz\n",
      "/Users/emmatosato/Documents/PhD/ANM_Verona/data/FCmaps/027_S_6788.FDC.nii.gz\n",
      "/Users/emmatosato/Documents/PhD/ANM_Verona/data/FCmaps/027_S_6965.FDC.nii.gz\n",
      "/Users/emmatosato/Documents/PhD/ANM_Verona/data/FCmaps/032_S_6600.FDC.nii.gz\n",
      "/Users/emmatosato/Documents/PhD/ANM_Verona/data/FCmaps/032_S_6602.FDC.nii.gz\n",
      "/Users/emmatosato/Documents/PhD/ANM_Verona/data/FCmaps/032_S_6700.FDC.nii.gz\n",
      "/Users/emmatosato/Documents/PhD/ANM_Verona/data/FCmaps/035_S_4114.FDC.nii.gz\n",
      "/Users/emmatosato/Documents/PhD/ANM_Verona/data/FCmaps/035_S_6927.FDC.nii.gz\n",
      "/Users/emmatosato/Documents/PhD/ANM_Verona/data/FCmaps/036_S_4430.FDC.nii.gz\n",
      "/Users/emmatosato/Documents/PhD/ANM_Verona/data/FCmaps/036_S_4538.FDC.nii.gz\n",
      "/Users/emmatosato/Documents/PhD/ANM_Verona/data/FCmaps/036_S_4715.FDC.nii.gz\n",
      "/Users/emmatosato/Documents/PhD/ANM_Verona/data/FCmaps/036_S_6134.FDC.nii.gz\n",
      "/Users/emmatosato/Documents/PhD/ANM_Verona/data/FCmaps/037_S_6216.FDC.nii.gz\n",
      "/Users/emmatosato/Documents/PhD/ANM_Verona/data/FCmaps/041_S_4510.FDC.nii.gz\n",
      "/Users/emmatosato/Documents/PhD/ANM_Verona/data/FCmaps/041_S_4974.FDC.nii.gz\n",
      "/Users/emmatosato/Documents/PhD/ANM_Verona/data/FCmaps/053_S_6598.FDC.nii.gz\n",
      "/Users/emmatosato/Documents/PhD/ANM_Verona/data/FCmaps/067_S_6529.FDC.nii.gz\n",
      "/Users/emmatosato/Documents/PhD/ANM_Verona/data/FCmaps/073_S_6673.FDC.nii.gz\n",
      "/Users/emmatosato/Documents/PhD/ANM_Verona/data/FCmaps/098_S_6601.FDC.nii.gz\n",
      "/Users/emmatosato/Documents/PhD/ANM_Verona/data/FCmaps/098_S_6655.FDC.nii.gz\n",
      "/Users/emmatosato/Documents/PhD/ANM_Verona/data/FCmaps/098_S_6658.FDC.nii.gz\n",
      "/Users/emmatosato/Documents/PhD/ANM_Verona/data/FCmaps/099_S_6632.FDC.nii.gz\n",
      "/Users/emmatosato/Documents/PhD/ANM_Verona/data/FCmaps/099_S_6691.FDC.nii.gz\n",
      "/Users/emmatosato/Documents/PhD/ANM_Verona/data/FCmaps/114_S_6039.FDC.nii.gz\n",
      "/Users/emmatosato/Documents/PhD/ANM_Verona/data/FCmaps/116_S_6775.FDC.nii.gz\n",
      "/Users/emmatosato/Documents/PhD/ANM_Verona/data/FCmaps/123_S_6825.FDC.nii.gz\n",
      "/Users/emmatosato/Documents/PhD/ANM_Verona/data/FCmaps/123_S_6884.FDC.nii.gz\n",
      "/Users/emmatosato/Documents/PhD/ANM_Verona/data/FCmaps/126_S_4507.FDC.nii.gz\n",
      "/Users/emmatosato/Documents/PhD/ANM_Verona/data/FCmaps/126_S_4891.FDC.nii.gz\n",
      "/Users/emmatosato/Documents/PhD/ANM_Verona/data/FCmaps/126_S_6683.FDC.nii.gz\n",
      "/Users/emmatosato/Documents/PhD/ANM_Verona/data/FCmaps/127_S_6433.FDC.nii.gz\n",
      "/Users/emmatosato/Documents/PhD/ANM_Verona/data/FCmaps/127_S_6549.FDC.nii.gz\n",
      "/Users/emmatosato/Documents/PhD/ANM_Verona/data/FCmaps/130_S_2373.FDC.nii.gz\n",
      "/Users/emmatosato/Documents/PhD/ANM_Verona/data/FCmaps/130_S_4294.FDC.nii.gz\n",
      "/Users/emmatosato/Documents/PhD/ANM_Verona/data/FCmaps/130_S_4415.FDC.nii.gz\n",
      "/Users/emmatosato/Documents/PhD/ANM_Verona/data/FCmaps/130_S_6072.FDC.nii.gz\n",
      "/Users/emmatosato/Documents/PhD/ANM_Verona/data/FCmaps/131_S_7032.FDC.nii.gz\n",
      "/Users/emmatosato/Documents/PhD/ANM_Verona/data/FCmaps/135_S_6545.FDC.nii.gz\n",
      "/Users/emmatosato/Documents/PhD/ANM_Verona/data/FCmaps/137_S_4862.FDC.nii.gz\n",
      "/Users/emmatosato/Documents/PhD/ANM_Verona/data/FCmaps/141_S_2333.FDC.nii.gz\n",
      "/Users/emmatosato/Documents/PhD/ANM_Verona/data/FCmaps/168_S_6142.FDC.nii.gz\n",
      "/Users/emmatosato/Documents/PhD/ANM_Verona/data/FCmaps/168_S_6426.FDC.nii.gz\n",
      "/Users/emmatosato/Documents/PhD/ANM_Verona/data/FCmaps/168_S_6467.FDC.nii.gz\n",
      "/Users/emmatosato/Documents/PhD/ANM_Verona/data/FCmaps/168_S_6843.FDC.nii.gz\n",
      "/Users/emmatosato/Documents/PhD/ANM_Verona/data/FCmaps/1_S_5000.FDC.nii.gz\n",
      "/Users/emmatosato/Documents/PhD/ANM_Verona/data/FCmaps/1_S_5001.FDC.nii.gz\n",
      "/Users/emmatosato/Documents/PhD/ANM_Verona/data/FCmaps/1_S_5003.FDC.nii.gz\n",
      "/Users/emmatosato/Documents/PhD/ANM_Verona/data/FCmaps/1_S_5004.FDC.nii.gz\n",
      "/Users/emmatosato/Documents/PhD/ANM_Verona/data/FCmaps/1_S_5005.FDC.nii.gz\n",
      "/Users/emmatosato/Documents/PhD/ANM_Verona/data/FCmaps/1_S_5006.FDC.nii.gz\n",
      "/Users/emmatosato/Documents/PhD/ANM_Verona/data/FCmaps/1_S_5007.FDC.nii.gz\n",
      "/Users/emmatosato/Documents/PhD/ANM_Verona/data/FCmaps/1_S_5008.FDC.nii.gz\n",
      "/Users/emmatosato/Documents/PhD/ANM_Verona/data/FCmaps/1_S_5009.FDC.nii.gz\n",
      "/Users/emmatosato/Documents/PhD/ANM_Verona/data/FCmaps/1_S_5010.FDC.nii.gz\n",
      "/Users/emmatosato/Documents/PhD/ANM_Verona/data/FCmaps/1_S_5011.FDC.nii.gz\n",
      "/Users/emmatosato/Documents/PhD/ANM_Verona/data/FCmaps/1_S_5013.FDC.nii.gz\n",
      "/Users/emmatosato/Documents/PhD/ANM_Verona/data/FCmaps/1_S_5016.FDC.nii.gz\n",
      "/Users/emmatosato/Documents/PhD/ANM_Verona/data/FCmaps/1_S_5017.FDC.nii.gz\n",
      "/Users/emmatosato/Documents/PhD/ANM_Verona/data/FCmaps/1_S_5018.FDC.nii.gz\n",
      "/Users/emmatosato/Documents/PhD/ANM_Verona/data/FCmaps/1_S_5019.FDC.nii.gz\n",
      "/Users/emmatosato/Documents/PhD/ANM_Verona/data/FCmaps/1_S_5021.FDC.nii.gz\n",
      "/Users/emmatosato/Documents/PhD/ANM_Verona/data/FCmaps/1_S_5022.FDC.nii.gz\n",
      "/Users/emmatosato/Documents/PhD/ANM_Verona/data/FCmaps/1_S_5023.FDC.nii.gz\n",
      "/Users/emmatosato/Documents/PhD/ANM_Verona/data/FCmaps/1_S_5024.FDC.nii.gz\n",
      "/Users/emmatosato/Documents/PhD/ANM_Verona/data/FCmaps/1_S_5026.FDC.nii.gz\n",
      "/Users/emmatosato/Documents/PhD/ANM_Verona/data/FCmaps/1_S_5027.FDC.nii.gz\n",
      "/Users/emmatosato/Documents/PhD/ANM_Verona/data/FCmaps/1_S_5028.FDC.nii.gz\n",
      "/Users/emmatosato/Documents/PhD/ANM_Verona/data/FCmaps/1_S_5029.FDC.nii.gz\n",
      "/Users/emmatosato/Documents/PhD/ANM_Verona/data/FCmaps/1_S_5030.FDC.nii.gz\n",
      "/Users/emmatosato/Documents/PhD/ANM_Verona/data/FCmaps/1_S_5031.FDC.nii.gz\n",
      "/Users/emmatosato/Documents/PhD/ANM_Verona/data/FCmaps/1_S_5032.FDC.nii.gz\n",
      "/Users/emmatosato/Documents/PhD/ANM_Verona/data/FCmaps/1_S_5033.FDC.nii.gz\n",
      "/Users/emmatosato/Documents/PhD/ANM_Verona/data/FCmaps/1_S_5034.FDC.nii.gz\n",
      "/Users/emmatosato/Documents/PhD/ANM_Verona/data/FCmaps/1_S_5036.FDC.nii.gz\n",
      "/Users/emmatosato/Documents/PhD/ANM_Verona/data/FCmaps/1_S_5037.FDC.nii.gz\n",
      "/Users/emmatosato/Documents/PhD/ANM_Verona/data/FCmaps/1_S_5038.FDC.nii.gz\n",
      "/Users/emmatosato/Documents/PhD/ANM_Verona/data/FCmaps/1_S_5039.FDC.nii.gz\n",
      "/Users/emmatosato/Documents/PhD/ANM_Verona/data/FCmaps/1_S_5040.FDC.nii.gz\n",
      "/Users/emmatosato/Documents/PhD/ANM_Verona/data/FCmaps/1_S_5041.FDC.nii.gz\n",
      "/Users/emmatosato/Documents/PhD/ANM_Verona/data/FCmaps/1_S_5042.FDC.nii.gz\n",
      "/Users/emmatosato/Documents/PhD/ANM_Verona/data/FCmaps/1_S_5043.FDC.nii.gz\n",
      "/Users/emmatosato/Documents/PhD/ANM_Verona/data/FCmaps/1_S_5044.FDC.nii.gz\n",
      "/Users/emmatosato/Documents/PhD/ANM_Verona/data/FCmaps/1_S_5045.FDC.nii.gz\n",
      "/Users/emmatosato/Documents/PhD/ANM_Verona/data/FCmaps/1_S_5046.FDC.nii.gz\n",
      "/Users/emmatosato/Documents/PhD/ANM_Verona/data/FCmaps/1_S_5047.FDC.nii.gz\n",
      "/Users/emmatosato/Documents/PhD/ANM_Verona/data/FCmaps/1_S_5048.FDC.nii.gz\n",
      "/Users/emmatosato/Documents/PhD/ANM_Verona/data/FCmaps/1_S_5049.FDC.nii.gz\n",
      "/Users/emmatosato/Documents/PhD/ANM_Verona/data/FCmaps/1_S_5050.FDC.nii.gz\n",
      "/Users/emmatosato/Documents/PhD/ANM_Verona/data/FCmaps/1_S_5051.FDC.nii.gz\n",
      "/Users/emmatosato/Documents/PhD/ANM_Verona/data/FCmaps/1_S_5052.FDC.nii.gz\n",
      "/Users/emmatosato/Documents/PhD/ANM_Verona/data/FCmaps/1_S_5053.FDC.nii.gz\n",
      "/Users/emmatosato/Documents/PhD/ANM_Verona/data/FCmaps/1_S_5054.FDC.nii.gz\n",
      "/Users/emmatosato/Documents/PhD/ANM_Verona/data/FCmaps/1_S_5055.FDC.nii.gz\n",
      "/Users/emmatosato/Documents/PhD/ANM_Verona/data/FCmaps/1_S_5056.FDC.nii.gz\n",
      "/Users/emmatosato/Documents/PhD/ANM_Verona/data/FCmaps/1_S_5057.FDC.nii.gz\n",
      "/Users/emmatosato/Documents/PhD/ANM_Verona/data/FCmaps/1_S_5058.FDC.nii.gz\n",
      "/Users/emmatosato/Documents/PhD/ANM_Verona/data/FCmaps/1_S_5059.FDC.nii.gz\n",
      "/Users/emmatosato/Documents/PhD/ANM_Verona/data/FCmaps/1_S_5060.FDC.nii.gz\n",
      "/Users/emmatosato/Documents/PhD/ANM_Verona/data/FCmaps/1_S_5061.FDC.nii.gz\n",
      "/Users/emmatosato/Documents/PhD/ANM_Verona/data/FCmaps/1_S_5062.FDC.nii.gz\n",
      "/Users/emmatosato/Documents/PhD/ANM_Verona/data/FCmaps/1_S_5064.FDC.nii.gz\n",
      "/Users/emmatosato/Documents/PhD/ANM_Verona/data/FCmaps/1_S_5065.FDC.nii.gz\n",
      "/Users/emmatosato/Documents/PhD/ANM_Verona/data/FCmaps/1_S_5067.FDC.nii.gz\n",
      "/Users/emmatosato/Documents/PhD/ANM_Verona/data/FCmaps/1_S_5068.FDC.nii.gz\n",
      "/Users/emmatosato/Documents/PhD/ANM_Verona/data/FCmaps/1_S_5070.FDC.nii.gz\n",
      "/Users/emmatosato/Documents/PhD/ANM_Verona/data/FCmaps/1_S_5072.FDC.nii.gz\n",
      "/Users/emmatosato/Documents/PhD/ANM_Verona/data/FCmaps/1_S_5073.FDC.nii.gz\n",
      "/Users/emmatosato/Documents/PhD/ANM_Verona/data/FCmaps/1_S_5074.FDC.nii.gz\n",
      "/Users/emmatosato/Documents/PhD/ANM_Verona/data/FCmaps/1_S_5075.FDC.nii.gz\n",
      "/Users/emmatosato/Documents/PhD/ANM_Verona/data/FCmaps/1_S_5076.FDC.nii.gz\n",
      "/Users/emmatosato/Documents/PhD/ANM_Verona/data/FCmaps/1_S_5077.FDC.nii.gz\n",
      "/Users/emmatosato/Documents/PhD/ANM_Verona/data/FCmaps/1_S_5078.FDC.nii.gz\n",
      "/Users/emmatosato/Documents/PhD/ANM_Verona/data/FCmaps/1_S_5079.FDC.nii.gz\n",
      "/Users/emmatosato/Documents/PhD/ANM_Verona/data/FCmaps/1_S_5080.FDC.nii.gz\n",
      "/Users/emmatosato/Documents/PhD/ANM_Verona/data/FCmaps/1_S_5083.FDC.nii.gz\n",
      "/Users/emmatosato/Documents/PhD/ANM_Verona/data/FCmaps/1_S_5085.FDC.nii.gz\n",
      "/Users/emmatosato/Documents/PhD/ANM_Verona/data/FCmaps/1_S_5089.FDC.nii.gz\n",
      "/Users/emmatosato/Documents/PhD/ANM_Verona/data/FCmaps/1_S_5091.FDC.nii.gz\n",
      "/Users/emmatosato/Documents/PhD/ANM_Verona/data/FCmaps/1_S_5092.FDC.nii.gz\n",
      "/Users/emmatosato/Documents/PhD/ANM_Verona/data/FCmaps/1_S_5093.FDC.nii.gz\n",
      "/Users/emmatosato/Documents/PhD/ANM_Verona/data/FCmaps/1_S_5094.FDC.nii.gz\n",
      "/Users/emmatosato/Documents/PhD/ANM_Verona/data/FCmaps/1_S_5095.FDC.nii.gz\n",
      "/Users/emmatosato/Documents/PhD/ANM_Verona/data/FCmaps/1_S_5096.FDC.nii.gz\n",
      "/Users/emmatosato/Documents/PhD/ANM_Verona/data/FCmaps/1_S_5097.FDC.nii.gz\n",
      "/Users/emmatosato/Documents/PhD/ANM_Verona/data/FCmaps/1_S_5098.FDC.nii.gz\n",
      "/Users/emmatosato/Documents/PhD/ANM_Verona/data/FCmaps/1_S_5101.FDC.nii.gz\n",
      "/Users/emmatosato/Documents/PhD/ANM_Verona/data/FCmaps/301_S_6777.FDC.nii.gz\n",
      "/Users/emmatosato/Documents/PhD/ANM_Verona/data/FCmaps/305_S_6498.FDC.nii.gz\n",
      "/Users/emmatosato/Documents/PhD/ANM_Verona/data/FCmaps/305_S_6810.FDC.nii.gz\n",
      "/Users/emmatosato/Documents/PhD/ANM_Verona/data/FCmaps/3_S_5000.FDC.nii.gz\n",
      "/Users/emmatosato/Documents/PhD/ANM_Verona/data/FCmaps/3_S_5001.FDC.nii.gz\n",
      "/Users/emmatosato/Documents/PhD/ANM_Verona/data/FCmaps/3_S_5002.FDC.nii.gz\n",
      "/Users/emmatosato/Documents/PhD/ANM_Verona/data/FCmaps/3_S_5003.FDC.nii.gz\n",
      "/Users/emmatosato/Documents/PhD/ANM_Verona/data/FCmaps/4_S_5000.FDC.nii.gz\n",
      "/Users/emmatosato/Documents/PhD/ANM_Verona/data/FCmaps/4_S_5001.FDC.nii.gz\n",
      "/Users/emmatosato/Documents/PhD/ANM_Verona/data/FCmaps/4_S_5002.FDC.nii.gz\n",
      "/Users/emmatosato/Documents/PhD/ANM_Verona/data/FCmaps/4_S_5004.FDC.nii.gz\n",
      "/Users/emmatosato/Documents/PhD/ANM_Verona/data/FCmaps/4_S_5005.FDC.nii.gz\n",
      "/Users/emmatosato/Documents/PhD/ANM_Verona/data/FCmaps/4_S_5006.FDC.nii.gz\n",
      "/Users/emmatosato/Documents/PhD/ANM_Verona/data/FCmaps/4_S_5007.FDC.nii.gz\n",
      "/Users/emmatosato/Documents/PhD/ANM_Verona/data/FCmaps/4_S_5008.FDC.nii.gz\n",
      "/Users/emmatosato/Documents/PhD/ANM_Verona/data/FCmaps/4_S_5009.FDC.nii.gz\n",
      "/Users/emmatosato/Documents/PhD/ANM_Verona/data/FCmaps/4_S_5010.FDC.nii.gz\n",
      "/Users/emmatosato/Documents/PhD/ANM_Verona/data/FCmaps/5_S_5001.FDC.nii.gz\n",
      "/Users/emmatosato/Documents/PhD/ANM_Verona/data/FCmaps/5_S_5002.FDC.nii.gz\n",
      "/Users/emmatosato/Documents/PhD/ANM_Verona/data/FCmaps/5_S_5003.FDC.nii.gz\n",
      "/Users/emmatosato/Documents/PhD/ANM_Verona/data/FCmaps/5_S_5004.FDC.nii.gz\n",
      "/Users/emmatosato/Documents/PhD/ANM_Verona/data/FCmaps/5_S_5006.FDC.nii.gz\n",
      "/Users/emmatosato/Documents/PhD/ANM_Verona/data/FCmaps/5_S_5007.FDC.nii.gz\n",
      "/Users/emmatosato/Documents/PhD/ANM_Verona/data/FCmaps/5_S_5008.FDC.nii.gz\n",
      "/Users/emmatosato/Documents/PhD/ANM_Verona/data/FCmaps/5_S_5009.FDC.nii.gz\n",
      "/Users/emmatosato/Documents/PhD/ANM_Verona/data/FCmaps/941_S_6345.FDC.nii.gz\n"
     ]
    }
   ],
   "execution_count": 7
  },
  {
   "metadata": {
    "ExecuteTime": {
     "end_time": "2025-06-18T15:23:25.534517Z",
     "start_time": "2025-06-18T15:23:25.273713Z"
    }
   },
   "cell_type": "code",
   "source": [
    "# Copy without id\n",
    "df_eda = df.copy()"
   ],
   "id": "721e7175cbc40e4b",
   "outputs": [],
   "execution_count": 8
  },
  {
   "metadata": {
    "ExecuteTime": {
     "end_time": "2025-06-18T15:23:25.779Z",
     "start_time": "2025-06-18T15:23:25.725948Z"
    }
   },
   "cell_type": "code",
   "source": [
    "# Insert subjects id\n",
    "df.insert(0, 'ID', sub_id)\n",
    "print(\"\\n\", df.shape, \"\\n\")"
   ],
   "id": "96ba4ff3a15fef9",
   "outputs": [
    {
     "name": "stdout",
     "output_type": "stream",
     "text": [
      "\n",
      " (176, 902630) \n",
      "\n"
     ]
    }
   ],
   "execution_count": 9
  },
  {
   "metadata": {},
   "cell_type": "markdown",
   "source": "Some asserts",
   "id": "22fbcc9b8dfe06d6"
  },
  {
   "metadata": {
    "ExecuteTime": {
     "end_time": "2025-06-18T15:23:26.383538Z",
     "start_time": "2025-06-18T15:23:25.966385Z"
    }
   },
   "cell_type": "code",
   "source": [
    "# 1Ensure the EDA copy has one row per file\n",
    "assert df_eda.shape[0] == len(files), (\n",
    "    f\"Rows in df_eda ({df_eda.shape[0]}) != number of files ({len(files)})\"\n",
    ")\n",
    "\n",
    "# Ensure the df has one row per subject ID\n",
    "assert df.shape[0] == len(sub_id), (\n",
    "    f\"Number of rows ({df.shape[0]}) != number of IDs ({len(sub_id)})\"\n",
    ")\n",
    "\n",
    "# Verify the ID column matches the original sub_id order exactly\n",
    "assert df['ID'].tolist() == sub_id, \"Row IDs do not match the original sub_id order\"\n",
    "\n",
    "# Confirm there are no duplicate IDs\n",
    "assert df['ID'].is_unique, \"There are duplicate IDs in the DataFrame\"\n",
    "\n",
    "# Check that inserting the ID column did not alter the numeric data\n",
    "numeric_equal = (df.drop('ID', axis=1).values == df_eda.values).all()\n",
    "assert numeric_equal, \"Numeric data was altered when inserting the ID column\""
   ],
   "id": "d0611cfa0379e13e",
   "outputs": [],
   "execution_count": 10
  },
  {
   "metadata": {},
   "cell_type": "markdown",
   "source": "#### EDA",
   "id": "5db42728b19828f4"
  },
  {
   "metadata": {
    "ExecuteTime": {
     "end_time": "2025-06-18T15:23:26.570148Z",
     "start_time": "2025-06-18T15:23:26.552229Z"
    }
   },
   "cell_type": "code",
   "source": "print(f\"Shape of the dataframes: {df_eda.shape}\")",
   "id": "42ee9f3e3483c447",
   "outputs": [
    {
     "name": "stdout",
     "output_type": "stream",
     "text": [
      "Shape of the dataframes: (176, 902629)\n"
     ]
    }
   ],
   "execution_count": 11
  },
  {
   "metadata": {
    "ExecuteTime": {
     "end_time": "2025-06-18T15:23:32.770256Z",
     "start_time": "2025-06-18T15:23:26.739910Z"
    }
   },
   "cell_type": "code",
   "source": [
    "# Global Statistics\n",
    "all_voxels = df_eda.values.flatten()\n",
    "all_voxels = all_voxels[~np.isnan(all_voxels)]\n",
    "\n",
    "# Descriptive statistics\n",
    "stats_summary = {\n",
    "    \"Min\": np.min(all_voxels),\n",
    "    \"Max\": np.max(all_voxels),\n",
    "    \"Mean\": np.mean(all_voxels),\n",
    "    \"Std\": np.std(all_voxels),\n",
    "    \"1st Percentile\": np.percentile(all_voxels, 1),\n",
    "    \"25th Percentile\": np.percentile(all_voxels, 25),\n",
    "    \"Median (50th)\": np.percentile(all_voxels, 50),\n",
    "    \"75th Percentile\": np.percentile(all_voxels, 75),\n",
    "    \"99th Percentile\": np.percentile(all_voxels, 99),\n",
    "}\n",
    "\n",
    "df_stats = pd.DataFrame.from_dict(stats_summary, orient='index', columns=['Value'])\n",
    "print(df_stats)"
   ],
   "id": "7adf8e8d33ba7c63",
   "outputs": [
    {
     "name": "stdout",
     "output_type": "stream",
     "text": [
      "                    Value\n",
      "Min             -0.549580\n",
      "Max              1.618776\n",
      "Mean             0.021996\n",
      "Std              0.056745\n",
      "1st Percentile  -0.013393\n",
      "25th Percentile  0.000000\n",
      "Median (50th)    0.000000\n",
      "75th Percentile  0.008759\n",
      "99th Percentile  0.269354\n"
     ]
    }
   ],
   "execution_count": 12
  },
  {
   "metadata": {},
   "cell_type": "markdown",
   "source": "## Metadata",
   "id": "22f5732cc9ad6be5"
  },
  {
   "metadata": {},
   "cell_type": "markdown",
   "source": [
    "Dataset containing:\n",
    "- ID of the subject\n",
    "- The diagnosis (Group)\n",
    "- Sex\n",
    "- Age\n",
    "- Education\n",
    "\n",
    "The regressors:\n",
    "- CDR_SB: disease gravity with a larger range\n",
    "- CDR: same but smaller range"
   ],
   "id": "22a150d28749afa6"
  },
  {
   "metadata": {
    "ExecuteTime": {
     "end_time": "2025-06-18T15:23:33.240643Z",
     "start_time": "2025-06-18T15:23:32.946415Z"
    }
   },
   "cell_type": "code",
   "source": [
    "# Load the metadata and align to FC map order\n",
    "df_meta = pd.read_excel(cognitive_dataset, sheet_name='Sheet1')\n",
    "df_meta['Age'] = df_meta['Age'].round(1)"
   ],
   "id": "8670bc3dd229bdd5",
   "outputs": [],
   "execution_count": 13
  },
  {
   "metadata": {
    "ExecuteTime": {
     "end_time": "2025-06-18T15:23:33.441125Z",
     "start_time": "2025-06-18T15:23:33.416791Z"
    }
   },
   "cell_type": "code",
   "source": "df_meta.head(5)",
   "id": "2db7a7e840be343",
   "outputs": [
    {
     "data": {
      "text/plain": [
       "           ID Group Sex   Age  Education  CDR_SB  MMSE\n",
       "0  002_S_4654  ADNI   F  80.4         18     1.5  27.0\n",
       "1  002_S_6695  ADNI   M  66.3         18     4.5  25.0\n",
       "2  003_S_6264  ADNI   M  58.3         12     2.5  23.0\n",
       "3  003_S_6268  ADNI   M  71.6         20     0.5  29.0\n",
       "4  003_S_6432  ADNI   F  67.3         18     0.5  30.0"
      ],
      "text/html": [
       "<div>\n",
       "<style scoped>\n",
       "    .dataframe tbody tr th:only-of-type {\n",
       "        vertical-align: middle;\n",
       "    }\n",
       "\n",
       "    .dataframe tbody tr th {\n",
       "        vertical-align: top;\n",
       "    }\n",
       "\n",
       "    .dataframe thead th {\n",
       "        text-align: right;\n",
       "    }\n",
       "</style>\n",
       "<table border=\"1\" class=\"dataframe\">\n",
       "  <thead>\n",
       "    <tr style=\"text-align: right;\">\n",
       "      <th></th>\n",
       "      <th>ID</th>\n",
       "      <th>Group</th>\n",
       "      <th>Sex</th>\n",
       "      <th>Age</th>\n",
       "      <th>Education</th>\n",
       "      <th>CDR_SB</th>\n",
       "      <th>MMSE</th>\n",
       "    </tr>\n",
       "  </thead>\n",
       "  <tbody>\n",
       "    <tr>\n",
       "      <th>0</th>\n",
       "      <td>002_S_4654</td>\n",
       "      <td>ADNI</td>\n",
       "      <td>F</td>\n",
       "      <td>80.4</td>\n",
       "      <td>18</td>\n",
       "      <td>1.5</td>\n",
       "      <td>27.0</td>\n",
       "    </tr>\n",
       "    <tr>\n",
       "      <th>1</th>\n",
       "      <td>002_S_6695</td>\n",
       "      <td>ADNI</td>\n",
       "      <td>M</td>\n",
       "      <td>66.3</td>\n",
       "      <td>18</td>\n",
       "      <td>4.5</td>\n",
       "      <td>25.0</td>\n",
       "    </tr>\n",
       "    <tr>\n",
       "      <th>2</th>\n",
       "      <td>003_S_6264</td>\n",
       "      <td>ADNI</td>\n",
       "      <td>M</td>\n",
       "      <td>58.3</td>\n",
       "      <td>12</td>\n",
       "      <td>2.5</td>\n",
       "      <td>23.0</td>\n",
       "    </tr>\n",
       "    <tr>\n",
       "      <th>3</th>\n",
       "      <td>003_S_6268</td>\n",
       "      <td>ADNI</td>\n",
       "      <td>M</td>\n",
       "      <td>71.6</td>\n",
       "      <td>20</td>\n",
       "      <td>0.5</td>\n",
       "      <td>29.0</td>\n",
       "    </tr>\n",
       "    <tr>\n",
       "      <th>4</th>\n",
       "      <td>003_S_6432</td>\n",
       "      <td>ADNI</td>\n",
       "      <td>F</td>\n",
       "      <td>67.3</td>\n",
       "      <td>18</td>\n",
       "      <td>0.5</td>\n",
       "      <td>30.0</td>\n",
       "    </tr>\n",
       "  </tbody>\n",
       "</table>\n",
       "</div>"
      ]
     },
     "execution_count": 14,
     "metadata": {},
     "output_type": "execute_result"
    }
   ],
   "execution_count": 14
  },
  {
   "metadata": {},
   "cell_type": "markdown",
   "source": "### EDA on Labels",
   "id": "e6ed35cf4d13d1f1"
  },
  {
   "metadata": {},
   "cell_type": "markdown",
   "source": "#### General info",
   "id": "7db8f2e7c84db4bd"
  },
  {
   "metadata": {
    "ExecuteTime": {
     "end_time": "2025-06-18T15:23:33.640001Z",
     "start_time": "2025-06-18T15:23:33.619666Z"
    }
   },
   "cell_type": "code",
   "source": [
    "print(\"Meta dataset BEFORE removing a subject\")\n",
    "print(df_meta.shape)\n",
    "\n",
    "# Remove the subject with ID \"4_S_5003\"\n",
    "df_meta = df_meta[df_meta['ID'] != '4_S_5003'].reset_index(drop=True)\n",
    "\n",
    "print(\"Meta dataset AFTER removing a subject\")\n",
    "print(df_meta.shape)"
   ],
   "id": "9012312b1fbddb5",
   "outputs": [
    {
     "name": "stdout",
     "output_type": "stream",
     "text": [
      "Meta dataset BEFORE removing a subject\n",
      "(177, 7)\n",
      "Meta dataset AFTER removing a subject\n",
      "(176, 7)\n"
     ]
    }
   ],
   "execution_count": 15
  },
  {
   "metadata": {
    "ExecuteTime": {
     "end_time": "2025-06-18T15:23:33.684290Z",
     "start_time": "2025-06-18T15:23:33.660679Z"
    }
   },
   "cell_type": "code",
   "source": [
    "# Saving the new csv\n",
    "df_meta.to_csv(\"/Users/emmatosato/Documents/PhD/ANM_Verona/utils/metadata/labels.csv\", index=False)"
   ],
   "id": "7922926ce4d663ef",
   "outputs": [],
   "execution_count": 16
  },
  {
   "metadata": {
    "ExecuteTime": {
     "end_time": "2025-06-18T15:23:33.734771Z",
     "start_time": "2025-06-18T15:23:33.706555Z"
    }
   },
   "cell_type": "code",
   "source": "print(df_meta.info())",
   "id": "6f4b9f8ac57727f2",
   "outputs": [
    {
     "name": "stdout",
     "output_type": "stream",
     "text": [
      "<class 'pandas.core.frame.DataFrame'>\n",
      "RangeIndex: 176 entries, 0 to 175\n",
      "Data columns (total 7 columns):\n",
      " #   Column     Non-Null Count  Dtype  \n",
      "---  ------     --------------  -----  \n",
      " 0   ID         176 non-null    object \n",
      " 1   Group      176 non-null    object \n",
      " 2   Sex        176 non-null    object \n",
      " 3   Age        176 non-null    float64\n",
      " 4   Education  176 non-null    int64  \n",
      " 5   CDR_SB     171 non-null    float64\n",
      " 6   MMSE       168 non-null    float64\n",
      "dtypes: float64(3), int64(1), object(3)\n",
      "memory usage: 9.8+ KB\n",
      "None\n"
     ]
    }
   ],
   "execution_count": 17
  },
  {
   "metadata": {},
   "cell_type": "markdown",
   "source": "#### Missing values",
   "id": "48f30eb1aec13604"
  },
  {
   "metadata": {
    "ExecuteTime": {
     "end_time": "2025-06-18T15:23:33.763158Z",
     "start_time": "2025-06-18T15:23:33.739070Z"
    }
   },
   "cell_type": "code",
   "source": [
    "print(\"\\nMissing values for column:\")\n",
    "print(df_meta.isna().sum())"
   ],
   "id": "fd2979bcdb16b012",
   "outputs": [
    {
     "name": "stdout",
     "output_type": "stream",
     "text": [
      "\n",
      "Missing values for column:\n",
      "ID           0\n",
      "Group        0\n",
      "Sex          0\n",
      "Age          0\n",
      "Education    0\n",
      "CDR_SB       5\n",
      "MMSE         8\n",
      "dtype: int64\n"
     ]
    }
   ],
   "execution_count": 18
  },
  {
   "metadata": {},
   "cell_type": "markdown",
   "source": "#### Unique values",
   "id": "77e33fd57efbc058"
  },
  {
   "metadata": {},
   "cell_type": "markdown",
   "source": "WITH NaN\n",
   "id": "3a0f3fec3b12afd5"
  },
  {
   "metadata": {
    "ExecuteTime": {
     "end_time": "2025-06-18T15:23:33.957239Z",
     "start_time": "2025-06-18T15:23:33.937318Z"
    }
   },
   "cell_type": "code",
   "source": [
    "print(\"\\nUnique Values:\")\n",
    "print(\"Group:\", sorted(df_meta['Group'].unique()))\n",
    "print(\"CDR_SB:\", np.sort(df_meta['CDR_SB'].unique()))\n",
    "print(\"MMSE:\", np.sort(df_meta['MMSE'].unique()))"
   ],
   "id": "49d437848fdd5ae6",
   "outputs": [
    {
     "name": "stdout",
     "output_type": "stream",
     "text": [
      "\n",
      "Unique Values:\n",
      "Group: ['ADNI', 'CBS', 'PSP']\n",
      "CDR_SB: [ 0.   0.5  1.   1.5  2.   2.5  3.   3.5  4.   4.5  5.   5.5  6.   6.5\n",
      "  7.   7.5  8.   9.   9.5 10.  11.  12.  13.5 14.  15.  16.  18.   nan]\n",
      "MMSE: [ 4.  5.  8.  9. 10. 11. 12. 14. 16. 17. 18. 19. 20. 21. 22. 23. 24. 25.\n",
      " 26. 27. 28. 29. 30. nan]\n"
     ]
    }
   ],
   "execution_count": 19
  },
  {
   "metadata": {},
   "cell_type": "markdown",
   "source": "Unique values WITHOUT NaN",
   "id": "8984503bc137d3a2"
  },
  {
   "metadata": {
    "ExecuteTime": {
     "end_time": "2025-06-18T15:23:34.154983Z",
     "start_time": "2025-06-18T15:23:34.135857Z"
    }
   },
   "cell_type": "code",
   "source": [
    "cdr_sb_no_nan = df_meta['CDR_SB'].dropna()\n",
    "mmse_no_nan = df_meta['MMSE'].dropna()"
   ],
   "id": "5ce16b2f9653fa23",
   "outputs": [],
   "execution_count": 20
  },
  {
   "metadata": {
    "ExecuteTime": {
     "end_time": "2025-06-18T15:23:34.349049Z",
     "start_time": "2025-06-18T15:23:34.329729Z"
    }
   },
   "cell_type": "code",
   "source": [
    "print(\"\\nUnique Values:\")\n",
    "print(\"CDR_SB:\", np.sort(cdr_sb_no_nan.unique()))\n",
    "print(\"MMSE:\", np.sort(mmse_no_nan.unique()))"
   ],
   "id": "afa57f216110e733",
   "outputs": [
    {
     "name": "stdout",
     "output_type": "stream",
     "text": [
      "\n",
      "Unique Values:\n",
      "CDR_SB: [ 0.   0.5  1.   1.5  2.   2.5  3.   3.5  4.   4.5  5.   5.5  6.   6.5\n",
      "  7.   7.5  8.   9.   9.5 10.  11.  12.  13.5 14.  15.  16.  18. ]\n",
      "MMSE: [ 4.  5.  8.  9. 10. 11. 12. 14. 16. 17. 18. 19. 20. 21. 22. 23. 24. 25.\n",
      " 26. 27. 28. 29. 30.]\n"
     ]
    }
   ],
   "execution_count": 21
  },
  {
   "metadata": {
    "ExecuteTime": {
     "end_time": "2025-06-18T15:23:34.546260Z",
     "start_time": "2025-06-18T15:23:34.521214Z"
    }
   },
   "cell_type": "code",
   "source": "print(df_meta.select_dtypes(include='number').describe().round(1))",
   "id": "d75bff81a2b79cf5",
   "outputs": [
    {
     "name": "stdout",
     "output_type": "stream",
     "text": [
      "         Age  Education  CDR_SB   MMSE\n",
      "count  176.0      176.0   171.0  168.0\n",
      "mean    70.9       15.8     4.1   24.1\n",
      "std      8.4        3.5     3.4    5.0\n",
      "min     53.0        2.0     0.0    4.0\n",
      "25%     64.0       14.0     1.5   22.0\n",
      "50%     71.2       16.0     3.5   25.0\n",
      "75%     76.0       18.0     6.0   28.0\n",
      "max     93.8       27.0    18.0   30.0\n"
     ]
    }
   ],
   "execution_count": 22
  },
  {
   "metadata": {
    "ExecuteTime": {
     "end_time": "2025-06-18T15:23:34.914674Z",
     "start_time": "2025-06-18T15:23:34.720348Z"
    }
   },
   "cell_type": "code",
   "source": [
    "fig, axes = plt.subplots(1, 2, figsize=(12, 4))\n",
    "\n",
    "sns.histplot(mmse_no_nan, bins=25, ax=axes[0], color='#61bdcd', edgecolor='black', alpha=0.85)\n",
    "axes[0].set_title(\"MMSE Distribution\", fontsize=14, weight='bold')\n",
    "\n",
    "sns.histplot(cdr_sb_no_nan, bins=25, ax=axes[1], color='#61bdcd', edgecolor='black', alpha=0.85, kde=True)\n",
    "axes[1].set_title(\"CDR_SB Distribution\", fontsize=14, weight='bold')\n",
    "\n",
    "plt.tight_layout()\n",
    "plt.show()"
   ],
   "id": "e1ce9f1c4ccda4b",
   "outputs": [
    {
     "data": {
      "text/plain": [
       "<Figure size 1200x400 with 2 Axes>"
      ],
      "image/png": "[encoded data removed]"
     },
     "metadata": {},
     "output_type": "display_data"
    }
   ],
   "execution_count": 23
  },
  {
   "metadata": {},
   "cell_type": "markdown",
   "source": "#### CDR",
   "id": "5db48ad3974d3154"
  },
  {
   "metadata": {
    "ExecuteTime": {
     "end_time": "2025-06-18T15:23:42.153970Z",
     "start_time": "2025-06-18T15:23:42.124955Z"
    }
   },
   "cell_type": "code",
   "source": [
    "df_meta_sorted = df_meta[['ID', 'CDR_SB']].sort_values(by='CDR_SB', ascending=False)\n",
    "print(df_meta_sorted)"
   ],
   "id": "7dbb6a7e60cf9965",
   "outputs": [
    {
     "name": "stdout",
     "output_type": "stream",
     "text": [
      "             ID  CDR_SB\n",
      "53     1_S_5007    18.0\n",
      "65     1_S_5023    16.0\n",
      "12   012_S_4188    15.0\n",
      "48     1_S_5001    15.0\n",
      "32   036_S_4430    14.0\n",
      "..          ...     ...\n",
      "92     1_S_5052     NaN\n",
      "125    1_S_5096     NaN\n",
      "126    1_S_5097     NaN\n",
      "128    1_S_5101     NaN\n",
      "164    4_S_5008     NaN\n",
      "\n",
      "[176 rows x 2 columns]\n"
     ]
    }
   ],
   "execution_count": 24
  },
  {
   "metadata": {},
   "cell_type": "markdown",
   "source": "### GMM on CDR_SB",
   "id": "efeb37054fbadbea"
  },
  {
   "metadata": {},
   "cell_type": "markdown",
   "source": [
    "- Assigning each CDB_SB value to a cluster using GMM, removing NaN values before\n",
    "- New column for the metadata dataframe"
   ],
   "id": "ef224300878b6fa1"
  },
  {
   "metadata": {
    "ExecuteTime": {
     "end_time": "2025-06-14T10:34:55.766778Z",
     "start_time": "2025-06-14T10:34:55.626159Z"
    }
   },
   "cell_type": "code",
   "source": [
    "# Filter valid CDR_SB values\n",
    "df_cdr = df_meta[['ID', 'CDR_SB']].dropna().copy()\n",
    "print(\"Dimensions after dropping NaN\", df_cdr.shape)\n",
    "\n",
    "# Fit GMM and predict raw labels\n",
    "np.random.seed(42)\n",
    "x_gmm = df_cdr['CDR_SB'].values.reshape(-1, 1)\n",
    "gmm = GaussianMixture(n_components=3, random_state=42).fit(x_gmm)\n",
    "df_cdr['GMM_Label'] = gmm.predict(x_gmm)\n",
    "\n",
    "# Reorder labels by CDR_SB severity\n",
    "means = df_cdr.groupby('GMM_Label')['CDR_SB'].mean().sort_values()\n",
    "label_map = {old: new for new, old in enumerate(means.index)}\n",
    "df_cdr['GMM_Label'] = df_cdr['GMM_Label'].map(label_map)\n",
    "\n",
    "# Include in metadata\n",
    "label_map = dict(zip(df_cdr['ID'], df_cdr['GMM_Label']))\n",
    "df_meta = df_meta.drop(columns=['GMM_Label'], errors='ignore')\n",
    "df_meta['GMM_Label'] = df_meta['ID'].map(label_map).astype('Int64')"
   ],
   "id": "d26eb833d666f81d",
   "outputs": [
    {
     "name": "stdout",
     "output_type": "stream",
     "text": [
      "Dimensions after dropping NaN (171, 2)\n"
     ]
    }
   ],
   "execution_count": 26
  },
  {
   "metadata": {
    "ExecuteTime": {
     "end_time": "2025-06-14T10:34:56.005398Z",
     "start_time": "2025-06-14T10:34:55.979927Z"
    }
   },
   "cell_type": "code",
   "source": "print(df_meta['GMM_Label'].value_counts().sort_index())",
   "id": "59bc2e5b852d09f9",
   "outputs": [
    {
     "name": "stdout",
     "output_type": "stream",
     "text": [
      "GMM_Label\n",
      "0    80\n",
      "1    76\n",
      "2    15\n",
      "Name: count, dtype: Int64\n"
     ]
    }
   ],
   "execution_count": 27
  },
  {
   "metadata": {
    "ExecuteTime": {
     "end_time": "2025-06-14T10:34:56.386161Z",
     "start_time": "2025-06-14T10:34:56.194049Z"
    }
   },
   "cell_type": "code",
   "source": [
    "plt.figure(figsize=(7, 5))\n",
    "\n",
    "set_2 = sns.color_palette(\"Set2\")[2:]\n",
    "\n",
    "sns.histplot(\n",
    "    data=df_meta.dropna(subset=['CDR_SB', 'GMM_Label']),\n",
    "    x='CDR_SB',\n",
    "    hue='GMM_Label',\n",
    "    palette=set_2,\n",
    "    multiple='stack',   # oppure 'dodge' per barre affiancate\n",
    "    bins=35,\n",
    "    edgecolor='black',\n",
    "    alpha=0.8\n",
    ")\n",
    "\n",
    "plt.xlabel(\"CDR_SB\", fontsize=12)\n",
    "plt.ylabel(\"Number of Subjects\", fontsize=12)\n",
    "plt.title(\"CDR_SB Distribution by GMM Cluster\", fontsize=14)\n",
    "plt.grid(axis='y', linestyle='--', alpha=0.4)\n",
    "plt.tight_layout()\n",
    "plt.show()"
   ],
   "id": "30bc864e8e648756",
   "outputs": [
    {
     "data": {
      "text/plain": [
       "<Figure size 700x500 with 1 Axes>"
      ],
      "image/png": "[encoded data removed]"
     },
     "metadata": {},
     "output_type": "display_data"
    }
   ],
   "execution_count": 28
  },
  {
   "metadata": {
    "ExecuteTime": {
     "end_time": "2025-06-14T10:34:56.853589Z",
     "start_time": "2025-06-14T10:34:56.737548Z"
    }
   },
   "cell_type": "code",
   "source": "aic, bic = evaluate_gmm(x_gmm, K_range=range(2, 9), save_path= None, prefix=\"cdr_sb\", plot_flag=True)",
   "id": "989bf1463ebe30c2",
   "outputs": [
    {
     "data": {
      "text/plain": [
       "<Figure size 640x480 with 1 Axes>"
      ],
      "image/png": "[encoded data removed]"
     },
     "metadata": {},
     "output_type": "display_data"
    }
   ],
   "execution_count": 29
  },
  {
   "metadata": {},
   "cell_type": "markdown",
   "source": "## Yeo Data",
   "id": "3fdf4ef06f24bbac"
  },
  {
   "metadata": {
    "ExecuteTime": {
     "end_time": "2025-06-14T10:34:56.884030Z",
     "start_time": "2025-06-14T10:34:56.857416Z"
    }
   },
   "cell_type": "code",
   "source": [
    "df_networks_no_thr = pd.read_csv(\"/Users/emmatosato/Documents/PhD/ANM_Verona/data/mean_networks/mean_networks_noTHR.csv\")\n",
    "df_networks_thr01 = pd.read_csv(\"/Users/emmatosato/Documents/PhD/ANM_Verona/data/mean_networks/mean_networks_thr01.csv\")\n",
    "df_networks_thr02 = pd.read_csv(\"/Users/emmatosato/Documents/PhD/ANM_Verona/data/mean_networks/mean_networks_thr02.csv\")"
   ],
   "id": "6e981ff2afac375f",
   "outputs": [],
   "execution_count": 30
  },
  {
   "metadata": {
    "ExecuteTime": {
     "end_time": "2025-06-14T10:34:57.089662Z",
     "start_time": "2025-06-14T10:34:57.069135Z"
    }
   },
   "cell_type": "code",
   "source": [
    "df_networks_no_thr = df_networks_no_thr.rename(columns={\"CODE\": \"ID\"})\n",
    "df_networks_thr01 = df_networks_thr01.rename(columns={\"CODE\": \"ID\"})\n",
    "df_networks_thr02 = df_networks_thr02.rename(columns={\"CODE\": \"ID\"})"
   ],
   "id": "d7bc3902dc8c0ff8",
   "outputs": [],
   "execution_count": 31
  },
  {
   "metadata": {
    "ExecuteTime": {
     "end_time": "2025-06-14T10:34:57.284488Z",
     "start_time": "2025-06-14T10:34:57.262090Z"
    }
   },
   "cell_type": "code",
   "source": "features_network = ['VIS_mean', 'VAN_mean', 'DAN_mean', 'DMN_mean', 'LMB_mean', 'FPN_mean', 'SMN_mean', 'SUBCORTICAL_mean']",
   "id": "72db3f8511134a09",
   "outputs": [],
   "execution_count": 32
  },
  {
   "metadata": {},
   "cell_type": "markdown",
   "source": "# Preprocessing",
   "id": "af8b6ccb24a64d2e"
  },
  {
   "metadata": {},
   "cell_type": "markdown",
   "source": "## Load data",
   "id": "cedb4a7aa22801b9"
  },
  {
   "metadata": {},
   "cell_type": "markdown",
   "source": "Recall the dataframe with ID and values of the maps",
   "id": "3d4e4b745afc66e9"
  },
  {
   "metadata": {
    "ExecuteTime": {
     "end_time": "2025-06-14T10:34:57.489544Z",
     "start_time": "2025-06-14T10:34:57.465823Z"
    }
   },
   "cell_type": "code",
   "source": [
    "print(\"\\n\", df.shape, \"\\n\")\n",
    "df.iloc[:5, :5]"
   ],
   "id": "e5dad60c824cbc0",
   "outputs": [
    {
     "name": "stdout",
     "output_type": "stream",
     "text": [
      "\n",
      " (176, 902630) \n",
      "\n"
     ]
    },
    {
     "data": {
      "text/plain": [
       "           ID    0    1    2    3\n",
       "0  002_S_4654  0.0  0.0  0.0  0.0\n",
       "1  002_S_6695  0.0  0.0  0.0  0.0\n",
       "2  003_S_6264  0.0  0.0  0.0  0.0\n",
       "3  003_S_6268  0.0  0.0  0.0  0.0\n",
       "4  003_S_6432  0.0  0.0  0.0  0.0"
      ],
      "text/html": [
       "<div>\n",
       "<style scoped>\n",
       "    .dataframe tbody tr th:only-of-type {\n",
       "        vertical-align: middle;\n",
       "    }\n",
       "\n",
       "    .dataframe tbody tr th {\n",
       "        vertical-align: top;\n",
       "    }\n",
       "\n",
       "    .dataframe thead th {\n",
       "        text-align: right;\n",
       "    }\n",
       "</style>\n",
       "<table border=\"1\" class=\"dataframe\">\n",
       "  <thead>\n",
       "    <tr style=\"text-align: right;\">\n",
       "      <th></th>\n",
       "      <th>ID</th>\n",
       "      <th>0</th>\n",
       "      <th>1</th>\n",
       "      <th>2</th>\n",
       "      <th>3</th>\n",
       "    </tr>\n",
       "  </thead>\n",
       "  <tbody>\n",
       "    <tr>\n",
       "      <th>0</th>\n",
       "      <td>002_S_4654</td>\n",
       "      <td>0.0</td>\n",
       "      <td>0.0</td>\n",
       "      <td>0.0</td>\n",
       "      <td>0.0</td>\n",
       "    </tr>\n",
       "    <tr>\n",
       "      <th>1</th>\n",
       "      <td>002_S_6695</td>\n",
       "      <td>0.0</td>\n",
       "      <td>0.0</td>\n",
       "      <td>0.0</td>\n",
       "      <td>0.0</td>\n",
       "    </tr>\n",
       "    <tr>\n",
       "      <th>2</th>\n",
       "      <td>003_S_6264</td>\n",
       "      <td>0.0</td>\n",
       "      <td>0.0</td>\n",
       "      <td>0.0</td>\n",
       "      <td>0.0</td>\n",
       "    </tr>\n",
       "    <tr>\n",
       "      <th>3</th>\n",
       "      <td>003_S_6268</td>\n",
       "      <td>0.0</td>\n",
       "      <td>0.0</td>\n",
       "      <td>0.0</td>\n",
       "      <td>0.0</td>\n",
       "    </tr>\n",
       "    <tr>\n",
       "      <th>4</th>\n",
       "      <td>003_S_6432</td>\n",
       "      <td>0.0</td>\n",
       "      <td>0.0</td>\n",
       "      <td>0.0</td>\n",
       "      <td>0.0</td>\n",
       "    </tr>\n",
       "  </tbody>\n",
       "</table>\n",
       "</div>"
      ]
     },
     "execution_count": 33,
     "metadata": {},
     "output_type": "execute_result"
    }
   ],
   "execution_count": 33
  },
  {
   "metadata": {},
   "cell_type": "markdown",
   "source": "Merging the meta columns with the above dataframe: the order of the subject must be the same of the dataframe of the FC maps",
   "id": "bf0106a4b411a8fd"
  },
  {
   "metadata": {
    "ExecuteTime": {
     "end_time": "2025-06-14T10:34:57.713515Z",
     "start_time": "2025-06-14T10:34:57.689987Z"
    }
   },
   "cell_type": "code",
   "source": [
    "df_meta = df_meta.set_index('ID').loc[df['ID']].reset_index()\n",
    "\n",
    "assert all(df['ID'] == df_meta['ID']), \"Mismatch between ID of df and df_meta_ordered\"\n",
    "print(\"The ID are now perfectly aligned\")"
   ],
   "id": "96c7a5d484ac3de6",
   "outputs": [
    {
     "name": "stdout",
     "output_type": "stream",
     "text": [
      "The ID are now perfectly aligned\n"
     ]
    }
   ],
   "execution_count": 34
  },
  {
   "metadata": {
    "ExecuteTime": {
     "end_time": "2025-06-14T10:34:57.759470Z",
     "start_time": "2025-06-14T10:34:57.737941Z"
    }
   },
   "cell_type": "code",
   "source": "df.shape",
   "id": "40b14949e1711cf4",
   "outputs": [
    {
     "data": {
      "text/plain": [
       "(176, 902630)"
      ]
     },
     "execution_count": 35,
     "metadata": {},
     "output_type": "execute_result"
    }
   ],
   "execution_count": 35
  },
  {
   "metadata": {},
   "cell_type": "markdown",
   "source": "## Thresholding",
   "id": "9fd3aa29ccf056d5"
  },
  {
   "metadata": {},
   "cell_type": "markdown",
   "source": "Set a threshold for values below 0.1 and 0.2 for defining correlation",
   "id": "38620222b409d412"
  },
  {
   "metadata": {
    "ExecuteTime": {
     "end_time": "2025-06-14T10:34:57.795376Z",
     "start_time": "2025-06-14T10:34:57.774559Z"
    }
   },
   "cell_type": "code",
   "source": [
    "def apply_threshold(dataframe, threshold):\n",
    "    df_thr = dataframe.copy()\n",
    "    df_thr.iloc[:, 1:] = df_thr.iloc[:, 1:].mask(df_thr.iloc[:, 1:] < threshold, 0)\n",
    "    return df_thr"
   ],
   "id": "4b7a7f653b69dda3",
   "outputs": [],
   "execution_count": 36
  },
  {
   "metadata": {
    "ExecuteTime": {
     "end_time": "2025-06-14T10:35:30.226126Z",
     "start_time": "2025-06-14T10:34:57.970722Z"
    }
   },
   "cell_type": "code",
   "source": "df_thr_01 = apply_threshold(df, threshold=0.1)",
   "id": "88da87923ebe9ad2",
   "outputs": [],
   "execution_count": 37
  },
  {
   "metadata": {
    "ExecuteTime": {
     "end_time": "2025-06-14T10:36:01.826771Z",
     "start_time": "2025-06-14T10:35:30.504430Z"
    }
   },
   "cell_type": "code",
   "source": "df_thr_02 = apply_threshold(df, threshold=0.2)",
   "id": "9e83a169c2d98ca",
   "outputs": [],
   "execution_count": 38
  },
  {
   "metadata": {},
   "cell_type": "markdown",
   "source": "## Masking\n",
   "id": "94f53fd295e42d2a"
  },
  {
   "metadata": {},
   "cell_type": "markdown",
   "source": [
    "- Binary mask of grey matter using the Harvard-Oxford Atlas\n",
    "\n",
    "- Keeping the Gray Matter voxels"
   ],
   "id": "b8eae3e85b345f91"
  },
  {
   "metadata": {
    "ExecuteTime": {
     "end_time": "2025-06-14T10:36:02.192974Z",
     "start_time": "2025-06-14T10:36:02.155228Z"
    }
   },
   "cell_type": "code",
   "source": [
    "def apply_mask(df_thr, mask_path):\n",
    "    # Load and flatten GM mask\n",
    "    mask = nib.load(mask_path).get_fdata().flatten()\n",
    "    assert mask.shape[0] == df_thr.shape[1] - 1, \"Mask and data length mismatch\"\n",
    "\n",
    "    # Mask\n",
    "    voxel_data = df_thr.iloc[:, 1:]\n",
    "    voxel_data_masked = voxel_data.loc[:, mask != 0]\n",
    "\n",
    "    # Return the masked dataframes\n",
    "    df_masked = pd.concat([df_thr[['ID']], voxel_data_masked], axis=1)\n",
    "    df_masked.columns = ['ID'] + list(range(voxel_data_masked.shape[1]))\n",
    "    return df_masked"
   ],
   "id": "7b48bf047175d13",
   "outputs": [],
   "execution_count": 39
  },
  {
   "metadata": {
    "ExecuteTime": {
     "end_time": "2025-06-14T10:36:04.032199Z",
     "start_time": "2025-06-14T10:36:02.551180Z"
    }
   },
   "cell_type": "code",
   "source": [
    "# GM masking\n",
    "# 0.1 threshold\n",
    "df_thr01_gm = apply_mask(df_thr_01, gm_mask_path)\n",
    "\n",
    "# 0.2 threshold\n",
    "df_thr02_gm = apply_mask(df_thr_02, gm_mask_path)\n",
    "\n",
    "# Without threshold\n",
    "df_gm = apply_mask(df, gm_mask_path)"
   ],
   "id": "ca1715bc3a79d980",
   "outputs": [],
   "execution_count": 40
  },
  {
   "metadata": {
    "ExecuteTime": {
     "end_time": "2025-06-14T10:36:05.479847Z",
     "start_time": "2025-06-14T10:36:04.406877Z"
    }
   },
   "cell_type": "code",
   "source": [
    "# Harvard masking\n",
    "# 0.1 threshold\n",
    "df_thr01_har = apply_mask(df_thr_01, harvard_oxford_mask_path)\n",
    "\n",
    "# 0.2 threshold\n",
    "df_thr02_har = apply_mask(df_thr_02, harvard_oxford_mask_path)\n",
    "\n",
    "# Without\n",
    "df_har = apply_mask(df, harvard_oxford_mask_path)"
   ],
   "id": "eb91124bf129b9c5",
   "outputs": [],
   "execution_count": 41
  },
  {
   "metadata": {},
   "cell_type": "markdown",
   "source": "## EDA",
   "id": "7426d56fdfdce28b"
  },
  {
   "metadata": {
    "ExecuteTime": {
     "end_time": "2025-06-14T10:36:05.901532Z",
     "start_time": "2025-06-14T10:36:05.881053Z"
    }
   },
   "cell_type": "code",
   "source": [
    "print(\"Dimensions of dataframes after gm masking with 2 different thresholds:\")\n",
    "print(\"0.1 threshold\", df_thr01_gm.shape)\n",
    "print(\"0.2 threshold\", df_thr02_gm.shape)\n",
    "\n",
    "print(\"\\nDimensions of dataframes after harvard masking with 2 different thresholds:\")\n",
    "print(\"0.1 threshold\", df_thr01_har.shape)\n",
    "print(\"0.2 threshold\", df_thr02_har.shape)\n",
    "\n",
    "print(\"\\nDimensions of dataframes after gm masking and harvard masking without thresholding:\")\n",
    "print(\"GM Mask\", df_gm.shape)\n",
    "print(\"Harvard Mask\", df_har.shape)"
   ],
   "id": "88dbef4cdd4af435",
   "outputs": [
    {
     "name": "stdout",
     "output_type": "stream",
     "text": [
      "Dimensions of dataframes after gm masking with 2 different thresholds:\n",
      "0.1 threshold (176, 161818)\n",
      "0.2 threshold (176, 161818)\n",
      "\n",
      "Dimensions of dataframes after harvard masking with 2 different thresholds:\n",
      "0.1 threshold (176, 55005)\n",
      "0.2 threshold (176, 55005)\n",
      "\n",
      "Dimensions of dataframes after gm masking and harvard masking without thresholding:\n",
      "GM Mask (176, 161818)\n",
      "Harvard Mask (176, 55005)\n"
     ]
    }
   ],
   "execution_count": 42
  },
  {
   "metadata": {
    "ExecuteTime": {
     "end_time": "2025-06-14T10:36:06.322417Z",
     "start_time": "2025-06-14T10:36:06.301617Z"
    }
   },
   "cell_type": "code",
   "source": [
    "def summarize_voxel_data(df_masked, threshold=None):\n",
    "    summary = {}\n",
    "    summary['Shape'] = df_masked.shape\n",
    "\n",
    "    if threshold:\n",
    "        has_low = ((df_masked.iloc[:, 1:] > 0) & (df_masked.iloc[:, 1:] < threshold)).any().any()\n",
    "        summary['Valori tra 0 e threshold'] = has_low\n",
    "    else:\n",
    "        summary['Valori tra 0 e threshold'] = 'N/A'\n",
    "\n",
    "    zero_rows = (df_masked.iloc[:, 1:] == 0).all(axis=1).sum()\n",
    "    summary['Zero maps'] = f\"{zero_rows} su {df_masked.shape[0]}\"\n",
    "\n",
    "    voxel_data = df_masked.iloc[:, 1:].values\n",
    "    nonzero_voxels = voxel_data[voxel_data != 0]\n",
    "\n",
    "    summary['All Min'] = voxel_data.min()\n",
    "    summary['All Max'] = voxel_data.max()\n",
    "    summary['All Mean'] = voxel_data.mean()\n",
    "    summary['All Std'] = voxel_data.std()\n",
    "\n",
    "    summary['Nonzero Min'] = nonzero_voxels.min()\n",
    "    summary['Nonzero Max'] = nonzero_voxels.max()\n",
    "    summary['Nonzero Mean'] = nonzero_voxels.mean()\n",
    "    summary['Nonzero Std'] = nonzero_voxels.std()\n",
    "\n",
    "    return summary"
   ],
   "id": "eef2bd4db50e1adb",
   "outputs": [],
   "execution_count": 43
  },
  {
   "metadata": {
    "ExecuteTime": {
     "end_time": "2025-06-14T10:36:09.063105Z",
     "start_time": "2025-06-14T10:36:06.718057Z"
    }
   },
   "cell_type": "code",
   "source": [
    "# Dataset\n",
    "dataframes = {\n",
    "    \"thr_01_gm\": (df_thr01_gm, 0.1),\n",
    "    \"thr_02_gm\": (df_thr02_gm, 0.2),\n",
    "    \"thr_01_har\": (df_thr01_har, 0.1),\n",
    "    \"thr_02_har\": (df_thr02_har, 0.2),\n",
    "    \"gm_no_thr\": (df_gm, None),\n",
    "    \"har_no_thr\": (df_har, None)\n",
    "}\n",
    "\n",
    "# Functions\n",
    "results = []\n",
    "\n",
    "for name, (dfm, thr) in dataframes.items():\n",
    "    summary = summarize_voxel_data(dfm, threshold=thr)\n",
    "    summary['Dataset'] = name\n",
    "    results.append(summary)\n",
    "\n",
    "# Summary\n",
    "df_summary = pd.DataFrame(results).set_index('Dataset')\n",
    "pd.options.display.float_format = '{:.4f}'.format"
   ],
   "id": "aa9d52707ea11f48",
   "outputs": [],
   "execution_count": 44
  },
  {
   "metadata": {
    "ExecuteTime": {
     "end_time": "2025-06-14T10:36:09.483955Z",
     "start_time": "2025-06-14T10:36:09.460021Z"
    }
   },
   "cell_type": "code",
   "source": [
    "print(\"Summary of voxel data:\")\n",
    "display(df_summary)"
   ],
   "id": "9da9b703be7ce05f",
   "outputs": [
    {
     "name": "stdout",
     "output_type": "stream",
     "text": [
      "Summary of voxel data:\n"
     ]
    },
    {
     "data": {
      "text/plain": [
       "                    Shape Valori tra 0 e threshold Zero maps  All Min  \\\n",
       "Dataset                                                                 \n",
       "thr_01_gm   (176, 161818)                    False  0 su 176   0.0000   \n",
       "thr_02_gm   (176, 161818)                    False  0 su 176   0.0000   \n",
       "thr_01_har   (176, 55005)                    False  0 su 176   0.0000   \n",
       "thr_02_har   (176, 55005)                    False  8 su 176   0.0000   \n",
       "gm_no_thr   (176, 161818)                      N/A  0 su 176  -0.2879   \n",
       "har_no_thr   (176, 55005)                      N/A  0 su 176  -0.1555   \n",
       "\n",
       "            All Max  All Mean  All Std  Nonzero Min  Nonzero Max  \\\n",
       "Dataset                                                            \n",
       "thr_01_gm    1.6188    0.0736   0.1022       0.1000       1.6188   \n",
       "thr_02_gm    1.6188    0.0343   0.0943       0.2000       1.6188   \n",
       "thr_01_har   1.6188    0.0846   0.1068       0.1000       1.6188   \n",
       "thr_02_har   1.6188    0.0412   0.1022       0.2000       1.6188   \n",
       "gm_no_thr    1.6188    0.1000   0.0871      -0.2879       1.6188   \n",
       "har_no_thr   1.6188    0.1086   0.0916      -0.1555       1.6188   \n",
       "\n",
       "            Nonzero Mean  Nonzero Std  \n",
       "Dataset                                \n",
       "thr_01_gm         0.1829       0.0771  \n",
       "thr_02_gm         0.2750       0.0715  \n",
       "thr_01_har        0.1867       0.0783  \n",
       "thr_02_har        0.2754       0.0723  \n",
       "gm_no_thr         0.1000       0.0871  \n",
       "har_no_thr        0.1086       0.0916  "
      ],
      "text/html": [
       "<div>\n",
       "<style scoped>\n",
       "    .dataframe tbody tr th:only-of-type {\n",
       "        vertical-align: middle;\n",
       "    }\n",
       "\n",
       "    .dataframe tbody tr th {\n",
       "        vertical-align: top;\n",
       "    }\n",
       "\n",
       "    .dataframe thead th {\n",
       "        text-align: right;\n",
       "    }\n",
       "</style>\n",
       "<table border=\"1\" class=\"dataframe\">\n",
       "  <thead>\n",
       "    <tr style=\"text-align: right;\">\n",
       "      <th></th>\n",
       "      <th>Shape</th>\n",
       "      <th>Valori tra 0 e threshold</th>\n",
       "      <th>Zero maps</th>\n",
       "      <th>All Min</th>\n",
       "      <th>All Max</th>\n",
       "      <th>All Mean</th>\n",
       "      <th>All Std</th>\n",
       "      <th>Nonzero Min</th>\n",
       "      <th>Nonzero Max</th>\n",
       "      <th>Nonzero Mean</th>\n",
       "      <th>Nonzero Std</th>\n",
       "    </tr>\n",
       "    <tr>\n",
       "      <th>Dataset</th>\n",
       "      <th></th>\n",
       "      <th></th>\n",
       "      <th></th>\n",
       "      <th></th>\n",
       "      <th></th>\n",
       "      <th></th>\n",
       "      <th></th>\n",
       "      <th></th>\n",
       "      <th></th>\n",
       "      <th></th>\n",
       "      <th></th>\n",
       "    </tr>\n",
       "  </thead>\n",
       "  <tbody>\n",
       "    <tr>\n",
       "      <th>thr_01_gm</th>\n",
       "      <td>(176, 161818)</td>\n",
       "      <td>False</td>\n",
       "      <td>0 su 176</td>\n",
       "      <td>0.0000</td>\n",
       "      <td>1.6188</td>\n",
       "      <td>0.0736</td>\n",
       "      <td>0.1022</td>\n",
       "      <td>0.1000</td>\n",
       "      <td>1.6188</td>\n",
       "      <td>0.1829</td>\n",
       "      <td>0.0771</td>\n",
       "    </tr>\n",
       "    <tr>\n",
       "      <th>thr_02_gm</th>\n",
       "      <td>(176, 161818)</td>\n",
       "      <td>False</td>\n",
       "      <td>0 su 176</td>\n",
       "      <td>0.0000</td>\n",
       "      <td>1.6188</td>\n",
       "      <td>0.0343</td>\n",
       "      <td>0.0943</td>\n",
       "      <td>0.2000</td>\n",
       "      <td>1.6188</td>\n",
       "      <td>0.2750</td>\n",
       "      <td>0.0715</td>\n",
       "    </tr>\n",
       "    <tr>\n",
       "      <th>thr_01_har</th>\n",
       "      <td>(176, 55005)</td>\n",
       "      <td>False</td>\n",
       "      <td>0 su 176</td>\n",
       "      <td>0.0000</td>\n",
       "      <td>1.6188</td>\n",
       "      <td>0.0846</td>\n",
       "      <td>0.1068</td>\n",
       "      <td>0.1000</td>\n",
       "      <td>1.6188</td>\n",
       "      <td>0.1867</td>\n",
       "      <td>0.0783</td>\n",
       "    </tr>\n",
       "    <tr>\n",
       "      <th>thr_02_har</th>\n",
       "      <td>(176, 55005)</td>\n",
       "      <td>False</td>\n",
       "      <td>8 su 176</td>\n",
       "      <td>0.0000</td>\n",
       "      <td>1.6188</td>\n",
       "      <td>0.0412</td>\n",
       "      <td>0.1022</td>\n",
       "      <td>0.2000</td>\n",
       "      <td>1.6188</td>\n",
       "      <td>0.2754</td>\n",
       "      <td>0.0723</td>\n",
       "    </tr>\n",
       "    <tr>\n",
       "      <th>gm_no_thr</th>\n",
       "      <td>(176, 161818)</td>\n",
       "      <td>N/A</td>\n",
       "      <td>0 su 176</td>\n",
       "      <td>-0.2879</td>\n",
       "      <td>1.6188</td>\n",
       "      <td>0.1000</td>\n",
       "      <td>0.0871</td>\n",
       "      <td>-0.2879</td>\n",
       "      <td>1.6188</td>\n",
       "      <td>0.1000</td>\n",
       "      <td>0.0871</td>\n",
       "    </tr>\n",
       "    <tr>\n",
       "      <th>har_no_thr</th>\n",
       "      <td>(176, 55005)</td>\n",
       "      <td>N/A</td>\n",
       "      <td>0 su 176</td>\n",
       "      <td>-0.1555</td>\n",
       "      <td>1.6188</td>\n",
       "      <td>0.1086</td>\n",
       "      <td>0.0916</td>\n",
       "      <td>-0.1555</td>\n",
       "      <td>1.6188</td>\n",
       "      <td>0.1086</td>\n",
       "      <td>0.0916</td>\n",
       "    </tr>\n",
       "  </tbody>\n",
       "</table>\n",
       "</div>"
      ]
     },
     "metadata": {},
     "output_type": "display_data"
    }
   ],
   "execution_count": 45
  }
 ],
 "metadata": {
  "kernelspec": {
   "name": "python3",
   "language": "python",
   "display_name": "Python 3 (ipykernel)"
  }
 },
 "nbformat": 5,
 "nbformat_minor": 9
}
