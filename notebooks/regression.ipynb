{
 "cells": [
  {
   "metadata": {
    "ExecuteTime": {
     "end_time": "2025-07-11T14:00:59.436107Z",
     "start_time": "2025-07-11T14:00:59.430833Z"
    }
   },
   "cell_type": "code",
   "source": [
    "import nibabel as nib\n",
    "import numpy as np\n",
    "import pandas as pd"
   ],
   "id": "346f74c8b07e8db2",
   "outputs": [],
   "execution_count": 13
  },
  {
   "metadata": {
    "ExecuteTime": {
     "end_time": "2025-07-11T14:32:24.699885Z",
     "start_time": "2025-07-11T14:32:24.696586Z"
    }
   },
   "cell_type": "code",
   "source": [
    "raw_df_path = \"/Users/emmatosato/Documents/PhD/ANM_Verona/data/dataframes/fdc/raw_df.pkl\"\n",
    "schaefer_path = \"/Users/emmatosato/Documents/PhD/ANM_Verona/utils/masks/Schaefer2018_100Parcels_7Networks_order_FSLMNI152_2mm.nii\"\n",
    "output_csv = \"/Users/emmatosato/Documents/PhD/ANM_Verona/data/dataframes/fdc/df_gm_schaefer100.csv\"\n"
   ],
   "id": "e6359126753f02e2",
   "outputs": [],
   "execution_count": 22
  },
  {
   "metadata": {
    "ExecuteTime": {
     "end_time": "2025-07-11T14:32:25.950249Z",
     "start_time": "2025-07-11T14:32:25.047098Z"
    }
   },
   "cell_type": "code",
   "source": [
    "df_raw = pd.read_pickle(raw_df_path)\n",
    "X = df_raw.drop(columns=\"ID\")\n",
    "ids = df_raw[\"ID\"].values"
   ],
   "id": "c11158e467070b25",
   "outputs": [],
   "execution_count": 23
  },
  {
   "metadata": {
    "ExecuteTime": {
     "end_time": "2025-07-11T14:32:25.973235Z",
     "start_time": "2025-07-11T14:32:25.956393Z"
    }
   },
   "cell_type": "code",
   "source": [
    "schaefer_data = nib.load(schaefer_path).get_fdata()\n",
    "schaefer_flat = schaefer_data.flatten()\n",
    "\n",
    "assert X.shape[1] == schaefer_flat.shape[0], f\"Shape mismatch: {X.shape[1]} vs {schaefer_flat.shape[0]}\"\n"
   ],
   "id": "ae52cd4514ba3f12",
   "outputs": [],
   "execution_count": 24
  },
  {
   "metadata": {
    "ExecuteTime": {
     "end_time": "2025-07-11T14:32:27.532450Z",
     "start_time": "2025-07-11T14:32:27.346217Z"
    }
   },
   "cell_type": "code",
   "source": [
    "parcel_labels = np.unique(schaefer_flat)\n",
    "parcel_labels = parcel_labels[parcel_labels != 0]  # exclude background\n",
    "\n",
    "X_parcellated = []\n",
    "for p in parcel_labels:\n",
    "    idx = np.where(schaefer_flat == p)[0]\n",
    "    mean_vals = X.iloc[:, idx].mean(axis=1)\n",
    "    X_parcellated.append(mean_vals)"
   ],
   "id": "bf4b730f1b8b2026",
   "outputs": [],
   "execution_count": 25
  },
  {
   "metadata": {
    "ExecuteTime": {
     "end_time": "2025-07-11T14:32:28.390859Z",
     "start_time": "2025-07-11T14:32:28.332142Z"
    }
   },
   "cell_type": "code",
   "source": [
    "df_parcellated = pd.concat(X_parcellated, axis=1)\n",
    "df_parcellated.columns = [f\"Parcel_{int(p)}\" for p in parcel_labels]\n",
    "df_parcellated.insert(0, \"ID\", ids)\n",
    "\n",
    "df_parcellated.to_csv(output_csv, index=False)\n",
    "df_parcellated.head()"
   ],
   "id": "28e50a5401960b55",
   "outputs": [
    {
     "data": {
      "text/plain": [
       "           ID  Parcel_1  Parcel_2  Parcel_3  Parcel_4  Parcel_5  Parcel_6  \\\n",
       "0  002_S_4654  0.054192  0.069381  0.074192  0.029997  0.038965  0.070017   \n",
       "1  002_S_6695  0.038969  0.120333  0.106138  0.072724  0.098158  0.112366   \n",
       "2  003_S_6264  0.073665  0.125254  0.115192  0.107310  0.148184  0.140690   \n",
       "3  003_S_6268  0.039891  0.190522  0.156401  0.167063  0.147624  0.148920   \n",
       "4  003_S_6432  0.014196  0.079369  0.061841  0.093283  0.121474  0.083344   \n",
       "\n",
       "   Parcel_7  Parcel_8  Parcel_9  ...  Parcel_91  Parcel_92  Parcel_93  \\\n",
       "0  0.099944  0.082393  0.090527  ...   0.036543   0.077896   0.078019   \n",
       "1  0.140153  0.118684  0.144663  ...   0.074979   0.120234   0.193057   \n",
       "2  0.109004  0.132312  0.155733  ...   0.048584   0.046254   0.068661   \n",
       "3  0.198828  0.263184  0.219386  ...   0.024394   0.044910   0.069548   \n",
       "4  0.059421  0.094515  0.099578  ...   0.015321   0.004471   0.031169   \n",
       "\n",
       "   Parcel_94  Parcel_95  Parcel_96  Parcel_97  Parcel_98  Parcel_99  \\\n",
       "0   0.042058   0.041479   0.048650   0.052150   0.036152   0.079559   \n",
       "1   0.087274   0.156242   0.085032   0.183829   0.081272   0.098948   \n",
       "2   0.065125   0.050287   0.090642   0.072030   0.097758   0.144649   \n",
       "3   0.033526   0.059831   0.034622   0.052908   0.054203   0.071985   \n",
       "4   0.023026   0.060752   0.024779   0.041344   0.076622   0.039014   \n",
       "\n",
       "   Parcel_100  \n",
       "0    0.060288  \n",
       "1    0.149118  \n",
       "2    0.126067  \n",
       "3    0.047715  \n",
       "4    0.034765  \n",
       "\n",
       "[5 rows x 101 columns]"
      ],
      "text/html": [
       "<div>\n",
       "<style scoped>\n",
       "    .dataframe tbody tr th:only-of-type {\n",
       "        vertical-align: middle;\n",
       "    }\n",
       "\n",
       "    .dataframe tbody tr th {\n",
       "        vertical-align: top;\n",
       "    }\n",
       "\n",
       "    .dataframe thead th {\n",
       "        text-align: right;\n",
       "    }\n",
       "</style>\n",
       "<table border=\"1\" class=\"dataframe\">\n",
       "  <thead>\n",
       "    <tr style=\"text-align: right;\">\n",
       "      <th></th>\n",
       "      <th>ID</th>\n",
       "      <th>Parcel_1</th>\n",
       "      <th>Parcel_2</th>\n",
       "      <th>Parcel_3</th>\n",
       "      <th>Parcel_4</th>\n",
       "      <th>Parcel_5</th>\n",
       "      <th>Parcel_6</th>\n",
       "      <th>Parcel_7</th>\n",
       "      <th>Parcel_8</th>\n",
       "      <th>Parcel_9</th>\n",
       "      <th>...</th>\n",
       "      <th>Parcel_91</th>\n",
       "      <th>Parcel_92</th>\n",
       "      <th>Parcel_93</th>\n",
       "      <th>Parcel_94</th>\n",
       "      <th>Parcel_95</th>\n",
       "      <th>Parcel_96</th>\n",
       "      <th>Parcel_97</th>\n",
       "      <th>Parcel_98</th>\n",
       "      <th>Parcel_99</th>\n",
       "      <th>Parcel_100</th>\n",
       "    </tr>\n",
       "  </thead>\n",
       "  <tbody>\n",
       "    <tr>\n",
       "      <th>0</th>\n",
       "      <td>002_S_4654</td>\n",
       "      <td>0.054192</td>\n",
       "      <td>0.069381</td>\n",
       "      <td>0.074192</td>\n",
       "      <td>0.029997</td>\n",
       "      <td>0.038965</td>\n",
       "      <td>0.070017</td>\n",
       "      <td>0.099944</td>\n",
       "      <td>0.082393</td>\n",
       "      <td>0.090527</td>\n",
       "      <td>...</td>\n",
       "      <td>0.036543</td>\n",
       "      <td>0.077896</td>\n",
       "      <td>0.078019</td>\n",
       "      <td>0.042058</td>\n",
       "      <td>0.041479</td>\n",
       "      <td>0.048650</td>\n",
       "      <td>0.052150</td>\n",
       "      <td>0.036152</td>\n",
       "      <td>0.079559</td>\n",
       "      <td>0.060288</td>\n",
       "    </tr>\n",
       "    <tr>\n",
       "      <th>1</th>\n",
       "      <td>002_S_6695</td>\n",
       "      <td>0.038969</td>\n",
       "      <td>0.120333</td>\n",
       "      <td>0.106138</td>\n",
       "      <td>0.072724</td>\n",
       "      <td>0.098158</td>\n",
       "      <td>0.112366</td>\n",
       "      <td>0.140153</td>\n",
       "      <td>0.118684</td>\n",
       "      <td>0.144663</td>\n",
       "      <td>...</td>\n",
       "      <td>0.074979</td>\n",
       "      <td>0.120234</td>\n",
       "      <td>0.193057</td>\n",
       "      <td>0.087274</td>\n",
       "      <td>0.156242</td>\n",
       "      <td>0.085032</td>\n",
       "      <td>0.183829</td>\n",
       "      <td>0.081272</td>\n",
       "      <td>0.098948</td>\n",
       "      <td>0.149118</td>\n",
       "    </tr>\n",
       "    <tr>\n",
       "      <th>2</th>\n",
       "      <td>003_S_6264</td>\n",
       "      <td>0.073665</td>\n",
       "      <td>0.125254</td>\n",
       "      <td>0.115192</td>\n",
       "      <td>0.107310</td>\n",
       "      <td>0.148184</td>\n",
       "      <td>0.140690</td>\n",
       "      <td>0.109004</td>\n",
       "      <td>0.132312</td>\n",
       "      <td>0.155733</td>\n",
       "      <td>...</td>\n",
       "      <td>0.048584</td>\n",
       "      <td>0.046254</td>\n",
       "      <td>0.068661</td>\n",
       "      <td>0.065125</td>\n",
       "      <td>0.050287</td>\n",
       "      <td>0.090642</td>\n",
       "      <td>0.072030</td>\n",
       "      <td>0.097758</td>\n",
       "      <td>0.144649</td>\n",
       "      <td>0.126067</td>\n",
       "    </tr>\n",
       "    <tr>\n",
       "      <th>3</th>\n",
       "      <td>003_S_6268</td>\n",
       "      <td>0.039891</td>\n",
       "      <td>0.190522</td>\n",
       "      <td>0.156401</td>\n",
       "      <td>0.167063</td>\n",
       "      <td>0.147624</td>\n",
       "      <td>0.148920</td>\n",
       "      <td>0.198828</td>\n",
       "      <td>0.263184</td>\n",
       "      <td>0.219386</td>\n",
       "      <td>...</td>\n",
       "      <td>0.024394</td>\n",
       "      <td>0.044910</td>\n",
       "      <td>0.069548</td>\n",
       "      <td>0.033526</td>\n",
       "      <td>0.059831</td>\n",
       "      <td>0.034622</td>\n",
       "      <td>0.052908</td>\n",
       "      <td>0.054203</td>\n",
       "      <td>0.071985</td>\n",
       "      <td>0.047715</td>\n",
       "    </tr>\n",
       "    <tr>\n",
       "      <th>4</th>\n",
       "      <td>003_S_6432</td>\n",
       "      <td>0.014196</td>\n",
       "      <td>0.079369</td>\n",
       "      <td>0.061841</td>\n",
       "      <td>0.093283</td>\n",
       "      <td>0.121474</td>\n",
       "      <td>0.083344</td>\n",
       "      <td>0.059421</td>\n",
       "      <td>0.094515</td>\n",
       "      <td>0.099578</td>\n",
       "      <td>...</td>\n",
       "      <td>0.015321</td>\n",
       "      <td>0.004471</td>\n",
       "      <td>0.031169</td>\n",
       "      <td>0.023026</td>\n",
       "      <td>0.060752</td>\n",
       "      <td>0.024779</td>\n",
       "      <td>0.041344</td>\n",
       "      <td>0.076622</td>\n",
       "      <td>0.039014</td>\n",
       "      <td>0.034765</td>\n",
       "    </tr>\n",
       "  </tbody>\n",
       "</table>\n",
       "<p>5 rows × 101 columns</p>\n",
       "</div>"
      ]
     },
     "execution_count": 26,
     "metadata": {},
     "output_type": "execute_result"
    }
   ],
   "execution_count": 26
  },
  {
   "metadata": {},
   "cell_type": "code",
   "outputs": [],
   "execution_count": null,
   "source": "",
   "id": "63e08f46b849f69"
  }
 ],
 "metadata": {
  "kernelspec": {
   "display_name": "Python 3",
   "language": "python",
   "name": "python3"
  },
  "language_info": {
   "codemirror_mode": {
    "name": "ipython",
    "version": 2
   },
   "file_extension": ".py",
   "mimetype": "text/x-python",
   "name": "python",
   "nbconvert_exporter": "python",
   "pygments_lexer": "ipython2",
   "version": "2.7.6"
  }
 },
 "nbformat": 4,
 "nbformat_minor": 5
}
