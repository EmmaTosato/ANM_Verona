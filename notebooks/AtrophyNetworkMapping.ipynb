{
 "cells": [
  {
   "metadata": {},
   "cell_type": "markdown",
   "source": "# Utils",
   "id": "d2307c9fb1159ab0"
  },
  {
   "metadata": {},
   "cell_type": "markdown",
   "source": "### Libraries",
   "id": "9b2b11082d01386"
  },
  {
   "metadata": {
    "ExecuteTime": {
     "end_time": "2025-05-07T15:28:49.126647Z",
     "start_time": "2025-05-07T15:28:46.196014Z"
    }
   },
   "cell_type": "code",
   "source": [
    "import numpy as np\n",
    "import pandas as pd\n",
    "import os\n",
    "import glob\n",
    "import nibabel as nib\n",
    "import umap\n",
    "import numpy as np\n",
    "import matplotlib.pyplot as plt\n",
    "import seaborn as sns\n",
    "\n",
    "from sklearn.cluster import KMeans, DBSCAN\n",
    "from sklearn.mixture import GaussianMixture\n",
    "import hdbscan\n",
    "\n",
    "from sklearn.metrics import mean_squared_error, mean_absolute_error, r2_score\n",
    "import statsmodels.api as sm"
   ],
   "id": "2bbfb5d9ad283893",
   "outputs": [],
   "execution_count": 1
  },
  {
   "metadata": {
    "ExecuteTime": {
     "end_time": "2025-05-07T15:28:49.135553Z",
     "start_time": "2025-05-07T15:28:49.133249Z"
    }
   },
   "cell_type": "code",
   "source": [
    "import warnings\n",
    "\n",
    "# Suppress all FutureWarnings\n",
    "warnings.simplefilter(action='ignore', category=FutureWarning)"
   ],
   "id": "e685d252e53c8907",
   "outputs": [],
   "execution_count": 2
  },
  {
   "metadata": {},
   "cell_type": "markdown",
   "source": "### Paths and folders",
   "id": "8b6fcec9b4b2fec2"
  },
  {
   "metadata": {
    "ExecuteTime": {
     "end_time": "2025-05-07T15:28:49.146088Z",
     "start_time": "2025-05-07T15:28:49.143185Z"
    }
   },
   "cell_type": "code",
   "source": [
    "# FC maps mean\n",
    "dir_FCmaps = '/Users/emmatosato/Documents/PhD/ANM_Verona/data/FCmaps'\n",
    "dir_FCmaps3D_processed = '/Users/emmatosato/Documents/PhD/ANM_Verona/data/FCmaps_processed'\n",
    "dir_data_utils = \"/Users/emmatosato/Documents/PhD/ANM_Verona/data_utils/\"\n",
    "gm_mask_path = '/Users/emmatosato/Documents/PhD/ANM_Verona/data_utils/GM_mask.nii'\n",
    "harvard_oxford_mask_path = '/Users/emmatosato/Documents/PhD/ANM_Verona/data_utils/mask_GM.nii'\n",
    "atrophy_dataset_matches = '/Users/emmatosato/Documents/PhD/ANM_Verona/data_utils/metadata/atrophy_matched.xlsx'\n",
    "labels_csv = '/Users/emmatosato/Documents/PhD/ANM_Verona/data_utils'\n",
    "save_path = \"/Users/emmatosato/Documents/PhD/ANM_Verona/output_images\""
   ],
   "id": "c6f2415abd969dfe",
   "outputs": [],
   "execution_count": 3
  },
  {
   "metadata": {
    "ExecuteTime": {
     "end_time": "2025-05-07T15:28:49.210469Z",
     "start_time": "2025-05-07T15:28:49.208780Z"
    }
   },
   "cell_type": "code",
   "source": [
    "# Create output directory if it doesn't exist\n",
    "os.makedirs(dir_FCmaps3D_processed, exist_ok=True)"
   ],
   "id": "40cb1d605a32d8e6",
   "outputs": [],
   "execution_count": 4
  },
  {
   "metadata": {},
   "cell_type": "markdown",
   "source": "# Data",
   "id": "d60f1bf76e7d79dc"
  },
  {
   "metadata": {},
   "cell_type": "markdown",
   "source": "Function for listing the data in nii.gz format and extract the subjects identifiers + printing some infos",
   "id": "a347049cd9c2a54d"
  },
  {
   "metadata": {
    "ExecuteTime": {
     "end_time": "2025-05-07T15:28:49.219421Z",
     "start_time": "2025-05-07T15:28:49.216786Z"
    }
   },
   "cell_type": "code",
   "source": [
    "def listData_saveID(dir):\n",
    "    # All nii.gz files in the directory\n",
    "    files_path = sorted(glob.glob(os.path.join(dir, '*gz')))\n",
    "\n",
    "    # Extract Subject IDs from filenames\n",
    "    subject_id = [os.path.basename(f).replace('.FDC.nii.gz', '') for f in files_path]\n",
    "\n",
    "    print(\"Check length:\")\n",
    "    print(\"Files: \", len(files_path))\n",
    "    print(\"Subject: \", len(subject_id))\n",
    "\n",
    "    return files_path, subject_id"
   ],
   "id": "e341a71b457ed198",
   "outputs": [],
   "execution_count": 5
  },
  {
   "metadata": {
    "ExecuteTime": {
     "end_time": "2025-05-07T15:28:49.263531Z",
     "start_time": "2025-05-07T15:28:49.260007Z"
    }
   },
   "cell_type": "code",
   "source": "files, sub_id = listData_saveID(dir_FCmaps)",
   "id": "fd8008a4ac215b1e",
   "outputs": [
    {
     "name": "stdout",
     "output_type": "stream",
     "text": [
      "Check length:\n",
      "Files:  177\n",
      "Subject:  177\n"
     ]
    }
   ],
   "execution_count": 6
  },
  {
   "metadata": {
    "ExecuteTime": {
     "end_time": "2025-05-07T15:28:49.290711Z",
     "start_time": "2025-05-07T15:28:49.286382Z"
    }
   },
   "cell_type": "code",
   "source": "files[:5]",
   "id": "a694cf14b7dc1a86",
   "outputs": [
    {
     "data": {
      "text/plain": [
       "['/Users/emmatosato/Documents/PhD/ANM_Verona/data/FCmaps/002_S_4654.FDC.nii.gz',\n",
       " '/Users/emmatosato/Documents/PhD/ANM_Verona/data/FCmaps/002_S_6695.FDC.nii.gz',\n",
       " '/Users/emmatosato/Documents/PhD/ANM_Verona/data/FCmaps/003_S_6264.FDC.nii.gz',\n",
       " '/Users/emmatosato/Documents/PhD/ANM_Verona/data/FCmaps/003_S_6268.FDC.nii.gz',\n",
       " '/Users/emmatosato/Documents/PhD/ANM_Verona/data/FCmaps/003_S_6432.FDC.nii.gz']"
      ]
     },
     "execution_count": 7,
     "metadata": {},
     "output_type": "execute_result"
    }
   ],
   "execution_count": 7
  },
  {
   "metadata": {},
   "cell_type": "markdown",
   "source": "One file example",
   "id": "12408347dff698ea"
  },
  {
   "metadata": {
    "ExecuteTime": {
     "end_time": "2025-05-07T15:28:49.329280Z",
     "start_time": "2025-05-07T15:28:49.312437Z"
    }
   },
   "cell_type": "code",
   "source": [
    "# Load an image\n",
    "path_temp = os.path.join(dir_FCmaps, '1_S_5005.FDC.nii.gz')\n",
    "img = nib.load(path_temp)\n",
    "\n",
    "# --- Separate the data and affine ---\n",
    "temp_img = img.get_fdata()      # 3D volume data\n",
    "temp_affine = img.affine        # 4x4 affine matrix"
   ],
   "id": "f0ebd8fa3587fe0d",
   "outputs": [],
   "execution_count": 8
  },
  {
   "metadata": {
    "ExecuteTime": {
     "end_time": "2025-05-07T15:28:49.339669Z",
     "start_time": "2025-05-07T15:28:49.336608Z"
    }
   },
   "cell_type": "code",
   "source": "temp_img.shape",
   "id": "195c6dd4c22a8c91",
   "outputs": [
    {
     "data": {
      "text/plain": [
       "(91, 109, 91)"
      ]
     },
     "execution_count": 9,
     "metadata": {},
     "output_type": "execute_result"
    }
   ],
   "execution_count": 9
  },
  {
   "metadata": {
    "ExecuteTime": {
     "end_time": "2025-05-07T15:28:49.363804Z",
     "start_time": "2025-05-07T15:28:49.360464Z"
    }
   },
   "cell_type": "code",
   "source": "temp_affine.shape",
   "id": "b7af21b65085d9a4",
   "outputs": [
    {
     "data": {
      "text/plain": [
       "(4, 4)"
      ]
     },
     "execution_count": 10,
     "metadata": {},
     "output_type": "execute_result"
    }
   ],
   "execution_count": 10
  },
  {
   "metadata": {},
   "cell_type": "markdown",
   "source": "## Raw data",
   "id": "698891919317f663"
  },
  {
   "metadata": {},
   "cell_type": "markdown",
   "source": "#### Load data",
   "id": "16f7b76371b4b5b"
  },
  {
   "metadata": {
    "ExecuteTime": {
     "end_time": "2025-05-07T15:29:20.013518Z",
     "start_time": "2025-05-07T15:28:49.385421Z"
    }
   },
   "cell_type": "code",
   "source": [
    "maps_FDC=[]\n",
    "for x in range(len(files)):\n",
    "    print(files[x])\n",
    "    d=nib.load(files[x]).get_fdata().flatten()\n",
    "    maps_FDC.append(d)\n",
    "\n",
    "# Stores subjects as rows and voxels as columns + subjects id\n",
    "df=pd.DataFrame(maps_FDC)"
   ],
   "id": "ca7cf0e10394f52e",
   "outputs": [
    {
     "name": "stdout",
     "output_type": "stream",
     "text": [
      "/Users/emmatosato/Documents/PhD/ANM_Verona/data/FCmaps/002_S_4654.FDC.nii.gz\n",
      "/Users/emmatosato/Documents/PhD/ANM_Verona/data/FCmaps/002_S_6695.FDC.nii.gz\n",
      "/Users/emmatosato/Documents/PhD/ANM_Verona/data/FCmaps/003_S_6264.FDC.nii.gz\n",
      "/Users/emmatosato/Documents/PhD/ANM_Verona/data/FCmaps/003_S_6268.FDC.nii.gz\n",
      "/Users/emmatosato/Documents/PhD/ANM_Verona/data/FCmaps/003_S_6432.FDC.nii.gz\n",
      "/Users/emmatosato/Documents/PhD/ANM_Verona/data/FCmaps/003_S_6479.FDC.nii.gz\n",
      "/Users/emmatosato/Documents/PhD/ANM_Verona/data/FCmaps/003_S_6606.FDC.nii.gz\n",
      "/Users/emmatosato/Documents/PhD/ANM_Verona/data/FCmaps/006_S_6252.FDC.nii.gz\n",
      "/Users/emmatosato/Documents/PhD/ANM_Verona/data/FCmaps/006_S_6682.FDC.nii.gz\n",
      "/Users/emmatosato/Documents/PhD/ANM_Verona/data/FCmaps/007_S_6341.FDC.nii.gz\n",
      "/Users/emmatosato/Documents/PhD/ANM_Verona/data/FCmaps/011_S_4893.FDC.nii.gz\n",
      "/Users/emmatosato/Documents/PhD/ANM_Verona/data/FCmaps/011_S_6303.FDC.nii.gz\n",
      "/Users/emmatosato/Documents/PhD/ANM_Verona/data/FCmaps/012_S_4188.FDC.nii.gz\n",
      "/Users/emmatosato/Documents/PhD/ANM_Verona/data/FCmaps/016_S_4902.FDC.nii.gz\n",
      "/Users/emmatosato/Documents/PhD/ANM_Verona/data/FCmaps/016_S_6708.FDC.nii.gz\n",
      "/Users/emmatosato/Documents/PhD/ANM_Verona/data/FCmaps/016_S_6839.FDC.nii.gz\n",
      "/Users/emmatosato/Documents/PhD/ANM_Verona/data/FCmaps/018_S_2155.FDC.nii.gz\n",
      "/Users/emmatosato/Documents/PhD/ANM_Verona/data/FCmaps/019_S_6483.FDC.nii.gz\n",
      "/Users/emmatosato/Documents/PhD/ANM_Verona/data/FCmaps/019_S_6668.FDC.nii.gz\n",
      "/Users/emmatosato/Documents/PhD/ANM_Verona/data/FCmaps/021_S_0626.FDC.nii.gz\n",
      "/Users/emmatosato/Documents/PhD/ANM_Verona/data/FCmaps/021_S_5237.FDC.nii.gz\n",
      "/Users/emmatosato/Documents/PhD/ANM_Verona/data/FCmaps/021_S_6312.FDC.nii.gz\n",
      "/Users/emmatosato/Documents/PhD/ANM_Verona/data/FCmaps/022_S_6796.FDC.nii.gz\n",
      "/Users/emmatosato/Documents/PhD/ANM_Verona/data/FCmaps/027_S_5277.FDC.nii.gz\n",
      "/Users/emmatosato/Documents/PhD/ANM_Verona/data/FCmaps/027_S_6034.FDC.nii.gz\n",
      "/Users/emmatosato/Documents/PhD/ANM_Verona/data/FCmaps/027_S_6788.FDC.nii.gz\n",
      "/Users/emmatosato/Documents/PhD/ANM_Verona/data/FCmaps/027_S_6965.FDC.nii.gz\n",
      "/Users/emmatosato/Documents/PhD/ANM_Verona/data/FCmaps/032_S_6600.FDC.nii.gz\n",
      "/Users/emmatosato/Documents/PhD/ANM_Verona/data/FCmaps/032_S_6602.FDC.nii.gz\n",
      "/Users/emmatosato/Documents/PhD/ANM_Verona/data/FCmaps/032_S_6700.FDC.nii.gz\n",
      "/Users/emmatosato/Documents/PhD/ANM_Verona/data/FCmaps/035_S_4114.FDC.nii.gz\n",
      "/Users/emmatosato/Documents/PhD/ANM_Verona/data/FCmaps/035_S_6927.FDC.nii.gz\n",
      "/Users/emmatosato/Documents/PhD/ANM_Verona/data/FCmaps/036_S_4430.FDC.nii.gz\n",
      "/Users/emmatosato/Documents/PhD/ANM_Verona/data/FCmaps/036_S_4538.FDC.nii.gz\n",
      "/Users/emmatosato/Documents/PhD/ANM_Verona/data/FCmaps/036_S_4715.FDC.nii.gz\n",
      "/Users/emmatosato/Documents/PhD/ANM_Verona/data/FCmaps/036_S_6134.FDC.nii.gz\n",
      "/Users/emmatosato/Documents/PhD/ANM_Verona/data/FCmaps/037_S_6216.FDC.nii.gz\n",
      "/Users/emmatosato/Documents/PhD/ANM_Verona/data/FCmaps/041_S_4510.FDC.nii.gz\n",
      "/Users/emmatosato/Documents/PhD/ANM_Verona/data/FCmaps/041_S_4974.FDC.nii.gz\n",
      "/Users/emmatosato/Documents/PhD/ANM_Verona/data/FCmaps/053_S_6598.FDC.nii.gz\n",
      "/Users/emmatosato/Documents/PhD/ANM_Verona/data/FCmaps/067_S_6529.FDC.nii.gz\n",
      "/Users/emmatosato/Documents/PhD/ANM_Verona/data/FCmaps/073_S_6673.FDC.nii.gz\n",
      "/Users/emmatosato/Documents/PhD/ANM_Verona/data/FCmaps/098_S_6601.FDC.nii.gz\n",
      "/Users/emmatosato/Documents/PhD/ANM_Verona/data/FCmaps/098_S_6655.FDC.nii.gz\n",
      "/Users/emmatosato/Documents/PhD/ANM_Verona/data/FCmaps/098_S_6658.FDC.nii.gz\n",
      "/Users/emmatosato/Documents/PhD/ANM_Verona/data/FCmaps/099_S_6632.FDC.nii.gz\n",
      "/Users/emmatosato/Documents/PhD/ANM_Verona/data/FCmaps/099_S_6691.FDC.nii.gz\n",
      "/Users/emmatosato/Documents/PhD/ANM_Verona/data/FCmaps/114_S_6039.FDC.nii.gz\n",
      "/Users/emmatosato/Documents/PhD/ANM_Verona/data/FCmaps/116_S_6775.FDC.nii.gz\n",
      "/Users/emmatosato/Documents/PhD/ANM_Verona/data/FCmaps/123_S_6825.FDC.nii.gz\n",
      "/Users/emmatosato/Documents/PhD/ANM_Verona/data/FCmaps/123_S_6884.FDC.nii.gz\n",
      "/Users/emmatosato/Documents/PhD/ANM_Verona/data/FCmaps/126_S_4507.FDC.nii.gz\n",
      "/Users/emmatosato/Documents/PhD/ANM_Verona/data/FCmaps/126_S_4891.FDC.nii.gz\n",
      "/Users/emmatosato/Documents/PhD/ANM_Verona/data/FCmaps/126_S_6683.FDC.nii.gz\n",
      "/Users/emmatosato/Documents/PhD/ANM_Verona/data/FCmaps/127_S_6433.FDC.nii.gz\n",
      "/Users/emmatosato/Documents/PhD/ANM_Verona/data/FCmaps/127_S_6549.FDC.nii.gz\n",
      "/Users/emmatosato/Documents/PhD/ANM_Verona/data/FCmaps/130_S_2373.FDC.nii.gz\n",
      "/Users/emmatosato/Documents/PhD/ANM_Verona/data/FCmaps/130_S_4294.FDC.nii.gz\n",
      "/Users/emmatosato/Documents/PhD/ANM_Verona/data/FCmaps/130_S_4415.FDC.nii.gz\n",
      "/Users/emmatosato/Documents/PhD/ANM_Verona/data/FCmaps/130_S_6072.FDC.nii.gz\n",
      "/Users/emmatosato/Documents/PhD/ANM_Verona/data/FCmaps/131_S_7032.FDC.nii.gz\n",
      "/Users/emmatosato/Documents/PhD/ANM_Verona/data/FCmaps/135_S_6545.FDC.nii.gz\n",
      "/Users/emmatosato/Documents/PhD/ANM_Verona/data/FCmaps/137_S_4862.FDC.nii.gz\n",
      "/Users/emmatosato/Documents/PhD/ANM_Verona/data/FCmaps/141_S_2333.FDC.nii.gz\n",
      "/Users/emmatosato/Documents/PhD/ANM_Verona/data/FCmaps/168_S_6142.FDC.nii.gz\n",
      "/Users/emmatosato/Documents/PhD/ANM_Verona/data/FCmaps/168_S_6426.FDC.nii.gz\n",
      "/Users/emmatosato/Documents/PhD/ANM_Verona/data/FCmaps/168_S_6467.FDC.nii.gz\n",
      "/Users/emmatosato/Documents/PhD/ANM_Verona/data/FCmaps/168_S_6843.FDC.nii.gz\n",
      "/Users/emmatosato/Documents/PhD/ANM_Verona/data/FCmaps/1_S_5000.FDC.nii.gz\n",
      "/Users/emmatosato/Documents/PhD/ANM_Verona/data/FCmaps/1_S_5001.FDC.nii.gz\n",
      "/Users/emmatosato/Documents/PhD/ANM_Verona/data/FCmaps/1_S_5003.FDC.nii.gz\n",
      "/Users/emmatosato/Documents/PhD/ANM_Verona/data/FCmaps/1_S_5004.FDC.nii.gz\n",
      "/Users/emmatosato/Documents/PhD/ANM_Verona/data/FCmaps/1_S_5005.FDC.nii.gz\n",
      "/Users/emmatosato/Documents/PhD/ANM_Verona/data/FCmaps/1_S_5006.FDC.nii.gz\n",
      "/Users/emmatosato/Documents/PhD/ANM_Verona/data/FCmaps/1_S_5007.FDC.nii.gz\n",
      "/Users/emmatosato/Documents/PhD/ANM_Verona/data/FCmaps/1_S_5008.FDC.nii.gz\n",
      "/Users/emmatosato/Documents/PhD/ANM_Verona/data/FCmaps/1_S_5009.FDC.nii.gz\n",
      "/Users/emmatosato/Documents/PhD/ANM_Verona/data/FCmaps/1_S_5010.FDC.nii.gz\n",
      "/Users/emmatosato/Documents/PhD/ANM_Verona/data/FCmaps/1_S_5011.FDC.nii.gz\n",
      "/Users/emmatosato/Documents/PhD/ANM_Verona/data/FCmaps/1_S_5013.FDC.nii.gz\n",
      "/Users/emmatosato/Documents/PhD/ANM_Verona/data/FCmaps/1_S_5016.FDC.nii.gz\n",
      "/Users/emmatosato/Documents/PhD/ANM_Verona/data/FCmaps/1_S_5017.FDC.nii.gz\n",
      "/Users/emmatosato/Documents/PhD/ANM_Verona/data/FCmaps/1_S_5018.FDC.nii.gz\n",
      "/Users/emmatosato/Documents/PhD/ANM_Verona/data/FCmaps/1_S_5019.FDC.nii.gz\n",
      "/Users/emmatosato/Documents/PhD/ANM_Verona/data/FCmaps/1_S_5021.FDC.nii.gz\n",
      "/Users/emmatosato/Documents/PhD/ANM_Verona/data/FCmaps/1_S_5022.FDC.nii.gz\n",
      "/Users/emmatosato/Documents/PhD/ANM_Verona/data/FCmaps/1_S_5023.FDC.nii.gz\n",
      "/Users/emmatosato/Documents/PhD/ANM_Verona/data/FCmaps/1_S_5024.FDC.nii.gz\n",
      "/Users/emmatosato/Documents/PhD/ANM_Verona/data/FCmaps/1_S_5026.FDC.nii.gz\n",
      "/Users/emmatosato/Documents/PhD/ANM_Verona/data/FCmaps/1_S_5027.FDC.nii.gz\n",
      "/Users/emmatosato/Documents/PhD/ANM_Verona/data/FCmaps/1_S_5028.FDC.nii.gz\n",
      "/Users/emmatosato/Documents/PhD/ANM_Verona/data/FCmaps/1_S_5029.FDC.nii.gz\n",
      "/Users/emmatosato/Documents/PhD/ANM_Verona/data/FCmaps/1_S_5030.FDC.nii.gz\n",
      "/Users/emmatosato/Documents/PhD/ANM_Verona/data/FCmaps/1_S_5031.FDC.nii.gz\n",
      "/Users/emmatosato/Documents/PhD/ANM_Verona/data/FCmaps/1_S_5032.FDC.nii.gz\n",
      "/Users/emmatosato/Documents/PhD/ANM_Verona/data/FCmaps/1_S_5033.FDC.nii.gz\n",
      "/Users/emmatosato/Documents/PhD/ANM_Verona/data/FCmaps/1_S_5034.FDC.nii.gz\n",
      "/Users/emmatosato/Documents/PhD/ANM_Verona/data/FCmaps/1_S_5036.FDC.nii.gz\n",
      "/Users/emmatosato/Documents/PhD/ANM_Verona/data/FCmaps/1_S_5037.FDC.nii.gz\n",
      "/Users/emmatosato/Documents/PhD/ANM_Verona/data/FCmaps/1_S_5038.FDC.nii.gz\n",
      "/Users/emmatosato/Documents/PhD/ANM_Verona/data/FCmaps/1_S_5039.FDC.nii.gz\n",
      "/Users/emmatosato/Documents/PhD/ANM_Verona/data/FCmaps/1_S_5040.FDC.nii.gz\n",
      "/Users/emmatosato/Documents/PhD/ANM_Verona/data/FCmaps/1_S_5041.FDC.nii.gz\n",
      "/Users/emmatosato/Documents/PhD/ANM_Verona/data/FCmaps/1_S_5042.FDC.nii.gz\n",
      "/Users/emmatosato/Documents/PhD/ANM_Verona/data/FCmaps/1_S_5043.FDC.nii.gz\n",
      "/Users/emmatosato/Documents/PhD/ANM_Verona/data/FCmaps/1_S_5044.FDC.nii.gz\n",
      "/Users/emmatosato/Documents/PhD/ANM_Verona/data/FCmaps/1_S_5045.FDC.nii.gz\n",
      "/Users/emmatosato/Documents/PhD/ANM_Verona/data/FCmaps/1_S_5046.FDC.nii.gz\n",
      "/Users/emmatosato/Documents/PhD/ANM_Verona/data/FCmaps/1_S_5047.FDC.nii.gz\n",
      "/Users/emmatosato/Documents/PhD/ANM_Verona/data/FCmaps/1_S_5048.FDC.nii.gz\n",
      "/Users/emmatosato/Documents/PhD/ANM_Verona/data/FCmaps/1_S_5049.FDC.nii.gz\n",
      "/Users/emmatosato/Documents/PhD/ANM_Verona/data/FCmaps/1_S_5050.FDC.nii.gz\n",
      "/Users/emmatosato/Documents/PhD/ANM_Verona/data/FCmaps/1_S_5051.FDC.nii.gz\n",
      "/Users/emmatosato/Documents/PhD/ANM_Verona/data/FCmaps/1_S_5052.FDC.nii.gz\n",
      "/Users/emmatosato/Documents/PhD/ANM_Verona/data/FCmaps/1_S_5053.FDC.nii.gz\n",
      "/Users/emmatosato/Documents/PhD/ANM_Verona/data/FCmaps/1_S_5054.FDC.nii.gz\n",
      "/Users/emmatosato/Documents/PhD/ANM_Verona/data/FCmaps/1_S_5055.FDC.nii.gz\n",
      "/Users/emmatosato/Documents/PhD/ANM_Verona/data/FCmaps/1_S_5056.FDC.nii.gz\n",
      "/Users/emmatosato/Documents/PhD/ANM_Verona/data/FCmaps/1_S_5057.FDC.nii.gz\n",
      "/Users/emmatosato/Documents/PhD/ANM_Verona/data/FCmaps/1_S_5058.FDC.nii.gz\n",
      "/Users/emmatosato/Documents/PhD/ANM_Verona/data/FCmaps/1_S_5059.FDC.nii.gz\n",
      "/Users/emmatosato/Documents/PhD/ANM_Verona/data/FCmaps/1_S_5060.FDC.nii.gz\n",
      "/Users/emmatosato/Documents/PhD/ANM_Verona/data/FCmaps/1_S_5061.FDC.nii.gz\n",
      "/Users/emmatosato/Documents/PhD/ANM_Verona/data/FCmaps/1_S_5062.FDC.nii.gz\n",
      "/Users/emmatosato/Documents/PhD/ANM_Verona/data/FCmaps/1_S_5064.FDC.nii.gz\n",
      "/Users/emmatosato/Documents/PhD/ANM_Verona/data/FCmaps/1_S_5065.FDC.nii.gz\n",
      "/Users/emmatosato/Documents/PhD/ANM_Verona/data/FCmaps/1_S_5067.FDC.nii.gz\n",
      "/Users/emmatosato/Documents/PhD/ANM_Verona/data/FCmaps/1_S_5068.FDC.nii.gz\n",
      "/Users/emmatosato/Documents/PhD/ANM_Verona/data/FCmaps/1_S_5070.FDC.nii.gz\n",
      "/Users/emmatosato/Documents/PhD/ANM_Verona/data/FCmaps/1_S_5072.FDC.nii.gz\n",
      "/Users/emmatosato/Documents/PhD/ANM_Verona/data/FCmaps/1_S_5073.FDC.nii.gz\n",
      "/Users/emmatosato/Documents/PhD/ANM_Verona/data/FCmaps/1_S_5074.FDC.nii.gz\n",
      "/Users/emmatosato/Documents/PhD/ANM_Verona/data/FCmaps/1_S_5075.FDC.nii.gz\n",
      "/Users/emmatosato/Documents/PhD/ANM_Verona/data/FCmaps/1_S_5076.FDC.nii.gz\n",
      "/Users/emmatosato/Documents/PhD/ANM_Verona/data/FCmaps/1_S_5077.FDC.nii.gz\n",
      "/Users/emmatosato/Documents/PhD/ANM_Verona/data/FCmaps/1_S_5078.FDC.nii.gz\n",
      "/Users/emmatosato/Documents/PhD/ANM_Verona/data/FCmaps/1_S_5079.FDC.nii.gz\n",
      "/Users/emmatosato/Documents/PhD/ANM_Verona/data/FCmaps/1_S_5080.FDC.nii.gz\n",
      "/Users/emmatosato/Documents/PhD/ANM_Verona/data/FCmaps/1_S_5083.FDC.nii.gz\n",
      "/Users/emmatosato/Documents/PhD/ANM_Verona/data/FCmaps/1_S_5085.FDC.nii.gz\n",
      "/Users/emmatosato/Documents/PhD/ANM_Verona/data/FCmaps/1_S_5089.FDC.nii.gz\n",
      "/Users/emmatosato/Documents/PhD/ANM_Verona/data/FCmaps/1_S_5091.FDC.nii.gz\n",
      "/Users/emmatosato/Documents/PhD/ANM_Verona/data/FCmaps/1_S_5092.FDC.nii.gz\n",
      "/Users/emmatosato/Documents/PhD/ANM_Verona/data/FCmaps/1_S_5093.FDC.nii.gz\n",
      "/Users/emmatosato/Documents/PhD/ANM_Verona/data/FCmaps/1_S_5094.FDC.nii.gz\n",
      "/Users/emmatosato/Documents/PhD/ANM_Verona/data/FCmaps/1_S_5095.FDC.nii.gz\n",
      "/Users/emmatosato/Documents/PhD/ANM_Verona/data/FCmaps/1_S_5096.FDC.nii.gz\n",
      "/Users/emmatosato/Documents/PhD/ANM_Verona/data/FCmaps/1_S_5097.FDC.nii.gz\n",
      "/Users/emmatosato/Documents/PhD/ANM_Verona/data/FCmaps/1_S_5098.FDC.nii.gz\n",
      "/Users/emmatosato/Documents/PhD/ANM_Verona/data/FCmaps/1_S_5101.FDC.nii.gz\n",
      "/Users/emmatosato/Documents/PhD/ANM_Verona/data/FCmaps/301_S_6777.FDC.nii.gz\n",
      "/Users/emmatosato/Documents/PhD/ANM_Verona/data/FCmaps/305_S_6498.FDC.nii.gz\n",
      "/Users/emmatosato/Documents/PhD/ANM_Verona/data/FCmaps/305_S_6810.FDC.nii.gz\n",
      "/Users/emmatosato/Documents/PhD/ANM_Verona/data/FCmaps/3_S_5000.FDC.nii.gz\n",
      "/Users/emmatosato/Documents/PhD/ANM_Verona/data/FCmaps/3_S_5001.FDC.nii.gz\n",
      "/Users/emmatosato/Documents/PhD/ANM_Verona/data/FCmaps/3_S_5002.FDC.nii.gz\n",
      "/Users/emmatosato/Documents/PhD/ANM_Verona/data/FCmaps/3_S_5003.FDC.nii.gz\n",
      "/Users/emmatosato/Documents/PhD/ANM_Verona/data/FCmaps/4_S_5000.FDC.nii.gz\n",
      "/Users/emmatosato/Documents/PhD/ANM_Verona/data/FCmaps/4_S_5001.FDC.nii.gz\n",
      "/Users/emmatosato/Documents/PhD/ANM_Verona/data/FCmaps/4_S_5002.FDC.nii.gz\n",
      "/Users/emmatosato/Documents/PhD/ANM_Verona/data/FCmaps/4_S_5003.FDC.nii.gz\n",
      "/Users/emmatosato/Documents/PhD/ANM_Verona/data/FCmaps/4_S_5004.FDC.nii.gz\n",
      "/Users/emmatosato/Documents/PhD/ANM_Verona/data/FCmaps/4_S_5005.FDC.nii.gz\n",
      "/Users/emmatosato/Documents/PhD/ANM_Verona/data/FCmaps/4_S_5006.FDC.nii.gz\n",
      "/Users/emmatosato/Documents/PhD/ANM_Verona/data/FCmaps/4_S_5007.FDC.nii.gz\n",
      "/Users/emmatosato/Documents/PhD/ANM_Verona/data/FCmaps/4_S_5008.FDC.nii.gz\n",
      "/Users/emmatosato/Documents/PhD/ANM_Verona/data/FCmaps/4_S_5009.FDC.nii.gz\n",
      "/Users/emmatosato/Documents/PhD/ANM_Verona/data/FCmaps/4_S_5010.FDC.nii.gz\n",
      "/Users/emmatosato/Documents/PhD/ANM_Verona/data/FCmaps/5_S_5001.FDC.nii.gz\n",
      "/Users/emmatosato/Documents/PhD/ANM_Verona/data/FCmaps/5_S_5002.FDC.nii.gz\n",
      "/Users/emmatosato/Documents/PhD/ANM_Verona/data/FCmaps/5_S_5003.FDC.nii.gz\n",
      "/Users/emmatosato/Documents/PhD/ANM_Verona/data/FCmaps/5_S_5004.FDC.nii.gz\n",
      "/Users/emmatosato/Documents/PhD/ANM_Verona/data/FCmaps/5_S_5006.FDC.nii.gz\n",
      "/Users/emmatosato/Documents/PhD/ANM_Verona/data/FCmaps/5_S_5007.FDC.nii.gz\n",
      "/Users/emmatosato/Documents/PhD/ANM_Verona/data/FCmaps/5_S_5008.FDC.nii.gz\n",
      "/Users/emmatosato/Documents/PhD/ANM_Verona/data/FCmaps/5_S_5009.FDC.nii.gz\n",
      "/Users/emmatosato/Documents/PhD/ANM_Verona/data/FCmaps/941_S_6345.FDC.nii.gz\n"
     ]
    }
   ],
   "execution_count": 11
  },
  {
   "metadata": {},
   "cell_type": "markdown",
   "source": "#### EDA",
   "id": "4cd80b9b8e3e626b"
  },
  {
   "metadata": {
    "ExecuteTime": {
     "end_time": "2025-05-07T15:29:20.112643Z",
     "start_time": "2025-05-07T15:29:20.110485Z"
    }
   },
   "cell_type": "code",
   "source": "print(f\"Shape of the dataframe: {df.shape}\")",
   "id": "b1ced203b9a63bba",
   "outputs": [
    {
     "name": "stdout",
     "output_type": "stream",
     "text": [
      "Shape of the dataframe: (177, 902629)\n"
     ]
    }
   ],
   "execution_count": 12
  },
  {
   "metadata": {
    "ExecuteTime": {
     "end_time": "2025-05-07T15:29:26.254385Z",
     "start_time": "2025-05-07T15:29:20.207483Z"
    }
   },
   "cell_type": "code",
   "source": [
    "# --- Global Statistics ---\n",
    "all_voxels = df.values.flatten()\n",
    "all_voxels = all_voxels[~np.isnan(all_voxels)]\n",
    "\n",
    "# --- Descriptive statistics ---\n",
    "stats_summary = {\n",
    "    \"Min\": np.min(all_voxels),\n",
    "    \"Max\": np.max(all_voxels),\n",
    "    \"Mean\": np.mean(all_voxels),\n",
    "    \"Std\": np.std(all_voxels),\n",
    "    \"1st Percentile\": np.percentile(all_voxels, 1),\n",
    "    \"25th Percentile\": np.percentile(all_voxels, 25),\n",
    "    \"Median (50th)\": np.percentile(all_voxels, 50),\n",
    "    \"75th Percentile\": np.percentile(all_voxels, 75),\n",
    "    \"99th Percentile\": np.percentile(all_voxels, 99),\n",
    "}\n",
    "\n",
    "df_stats = pd.DataFrame.from_dict(stats_summary, orient='index', columns=['Value'])\n",
    "print(df_stats)"
   ],
   "id": "262a7e4c78402393",
   "outputs": [
    {
     "name": "stdout",
     "output_type": "stream",
     "text": [
      "                    Value\n",
      "Min             -0.549580\n",
      "Max              1.618776\n",
      "Mean             0.021865\n",
      "Std              0.056470\n",
      "1st Percentile  -0.013114\n",
      "25th Percentile  0.000000\n",
      "Median (50th)    0.000000\n",
      "75th Percentile  0.008684\n",
      "99th Percentile  0.267919\n"
     ]
    }
   ],
   "execution_count": 13
  },
  {
   "metadata": {},
   "cell_type": "markdown",
   "source": "## Metadata",
   "id": "7b966529c376770e"
  },
  {
   "metadata": {},
   "cell_type": "markdown",
   "source": [
    "Dataset containing:\n",
    "- ID of the subject\n",
    "- The diagnosis (Group)\n",
    "- Sex\n",
    "- Age\n",
    "- Education\n",
    "\n",
    "The regressors:\n",
    "- CDR_SB: disease gravity with a larger range\n",
    "- CDR: same but smaller range"
   ],
   "id": "5059a630e74506b7"
  },
  {
   "metadata": {
    "ExecuteTime": {
     "end_time": "2025-05-07T15:29:26.521475Z",
     "start_time": "2025-05-07T15:29:26.345866Z"
    }
   },
   "cell_type": "code",
   "source": [
    "# Load the metadata and align to FC map order\n",
    "df_meta = pd.read_excel(atrophy_dataset_matches, sheet_name='dataset')\n",
    "df_meta['Age'] = df_meta['Age'].round(1)"
   ],
   "id": "a2cdb94ee2c6ab0d",
   "outputs": [],
   "execution_count": 14
  },
  {
   "metadata": {
    "ExecuteTime": {
     "end_time": "2025-05-07T15:29:26.625523Z",
     "start_time": "2025-05-07T15:29:26.618769Z"
    }
   },
   "cell_type": "code",
   "source": "df_meta.head(5)",
   "id": "4c8d2675a9fbfe",
   "outputs": [
    {
     "data": {
      "text/plain": [
       "         ID Group Sex   Age  Education  CDR_SB  CDR\n",
       "0  1_S_5000   CBS   M  70.0         16     5.0  1.0\n",
       "1  1_S_5001   CBS   F  65.0         16    15.0  3.0\n",
       "2  1_S_5003   PSP   F  86.0         18     1.0  0.5\n",
       "3  1_S_5004   PSP   F  67.0         14     1.5  0.5\n",
       "4  1_S_5005   PSP   F  67.0         20     0.0  0.0"
      ],
      "text/html": [
       "<div>\n",
       "<style scoped>\n",
       "    .dataframe tbody tr th:only-of-type {\n",
       "        vertical-align: middle;\n",
       "    }\n",
       "\n",
       "    .dataframe tbody tr th {\n",
       "        vertical-align: top;\n",
       "    }\n",
       "\n",
       "    .dataframe thead th {\n",
       "        text-align: right;\n",
       "    }\n",
       "</style>\n",
       "<table border=\"1\" class=\"dataframe\">\n",
       "  <thead>\n",
       "    <tr style=\"text-align: right;\">\n",
       "      <th></th>\n",
       "      <th>ID</th>\n",
       "      <th>Group</th>\n",
       "      <th>Sex</th>\n",
       "      <th>Age</th>\n",
       "      <th>Education</th>\n",
       "      <th>CDR_SB</th>\n",
       "      <th>CDR</th>\n",
       "    </tr>\n",
       "  </thead>\n",
       "  <tbody>\n",
       "    <tr>\n",
       "      <th>0</th>\n",
       "      <td>1_S_5000</td>\n",
       "      <td>CBS</td>\n",
       "      <td>M</td>\n",
       "      <td>70.0</td>\n",
       "      <td>16</td>\n",
       "      <td>5.0</td>\n",
       "      <td>1.0</td>\n",
       "    </tr>\n",
       "    <tr>\n",
       "      <th>1</th>\n",
       "      <td>1_S_5001</td>\n",
       "      <td>CBS</td>\n",
       "      <td>F</td>\n",
       "      <td>65.0</td>\n",
       "      <td>16</td>\n",
       "      <td>15.0</td>\n",
       "      <td>3.0</td>\n",
       "    </tr>\n",
       "    <tr>\n",
       "      <th>2</th>\n",
       "      <td>1_S_5003</td>\n",
       "      <td>PSP</td>\n",
       "      <td>F</td>\n",
       "      <td>86.0</td>\n",
       "      <td>18</td>\n",
       "      <td>1.0</td>\n",
       "      <td>0.5</td>\n",
       "    </tr>\n",
       "    <tr>\n",
       "      <th>3</th>\n",
       "      <td>1_S_5004</td>\n",
       "      <td>PSP</td>\n",
       "      <td>F</td>\n",
       "      <td>67.0</td>\n",
       "      <td>14</td>\n",
       "      <td>1.5</td>\n",
       "      <td>0.5</td>\n",
       "    </tr>\n",
       "    <tr>\n",
       "      <th>4</th>\n",
       "      <td>1_S_5005</td>\n",
       "      <td>PSP</td>\n",
       "      <td>F</td>\n",
       "      <td>67.0</td>\n",
       "      <td>20</td>\n",
       "      <td>0.0</td>\n",
       "      <td>0.0</td>\n",
       "    </tr>\n",
       "  </tbody>\n",
       "</table>\n",
       "</div>"
      ]
     },
     "execution_count": 15,
     "metadata": {},
     "output_type": "execute_result"
    }
   ],
   "execution_count": 15
  },
  {
   "metadata": {},
   "cell_type": "markdown",
   "source": "#### EDA on Labels",
   "id": "75bbb8130260c742"
  },
  {
   "metadata": {
    "ExecuteTime": {
     "end_time": "2025-05-07T15:29:26.744488Z",
     "start_time": "2025-05-07T15:29:26.742368Z"
    }
   },
   "cell_type": "code",
   "source": [
    "print(\"CONTROLS\")\n",
    "print(\"Excel: \",df_meta.shape)"
   ],
   "id": "5c40ae7174a7c67d",
   "outputs": [
    {
     "name": "stdout",
     "output_type": "stream",
     "text": [
      "CONTROLS\n",
      "Excel:  (177, 7)\n"
     ]
    }
   ],
   "execution_count": 16
  },
  {
   "metadata": {
    "ExecuteTime": {
     "end_time": "2025-05-07T15:29:26.791391Z",
     "start_time": "2025-05-07T15:29:26.782824Z"
    }
   },
   "cell_type": "code",
   "source": [
    "# General info\n",
    "print(df_meta.info())"
   ],
   "id": "20f443d79d342986",
   "outputs": [
    {
     "name": "stdout",
     "output_type": "stream",
     "text": [
      "<class 'pandas.core.frame.DataFrame'>\n",
      "RangeIndex: 177 entries, 0 to 176\n",
      "Data columns (total 7 columns):\n",
      " #   Column     Non-Null Count  Dtype  \n",
      "---  ------     --------------  -----  \n",
      " 0   ID         177 non-null    object \n",
      " 1   Group      177 non-null    object \n",
      " 2   Sex        177 non-null    object \n",
      " 3   Age        177 non-null    float64\n",
      " 4   Education  177 non-null    int64  \n",
      " 5   CDR_SB     172 non-null    float64\n",
      " 6   CDR        172 non-null    float64\n",
      "dtypes: float64(3), int64(1), object(3)\n",
      "memory usage: 9.8+ KB\n",
      "None\n"
     ]
    }
   ],
   "execution_count": 17
  },
  {
   "metadata": {
    "ExecuteTime": {
     "end_time": "2025-05-07T15:29:26.882876Z",
     "start_time": "2025-05-07T15:29:26.876902Z"
    }
   },
   "cell_type": "code",
   "source": [
    "# Missing values\n",
    "print(\"\\nMissing values for column:\")\n",
    "print(df_meta.isna().sum())"
   ],
   "id": "2b06daec429d0f9",
   "outputs": [
    {
     "name": "stdout",
     "output_type": "stream",
     "text": [
      "\n",
      "Missing values for column:\n",
      "ID           0\n",
      "Group        0\n",
      "Sex          0\n",
      "Age          0\n",
      "Education    0\n",
      "CDR_SB       5\n",
      "CDR          5\n",
      "dtype: int64\n"
     ]
    }
   ],
   "execution_count": 18
  },
  {
   "metadata": {},
   "cell_type": "markdown",
   "source": "Unique values WITH NaN",
   "id": "7427ff4e2707246b"
  },
  {
   "metadata": {
    "ExecuteTime": {
     "end_time": "2025-05-07T15:29:27.009656Z",
     "start_time": "2025-05-07T15:29:27.003176Z"
    }
   },
   "cell_type": "code",
   "source": [
    "print(\"\\nUnique Values:\")\n",
    "print(\"Group:\", sorted(df_meta['Group'].unique()))\n",
    "print(\"CDR:\", np.sort(df_meta['CDR'].unique()))\n",
    "print(\"CDR_SB:\", np.sort(df_meta['CDR_SB'].unique()))"
   ],
   "id": "6172d29bfd3fdc71",
   "outputs": [
    {
     "name": "stdout",
     "output_type": "stream",
     "text": [
      "\n",
      "Unique Values:\n",
      "Group: ['ADNI', 'CBS', 'PSP']\n",
      "CDR: [0.  0.5 1.  2.  3.  nan]\n",
      "CDR_SB: [ 0.   0.5  1.   1.5  2.   2.5  3.   3.5  4.   4.5  5.   5.5  6.   6.5\n",
      "  7.   7.5  8.   9.   9.5 10.  11.  12.  13.5 14.  15.  16.  18.   nan]\n"
     ]
    }
   ],
   "execution_count": 19
  },
  {
   "metadata": {},
   "cell_type": "markdown",
   "source": "Unique values WITHOUT NaN",
   "id": "10ad5526b634568d"
  },
  {
   "metadata": {
    "ExecuteTime": {
     "end_time": "2025-05-07T15:29:27.114384Z",
     "start_time": "2025-05-07T15:29:27.111963Z"
    }
   },
   "cell_type": "code",
   "source": [
    "cdr_no_nan = df_meta['CDR'].dropna()\n",
    "cdr_sb_no_nan = df_meta['CDR_SB'].dropna()"
   ],
   "id": "3a84fc9a62471f2b",
   "outputs": [],
   "execution_count": 20
  },
  {
   "metadata": {
    "ExecuteTime": {
     "end_time": "2025-05-07T15:29:27.224903Z",
     "start_time": "2025-05-07T15:29:27.221443Z"
    }
   },
   "cell_type": "code",
   "source": [
    "print(\"\\nUnique Values:\")\n",
    "print(\"CDR:\", np.sort(cdr_no_nan.unique()))\n",
    "print(\"CDR_SB:\", np.sort(cdr_sb_no_nan.unique()))"
   ],
   "id": "b62dcaa34c3e9714",
   "outputs": [
    {
     "name": "stdout",
     "output_type": "stream",
     "text": [
      "\n",
      "Unique Values:\n",
      "CDR: [0.  0.5 1.  2.  3. ]\n",
      "CDR_SB: [ 0.   0.5  1.   1.5  2.   2.5  3.   3.5  4.   4.5  5.   5.5  6.   6.5\n",
      "  7.   7.5  8.   9.   9.5 10.  11.  12.  13.5 14.  15.  16.  18. ]\n"
     ]
    }
   ],
   "execution_count": 21
  },
  {
   "metadata": {
    "ExecuteTime": {
     "end_time": "2025-05-07T15:29:27.335051Z",
     "start_time": "2025-05-07T15:29:27.326747Z"
    }
   },
   "cell_type": "code",
   "source": "print(df_meta.select_dtypes(include='number').describe().round(1))",
   "id": "23b0bdcd397cc90d",
   "outputs": [
    {
     "name": "stdout",
     "output_type": "stream",
     "text": [
      "         Age  Education  CDR_SB    CDR\n",
      "count  177.0      177.0   172.0  172.0\n",
      "mean    70.9       15.9     4.1    0.8\n",
      "std      8.3        3.5     3.5    0.6\n",
      "min     53.0        2.0     0.0    0.0\n",
      "25%     64.0       14.0     1.5    0.5\n",
      "50%     71.2       16.0     3.5    0.5\n",
      "75%     76.0       18.0     6.0    1.0\n",
      "max     93.8       27.0    18.0    3.0\n"
     ]
    }
   ],
   "execution_count": 22
  },
  {
   "metadata": {
    "ExecuteTime": {
     "end_time": "2025-05-07T15:29:27.602116Z",
     "start_time": "2025-05-07T15:29:27.430552Z"
    }
   },
   "cell_type": "code",
   "source": [
    "fig, axes = plt.subplots(1, 2, figsize=(12, 4))\n",
    "\n",
    "sns.histplot(cdr_no_nan, bins=10, ax=axes[0], color='#61bdcd', edgecolor='black', alpha=0.85)\n",
    "axes[0].set_title(\"CDR Distribution\", fontsize=14, weight='bold')\n",
    "\n",
    "sns.histplot(cdr_sb_no_nan, bins=20, ax=axes[1], color='#61bdcd', edgecolor='black', alpha=0.85, kde=True)\n",
    "axes[1].set_title(\"CDR_SB Distribution\", fontsize=14, weight='bold')\n",
    "\n",
    "plt.tight_layout()\n",
    "plt.show()"
   ],
   "id": "78e1b5a0c3c187c4",
   "outputs": [
    {
     "data": {
      "text/plain": [
       "<Figure size 1200x400 with 2 Axes>"
      ],
      "image/png": "[encoded data removed]"
     },
     "metadata": {},
     "output_type": "display_data"
    }
   ],
   "execution_count": 23
  },
  {
   "metadata": {},
   "cell_type": "markdown",
   "source": "# UMAP",
   "id": "615a9598c6cde30a"
  },
  {
   "metadata": {},
   "cell_type": "markdown",
   "source": "## Data",
   "id": "10edbefeb5b19e51"
  },
  {
   "metadata": {},
   "cell_type": "markdown",
   "source": "### Load data",
   "id": "b07e011ae14fd1e4"
  },
  {
   "metadata": {},
   "cell_type": "markdown",
   "source": [
    "\n",
    "\n",
    "Store each subject’s data in the dataframe of flatten data created before"
   ],
   "id": "20eda22f9870a6a5"
  },
  {
   "metadata": {
    "ExecuteTime": {
     "end_time": "2025-05-07T15:29:27.749699Z",
     "start_time": "2025-05-07T15:29:27.709772Z"
    }
   },
   "cell_type": "code",
   "source": [
    "# Insert subjects id\n",
    "df.insert(0, 'ID', sub_id)"
   ],
   "id": "361ac4401554a8a2",
   "outputs": [],
   "execution_count": 24
  },
  {
   "metadata": {
    "ExecuteTime": {
     "end_time": "2025-05-07T15:29:27.865250Z",
     "start_time": "2025-05-07T15:29:27.857524Z"
    }
   },
   "cell_type": "code",
   "source": [
    "print(\"\\n\", df.shape, \"\\n\")\n",
    "df.iloc[:5, :5]"
   ],
   "id": "ae2fed907301bf90",
   "outputs": [
    {
     "name": "stdout",
     "output_type": "stream",
     "text": [
      "\n",
      " (177, 902630) \n",
      "\n"
     ]
    },
    {
     "data": {
      "text/plain": [
       "           ID    0    1    2    3\n",
       "0  002_S_4654  0.0  0.0  0.0  0.0\n",
       "1  002_S_6695  0.0  0.0  0.0  0.0\n",
       "2  003_S_6264  0.0  0.0  0.0  0.0\n",
       "3  003_S_6268  0.0  0.0  0.0  0.0\n",
       "4  003_S_6432  0.0  0.0  0.0  0.0"
      ],
      "text/html": [
       "<div>\n",
       "<style scoped>\n",
       "    .dataframe tbody tr th:only-of-type {\n",
       "        vertical-align: middle;\n",
       "    }\n",
       "\n",
       "    .dataframe tbody tr th {\n",
       "        vertical-align: top;\n",
       "    }\n",
       "\n",
       "    .dataframe thead th {\n",
       "        text-align: right;\n",
       "    }\n",
       "</style>\n",
       "<table border=\"1\" class=\"dataframe\">\n",
       "  <thead>\n",
       "    <tr style=\"text-align: right;\">\n",
       "      <th></th>\n",
       "      <th>ID</th>\n",
       "      <th>0</th>\n",
       "      <th>1</th>\n",
       "      <th>2</th>\n",
       "      <th>3</th>\n",
       "    </tr>\n",
       "  </thead>\n",
       "  <tbody>\n",
       "    <tr>\n",
       "      <th>0</th>\n",
       "      <td>002_S_4654</td>\n",
       "      <td>0.0</td>\n",
       "      <td>0.0</td>\n",
       "      <td>0.0</td>\n",
       "      <td>0.0</td>\n",
       "    </tr>\n",
       "    <tr>\n",
       "      <th>1</th>\n",
       "      <td>002_S_6695</td>\n",
       "      <td>0.0</td>\n",
       "      <td>0.0</td>\n",
       "      <td>0.0</td>\n",
       "      <td>0.0</td>\n",
       "    </tr>\n",
       "    <tr>\n",
       "      <th>2</th>\n",
       "      <td>003_S_6264</td>\n",
       "      <td>0.0</td>\n",
       "      <td>0.0</td>\n",
       "      <td>0.0</td>\n",
       "      <td>0.0</td>\n",
       "    </tr>\n",
       "    <tr>\n",
       "      <th>3</th>\n",
       "      <td>003_S_6268</td>\n",
       "      <td>0.0</td>\n",
       "      <td>0.0</td>\n",
       "      <td>0.0</td>\n",
       "      <td>0.0</td>\n",
       "    </tr>\n",
       "    <tr>\n",
       "      <th>4</th>\n",
       "      <td>003_S_6432</td>\n",
       "      <td>0.0</td>\n",
       "      <td>0.0</td>\n",
       "      <td>0.0</td>\n",
       "      <td>0.0</td>\n",
       "    </tr>\n",
       "  </tbody>\n",
       "</table>\n",
       "</div>"
      ]
     },
     "execution_count": 25,
     "metadata": {},
     "output_type": "execute_result"
    }
   ],
   "execution_count": 25
  },
  {
   "metadata": {},
   "cell_type": "markdown",
   "source": "The order of the subject must be the same of the dataframe of the FC maps",
   "id": "ffc225be42e4964a"
  },
  {
   "metadata": {
    "ExecuteTime": {
     "end_time": "2025-05-07T15:29:27.993403Z",
     "start_time": "2025-05-07T15:29:27.988735Z"
    }
   },
   "cell_type": "code",
   "source": [
    "df_meta = df_meta.set_index('ID').loc[df['ID']].reset_index()\n",
    "\n",
    "assert all(df['ID'] == df_meta['ID']), \"Mismatch tra ID di df e df_meta_ordered\"\n",
    "print(\"Gli ID ora sono perfettamente allineati\")"
   ],
   "id": "28416976a250208c",
   "outputs": [
    {
     "name": "stdout",
     "output_type": "stream",
     "text": [
      "Gli ID ora sono perfettamente allineati\n"
     ]
    }
   ],
   "execution_count": 26
  },
  {
   "metadata": {},
   "cell_type": "markdown",
   "source": "### Preprocessing",
   "id": "4c12c2b07428273d"
  },
  {
   "metadata": {},
   "cell_type": "markdown",
   "source": "#### Removing NaN subjects",
   "id": "771e69bdcfc8a8a0"
  },
  {
   "metadata": {
    "ExecuteTime": {
     "end_time": "2025-05-07T15:29:28.076930Z",
     "start_time": "2025-05-07T15:29:28.072202Z"
    }
   },
   "cell_type": "code",
   "source": [
    "print(\"Recall rows with missing CDR_SB:\", df_meta['CDR_SB'].isna().sum())\n",
    "subjects_nan = df_meta[df_meta['CDR_SB'].isna()]['ID'].tolist()\n",
    "print(\"Subject with missing CDR_SB:\", subjects_nan)"
   ],
   "id": "bc2e164ae01c4c4a",
   "outputs": [
    {
     "name": "stdout",
     "output_type": "stream",
     "text": [
      "Recall rows with missing CDR_SB: 5\n",
      "Subject with missing CDR_SB: ['1_S_5052', '1_S_5096', '1_S_5097', '1_S_5101', '4_S_5008']\n"
     ]
    }
   ],
   "execution_count": 27
  },
  {
   "metadata": {
    "ExecuteTime": {
     "end_time": "2025-05-07T15:29:28.804877Z",
     "start_time": "2025-05-07T15:29:28.112987Z"
    }
   },
   "cell_type": "code",
   "source": [
    "df = df[~df['ID'].isin(subjects_nan)].reset_index(drop=True)\n",
    "print(\"New dimension of df:\", df.shape)"
   ],
   "id": "8a3ac63d070a1c77",
   "outputs": [
    {
     "name": "stdout",
     "output_type": "stream",
     "text": [
      "New dimension of df: (172, 902630)\n"
     ]
    }
   ],
   "execution_count": 28
  },
  {
   "metadata": {},
   "cell_type": "markdown",
   "source": "#### Thresholding",
   "id": "910d3dab9e84fe94"
  },
  {
   "metadata": {},
   "cell_type": "markdown",
   "source": "Set a threshold for values below 0.1 and 0.2 for defining correlation",
   "id": "fc66b2a7478ac41e"
  },
  {
   "metadata": {
    "ExecuteTime": {
     "end_time": "2025-05-07T15:29:28.903797Z",
     "start_time": "2025-05-07T15:29:28.899131Z"
    }
   },
   "cell_type": "code",
   "source": [
    "def apply_threshold(dataframe, threshold):\n",
    "    df_thr = dataframe.copy()\n",
    "    df_thr.iloc[:, 1:] = df_thr.iloc[:, 1:].mask(df_thr.iloc[:, 1:] < threshold, 0)\n",
    "    return df_thr"
   ],
   "id": "dd011c7e7602784d",
   "outputs": [],
   "execution_count": 29
  },
  {
   "metadata": {
    "ExecuteTime": {
     "end_time": "2025-05-07T15:29:59.021159Z",
     "start_time": "2025-05-07T15:29:29.004224Z"
    }
   },
   "cell_type": "code",
   "source": "df_thr_01 = apply_threshold(df, threshold=0.1)",
   "id": "550a9f807f7dd33e",
   "outputs": [],
   "execution_count": 30
  },
  {
   "metadata": {
    "ExecuteTime": {
     "end_time": "2025-05-07T15:30:28.917653Z",
     "start_time": "2025-05-07T15:29:59.179002Z"
    }
   },
   "cell_type": "code",
   "source": "df_thr_02 = apply_threshold(df, threshold=0.2)",
   "id": "aaa4cb5ac07e8bb6",
   "outputs": [],
   "execution_count": 31
  },
  {
   "metadata": {},
   "cell_type": "markdown",
   "source": "#### GM Mask",
   "id": "f81280d70543524c"
  },
  {
   "metadata": {},
   "cell_type": "markdown",
   "source": [
    "- Binary mask of grey matter using the Harvard-Oxford Atlas\n",
    "\n",
    "- Keeping the Gray Matter voxels"
   ],
   "id": "ac634cb3c5710ee9"
  },
  {
   "metadata": {
    "ExecuteTime": {
     "end_time": "2025-05-07T15:30:29.158446Z",
     "start_time": "2025-05-07T15:30:29.155150Z"
    }
   },
   "cell_type": "code",
   "source": [
    "def apply_mask(df_thr, mask_path):\n",
    "    # Load and flatten GM mask\n",
    "    mask = nib.load(mask_path).get_fdata().flatten()\n",
    "    assert mask.shape[0] == df_thr.shape[1] - 1, \"Mask and data length mismatch\"\n",
    "\n",
    "    # Mask\n",
    "    voxel_data = df_thr.iloc[:, 1:]\n",
    "    voxel_data_masked = voxel_data.loc[:, mask != 0]\n",
    "\n",
    "    # Return the masked dataframe\n",
    "    df_masked = pd.concat([df_thr[['ID']], voxel_data_masked], axis=1)\n",
    "    df_masked.columns = ['ID'] + list(range(voxel_data_masked.shape[1]))\n",
    "    return df_masked"
   ],
   "id": "12e89e56890e2e5a",
   "outputs": [],
   "execution_count": 32
  },
  {
   "metadata": {
    "ExecuteTime": {
     "end_time": "2025-05-07T15:30:30.911648Z",
     "start_time": "2025-05-07T15:30:29.392181Z"
    }
   },
   "cell_type": "code",
   "source": [
    "# GM masking\n",
    "# 0.1 threshold\n",
    "df_thr01_gm_masked = apply_mask(df_thr_01, gm_mask_path)\n",
    "\n",
    "# 0.2 threshold\n",
    "df_thr02_gm_masked = apply_mask(df_thr_02, gm_mask_path)\n",
    "\n",
    "# Without threshold\n",
    "df_gm_masked = apply_mask(df, gm_mask_path)"
   ],
   "id": "a1cf4dfa092b448f",
   "outputs": [],
   "execution_count": 33
  },
  {
   "metadata": {
    "ExecuteTime": {
     "end_time": "2025-05-07T15:30:32.374077Z",
     "start_time": "2025-05-07T15:30:31.208119Z"
    }
   },
   "cell_type": "code",
   "source": [
    "# Harvard masking\n",
    "# 0.1 threshold\n",
    "df_thr01_har_masked = apply_mask(df_thr_01, harvard_oxford_mask_path)\n",
    "\n",
    "# 0.2 threshold\n",
    "df_thr02_har_masked = apply_mask(df_thr_02, harvard_oxford_mask_path)\n",
    "\n",
    "# Without\n",
    "df_har_masked = apply_mask(df, harvard_oxford_mask_path)"
   ],
   "id": "bb85e9a257d11c05",
   "outputs": [],
   "execution_count": 34
  },
  {
   "metadata": {},
   "cell_type": "markdown",
   "source": "### Analysis",
   "id": "7c7c631d5225cc0b"
  },
  {
   "metadata": {
    "ExecuteTime": {
     "end_time": "2025-05-07T15:30:32.719159Z",
     "start_time": "2025-05-07T15:30:32.715824Z"
    }
   },
   "cell_type": "code",
   "source": [
    "print(\"Dimensions of dataframes after gm masking with 2 different thresholds:\")\n",
    "print(\"0.1 threshold\", df_thr01_gm_masked.shape)\n",
    "print(\"0.2 threshold\", df_thr02_gm_masked.shape)\n",
    "\n",
    "print(\"\\nDimensions of dataframes after harvard masking with 2 different thresholds:\")\n",
    "print(\"0.1 threshold\", df_thr01_har_masked.shape)\n",
    "print(\"0.2 threshold\", df_thr02_har_masked.shape)\n",
    "\n",
    "print(\"\\nDimensions of dataframes after gm masking and harvard masking without thresholding:\")\n",
    "print(\"GM Mask\", df_gm_masked.shape)\n",
    "print(\"Harvard Mask\", df_har_masked.shape)"
   ],
   "id": "f52e58ef016bc712",
   "outputs": [
    {
     "name": "stdout",
     "output_type": "stream",
     "text": [
      "Dimensions of dataframes after gm masking with 2 different thresholds:\n",
      "0.1 threshold (172, 161818)\n",
      "0.2 threshold (172, 161818)\n",
      "\n",
      "Dimensions of dataframes after harvard masking with 2 different thresholds:\n",
      "0.1 threshold (172, 55005)\n",
      "0.2 threshold (172, 55005)\n",
      "\n",
      "Dimensions of dataframes after gm masking and harvard masking without thresholding:\n",
      "GM Mask (172, 161818)\n",
      "Harvard Mask (172, 55005)\n"
     ]
    }
   ],
   "execution_count": 35
  },
  {
   "metadata": {
    "ExecuteTime": {
     "end_time": "2025-05-07T15:30:33.039660Z",
     "start_time": "2025-05-07T15:30:33.035460Z"
    }
   },
   "cell_type": "code",
   "source": [
    "# Funzione migliorata\n",
    "def summarize_voxel_data(df_masked, threshold=None):\n",
    "    summary = {}\n",
    "    summary['Shape'] = df_masked.shape\n",
    "\n",
    "    if threshold:\n",
    "        has_low = ((df_masked.iloc[:, 1:] > 0) & (df_masked.iloc[:, 1:] < threshold)).any().any()\n",
    "        summary['Valori tra 0 e threshold'] = has_low\n",
    "    else:\n",
    "        summary['Valori tra 0 e threshold'] = 'N/A'\n",
    "\n",
    "    zero_rows = (df_masked.iloc[:, 1:] == 0).all(axis=1).sum()\n",
    "    summary['Zero maps'] = f\"{zero_rows} su {df_masked.shape[0]}\"\n",
    "\n",
    "    voxel_data = df_masked.iloc[:, 1:].values\n",
    "    nonzero_voxels = voxel_data[voxel_data != 0]\n",
    "\n",
    "    summary['All Min'] = voxel_data.min()\n",
    "    summary['All Max'] = voxel_data.max()\n",
    "    summary['All Mean'] = voxel_data.mean()\n",
    "    summary['All Std'] = voxel_data.std()\n",
    "\n",
    "    summary['Nonzero Min'] = nonzero_voxels.min()\n",
    "    summary['Nonzero Max'] = nonzero_voxels.max()\n",
    "    summary['Nonzero Mean'] = nonzero_voxels.mean()\n",
    "    summary['Nonzero Std'] = nonzero_voxels.std()\n",
    "\n",
    "    return summary"
   ],
   "id": "376dce1d9d582b2f",
   "outputs": [],
   "execution_count": 36
  },
  {
   "metadata": {
    "ExecuteTime": {
     "end_time": "2025-05-07T15:30:36.826150Z",
     "start_time": "2025-05-07T15:30:33.352920Z"
    }
   },
   "cell_type": "code",
   "source": [
    "# Dataset\n",
    "dataframes = {\n",
    "    \"thr_01_gm\": (df_thr01_gm_masked, 0.1),\n",
    "    \"thr_02_gm\": (df_thr02_gm_masked, 0.2),\n",
    "    \"thr_01_har\": (df_thr01_har_masked, 0.1),\n",
    "    \"thr_02_har\": (df_thr02_har_masked, 0.2),\n",
    "    \"gm_no_thr\": (df_gm_masked, None),\n",
    "    \"har_no_thr\": (df_har_masked, None)\n",
    "}\n",
    "\n",
    "# Functions\n",
    "results = []\n",
    "\n",
    "for name, (dfm, thr) in dataframes.items():\n",
    "    summary = summarize_voxel_data(dfm, threshold=thr)\n",
    "    summary['Dataset'] = name\n",
    "    results.append(summary)\n",
    "\n",
    "# Summary\n",
    "df_summary = pd.DataFrame(results).set_index('Dataset')\n",
    "\n",
    "pd.options.display.float_format = '{:.4f}'.format"
   ],
   "id": "1f3f08e950823b3f",
   "outputs": [],
   "execution_count": 37
  },
  {
   "metadata": {
    "ExecuteTime": {
     "end_time": "2025-05-07T15:30:37.166955Z",
     "start_time": "2025-05-07T15:30:37.159254Z"
    }
   },
   "cell_type": "code",
   "source": [
    "print(\"Summary of voxel data:\")\n",
    "display(df_summary)"
   ],
   "id": "31307f44397022ad",
   "outputs": [
    {
     "name": "stdout",
     "output_type": "stream",
     "text": [
      "Summary of voxel data:\n"
     ]
    },
    {
     "data": {
      "text/plain": [
       "                    Shape Valori tra 0 e threshold Zero maps  All Min  \\\n",
       "Dataset                                                                 \n",
       "thr_01_gm   (172, 161818)                    False  0 su 172   0.0000   \n",
       "thr_02_gm   (172, 161818)                    False  0 su 172   0.0000   \n",
       "thr_01_har   (172, 55005)                    False  0 su 172   0.0000   \n",
       "thr_02_har   (172, 55005)                    False  9 su 172   0.0000   \n",
       "gm_no_thr   (172, 161818)                      N/A  0 su 172  -0.2879   \n",
       "har_no_thr   (172, 55005)                      N/A  0 su 172  -0.1555   \n",
       "\n",
       "            All Max  All Mean  All Std  Nonzero Min  Nonzero Max  \\\n",
       "Dataset                                                            \n",
       "thr_01_gm    1.6188    0.0728   0.1016       0.1000       1.6188   \n",
       "thr_02_gm    1.6188    0.0337   0.0935       0.2000       1.6188   \n",
       "thr_01_har   1.6188    0.0838   0.1064       0.1000       1.6188   \n",
       "thr_02_har   1.6188    0.0405   0.1013       0.2000       1.6188   \n",
       "gm_no_thr    1.6188    0.0992   0.0866      -0.2879       1.6188   \n",
       "har_no_thr   1.6188    0.1078   0.0912      -0.1555       1.6188   \n",
       "\n",
       "            Nonzero Mean  Nonzero Std  \n",
       "Dataset                                \n",
       "thr_01_gm         0.1824       0.0765  \n",
       "thr_02_gm         0.2745       0.0709  \n",
       "thr_01_har        0.1862       0.0779  \n",
       "thr_02_har        0.2750       0.0721  \n",
       "gm_no_thr         0.0992       0.0866  \n",
       "har_no_thr        0.1078       0.0912  "
      ],
      "text/html": [
       "<div>\n",
       "<style scoped>\n",
       "    .dataframe tbody tr th:only-of-type {\n",
       "        vertical-align: middle;\n",
       "    }\n",
       "\n",
       "    .dataframe tbody tr th {\n",
       "        vertical-align: top;\n",
       "    }\n",
       "\n",
       "    .dataframe thead th {\n",
       "        text-align: right;\n",
       "    }\n",
       "</style>\n",
       "<table border=\"1\" class=\"dataframe\">\n",
       "  <thead>\n",
       "    <tr style=\"text-align: right;\">\n",
       "      <th></th>\n",
       "      <th>Shape</th>\n",
       "      <th>Valori tra 0 e threshold</th>\n",
       "      <th>Zero maps</th>\n",
       "      <th>All Min</th>\n",
       "      <th>All Max</th>\n",
       "      <th>All Mean</th>\n",
       "      <th>All Std</th>\n",
       "      <th>Nonzero Min</th>\n",
       "      <th>Nonzero Max</th>\n",
       "      <th>Nonzero Mean</th>\n",
       "      <th>Nonzero Std</th>\n",
       "    </tr>\n",
       "    <tr>\n",
       "      <th>Dataset</th>\n",
       "      <th></th>\n",
       "      <th></th>\n",
       "      <th></th>\n",
       "      <th></th>\n",
       "      <th></th>\n",
       "      <th></th>\n",
       "      <th></th>\n",
       "      <th></th>\n",
       "      <th></th>\n",
       "      <th></th>\n",
       "      <th></th>\n",
       "    </tr>\n",
       "  </thead>\n",
       "  <tbody>\n",
       "    <tr>\n",
       "      <th>thr_01_gm</th>\n",
       "      <td>(172, 161818)</td>\n",
       "      <td>False</td>\n",
       "      <td>0 su 172</td>\n",
       "      <td>0.0000</td>\n",
       "      <td>1.6188</td>\n",
       "      <td>0.0728</td>\n",
       "      <td>0.1016</td>\n",
       "      <td>0.1000</td>\n",
       "      <td>1.6188</td>\n",
       "      <td>0.1824</td>\n",
       "      <td>0.0765</td>\n",
       "    </tr>\n",
       "    <tr>\n",
       "      <th>thr_02_gm</th>\n",
       "      <td>(172, 161818)</td>\n",
       "      <td>False</td>\n",
       "      <td>0 su 172</td>\n",
       "      <td>0.0000</td>\n",
       "      <td>1.6188</td>\n",
       "      <td>0.0337</td>\n",
       "      <td>0.0935</td>\n",
       "      <td>0.2000</td>\n",
       "      <td>1.6188</td>\n",
       "      <td>0.2745</td>\n",
       "      <td>0.0709</td>\n",
       "    </tr>\n",
       "    <tr>\n",
       "      <th>thr_01_har</th>\n",
       "      <td>(172, 55005)</td>\n",
       "      <td>False</td>\n",
       "      <td>0 su 172</td>\n",
       "      <td>0.0000</td>\n",
       "      <td>1.6188</td>\n",
       "      <td>0.0838</td>\n",
       "      <td>0.1064</td>\n",
       "      <td>0.1000</td>\n",
       "      <td>1.6188</td>\n",
       "      <td>0.1862</td>\n",
       "      <td>0.0779</td>\n",
       "    </tr>\n",
       "    <tr>\n",
       "      <th>thr_02_har</th>\n",
       "      <td>(172, 55005)</td>\n",
       "      <td>False</td>\n",
       "      <td>9 su 172</td>\n",
       "      <td>0.0000</td>\n",
       "      <td>1.6188</td>\n",
       "      <td>0.0405</td>\n",
       "      <td>0.1013</td>\n",
       "      <td>0.2000</td>\n",
       "      <td>1.6188</td>\n",
       "      <td>0.2750</td>\n",
       "      <td>0.0721</td>\n",
       "    </tr>\n",
       "    <tr>\n",
       "      <th>gm_no_thr</th>\n",
       "      <td>(172, 161818)</td>\n",
       "      <td>N/A</td>\n",
       "      <td>0 su 172</td>\n",
       "      <td>-0.2879</td>\n",
       "      <td>1.6188</td>\n",
       "      <td>0.0992</td>\n",
       "      <td>0.0866</td>\n",
       "      <td>-0.2879</td>\n",
       "      <td>1.6188</td>\n",
       "      <td>0.0992</td>\n",
       "      <td>0.0866</td>\n",
       "    </tr>\n",
       "    <tr>\n",
       "      <th>har_no_thr</th>\n",
       "      <td>(172, 55005)</td>\n",
       "      <td>N/A</td>\n",
       "      <td>0 su 172</td>\n",
       "      <td>-0.1555</td>\n",
       "      <td>1.6188</td>\n",
       "      <td>0.1078</td>\n",
       "      <td>0.0912</td>\n",
       "      <td>-0.1555</td>\n",
       "      <td>1.6188</td>\n",
       "      <td>0.1078</td>\n",
       "      <td>0.0912</td>\n",
       "    </tr>\n",
       "  </tbody>\n",
       "</table>\n",
       "</div>"
      ]
     },
     "metadata": {},
     "output_type": "display_data"
    }
   ],
   "execution_count": 38
  },
  {
   "metadata": {},
   "cell_type": "markdown",
   "source": "## Unsupervised Clustering",
   "id": "a1480a87240f9d06"
  },
  {
   "metadata": {},
   "cell_type": "markdown",
   "source": "### Input data",
   "id": "2925b64f90879331"
  },
  {
   "metadata": {},
   "cell_type": "markdown",
   "source": [
    "For the further analysis we will remove the ID labels columns, but the order is mantained.\n",
    "\n",
    "Possible dataset:\n",
    "- `df_thr01_gm_masked`\n",
    "- `df_thr02_gm_masked`\n",
    "- `df_thr01_har_masked`\n",
    "- `df_thr02_har_masked`\n",
    "- `df_gm_masked`\n",
    "- `df_har_masked`\n",
    "\n",
    "Here we go with one example"
   ],
   "id": "8e4b1cafb25c5349"
  },
  {
   "metadata": {
    "ExecuteTime": {
     "end_time": "2025-05-07T16:13:49.987564Z",
     "start_time": "2025-05-07T16:13:49.983880Z"
    }
   },
   "cell_type": "code",
   "source": [
    "def x_features_return(df_voxel, df_labels):\n",
    "    # Meta columns\n",
    "    meta_columns = list(df_labels.columns)\n",
    "\n",
    "    # Merge based on subject ID\n",
    "    dataframe_merge = pd.merge(df_voxel, df_labels, on='ID', how='left', validate='one_to_one')\n",
    "\n",
    "    # Reorder columns: metadata first, then voxel features\n",
    "    ordered_cols = meta_columns + [col for col in dataframe_merge.columns if col not in meta_columns]\n",
    "    dataframe_merge = dataframe_merge[ordered_cols]\n",
    "\n",
    "    # Sanity check to ensure row alignment\n",
    "    assert (dataframe_merge['ID'].values == df_voxel['ID'].values).all(), \"Row order mismatch after merge\"\n",
    "\n",
    "    # Extract features only (drop metadata)\n",
    "    x = dataframe_merge.drop(columns=meta_columns)\n",
    "\n",
    "    return dataframe_merge, x"
   ],
   "id": "73ecd6ed2969236f",
   "outputs": [],
   "execution_count": 64
  },
  {
   "metadata": {
    "ExecuteTime": {
     "end_time": "2025-05-07T16:13:53.630426Z",
     "start_time": "2025-05-07T16:13:53.314515Z"
    }
   },
   "cell_type": "code",
   "source": "df_merged, X = x_features_return(df_gm_masked, df_meta)",
   "id": "df503538202ed229",
   "outputs": [],
   "execution_count": 65
  },
  {
   "metadata": {
    "ExecuteTime": {
     "end_time": "2025-05-07T16:13:56.590053Z",
     "start_time": "2025-05-07T16:13:56.586253Z"
    }
   },
   "cell_type": "code",
   "source": "X.shape",
   "id": "de085edfcc4baf20",
   "outputs": [
    {
     "data": {
      "text/plain": [
       "(172, 161817)"
      ]
     },
     "execution_count": 66,
     "metadata": {},
     "output_type": "execute_result"
    }
   ],
   "execution_count": 66
  },
  {
   "metadata": {},
   "cell_type": "markdown",
   "source": "### Dimensionality reduction and clustering",
   "id": "beedd560fdc25792"
  },
  {
   "metadata": {},
   "cell_type": "markdown",
   "source": "UMAP is not changing the order of the rows so each row correspond to the previous subject in the not reduced dataset.",
   "id": "f959e6c5aa18d570"
  },
  {
   "metadata": {
    "ExecuteTime": {
     "end_time": "2025-05-07T16:14:14.359290Z",
     "start_time": "2025-05-07T16:14:14.353797Z"
    }
   },
   "cell_type": "code",
   "source": [
    "def run_umap(x_input, plot_flag =True):\n",
    "   # Parameters\n",
    "    reducer = umap.UMAP(n_neighbors=15, n_components=2, metric='euclidean', n_epochs=1000, learning_rate=1.0, init='spectral', min_dist=0.1, spread=1.0, low_memory=False, set_op_mix_ratio=1.0, local_connectivity=1, repulsion_strength=1.0, negative_sample_rate=5, transform_queue_size=4.0, a=None, b=None, random_state=42, metric_kwds=None, angular_rp_forest=False, target_n_neighbors=-1, transform_seed=42, verbose=False, unique=False)\n",
    "\n",
    "    # Reduce dimensionality\n",
    "    x_umap = reducer.fit_transform(x_input)\n",
    "\n",
    "    # Plot\n",
    "    if plot_flag:\n",
    "        plt.figure(figsize=(6, 4))\n",
    "        plt.scatter(x_umap[:, 0], x_umap[:, 1], s=10, alpha=0.6)\n",
    "        plt.title(\"UMAP Embedding\")\n",
    "        plt.xlabel(\"UMAP 1\")\n",
    "        plt.ylabel(\"UMAP 2\")\n",
    "        plt.grid(True)\n",
    "        plt.show()\n",
    "\n",
    "    return x_umap"
   ],
   "id": "fa3fafec4f2822a9",
   "outputs": [],
   "execution_count": 69
  },
  {
   "metadata": {},
   "cell_type": "code",
   "source": "X_umap = run_umap(X, plot_flag=True)",
   "id": "5109e66da89923b1",
   "outputs": [],
   "execution_count": null
  },
  {
   "metadata": {},
   "cell_type": "code",
   "source": [
    "threshold_y = 15\n",
    "\n",
    "# Maks\n",
    "top_mask = X_umap[:, 1] > threshold_y\n",
    "bottom_mask = X_umap[:, 1] <= threshold_y\n",
    "\n",
    "# --- Top ---\n",
    "plt.figure(figsize=(8, 6))\n",
    "plt.scatter(X_umap[top_mask, 0], X_umap[top_mask, 1], s=40, alpha=0.8)\n",
    "plt.title(\"UMAP - Upper Cluster(s)\", fontsize=14, weight='bold')\n",
    "plt.xlabel(\"UMAP 1\")\n",
    "plt.ylabel(\"UMAP 2\")\n",
    "plt.grid(True, linestyle='--', alpha=0.4)\n",
    "plt.tight_layout()\n",
    "plt.show()\n",
    "\n",
    "# --- Bottom ---\n",
    "plt.figure(figsize=(8, 6))\n",
    "plt.scatter(X_umap[bottom_mask, 0], X_umap[bottom_mask, 1], s=40, alpha=0.8)\n",
    "plt.title(\"UMAP - Lower Cluster\", fontsize=14, weight='bold')\n",
    "plt.xlabel(\"UMAP 1\")\n",
    "plt.ylabel(\"UMAP 2\")\n",
    "plt.grid(True, linestyle='--', alpha=0.4)\n",
    "plt.tight_layout()\n",
    "plt.show()"
   ],
   "id": "55c4cdbf67fe63ba",
   "outputs": [],
   "execution_count": null
  },
  {
   "metadata": {
    "ExecuteTime": {
     "end_time": "2025-05-07T14:38:26.084544Z",
     "start_time": "2025-05-07T14:38:25.910847Z"
    }
   },
   "cell_type": "code",
   "source": [
    "# HDBSCAN\n",
    "cluster_hdb = hdbscan.HDBSCAN(min_cluster_size=5)\n",
    "labels_hdb = cluster_hdb.fit_predict(X_umap)\n",
    "\n",
    "# DBSCAN\n",
    "clusterer_db = DBSCAN(eps=0.5, min_samples=5)\n",
    "labels_db = clusterer_db.fit_predict(X_umap)\n",
    "\n",
    "# K-Means\n",
    "kmeans = KMeans(n_clusters=3, random_state=42)\n",
    "labels_km = kmeans.fit_predict(X_umap)\n",
    "\n",
    "# GMM\n",
    "gmm = GaussianMixture(n_components=3, random_state=42)\n",
    "labels_gmm = gmm.fit_predict(X_umap)\n",
    "\n",
    "# Dataframe for collecting data\n",
    "labeling_umap = pd.DataFrame({\n",
    "    'labels_hdb': labels_hdb,  # HDBSCAN clusters\n",
    "    'labels_db': labels_db,    # DBSCAN clusters\n",
    "    'labels_km': labels_km,    # K-Means clusters\n",
    "    'labels_gmm': labels_gmm,  # GMM clusters\n",
    "    'X1': X_umap[:, 0],        # UMAP component 1\n",
    "    'X2': X_umap[:, 1],        # UMAP component 2\n",
    "    'group': df_merged['Group'],        # Diagnosis\n",
    "    'subject_id': df_merged['ID']       # Identifiers\n",
    "})"
   ],
   "id": "a4fdabab57f24301",
   "outputs": [],
   "execution_count": 133
  },
  {
   "metadata": {},
   "cell_type": "markdown",
   "source": "### Plotting",
   "id": "dc582c26488a08a2"
  },
  {
   "metadata": {
    "ExecuteTime": {
     "end_time": "2025-05-07T14:38:28.233031Z",
     "start_time": "2025-05-07T14:38:28.224009Z"
    }
   },
   "cell_type": "code",
   "source": [
    "def plot_clusters_vs_groups(x_umap, labels_dictionary, group_column, figsize=(16, 24), margin=5):\n",
    "    n = len(labels_dict)\n",
    "    n_cols = 2\n",
    "    n_rows = n\n",
    "\n",
    "    x_min, x_max = x_umap[:, 0].min() - margin, x_umap[:, 0].max() + margin\n",
    "    y_min, y_max = x_umap[:, 1].min() - margin, x_umap[:, 1].max() + margin\n",
    "\n",
    "    # Figure\n",
    "    fig, axes = plt.subplots(n_rows, n_cols, figsize=figsize)\n",
    "\n",
    "    # Loop over each clustering model\n",
    "    for i, (title, labels) in enumerate(labels_dictionary.items()):\n",
    "        ax_left = axes[i, 0]\n",
    "        ax_right = axes[i, 1]\n",
    "\n",
    "        # DF for for plotting\n",
    "        plot_df = pd.DataFrame({\n",
    "            'X1': x_umap[:, 0],\n",
    "            'X2': x_umap[:, 1],\n",
    "            'cluster': labels,\n",
    "            'group': group_column\n",
    "        })\n",
    "\n",
    "        # Clustering\n",
    "        sns.scatterplot(data=plot_df, x='X1', y='X2', hue='cluster', palette='Set1', s=50, ax=ax_left, legend='full')\n",
    "        ax_left.set_title(f'{title} - Clustering')\n",
    "        ax_left.set_xlim(x_min, x_max)\n",
    "        ax_left.set_ylim(y_min, y_max)\n",
    "        ax_left.set_xlabel(\"UMAP 1\")\n",
    "        ax_left.set_ylabel(\"UMAP 2\")\n",
    "\n",
    "        # Group labeling\n",
    "        sns.scatterplot(data=plot_df, x='X1', y='X2', hue='group', palette='Set2', s=50, ax=ax_right, legend='full')\n",
    "        ax_right.set_title(f'{title} - Group Labeling')\n",
    "        ax_right.set_xlim(x_min, x_max)\n",
    "        ax_right.set_ylim(y_min, y_max)\n",
    "        ax_right.set_xlabel(\"UMAP 1\")\n",
    "        ax_right.set_ylabel(\"UMAP 2\")\n",
    "\n",
    "    plt.tight_layout()\n",
    "    plt.show()"
   ],
   "id": "e4b2707198a3f44c",
   "outputs": [],
   "execution_count": 134
  },
  {
   "metadata": {},
   "cell_type": "code",
   "source": [
    "# Dictionary of clustering results\n",
    "labels_dict = {\n",
    "    \"HDBSCAN\": labeling_umap['labels_hdb'],\n",
    "    \"DBSCAN\": labeling_umap['labels_db'],\n",
    "    \"K-Means\": labeling_umap['labels_km'],\n",
    "    \"GMM\": labeling_umap['labels_gmm']\n",
    "}\n",
    "\n",
    "plot_clusters_vs_groups(X_umap, labels_dict, labeling_umap['group'])"
   ],
   "id": "188ed89eb5b1cc48",
   "outputs": [],
   "execution_count": null
  },
  {
   "metadata": {},
   "cell_type": "markdown",
   "source": "### Run all dataframes",
   "id": "b624ef5b53fa5a7d"
  },
  {
   "metadata": {
    "ExecuteTime": {
     "end_time": "2025-05-07T16:06:29.195378Z",
     "start_time": "2025-05-07T16:06:29.188449Z"
    }
   },
   "cell_type": "code",
   "source": [
    "import sys\n",
    "sys.path.append(\"/Users/emmatosato/Documents/PhD/ANM_Verona/src\")\n",
    "\n",
    "import importlib\n",
    "import umap_clustering\n",
    "importlib.reload(umap_clustering)\n",
    "\n",
    "from umap_clustering import main\n",
    "\n",
    "save_path = \"/Users/emmatosato/Documents/PhD/ANM_Verona/output_images/umap_cluster\""
   ],
   "id": "3f08566da1f3efe6",
   "outputs": [],
   "execution_count": 59
  },
  {
   "metadata": {},
   "cell_type": "code",
   "source": [
    "labeling, x_umap = main(df_gm_masked,df_meta, save_path, \"umap_gm_mask\", \"clustering_gm_mask\", plot_umap_flag=False, plot_cluster_flag=True)\n",
    "labeling, x_umap = main(df_thr01_gm_masked, df_meta, save_path, \"umap_gm_01_mask\", \"clustering_gm_01_mask\", plot_umap_flag=False, plot_cluster_flag=True)\n",
    "labeling, x_umap = main(df_thr02_gm_masked, df_meta, save_path, \"umap_gm_02_mask\", \"clustering_gm_02_mask\", plot_umap_flag=False, plot_cluster_flag=True)\n",
    "labeling, x_umap = main(df_thr01_har_masked, df_meta, save_path, \"umap_har_01_mask\", \"clustering_har_01_mask\", plot_umap_flag=False, plot_cluster_flag=True)\n",
    "labeling, x_umap = main(df_thr02_har_masked, df_meta, save_path, \"umap_har_02_mask\", \"clustering_har_02_mask\", plot_umap_flag=False, plot_cluster_flag=True)\n",
    "labeling, x_umap = main(df_har_masked, df_meta, save_path, \"umap_har_mask\", \"clustering_har_mask\", plot_umap_flag=False, plot_cluster_flag=True)"
   ],
   "id": "8f1d121afaf50c4b",
   "outputs": [],
   "execution_count": null
  },
  {
   "metadata": {},
   "cell_type": "markdown",
   "source": "## Linear Regression",
   "id": "259d883b1ae62cae"
  },
  {
   "metadata": {},
   "cell_type": "markdown",
   "source": "Input and target definition",
   "id": "7044732623f7f6c"
  },
  {
   "metadata": {
    "ExecuteTime": {
     "end_time": "2025-05-07T16:14:27.583979Z",
     "start_time": "2025-05-07T16:14:27.339190Z"
    }
   },
   "cell_type": "code",
   "source": [
    "# Features\n",
    "df_merged, X = x_features_return(df_gm_masked, df_meta)\n",
    "\n",
    "# Target variable\n",
    "y = df_merged['CDR_SB']\n",
    "y_log = np.log1p(y)"
   ],
   "id": "59322676927210fa",
   "outputs": [],
   "execution_count": 70
  },
  {
   "metadata": {},
   "cell_type": "markdown",
   "source": "Reduction",
   "id": "1cd59621f6d4ae5c"
  },
  {
   "metadata": {
    "ExecuteTime": {
     "end_time": "2025-05-07T16:14:30.207215Z",
     "start_time": "2025-05-07T16:14:28.621724Z"
    }
   },
   "cell_type": "code",
   "source": "X_umap = run_umap(X, plot_flag=False)",
   "id": "f621c2f0cc8e2f96",
   "outputs": [],
   "execution_count": 71
  },
  {
   "metadata": {},
   "cell_type": "markdown",
   "source": "Fit  regressions model",
   "id": "9f535e67bfbd8e32"
  },
  {
   "metadata": {
    "ExecuteTime": {
     "end_time": "2025-05-07T16:14:31.369013Z",
     "start_time": "2025-05-07T16:14:31.365419Z"
    }
   },
   "cell_type": "code",
   "source": [
    "def fit_ols_model(input_data, target):\n",
    "    # Add a constant to the features\n",
    "    input_constants = sm.add_constant(input_data)\n",
    "\n",
    "    # Fit the OLS model\n",
    "    model_ols = sm.OLS(y, input_constants).fit()\n",
    "\n",
    "    # Predictions and residuals\n",
    "    predictions = model_ols.predict(input_constants)\n",
    "    residuals_ols = target - predictions\n",
    "\n",
    "    return model_ols, predictions, residuals_ols"
   ],
   "id": "a261e8aa7b981805",
   "outputs": [],
   "execution_count": 72
  },
  {
   "metadata": {
    "ExecuteTime": {
     "end_time": "2025-05-07T16:14:31.950213Z",
     "start_time": "2025-05-07T16:14:31.944432Z"
    }
   },
   "cell_type": "code",
   "source": [
    "def plot_ols_diagnostics(target, predictions, residuals_ols, title):\n",
    "    fig, axes = plt.subplots(1, 2, figsize=(14, 6))\n",
    "\n",
    "    # Plot 1: True vs Predicted\n",
    "    sns.scatterplot(x=target, y=predictions, ax=axes[0], color='#61bdcd', edgecolor='black', alpha=0.8, s=50)\n",
    "    axes[0].plot([target.min(), target.max()], [target.min(), target.max()], '--', color='gray')\n",
    "    axes[0].set_title(\"True vs Predicted\", fontsize=14, weight='bold')\n",
    "    axes[0].set_xlabel(\"True CDR_SB\", fontsize=12, weight='bold')\n",
    "    axes[0].set_ylabel(\"Predicted CDR_SB\", fontsize=12, weight='bold')\n",
    "    axes[0].grid(True, linestyle='--', alpha=0.6)\n",
    "\n",
    "    # Plot 2: Residuals vs Predicted\n",
    "    sns.scatterplot(x=predictions, y=residuals_ols, ax=axes[1], color='#61bdcd', edgecolor='black', alpha=0.8, s=50)\n",
    "    axes[1].axhline(0, linestyle='--', color='gray')\n",
    "    axes[1].set_title(\"Residuals vs Fitted\", fontsize=14, weight='bold')\n",
    "    axes[1].set_xlabel(\"Predicted CDR_SB\", fontsize=12, weight='bold')\n",
    "    axes[1].set_ylabel(\"Residuals\", fontsize=12, weight='bold')\n",
    "    axes[1].grid(True, linestyle='--', alpha=0.6)\n",
    "\n",
    "    # Titolo globale sopra i due plot\n",
    "    fig.suptitle(title,fontsize=16, weight='bold', y=1.05)\n",
    "    plt.tight_layout()\n",
    "    plt.show()"
   ],
   "id": "b95b9c50e9f3137a",
   "outputs": [],
   "execution_count": 73
  },
  {
   "metadata": {},
   "cell_type": "markdown",
   "source": "Without logistic normalization  of the target",
   "id": "8788ca083a6cf6dc"
  },
  {
   "metadata": {
    "ExecuteTime": {
     "end_time": "2025-05-07T16:14:35.010251Z",
     "start_time": "2025-05-07T16:14:34.997117Z"
    }
   },
   "cell_type": "code",
   "source": [
    "model, y_pred, residuals = fit_ols_model(X_umap, y)\n",
    "print(model.summary(),\"\\n\")"
   ],
   "id": "8e3f16ddd212acda",
   "outputs": [
    {
     "name": "stdout",
     "output_type": "stream",
     "text": [
      "                            OLS Regression Results                            \n",
      "==============================================================================\n",
      "Dep. Variable:                 CDR_SB   R-squared:                       0.070\n",
      "Model:                            OLS   Adj. R-squared:                  0.059\n",
      "Method:                 Least Squares   F-statistic:                     6.361\n",
      "Date:                Wed, 07 May 2025   Prob (F-statistic):            0.00217\n",
      "Time:                        18:14:35   Log-Likelihood:                -451.89\n",
      "No. Observations:                 172   AIC:                             909.8\n",
      "Df Residuals:                     169   BIC:                             919.2\n",
      "Df Model:                           2                                         \n",
      "Covariance Type:            nonrobust                                         \n",
      "==============================================================================\n",
      "                 coef    std err          t      P>|t|      [0.025      0.975]\n",
      "------------------------------------------------------------------------------\n",
      "const          4.0175      0.481      8.351      0.000       3.068       4.967\n",
      "x1            -0.0336      0.188     -0.179      0.858      -0.404       0.337\n",
      "x2             0.4020      0.124      3.247      0.001       0.158       0.646\n",
      "==============================================================================\n",
      "Omnibus:                       44.110   Durbin-Watson:                   2.044\n",
      "Prob(Omnibus):                  0.000   Jarque-Bera (JB):               73.767\n",
      "Skew:                           1.308   Prob(JB):                     9.59e-17\n",
      "Kurtosis:                       4.856   Cond. No.                         6.22\n",
      "==============================================================================\n",
      "\n",
      "Notes:\n",
      "[1] Standard Errors assume that the covariance matrix of the errors is correctly specified. \n",
      "\n"
     ]
    }
   ],
   "execution_count": 74
  },
  {
   "metadata": {},
   "cell_type": "markdown",
   "source": "With logistic normalization  of the target",
   "id": "6c7f757c3757ec88"
  },
  {
   "metadata": {
    "ExecuteTime": {
     "end_time": "2025-05-07T16:15:47.374938Z",
     "start_time": "2025-05-07T16:15:47.372136Z"
    }
   },
   "cell_type": "code",
   "source": [
    "model_log, y_pred_log, residuals_log = fit_ols_model(X_umap, y_log)\n",
    "#print(model.summary(),\"\\n\")"
   ],
   "id": "cb7f770c8876e9a9",
   "outputs": [],
   "execution_count": 83
  },
  {
   "metadata": {
    "ExecuteTime": {
     "end_time": "2025-05-07T16:14:40.889036Z",
     "start_time": "2025-05-07T16:14:40.700361Z"
    }
   },
   "cell_type": "code",
   "source": "plot_ols_diagnostics(y, y_pred, residuals, \"OLS Diagnostics for Clinical Dementia Rating Scale (CDR_SB)\")",
   "id": "8120192ee7cd2ac8",
   "outputs": [
    {
     "data": {
      "text/plain": [
       "<Figure size 1400x600 with 2 Axes>"
      ],
      "image/png": "[encoded data removed]"
     },
     "metadata": {},
     "output_type": "display_data"
    }
   ],
   "execution_count": 76
  },
  {
   "metadata": {},
   "cell_type": "markdown",
   "source": "#### Analysis",
   "id": "b3d517f99a9bb877"
  },
  {
   "metadata": {
    "ExecuteTime": {
     "end_time": "2025-05-07T16:14:49.495273Z",
     "start_time": "2025-05-07T16:14:49.491643Z"
    }
   },
   "cell_type": "code",
   "source": "print(\"MAE e RMSE\", round(mean_absolute_error(y, y_pred),4), round(np.sqrt(mean_squared_error(y, y_pred)),4))",
   "id": "c6854f1126960eb",
   "outputs": [
    {
     "name": "stdout",
     "output_type": "stream",
     "text": [
      "MAE e RMSE 2.6105 3.3478\n"
     ]
    }
   ],
   "execution_count": 78
  },
  {
   "metadata": {
    "ExecuteTime": {
     "end_time": "2025-05-07T16:14:50.601635Z",
     "start_time": "2025-05-07T16:14:50.429857Z"
    }
   },
   "cell_type": "code",
   "source": [
    "actual = y\n",
    "pred = y_pred\n",
    "\n",
    "# Binning\n",
    "bins = np.arange(min(actual), max(actual) + 0.5, 0.5)\n",
    "\n",
    "# Subplot\n",
    "fig, axs = plt.subplots(1, 2, figsize=(12, 5), sharey=True)\n",
    "\n",
    "axs[0].hist(actual, bins=bins, color='#61bdcd', edgecolor='black', alpha=0.85)\n",
    "axs[0].set_title('Distribution of Actual Values', fontsize=14, weight='bold')\n",
    "axs[0].set_xlabel('Value', fontsize=12, weight='bold')\n",
    "axs[0].set_ylabel('Frequency', fontsize=12, weight='bold')\n",
    "axs[0].grid(True, linestyle='--', alpha=0.6)\n",
    "\n",
    "axs[1].hist(pred, bins=bins, color='#95d6bb', edgecolor='black', alpha=0.85)\n",
    "axs[1].set_title('Distribution of Predicted Values', fontsize=14, weight='bold')\n",
    "axs[1].set_xlabel('Value', fontsize=12, weight='bold')\n",
    "axs[1].grid(True, linestyle='--', alpha=0.6)\n",
    "\n",
    "plt.tight_layout()\n",
    "plt.show()"
   ],
   "id": "5f30598ba056e4d0",
   "outputs": [
    {
     "data": {
      "text/plain": [
       "<Figure size 1200x500 with 2 Axes>"
      ],
      "image/png": "[encoded data removed]"
     },
     "metadata": {},
     "output_type": "display_data"
    }
   ],
   "execution_count": 79
  },
  {
   "metadata": {
    "ExecuteTime": {
     "end_time": "2025-05-07T16:14:52.344411Z",
     "start_time": "2025-05-07T16:14:52.334789Z"
    }
   },
   "cell_type": "code",
   "source": [
    "# Compute RMSE per subject\n",
    "rmse_subject = np.sqrt(residuals ** 2)\n",
    "\n",
    "# Create a new dataframe with per-subject error\n",
    "subject_errors = df_merged[['ID', 'Group', 'CDR_SB']].copy()\n",
    "subject_errors['Predicted CDR_SB'] = y_pred\n",
    "subject_errors['RMSE'] = rmse_subject\n",
    "\n",
    "# Group-level RMSE stats\n",
    "group_rmse_stats = subject_errors.groupby('Group')['RMSE'].agg(\n",
    "    Mean_RMSE='mean',\n",
    "    Std_RMSE='std',\n",
    "    N='count'\n",
    ").round(2).sort_values('Mean_RMSE', ascending=False)\n",
    "\n",
    "print(\"RMSE by diagnostic group:\")\n",
    "print(group_rmse_stats)\n"
   ],
   "id": "8821a42f9035b1e7",
   "outputs": [
    {
     "name": "stdout",
     "output_type": "stream",
     "text": [
      "RMSE by diagnostic group:\n",
      "       Mean_RMSE  Std_RMSE   N\n",
      "Group                         \n",
      "PSP       2.9400    2.3000  58\n",
      "CBS       2.9000    2.2100  42\n",
      "ADNI      2.1700    1.7900  72\n"
     ]
    }
   ],
   "execution_count": 80
  },
  {
   "metadata": {
    "ExecuteTime": {
     "end_time": "2025-05-07T16:14:53.572718Z",
     "start_time": "2025-05-07T16:14:53.565052Z"
    }
   },
   "cell_type": "code",
   "source": [
    "# Sort subjects by RMSE\n",
    "subject_errors_sorted = subject_errors.sort_values(by='RMSE').reset_index(drop=True)\n",
    "\n",
    "print(\"\\nSubjects ranked by RMSE (best to worst):\")\n",
    "print(subject_errors_sorted.to_string(index=False))"
   ],
   "id": "ff4e847cc2f59c3a",
   "outputs": [
    {
     "name": "stdout",
     "output_type": "stream",
     "text": [
      "\n",
      "Subjects ranked by RMSE (best to worst):\n",
      "        ID Group  CDR_SB  Predicted CDR_SB    RMSE\n",
      "027_S_5277  ADNI  2.5000            2.4836  0.0164\n",
      "  1_S_5089   CBS  3.5000            3.5361  0.0361\n",
      "027_S_6788  ADNI  2.5000            2.4283  0.0717\n",
      "007_S_6341  ADNI  2.5000            2.5933  0.0933\n",
      "127_S_6549  ADNI  3.5000            3.6156  0.1156\n",
      "  1_S_5017   CBS  4.5000            4.6341  0.1341\n",
      "  1_S_5048   CBS  4.0000            3.8605  0.1395\n",
      "  1_S_5083   CBS  4.5000            4.3585  0.1415\n",
      "027_S_6965  ADNI  4.5000            4.2610  0.2390\n",
      "  1_S_5055   PSP  3.5000            3.2478  0.2522\n",
      "  5_S_5008   PSP  3.5000            3.7582  0.2582\n",
      "  1_S_5045   PSP  4.0000            3.6795  0.3205\n",
      "  1_S_5010   PSP  3.0000            3.3366  0.3366\n",
      "168_S_6142  ADNI  4.5000            4.1572  0.3428\n",
      "  1_S_5039   CBS  5.5000            5.8593  0.3593\n",
      "036_S_4538  ADNI  4.0000            3.6395  0.3605\n",
      "019_S_6668  ADNI  3.0000            3.4114  0.4114\n",
      "  1_S_5000   CBS  5.0000            5.4952  0.4952\n",
      "  1_S_5042   PSP  5.0000            4.4849  0.5151\n",
      "  4_S_5000   PSP  4.0000            4.5446  0.5446\n",
      "032_S_6602  ADNI  5.0000            5.6286  0.6286\n",
      "011_S_6303  ADNI  5.0000            4.2773  0.7227\n",
      "  1_S_5041   CBS  4.0000            3.2043  0.7957\n",
      "127_S_6433  ADNI  4.0000            4.8183  0.8183\n",
      "168_S_6843  ADNI  3.5000            4.3215  0.8215\n",
      "  1_S_5058   PSP  1.5000            2.3362  0.8362\n",
      "305_S_6810  ADNI  4.5000            5.3536  0.8536\n",
      "035_S_4114  ADNI  1.5000            2.3731  0.8731\n",
      "002_S_6695  ADNI  4.5000            3.6078  0.8922\n",
      "003_S_6479  ADNI  1.5000            2.4509  0.9509\n",
      "  1_S_5016   CBS  2.0000            2.9729  0.9729\n",
      "123_S_6884  ADNI  2.0000            2.9935  0.9935\n",
      "  1_S_5030   PSP  6.0000            5.0045  0.9955\n",
      "  1_S_5070   PSP  3.5000            4.5107  1.0107\n",
      "126_S_4891  ADNI  2.0000            3.0161  1.0161\n",
      "003_S_6606  ADNI  3.0000            4.0537  1.0537\n",
      "037_S_6216  ADNI  4.5000            5.5965  1.0965\n",
      "  1_S_5051   PSP  6.0000            4.8433  1.1567\n",
      "  1_S_5068   PSP  3.5000            4.6694  1.1694\n",
      "130_S_4294  ADNI  5.5000            4.2852  1.2148\n",
      "032_S_6600  ADNI  5.5000            4.1917  1.3083\n",
      "003_S_6264  ADNI  2.5000            3.8157  1.3157\n",
      "  1_S_5091   PSP  6.0000            4.6670  1.3330\n",
      "130_S_2373  ADNI  5.5000            4.1469  1.3531\n",
      "  1_S_5046   CBS  5.0000            3.6398  1.3602\n",
      "  1_S_5064   PSP  1.5000            2.8749  1.3749\n",
      "  4_S_5002   PSP  3.5000            4.8856  1.3856\n",
      "  1_S_5032   PSP  3.5000            4.8891  1.3891\n",
      "  1_S_5008   PSP  4.0000            5.3991  1.3991\n",
      "098_S_6601  ADNI  2.0000            3.4405  1.4405\n",
      "002_S_4654  ADNI  1.5000            2.9702  1.4702\n",
      "126_S_6683  ADNI  4.5000            5.9750  1.4750\n",
      "  1_S_5094   CBS  4.0000            5.4908  1.4908\n",
      "098_S_6655  ADNI  6.5000            4.9857  1.5143\n",
      "137_S_4862  ADNI  1.0000            2.5159  1.5159\n",
      "  1_S_5031   CBS  3.5000            5.0233  1.5233\n",
      "130_S_6072  ADNI  4.5000            2.9556  1.5444\n",
      "099_S_6632  ADNI  1.5000            3.1229  1.6229\n",
      "  1_S_5092   CBS  5.0000            3.3619  1.6381\n",
      "  1_S_5037   PSP  2.0000            3.6587  1.6587\n",
      "016_S_6708  ADNI  2.5000            4.1623  1.6623\n",
      "  1_S_5043   CBS  2.0000            3.6674  1.6674\n",
      "032_S_6700  ADNI  1.5000            3.1758  1.6758\n",
      "  1_S_5061   PSP  5.0000            3.3197  1.6803\n",
      "035_S_6927  ADNI  3.5000            5.2309  1.7309\n",
      "006_S_6252  ADNI  1.0000            2.7672  1.7672\n",
      "098_S_6658  ADNI  2.5000            4.2823  1.7823\n",
      "  5_S_5006   PSP  5.5000            3.5950  1.9050\n",
      "022_S_6796  ADNI  4.0000            5.9176  1.9176\n",
      "  3_S_5000   PSP  2.0000            3.9426  1.9426\n",
      "016_S_6839  ADNI  6.0000            3.9893  2.0107\n",
      "  3_S_5002   PSP  1.5000            3.5646  2.0646\n",
      "  4_S_5006   CBS  5.0000            2.9112  2.0888\n",
      "  1_S_5073   CBS  2.0000            4.0929  2.0929\n",
      "019_S_6483  ADNI  2.0000            4.1288  2.1288\n",
      "067_S_6529  ADNI  2.5000            4.6584  2.1584\n",
      "168_S_6467  ADNI  1.0000            3.1588  2.1588\n",
      "021_S_5237  ADNI  2.0000            4.1591  2.1591\n",
      "  1_S_5040   PSP  2.5000            4.7116  2.2116\n",
      "053_S_6598  ADNI  2.0000            4.2219  2.2219\n",
      "  1_S_5072   CBS  5.5000            3.2694  2.2306\n",
      "305_S_6498  ADNI  0.5000            2.7483  2.2483\n",
      "168_S_6426  ADNI  0.5000            2.7503  2.2503\n",
      "  5_S_5003   PSP  6.5000            4.2161  2.2839\n",
      "  1_S_5006   CBS  7.0000            4.7125  2.2875\n",
      "018_S_2155  ADNI  2.0000            4.2923  2.2923\n",
      "041_S_4510  ADNI  2.5000            4.8273  2.3273\n",
      "  1_S_5029   PSP  2.0000            4.3313  2.3313\n",
      "  1_S_5053   CBS  0.0000            2.3327  2.3327\n",
      "  1_S_5080   PSP  2.5000            4.8378  2.3378\n",
      "099_S_6691  ADNI  0.5000            2.8495  2.3495\n",
      "  1_S_5076   CBS  1.0000            3.3974  2.3974\n",
      "  1_S_5049   PSP  0.0000            2.3975  2.3975\n",
      "  1_S_5078   PSP  0.0000            2.4054  2.4054\n",
      "  1_S_5056   PSP  3.0000            5.4369  2.4369\n",
      "  1_S_5062   PSP  2.5000            4.9489  2.4489\n",
      "  1_S_5098   CBS  2.5000            4.9553  2.4553\n",
      "003_S_6432  ADNI  0.5000            3.0200  2.5200\n",
      "  1_S_5036   CBS  1.5000            4.0325  2.5325\n",
      "021_S_0626  ADNI  6.0000            3.4469  2.5531\n",
      "  1_S_5026   CBS  6.0000            3.4168  2.5832\n",
      "131_S_7032  ADNI  2.0000            4.6122  2.6122\n",
      "  1_S_5074   PSP  2.0000            4.6212  2.6212\n",
      "  1_S_5075   CBS  6.0000            3.3628  2.6372\n",
      "  4_S_5004   PSP  6.0000            3.3444  2.6556\n",
      "126_S_4507  ADNI  8.0000            5.3258  2.6742\n",
      "073_S_6673  ADNI  0.5000            3.1751  2.6751\n",
      "  1_S_5033   PSP  6.0000            3.2819  2.7181\n",
      "  1_S_5013   CBS  1.0000            3.7237  2.7237\n",
      "027_S_6034  ADNI  2.0000            4.7478  2.7478\n",
      "  1_S_5024   CBS  7.5000            4.6865  2.8135\n",
      "  1_S_5079   CBS  1.5000            4.3349  2.8349\n",
      "  1_S_5057   PSP  6.0000            3.1587  2.8413\n",
      "  1_S_5077   PSP  7.0000            4.1575  2.8425\n",
      "301_S_6777  ADNI  2.5000            5.3503  2.8503\n",
      "  1_S_5059   PSP  2.0000            4.8764  2.8764\n",
      "  1_S_5054   CBS  0.5000            3.4443  2.9443\n",
      "011_S_4893  ADNI  7.0000            4.0407  2.9593\n",
      "  1_S_5034   PSP  0.5000            3.4673  2.9673\n",
      "  4_S_5005   PSP  1.0000            4.0180  3.0180\n",
      "  3_S_5003   PSP  1.0000            4.0974  3.0974\n",
      "  1_S_5067   PSP  6.0000            2.8973  3.1027\n",
      "141_S_2333  ADNI  0.5000            3.6033  3.1033\n",
      "036_S_6134  ADNI  1.0000            4.1052  3.1052\n",
      "123_S_6825  ADNI  1.0000            4.1066  3.1066\n",
      "  1_S_5009   CBS  6.0000            2.8329  3.1671\n",
      "116_S_6775  ADNI  1.0000            4.2055  3.2055\n",
      "  1_S_5004   PSP  1.5000            4.7599  3.2599\n",
      "  1_S_5022   CBS  0.5000            3.7798  3.2798\n",
      "  1_S_5044   PSP  6.5000            3.1847  3.3153\n",
      "  1_S_5085   CBS  1.5000            4.8495  3.3495\n",
      "  1_S_5093   PSP  8.0000            4.6462  3.3538\n",
      "941_S_6345  ADNI  2.0000            5.4033  3.4033\n",
      "  1_S_5011   PSP  9.0000            5.5899  3.4101\n",
      "006_S_6682  ADNI  0.5000            3.9753  3.4753\n",
      "  5_S_5004   PSP  1.0000            4.5130  3.5130\n",
      "114_S_6039  ADNI  2.0000            5.5374  3.5374\n",
      "021_S_6312  ADNI  0.0000            3.6262  3.6262\n",
      "003_S_6268  ADNI  0.5000            4.1464  3.6464\n",
      "  1_S_5050   PSP  7.0000            3.3068  3.6932\n",
      "130_S_4415  ADNI  8.0000            4.3056  3.6944\n",
      "  1_S_5018   CBS  1.5000            5.2212  3.7212\n",
      "135_S_6545  ADNI  8.0000            4.2533  3.7467\n",
      "  1_S_5095   PSP  8.0000            4.2426  3.7574\n",
      "  1_S_5003   PSP  1.0000            4.9372  3.9372\n",
      "041_S_4974  ADNI  8.0000            3.9617  4.0383\n",
      "  1_S_5027   CBS  1.0000            5.0682  4.0682\n",
      "  1_S_5028   PSP  8.0000            3.8805  4.1195\n",
      "  1_S_5005   PSP  0.0000            4.1356  4.1356\n",
      "  5_S_5009   CBS  1.0000            5.1655  4.1655\n",
      "  1_S_5060   CBS  1.0000            5.1973  4.1973\n",
      "  5_S_5002   PSP  8.0000            3.7401  4.2599\n",
      "  1_S_5065   CBS  0.0000            4.3443  4.3443\n",
      "  5_S_5001   PSP  1.0000            5.3756  4.3756\n",
      "016_S_4902  ADNI 10.0000            5.5391  4.4609\n",
      "  1_S_5047   PSP  0.5000            5.2816  4.7816\n",
      "  1_S_5021   CBS  0.5000            5.3514  4.8514\n",
      "  1_S_5038   CBS  9.0000            4.0764  4.9236\n",
      "  4_S_5009   CBS  9.0000            4.0429  4.9571\n",
      "036_S_4715  ADNI 11.0000            5.9622  5.0378\n",
      "  1_S_5019   CBS 11.0000            5.8778  5.1222\n",
      "  4_S_5007   PSP  7.5000            2.2879  5.2121\n",
      "  5_S_5007   PSP  9.5000            3.5250  5.9750\n",
      "  4_S_5001   CBS 12.0000            5.9706  6.0294\n",
      "  4_S_5003   PSP 12.0000            4.1456  7.8544\n",
      "  4_S_5010   PSP 12.0000            3.5290  8.4710\n",
      "  3_S_5001   PSP 13.5000            4.5999  8.9001\n",
      "036_S_4430  ADNI 14.0000            4.2306  9.7694\n",
      "  1_S_5023   CBS 16.0000            6.0225  9.9775\n",
      "  1_S_5001   CBS 15.0000            4.8910 10.1090\n",
      "012_S_4188  ADNI 15.0000            4.1640 10.8360\n",
      "  1_S_5007   PSP 18.0000            4.7822 13.2178\n"
     ]
    }
   ],
   "execution_count": 81
  },
  {
   "metadata": {},
   "cell_type": "markdown",
   "source": "# CNN",
   "id": "380f318069b3fb6c"
  },
  {
   "metadata": {},
   "cell_type": "markdown",
   "source": "## Data",
   "id": "f1711f321de2b440"
  },
  {
   "metadata": {},
   "cell_type": "markdown",
   "source": "### Loading",
   "id": "38095013de42f501"
  },
  {
   "metadata": {
    "ExecuteTime": {
     "end_time": "2025-04-28T14:14:51.938403Z",
     "start_time": "2025-04-28T14:14:51.924903Z"
    }
   },
   "cell_type": "code",
   "source": [
    "# Set paths\n",
    "file_name = \"1_S_5005.FDC.nii.gz\"\n",
    "\n",
    "# Load raw image\n",
    "path_temp = os.path.join(dir_FCmaps, file_name)\n",
    "img = nib.load(path_temp)\n",
    "data_raw = img.get_fdata()\n",
    "affine = img.affine"
   ],
   "id": "7f2a50939b845d78",
   "outputs": [],
   "execution_count": 62
  },
  {
   "metadata": {},
   "cell_type": "markdown",
   "source": "### Pre-processing",
   "id": "da9281bf9dd701df"
  },
  {
   "metadata": {
    "ExecuteTime": {
     "end_time": "2025-04-28T14:14:53.007640Z",
     "start_time": "2025-04-28T14:14:52.986804Z"
    }
   },
   "cell_type": "code",
   "source": [
    "# Load GM mask\n",
    "mask = nib.load(gm_mask_path).get_fdata()\n",
    "mask = mask != 0\n",
    "\n",
    "# Parameters\n",
    "threshold = 0.1\n",
    "apply_normalization = True\n",
    "\n",
    "# Threshold\n",
    "data_proc = np.copy(data_raw)\n",
    "data_proc[data_proc < threshold] = 0\n",
    "\n",
    "# Masking\n",
    "data_proc[~mask] = 0\n",
    "\n",
    "# Normalization\n",
    "if apply_normalization:\n",
    "    nonzero = data_proc[data_proc != 0]\n",
    "    if nonzero.size > 0:\n",
    "        min_val = nonzero.min()\n",
    "        max_val = nonzero.max()\n",
    "        if max_val != min_val:\n",
    "            data_proc[data_proc != 0] = (data_proc[data_proc != 0] - min_val) / (max_val - min_val)"
   ],
   "id": "4eab4931485e8eb1",
   "outputs": [],
   "execution_count": 63
  },
  {
   "metadata": {
    "ExecuteTime": {
     "end_time": "2025-04-28T14:14:53.747942Z",
     "start_time": "2025-04-28T14:14:53.695046Z"
    }
   },
   "cell_type": "code",
   "source": [
    "# Output path\n",
    "out_dir = \"/Users/emmatosato/Documents/PhD/ANM_Verona\"\n",
    "base_name = file_name.replace('.nii.gz', '')\n",
    "\n",
    "raw_save_path = os.path.join(out_dir, f\"{base_name}.raw.nii.gz\")\n",
    "nii_save_path = os.path.join(out_dir, f\"{base_name}.processed01.nii.gz\")\n",
    "\n",
    "# Save as .nii.gz\n",
    "raw_img = nib.Nifti1Image(data_raw, affine)\n",
    "nib.save(raw_img, raw_save_path)\n",
    "\n",
    "proc_img = nib.Nifti1Image(data_proc, affine)\n",
    "nib.save(proc_img, nii_save_path)"
   ],
   "id": "1b22ee4888fbedf6",
   "outputs": [],
   "execution_count": 64
  },
  {
   "metadata": {},
   "cell_type": "markdown",
   "source": "## Analysis",
   "id": "85c25fbc94e03f26"
  },
  {
   "metadata": {},
   "cell_type": "markdown",
   "source": "Example of comparison between the raw and processed images",
   "id": "f248c17ac46da548"
  },
  {
   "metadata": {
    "ExecuteTime": {
     "end_time": "2025-04-28T14:19:10.009732Z",
     "start_time": "2025-04-28T14:19:09.981936Z"
    }
   },
   "cell_type": "code",
   "outputs": [],
   "execution_count": 75,
   "source": [
    "# --- Paths ---\n",
    "raw_map_path = '/Users/emmatosato/Documents/PhD/ANM_Verona/1_S_5005.FDC.raw.nii.gz'\n",
    "processed_map_path = '/Users/emmatosato/Documents/PhD/ANM_Verona/1_S_5005.FDC.processed02.nii.gz'\n",
    "\n",
    "# --- Load the NIfTI files ---\n",
    "raw_img = nib.load(raw_map_path).get_fdata()\n",
    "processed_img = nib.load(processed_map_path).get_fdata()\n",
    "\n",
    "# --- Flatten the images ---\n",
    "raw_flat = raw_img.flatten()\n",
    "processed_flat = processed_img.flatten()"
   ],
   "id": "724deb94b605ee4d"
  },
  {
   "metadata": {
    "ExecuteTime": {
     "end_time": "2025-04-28T14:21:33.407639Z",
     "start_time": "2025-04-28T14:21:33.402724Z"
    }
   },
   "cell_type": "code",
   "outputs": [],
   "execution_count": 82,
   "source": [
    "# --- Compare voxels ---\n",
    "# 1. Absolute difference\n",
    "abs_diff = np.abs(raw_flat - processed_flat)\n",
    "\n",
    "# 2. Mean absolute difference\n",
    "mean_abs_diff = abs_diff.mean()\n",
    "\n",
    "# 3. Percentage of voxels that changed\n",
    "changed_voxels = abs_diff > 1e-6  # Mask of changed voxels\n",
    "num_changed_voxels = np.sum(changed_voxels)\n",
    "total_voxels = raw_flat.shape[0]\n",
    "percentage_changed = (num_changed_voxels / total_voxels) * 100\n",
    "\n",
    "# 4. Among changed voxels, percentage that became zero\n",
    "changed_and_now_zero = (processed_flat[changed_voxels] == 0)\n",
    "percentage_changed_to_zero = (np.sum(changed_and_now_zero) / num_changed_voxels) * 100"
   ],
   "id": "ed726519cb67d8da"
  },
  {
   "metadata": {
    "ExecuteTime": {
     "end_time": "2025-04-28T14:21:36.367010Z",
     "start_time": "2025-04-28T14:21:36.363486Z"
    }
   },
   "cell_type": "code",
   "outputs": [
    {
     "name": "stdout",
     "output_type": "stream",
     "text": [
      "Mean absolute difference: 0.018292\n",
      "Percentage of voxels changed: 34.25%\n",
      "Percentage of changed voxels that became zero: 97.50%\n"
     ]
    }
   ],
   "execution_count": 83,
   "source": [
    "# --- Print results ---\n",
    "print(f\"Mean absolute difference: {mean_abs_diff:.6f}\")\n",
    "print(f\"Percentage of voxels changed: {percentage_changed:.2f}%\")\n",
    "print(f\"Percentage of changed voxels that became zero: {percentage_changed_to_zero:.2f}%\")"
   ],
   "id": "37f99701756cdc15"
  },
  {
   "metadata": {
    "ExecuteTime": {
     "end_time": "2025-04-28T14:24:36.824684Z",
     "start_time": "2025-04-28T14:24:36.820121Z"
    }
   },
   "cell_type": "code",
   "outputs": [
    {
     "name": "stdout",
     "output_type": "stream",
     "text": [
      "Examples of changed voxels that stayed NONZERO:\n",
      "Voxel 113695: 0.201731 → 0.005446\n",
      "Voxel 113786: 0.200262 → 0.000803\n",
      "Voxel 113876: 0.203708 → 0.011693\n",
      "Voxel 113967: 0.216750 → 0.052908\n",
      "Voxel 114057: 0.201688 → 0.005309\n",
      "Voxel 114058: 0.214249 → 0.045004\n",
      "Voxel 114148: 0.206350 → 0.020042\n",
      "Voxel 114346: 0.202298 → 0.007239\n",
      "Voxel 114436: 0.210085 → 0.031846\n",
      "Voxel 114437: 0.219474 → 0.061515\n"
     ]
    }
   ],
   "execution_count": 84,
   "source": [
    "# Find indices of changed voxels\n",
    "changed_indices = np.where(abs_diff > 1e-6)[0]\n",
    "\n",
    "# Among changed, select only those that stayed nonzero\n",
    "stayed_nonzero_indices = changed_indices[processed_flat[changed_indices] != 0]\n",
    "\n",
    "# Show first examples\n",
    "num_examples = 10\n",
    "\n",
    "print(\"Examples of changed voxels that stayed NONZERO:\")\n",
    "for idx in stayed_nonzero_indices[:num_examples]:\n",
    "    print(f\"Voxel {idx}: {raw_flat[idx]:.6f} → {processed_flat[idx]:.6f}\")"
   ],
   "id": "66b00873c7a9751b"
  }
 ],
 "metadata": {
  "kernelspec": {
   "display_name": "Python 3",
   "language": "python",
   "name": "python3"
  },
  "language_info": {
   "codemirror_mode": {
    "name": "ipython",
    "version": 2
   },
   "file_extension": ".py",
   "mimetype": "text/x-python",
   "name": "python",
   "nbconvert_exporter": "python",
   "pygments_lexer": "ipython2",
   "version": "2.7.6"
  }
 },
 "nbformat": 4,
 "nbformat_minor": 5
}
