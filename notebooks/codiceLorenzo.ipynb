{
 "cells": [
  {
   "cell_type": "code",
   "id": "1c2c0074",
   "metadata": {
    "ExecuteTime": {
     "end_time": "2025-04-22T13:02:14.495487Z",
     "start_time": "2025-04-22T13:02:13.647045Z"
    }
   },
   "source": [
    "import os\n",
    "import math\n",
    "import glob\n",
    "import numpy as np\n",
    "import pandas as pd\n",
    "import pingouin as pg\n",
    "import nibabel as nib\n",
    "import seaborn as sns\n",
    "from scipy import stats\n",
    "from nilearn import plotting\n",
    "from sklearn.cluster import KMeans\n",
    "from sklearn.metrics import r2_score\n",
    "from matplotlib import pyplot as plt\n",
    "from sklearn.decomposition import PCA\n",
    "from sklearn.metrics import confusion_matrix\n",
    "from scipy.optimize import linear_sum_assignment\n",
    "from sklearn.metrics import accuracy_score, f1_score\n",
    "from sklearn.cross_decomposition import PLSRegression\n",
    "from factor_analyzer.factor_analyzer import calculate_kmo\n",
    "from sklearn.discriminant_analysis import LinearDiscriminantAnalysis\n",
    "from sklearn.model_selection import GridSearchCV, LeaveOneOut, train_test_split\n",
    "from sklearn.metrics import confusion_matrix, balanced_accuracy_score, accuracy_score, f1_score"
   ],
   "outputs": [],
   "execution_count": 1
  },
  {
   "cell_type": "markdown",
   "id": "99cacc33",
   "metadata": {},
   "source": [
    "# 1. LESION FREQUENCY MAPS"
   ]
  },
  {
   "cell_type": "code",
   "id": "522ceec8",
   "metadata": {},
   "source": [
    "path_lesion='/home/lorenzo/Desktop/CODING/MY_PAPERS_ONGOING/Under_Review_PCFDC_June2023/Lesion_PD/PD_core/*gz'\n",
    "frequency_lesion = glob.glob(path_lesion)\n",
    "freqLES=[]\n",
    "for x in frequency_lesion:\n",
    "    d=nib.load(x).get_fdata().flatten()\n",
    "    freqLES.append(d)\n",
    "aff_freq=nib.load(frequency_lesion[0]).affine\n",
    "df_freq=pd.DataFrame(freqLES)\n",
    "df_freq=df_freq.T\n",
    "\n",
    "frequency_map=np.asarray(df_freq.sum(axis=1))\n",
    "mapnii1_freq=frequency_map.reshape(91,109,91)\n",
    "mapfinal1_freq = nib.nifti1.Nifti1Image(mapnii1_freq, aff_freq)\n",
    "dirpath='/home/lorenzo/Desktop/CODING/MY_PAPERS_ONGOING/Under_Review_PCFDC_June2023/'\n",
    "save_freq=dirpath+'frequency_map.nii.gz'\n",
    "nib.save(mapfinal1_freq, save_freq)"
   ],
   "outputs": [],
   "execution_count": null
  },
  {
   "cell_type": "markdown",
   "id": "98816a13",
   "metadata": {},
   "source": [
    "- Load Each Lesion Mask and Flatten It (to 1D vector)\n",
    "\n",
    "- Extract **Affine Transformation Matrix**: This matrix ensures that the output frequency map maintains the same spatial orientation\n",
    "- After transposition:\n",
    "    - *Row*: a single voxel postion across all patients\n",
    "\n",
    "    - *Column*: patient's lesion data\n",
    "\n",
    "- Frequency map is computed\n",
    "- Reshape back to 3D Space\n",
    "- Save as NIfTI File"
   ]
  },
  {
   "cell_type": "raw",
   "id": "d2aecdd5",
   "metadata": {},
   "source": [
    "%%bash\n",
    "wb_command -volume-to-surface-mapping \\\n",
    "    /home/lorenzo/Desktop/CODING/MY_PAPERS_ONGOING/PCFDC_June2023/frequency_map.nii.gz \\\n",
    "    /home/lorenzo/Desktop/ColeAnticevicNetPartition-master/S1200.L.very_inflated_MSMAll.32k_fs_LR.surf.gii \\\n",
    "    /home/lorenzo/Desktop/CODING/MY_PAPERS_ONGOING/PCFDC_June2023/frequency_map.left.shape.gii \\\n",
    "    -trilinear\n",
    "\n",
    "wb_command -volume-to-surface-mapping \\\n",
    "    /home/lorenzo/Desktop/CODING/MY_PAPERS_ONGOING/PCFDC_June2023/frequency_map.nii.gz \\\n",
    "    /home/lorenzo/Desktop/ColeAnticevicNetPartition-master/S1200.R.very_inflated_MSMAll.32k_fs_LR.surf.gii \\\n",
    "    /home/lorenzo/Desktop/CODING/MY_PAPERS_ONGOING/PCFDC_June2023/frequency_map.right.shape.gii \\\n",
    "    -trilinear\n",
    "    \n",
    " wb_view \\\n",
    "    /home/lorenzo/Desktop/ColeAnticevicNetPartition-master/S1200.L.very_inflated_MSMAll.32k_fs_LR.surf.gii \\\n",
    "    /home/lorenzo/Desktop/ColeAnticevicNetPartition-master/S1200.R.very_inflated_MSMAll.32k_fs_LR.surf.gii \\\n",
    "    /home/lorenzo/Desktop/CODING/MY_PAPERS_ONGOING/PCFDC_June2023/frequency_map.left.shape.gii \\\n",
    "    /home/lorenzo/Desktop/CODING/MY_PAPERS_ONGOING/PCFDC_June2023/frequency_map.right.shape.gii     "
   ]
  },
  {
   "cell_type": "markdown",
   "id": "0afa9b8c",
   "metadata": {},
   "source": [
    "# 2. FUNCTIONAL CONNECTIVITY ANALYSIS"
   ]
  },
  {
   "cell_type": "markdown",
   "id": "05c79841",
   "metadata": {},
   "source": [
    "All subjects "
   ]
  },
  {
   "cell_type": "markdown",
   "id": "e793c089",
   "metadata": {},
   "source": [
    "#### Load Functional Connectivity Maps"
   ]
  },
  {
   "cell_type": "code",
   "id": "7dfec040",
   "metadata": {},
   "source": [
    "path='/home/lorenzo/Desktop/CODING/MY_PAPERS_ONGOING/Under_Review_PCFDC_June2023/the_99_subjs/*gz'\n",
    "mapsPCFDC=[]\n",
    "files=glob.glob(path)\n",
    "files.sort()"
   ],
   "outputs": [],
   "execution_count": null
  },
  {
   "cell_type": "markdown",
   "id": "f213d997",
   "metadata": {},
   "source": [
    "#### Flatten and store data"
   ]
  },
  {
   "cell_type": "code",
   "id": "f7fe2655",
   "metadata": {
    "scrolled": true
   },
   "source": [
    "for x in range(len(files)):\n",
    "    print(files[x])\n",
    "    d=nib.load(files[x]).get_fdata().flatten()\n",
    "    mapsPCFDC.append(d)"
   ],
   "outputs": [],
   "execution_count": null
  },
  {
   "cell_type": "markdown",
   "id": "f2c60cba",
   "metadata": {},
   "source": [
    "#### Affine Matrix and Threshold Mask"
   ]
  },
  {
   "cell_type": "code",
   "id": "fe4c6666",
   "metadata": {},
   "source": [
    "aff=nib.load(files[0]).affine\n",
    "df=pd.DataFrame(mapsPCFDC)\n",
    "df=df.T\n",
    "\n",
    "df = df.mask(df < 0.2, 0) # MAKS VALUES LOWER THAN 0.2"
   ],
   "outputs": [],
   "execution_count": null
  },
  {
   "cell_type": "code",
   "id": "2674acb3",
   "metadata": {},
   "source": [
    "files_ = [sub.replace('/home/lorenzo/Desktop/CODING/MY_PAPERS_ONGOING/PCFDC_June2023/the_99_subjs/meanFC.', '') for sub in files]\n",
    "files_ = [sub.replace('.nii.gz', '') for sub in files_]\n",
    "df_fdc=df.T\n",
    "df_fdc.insert(loc = 0, column = 'CODE', value = files_)"
   ],
   "outputs": [],
   "execution_count": null
  },
  {
   "cell_type": "markdown",
   "id": "d51484f3",
   "metadata": {},
   "source": [
    "# 3. PCA ON ALL SUBJECTS"
   ]
  },
  {
   "cell_type": "markdown",
   "id": "1faa5af7",
   "metadata": {},
   "source": [
    "> *Finally, we checked the classification accuracy of network disconnectivity patterns in predicting patients belonging to the low, intermediate, or high survival group. To this end, a principal component analysis (PCA) was applied to the thresholded (conservative) network maps (in voxel space). Kaiser-Meyer-Olkin (KMO) test was run to test the sampling adequacy of the PCA.*"
   ]
  },
  {
   "cell_type": "markdown",
   "id": "11c72cb0",
   "metadata": {},
   "source": [
    "- Principal Component Analysis (PCA) is applied to reduce the dimensionality of brain connectivity data while retaining only the components that explain **>90% of the variance**.\n",
    "\n",
    "- The Kaiser-Meyer-Olkin (KMO) measure is computed to test sample **adequacy** (The closer to 1, the more suitable the data is for PCA).\n",
    "\n",
    "- These PCs serve as **features** for clustering and classification.\n"
   ]
  },
  {
   "cell_type": "markdown",
   "id": "1c494f79",
   "metadata": {},
   "source": [
    "#### Compute PCA"
   ]
  },
  {
   "cell_type": "code",
   "id": "84eb5d70",
   "metadata": {},
   "source": [
    "pca_PCFDC=PCA(n_components=40)\n",
    "pca_components=pca_PCFDC.fit_transform(df)"
   ],
   "outputs": [],
   "execution_count": null
  },
  {
   "cell_type": "markdown",
   "id": "616a5312",
   "metadata": {},
   "source": [
    "#### Compute KMO Measure"
   ]
  },
  {
   "cell_type": "code",
   "id": "84ae5c84",
   "metadata": {},
   "source": [
    "mo_all,kmo_model=calculate_kmo(df)\n",
    "text= 'kmo='+str(round(kmo_model,3))\n",
    "print('kmo is', text)\n",
    "print('')"
   ],
   "outputs": [],
   "execution_count": null
  },
  {
   "cell_type": "markdown",
   "id": "bb28b359",
   "metadata": {},
   "source": [
    "#### Plot Variance Explained"
   ]
  },
  {
   "cell_type": "code",
   "id": "24d1725c",
   "metadata": {},
   "source": [
    "# Variance explained by each component\n",
    "percentage_var_explained = pca_PCFDC.explained_variance_ / np.sum(pca_PCFDC.explained_variance_)\n",
    "percentage_var_explained100=percentage_var_explained*100\n",
    "cum_var_dist=np.cumsum(pca_PCFDC.explained_variance_ratio_)\n",
    "\n",
    "# Parameters\n",
    "n_comp=10\n",
    "g=cum_var_dist[:n_comp]*100\n",
    "y=np.arange(1,n_comp+1)\n",
    "perc=percentage_var_explained100[0:n_comp]\n",
    "\n",
    "# Plotting\n",
    "plt.figure(figsize=(9, 4), dpi=80)\n",
    "plt.bar(y,perc)\n",
    "plt.grid()\n",
    "plt.scatter(y,g)\n",
    "plt.plot(y,g)\n",
    "plt.ylim([0, 100])\n",
    "\n",
    "# Bumber of components explaining more than 90% variance\n",
    "lll=np.where(cum_var_dist>0.90)[0][0]\n",
    "text2='N comp > 90% ='+str(lll)\n",
    "text_kwargs = dict(fontsize=14)\n",
    "#plt.text(0.9, 50, text_voxel_unflip, style='italic', **text_kwargs,\n",
    "#        bbox={'facecolor': 'green', 'alpha': 0.5, 'pad': 10})\n",
    "plt.text(3, 40, text2, style='italic', fontsize=14,\n",
    "        bbox={'facecolor': 'orange', 'alpha': 0.5, 'pad': 10})\n",
    "m='PCFDC_PCA_variance_all_cohort.png'\n",
    "plt.savefig(m, dpi=300, bbox_inches='tight')\n",
    "print(percentage_var_explained100[0:10])"
   ],
   "outputs": [],
   "execution_count": null
  },
  {
   "cell_type": "markdown",
   "id": "39d940c0",
   "metadata": {},
   "source": [
    "- Bar Plot: Each bar represents the variance explained by each principal component (PC).\n",
    "\n",
    "- Line and Scatter Plot: This represents the cumulative variance explained."
   ]
  },
  {
   "cell_type": "markdown",
   "id": "5894f313",
   "metadata": {},
   "source": [
    "#### Save and Visualize Principal Component"
   ]
  },
  {
   "cell_type": "markdown",
   "id": "eb02fa11",
   "metadata": {},
   "source": [
    "##### PC1"
   ]
  },
  {
   "cell_type": "code",
   "id": "80345528",
   "metadata": {},
   "source": [
    "# Extract the PCA component and convert to a dataframe\n",
    "pc1=pca_components[:,0]\n",
    "comp1=pd.DataFrame(df.index)\n",
    "comp1['scores']=pc1\n",
    "comp1.columns=['Parcel', 'Scores']\n",
    "\n",
    "# Create and save NIfTI Image\n",
    "mapfinal1 = nib.nifti1.Nifti1Image(mapnii1, aff)\n",
    "m='PC1_ALL.nii.gz'\n",
    "dirpath='/home/lorenzo/Desktop/CODING/MY_PAPERS_ONGOING/PCFDC_June2023/'\n",
    "save=dirpath+m\n",
    "nib.save(mapfinal1, save)\n",
    "\n",
    "# Visualize\n",
    "plotting.plot_glass_brain(mapfinal1, cmap='coolwarm', threshold=2.8, colorbar=False)\n",
    "#plt.savefig('AHP_AS_PCFDC_PC1.png', dpi=300, bbox_inches='tight')\n",
    "plt.show()"
   ],
   "outputs": [],
   "execution_count": null
  },
  {
   "cell_type": "markdown",
   "id": "53d32af8",
   "metadata": {},
   "source": [
    "`pc1` is a 1D array containing PC scores for each voxel. \n",
    "\n",
    "Than it is copied into a column of the `comp1`, where each row corresponds to a voxel.\n",
    "\n",
    "In the end:\n",
    "\n",
    "- `parcel` contains the index of each voxel\n",
    "\n",
    "- `Scores` contains the PCA score assigned to that voxel \n"
   ]
  },
  {
   "cell_type": "raw",
   "id": "f4b91687",
   "metadata": {},
   "source": [
    "%%bash\n",
    "wb_command -volume-to-surface-mapping \\\n",
    "    /home/lorenzo/Desktop/CODING/MY_PAPERS_ONGOING/PCFDC_June2023/PC1_ALL.nii.gz \\\n",
    "    /home/lorenzo/Desktop/ColeAnticevicNetPartition-master/S1200.L.very_inflated_MSMAll.32k_fs_LR.surf.gii \\\n",
    "    /home/lorenzo/Desktop/CODING/MY_PAPERS_ONGOING/PCFDC_June2023/PC1_ALL.left.shape.gii \\\n",
    "    -trilinear\n",
    "\n",
    "wb_command -volume-to-surface-mapping \\\n",
    "    /home/lorenzo/Desktop/CODING/MY_PAPERS_ONGOING/PCFDC_June2023/PC1_ALL.nii.gz \\\n",
    "    /home/lorenzo/Desktop/ColeAnticevicNetPartition-master/S1200.R.very_inflated_MSMAll.32k_fs_LR.surf.gii \\\n",
    "    /home/lorenzo/Desktop/CODING/MY_PAPERS_ONGOING/PCFDC_June2023/PC1_ALL.right.shape.gii \\\n",
    "    -trilinear\n",
    "    \n",
    " wb_view \\\n",
    "    /home/lorenzo/Desktop/ColeAnticevicNetPartition-master/S1200.L.very_inflated_MSMAll.32k_fs_LR.surf.gii \\\n",
    "    /home/lorenzo/Desktop/ColeAnticevicNetPartition-master/S1200.R.very_inflated_MSMAll.32k_fs_LR.surf.gii \\\n",
    "    /home/lorenzo/Desktop/CODING/MY_PAPERS_ONGOING/PCFDC_June2023/PC1_ALL.left.shape.gii \\\n",
    "    /home/lorenzo/Desktop/CODING/MY_PAPERS_ONGOING/PCFDC_June2023/PC1_ALL.right.shape.gii    "
   ]
  },
  {
   "cell_type": "markdown",
   "id": "fa3d4fb7",
   "metadata": {},
   "source": [
    "##### PC2"
   ]
  },
  {
   "cell_type": "code",
   "id": "72cffeff",
   "metadata": {},
   "source": [
    "pc1=pca_components[:,1]\n",
    "comp1=pd.DataFrame(df.index)\n",
    "comp1['scores']=pc1\n",
    "comp1.columns=['Parcel', 'Scores']\n",
    "#mask=nib.load('leftmask.2mm.nii.gz')\n",
    "f=np.asarray(comp1.Scores)\n",
    "mapnii1=f.reshape(91,109,91)\n",
    "mapfinal1 = nib.nifti1.Nifti1Image(mapnii1, aff)\n",
    "m='PC2_ALL.nii.gz'\n",
    "dirpath='/home/lorenzo/Desktop/CODING/MY_PAPERS_ONGOING/PCFDC_June2023/'\n",
    "save=dirpath+m\n",
    "nib.save(mapfinal1, save)\n",
    "plotting.plot_glass_brain(mapfinal1, cmap='coolwarm', threshold=1, colorbar=False)\n",
    "#plt.savefig('AHP_AS_PCFDC_PC1.png', dpi=300, bbox_inches='tight')\n",
    "plt.show()"
   ],
   "outputs": [],
   "execution_count": null
  },
  {
   "cell_type": "raw",
   "id": "b5bb6fd5",
   "metadata": {},
   "source": [
    "%%bash\n",
    "wb_command -volume-to-surface-mapping \\\n",
    "    /home/lorenzo/Desktop/CODING/MY_PAPERS_ONGOING/PCFDC_June2023/PC2_ALL.nii.gz \\\n",
    "    /home/lorenzo/Desktop/ColeAnticevicNetPartition-master/S1200.L.very_inflated_MSMAll.32k_fs_LR.surf.gii \\\n",
    "    /home/lorenzo/Desktop/CODING/MY_PAPERS_ONGOING/PCFDC_June2023/PC2_ALL.left.shape.gii \\\n",
    "    -trilinear\n",
    "\n",
    "wb_command -volume-to-surface-mapping \\\n",
    "    /home/lorenzo/Desktop/CODING/MY_PAPERS_ONGOING/PCFDC_June2023/PC2_ALL.nii.gz \\\n",
    "    /home/lorenzo/Desktop/ColeAnticevicNetPartition-master/S1200.R.very_inflated_MSMAll.32k_fs_LR.surf.gii \\\n",
    "    /home/lorenzo/Desktop/CODING/MY_PAPERS_ONGOING/PCFDC_June2023/PC2_ALL.right.shape.gii \\\n",
    "    -trilinear\n",
    "    \n",
    " wb_view \\\n",
    "    /home/lorenzo/Desktop/ColeAnticevicNetPartition-master/S1200.L.very_inflated_MSMAll.32k_fs_LR.surf.gii \\\n",
    "    /home/lorenzo/Desktop/ColeAnticevicNetPartition-master/S1200.R.very_inflated_MSMAll.32k_fs_LR.surf.gii \\\n",
    "    /home/lorenzo/Desktop/CODING/MY_PAPERS_ONGOING/PCFDC_June2023/PC2_ALL.left.shape.gii \\\n",
    "    /home/lorenzo/Desktop/CODING/MY_PAPERS_ONGOING/PCFDC_June2023/PC2_ALL.right.shape.gii    "
   ]
  },
  {
   "cell_type": "markdown",
   "id": "538928ce",
   "metadata": {},
   "source": [
    "##### PC3"
   ]
  },
  {
   "cell_type": "code",
   "id": "26224523",
   "metadata": {},
   "source": [
    "pc1=pca_components[:,2]\n",
    "comp1=pd.DataFrame(df.index)\n",
    "comp1['scores']=pc1\n",
    "comp1.columns=['Parcel', 'Scores']\n",
    "#mask=nib.load('leftmask.2mm.nii.gz')\n",
    "f=np.asarray(comp1.Scores)\n",
    "mapnii1=f.reshape(91,109,91)\n",
    "mapfinal1 = nib.nifti1.Nifti1Image(mapnii1, aff)\n",
    "m='PC3_ALL.nii.gz'\n",
    "dirpath='/home/lorenzo/Desktop/CODING/MY_PAPERS_ONGOING/PCFDC_June2023/'\n",
    "save=dirpath+m\n",
    "nib.save(mapfinal1, save)\n",
    "plotting.plot_glass_brain(mapfinal1, cmap='coolwarm', threshold=0.8, colorbar=False)\n",
    "#plt.savefig('AHP_AS_PCFDC_PC1.png', dpi=300, bbox_inches='tight')\n",
    "plt.show()"
   ],
   "outputs": [],
   "execution_count": null
  },
  {
   "cell_type": "raw",
   "id": "ccca1d22",
   "metadata": {},
   "source": [
    "%%bash\n",
    "wb_command -volume-to-surface-mapping \\\n",
    "    /home/lorenzo/Desktop/CODING/MY_PAPERS_ONGOING/PCFDC_June2023/PC3_ALL.nii.gz \\\n",
    "    /home/lorenzo/Desktop/ColeAnticevicNetPartition-master/S1200.L.very_inflated_MSMAll.32k_fs_LR.surf.gii \\\n",
    "    /home/lorenzo/Desktop/CODING/MY_PAPERS_ONGOING/PCFDC_June2023/PC3_ALL.left.shape.gii \\\n",
    "    -trilinear\n",
    "\n",
    "wb_command -volume-to-surface-mapping \\\n",
    "    /home/lorenzo/Desktop/CODING/MY_PAPERS_ONGOING/PCFDC_June2023/PC3_ALL.nii.gz \\\n",
    "    /home/lorenzo/Desktop/ColeAnticevicNetPartition-master/S1200.R.very_inflated_MSMAll.32k_fs_LR.surf.gii \\\n",
    "    /home/lorenzo/Desktop/CODING/MY_PAPERS_ONGOING/PCFDC_June2023/PC3_ALL.right.shape.gii \\\n",
    "    -trilinear\n",
    "    \n",
    " wb_view \\\n",
    "    /home/lorenzo/Desktop/ColeAnticevicNetPartition-master/S1200.L.very_inflated_MSMAll.32k_fs_LR.surf.gii \\\n",
    "    /home/lorenzo/Desktop/ColeAnticevicNetPartition-master/S1200.R.very_inflated_MSMAll.32k_fs_LR.surf.gii \\\n",
    "    /home/lorenzo/Desktop/CODING/MY_PAPERS_ONGOING/PCFDC_June2023/PC3_ALL.left.shape.gii \\\n",
    "    /home/lorenzo/Desktop/CODING/MY_PAPERS_ONGOING/PCFDC_June2023/PC3_ALL.right.shape.gii    "
   ]
  },
  {
   "cell_type": "markdown",
   "id": "c2c22429",
   "metadata": {},
   "source": [
    "##### PC4"
   ]
  },
  {
   "cell_type": "code",
   "id": "af9beb9d",
   "metadata": {},
   "source": [
    "pc1=pca_components[:,3]\n",
    "comp1=pd.DataFrame(df.index)\n",
    "comp1['scores']=pc1\n",
    "comp1.columns=['Parcel', 'Scores']\n",
    "#mask=nib.load('leftmask.2mm.nii.gz')\n",
    "f=np.asarray(comp1.Scores)\n",
    "mapnii1=f.reshape(91,109,91)\n",
    "mapfinal1 = nib.nifti1.Nifti1Image(mapnii1, aff)\n",
    "m='PC4_ALL.nii.gz'\n",
    "dirpath='/home/lorenzo/Desktop/CODING/MY_PAPERS_ONGOING/PCFDC_June2023/'\n",
    "save=dirpath+m\n",
    "nib.save(mapfinal1, save)\n",
    "plotting.plot_glass_brain(mapfinal1, cmap='coolwarm', threshold=0.6, colorbar=False)\n",
    "#plt.savefig('AHP_AS_PCFDC_PC1.png', dpi=300, bbox_inches='tight')\n",
    "plt.show()"
   ],
   "outputs": [],
   "execution_count": null
  },
  {
   "cell_type": "raw",
   "id": "2380c2f2",
   "metadata": {},
   "source": [
    "%%bash\n",
    "wb_command -volume-to-surface-mapping \\\n",
    "    /home/lorenzo/Desktop/CODING/MY_PAPERS_ONGOING/PCFDC_June2023/PC4_ALL.nii.gz \\\n",
    "    /home/lorenzo/Desktop/ColeAnticevicNetPartition-master/S1200.L.very_inflated_MSMAll.32k_fs_LR.surf.gii \\\n",
    "    /home/lorenzo/Desktop/CODING/MY_PAPERS_ONGOING/PCFDC_June2023/PC4_ALL.left.shape.gii \\\n",
    "    -trilinear\n",
    "\n",
    "wb_command -volume-to-surface-mapping \\\n",
    "    /home/lorenzo/Desktop/CODING/MY_PAPERS_ONGOING/PCFDC_June2023/PC4_ALL.nii.gz \\\n",
    "    /home/lorenzo/Desktop/ColeAnticevicNetPartition-master/S1200.R.very_inflated_MSMAll.32k_fs_LR.surf.gii \\\n",
    "    /home/lorenzo/Desktop/CODING/MY_PAPERS_ONGOING/PCFDC_June2023/PC4_ALL.right.shape.gii \\\n",
    "    -trilinear\n",
    "    \n",
    " wb_view \\\n",
    "    /home/lorenzo/Desktop/ColeAnticevicNetPartition-master/S1200.L.very_inflated_MSMAll.32k_fs_LR.surf.gii \\\n",
    "    /home/lorenzo/Desktop/ColeAnticevicNetPartition-master/S1200.R.very_inflated_MSMAll.32k_fs_LR.surf.gii \\\n",
    "    /home/lorenzo/Desktop/CODING/MY_PAPERS_ONGOING/PCFDC_June2023/PC4_ALL.left.shape.gii \\\n",
    "    /home/lorenzo/Desktop/CODING/MY_PAPERS_ONGOING/PCFDC_June2023/PC4_ALL.right.shape.gii  "
   ]
  },
  {
   "cell_type": "markdown",
   "id": "8c8829e0",
   "metadata": {},
   "source": [
    "##### PC5"
   ]
  },
  {
   "cell_type": "code",
   "id": "c358d644",
   "metadata": {},
   "source": [
    "pc1=pca_components[:,4]\n",
    "comp1=pd.DataFrame(df.index)\n",
    "comp1['scores']=pc1\n",
    "comp1.columns=['Parcel', 'Scores']\n",
    "#mask=nib.load('leftmask.2mm.nii.gz')\n",
    "f=np.asarray(comp1.Scores)\n",
    "mapnii1=f.reshape(91,109,91)\n",
    "mapfinal1 = nib.nifti1.Nifti1Image(mapnii1, aff)\n",
    "m='PC5_ALL.nii.gz'\n",
    "dirpath='/home/lorenzo/Desktop/CODING/MY_PAPERS_ONGOING/PCFDC_June2023/'\n",
    "save=dirpath+m\n",
    "nib.save(mapfinal1, save)\n",
    "plotting.plot_glass_brain(mapfinal1, cmap='coolwarm', threshold=0.6, colorbar=False)\n",
    "#plt.savefig('AHP_AS_PCFDC_PC1.png', dpi=300, bbox_inches='tight')\n",
    "plt.show()"
   ],
   "outputs": [],
   "execution_count": null
  },
  {
   "cell_type": "raw",
   "id": "a6f7d21e",
   "metadata": {},
   "source": [
    "%%bash\n",
    "wb_command -volume-to-surface-mapping \\\n",
    "    /home/lorenzo/Desktop/CODING/MY_PAPERS_ONGOING/PCFDC_June2023/PC5_ALL.nii.gz \\\n",
    "    /home/lorenzo/Desktop/ColeAnticevicNetPartition-master/S1200.L.very_inflated_MSMAll.32k_fs_LR.surf.gii \\\n",
    "    /home/lorenzo/Desktop/CODING/MY_PAPERS_ONGOING/PCFDC_June2023/PC5_ALL.left.shape.gii \\\n",
    "    -trilinear\n",
    "\n",
    "wb_command -volume-to-surface-mapping \\\n",
    "    /home/lorenzo/Desktop/CODING/MY_PAPERS_ONGOING/PCFDC_June2023/PC5_ALL.nii.gz \\\n",
    "    /home/lorenzo/Desktop/ColeAnticevicNetPartition-master/S1200.R.very_inflated_MSMAll.32k_fs_LR.surf.gii \\\n",
    "    /home/lorenzo/Desktop/CODING/MY_PAPERS_ONGOING/PCFDC_June2023/PC5_ALL.right.shape.gii \\\n",
    "    -trilinear\n",
    "    \n",
    " wb_view \\\n",
    "    /home/lorenzo/Desktop/ColeAnticevicNetPartition-master/S1200.L.very_inflated_MSMAll.32k_fs_LR.surf.gii \\\n",
    "    /home/lorenzo/Desktop/ColeAnticevicNetPartition-master/S1200.R.very_inflated_MSMAll.32k_fs_LR.surf.gii \\\n",
    "    /home/lorenzo/Desktop/CODING/MY_PAPERS_ONGOING/PCFDC_June2023/PC5_ALL.left.shape.gii \\\n",
    "    /home/lorenzo/Desktop/CODING/MY_PAPERS_ONGOING/PCFDC_June2023/PC5_ALL.right.shape.gii  "
   ]
  },
  {
   "cell_type": "markdown",
   "id": "1497bbc7",
   "metadata": {},
   "source": [
    "# 4. BRAIN VISUALIZATION AND DATA PROCESSING"
   ]
  },
  {
   "cell_type": "code",
   "id": "5719758c",
   "metadata": {},
   "source": [
    "%gui qt\n",
    "from nibabel.freesurfer.mghformat import load\n",
    "from surfer import Brain, project_volume_data\n",
    "from mayavi import mlab"
   ],
   "outputs": [],
   "execution_count": null
  },
  {
   "cell_type": "markdown",
   "id": "aa160faa",
   "metadata": {},
   "source": [
    "#### Load Surface Data\n"
   ]
  },
  {
   "cell_type": "code",
   "id": "3ace05b8",
   "metadata": {},
   "source": [
    "brain = Brain(\"fsaverage\", \"split\", \"pial\",\n",
    "              views=['lat', 'med'], background=\"white\", \n",
    "              subjects_dir='/usr/local/freesurfer/7.3.2/subjects')\n",
    "\n",
    "mri_file = \"PC4_ALL.nii.gz\"\n",
    "reg_file = \"/usr/local/freesurfer/7.3.2/average/mni152.register.dat\"\n",
    "\n",
    "surf_data_lh = project_volume_data(mri_file, \"lh\", reg_file)\n",
    "surf_data_rh = project_volume_data(mri_file, \"rh\", reg_file)\n",
    "\n",
    "brain.add_overlay(surf_data_lh, min=0, max=1, name=\"ang_corr_lh\", hemi='lh')\n",
    "brain.add_overlay(surf_data_rh, min=0, max=1, name=\"ang_corr_rh\", hemi='rh')\n",
    "\n",
    "#brain.save_image(\"CAP1_ALL.png\")"
   ],
   "outputs": [],
   "execution_count": null
  },
  {
   "cell_type": "markdown",
   "id": "8cc89e2f",
   "metadata": {},
   "source": [
    "- Initialize the Brain Visualization\n",
    "\n",
    "- Load the MRI Volume Data\n",
    "\n",
    "- Project Volume Data onto the Surface\n",
    "\n",
    "- Add Overlays to the Brain Visualization"
   ]
  },
  {
   "cell_type": "markdown",
   "id": "6785643e",
   "metadata": {},
   "source": [
    "#### Assign Labels"
   ]
  },
  {
   "cell_type": "markdown",
   "id": "9aa42df4",
   "metadata": {},
   "source": [
    "Load and Clean Subject IDs"
   ]
  },
  {
   "cell_type": "code",
   "id": "fa3f551e",
   "metadata": {},
   "source": [
    "dataset=pd.DataFrame({'ID':files})\n",
    "dataset['ID']=dataset['ID'].replace({'/home/lorenzo/Desktop/CODING/MY_PAPERS_ONGOING/Under_Review_PCFDC_June2023/the_99_subjs/meanFC.':''},regex=True)\n",
    "dataset['ID']=dataset['ID'].replace({'.nii.gz':''},regex=True)\n",
    "dataset.head(5)"
   ],
   "outputs": [],
   "execution_count": null
  },
  {
   "cell_type": "markdown",
   "id": "d4c64aff",
   "metadata": {},
   "source": [
    "Load Subject Groups"
   ]
  },
  {
   "cell_type": "code",
   "id": "c6ae6aaa",
   "metadata": {},
   "source": [
    "low_p='/home/lorenzo/Desktop/CODING/MY_PAPERS_ONGOING/Under_Review_PCFDC_June2023/list_LOW.txt'\n",
    "low= [line.rstrip('\\n') for line in open(low_p)]\n",
    "high_p='/home/lorenzo/Desktop/CODING/MY_PAPERS_ONGOING/Under_Review_PCFDC_June2023/list_HIGH.txt'\n",
    "high= [line.rstrip('\\n') for line in open(high_p)]\n",
    "inter_p='/home/lorenzo/Desktop/CODING/MY_PAPERS_ONGOING/Under_Review_PCFDC_June2023/list_INTERMEDIATE.txt'\n",
    "inter= [line.rstrip('\\n') for line in open(inter_p)]\n",
    "\n",
    "dataset.loc[dataset['ID'].isin(low), 'Label'] = 'low'\n",
    "dataset.loc[dataset['ID'].isin(high), 'Label'] = 'high'\n",
    "dataset.loc[dataset['ID'].isin(inter), 'Label'] = 'intermediate'"
   ],
   "outputs": [],
   "execution_count": null
  },
  {
   "cell_type": "markdown",
   "id": "d15c4ddc",
   "metadata": {},
   "source": [
    "#### Compute PCA Components"
   ]
  },
  {
   "cell_type": "code",
   "id": "fab675c3",
   "metadata": {},
   "source": [
    "comp_df=pca_PCFDC.components_\n",
    "COMP=pca_PCFDC.components_\n",
    "comp_df=pd.DataFrame(COMP)\n",
    "N=comp_df.T\n",
    "N.insert(0, 'Label', dataset['Label'])\n",
    "N.insert(0, 'ID', dataset['ID'])\n",
    "N.head(4)"
   ],
   "outputs": [],
   "execution_count": null
  },
  {
   "cell_type": "markdown",
   "id": "c0f54b66",
   "metadata": {},
   "source": [
    "Convert PCA Component Loadings into a DataFrame. `pca_PCFDC.components_` is a matrix where\n",
    "\n",
    "- *Rows*: Correspond to the original features\n",
    "\n",
    "- *Columns*: Correspond to the principal components\n",
    "\n",
    "Insert Labels and Subject IDs\n",
    "\n",
    "\n"
   ]
  },
  {
   "cell_type": "markdown",
   "id": "9615911f",
   "metadata": {},
   "source": [
    "# 5. CLUSTERING ANALYSIS"
   ]
  },
  {
   "cell_type": "markdown",
   "id": "c15423a3",
   "metadata": {},
   "source": [
    "> *The PCs explaining >90% of the variance were used as features in a Kmeans algorithm. Each time we executed the Kmeans algorithm, we evaluated  two groups to examine the alignment between OS groups (n = 2) and connectivity-based clusters (fixed at k = 2). The OS groups were subsequently compared in pairs to evaluate the consistency between survival stratification and connectivity-based clusters. Classification accuracy was then computed. The same analysis was performed considering the (liberal) unthresholded maps. To ensure the prediction was not influenced by the algorithm selection, we also run a linear discriminant analysis (LDA) with leave-one-out hyperparameter validation (solver: singular value decomposition; least squares; eigenvalue decomposition) splitting the dataset into train (using the 60% of the total dataset) and test sets. The same approach, comparing each time two groups with two connectivity-classes, was adopted considering the original classification of the three OS groups.*"
   ]
  },
  {
   "cell_type": "markdown",
   "id": "8ae77805",
   "metadata": {},
   "source": [
    "\n",
    "##### K-Means\n",
    "\n",
    "- K-Means is an unsupervised learning algorithm that groups subjects based on their connectivity patterns.\n",
    "\n",
    "- Each subject is assigned to one of k clusters.\n",
    "\n",
    "- Instead of clustering on thousands of voxel values, we cluster based on only a few PCs.\n",
    "\n",
    "\n",
    "\n"
   ]
  },
  {
   "cell_type": "markdown",
   "id": "9edc13d6",
   "metadata": {},
   "source": [
    "## K-Means and LDA"
   ]
  },
  {
   "cell_type": "markdown",
   "id": "95d229a1",
   "metadata": {},
   "source": [
    "- K-Means clustering is applied with k=2, meaning we force the data into two clusters based on functional connectivity patterns.\n",
    "\n",
    "- This step is unsupervised, meaning OS labels are NOT used in clustering --> the model **naturally** groups subjects based on connectivity patterns.\n",
    "\n",
    "- Each time in the dataset one survival group is filtered out. The goal is to check how well clustering aligns with different pairs of survival groups (Low, Intermediate, High).\n",
    "\n",
    "- LDA (Linear Discriminant Analysis) is **supervised** because it is explicitly trained using OS labels to find the best separation between survival groups.\n"
   ]
  },
  {
   "cell_type": "markdown",
   "id": "206723ef",
   "metadata": {},
   "source": [
    "### High vs low"
   ]
  },
  {
   "cell_type": "markdown",
   "id": "4d3df782",
   "metadata": {},
   "source": [
    "#### K-Means Clustering"
   ]
  },
  {
   "cell_type": "code",
   "id": "03f79075",
   "metadata": {},
   "source": [
    "# Filters out intermediate subjects\n",
    "Na = N[N.Label!='intermediate']\n",
    "cluster=2\n",
    "\n",
    "# Extracts PCA components\n",
    "X=np.asarray(Na.iloc[:,2:7])\n",
    "print(X.shape)\n",
    "\n",
    "# Performs K-Means clustering\n",
    "kmeans = KMeans(n_clusters=cluster, random_state=1)\n",
    "y_pred = kmeans.fit_predict(X)\n",
    "\n",
    "# Maps ground truth labels\n",
    "Y=np.asarray(Na.Label)\n",
    "mapping = {'low': 1, 'high': 0}\n",
    "Y = [mapping[s] for s in Y]"
   ],
   "outputs": [],
   "execution_count": null
  },
  {
   "cell_type": "code",
   "id": "b169d494",
   "metadata": {},
   "source": [
    "# Evaluates clustering performance\n",
    "print('accuracy', accuracy_score(y_pred, Y))\n",
    "print('balanced accuracy', balanced_accuracy_score(y_pred, Y))\n",
    "print('f1_score', f1_score(Y, y_pred, average='weighted'))"
   ],
   "outputs": [],
   "execution_count": null
  },
  {
   "cell_type": "code",
   "id": "4c3a2e84",
   "metadata": {},
   "source": [
    "# Plots confusion matrix\n",
    "cm = confusion_matrix(Y, y_pred)\n",
    "labels = ['low', 'high']\n",
    "fig, ax = plt.subplots(figsize=(3,3))\n",
    "im = ax.imshow(cm, cmap='Blues')\n",
    "cbar = ax.figure.colorbar(im, ax=ax)\n",
    "ax.set_xticks(np.arange(len(labels)))\n",
    "ax.set_yticks(np.arange(len(labels)))\n",
    "ax.set_xticklabels(labels)\n",
    "ax.set_yticklabels(labels)\n",
    "plt.setp(ax.get_xticklabels(), rotation=0, ha=\"right\", rotation_mode=\"anchor\")\n",
    "for i in range(len(labels)):\n",
    "    for j in range(len(labels)):\n",
    "        text = ax.text(j, i, cm[i, j], ha=\"center\", va=\"center\", color=\"black\")\n",
    "ax.set_title(\"Confusion Matrix\")\n",
    "ax.set_xlabel(\"Predicted label\")\n",
    "ax.set_ylabel(\"True label\")\n",
    "#plt.savefig('confusion_martix_PCFDC_PC1.png', dpi=300, bbox_inches='tight')\n",
    "plt.savefig('KM_high_vs_low.png', dpi=300)\n",
    "plt.show()"
   ],
   "outputs": [],
   "execution_count": null
  },
  {
   "cell_type": "markdown",
   "id": "ece1d569",
   "metadata": {},
   "source": [
    "#### Linear Discriminant Analysis (LDA)"
   ]
  },
  {
   "cell_type": "code",
   "id": "46c7ac54",
   "metadata": {},
   "source": [
    "y=Na.Label\n",
    "X=Na.iloc[:,2:7]\n",
    "\n",
    "X_train, X_test, y_train, y_test = train_test_split(X, y, test_size=0.4, random_state=42, shuffle=True)\n",
    "\n",
    "lda = LinearDiscriminantAnalysis()\n",
    "\n",
    "# Define hyperparameter grid for solver selection\n",
    "param_grid = {\n",
    "    'solver': ['svd', 'lsqr', 'eigen']}\n",
    "\n",
    "# Use Leave-One-Out cross-validation (LOO) for hyperparameter tuning\n",
    "loo = LeaveOneOut()\n",
    "grid_search = GridSearchCV(lda, param_grid, cv=loo)\n",
    "grid_search.fit(X_train, y_train)\n",
    "best_lda_model = grid_search.best_estimator_\n",
    "print(grid_search.best_estimator_.solver)\n",
    "\n",
    "# Predict labels on test set\n",
    "y_lda_pred = best_lda_model.predict(X_test)\n",
    "# Compute overall test accuracy\n",
    "test_accuracy = np.mean(y_lda_pred == y_test)\n",
    "\n",
    "# Predict labels on the whole dataset\n",
    "y_lda_pred_tot = best_lda_model.predict(X)\n"
   ],
   "outputs": [],
   "execution_count": null
  },
  {
   "cell_type": "code",
   "id": "0313daca",
   "metadata": {},
   "source": [
    "# Mapping\n",
    "mapping = {'low': 1, 'high': 0}\n",
    "\n",
    "Y = [mapping[s] for s in y]\n",
    "Yhat_tot = [mapping[s] for s in y_lda_pred_tot]\n",
    "\n",
    "Ytest = [mapping[s] for s in y_test]\n",
    "Yhat = [mapping[s] for s in y_lda_pred]"
   ],
   "outputs": [],
   "execution_count": null
  },
  {
   "cell_type": "code",
   "id": "6b803fee",
   "metadata": {},
   "source": [
    "# Print accuracy metrics\n",
    "print('whole cohort', accuracy_score(Yhat_tot, Y))\n",
    "print('test set', accuracy_score(Yhat, Ytest))\n",
    "print('test set balanced accuracy', balanced_accuracy_score(Yhat, Ytest))\n",
    "\n",
    "#print(f1_score(Ytest, Yhat, average='weighted'))"
   ],
   "outputs": [],
   "execution_count": null
  },
  {
   "cell_type": "code",
   "id": "174814cc",
   "metadata": {},
   "source": [
    "# Confusion matrix Plot\n",
    "cm = confusion_matrix(Y, Yhat_tot)\n",
    "labels = ['Low', 'high']\n",
    "fig, ax = plt.subplots(figsize=(3,3))\n",
    "im = ax.imshow(cm, cmap='Blues')\n",
    "cbar = ax.figure.colorbar(im, ax=ax)\n",
    "ax.set_xticks(np.arange(len(labels)))\n",
    "ax.set_yticks(np.arange(len(labels)))\n",
    "ax.set_xticklabels(labels)\n",
    "ax.set_yticklabels(labels)\n",
    "plt.setp(ax.get_xticklabels(), rotation=0, ha=\"right\", rotation_mode=\"anchor\")\n",
    "for i in range(len(labels)):\n",
    "    for j in range(len(labels)):\n",
    "        text = ax.text(j, i, cm[i, j], ha=\"center\", va=\"center\", color=\"black\")\n",
    "ax.set_title(\"Confusion Matrix\")\n",
    "ax.set_xlabel(\"Predicted label\")\n",
    "ax.set_ylabel(\"True label\")\n",
    "#plt.savefig('confusion_martix_PCFDC_PC1.png', dpi=300, bbox_inches='tight')\n",
    "plt.savefig('LDA_high_vs_low.png', dpi=300)\n",
    "plt.show()"
   ],
   "outputs": [],
   "execution_count": null
  },
  {
   "cell_type": "markdown",
   "id": "aa596af0",
   "metadata": {},
   "source": [
    "### High vs Intermediate"
   ]
  },
  {
   "cell_type": "markdown",
   "id": "aa8a8b45",
   "metadata": {},
   "source": [
    "#### K-Means"
   ]
  },
  {
   "cell_type": "code",
   "id": "598a621a",
   "metadata": {},
   "source": [
    "# Filters out low\n",
    "Na=N[N.Label!='low']\n",
    "cluster=2\n",
    "X=np.asarray(Na.iloc[:,2:7])\n",
    "print(X.shape)\n",
    "#kmeans = KMeans(n_clusters=cluster, random_state=3)\n",
    "kmeans = KMeans(n_clusters=cluster, random_state=1)\n",
    "\n",
    "# Prediction\n",
    "y_pred = kmeans.fit_predict(X)\n",
    "Y=np.asarray(Na.Label)\n",
    "\n",
    "# Mapping\n",
    "mapping = {'intermediate': 0, 'high': 1}\n",
    "Y = [mapping[s] for s in Y]\n",
    "\n",
    "# Evaluation\n",
    "print('accuracy', accuracy_score(y_pred, Y))\n",
    "print('balanced accuracy', balanced_accuracy_score(y_pred, Y))\n",
    "print('f1_score', f1_score(Y, y_pred, average='weighted'))\n",
    "\n",
    "# Confusion matrix\n",
    "cm = confusion_matrix(Y, y_pred)\n",
    "labels = ['Intermediate', 'high']\n",
    "fig, ax = plt.subplots(figsize=(3,3))\n",
    "im = ax.imshow(cm, cmap='Blues')\n",
    "cbar = ax.figure.colorbar(im, ax=ax)\n",
    "ax.set_xticks(np.arange(len(labels)))\n",
    "ax.set_yticks(np.arange(len(labels)))\n",
    "ax.set_xticklabels(labels)\n",
    "ax.set_yticklabels(labels)\n",
    "plt.setp(ax.get_xticklabels(), rotation=0, ha=\"right\", rotation_mode=\"anchor\")\n",
    "for i in range(len(labels)):\n",
    "    for j in range(len(labels)):\n",
    "        text = ax.text(j, i, cm[i, j], ha=\"center\", va=\"center\", color=\"black\")\n",
    "ax.set_title(\"Confusion Matrix\")\n",
    "ax.set_xlabel(\"Predicted label\")\n",
    "ax.set_ylabel(\"True label\")\n",
    "#plt.savefig('confusion_martix_PCFDC_PC1.png', dpi=300, bbox_inches='tight')\n",
    "plt.savefig('KM_high_vs_intermediate.png', dpi=300)\n",
    "plt.show()"
   ],
   "outputs": [],
   "execution_count": null
  },
  {
   "cell_type": "markdown",
   "id": "45aa4b98",
   "metadata": {},
   "source": [
    "#### LDA"
   ]
  },
  {
   "cell_type": "code",
   "id": "b1552c88",
   "metadata": {},
   "source": [
    "# Model\n",
    "y=Na.Label\n",
    "X=Na.iloc[:,2:7]\n",
    "X_train, X_test, y_train, y_test = train_test_split(X, y, test_size=0.4, random_state=42, \n",
    "                                                    shuffle=True)\n",
    "lda = LinearDiscriminantAnalysis()\n",
    "\n",
    "# Fine tuning\n",
    "param_grid = {\n",
    "    'solver': ['svd', 'lsqr', 'eigen']}\n",
    "loo = LeaveOneOut()\n",
    "grid_search = GridSearchCV(lda, param_grid, cv=loo)\n",
    "grid_search.fit(X_train, y_train)\n",
    "\n",
    "best_lda_model = grid_search.best_estimator_\n",
    "\n",
    "# Prediction\n",
    "y_lda_pred = best_lda_model.predict(X_test)\n",
    "test_accuracy = np.mean(y_lda_pred == y_test)\n",
    "y_lda_pred_tot = best_lda_model.predict(X)\n",
    "\n",
    "# Mapping\n",
    "mapping = {'intermediate': 0, 'high': 1}\n",
    "\n",
    "Y = [mapping[s] for s in y]\n",
    "Yhat_tot = [mapping[s] for s in y_lda_pred_tot]\n",
    "\n",
    "Ytest = [mapping[s] for s in y_test]\n",
    "Yhat = [mapping[s] for s in y_lda_pred]\n",
    "\n",
    "# Evaluation\n",
    "print('whole cohort', accuracy_score(Yhat_tot, Y))\n",
    "print('test set', accuracy_score(Yhat, Ytest))\n",
    "print('test set balanced accuracy', balanced_accuracy_score(Yhat, Ytest))\n",
    "#print(f1_score(Ytest, Yhat, average='weighted'))\n",
    "\n",
    "# Confusion matrix\n",
    "cm = confusion_matrix(Y, Yhat_tot)\n",
    "labels = ['intermediate', 'high']\n",
    "fig, ax = plt.subplots(figsize=(3,3))\n",
    "im = ax.imshow(cm, cmap='Blues')\n",
    "cbar = ax.figure.colorbar(im, ax=ax)\n",
    "ax.set_xticks(np.arange(len(labels)))\n",
    "ax.set_yticks(np.arange(len(labels)))\n",
    "ax.set_xticklabels(labels)\n",
    "ax.set_yticklabels(labels)\n",
    "plt.setp(ax.get_xticklabels(), rotation=0, ha=\"right\", rotation_mode=\"anchor\")\n",
    "for i in range(len(labels)):\n",
    "    for j in range(len(labels)):\n",
    "        text = ax.text(j, i, cm[i, j], ha=\"center\", va=\"center\", color=\"black\")\n",
    "ax.set_title(\"Confusion Matrix\")\n",
    "ax.set_xlabel(\"Predicted label\")\n",
    "ax.set_ylabel(\"True label\")\n",
    "#plt.savefig('confusion_martix_PCFDC_PC1.png', dpi=300, bbox_inches='tight')\n",
    "plt.savefig('LDA_high_vs_intermediate.png', dpi=300)\n",
    "plt.show()"
   ],
   "outputs": [],
   "execution_count": null
  },
  {
   "cell_type": "markdown",
   "id": "1d18c356",
   "metadata": {},
   "source": [
    "### Low vs Intermediate"
   ]
  },
  {
   "cell_type": "markdown",
   "id": "88857ca4",
   "metadata": {},
   "source": [
    "#### K-Means"
   ]
  },
  {
   "cell_type": "code",
   "id": "4544c66f",
   "metadata": {},
   "source": [
    "# Filters out high\n",
    "Na=N[N.Label!='high']\n",
    "cluster=2\n",
    "X=np.asarray(Na.iloc[:,2:7])\n",
    "print(X.shape)\n",
    "#kmeans = KMeans(n_clusters=cluster, random_state=3)\n",
    "kmeans = KMeans(n_clusters=cluster, random_state=1)\n",
    "\n",
    "# Prediction\n",
    "y_pred = kmeans.fit_predict(X)\n",
    "Y=np.asarray(Na.Label)\n",
    "\n",
    "# Mapping\n",
    "mapping = {'intermediate': 0, 'low': 1}\n",
    "Y = [mapping[s] for s in Y]\n",
    "\n",
    "# Evaluation\n",
    "print('accuracy', accuracy_score(y_pred, Y))\n",
    "print('balanced accuracy', balanced_accuracy_score(y_pred, Y))\n",
    "print('f1_score', f1_score(Y, y_pred, average='weighted'))\n",
    "\n",
    "# Confusion matrix \n",
    "cm = confusion_matrix(Y, y_pred)\n",
    "labels = ['Intermediate', 'low']\n",
    "fig, ax = plt.subplots(figsize=(3,3))\n",
    "im = ax.imshow(cm, cmap='Blues')\n",
    "cbar = ax.figure.colorbar(im, ax=ax)\n",
    "ax.set_xticks(np.arange(len(labels)))\n",
    "ax.set_yticks(np.arange(len(labels)))\n",
    "ax.set_xticklabels(labels)\n",
    "ax.set_yticklabels(labels)\n",
    "plt.setp(ax.get_xticklabels(), rotation=0, ha=\"right\", rotation_mode=\"anchor\")\n",
    "for i in range(len(labels)):\n",
    "    for j in range(len(labels)):\n",
    "        text = ax.text(j, i, cm[i, j], ha=\"center\", va=\"center\", color=\"black\")\n",
    "ax.set_title(\"Confusion Matrix\")\n",
    "ax.set_xlabel(\"Predicted label\")\n",
    "ax.set_ylabel(\"True label\")\n",
    "#plt.savefig('confusion_martix_PCFDC_PC1.png', dpi=300, bbox_inches='tight')\n",
    "plt.savefig('KM_low_vs_intermediate.png', dpi=300)\n",
    "plt.show()"
   ],
   "outputs": [],
   "execution_count": null
  },
  {
   "cell_type": "markdown",
   "id": "4e976613",
   "metadata": {},
   "source": [
    "#### LDA"
   ]
  },
  {
   "cell_type": "code",
   "id": "4ebf15ea",
   "metadata": {},
   "source": [
    "# LDA\n",
    "y=Na.Label\n",
    "X=Na.iloc[:,2:7]\n",
    "X_train, X_test, y_train, y_test = train_test_split(X, y, test_size=0.4, random_state=42, \n",
    "                                                    shuffle=True)\n",
    "lda = LinearDiscriminantAnalysis()\n",
    "param_grid = {\n",
    "    'solver': ['svd', 'lsqr', 'eigen']}\n",
    "\n",
    "# Fine tuning\n",
    "loo = LeaveOneOut()\n",
    "grid_search = GridSearchCV(lda, param_grid, cv=loo)\n",
    "grid_search.fit(X_train, y_train)\n",
    "\n",
    "best_lda_model = grid_search.best_estimator_\n",
    "\n",
    "y_lda_pred = best_lda_model.predict(X_test)\n",
    "test_accuracy = np.mean(y_lda_pred == y_test)\n",
    "y_lda_pred_tot = best_lda_model.predict(X)\n",
    "\n",
    "# Mapping\n",
    "mapping = {'intermediate': 0, 'low': 1}\n",
    "\n",
    "Y = [mapping[s] for s in y]\n",
    "Yhat_tot = [mapping[s] for s in y_lda_pred_tot]\n",
    "\n",
    "Ytest = [mapping[s] for s in y_test]\n",
    "Yhat = [mapping[s] for s in y_lda_pred]\n",
    "\n",
    "# Evaluation\n",
    "print('whole cohort', accuracy_score(Yhat_tot, Y))\n",
    "print('test set', accuracy_score(Yhat, Ytest))\n",
    "print('test set balanced accuracy', balanced_accuracy_score(Yhat, Ytest))\n",
    "#print(f1_score(Ytest, Yhat, average='weighted'))\n",
    "\n",
    "# Confusion matrix\n",
    "cm = confusion_matrix(Y, Yhat_tot)\n",
    "labels = ['intermediate', 'low']\n",
    "fig, ax = plt.subplots(figsize=(3,3))\n",
    "im = ax.imshow(cm, cmap='Blues')\n",
    "cbar = ax.figure.colorbar(im, ax=ax)\n",
    "ax.set_xticks(np.arange(len(labels)))\n",
    "ax.set_yticks(np.arange(len(labels)))\n",
    "ax.set_xticklabels(labels)\n",
    "ax.set_yticklabels(labels)\n",
    "plt.setp(ax.get_xticklabels(), rotation=0, ha=\"right\", rotation_mode=\"anchor\")\n",
    "for i in range(len(labels)):\n",
    "    for j in range(len(labels)):\n",
    "        text = ax.text(j, i, cm[i, j], ha=\"center\", va=\"center\", color=\"black\")\n",
    "ax.set_title(\"Confusion Matrix\")\n",
    "ax.set_xlabel(\"Predicted label\")\n",
    "ax.set_ylabel(\"True label\")\n",
    "#plt.savefig('confusion_martix_PCFDC_PC1.png', dpi=300, bbox_inches='tight')\n",
    "plt.savefig('LDA_low_vs_intermediate.png', dpi=300)\n",
    "plt.show()"
   ],
   "outputs": [],
   "execution_count": null
  },
  {
   "cell_type": "markdown",
   "id": "66ff245e",
   "metadata": {},
   "source": [
    "## Different stratifications + K-Means"
   ]
  },
  {
   "cell_type": "markdown",
   "id": "ebea43a2",
   "metadata": {},
   "source": [
    "> *Additionally, the Kmeans analysis was repeated considering the extreme groups (lowest vs highest survivors) using different OS percentile for the stratification: i) 50th percentile; ii) 25th and 75th percentiles; and 20th and 80th percentiles.*"
   ]
  },
  {
   "cell_type": "markdown",
   "id": "1adf977b",
   "metadata": {},
   "source": [
    "- The dataset contains OS (Overall Survival) in months.\n",
    "\n",
    "- The OS values are inserted into `N`, which contains brain connectivity features (PCA components), as before.\n"
   ]
  },
  {
   "cell_type": "code",
   "id": "ccd38e49",
   "metadata": {},
   "source": [
    "dataset_OS=pd.read_excel('OS_the_99_subjs.xlsx')\n",
    "dataset_OS.head(5)\n",
    "N.insert(1, 'OS', dataset_OS.OS_months)"
   ],
   "outputs": [],
   "execution_count": null
  },
  {
   "cell_type": "code",
   "id": "fa278690",
   "metadata": {},
   "source": [
    "# Compute quartiles (25th, 50th, and 75th percentile) for OS values\n",
    "percentileOS=np.percentile(N.OS, [25, 50, 75])\n",
    "\n",
    "# Create a binary classification of OS: \"Low\" if below median, \"High\" otherwise\n",
    "a = ['Low' if x < percentileOS[1] else 'High' for x in N.OS]\n",
    "\n",
    "# Create a 4-category classification of OS based on quartiles\n",
    "b = ['Low' if x < percentileOS[0] else 'modlow' if x < percentileOS[1] else 'modhigh' \n",
    "     if x < percentileOS[2] else 'high' for x in N.OS]\n",
    "\n",
    "# Compute quintiles (20th, 40th, 60th, 80th percentile)\n",
    "percentileOS_5=np.percentile(N.OS, [20, 40, 60, 80])\n",
    "\n",
    "# Create a 5-category classification of OS based on quintiles\n",
    "c = ['LowLow' if x < percentileOS_5[0] else 'Low' if x < percentileOS_5[1] else 'moderate' \n",
    "     if x < percentileOS_5[2] else 'High' if x < percentileOS_5[3] else 'HighHigh' for x in N.OS]\n",
    "\n",
    "# Insert newly created categorical labels into the dataset\n",
    "N.insert( 3, 'k_2', a)\n",
    "N.insert( 4, 'k_4', b)\n",
    "N.insert( 5, 'k_5', c)"
   ],
   "outputs": [],
   "execution_count": null
  },
  {
   "cell_type": "markdown",
   "id": "8ccd3e47",
   "metadata": {},
   "source": [
    "Again, the goal of this analysis is to investigate whether functional connectivity patterns can naturally differentiate survival groups using unsupervised clustering (K-Means).\n",
    "\n",
    "\n",
    "Different stratifications:\n",
    "\n",
    "- **Binary Stratification**: \n",
    "\n",
    "    - Simplifies OS comparison into \"Low\" vs. \"High\" groups.\n",
    "\n",
    "    - K-Means is applied with k=2.\n",
    "\n",
    "    - The clusters are compared with the binary OS labels.\n",
    "\n",
    "\n",
    "- **Quartiles**: \n",
    "\n",
    "    - Captures finer OS variations, allowing for a 4-tier classification.\n",
    "\n",
    "        - Low (0-25%)\n",
    "        \n",
    "        - Mod-Low (25-50%)\n",
    "        \n",
    "        - Mod-High (50-75%)\n",
    "        \n",
    "        - High (75-100%)\n",
    "\n",
    "    - K-Means is applied with k=4.\n",
    "    \n",
    "    - The clusters are compared with the quartile OS labels.\n",
    "\n",
    "\n",
    "- **Quintiles**: \n",
    "\n",
    "    - Provides even more detailed survival differentiation.\n",
    "\n",
    "        - Low-Low.\n",
    "\n",
    "        - Low.\n",
    "\n",
    "        - Moderate.\n",
    "\n",
    "        - High.\n",
    "\n",
    "        - High-High.\n",
    "\n",
    "\n",
    "    - K-Means is applied with k=5.\n",
    "\n",
    "\n",
    "These OS Categories are inserted into the Dataset and so each new column contains a different OS classification. Now, K-Means will be tested on each classification.\n",
    "\n"
   ]
  },
  {
   "cell_type": "markdown",
   "id": "2644ca5b",
   "metadata": {},
   "source": [
    "### Binary OS (k=2)"
   ]
  },
  {
   "cell_type": "code",
   "id": "b54900de",
   "metadata": {},
   "source": [
    "# Model\n",
    "Na=N\n",
    "cluster=2\n",
    "X=np.asarray(N.iloc[:,6:11])\n",
    "print(X.shape)\n",
    "#kmeans = KMeans(n_clusters=cluster, random_state=3)\n",
    "kmeans = KMeans(n_clusters=cluster, random_state=1)\n",
    "\n",
    "# Prediction\n",
    "y_pred = kmeans.fit_predict(X)\n",
    "Y=np.asarray(Na.k_2)\n",
    "\n",
    "# Mapping\n",
    "mapping = {'Low': 0, 'High': 1}\n",
    "Y = [mapping[s] for s in Y]\n",
    "\n",
    "# Evaluation\n",
    "print(accuracy_score(y_pred, Y))\n",
    "print(f1_score(Y, y_pred, average='weighted'))\n",
    "\n",
    "# Confusion matrix\n",
    "cm = confusion_matrix(Y, y_pred)\n",
    "labels = ['Low', 'High']\n",
    "fig, ax = plt.subplots(figsize=(3,3))\n",
    "im = ax.imshow(cm, cmap='Blues')\n",
    "cbar = ax.figure.colorbar(im, ax=ax)\n",
    "ax.set_xticks(np.arange(len(labels)))\n",
    "ax.set_yticks(np.arange(len(labels)))\n",
    "ax.set_xticklabels(labels)\n",
    "ax.set_yticklabels(labels)\n",
    "plt.setp(ax.get_xticklabels(), rotation=0, ha=\"right\", rotation_mode=\"anchor\")\n",
    "for i in range(len(labels)):\n",
    "    for j in range(len(labels)):\n",
    "        text = ax.text(j, i, cm[i, j], ha=\"center\", va=\"center\", color=\"black\")\n",
    "ax.set_title(\"Confusion Matrix\")\n",
    "ax.set_xlabel(\"Predicted label\")\n",
    "ax.set_ylabel(\"True label\")\n",
    "plt.savefig('KM_low_vs_high_ksolution2.png', dpi=300)\n",
    "plt.show()"
   ],
   "outputs": [],
   "execution_count": null
  },
  {
   "cell_type": "markdown",
   "id": "6e7ec606",
   "metadata": {},
   "source": [
    "### Quartile OS (k=4)"
   ]
  },
  {
   "cell_type": "markdown",
   "id": "c7313d25",
   "metadata": {},
   "source": [
    "- Clustering into 4 groups.\n",
    "\n",
    "- More complex classification = harder to separate groups."
   ]
  },
  {
   "cell_type": "code",
   "id": "87d3a4f2",
   "metadata": {},
   "source": [
    "# Model\n",
    "Na=N\n",
    "cluster=4\n",
    "X=np.asarray(N.iloc[:,6:11])\n",
    "print(X.shape)\n",
    "#kmeans = KMeans(n_clusters=cluster, random_state=3)\n",
    "kmeans = KMeans(n_clusters=cluster, random_state=1)\n",
    "\n",
    "# Prediction\n",
    "y_pred = kmeans.fit_predict(X)\n",
    "Y=np.asarray(Na.k_4)\n",
    "\n",
    "# Mapping\n",
    "mapping = {'Low': 0, 'modlow': 1, 'modhigh': 2, 'high': 3}\n",
    "Y = [mapping[s] for s in Y]\n",
    "\n",
    "# Evaluation\n",
    "print(accuracy_score(y_pred, Y))\n",
    "print(f1_score(Y, y_pred, average='weighted'))\n",
    "\n",
    "# Confusion matrix\n",
    "cm = confusion_matrix(Y, y_pred)\n",
    "labels = ['Low', 'modlow', 'modhigh', 'high']\n",
    "fig, ax = plt.subplots(figsize=(3,3))\n",
    "im = ax.imshow(cm, cmap='Blues')\n",
    "cbar = ax.figure.colorbar(im, ax=ax)\n",
    "ax.set_xticks(np.arange(len(labels)))\n",
    "ax.set_yticks(np.arange(len(labels)))\n",
    "ax.set_xticklabels(labels)\n",
    "ax.set_yticklabels(labels)\n",
    "plt.setp(ax.get_xticklabels(), rotation=0, ha=\"right\", rotation_mode=\"anchor\")\n",
    "for i in range(len(labels)):\n",
    "    for j in range(len(labels)):\n",
    "        text = ax.text(j, i, cm[i, j], ha=\"center\", va=\"center\", color=\"black\")\n",
    "ax.set_title(\"Confusion Matrix\")\n",
    "ax.set_xlabel(\"Predicted label\")\n",
    "ax.set_ylabel(\"True label\")\n",
    "#plt.savefig('confusion_martix_PCFDC_PC1.png', dpi=300, bbox_inches='tight')\n",
    "plt.savefig('KM_low_vs_high_ksolution2.png', dpi=300)\n",
    "plt.show()"
   ],
   "outputs": [],
   "execution_count": null
  },
  {
   "cell_type": "markdown",
   "id": "eb4aa20d",
   "metadata": {},
   "source": [
    "#### Extreme OS Groups (Low vs. High from k=4)"
   ]
  },
  {
   "cell_type": "markdown",
   "id": "dfb82d13",
   "metadata": {},
   "source": [
    "- Only \"Low\" and \"High\" survival groups from quartiles are kept.\n"
   ]
  },
  {
   "cell_type": "code",
   "id": "f9056b80",
   "metadata": {},
   "source": [
    "# Model\n",
    "Na = N[(N.k_4 == 'Low') | (N.k_4 == 'high')]\n",
    "cluster=2\n",
    "X=np.asarray(Na.iloc[:,6:11])\n",
    "print(X.shape)\n",
    "#kmeans = KMeans(n_clusters=cluster, random_state=3)\n",
    "kmeans = KMeans(n_clusters=cluster, random_state=1)\n",
    "\n",
    "# Prediction\n",
    "y_pred = kmeans.fit_predict(X)\n",
    "Y=np.asarray(Na.k_4)\n",
    "\n",
    "# Mapping\n",
    "mapping = {'Low': 0, 'high': 1}\n",
    "Y = [mapping[s] for s in Y]\n",
    "\n",
    "# Evaluation\n",
    "print(accuracy_score(y_pred, Y))\n",
    "print(f1_score(Y, y_pred, average='weighted'))\n",
    "\n",
    "# Confusion matrix\n",
    "cm = confusion_matrix(Y, y_pred)\n",
    "labels = ['Low', 'high']\n",
    "fig, ax = plt.subplots(figsize=(3,3))\n",
    "im = ax.imshow(cm, cmap='Blues')\n",
    "cbar = ax.figure.colorbar(im, ax=ax)\n",
    "ax.set_xticks(np.arange(len(labels)))\n",
    "ax.set_yticks(np.arange(len(labels)))\n",
    "ax.set_xticklabels(labels)\n",
    "ax.set_yticklabels(labels)\n",
    "plt.setp(ax.get_xticklabels(), rotation=0, ha=\"right\", rotation_mode=\"anchor\")\n",
    "for i in range(len(labels)):\n",
    "    for j in range(len(labels)):\n",
    "        text = ax.text(j, i, cm[i, j], ha=\"center\", va=\"center\", color=\"black\")\n",
    "ax.set_title(\"Confusion Matrix\")\n",
    "ax.set_xlabel(\"Predicted label\")\n",
    "ax.set_ylabel(\"True label\")\n",
    "#plt.savefig('confusion_martix_PCFDC_PC1.png', dpi=300, bbox_inches='tight')\n",
    "plt.savefig('KM_low_vs_high_ksolution4.png', dpi=300)\n",
    "plt.show()"
   ],
   "outputs": [],
   "execution_count": null
  },
  {
   "cell_type": "markdown",
   "id": "7c20c954",
   "metadata": {},
   "source": [
    "### Quintile OS (k=5, Extreme Groups Only)"
   ]
  },
  {
   "cell_type": "markdown",
   "id": "f5060dac",
   "metadata": {},
   "source": [
    "- Clustering only extreme quintile groups."
   ]
  },
  {
   "cell_type": "code",
   "id": "602ed00d",
   "metadata": {},
   "source": [
    "# Model\n",
    "Na = N[(N.k_5 == 'LowLow') | (N.k_5 == 'HighHigh')]\n",
    "cluster=2\n",
    "X=np.asarray(Na.iloc[:,6:11])\n",
    "print(X.shape)\n",
    "#kmeans = KMeans(n_clusters=cluster, random_state=3)\n",
    "kmeans = KMeans(n_clusters=cluster, random_state=1)\n",
    "\n",
    "# Prediction\n",
    "y_pred = kmeans.fit_predict(X)\n",
    "Y=np.asarray(Na.k_5)\n",
    "\n",
    "# Mapping\n",
    "mapping = {'LowLow': 0, 'HighHigh': 1}\n",
    "Y = [mapping[s] for s in Y]\n",
    "print(accuracy_score(y_pred, Y))\n",
    "print(f1_score(Y, y_pred, average='weighted'))\n",
    "\n",
    "# Confusion Matrix\n",
    "cm = confusion_matrix(Y, y_pred)\n",
    "labels = ['LowLow', 'HighHigh']\n",
    "fig, ax = plt.subplots(figsize=(3,3))\n",
    "im = ax.imshow(cm, cmap='Blues')\n",
    "cbar = ax.figure.colorbar(im, ax=ax)\n",
    "ax.set_xticks(np.arange(len(labels)))\n",
    "ax.set_yticks(np.arange(len(labels)))\n",
    "ax.set_xticklabels(labels)\n",
    "ax.set_yticklabels(labels)\n",
    "plt.setp(ax.get_xticklabels(), rotation=0, ha=\"right\", rotation_mode=\"anchor\")\n",
    "for i in range(len(labels)):\n",
    "    for j in range(len(labels)):\n",
    "        text = ax.text(j, i, cm[i, j], ha=\"center\", va=\"center\", color=\"black\")\n",
    "ax.set_title(\"Confusion Matrix\")\n",
    "ax.set_xlabel(\"Predicted label\")\n",
    "ax.set_ylabel(\"True label\")\n",
    "#plt.savefig('confusion_martix_PCFDC_PC1.png', dpi=300, bbox_inches='tight')\n",
    "plt.savefig('KM_low_vs_high_ksolution5.png', dpi=300)\n",
    "plt.show()"
   ],
   "outputs": [],
   "execution_count": null
  },
  {
   "cell_type": "markdown",
   "id": "8e003781",
   "metadata": {},
   "source": [
    "# 6. NETWORK ANALYSIS"
   ]
  },
  {
   "cell_type": "markdown",
   "id": "d34e02f1",
   "metadata": {},
   "source": [
    "## Mean Functional Connectivity Strength Analysis"
   ]
  },
  {
   "cell_type": "markdown",
   "id": "24ee4938",
   "metadata": {},
   "source": [
    "#### Dataset"
   ]
  },
  {
   "cell_type": "markdown",
   "id": "f0f679df",
   "metadata": {},
   "source": [
    "- A is the transposed functional connectivity matrix:\n",
    "\n",
    "    - Rows = Subjects\n",
    "\n",
    "    - Columns = Brain regions/voxels.\n",
    "\n",
    "- Preprocessing"
   ]
  },
  {
   "cell_type": "code",
   "id": "ac48ad0d",
   "metadata": {},
   "source": [
    "# Load the dataset\n",
    "dfmgmt=pd.read_excel('PD_dataset.xlsx', sheet_name='Sheet14')\n",
    "A=df.T\n",
    "\n",
    "#A['group']=dfmgmt['GRUOP_OS']\n",
    "\n",
    "# Replace Zeros with NaN\n",
    "A = A.replace(0, np.nan)\n",
    "\n",
    "# Calculate the average for each subject (row)\n",
    "A['average'] = A.mean(axis=1)"
   ],
   "outputs": [],
   "execution_count": null
  },
  {
   "cell_type": "code",
   "id": "5c1e0bb9",
   "metadata": {},
   "source": [
    "# Strength DataFrame\n",
    "strenght=pd.DataFrame(A['average'])\n",
    "\n",
    "# Survival group labels\n",
    "strenght['group']=dfmgmt.GRUOP_OS"
   ],
   "outputs": [],
   "execution_count": null
  },
  {
   "cell_type": "markdown",
   "id": "be975fa3",
   "metadata": {},
   "source": [
    "#### Statistical Analysis"
   ]
  },
  {
   "cell_type": "markdown",
   "id": "bf87405d",
   "metadata": {},
   "source": [
    "Check:\n",
    "\n",
    "- Check Homogeneity of Variance\n",
    "\n",
    "- Mean for each group\n",
    "\n",
    "- One-Way ANOVA:\n",
    "\n",
    "    - ANOVA tests whether FC means differ significantly across survival groups.\n",
    "\n",
    "    - If p-value < 0.05 → Significant difference in FC across OS groups."
   ]
  },
  {
   "cell_type": "code",
   "id": "f18c3982",
   "metadata": {},
   "source": [
    "print(pg.homoscedasticity(strenght, group='group', dv='average'))\n",
    "print('low',strenght['average'][strenght.group=='low'].mean())\n",
    "print('high',strenght['average'][strenght.group=='high'].mean())\n",
    "print('intermediate',strenght['average'][strenght.group=='intermediate'].mean())\n",
    "aov=pg.anova(data=strenght, dv='average', between='group')\n",
    "aov"
   ],
   "outputs": [],
   "execution_count": null
  },
  {
   "cell_type": "code",
   "id": "a11537ee",
   "metadata": {},
   "source": [
    "pd.set_option('display.max_rows', 10)"
   ],
   "outputs": [],
   "execution_count": null
  },
  {
   "cell_type": "code",
   "id": "d23b6107",
   "metadata": {
    "scrolled": true
   },
   "source": [
    "strenght"
   ],
   "outputs": [],
   "execution_count": null
  },
  {
   "cell_type": "markdown",
   "id": "59ed6cc4",
   "metadata": {},
   "source": [
    "#### Data Visualization: Boxplot of Mean FC Strength"
   ]
  },
  {
   "cell_type": "code",
   "id": "da6cd0ef",
   "metadata": {},
   "source": [
    "fig, f = plt.subplots(1, figsize=(8,7))\n",
    "f=sns.boxplot(y='average', x='group', data=strenght, palette=\"colorblind\", \n",
    "              showfliers = False, notch=True)\n",
    "f=sns.stripplot(y='average', x='group', data=strenght, color='black', alpha=0.6, size=8)\n",
    "plt.ylim(0.21, 0.36)  # Set the desired lower and upper limits for the y-axis\n",
    "t='pval='+str(round(aov['p-unc'][0],3))\n",
    "\n",
    "text_kwargs = dict(fontsize=12)\n",
    "f.text(-0.25, 0.345, t, style='italic', **text_kwargs,\n",
    "        bbox={'facecolor': 'white', 'alpha': 1, 'pad': 8})\n",
    "\n",
    "plt.savefig('FC_strenght.png', dpi=300)"
   ],
   "outputs": [],
   "execution_count": null
  },
  {
   "cell_type": "markdown",
   "id": "9abdbaad",
   "metadata": {},
   "source": [
    "1. Store and Delete Previous Mean FC Values\n",
    "\n",
    "2. Reload and Transpose the Functional Connectivity Matrix"
   ]
  },
  {
   "cell_type": "markdown",
   "id": "bd25bfde",
   "metadata": {},
   "source": [
    "## Mean Functional Connectivity Maps"
   ]
  },
  {
   "cell_type": "markdown",
   "id": "d5dcddeb",
   "metadata": {},
   "source": [
    "#### Dataset restoration"
   ]
  },
  {
   "cell_type": "markdown",
   "id": "53d2e9a8",
   "metadata": {},
   "source": [
    "Restoring the Original Functional Connectivity Data and reintroducing the Group Labels"
   ]
  },
  {
   "cell_type": "code",
   "id": "5cf7b676",
   "metadata": {},
   "source": [
    "# Delete Previous Values\n",
    "col_average=A.average\n",
    "del A\n",
    "\n",
    "# Reload\n",
    "A=df.T\n",
    "A['group']=dfmgmt.GRUOP_OS\n",
    "\n",
    "# Separate data by surival \n",
    "Al=A[A.group=='low']\n",
    "Ai=A[A.group=='intermediate']\n",
    "Ah=A[A.group=='high']\n",
    "\n",
    "Al = Al.drop(columns=['group'])"
   ],
   "outputs": [],
   "execution_count": null
  },
  {
   "cell_type": "markdown",
   "id": "c5821e78",
   "metadata": {},
   "source": [
    "#### Compute Mean FC Map for Low OS Group"
   ]
  },
  {
   "cell_type": "code",
   "id": "bea8f19c",
   "metadata": {},
   "source": [
    "avg_al = Al.mean(axis=0)\n",
    "avg_al=np.asarray(avg_al)\n",
    "mapnii1=avg_al.reshape(91,109,91)\n",
    "mapfinal1 = nib.nifti1.Nifti1Image(mapnii1, aff)\n",
    "m='Low_FCmean.nii.gz'\n",
    "dirpath='/home/lorenzo/Desktop/CODING/MY_PAPERS_ONGOING/Under_Review_PCFDC_June2023/'\n",
    "save=dirpath+m\n",
    "nib.save(mapfinal1, save)\n",
    "plotting.plot_glass_brain(mapfinal1, cmap='coolwarm', threshold=0.3, colorbar=True)\n",
    "plt.savefig('meanFC_low.png', dpi=300, bbox_inches='tight')\n",
    "plt.show()"
   ],
   "outputs": [],
   "execution_count": null
  },
  {
   "cell_type": "markdown",
   "id": "735732d4",
   "metadata": {},
   "source": [
    "#### Compute Mean FC Map for Intermediate OS Group"
   ]
  },
  {
   "cell_type": "code",
   "id": "04ed3f73",
   "metadata": {},
   "source": [
    "avg_ai = Ai.mean(axis=0)\n",
    "avg_ai=np.asarray(avg_ai)\n",
    "mapnii1=avg_ai.reshape(91,109,91)\n",
    "mapfinal1 = nib.nifti1.Nifti1Image(mapnii1, aff)\n",
    "m='Intermediate_FCmean.nii.gz'\n",
    "dirpath='/home/lorenzo/Desktop/CODING/MY_PAPERS_ONGOING/Under_Review_PCFDC_June2023/'\n",
    "save=dirpath+m\n",
    "nib.save(mapfinal1, save)\n",
    "plotting.plot_glass_brain(mapfinal1, cmap='coolwarm', threshold=0.3, colorbar=True)\n",
    "plt.savefig('meanFC_intermediate.png', dpi=300, bbox_inches='tight')\n",
    "plt.show()"
   ],
   "outputs": [],
   "execution_count": null
  },
  {
   "cell_type": "markdown",
   "id": "2a85e0ae",
   "metadata": {},
   "source": [
    "#### Compute Mean FC Map for High OS Group"
   ]
  },
  {
   "cell_type": "code",
   "id": "82f746c1",
   "metadata": {},
   "source": [
    "avg_ah = Ah.mean(axis=0)\n",
    "avg_ah=np.asarray(avg_ah)\n",
    "mapnii1=avg_ah.reshape(91,109,91)\n",
    "mapfinal1 = nib.nifti1.Nifti1Image(mapnii1, aff)\n",
    "m='High_FCmean.nii.gz'\n",
    "dirpath='/home/lorenzo/Desktop/CODING/MY_PAPERS_ONGOING/Under_Review_PCFDC_June2023/'\n",
    "save=dirpath+m\n",
    "nib.save(mapfinal1, save)\n",
    "plotting.plot_glass_brain(mapfinal1, cmap='coolwarm', threshold=0.3, colorbar=True)\n",
    "plt.savefig('meanFC_high.png', dpi=300, bbox_inches='tight')\n",
    "plt.show()"
   ],
   "outputs": [],
   "execution_count": null
  },
  {
   "cell_type": "markdown",
   "id": "f66f15a6",
   "metadata": {},
   "source": [
    "#### Load the Functional Connectivity Maps"
   ]
  },
  {
   "cell_type": "code",
   "id": "dd09be81",
   "metadata": {},
   "source": [
    "hg_map=nib.load('High_FCmean.nii.gz').get_fdata().flatten()\n",
    "lw_map=nib.load('Low_FCmean.nii.gz').get_fdata().flatten()\n",
    "it_map=nib.load('Intermediate_FCmean.nii.gz').get_fdata().flatten()"
   ],
   "outputs": [],
   "execution_count": null
  },
  {
   "cell_type": "markdown",
   "id": "0ca98d1e",
   "metadata": {},
   "source": [
    "#### Scatter Plots for Each Pair of Survival Groups"
   ]
  },
  {
   "cell_type": "code",
   "id": "98f90f5c",
   "metadata": {},
   "source": [
    "fig, ax = plt.subplots(1,3, figsize=(12,4))\n",
    "ax[0].scatter(hg_map,lw_map, linewidth=0.8, color='salmon', edgecolor='k')\n",
    "ax[1].scatter(hg_map,it_map, linewidth=0.8, color='gold', edgecolor='k')\n",
    "ax[2].scatter(it_map,lw_map, linewidth=0.8, color='limegreen', edgecolor='k')\n",
    "\n",
    "aaaa=round(stats.pearsonr(hg_map,lw_map)[0],3)\n",
    "bbbb=round(stats.pearsonr(hg_map,it_map)[0],3)\n",
    "cccc=round(stats.pearsonr(lw_map,it_map)[0],3)\n",
    "\n",
    "ax[0].text(0.05, 0.4, aaaa, style='italic', fontsize=12,\n",
    "        bbox={'facecolor': 'white', 'alpha': 0.5, 'pad': 8})\n",
    "\n",
    "ax[1].text(0.05, 0.4, bbbb, style='italic', fontsize=12,\n",
    "        bbox={'facecolor': 'white', 'alpha': 0.5, 'pad': 8})\n",
    "\n",
    "ax[2].text(0.05, 0.4, cccc, style='italic', fontsize=12,\n",
    "        bbox={'facecolor': 'white', 'alpha': 0.5, 'pad': 8})\n",
    "\n",
    "plt.savefig('scatter_meanMap_OS.png', dpi=300)"
   ],
   "outputs": [],
   "execution_count": null
  },
  {
   "cell_type": "markdown",
   "id": "56055d30",
   "metadata": {},
   "source": [
    "## Network-Level Analysis Using Yeo Templates"
   ]
  },
  {
   "cell_type": "markdown",
   "id": "e4b6a74e",
   "metadata": {},
   "source": [
    "> *Moreover, for each participant, network maps were associated to a specific Yeo’s map through a “winner-take-all-approach” based on spatial correlation (Pearson’s coefficient). A chi square statistic was applied to investigate whether OS groups showed a different distribution on network assignments. Additionally, we carried out an additional analysis to assess the differences in correlation between network maps and network templates between groups using a repeated measures ANOVA. This analysis included the network template as the within factor and group as the between factor. The interaction between group and network was significant at p < 0.05.*"
   ]
  },
  {
   "cell_type": "markdown",
   "id": "e6e5200e",
   "metadata": {},
   "source": [
    "#### Load Yeo network templates"
   ]
  },
  {
   "cell_type": "code",
   "id": "5f8bae4a",
   "metadata": {},
   "source": [
    "VIS=nib.load('Yeo_NET/VIS.nii.gz').get_fdata().flatten()\n",
    "VAN=nib.load('Yeo_NET/SN.nii.gz').get_fdata().flatten()\n",
    "DAN=nib.load('Yeo_NET/DAN.nii.gz').get_fdata().flatten()\n",
    "DMN=nib.load('Yeo_NET/DMN.nii.gz').get_fdata().flatten()\n",
    "LMB=nib.load('Yeo_NET/LMB.nii.gz').get_fdata().flatten()\n",
    "FPN=nib.load('Yeo_NET/FPN.nii.gz').get_fdata().flatten()\n",
    "SMN=nib.load('Yeo_NET/SMN.nii.gz').get_fdata().flatten()"
   ],
   "outputs": [],
   "execution_count": null
  },
  {
   "cell_type": "code",
   "id": "210447fd",
   "metadata": {},
   "source": [
    "A=A.drop(columns=['group'])"
   ],
   "outputs": [],
   "execution_count": null
  },
  {
   "cell_type": "markdown",
   "id": "218b7a0b",
   "metadata": {},
   "source": [
    "#### Compute Pearson Correlations"
   ]
  },
  {
   "cell_type": "markdown",
   "id": "8e1f23fb",
   "metadata": {},
   "source": [
    "For each subject, computes Pearson correlation between their FC pattern and each Yeo network."
   ]
  },
  {
   "cell_type": "code",
   "id": "f7344f42",
   "metadata": {},
   "source": [
    "st_VIS=[]\n",
    "st_SMN=[]\n",
    "st_FPN=[]\n",
    "st_DMN=[]\n",
    "st_LMB=[]\n",
    "st_VAN=[]\n",
    "st_DAN=[]\n",
    "\n",
    "for x in range(len(A)):\n",
    "    st_VIS.append(stats.pearsonr(A.loc[x], VIS)[0])\n",
    "    st_DAN.append(stats.pearsonr(A.loc[x], DAN)[0])\n",
    "    st_VAN.append(stats.pearsonr(A.loc[x], VAN)[0])\n",
    "    st_DMN.append(stats.pearsonr(A.loc[x], DMN)[0])\n",
    "    st_FPN.append(stats.pearsonr(A.loc[x], FPN)[0])\n",
    "    st_SMN.append(stats.pearsonr(A.loc[x], SMN)[0])\n",
    "    st_LMB.append(stats.pearsonr(A.loc[x], LMB)[0])"
   ],
   "outputs": [],
   "execution_count": null
  },
  {
   "cell_type": "markdown",
   "id": "d64bf52c",
   "metadata": {},
   "source": [
    "#### Store Correlations in a DataFrame & Visualize"
   ]
  },
  {
   "cell_type": "code",
   "id": "defc5304",
   "metadata": {},
   "source": [
    "F={'SMN':st_SMN, 'VIS':st_VIS,\n",
    "   'VAN':st_VAN,'DAN':st_DAN,\n",
    "   'FPN':st_FPN,'DMN':st_DMN,\n",
    "   'LMB':st_LMB}\n",
    "df_corr=pd.DataFrame(F)"
   ],
   "outputs": [],
   "execution_count": null
  },
  {
   "cell_type": "markdown",
   "id": "cd8ed044",
   "metadata": {},
   "source": [
    "#### Statistical Analysis"
   ]
  },
  {
   "cell_type": "code",
   "id": "d1354e8f",
   "metadata": {},
   "source": [
    "fig, f = plt.subplots(1, figsize=(14,6))\n",
    "rainbow_palette = sns.color_palette('rainbow')\n",
    "sns.boxplot(df_corr, showfliers=False, palette=rainbow_palette, width=1, notch=False)\n",
    "f=sns.stripplot(df_corr, color='black', alpha=0.4, size=6)\n",
    "plt.savefig('Network_correlation.png', dpi=300)"
   ],
   "outputs": [],
   "execution_count": null
  },
  {
   "cell_type": "code",
   "id": "723cf328",
   "metadata": {},
   "source": [
    "concatenated_df = pd.melt(df_corr, value_vars=df_corr.columns,\n",
    "                          var_name='Label', value_name='Value')\n",
    "print(pg.homoscedasticity(concatenated_df, group='Label', dv='Value'))\n",
    "aov=pg.welch_anova(data=concatenated_df, dv='Value', between='Label')\n",
    "print(aov)\n",
    "pg.pairwise_gameshowell(data=concatenated_df, dv='Value', between='Label')"
   ],
   "outputs": [],
   "execution_count": null
  },
  {
   "cell_type": "markdown",
   "id": "c6de9ed9",
   "metadata": {},
   "source": [
    "## Winner-Take-All Network Classification & Survival Prediction"
   ]
  },
  {
   "cell_type": "code",
   "id": "f4d64c6d",
   "metadata": {},
   "source": [
    "A = A.replace(0, np.nan)\n",
    "A['average'] = A.mean(axis=1)"
   ],
   "outputs": [],
   "execution_count": null
  },
  {
   "cell_type": "code",
   "id": "acdf719e",
   "metadata": {},
   "source": [
    "pos=[]\n",
    "for x in range(len(df_corr)):\n",
    "    pos.append(np.where(df_corr.loc[x] == np.amax(df_corr.loc[x]))[0][0])\n",
    "A['Network']=pos\n",
    "B = A[[\"Network\", \"average\"]]\n",
    "fig, f = plt.subplots(1, figsize=(14,6))\n",
    "rainbow_palette = sns.color_palette('rainbow')\n",
    "sns.boxplot(B, showfliers=False, x='Network', y='average', palette=rainbow_palette, width=1, notch=False)\n",
    "f=sns.stripplot(B, x='Network', y='average', color='black', alpha=0.4, size=10)\n",
    "plt.savefig('Network_WinnerTakeAll_strenght.png', dpi=300)"
   ],
   "outputs": [],
   "execution_count": null
  },
  {
   "cell_type": "code",
   "id": "890e3eb2",
   "metadata": {},
   "source": [
    "df_corr['OS']=os.OS_months\n",
    "# Load the data\n",
    "X = df_corr.iloc[:, 0:6]\n",
    "Y = df_corr['OS']  \n",
    "\n",
    "x_train, x_test, y_train, y_test = train_test_split(X, Y, test_size=0.2, random_state=12)\n",
    "alphas = np.linspace(0.000001, 100, 100)\n",
    "loo = LeaveOneOut()\n",
    "\n",
    "steps = [\n",
    "    ('scaler', StandardScaler()),\n",
    "    ('lasso', LassoCV(alphas=alphas, cv=loo, random_state=12))\n",
    "]\n",
    "\n",
    "pipeline = Pipeline(steps)\n",
    "pipeline.fit(x_train, y_train)\n",
    "\n",
    "best_alpha = pipeline.named_steps['lasso'].alpha_\n",
    "print(f'Best alpha: {best_alpha}')\n",
    "\n",
    "lasso_best = Lasso(alpha=best_alpha, random_state=0)\n",
    "lasso_best.fit(x_train, y_train)\n",
    "\n",
    "lasso_best_score = lasso_best.score(x_test, y_test)\n",
    "print(f'Lasso with best alpha score on test set: {lasso_best_score}')\n",
    "y_pred=lasso_best.predict(x_test)\n",
    "print(r2_score(y_test,y_pred))\n",
    "plt.scatter(y_test,y_pred)"
   ],
   "outputs": [],
   "execution_count": null
  },
  {
   "cell_type": "code",
   "id": "08411c11",
   "metadata": {},
   "source": [
    "C=B[B.Network!=6]\n",
    "print(len(B), len(C))\n",
    "\n",
    "pd.set_option('display.max_rows', None)\n",
    "print(pg.homoscedasticity(C, group='Network', dv='average'))\n",
    "aov=pg.welch_anova(data=C, dv='average', between='Network')\n",
    "print(aov)\n",
    "pg.pairwise_gameshowell(data=C, dv='average', between='Network')"
   ],
   "outputs": [],
   "execution_count": null
  },
  {
   "cell_type": "code",
   "id": "3a201e7c",
   "metadata": {},
   "source": [
    "C['Group']=dfmgmt.GRUOP_OS\n",
    "C.drop(columns='average', inplace=True)\n",
    "associations = {0: 'SMN', 1: 'VIS', 2: 'VAN', 3: 'DAN', 4: 'FPN', 5: 'DMN', 6: 'LMB'}\n",
    "C['Network'] = C['Network'].replace(associations)"
   ],
   "outputs": [],
   "execution_count": null
  },
  {
   "cell_type": "code",
   "id": "e34ba97b",
   "metadata": {},
   "source": [
    "from scipy.stats import chi2_contingency\n",
    "contigency = pd.crosstab(C['Network'], C['Group'], normalize=False)\n",
    "plt.figure(figsize=(7,5)) \n",
    "sns.heatmap(contigency, annot=False, cmap=\"gray_r\")\n",
    "c, p, dof, expected = chi2_contingency(contigency) # Print the p-value\n",
    "print(p)\n",
    "plt.savefig('contingency_map_3OSgroups.png', dpi=300)"
   ],
   "outputs": [],
   "execution_count": null
  },
  {
   "cell_type": "code",
   "id": "de004d5c",
   "metadata": {},
   "source": [
    "C2=C[C.Group!='intermediate']\n",
    "contigency = pd.crosstab(C2['Network'], C2['Group'], normalize=False)\n",
    "plt.figure(figsize=(4,4)) \n",
    "sns.heatmap(contigency, annot=False, cmap=\"gray_r\")\n",
    "c, p, dof, expected = chi2_contingency(contigency) # Print the p-value\n",
    "print(p)\n",
    "plt.savefig('contingency_map_High_Low.png', dpi=300)"
   ],
   "outputs": [],
   "execution_count": null
  },
  {
   "cell_type": "code",
   "id": "ce4809cc",
   "metadata": {},
   "source": [
    "### REVISION - ENSURE WINNER-TAKE-ALL-APPROACH\n",
    "\n",
    "fig, ax= plt.subplots(2,2, figsize=(12,8))\n",
    "df_corr_ordered=df_corr.sort_values(by=['SMN'], ascending=False)\n",
    "sns.heatmap(df_corr_ordered, vmax=0.6, vmin=0.1, cmap='coolwarm', ax=ax[0,0])\n",
    "df_corr_ordered=df_corr.sort_values(by=['VIS'], ascending=False)\n",
    "first_column = df_corr_ordered.pop('VIS') \n",
    "df_corr_ordered.insert(0, 'VIS', first_column) \n",
    "sns.heatmap(df_corr_ordered, vmax=0.6, vmin=0.1, cmap='coolwarm', ax=ax[0,1])\n",
    "df_corr_ordered=df_corr.sort_values(by=['DMN'], ascending=False)\n",
    "first_column = df_corr_ordered.pop('DMN') \n",
    "df_corr_ordered.insert(0, 'DMN', first_column) \n",
    "sns.heatmap(df_corr_ordered, vmax=0.6, vmin=0.1, cmap='coolwarm', ax=ax[1,0])\n",
    "\n",
    "df_corr_ordered=df_corr.sort_values(by=['FPN'], ascending=False)\n",
    "first_column = df_corr_ordered.pop('FPN') \n",
    "df_corr_ordered.insert(0, 'FPN', first_column) \n",
    "sns.heatmap(df_corr_ordered, vmax=0.6, vmin=0.1, cmap='coolwarm', ax=ax[1,1])\n",
    "\n",
    "plt.savefig('take_all.png', dpi=300)"
   ],
   "outputs": [],
   "execution_count": null
  },
  {
   "cell_type": "code",
   "id": "e4f517aa",
   "metadata": {},
   "source": [
    "df_corr['Group']=dfmgmt.GRUOP_OS\n",
    "df_corr.insert(0, 'SubjID', range(len(df_corr)))\n",
    "df_long = df_corr.melt(id_vars=['Group', 'SubjID'], var_name='Network', value_name='Value')\n",
    "df_long['SubjID']=df_long['SubjID'].astype('str')\n",
    "df_long.dtypes"
   ],
   "outputs": [],
   "execution_count": null
  },
  {
   "cell_type": "code",
   "id": "ce9d2960",
   "metadata": {},
   "source": [
    "df_long = df_corr.melt(id_vars=['Group', 'SubjID'], var_name='Network', value_name='Value')\n",
    "df_long['SubjID']=df_long['SubjID'].astype('str')\n",
    "df_long.dtypes"
   ],
   "outputs": [],
   "execution_count": null
  },
  {
   "cell_type": "code",
   "id": "3f9ae424",
   "metadata": {},
   "source": [
    "pg.mixed_anova(dv='Value', between='Group', within='Network', \n",
    "                subject='SubjID', data=df_long)\n",
    "# pairwise tests\n",
    "#pg.pairwise_ttests(data=df_long, dv='Value', between='Group', \n",
    "#                    within='Network', subject='SubjID')"
   ],
   "outputs": [],
   "execution_count": null
  },
  {
   "cell_type": "code",
   "id": "8d4179a1",
   "metadata": {},
   "source": [
    "from patsy.contrasts import Treatment\n",
    "from statsmodels.formula.api import mixedlm\n",
    "# Define the formula with a specified reference level for Group\n",
    "formula = \"Value ~ C(Network)*C(Group, Treatment(reference='low'))\"\n",
    "\n",
    "# Fit mixed ANOVA model\n",
    "model = mixedlm(formula, data=df_long, groups=df_long[\"SubjID\"])\n",
    "result = model.fit()\n",
    "\n",
    "print(result.summary())"
   ],
   "outputs": [],
   "execution_count": null
  },
  {
   "cell_type": "code",
   "id": "d8f96880",
   "metadata": {},
   "source": [
    "import statsmodels.api as sm\n",
    "\n",
    "# Fit mixed ANOVA model\n",
    "model = mixedlm(\"Value ~ C(Network)*C(Group)\", data=df_long, \n",
    "                groups=df_long[\"SubjID\"])\n",
    "result = model.fit()\n",
    "\n",
    "print(result.summary())"
   ],
   "outputs": [],
   "execution_count": null
  },
  {
   "cell_type": "markdown",
   "id": "5f1fb57c",
   "metadata": {},
   "source": [
    "# 7. PCA ON SURVIVAL GROUPS"
   ]
  },
  {
   "cell_type": "code",
   "id": "0d5efc47",
   "metadata": {},
   "source": [
    "%reset -f\n",
    "import math\n",
    "import glob\n",
    "import numpy as np\n",
    "import pandas as pd\n",
    "import pingouin as pg\n",
    "import nibabel as nib\n",
    "import seaborn as sns\n",
    "from scipy import stats\n",
    "import umap.umap_ as umap\n",
    "from nilearn import plotting\n",
    "from sklearn.cluster import KMeans\n",
    "from sklearn.metrics import r2_score\n",
    "from matplotlib import pyplot as plt\n",
    "from sklearn.decomposition import PCA\n",
    "from sklearn.mixture import GaussianMixture\n",
    "from sklearn.metrics import confusion_matrix\n",
    "from scipy.optimize import linear_sum_assignment\n",
    "from sklearn.metrics import accuracy_score, f1_score\n",
    "from sklearn.cross_decomposition import PLSRegression\n",
    "from factor_analyzer.factor_analyzer import calculate_kmo\n",
    "from sklearn.discriminant_analysis import LinearDiscriminantAnalysis\n",
    "from sklearn.metrics import confusion_matrix, accuracy_score, f1_score\n",
    "from sklearn.model_selection import GridSearchCV, LeaveOneOut, train_test_split"
   ],
   "outputs": [],
   "execution_count": null
  },
  {
   "cell_type": "markdown",
   "id": "dfc96257",
   "metadata": {},
   "source": [
    "## Low survival <6 months"
   ]
  },
  {
   "cell_type": "code",
   "id": "fbd6b14d",
   "metadata": {},
   "source": [
    "path='/home/lorenzo/Desktop/CODING/MY_PAPERS_ONGOING/PCFDC_June2023/LOW/*gz'\n",
    "mapsPCFDC=[]\n",
    "files=glob.glob(path)\n",
    "for x in range(len(files)):\n",
    "    d=nib.load(files[x]).get_fdata().flatten()\n",
    "    mapsPCFDC.append(d)\n",
    "aff=nib.load(files[0]).affine\n",
    "df=pd.DataFrame(mapsPCFDC)\n",
    "df=df.T\n",
    "\n",
    "df = df.mask(df < 0.2, 0) # MAKS VALUES LOWER THAN 0.2"
   ],
   "outputs": [],
   "execution_count": null
  },
  {
   "cell_type": "code",
   "id": "20c5b437",
   "metadata": {},
   "source": [
    "pca_PCFDC=PCA()\n",
    "pca_components=pca_PCFDC.fit_transform(df)\n",
    "\n",
    "mo_all,kmo_model=calculate_kmo(df)\n",
    "text= 'kmo='+str(round(kmo_model,3))\n",
    "print('kmo is', text)\n",
    "print('')\n",
    "percentage_var_explained = pca_PCFDC.explained_variance_ / np.sum(pca_PCFDC.explained_variance_);\n",
    "percentage_var_explained100=percentage_var_explained*100\n",
    "cum_var_dist=np.cumsum(pca_PCFDC.explained_variance_ratio_)"
   ],
   "outputs": [],
   "execution_count": null
  },
  {
   "cell_type": "code",
   "id": "1f5d621f",
   "metadata": {},
   "source": [
    "n_comp=10\n",
    "g=cum_var_dist[:n_comp]*100\n",
    "y=np.arange(1,n_comp+1)\n",
    "plt.figure(figsize=(9, 4), dpi=80)\n",
    "perc=percentage_var_explained100[0:n_comp]\n",
    "plt.bar(y,perc)\n",
    "plt.grid()\n",
    "plt.scatter(y,g)\n",
    "plt.plot(y,g)\n",
    "plt.ylim([0, 100])\n",
    "lll=np.where(cum_var_dist>0.90)[0][0]\n",
    "text2='N comp > 90% ='+str(lll)\n",
    "text_kwargs = dict(fontsize=14)\n",
    "#plt.text(0.9, 50, text_voxel_unflip, style='italic', **text_kwargs,\n",
    "#        bbox={'facecolor': 'green', 'alpha': 0.5, 'pad': 10})\n",
    "plt.text(3, 40, text2, style='italic', fontsize=14,\n",
    "        bbox={'facecolor': 'orange', 'alpha': 0.5, 'pad': 10})\n",
    "m='low.png'\n",
    "plt.savefig(m, dpi=300, bbox_inches='tight')\n",
    "print(percentage_var_explained100[0:10])"
   ],
   "outputs": [],
   "execution_count": null
  },
  {
   "cell_type": "code",
   "id": "297058ea",
   "metadata": {
    "scrolled": true
   },
   "source": [
    "# SAVE FIRST PC\n",
    "pc1=pca_components[:,0]\n",
    "comp1=pd.DataFrame(df.index)\n",
    "comp1['scores']=pc1\n",
    "comp1.columns=['Parcel', 'Scores']\n",
    "#mask=nib.load('leftmask.2mm.nii.gz')\n",
    "f=np.asarray(comp1.Scores)\n",
    "mapnii1=f.reshape(91,109,91)\n",
    "mapfinal1 = nib.nifti1.Nifti1Image(mapnii1, aff)\n",
    "m='PC1_LOW.nii.gz'\n",
    "dirpath='/home/lorenzo/Desktop/CODING/MY_PAPERS_ONGOING/PCFDC_June2023/'\n",
    "save=dirpath+m\n",
    "nib.save(mapfinal1, save)\n",
    "plotting.plot_glass_brain(mapfinal1, cmap='coolwarm', threshold=.5, colorbar=False)\n",
    "plt.savefig('PC1_low.png', dpi=300, bbox_inches='tight')\n",
    "plt.show()"
   ],
   "outputs": [],
   "execution_count": null
  },
  {
   "cell_type": "raw",
   "id": "b2fb1828",
   "metadata": {},
   "source": [
    "%%bash\n",
    "wb_command -volume-to-surface-mapping \\\n",
    "    /home/lorenzo/Desktop/CODING/MY_PAPERS_ONGOING/PCFDC_June2023/PC1_LOW.nii.gz \\\n",
    "    /home/lorenzo/Desktop/ColeAnticevicNetPartition-master/S1200.L.very_inflated_MSMAll.32k_fs_LR.surf.gii \\\n",
    "    /home/lorenzo/Desktop/CODING/MY_PAPERS_ONGOING/PCFDC_June2023/PC1_LOW.left.shape.gii \\\n",
    "    -trilinear\n",
    "\n",
    "wb_command -volume-to-surface-mapping \\\n",
    "    /home/lorenzo/Desktop/CODING/MY_PAPERS_ONGOING/PCFDC_June2023/PC1_LOW.nii.gz \\\n",
    "    /home/lorenzo/Desktop/ColeAnticevicNetPartition-master/S1200.R.very_inflated_MSMAll.32k_fs_LR.surf.gii \\\n",
    "    /home/lorenzo/Desktop/CODING/MY_PAPERS_ONGOING/PCFDC_June2023/PC1_LOW.right.shape.gii \\\n",
    "    -trilinear\n",
    "    \n",
    " wb_view \\\n",
    "    /home/lorenzo/Desktop/ColeAnticevicNetPartition-master/S1200.L.very_inflated_MSMAll.32k_fs_LR.surf.gii \\\n",
    "    /home/lorenzo/Desktop/ColeAnticevicNetPartition-master/S1200.R.very_inflated_MSMAll.32k_fs_LR.surf.gii \\\n",
    "    /home/lorenzo/Desktop/CODING/MY_PAPERS_ONGOING/PCFDC_June2023/PC1_LOW.left.shape.gii \\\n",
    "    /home/lorenzo/Desktop/CODING/MY_PAPERS_ONGOING/PCFDC_June2023/PC1_LOW.right.shape.gii  "
   ]
  },
  {
   "cell_type": "code",
   "id": "a915ff95",
   "metadata": {},
   "source": [
    "del df, mapsPCFDC, files, aff, d, pca_PCFDC, pca_components, kmo_model, percentage_var_explained"
   ],
   "outputs": [],
   "execution_count": null
  },
  {
   "cell_type": "markdown",
   "id": "37839326",
   "metadata": {},
   "source": [
    "## Intermediate survival (6-20 months)"
   ]
  },
  {
   "cell_type": "code",
   "id": "e960af17",
   "metadata": {},
   "source": [
    "path='/home/lorenzo/Desktop/CODING/MY_PAPERS_ONGOING/PCFDC_June2023/INTERMEDIATE/*gz'\n",
    "mapsPCFDC=[]\n",
    "files=glob.glob(path)\n",
    "for x in range(len(files)):\n",
    "    d=nib.load(files[x]).get_fdata().flatten()\n",
    "    mapsPCFDC.append(d)\n",
    "aff=nib.load(files[0]).affine\n",
    "df=pd.DataFrame(mapsPCFDC)\n",
    "df=df.T\n",
    "\n",
    "df = df.mask(df < 0.2, 0) # MAKS VALUES LOWER THAN 0.2"
   ],
   "outputs": [],
   "execution_count": null
  },
  {
   "cell_type": "code",
   "id": "0d68e571",
   "metadata": {},
   "source": [
    "pca_PCFDC=PCA()\n",
    "pca_components=pca_PCFDC.fit_transform(df)\n",
    "\n",
    "mo_all,kmo_model=calculate_kmo(df)\n",
    "text= 'kmo='+str(round(kmo_model,3))\n",
    "print('kmo is', text)\n",
    "print('')\n",
    "percentage_var_explained = pca_PCFDC.explained_variance_ / np.sum(pca_PCFDC.explained_variance_);\n",
    "percentage_var_explained100=percentage_var_explained*100\n",
    "cum_var_dist=np.cumsum(pca_PCFDC.explained_variance_ratio_)"
   ],
   "outputs": [],
   "execution_count": null
  },
  {
   "cell_type": "code",
   "id": "4bfb552d",
   "metadata": {},
   "source": [
    "n_comp=10\n",
    "g=cum_var_dist[:n_comp]*100\n",
    "y=np.arange(1,n_comp+1)\n",
    "plt.figure(figsize=(9, 4), dpi=80)\n",
    "perc=percentage_var_explained100[0:n_comp]\n",
    "plt.bar(y,perc)\n",
    "plt.grid()\n",
    "plt.scatter(y,g)\n",
    "plt.plot(y,g)\n",
    "plt.ylim([0, 100])\n",
    "lll=np.where(cum_var_dist>0.90)[0][0]\n",
    "text2='N comp > 90% ='+str(lll)\n",
    "text_kwargs = dict(fontsize=14)\n",
    "#plt.text(0.9, 50, text_voxel_unflip, style='italic', **text_kwargs,\n",
    "#        bbox={'facecolor': 'green', 'alpha': 0.5, 'pad': 10})\n",
    "plt.text(3, 40, text2, style='italic', fontsize=14,\n",
    "        bbox={'facecolor': 'orange', 'alpha': 0.5, 'pad': 10})\n",
    "m='intermediate.png'\n",
    "plt.savefig(m, dpi=300, bbox_inches='tight')\n",
    "print(percentage_var_explained100[0:10])"
   ],
   "outputs": [],
   "execution_count": null
  },
  {
   "cell_type": "code",
   "id": "e1ebc23b",
   "metadata": {
    "scrolled": true
   },
   "source": [
    "# SAVE FIRST PC\n",
    "pc2=pca_components[:,0]\n",
    "comp1=pd.DataFrame(df.index)\n",
    "comp1['scores']=pc2\n",
    "comp1.columns=['Parcel', 'Scores']\n",
    "#mask=nib.load('leftmask.2mm.nii.gz')\n",
    "f=np.asarray(comp1.Scores)\n",
    "mapnii1=f.reshape(91,109,91)\n",
    "mapfinal1 = nib.nifti1.Nifti1Image(mapnii1, aff)\n",
    "m='PC1_INTERMEDIATE.nii.gz'\n",
    "dirpath='/home/lorenzo/Desktop/CODING/MY_PAPERS_ONGOING/PCFDC_June2023/'\n",
    "save=dirpath+m\n",
    "nib.save(mapfinal1, save)\n",
    "plotting.plot_glass_brain(mapfinal1, cmap='coolwarm', threshold=.3, colorbar=False)\n",
    "plt.savefig('PC1_INTERMEDIATE.png', dpi=300, bbox_inches='tight')\n",
    "plt.show()"
   ],
   "outputs": [],
   "execution_count": null
  },
  {
   "cell_type": "raw",
   "id": "6b74fb7d",
   "metadata": {},
   "source": [
    "%%bash\n",
    "wb_command -volume-to-surface-mapping \\\n",
    "    /home/lorenzo/Desktop/CODING/MY_PAPERS_ONGOING/PCFDC_June2023/PC1_INTERMEDIATE.nii.gz \\\n",
    "    /home/lorenzo/Desktop/ColeAnticevicNetPartition-master/S1200.L.very_inflated_MSMAll.32k_fs_LR.surf.gii \\\n",
    "    /home/lorenzo/Desktop/CODING/MY_PAPERS_ONGOING/PCFDC_June2023/PC1_INTERMEDIATE.left.shape.gii \\\n",
    "    -trilinear\n",
    "\n",
    "wb_command -volume-to-surface-mapping \\\n",
    "    /home/lorenzo/Desktop/CODING/MY_PAPERS_ONGOING/PCFDC_June2023/PC1_INTERMEDIATE.nii.gz \\\n",
    "    /home/lorenzo/Desktop/ColeAnticevicNetPartition-master/S1200.R.very_inflated_MSMAll.32k_fs_LR.surf.gii \\\n",
    "    /home/lorenzo/Desktop/CODING/MY_PAPERS_ONGOING/PCFDC_June2023/PC1_INTERMEDIATE.right.shape.gii \\\n",
    "    -trilinear\n",
    "    \n",
    " wb_view \\\n",
    "    /home/lorenzo/Desktop/ColeAnticevicNetPartition-master/S1200.L.very_inflated_MSMAll.32k_fs_LR.surf.gii \\\n",
    "    /home/lorenzo/Desktop/ColeAnticevicNetPartition-master/S1200.R.very_inflated_MSMAll.32k_fs_LR.surf.gii \\\n",
    "    /home/lorenzo/Desktop/CODING/MY_PAPERS_ONGOING/PCFDC_June2023/PC1_INTERMEDIATE.left.shape.gii \\\n",
    "    /home/lorenzo/Desktop/CODING/MY_PAPERS_ONGOING/PCFDC_June2023/PC1_INTERMEDIATE.right.shape.gii  "
   ]
  },
  {
   "cell_type": "code",
   "id": "b3c3a7ee",
   "metadata": {},
   "source": [
    "del df, mapsPCFDC, files, aff, d, pca_PCFDC, pca_components, kmo_model, percentage_var_explained"
   ],
   "outputs": [],
   "execution_count": null
  },
  {
   "cell_type": "markdown",
   "id": "d7761fcc",
   "metadata": {},
   "source": [
    "## High survival (>20 months)"
   ]
  },
  {
   "cell_type": "code",
   "id": "93694486",
   "metadata": {},
   "source": [
    "path='/home/lorenzo/Desktop/CODING/MY_PAPERS_ONGOING/PCFDC_June2023/HIGH/*gz'\n",
    "mapsPCFDC=[]\n",
    "files=glob.glob(path)\n",
    "for x in range(len(files)):\n",
    "    d=nib.load(files[x]).get_fdata().flatten()\n",
    "    mapsPCFDC.append(d)\n",
    "aff=nib.load(files[0]).affine\n",
    "df=pd.DataFrame(mapsPCFDC)\n",
    "df=df.T\n",
    "\n",
    "df = df.mask(df < 0.2, 0) # MAKS VALUES LOWER THAN 0.2"
   ],
   "outputs": [],
   "execution_count": null
  },
  {
   "cell_type": "code",
   "id": "a43a1f84",
   "metadata": {},
   "source": [
    "pca_PCFDC=PCA()\n",
    "pca_components=pca_PCFDC.fit_transform(df)\n",
    "\n",
    "mo_all,kmo_model=calculate_kmo(df)\n",
    "text= 'kmo='+str(round(kmo_model,3))\n",
    "print('kmo is', text)\n",
    "print('')\n",
    "percentage_var_explained = pca_PCFDC.explained_variance_ / np.sum(pca_PCFDC.explained_variance_);\n",
    "percentage_var_explained100=percentage_var_explained*100\n",
    "cum_var_dist=np.cumsum(pca_PCFDC.explained_variance_ratio_)"
   ],
   "outputs": [],
   "execution_count": null
  },
  {
   "cell_type": "code",
   "id": "46641f56",
   "metadata": {},
   "source": [
    "n_comp=10\n",
    "g=cum_var_dist[:n_comp]*100\n",
    "y=np.arange(1,n_comp+1)\n",
    "plt.figure(figsize=(9, 4), dpi=80)\n",
    "perc=percentage_var_explained100[0:n_comp]\n",
    "plt.bar(y,perc)\n",
    "plt.grid()\n",
    "plt.scatter(y,g)\n",
    "plt.plot(y,g)\n",
    "plt.ylim([0, 100])\n",
    "lll=np.where(cum_var_dist>0.90)[0][0]\n",
    "text2='N comp > 90% ='+str(lll)\n",
    "text_kwargs = dict(fontsize=14)\n",
    "#plt.text(0.9, 50, text_voxel_unflip, style='italic', **text_kwargs,\n",
    "#        bbox={'facecolor': 'green', 'alpha': 0.5, 'pad': 10})\n",
    "plt.text(3, 40, text2, style='italic', fontsize=14,\n",
    "        bbox={'facecolor': 'orange', 'alpha': 0.5, 'pad': 10})\n",
    "m='high.png'\n",
    "plt.savefig(m, dpi=300, bbox_inches='tight')\n",
    "print(percentage_var_explained100[0:10])"
   ],
   "outputs": [],
   "execution_count": null
  },
  {
   "cell_type": "code",
   "id": "d556f355",
   "metadata": {
    "scrolled": true
   },
   "source": [
    "# SAVE FIRST PC\n",
    "pc2=pca_components[:,0]\n",
    "comp1=pd.DataFrame(df.index)\n",
    "comp1['scores']=pc2\n",
    "comp1.columns=['Parcel', 'Scores']\n",
    "#mask=nib.load('leftmask.2mm.nii.gz')\n",
    "f=np.asarray(comp1.Scores)\n",
    "mapnii1=f.reshape(91,109,91)\n",
    "mapfinal1 = nib.nifti1.Nifti1Image(mapnii1, aff)\n",
    "m='PC1_HIGH.nii.gz'\n",
    "dirpath='/home/lorenzo/Desktop/CODING/MY_PAPERS_ONGOING/PCFDC_June2023/'\n",
    "save=dirpath+m\n",
    "nib.save(mapfinal1, save)\n",
    "plotting.plot_glass_brain(mapfinal1, cmap='coolwarm', threshold=0.3, colorbar=False)\n",
    "plt.savefig('PC1_HIGH.png', dpi=300, bbox_inches='tight')\n",
    "plt.show()"
   ],
   "outputs": [],
   "execution_count": null
  },
  {
   "cell_type": "raw",
   "id": "5acd5fa5",
   "metadata": {},
   "source": [
    "%%bash\n",
    "wb_command -volume-to-surface-mapping \\\n",
    "    /home/lorenzo/Desktop/CODING/MY_PAPERS_ONGOING/PCFDC_June2023/PC1_HIGH.nii.gz \\\n",
    "    /home/lorenzo/Desktop/ColeAnticevicNetPartition-master/S1200.L.very_inflated_MSMAll.32k_fs_LR.surf.gii \\\n",
    "    /home/lorenzo/Desktop/CODING/MY_PAPERS_ONGOING/PCFDC_June2023/PC1_HIGH.left.shape.gii \\\n",
    "    -trilinear\n",
    "\n",
    "wb_command -volume-to-surface-mapping \\\n",
    "    /home/lorenzo/Desktop/CODING/MY_PAPERS_ONGOING/PCFDC_June2023/PC1_HIGH.nii.gz \\\n",
    "    /home/lorenzo/Desktop/ColeAnticevicNetPartition-master/S1200.R.very_inflated_MSMAll.32k_fs_LR.surf.gii \\\n",
    "    /home/lorenzo/Desktop/CODING/MY_PAPERS_ONGOING/PCFDC_June2023/PC1_HIGH.right.shape.gii \\\n",
    "    -trilinear\n",
    "    \n",
    " wb_view \\\n",
    "    /home/lorenzo/Desktop/ColeAnticevicNetPartition-master/S1200.L.very_inflated_MSMAll.32k_fs_LR.surf.gii \\\n",
    "    /home/lorenzo/Desktop/ColeAnticevicNetPartition-master/S1200.R.very_inflated_MSMAll.32k_fs_LR.surf.gii \\\n",
    "    /home/lorenzo/Desktop/CODING/MY_PAPERS_ONGOING/PCFDC_June2023/PC1_HIGH.left.shape.gii \\\n",
    "    /home/lorenzo/Desktop/CODING/MY_PAPERS_ONGOING/PCFDC_June2023/PC1_HIGH.right.shape.gii  "
   ]
  },
  {
   "cell_type": "markdown",
   "id": "13f24fc0",
   "metadata": {},
   "source": [
    "## Correlation pattern maps"
   ]
  },
  {
   "cell_type": "code",
   "id": "ba212833",
   "metadata": {},
   "source": [
    "import seaborn as sns"
   ],
   "outputs": [],
   "execution_count": null
  },
  {
   "cell_type": "code",
   "id": "bcf3bb7d",
   "metadata": {},
   "source": [
    "mri_file_low_pc1 = \"PC1_LOW.nii.gz\"   \n",
    "mri_file_high_pc1 = \"PC1_HIGH.nii.gz\"   \n",
    "mri_file_intermediate_pc1 = \"PC1_INTERMEDIATE.nii.gz\"   \n",
    "\n",
    "A=nib.load(mri_file_low_pc1).get_fdata().flatten()\n",
    "B=nib.load(mri_file_high_pc1).get_fdata().flatten()\n",
    "C=nib.load(mri_file_intermediate_pc1).get_fdata().flatten()\n",
    "df=pd.DataFrame([A,B,C]).T\n",
    "A=df.corr()"
   ],
   "outputs": [],
   "execution_count": null
  },
  {
   "cell_type": "code",
   "id": "1d2aa7df",
   "metadata": {},
   "source": [
    "A"
   ],
   "outputs": [],
   "execution_count": null
  },
  {
   "cell_type": "code",
   "id": "ac14523a",
   "metadata": {},
   "source": [
    "sns.heatmap(A, vmax=1, vmin=0.98, cmap='gray_r')\n",
    "plt.savefig('mcorr_matrix.png', dpi=300)"
   ],
   "outputs": [],
   "execution_count": null
  },
  {
   "metadata": {},
   "cell_type": "markdown",
   "source": "# 8. Connectivity projection into a 2D space",
   "id": "36a22e9e"
  },
  {
   "metadata": {},
   "cell_type": "markdown",
   "source": "> *Finally, we explored the relationship between indirect functional connectivity and OS projecting the thresholded PC-FDC maps into a 2D space by means of the Uniform Manifold Approximation and Projection (UMAP) algorithm, a non-linear embedding approach that distributes data variability along major axes (McInnes et al., 2018).* [...]",
   "id": "65555233"
  },
  {
   "metadata": {},
   "cell_type": "markdown",
   "source": "## UMAP and GMM",
   "id": "3c25b601"
  },
  {
   "metadata": {},
   "cell_type": "markdown",
   "source": "#### Load data and preprocessing",
   "id": "6a41ac37"
  },
  {
   "metadata": {
    "scrolled": true,
    "ExecuteTime": {
     "end_time": "2025-04-22T13:02:54.472804Z",
     "start_time": "2025-04-22T13:02:18.366686Z"
    }
   },
   "cell_type": "code",
   "source": [
    "path= '/Users/emmatosato/Documents/PhD/ANM_Verona/data/FCmaps_mean/*gz'\n",
    "mapsPCFDC=[]\n",
    "files=glob.glob(path)\n",
    "files.sort()\n",
    "\n",
    "# Loop over files\n",
    "for x in range(len(files)):\n",
    "    print(files[x])\n",
    "    d=nib.load(files[x]).get_fdata().flatten()\n",
    "    mapsPCFDC.append(d)\n",
    "aff=nib.load(files[0]).affine\n",
    "df=pd.DataFrame(mapsPCFDC)\n",
    "df=df.T\n",
    "\n",
    "# Mask values lower than 0.2\n",
    "df = df.mask(df < 0.2, 0)\n",
    "\n",
    "# Add Subject Identifiers\n",
    "files_ = [sub.replace('/Users/emmatosato/Documents/PhD/ANM_Verona/data/FCmaps_mean/', '') for sub in files]\n",
    "files_ = [sub.replace('.nii.gz', '') for sub in files_]\n",
    "df_fdc=df.T\n",
    "df_fdc.insert(loc = 0, column = 'CODE', value = files_)"
   ],
   "id": "04d7caa7",
   "outputs": [
    {
     "name": "stdout",
     "output_type": "stream",
     "text": [
      "/Users/emmatosato/Documents/PhD/ANM_Verona/data/FCmaps_mean/002_S_4654.FDC.nii.gz\n",
      "/Users/emmatosato/Documents/PhD/ANM_Verona/data/FCmaps_mean/002_S_6695.FDC.nii.gz\n",
      "/Users/emmatosato/Documents/PhD/ANM_Verona/data/FCmaps_mean/003_S_6264.FDC.nii.gz\n",
      "/Users/emmatosato/Documents/PhD/ANM_Verona/data/FCmaps_mean/003_S_6268.FDC.nii.gz\n",
      "/Users/emmatosato/Documents/PhD/ANM_Verona/data/FCmaps_mean/003_S_6432.FDC.nii.gz\n",
      "/Users/emmatosato/Documents/PhD/ANM_Verona/data/FCmaps_mean/003_S_6479.FDC.nii.gz\n",
      "/Users/emmatosato/Documents/PhD/ANM_Verona/data/FCmaps_mean/003_S_6606.FDC.nii.gz\n",
      "/Users/emmatosato/Documents/PhD/ANM_Verona/data/FCmaps_mean/006_S_6252.FDC.nii.gz\n",
      "/Users/emmatosato/Documents/PhD/ANM_Verona/data/FCmaps_mean/006_S_6682.FDC.nii.gz\n",
      "/Users/emmatosato/Documents/PhD/ANM_Verona/data/FCmaps_mean/007_S_6341.FDC.nii.gz\n",
      "/Users/emmatosato/Documents/PhD/ANM_Verona/data/FCmaps_mean/011_S_4893.FDC.nii.gz\n",
      "/Users/emmatosato/Documents/PhD/ANM_Verona/data/FCmaps_mean/011_S_6303.FDC.nii.gz\n",
      "/Users/emmatosato/Documents/PhD/ANM_Verona/data/FCmaps_mean/012_S_4188.FDC.nii.gz\n",
      "/Users/emmatosato/Documents/PhD/ANM_Verona/data/FCmaps_mean/016_S_4902.FDC.nii.gz\n",
      "/Users/emmatosato/Documents/PhD/ANM_Verona/data/FCmaps_mean/016_S_6708.FDC.nii.gz\n",
      "/Users/emmatosato/Documents/PhD/ANM_Verona/data/FCmaps_mean/016_S_6839.FDC.nii.gz\n",
      "/Users/emmatosato/Documents/PhD/ANM_Verona/data/FCmaps_mean/018_S_2155.FDC.nii.gz\n",
      "/Users/emmatosato/Documents/PhD/ANM_Verona/data/FCmaps_mean/019_S_6483.FDC.nii.gz\n",
      "/Users/emmatosato/Documents/PhD/ANM_Verona/data/FCmaps_mean/019_S_6668.FDC.nii.gz\n",
      "/Users/emmatosato/Documents/PhD/ANM_Verona/data/FCmaps_mean/021_S_0626.FDC.nii.gz\n",
      "/Users/emmatosato/Documents/PhD/ANM_Verona/data/FCmaps_mean/021_S_5237.FDC.nii.gz\n",
      "/Users/emmatosato/Documents/PhD/ANM_Verona/data/FCmaps_mean/021_S_6312.FDC.nii.gz\n",
      "/Users/emmatosato/Documents/PhD/ANM_Verona/data/FCmaps_mean/022_S_6796.FDC.nii.gz\n",
      "/Users/emmatosato/Documents/PhD/ANM_Verona/data/FCmaps_mean/027_S_5277.FDC.nii.gz\n",
      "/Users/emmatosato/Documents/PhD/ANM_Verona/data/FCmaps_mean/027_S_6034.FDC.nii.gz\n",
      "/Users/emmatosato/Documents/PhD/ANM_Verona/data/FCmaps_mean/027_S_6788.FDC.nii.gz\n",
      "/Users/emmatosato/Documents/PhD/ANM_Verona/data/FCmaps_mean/027_S_6965.FDC.nii.gz\n",
      "/Users/emmatosato/Documents/PhD/ANM_Verona/data/FCmaps_mean/032_S_6600.FDC.nii.gz\n",
      "/Users/emmatosato/Documents/PhD/ANM_Verona/data/FCmaps_mean/032_S_6602.FDC.nii.gz\n",
      "/Users/emmatosato/Documents/PhD/ANM_Verona/data/FCmaps_mean/032_S_6700.FDC.nii.gz\n",
      "/Users/emmatosato/Documents/PhD/ANM_Verona/data/FCmaps_mean/035_S_4114.FDC.nii.gz\n",
      "/Users/emmatosato/Documents/PhD/ANM_Verona/data/FCmaps_mean/035_S_6927.FDC.nii.gz\n",
      "/Users/emmatosato/Documents/PhD/ANM_Verona/data/FCmaps_mean/036_S_4430.FDC.nii.gz\n",
      "/Users/emmatosato/Documents/PhD/ANM_Verona/data/FCmaps_mean/036_S_4538.FDC.nii.gz\n",
      "/Users/emmatosato/Documents/PhD/ANM_Verona/data/FCmaps_mean/036_S_4715.FDC.nii.gz\n",
      "/Users/emmatosato/Documents/PhD/ANM_Verona/data/FCmaps_mean/036_S_6134.FDC.nii.gz\n",
      "/Users/emmatosato/Documents/PhD/ANM_Verona/data/FCmaps_mean/037_S_6216.FDC.nii.gz\n",
      "/Users/emmatosato/Documents/PhD/ANM_Verona/data/FCmaps_mean/041_S_4510.FDC.nii.gz\n",
      "/Users/emmatosato/Documents/PhD/ANM_Verona/data/FCmaps_mean/041_S_4974.FDC.nii.gz\n",
      "/Users/emmatosato/Documents/PhD/ANM_Verona/data/FCmaps_mean/053_S_6598.FDC.nii.gz\n",
      "/Users/emmatosato/Documents/PhD/ANM_Verona/data/FCmaps_mean/067_S_6529.FDC.nii.gz\n",
      "/Users/emmatosato/Documents/PhD/ANM_Verona/data/FCmaps_mean/073_S_6673.FDC.nii.gz\n",
      "/Users/emmatosato/Documents/PhD/ANM_Verona/data/FCmaps_mean/098_S_6601.FDC.nii.gz\n",
      "/Users/emmatosato/Documents/PhD/ANM_Verona/data/FCmaps_mean/098_S_6655.FDC.nii.gz\n",
      "/Users/emmatosato/Documents/PhD/ANM_Verona/data/FCmaps_mean/098_S_6658.FDC.nii.gz\n",
      "/Users/emmatosato/Documents/PhD/ANM_Verona/data/FCmaps_mean/099_S_6632.FDC.nii.gz\n",
      "/Users/emmatosato/Documents/PhD/ANM_Verona/data/FCmaps_mean/099_S_6691.FDC.nii.gz\n",
      "/Users/emmatosato/Documents/PhD/ANM_Verona/data/FCmaps_mean/114_S_6039.FDC.nii.gz\n",
      "/Users/emmatosato/Documents/PhD/ANM_Verona/data/FCmaps_mean/116_S_6775.FDC.nii.gz\n",
      "/Users/emmatosato/Documents/PhD/ANM_Verona/data/FCmaps_mean/123_S_6825.FDC.nii.gz\n",
      "/Users/emmatosato/Documents/PhD/ANM_Verona/data/FCmaps_mean/123_S_6884.FDC.nii.gz\n",
      "/Users/emmatosato/Documents/PhD/ANM_Verona/data/FCmaps_mean/126_S_4507.FDC.nii.gz\n",
      "/Users/emmatosato/Documents/PhD/ANM_Verona/data/FCmaps_mean/126_S_4891.FDC.nii.gz\n",
      "/Users/emmatosato/Documents/PhD/ANM_Verona/data/FCmaps_mean/126_S_6683.FDC.nii.gz\n",
      "/Users/emmatosato/Documents/PhD/ANM_Verona/data/FCmaps_mean/127_S_6433.FDC.nii.gz\n",
      "/Users/emmatosato/Documents/PhD/ANM_Verona/data/FCmaps_mean/127_S_6549.FDC.nii.gz\n",
      "/Users/emmatosato/Documents/PhD/ANM_Verona/data/FCmaps_mean/130_S_2373.FDC.nii.gz\n",
      "/Users/emmatosato/Documents/PhD/ANM_Verona/data/FCmaps_mean/130_S_4294.FDC.nii.gz\n",
      "/Users/emmatosato/Documents/PhD/ANM_Verona/data/FCmaps_mean/130_S_4415.FDC.nii.gz\n",
      "/Users/emmatosato/Documents/PhD/ANM_Verona/data/FCmaps_mean/130_S_6072.FDC.nii.gz\n",
      "/Users/emmatosato/Documents/PhD/ANM_Verona/data/FCmaps_mean/131_S_7032.FDC.nii.gz\n",
      "/Users/emmatosato/Documents/PhD/ANM_Verona/data/FCmaps_mean/135_S_6545.FDC.nii.gz\n",
      "/Users/emmatosato/Documents/PhD/ANM_Verona/data/FCmaps_mean/137_S_4862.FDC.nii.gz\n",
      "/Users/emmatosato/Documents/PhD/ANM_Verona/data/FCmaps_mean/141_S_2333.FDC.nii.gz\n",
      "/Users/emmatosato/Documents/PhD/ANM_Verona/data/FCmaps_mean/168_S_6142.FDC.nii.gz\n",
      "/Users/emmatosato/Documents/PhD/ANM_Verona/data/FCmaps_mean/168_S_6426.FDC.nii.gz\n",
      "/Users/emmatosato/Documents/PhD/ANM_Verona/data/FCmaps_mean/168_S_6467.FDC.nii.gz\n",
      "/Users/emmatosato/Documents/PhD/ANM_Verona/data/FCmaps_mean/168_S_6843.FDC.nii.gz\n",
      "/Users/emmatosato/Documents/PhD/ANM_Verona/data/FCmaps_mean/1_S_5000.FDC.nii.gz\n",
      "/Users/emmatosato/Documents/PhD/ANM_Verona/data/FCmaps_mean/1_S_5001.FDC.nii.gz\n",
      "/Users/emmatosato/Documents/PhD/ANM_Verona/data/FCmaps_mean/1_S_5003.FDC.nii.gz\n",
      "/Users/emmatosato/Documents/PhD/ANM_Verona/data/FCmaps_mean/1_S_5004.FDC.nii.gz\n",
      "/Users/emmatosato/Documents/PhD/ANM_Verona/data/FCmaps_mean/1_S_5005.FDC.nii.gz\n",
      "/Users/emmatosato/Documents/PhD/ANM_Verona/data/FCmaps_mean/1_S_5006.FDC.nii.gz\n",
      "/Users/emmatosato/Documents/PhD/ANM_Verona/data/FCmaps_mean/1_S_5007.FDC.nii.gz\n",
      "/Users/emmatosato/Documents/PhD/ANM_Verona/data/FCmaps_mean/1_S_5008.FDC.nii.gz\n",
      "/Users/emmatosato/Documents/PhD/ANM_Verona/data/FCmaps_mean/1_S_5009.FDC.nii.gz\n",
      "/Users/emmatosato/Documents/PhD/ANM_Verona/data/FCmaps_mean/1_S_5010.FDC.nii.gz\n",
      "/Users/emmatosato/Documents/PhD/ANM_Verona/data/FCmaps_mean/1_S_5011.FDC.nii.gz\n",
      "/Users/emmatosato/Documents/PhD/ANM_Verona/data/FCmaps_mean/1_S_5013.FDC.nii.gz\n",
      "/Users/emmatosato/Documents/PhD/ANM_Verona/data/FCmaps_mean/1_S_5016.FDC.nii.gz\n",
      "/Users/emmatosato/Documents/PhD/ANM_Verona/data/FCmaps_mean/1_S_5017.FDC.nii.gz\n",
      "/Users/emmatosato/Documents/PhD/ANM_Verona/data/FCmaps_mean/1_S_5018.FDC.nii.gz\n",
      "/Users/emmatosato/Documents/PhD/ANM_Verona/data/FCmaps_mean/1_S_5019.FDC.nii.gz\n",
      "/Users/emmatosato/Documents/PhD/ANM_Verona/data/FCmaps_mean/1_S_5021.FDC.nii.gz\n",
      "/Users/emmatosato/Documents/PhD/ANM_Verona/data/FCmaps_mean/1_S_5022.FDC.nii.gz\n",
      "/Users/emmatosato/Documents/PhD/ANM_Verona/data/FCmaps_mean/1_S_5023.FDC.nii.gz\n",
      "/Users/emmatosato/Documents/PhD/ANM_Verona/data/FCmaps_mean/1_S_5024.FDC.nii.gz\n",
      "/Users/emmatosato/Documents/PhD/ANM_Verona/data/FCmaps_mean/1_S_5026.FDC.nii.gz\n",
      "/Users/emmatosato/Documents/PhD/ANM_Verona/data/FCmaps_mean/1_S_5027.FDC.nii.gz\n",
      "/Users/emmatosato/Documents/PhD/ANM_Verona/data/FCmaps_mean/1_S_5028.FDC.nii.gz\n",
      "/Users/emmatosato/Documents/PhD/ANM_Verona/data/FCmaps_mean/1_S_5029.FDC.nii.gz\n",
      "/Users/emmatosato/Documents/PhD/ANM_Verona/data/FCmaps_mean/1_S_5030.FDC.nii.gz\n",
      "/Users/emmatosato/Documents/PhD/ANM_Verona/data/FCmaps_mean/1_S_5031.FDC.nii.gz\n",
      "/Users/emmatosato/Documents/PhD/ANM_Verona/data/FCmaps_mean/1_S_5032.FDC.nii.gz\n",
      "/Users/emmatosato/Documents/PhD/ANM_Verona/data/FCmaps_mean/1_S_5033.FDC.nii.gz\n",
      "/Users/emmatosato/Documents/PhD/ANM_Verona/data/FCmaps_mean/1_S_5034.FDC.nii.gz\n",
      "/Users/emmatosato/Documents/PhD/ANM_Verona/data/FCmaps_mean/1_S_5036.FDC.nii.gz\n",
      "/Users/emmatosato/Documents/PhD/ANM_Verona/data/FCmaps_mean/1_S_5037.FDC.nii.gz\n",
      "/Users/emmatosato/Documents/PhD/ANM_Verona/data/FCmaps_mean/1_S_5038.FDC.nii.gz\n",
      "/Users/emmatosato/Documents/PhD/ANM_Verona/data/FCmaps_mean/1_S_5039.FDC.nii.gz\n",
      "/Users/emmatosato/Documents/PhD/ANM_Verona/data/FCmaps_mean/1_S_5040.FDC.nii.gz\n",
      "/Users/emmatosato/Documents/PhD/ANM_Verona/data/FCmaps_mean/1_S_5041.FDC.nii.gz\n",
      "/Users/emmatosato/Documents/PhD/ANM_Verona/data/FCmaps_mean/1_S_5042.FDC.nii.gz\n",
      "/Users/emmatosato/Documents/PhD/ANM_Verona/data/FCmaps_mean/1_S_5043.FDC.nii.gz\n",
      "/Users/emmatosato/Documents/PhD/ANM_Verona/data/FCmaps_mean/1_S_5044.FDC.nii.gz\n",
      "/Users/emmatosato/Documents/PhD/ANM_Verona/data/FCmaps_mean/1_S_5045.FDC.nii.gz\n",
      "/Users/emmatosato/Documents/PhD/ANM_Verona/data/FCmaps_mean/1_S_5046.FDC.nii.gz\n",
      "/Users/emmatosato/Documents/PhD/ANM_Verona/data/FCmaps_mean/1_S_5047.FDC.nii.gz\n",
      "/Users/emmatosato/Documents/PhD/ANM_Verona/data/FCmaps_mean/1_S_5048.FDC.nii.gz\n",
      "/Users/emmatosato/Documents/PhD/ANM_Verona/data/FCmaps_mean/1_S_5049.FDC.nii.gz\n",
      "/Users/emmatosato/Documents/PhD/ANM_Verona/data/FCmaps_mean/1_S_5050.FDC.nii.gz\n",
      "/Users/emmatosato/Documents/PhD/ANM_Verona/data/FCmaps_mean/1_S_5051.FDC.nii.gz\n",
      "/Users/emmatosato/Documents/PhD/ANM_Verona/data/FCmaps_mean/1_S_5052.FDC.nii.gz\n",
      "/Users/emmatosato/Documents/PhD/ANM_Verona/data/FCmaps_mean/1_S_5053.FDC.nii.gz\n",
      "/Users/emmatosato/Documents/PhD/ANM_Verona/data/FCmaps_mean/1_S_5054.FDC.nii.gz\n",
      "/Users/emmatosato/Documents/PhD/ANM_Verona/data/FCmaps_mean/1_S_5055.FDC.nii.gz\n",
      "/Users/emmatosato/Documents/PhD/ANM_Verona/data/FCmaps_mean/1_S_5056.FDC.nii.gz\n",
      "/Users/emmatosato/Documents/PhD/ANM_Verona/data/FCmaps_mean/1_S_5057.FDC.nii.gz\n",
      "/Users/emmatosato/Documents/PhD/ANM_Verona/data/FCmaps_mean/1_S_5058.FDC.nii.gz\n",
      "/Users/emmatosato/Documents/PhD/ANM_Verona/data/FCmaps_mean/1_S_5059.FDC.nii.gz\n",
      "/Users/emmatosato/Documents/PhD/ANM_Verona/data/FCmaps_mean/1_S_5060.FDC.nii.gz\n",
      "/Users/emmatosato/Documents/PhD/ANM_Verona/data/FCmaps_mean/1_S_5061.FDC.nii.gz\n",
      "/Users/emmatosato/Documents/PhD/ANM_Verona/data/FCmaps_mean/1_S_5062.FDC.nii.gz\n",
      "/Users/emmatosato/Documents/PhD/ANM_Verona/data/FCmaps_mean/1_S_5064.FDC.nii.gz\n",
      "/Users/emmatosato/Documents/PhD/ANM_Verona/data/FCmaps_mean/1_S_5065.FDC.nii.gz\n",
      "/Users/emmatosato/Documents/PhD/ANM_Verona/data/FCmaps_mean/1_S_5067.FDC.nii.gz\n",
      "/Users/emmatosato/Documents/PhD/ANM_Verona/data/FCmaps_mean/1_S_5068.FDC.nii.gz\n",
      "/Users/emmatosato/Documents/PhD/ANM_Verona/data/FCmaps_mean/1_S_5070.FDC.nii.gz\n",
      "/Users/emmatosato/Documents/PhD/ANM_Verona/data/FCmaps_mean/1_S_5072.FDC.nii.gz\n",
      "/Users/emmatosato/Documents/PhD/ANM_Verona/data/FCmaps_mean/1_S_5073.FDC.nii.gz\n",
      "/Users/emmatosato/Documents/PhD/ANM_Verona/data/FCmaps_mean/1_S_5074.FDC.nii.gz\n",
      "/Users/emmatosato/Documents/PhD/ANM_Verona/data/FCmaps_mean/1_S_5075.FDC.nii.gz\n",
      "/Users/emmatosato/Documents/PhD/ANM_Verona/data/FCmaps_mean/1_S_5076.FDC.nii.gz\n",
      "/Users/emmatosato/Documents/PhD/ANM_Verona/data/FCmaps_mean/1_S_5077.FDC.nii.gz\n",
      "/Users/emmatosato/Documents/PhD/ANM_Verona/data/FCmaps_mean/1_S_5078.FDC.nii.gz\n",
      "/Users/emmatosato/Documents/PhD/ANM_Verona/data/FCmaps_mean/1_S_5079.FDC.nii.gz\n",
      "/Users/emmatosato/Documents/PhD/ANM_Verona/data/FCmaps_mean/1_S_5080.FDC.nii.gz\n",
      "/Users/emmatosato/Documents/PhD/ANM_Verona/data/FCmaps_mean/1_S_5083.FDC.nii.gz\n",
      "/Users/emmatosato/Documents/PhD/ANM_Verona/data/FCmaps_mean/1_S_5085.FDC.nii.gz\n",
      "/Users/emmatosato/Documents/PhD/ANM_Verona/data/FCmaps_mean/1_S_5089.FDC.nii.gz\n",
      "/Users/emmatosato/Documents/PhD/ANM_Verona/data/FCmaps_mean/1_S_5091.FDC.nii.gz\n",
      "/Users/emmatosato/Documents/PhD/ANM_Verona/data/FCmaps_mean/1_S_5092.FDC.nii.gz\n",
      "/Users/emmatosato/Documents/PhD/ANM_Verona/data/FCmaps_mean/1_S_5093.FDC.nii.gz\n",
      "/Users/emmatosato/Documents/PhD/ANM_Verona/data/FCmaps_mean/1_S_5094.FDC.nii.gz\n",
      "/Users/emmatosato/Documents/PhD/ANM_Verona/data/FCmaps_mean/1_S_5095.FDC.nii.gz\n",
      "/Users/emmatosato/Documents/PhD/ANM_Verona/data/FCmaps_mean/1_S_5096.FDC.nii.gz\n",
      "/Users/emmatosato/Documents/PhD/ANM_Verona/data/FCmaps_mean/1_S_5097.FDC.nii.gz\n",
      "/Users/emmatosato/Documents/PhD/ANM_Verona/data/FCmaps_mean/1_S_5098.FDC.nii.gz\n",
      "/Users/emmatosato/Documents/PhD/ANM_Verona/data/FCmaps_mean/1_S_5101.FDC.nii.gz\n",
      "/Users/emmatosato/Documents/PhD/ANM_Verona/data/FCmaps_mean/301_S_6777.FDC.nii.gz\n",
      "/Users/emmatosato/Documents/PhD/ANM_Verona/data/FCmaps_mean/305_S_6498.FDC.nii.gz\n",
      "/Users/emmatosato/Documents/PhD/ANM_Verona/data/FCmaps_mean/305_S_6810.FDC.nii.gz\n",
      "/Users/emmatosato/Documents/PhD/ANM_Verona/data/FCmaps_mean/3_S_5000.FDC.nii.gz\n",
      "/Users/emmatosato/Documents/PhD/ANM_Verona/data/FCmaps_mean/3_S_5001.FDC.nii.gz\n",
      "/Users/emmatosato/Documents/PhD/ANM_Verona/data/FCmaps_mean/3_S_5002.FDC.nii.gz\n",
      "/Users/emmatosato/Documents/PhD/ANM_Verona/data/FCmaps_mean/3_S_5003.FDC.nii.gz\n",
      "/Users/emmatosato/Documents/PhD/ANM_Verona/data/FCmaps_mean/4_S_5000.FDC.nii.gz\n",
      "/Users/emmatosato/Documents/PhD/ANM_Verona/data/FCmaps_mean/4_S_5001.FDC.nii.gz\n",
      "/Users/emmatosato/Documents/PhD/ANM_Verona/data/FCmaps_mean/4_S_5002.FDC.nii.gz\n",
      "/Users/emmatosato/Documents/PhD/ANM_Verona/data/FCmaps_mean/4_S_5003.FDC.nii.gz\n",
      "/Users/emmatosato/Documents/PhD/ANM_Verona/data/FCmaps_mean/4_S_5004.FDC.nii.gz\n",
      "/Users/emmatosato/Documents/PhD/ANM_Verona/data/FCmaps_mean/4_S_5005.FDC.nii.gz\n",
      "/Users/emmatosato/Documents/PhD/ANM_Verona/data/FCmaps_mean/4_S_5006.FDC.nii.gz\n",
      "/Users/emmatosato/Documents/PhD/ANM_Verona/data/FCmaps_mean/4_S_5007.FDC.nii.gz\n",
      "/Users/emmatosato/Documents/PhD/ANM_Verona/data/FCmaps_mean/4_S_5008.FDC.nii.gz\n",
      "/Users/emmatosato/Documents/PhD/ANM_Verona/data/FCmaps_mean/4_S_5009.FDC.nii.gz\n",
      "/Users/emmatosato/Documents/PhD/ANM_Verona/data/FCmaps_mean/4_S_5010.FDC.nii.gz\n",
      "/Users/emmatosato/Documents/PhD/ANM_Verona/data/FCmaps_mean/5_S_5001.FDC.nii.gz\n",
      "/Users/emmatosato/Documents/PhD/ANM_Verona/data/FCmaps_mean/5_S_5002.FDC.nii.gz\n",
      "/Users/emmatosato/Documents/PhD/ANM_Verona/data/FCmaps_mean/5_S_5003.FDC.nii.gz\n",
      "/Users/emmatosato/Documents/PhD/ANM_Verona/data/FCmaps_mean/5_S_5004.FDC.nii.gz\n",
      "/Users/emmatosato/Documents/PhD/ANM_Verona/data/FCmaps_mean/5_S_5006.FDC.nii.gz\n",
      "/Users/emmatosato/Documents/PhD/ANM_Verona/data/FCmaps_mean/5_S_5007.FDC.nii.gz\n",
      "/Users/emmatosato/Documents/PhD/ANM_Verona/data/FCmaps_mean/5_S_5008.FDC.nii.gz\n",
      "/Users/emmatosato/Documents/PhD/ANM_Verona/data/FCmaps_mean/5_S_5009.FDC.nii.gz\n",
      "/Users/emmatosato/Documents/PhD/ANM_Verona/data/FCmaps_mean/941_S_6345.FDC.nii.gz\n"
     ]
    }
   ],
   "execution_count": 2
  },
  {
   "cell_type": "markdown",
   "id": "531127d6",
   "metadata": {},
   "source": [
    "#### Apply Grey Matter Mask"
   ]
  },
  {
   "cell_type": "markdown",
   "id": "7e8538f2",
   "metadata": {},
   "source": [
    "- binary mask of grey matter using the Harvard-Oxford Atlas\n",
    "\n",
    "- FSL, a popular neuroimaging tool.\n",
    "\n",
    "- `-bin` → Converts probability values into binary (0 or 1)"
   ]
  },
  {
   "cell_type": "code",
   "id": "892f05b4",
   "metadata": {},
   "source": [
    "%%bash\n",
    "fslmaths \\\n",
    "   /home/lorenzo/fsl/data/atlases/HarvardOxford/HarvardOxford-cort-maxprob-thr50-2mm.nii.gz \\\n",
    "   -bin \\\n",
    "   mask_GM"
   ],
   "outputs": [],
   "execution_count": null
  },
  {
   "cell_type": "code",
   "id": "3b62b5b7",
   "metadata": {
    "ExecuteTime": {
     "end_time": "2025-04-22T13:03:03.837456Z",
     "start_time": "2025-04-22T13:03:03.817283Z"
    }
   },
   "source": [
    "# Loads the GM mask and flatten it\n",
    "mask=nib.load('/data_utils/GM_mask.nii').get_fdata().flatten()\n",
    "\n",
    "dfT=df.T\n",
    "\n",
    "print(dfT.shape)\n",
    "#dfT.head(4)"
   ],
   "outputs": [
    {
     "name": "stdout",
     "output_type": "stream",
     "text": [
      "(177, 902629)\n"
     ]
    }
   ],
   "execution_count": 3
  },
  {
   "cell_type": "code",
   "id": "09c55a1f",
   "metadata": {
    "ExecuteTime": {
     "end_time": "2025-04-22T13:03:13.052835Z",
     "start_time": "2025-04-22T13:03:06.950521Z"
    }
   },
   "source": [
    "new_row_df = pd.DataFrame([mask], columns=dfT.columns)\n",
    "\n",
    "# Append the Mask as the Last Row\n",
    "dfT = pd.concat([dfT, new_row_df], ignore_index=True)\n",
    "\n",
    "print(dfT.shape)\n",
    "#dfT.tail(4)"
   ],
   "outputs": [
    {
     "name": "stdout",
     "output_type": "stream",
     "text": [
      "(178, 902629)\n"
     ]
    }
   ],
   "execution_count": 4
  },
  {
   "cell_type": "markdown",
   "id": "83e24dc4",
   "metadata": {},
   "source": [
    "#### Load Survival Data and prepocessing"
   ]
  },
  {
   "cell_type": "code",
   "id": "6dd5b483",
   "metadata": {
    "ExecuteTime": {
     "end_time": "2025-04-22T13:04:11.307Z",
     "start_time": "2025-04-22T13:04:11.101228Z"
    }
   },
   "source": [
    "# Load survival data\n",
    "os = pd.read_excel('/Users/emmatosato/Documents/PhD/ANM_Verona/data_utils/atrophy_matched.xlsx')\n",
    "\n",
    "# Insert survival months into the dataframe\n",
    "dfT.insert(loc=0, column='CDR_SB', value=os.CDR_SB)\n",
    "\n",
    "# Remove NaN values\n",
    "dfT['CDR_SB'] = dfT['CDR_SB'].fillna(0)\n",
    "\n",
    "# Creates a new categorical column\n",
    "#dfT['OS_category'] = dfT['OS'].apply(lambda x: 'Low' if x < 6 else ('Interm' if 6 <= x <= 20 else 'High'))"
   ],
   "outputs": [],
   "execution_count": 5
  },
  {
   "cell_type": "code",
   "id": "69acaa81",
   "metadata": {
    "ExecuteTime": {
     "end_time": "2025-04-22T13:04:13.218102Z",
     "start_time": "2025-04-22T13:04:12.845124Z"
    }
   },
   "source": [
    "# Remove what is not atlas \n",
    "dfT2 = dfT.loc[:, (dfT.iloc[-1] != 0)]\n",
    "print(dfT2.shape)"
   ],
   "outputs": [
    {
     "name": "stdout",
     "output_type": "stream",
     "text": [
      "(178, 161817)\n"
     ]
    }
   ],
   "execution_count": 6
  },
  {
   "metadata": {
    "ExecuteTime": {
     "end_time": "2025-04-22T13:04:15.238595Z",
     "start_time": "2025-04-22T13:04:14.431348Z"
    }
   },
   "cell_type": "code",
   "source": [
    "# Separiamo colonna clinica\n",
    "clinical_data = dfT[['CDR_SB']].copy()\n",
    "\n",
    "# Estraiamo solo i voxel\n",
    "voxel_data = dfT.drop(columns=['CDR_SB'])\n",
    "\n",
    "# Applichiamo la maschera solo ai voxel\n",
    "voxel_data_masked = voxel_data.loc[:, dfT.iloc[-1, 1:] != 0]\n",
    "\n",
    "# Ricostruiamo il dataframe finale\n",
    "dfT2 = pd.concat([clinical_data, voxel_data_masked], axis=1)"
   ],
   "id": "7b8896d4d39f3485",
   "outputs": [],
   "execution_count": 7
  },
  {
   "metadata": {
    "ExecuteTime": {
     "end_time": "2025-04-22T13:04:17.426395Z",
     "start_time": "2025-04-22T13:04:17.416901Z"
    }
   },
   "cell_type": "code",
   "source": "dfT2.iloc[:5, :5]",
   "id": "e26b2cfda1ad40ed",
   "outputs": [
    {
     "data": {
      "text/plain": [
       "   CDR_SB  102864  102865  102954  102955\n",
       "0     5.0     0.0     0.0     0.0     0.0\n",
       "1    15.0     0.0     0.0     0.0     0.0\n",
       "2     1.0     0.0     0.0     0.0     0.0\n",
       "3     1.5     0.0     0.0     0.0     0.0\n",
       "4     0.0     0.0     0.0     0.0     0.0"
      ],
      "text/html": [
       "<div>\n",
       "<style scoped>\n",
       "    .dataframe tbody tr th:only-of-type {\n",
       "        vertical-align: middle;\n",
       "    }\n",
       "\n",
       "    .dataframe tbody tr th {\n",
       "        vertical-align: top;\n",
       "    }\n",
       "\n",
       "    .dataframe thead th {\n",
       "        text-align: right;\n",
       "    }\n",
       "</style>\n",
       "<table border=\"1\" class=\"dataframe\">\n",
       "  <thead>\n",
       "    <tr style=\"text-align: right;\">\n",
       "      <th></th>\n",
       "      <th>CDR_SB</th>\n",
       "      <th>102864</th>\n",
       "      <th>102865</th>\n",
       "      <th>102954</th>\n",
       "      <th>102955</th>\n",
       "    </tr>\n",
       "  </thead>\n",
       "  <tbody>\n",
       "    <tr>\n",
       "      <th>0</th>\n",
       "      <td>5.0</td>\n",
       "      <td>0.0</td>\n",
       "      <td>0.0</td>\n",
       "      <td>0.0</td>\n",
       "      <td>0.0</td>\n",
       "    </tr>\n",
       "    <tr>\n",
       "      <th>1</th>\n",
       "      <td>15.0</td>\n",
       "      <td>0.0</td>\n",
       "      <td>0.0</td>\n",
       "      <td>0.0</td>\n",
       "      <td>0.0</td>\n",
       "    </tr>\n",
       "    <tr>\n",
       "      <th>2</th>\n",
       "      <td>1.0</td>\n",
       "      <td>0.0</td>\n",
       "      <td>0.0</td>\n",
       "      <td>0.0</td>\n",
       "      <td>0.0</td>\n",
       "    </tr>\n",
       "    <tr>\n",
       "      <th>3</th>\n",
       "      <td>1.5</td>\n",
       "      <td>0.0</td>\n",
       "      <td>0.0</td>\n",
       "      <td>0.0</td>\n",
       "      <td>0.0</td>\n",
       "    </tr>\n",
       "    <tr>\n",
       "      <th>4</th>\n",
       "      <td>0.0</td>\n",
       "      <td>0.0</td>\n",
       "      <td>0.0</td>\n",
       "      <td>0.0</td>\n",
       "      <td>0.0</td>\n",
       "    </tr>\n",
       "  </tbody>\n",
       "</table>\n",
       "</div>"
      ]
     },
     "execution_count": 8,
     "metadata": {},
     "output_type": "execute_result"
    }
   ],
   "execution_count": 8
  },
  {
   "metadata": {
    "ExecuteTime": {
     "end_time": "2025-04-22T13:10:41.396990Z",
     "start_time": "2025-04-22T13:10:41.031372Z"
    }
   },
   "cell_type": "code",
   "source": [
    "OS_cat=dfT2['CDR_SB']\n",
    "OS_cat= OS_cat.iloc[:-1] # remove the last value (based on Nan due to the inclusion of the mask)\n",
    "\n",
    "X = dfT2.copy()\n",
    "X= X.drop(columns=['CDR_SB'])\n",
    "X = X.drop(X.index[-1])\n",
    "print(X.shape)"
   ],
   "id": "89e701423cfc72f",
   "outputs": [
    {
     "name": "stdout",
     "output_type": "stream",
     "text": [
      "(177, 161817)\n"
     ]
    }
   ],
   "execution_count": 22
  },
  {
   "cell_type": "markdown",
   "id": "99edffbc",
   "metadata": {},
   "source": [
    "#### Dimensionality Reduction with UMAP"
   ]
  },
  {
   "metadata": {
    "ExecuteTime": {
     "end_time": "2025-04-22T13:09:14.617846Z",
     "start_time": "2025-04-22T13:09:14.615667Z"
    }
   },
   "cell_type": "code",
   "source": "import umap",
   "id": "d68478a772457622",
   "outputs": [],
   "execution_count": 17
  },
  {
   "metadata": {
    "ExecuteTime": {
     "end_time": "2025-04-22T13:09:18.026394Z",
     "start_time": "2025-04-22T13:09:16.352695Z"
    }
   },
   "cell_type": "code",
   "source": [
    "reducer = umap.UMAP(n_neighbors=15, # default 15, The size of local neighborhood (in terms of number of neighboring sample points) used for manifold approximation.\n",
    "               n_components=2, # default 2, The dimension of the space to embed into.\n",
    "               metric='euclidean', # default 'euclidean', The metric to use to compute distances in high dimensional space.\n",
    "               n_epochs=1000, # default None, The number of training epochs to be used in optimizing the low dimensional embedding. Larger values result in more accurate embeddings.\n",
    "               learning_rate=1.0, # default 1.0, The initial learning rate for the embedding optimization.\n",
    "               init='spectral', # default 'spectral', How to initialize the low dimensional embedding. Options are: {'spectral', 'random', A numpy array of initial embedding positions}.\n",
    "               min_dist=0.1, # default 0.1, The effective minimum distance between embedded points.\n",
    "               spread=1.0, # default 1.0, The effective scale of embedded points. In combination with ``min_dist`` this determines how clustered/clumped the embedded points are.\n",
    "               low_memory=False, # default False, For some datasets the nearest neighbor computation can consume a lot of memory. If you find that UMAP is failing due to memory constraints consider setting this option to True.\n",
    "               set_op_mix_ratio=1.0, # default 1.0, The value of this parameter should be between 0.0 and 1.0; a value of 1.0 will use a pure fuzzy union, while 0.0 will use a pure fuzzy intersection.\n",
    "               local_connectivity=1, # default 1, The local connectivity required -- i.e. the number of nearest neighbors that should be assumed to be connected at a local level.\n",
    "               repulsion_strength=1.0, # default 1.0, Weighting applied to negative samples in low dimensional embedding optimization.\n",
    "               negative_sample_rate=5, # default 5, Increasing this value will result in greater repulsive force being applied, greater optimization cost, but slightly more accuracy.\n",
    "               transform_queue_size=4.0, # default 4.0, Larger values will result in slower performance but more accurate nearest neighbor evaluation.\n",
    "               a=None, # default None, More specific parameters controlling the embedding. If None these values are set automatically as determined by ``min_dist`` and ``spread``.\n",
    "               b=None, # default None, More specific parameters controlling the embedding. If None these values are set automatically as determined by ``min_dist`` and ``spread``.\n",
    "               random_state=42, # default: None, If int, random_state is the seed used by the random number generator;\n",
    "               metric_kwds=None, # default None) Arguments to pass on to the metric, such as the ``p`` value for Minkowski distance.\n",
    "               angular_rp_forest=False, # default False, Whether to use an angular random projection forest to initialise the approximate nearest neighbor search.\n",
    "               target_n_neighbors=-1, # default -1, The number of nearest neighbors to use to construct the target simplcial set. If set to -1 use the ``n_neighbors`` value.\n",
    "               #target_metric='categorical', # default 'categorical', The metric used to measure distance for a target array is using supervised dimension reduction. By default this is 'categorical' which will measure distance in terms of whether categories match or are different.\n",
    "               #target_metric_kwds=None, # dict, default None, Keyword argument to pass to the target metric when performing supervised dimension reduction. If None then no arguments are passed on.\n",
    "               #target_weight=0.5, # default 0.5, weighting factor between data topology and target topology.\n",
    "               transform_seed=42, # default 42, Random seed used for the stochastic aspects of the transform operation.\n",
    "               verbose=False, # default False, Controls verbosity of logging.\n",
    "               unique=False, # default False, Controls if the rows of your data should be uniqued before being embedded.\n",
    "              )\n",
    "X_trans = reducer.fit_transform(X)"
   ],
   "id": "a26891fd",
   "outputs": [
    {
     "name": "stderr",
     "output_type": "stream",
     "text": [
      "/opt/anaconda3/envs/neuro/lib/python3.10/site-packages/sklearn/utils/deprecation.py:151: FutureWarning: 'force_all_finite' was renamed to 'ensure_all_finite' in 1.6 and will be removed in 1.8.\n",
      "  warnings.warn(\n",
      "/opt/anaconda3/envs/neuro/lib/python3.10/site-packages/umap/umap_.py:1952: UserWarning: n_jobs value 1 overridden to 1 by setting random_state. Use no seed for parallelism.\n",
      "  warn(\n"
     ]
    }
   ],
   "execution_count": 18
  },
  {
   "cell_type": "markdown",
   "id": "28e43a98",
   "metadata": {},
   "source": [
    "#### Cluster UMAP Results with GMM"
   ]
  },
  {
   "metadata": {
    "ExecuteTime": {
     "end_time": "2025-04-22T13:10:48.057179Z",
     "start_time": "2025-04-22T13:10:48.049989Z"
    }
   },
   "cell_type": "code",
   "source": [
    "import statsmodels.api as sm\n",
    "\n",
    "y = OS_cat\n",
    "\n",
    "# Add a constant to the features\n",
    "X_ols = sm.add_constant(X_trans)\n",
    "\n",
    "# Fit the OLS model\n",
    "model = sm.OLS(y, X_ols).fit()\n",
    "\n",
    "# Predictions and residuals\n",
    "y_pred = model.predict(X_ols)\n",
    "residuals = y - y_pred\n",
    "\n",
    "# Display the results\n",
    "print(model.summary())"
   ],
   "id": "5c5d7bc7b6687fca",
   "outputs": [
    {
     "name": "stdout",
     "output_type": "stream",
     "text": [
      "                            OLS Regression Results                            \n",
      "==============================================================================\n",
      "Dep. Variable:                 CDR_SB   R-squared:                       0.021\n",
      "Model:                            OLS   Adj. R-squared:                  0.010\n",
      "Method:                 Least Squares   F-statistic:                     1.849\n",
      "Date:                Tue, 22 Apr 2025   Prob (F-statistic):              0.161\n",
      "Time:                        15:10:48   Log-Likelihood:                -470.49\n",
      "No. Observations:                 177   AIC:                             947.0\n",
      "Df Residuals:                     174   BIC:                             956.5\n",
      "Df Model:                           2                                         \n",
      "Covariance Type:            nonrobust                                         \n",
      "==============================================================================\n",
      "                 coef    std err          t      P>|t|      [0.025      0.975]\n",
      "------------------------------------------------------------------------------\n",
      "const          8.2829      2.916      2.841      0.005       2.528      14.038\n",
      "x1             0.0175      0.085      0.207      0.837      -0.149       0.184\n",
      "x2            -0.3607      0.189     -1.907      0.058      -0.734       0.013\n",
      "==============================================================================\n",
      "Omnibus:                       51.230   Durbin-Watson:                   1.962\n",
      "Prob(Omnibus):                  0.000   Jarque-Bera (JB):               95.121\n",
      "Skew:                           1.411   Prob(JB):                     2.21e-21\n",
      "Kurtosis:                       5.223   Cond. No.                         326.\n",
      "==============================================================================\n",
      "\n",
      "Notes:\n",
      "[1] Standard Errors assume that the covariance matrix of the errors is correctly specified.\n"
     ]
    }
   ],
   "execution_count": 23
  },
  {
   "cell_type": "markdown",
   "id": "ae8371db",
   "metadata": {},
   "source": [
    "- Applies Gaussian Mixture Model (GMM) clustering on the UMAP-reduced data (X_trans).\n",
    "\n",
    "- Uses 3 clusters, assuming that the functional connectivity might naturally cluster into three survival groups"
   ]
  },
  {
   "cell_type": "code",
   "id": "76663aa8",
   "metadata": {},
   "source": [
    "clustering_gmm = GaussianMixture(n_components=3, random_state=42)\n",
    "\n",
    "labels_gmm = clustering_gmm.fit_predict(X_trans)\n",
    "assignedUMAP=pd.DataFrame({'labels':labels_gmm,\n",
    "                           'X1':X_trans[:,0],\n",
    "                           'X2':X_trans[:,1],\n",
    "                           'OS':OS_cat2})\n",
    "assignedUMAP['code']=files_"
   ],
   "outputs": [],
   "execution_count": null
  },
  {
   "cell_type": "markdown",
   "id": "f52cd197",
   "metadata": {},
   "source": [
    "#### Visualize results"
   ]
  },
  {
   "cell_type": "code",
   "id": "8c773f54",
   "metadata": {},
   "source": [
    "fig, ax = plt.subplots(1,2, figsize=(12,6))\n",
    "sns.scatterplot(y=X_trans[:,0], x=X_trans[:,1], \n",
    "            hue=OS_cat2, s=140, palette='Set1', ax=ax[0],legend=False)\n",
    "\n",
    "sns.scatterplot(y='X1', x='X2', hue='labels',legend=True,\n",
    "                s=140, palette='Set1', data=assignedUMAP, ax=ax[1])\n",
    "\n",
    "plt.savefig('UMAP_volume.png', dpi=300)\n",
    "#assignedUMAP.to_excel('UMAP.xlsx')\n",
    "#lab0=assignedUMAP.code[assignedUMAP.labels==0]"
   ],
   "outputs": [],
   "execution_count": null
  },
  {
   "cell_type": "code",
   "id": "71bfab9f",
   "metadata": {},
   "source": [
    "print('variance explained by UMAP components')\n",
    "#MNIST variation explained by UMAP1\n",
    "for dimension in range(X_trans.shape[1]):\n",
    "    UMAP_matrix = pd.DataFrame(X_trans[:, dimension:dimension+1])\n",
    "    pls = PLSRegression(n_components = 1)\n",
    "    pls.fit(UMAP_matrix, X)\n",
    "    y_pred = pls.predict(UMAP_matrix)\n",
    "    print(r2_score(X, y_pred, multioutput = 'variance_weighted'))"
   ],
   "outputs": [],
   "execution_count": null
  },
  {
   "cell_type": "markdown",
   "id": "74ed896d",
   "metadata": {},
   "source": [
    "#### Compute Cluster-Averaged Connectivity Maps"
   ]
  },
  {
   "cell_type": "code",
   "id": "11acfe9f",
   "metadata": {},
   "source": [
    "#lab0 = assignedUMAP.code[(assignedUMAP.labels == 0) & (assignedUMAP.X2 < -1.8)]\n",
    "# Selects subjects assigned to cluster x\n",
    "lab0 = assignedUMAP.code[(assignedUMAP.labels == 0)]\n",
    "print(lab0.shape)\n",
    "lab0_max=lab0\n",
    "df_fdc_lab0 = df_fdc[df_fdc.CODE.isin(lab0)]\n",
    "df_fdc_lab0=df_fdc_lab0.drop(columns='CODE')\n",
    "\n",
    "# Computes mean functional connectivity map for this group\n",
    "mean_values = np.asarray(df_fdc_lab0.mean())\n",
    "mapnii1=mean_values.reshape(91,109,91)\n",
    "\n",
    "# Saves the map\n",
    "mapfinal1 = nib.nifti1.Nifti1Image(mapnii1, aff)\n",
    "m='Label0_UMAP_GMM.nii.gz'\n",
    "dirpath='/home/lorenzo/Desktop/CODING/MY_PAPERS_ONGOING/PCFDC_June2023/'\n",
    "save=dirpath+m\n",
    "nib.save(mapfinal1, save)\n",
    "\n",
    "# Uses nilearn to visualize it\n",
    "plotting.plot_glass_brain(mapfinal1, cmap='viridis', threshold=0.2, vmax=0.4, colorbar=True)\n",
    "#plt.savefig('meanFC_low.png', dpi=300, bbox_inches='tight')\n",
    "plt.show()"
   ],
   "outputs": [],
   "execution_count": null
  },
  {
   "cell_type": "code",
   "id": "5aa34224",
   "metadata": {},
   "source": [
    "%%bash\n",
    "wb_command -volume-to-surface-mapping \\\n",
    "    /home/lorenzo/Desktop/CODING/MY_PAPERS_ONGOING/PCFDC_June2023/Label0_UMAP_GMM.nii.gz \\\n",
    "    /home/lorenzo/Desktop/ColeAnticevicNetPartition-master/S1200.L.very_inflated_MSMAll.32k_fs_LR.surf.gii \\\n",
    "    /home/lorenzo/Desktop/CODING/MY_PAPERS_ONGOING/PCFDC_June2023/Label0_UMAP_GMM.left.shape.gii \\\n",
    "    -trilinear\n",
    "\n",
    "wb_command -volume-to-surface-mapping \\\n",
    "    /home/lorenzo/Desktop/CODING/MY_PAPERS_ONGOING/PCFDC_June2023/Label0_UMAP_GMM.nii.gz \\\n",
    "    /home/lorenzo/Desktop/ColeAnticevicNetPartition-master/S1200.R.very_inflated_MSMAll.32k_fs_LR.surf.gii \\\n",
    "    /home/lorenzo/Desktop/CODING/MY_PAPERS_ONGOING/PCFDC_June2023/Label0_UMAP_GMM.right.shape.gii \\\n",
    "    -trilinear\n",
    "    \n",
    " wb_view \\\n",
    "    /home/lorenzo/Desktop/ColeAnticevicNetPartition-master/S1200.L.very_inflated_MSMAll.32k_fs_LR.surf.gii \\\n",
    "    /home/lorenzo/Desktop/ColeAnticevicNetPartition-master/S1200.R.very_inflated_MSMAll.32k_fs_LR.surf.gii \\\n",
    "    /home/lorenzo/Desktop/CODING/MY_PAPERS_ONGOING/PCFDC_June2023/Label0_UMAP_GMM.left.shape.gii \\\n",
    "    /home/lorenzo/Desktop/CODING/MY_PAPERS_ONGOING/PCFDC_June2023/Label0_UMAP_GMM.right.shape.gii    "
   ],
   "outputs": [],
   "execution_count": null
  },
  {
   "cell_type": "code",
   "id": "01635175",
   "metadata": {},
   "source": [
    "lab1=assignedUMAP.code[assignedUMAP.labels==1]\n",
    "#lab1 = assignedUMAP.code[(assignedUMAP.labels == 1) & (assignedUMAP.X1 > 9.5)]\n",
    "print(lab1.shape)\n",
    "df_fdc_lab1 = df_fdc[df_fdc.CODE.isin(lab1)]\n",
    "df_fdc_lab1=df_fdc_lab1.drop(columns='CODE')\n",
    "mean_values = np.asarray(df_fdc_lab1.mean())\n",
    "mapnii1=mean_values.reshape(91,109,91)\n",
    "mapfinal1 = nib.nifti1.Nifti1Image(mapnii1, aff)\n",
    "m='Label1_UMAP_GMM.nii.gz'\n",
    "dirpath='/home/lorenzo/Desktop/CODING/MY_PAPERS_ONGOING/PCFDC_June2023/'\n",
    "save=dirpath+m\n",
    "nib.save(mapfinal1, save)\n",
    "plotting.plot_glass_brain(mapfinal1, cmap='viridis', threshold=0.2, vmax=0.4, colorbar=True)\n",
    "#plt.savefig('meanFC_low.png', dpi=300, bbox_inches='tight')\n",
    "plt.show()"
   ],
   "outputs": [],
   "execution_count": null
  },
  {
   "cell_type": "raw",
   "id": "35a60511",
   "metadata": {},
   "source": [
    "%%bash\n",
    "wb_command -volume-to-surface-mapping \\\n",
    "    /home/lorenzo/Desktop/CODING/MY_PAPERS_ONGOING/PCFDC_June2023/Label1_UMAP_GMM.nii.gz \\\n",
    "    /home/lorenzo/Desktop/ColeAnticevicNetPartition-master/S1200.L.very_inflated_MSMAll.32k_fs_LR.surf.gii \\\n",
    "    /home/lorenzo/Desktop/CODING/MY_PAPERS_ONGOING/PCFDC_June2023/Label1_UMAP_GMM.left.shape.gii \\\n",
    "    -trilinear\n",
    "\n",
    "wb_command -volume-to-surface-mapping \\\n",
    "    /home/lorenzo/Desktop/CODING/MY_PAPERS_ONGOING/PCFDC_June2023/Label1_UMAP_GMM.nii.gz \\\n",
    "    /home/lorenzo/Desktop/ColeAnticevicNetPartition-master/S1200.R.very_inflated_MSMAll.32k_fs_LR.surf.gii \\\n",
    "    /home/lorenzo/Desktop/CODING/MY_PAPERS_ONGOING/PCFDC_June2023/Label1_UMAP_GMM.right.shape.gii \\\n",
    "    -trilinear\n",
    "    \n",
    " wb_view \\\n",
    "    /home/lorenzo/Desktop/ColeAnticevicNetPartition-master/S1200.L.very_inflated_MSMAll.32k_fs_LR.surf.gii \\\n",
    "    /home/lorenzo/Desktop/ColeAnticevicNetPartition-master/S1200.R.very_inflated_MSMAll.32k_fs_LR.surf.gii \\\n",
    "    /home/lorenzo/Desktop/CODING/MY_PAPERS_ONGOING/PCFDC_June2023/Label1_UMAP_GMM.left.shape.gii \\\n",
    "    /home/lorenzo/Desktop/CODING/MY_PAPERS_ONGOING/PCFDC_June2023/Label1_UMAP_GMM.right.shape.gii    "
   ]
  },
  {
   "cell_type": "code",
   "id": "5a47fdb7",
   "metadata": {},
   "source": [
    "lab2=assignedUMAP.code[assignedUMAP.labels==2]\n",
    "df_fdc_lab2 = df_fdc[df_fdc.CODE.isin(lab2)]\n",
    "df_fdc_lab2=df_fdc_lab2.drop(columns='CODE')\n",
    "mean_values = np.asarray(df_fdc_lab2.mean())\n",
    "mapnii1=mean_values.reshape(91,109,91)\n",
    "mapfinal1 = nib.nifti1.Nifti1Image(mapnii1, aff)\n",
    "m='Label2_UMAP_GMM.nii.gz'\n",
    "dirpath='/home/lorenzo/Desktop/CODING/MY_PAPERS_ONGOING/PCFDC_June2023/'\n",
    "save=dirpath+m\n",
    "nib.save(mapfinal1, save)\n",
    "plotting.plot_glass_brain(mapfinal1, cmap='viridis', threshold=0.2, vmax=0.4, colorbar=True)\n",
    "#plt.savefig('meanFC_low.png', dpi=300, bbox_inches='tight')\n",
    "plt.show()"
   ],
   "outputs": [],
   "execution_count": null
  },
  {
   "cell_type": "markdown",
   "id": "261776b3",
   "metadata": {},
   "source": [
    "## Surface-Based UMAP"
   ]
  },
  {
   "cell_type": "raw",
   "id": "8e30f86e",
   "metadata": {},
   "source": [
    "%%bash\n",
    "wb_command -volume-to-surface-mapping \\\n",
    "    /home/lorenzo/Desktop/CODING/MY_PAPERS_ONGOING/PCFDC_June2023/Label2_UMAP_GMM.nii.gz \\\n",
    "    /home/lorenzo/Desktop/ColeAnticevicNetPartition-master/S1200.L.very_inflated_MSMAll.32k_fs_LR.surf.gii \\\n",
    "    /home/lorenzo/Desktop/CODING/MY_PAPERS_ONGOING/PCFDC_June2023/Label2_UMAP_GMM.left.shape.gii \\\n",
    "    -trilinear\n",
    "\n",
    "wb_command -volume-to-surface-mapping \\\n",
    "    /home/lorenzo/Desktop/CODING/MY_PAPERS_ONGOING/PCFDC_June2023/Label2_UMAP_GMM.nii.gz \\\n",
    "    /home/lorenzo/Desktop/ColeAnticevicNetPartition-master/S1200.R.very_inflated_MSMAll.32k_fs_LR.surf.gii \\\n",
    "    /home/lorenzo/Desktop/CODING/MY_PAPERS_ONGOING/PCFDC_June2023/Label2_UMAP_GMM.right.shape.gii \\\n",
    "    -trilinear\n",
    "    \n",
    " wb_view \\\n",
    "    /home/lorenzo/Desktop/ColeAnticevicNetPartition-master/S1200.L.very_inflated_MSMAll.32k_fs_LR.surf.gii \\\n",
    "    /home/lorenzo/Desktop/ColeAnticevicNetPartition-master/S1200.R.very_inflated_MSMAll.32k_fs_LR.surf.gii \\\n",
    "    /home/lorenzo/Desktop/CODING/MY_PAPERS_ONGOING/PCFDC_June2023/Label2_UMAP_GMM.left.shape.gii \\\n",
    "    /home/lorenzo/Desktop/CODING/MY_PAPERS_ONGOING/PCFDC_June2023/Label2_UMAP_GMM.right.shape.gii    "
   ]
  },
  {
   "cell_type": "raw",
   "id": "b24a02a7",
   "metadata": {},
   "source": [
    "%%bash\n",
    "cd /home/lorenzo/Desktop/CODING/MY_PAPERS_ONGOING/PCFDC_June2023\n",
    "mkdir the_99subj_PCFDC_maps_surface_rh\n",
    "mkdir the_99subj_PCFDC_maps_surface_lh\n",
    "\n",
    "cd the_99_subjs\n",
    "ls *gz > list_volume\n",
    "for i in `cat list_volume`; do\n",
    "    mri_vol2surf \\\n",
    "       --srcreg /usr/local/freesurfer/7.3.2/average/mni152.register.dat \\\n",
    "       --mov $i --trgsubject fsaverage \\\n",
    "       --o ../the_99subj_PCFDC_maps_surface_lh/$i.lh.mgh --hemi lh\n",
    "\n",
    "    mri_vol2surf \\\n",
    "       --srcreg /usr/local/freesurfer/7.3.2/average/mni152.register.dat \\\n",
    "       --mov $i --trgsubject fsaverage \\\n",
    "       --o ../the_99subj_PCFDC_maps_surface_rh/$i.rh.mgh --hemi rh\n",
    "done"
   ]
  },
  {
   "cell_type": "markdown",
   "id": "030ea80b",
   "metadata": {},
   "source": [
    "- Converts volumetric (.nii.gz) brain maps into surface-based \n",
    "\n",
    "- Uses FreeSurfer’s fsaverage template for alignment"
   ]
  },
  {
   "cell_type": "markdown",
   "id": "ad629453",
   "metadata": {},
   "source": [
    "### Left Hemisphere Data"
   ]
  },
  {
   "cell_type": "markdown",
   "id": "2b4c3516",
   "metadata": {},
   "source": [
    "Load Left Hemisphere Surface Data"
   ]
  },
  {
   "cell_type": "code",
   "id": "0659d5b4",
   "metadata": {
    "scrolled": true
   },
   "source": [
    "path_surf_lh='/home/lorenzo/Desktop/CODING/MY_PAPERS_ONGOING/PCFDC_June2023/the_99subj_PCFDC_maps_surface_lh/*lh.mgh'\n",
    "mapsPCFDC_surf_lh=[]\n",
    "files_surf_lh=glob.glob(path_surf_lh)\n",
    "files_surf_lh.sort()\n",
    "\n",
    "for x in range(len(files_surf_lh)):\n",
    "    print(files_surf_lh[x])\n",
    "    d=nib.load(files_surf_lh[x]).get_fdata().flatten()\n",
    "    mapsPCFDC_surf_lh.append(d)\n",
    "df_surf_lh=pd.DataFrame(mapsPCFDC_surf_lh)"
   ],
   "outputs": [],
   "execution_count": null
  },
  {
   "cell_type": "markdown",
   "id": "5bdfcdd6",
   "metadata": {},
   "source": [
    "Merge Surface Data with Survival Information"
   ]
  },
  {
   "cell_type": "code",
   "id": "1eadeb89",
   "metadata": {},
   "source": [
    "os=pd.read_excel('OS_the_99_subjs.xlsx')\n",
    "df_surf_lh.insert(loc=0, column='OS', value=os.OS_months)\n",
    "df_surf_lh['OS_category'] = df_surf_lh['OS'].apply(lambda x: 'Low' if x < 6 else ('Interm' if 6 <= x <= 20 else 'High'))\n",
    "print(df_surf_lh.shape)\n",
    "df_surf_lh.tail(4)"
   ],
   "outputs": [],
   "execution_count": null
  },
  {
   "cell_type": "code",
   "id": "52d1fbb1",
   "metadata": {},
   "source": [
    "OS_cat=df_surf_lh['OS_category']\n",
    "X_surf_lh=df_surf_lh.drop(columns=['OS','OS_category'])\n",
    "print(X_surf_lh.shape)"
   ],
   "outputs": [],
   "execution_count": null
  },
  {
   "cell_type": "markdown",
   "id": "25446f88",
   "metadata": {},
   "source": [
    "UMAP for Dimensionality Reduction"
   ]
  },
  {
   "cell_type": "code",
   "id": "98a5f95f",
   "metadata": {},
   "source": [
    "reducer = umap.UMAP(n_neighbors=15, # default 15, The size of local neighborhood (in terms of number of neighboring sample points) used for manifold approximation.\n",
    "               n_components=2, # default 2, The dimension of the space to embed into.\n",
    "               metric='euclidean', # default 'euclidean', The metric to use to compute distances in high dimensional space.\n",
    "               n_epochs=1000, # default None, The number of training epochs to be used in optimizing the low dimensional embedding. Larger values result in more accurate embeddings. \n",
    "               learning_rate=1.0, # default 1.0, The initial learning rate for the embedding optimization.\n",
    "               init='spectral', # default 'spectral', How to initialize the low dimensional embedding. Options are: {'spectral', 'random', A numpy array of initial embedding positions}.\n",
    "               min_dist=0.1, # default 0.1, The effective minimum distance between embedded points.\n",
    "               spread=1.0, # default 1.0, The effective scale of embedded points. In combination with ``min_dist`` this determines how clustered/clumped the embedded points are.\n",
    "               low_memory=False, # default False, For some datasets the nearest neighbor computation can consume a lot of memory. If you find that UMAP is failing due to memory constraints consider setting this option to True.\n",
    "               set_op_mix_ratio=1.0, # default 1.0, The value of this parameter should be between 0.0 and 1.0; a value of 1.0 will use a pure fuzzy union, while 0.0 will use a pure fuzzy intersection.\n",
    "               local_connectivity=1, # default 1, The local connectivity required -- i.e. the number of nearest neighbors that should be assumed to be connected at a local level.\n",
    "               repulsion_strength=1.0, # default 1.0, Weighting applied to negative samples in low dimensional embedding optimization.\n",
    "               negative_sample_rate=5, # default 5, Increasing this value will result in greater repulsive force being applied, greater optimization cost, but slightly more accuracy.\n",
    "               transform_queue_size=4.0, # default 4.0, Larger values will result in slower performance but more accurate nearest neighbor evaluation.\n",
    "               a=None, # default None, More specific parameters controlling the embedding. If None these values are set automatically as determined by ``min_dist`` and ``spread``.\n",
    "               b=None, # default None, More specific parameters controlling the embedding. If None these values are set automatically as determined by ``min_dist`` and ``spread``.\n",
    "               random_state=42, # default: None, If int, random_state is the seed used by the random number generator;\n",
    "               metric_kwds=None, # default None) Arguments to pass on to the metric, such as the ``p`` value for Minkowski distance.\n",
    "               angular_rp_forest=False, # default False, Whether to use an angular random projection forest to initialise the approximate nearest neighbor search.\n",
    "               target_n_neighbors=-1, # default -1, The number of nearest neighbors to use to construct the target simplcial set. If set to -1 use the ``n_neighbors`` value.\n",
    "               #target_metric='categorical', # default 'categorical', The metric used to measure distance for a target array is using supervised dimension reduction. By default this is 'categorical' which will measure distance in terms of whether categories match or are different. \n",
    "               #target_metric_kwds=None, # dict, default None, Keyword argument to pass to the target metric when performing supervised dimension reduction. If None then no arguments are passed on.\n",
    "               #target_weight=0.5, # default 0.5, weighting factor between data topology and target topology.\n",
    "               transform_seed=42, # default 42, Random seed used for the stochastic aspects of the transform operation.\n",
    "               verbose=False, # default False, Controls verbosity of logging.\n",
    "               unique=False, # default False, Controls if the rows of your data should be uniqued before being embedded. \n",
    "              )\n",
    "X_trans = reducer.fit_transform(X_surf_lh)"
   ],
   "outputs": [],
   "execution_count": null
  },
  {
   "cell_type": "markdown",
   "id": "56f98cfc",
   "metadata": {},
   "source": [
    "Visualize the UMAP Projection"
   ]
  },
  {
   "cell_type": "code",
   "id": "78b2263e",
   "metadata": {},
   "source": [
    "fig, ax = plt.subplots(1, figsize=(5,6))\n",
    "sns.scatterplot(y=X_trans[:,0], x=X_trans[:,1], \n",
    "                hue=OS_cat, s=140, palette='Set1')\n",
    "plt.savefig('UMAP_left_surface.png', dpi=300)"
   ],
   "outputs": [],
   "execution_count": null
  },
  {
   "cell_type": "markdown",
   "id": "dc0f3446",
   "metadata": {},
   "source": [
    "#### Compute Variance Explained"
   ]
  },
  {
   "cell_type": "code",
   "id": "5222c963",
   "metadata": {},
   "source": [
    "print('variance explained by UMAP components')\n",
    "#MNIST variation explained by UMAP1\n",
    "for dimension in range(X_trans.shape[1]):\n",
    "    UMAP_matrix = pd.DataFrame(X_trans[:, dimension:dimension+1])\n",
    "    pls = PLSRegression(n_components = 1)\n",
    "    pls.fit(UMAP_matrix, X_surf_lh)\n",
    "    y_pred = pls.predict(UMAP_matrix)\n",
    "    print(r2_score(X_surf_lh, y_pred, multioutput = 'variance_weighted'))"
   ],
   "outputs": [],
   "execution_count": null
  },
  {
   "cell_type": "code",
   "id": "d50f4122",
   "metadata": {},
   "source": [
    "del df_surf_lh, X, X_trans"
   ],
   "outputs": [],
   "execution_count": null
  },
  {
   "cell_type": "markdown",
   "id": "9094b706",
   "metadata": {},
   "source": [
    "### Right Hemisphere Data"
   ]
  },
  {
   "cell_type": "markdown",
   "id": "aa7c9b2d",
   "metadata": {},
   "source": [
    "Loads right hemisphere surface-based maps"
   ]
  },
  {
   "cell_type": "code",
   "id": "2281373a",
   "metadata": {
    "scrolled": true
   },
   "source": [
    "path_surf_rh='/home/lorenzo/Desktop/CODING/MY_PAPERS_ONGOING/PCFDC_June2023/the_99subj_PCFDC_maps_surface_rh/*rh.mgh'\n",
    "mapsPCFDC_surf_rh=[]\n",
    "files_surf_rh=glob.glob(path_surf_rh)\n",
    "files_surf_rh.sort()\n",
    "\n",
    "for x in range(len(files_surf_rh)):\n",
    "    print(files_surf_rh[x])\n",
    "    d=nib.load(files_surf_rh[x]).get_fdata().flatten()\n",
    "    mapsPCFDC_surf_rh.append(d)\n",
    "df_surf_rh=pd.DataFrame(mapsPCFDC_surf_rh)"
   ],
   "outputs": [],
   "execution_count": null
  },
  {
   "cell_type": "markdown",
   "id": "cea7b5d1",
   "metadata": {},
   "source": [
    "Merges survival data with right hemisphere maps."
   ]
  },
  {
   "cell_type": "code",
   "id": "d2aa0d68",
   "metadata": {},
   "source": [
    "os=pd.read_excel('OS_the_99_subjs.xlsx')\n",
    "df_surf_rh.insert(loc=0, column='OS', value=os.OS_months)\n",
    "df_surf_rh['OS_category'] = df_surf_rh['OS'].apply(lambda x: 'Low' if x < 6 else ('Interm' if 6 <= x <= 20 else 'High'))\n",
    "print(df_surf_rh.shape)\n",
    "df_surf_rh.tail(4)"
   ],
   "outputs": [],
   "execution_count": null
  },
  {
   "cell_type": "code",
   "id": "df438833",
   "metadata": {},
   "source": [
    "OS_cat=df_surf_rh['OS_category']\n",
    "X_surf_rh=df_surf_rh.drop(columns=['OS','OS_category'])\n",
    "print(X_surf_rh.shape)"
   ],
   "outputs": [],
   "execution_count": null
  },
  {
   "cell_type": "markdown",
   "id": "29b9a34e",
   "metadata": {},
   "source": [
    "UMAP for Dimensionality Reduction"
   ]
  },
  {
   "cell_type": "code",
   "id": "246be81d",
   "metadata": {},
   "source": [
    "reducer = umap.UMAP(n_neighbors=15, # default 15, The size of local neighborhood (in terms of number of neighboring sample points) used for manifold approximation.\n",
    "               n_components=2, # default 2, The dimension of the space to embed into.\n",
    "               metric='euclidean', # default 'euclidean', The metric to use to compute distances in high dimensional space.\n",
    "               n_epochs=1000, # default None, The number of training epochs to be used in optimizing the low dimensional embedding. Larger values result in more accurate embeddings. \n",
    "               learning_rate=1.0, # default 1.0, The initial learning rate for the embedding optimization.\n",
    "               init='spectral', # default 'spectral', How to initialize the low dimensional embedding. Options are: {'spectral', 'random', A numpy array of initial embedding positions}.\n",
    "               min_dist=0.1, # default 0.1, The effective minimum distance between embedded points.\n",
    "               spread=1.0, # default 1.0, The effective scale of embedded points. In combination with ``min_dist`` this determines how clustered/clumped the embedded points are.\n",
    "               low_memory=False, # default False, For some datasets the nearest neighbor computation can consume a lot of memory. If you find that UMAP is failing due to memory constraints consider setting this option to True.\n",
    "               set_op_mix_ratio=1.0, # default 1.0, The value of this parameter should be between 0.0 and 1.0; a value of 1.0 will use a pure fuzzy union, while 0.0 will use a pure fuzzy intersection.\n",
    "               local_connectivity=1, # default 1, The local connectivity required -- i.e. the number of nearest neighbors that should be assumed to be connected at a local level.\n",
    "               repulsion_strength=1.0, # default 1.0, Weighting applied to negative samples in low dimensional embedding optimization.\n",
    "               negative_sample_rate=5, # default 5, Increasing this value will result in greater repulsive force being applied, greater optimization cost, but slightly more accuracy.\n",
    "               transform_queue_size=4.0, # default 4.0, Larger values will result in slower performance but more accurate nearest neighbor evaluation.\n",
    "               a=None, # default None, More specific parameters controlling the embedding. If None these values are set automatically as determined by ``min_dist`` and ``spread``.\n",
    "               b=None, # default None, More specific parameters controlling the embedding. If None these values are set automatically as determined by ``min_dist`` and ``spread``.\n",
    "               random_state=42, # default: None, If int, random_state is the seed used by the random number generator;\n",
    "               metric_kwds=None, # default None) Arguments to pass on to the metric, such as the ``p`` value for Minkowski distance.\n",
    "               angular_rp_forest=False, # default False, Whether to use an angular random projection forest to initialise the approximate nearest neighbor search.\n",
    "               target_n_neighbors=-1, # default -1, The number of nearest neighbors to use to construct the target simplcial set. If set to -1 use the ``n_neighbors`` value.\n",
    "               #target_metric='categorical', # default 'categorical', The metric used to measure distance for a target array is using supervised dimension reduction. By default this is 'categorical' which will measure distance in terms of whether categories match or are different. \n",
    "               #target_metric_kwds=None, # dict, default None, Keyword argument to pass to the target metric when performing supervised dimension reduction. If None then no arguments are passed on.\n",
    "               #target_weight=0.5, # default 0.5, weighting factor between data topology and target topology.\n",
    "               transform_seed=42, # default 42, Random seed used for the stochastic aspects of the transform operation.\n",
    "               verbose=False, # default False, Controls verbosity of logging.\n",
    "               unique=False, # default False, Controls if the rows of your data should be uniqued before being embedded. \n",
    "              )\n",
    "X_trans = reducer.fit_transform(X_surf_rh)"
   ],
   "outputs": [],
   "execution_count": null
  },
  {
   "cell_type": "markdown",
   "id": "4f4f9a1a",
   "metadata": {},
   "source": [
    "Plots the UMAP results for right hemisphere."
   ]
  },
  {
   "cell_type": "code",
   "id": "d882bcd5",
   "metadata": {},
   "source": [
    "fig, ax = plt.subplots(1, figsize=(5,6))\n",
    "sns.scatterplot(y=X_trans[:,0], x=X_trans[:,1], \n",
    "                hue=OS_cat, s=140, palette='Set1')\n",
    "plt.savefig('UMAP_right_surface.png', dpi=300)"
   ],
   "outputs": [],
   "execution_count": null
  },
  {
   "cell_type": "markdown",
   "id": "2e289b7b",
   "metadata": {},
   "source": [
    "Computes variance explained by UMAP components for right hemisphere"
   ]
  },
  {
   "cell_type": "code",
   "id": "9f9d5521",
   "metadata": {},
   "source": [
    "print('variance explained by UMAP components')\n",
    "#MNIST variation explained by UMAP1\n",
    "for dimension in range(X_trans.shape[1]):\n",
    "    UMAP_matrix = pd.DataFrame(X_trans[:, dimension:dimension+1])\n",
    "    pls = PLSRegression(n_components = 1)\n",
    "    pls.fit(UMAP_matrix, X_surf_rh)\n",
    "    y_pred = pls.predict(UMAP_matrix)\n",
    "    print(r2_score(X_surf_rh, y_pred, multioutput = 'variance_weighted'))"
   ],
   "outputs": [],
   "execution_count": null
  },
  {
   "cell_type": "markdown",
   "id": "cea80015",
   "metadata": {},
   "source": [
    "# 9. HUNGARIAN ALGORITHM"
   ]
  },
  {
   "cell_type": "markdown",
   "id": "699e35ac",
   "metadata": {},
   "source": [
    "### Data"
   ]
  },
  {
   "cell_type": "code",
   "id": "66d466fc",
   "metadata": {
    "scrolled": true
   },
   "source": [
    "# Load Functional Connectivity Data\n",
    "path='/home/lorenzo/Desktop/CODING/MY_PAPERS_ONGOING/PCFDC_June2023/the_99_subjs/*gz'\n",
    "mapsPCFDC=[]\n",
    "files=glob.glob(path)\n",
    "files.sort()\n",
    "\n",
    "for x in range(len(files)):\n",
    "    print(files[x])\n",
    "    d=nib.load(files[x]).get_fdata().flatten()\n",
    "    mapsPCFDC.append(d)\n",
    "aff=nib.load(files[0]).affine\n",
    "df=pd.DataFrame(mapsPCFDC)\n",
    "df=df.T\n",
    "\n",
    "df = df.mask(df < 0.2, 0) # MAKS VALUES LOWER THAN 0.2\n",
    "\n",
    "# Extract Subject Identifiers\n",
    "files_ = [sub.replace('/home/lorenzo/Desktop/CODING/MY_PAPERS_ONGOING/PCFDC_June2023/the_99_subjs/meanFC.', '') for sub in files]\n",
    "files_ = [sub.replace('.nii.gz', '') for sub in files_]\n",
    "df_fdc=df.T\n",
    "df_fdc.insert(loc = 0, column = 'CODE', value = files_)"
   ],
   "outputs": [],
   "execution_count": null
  },
  {
   "cell_type": "code",
   "id": "67e8e169",
   "metadata": {},
   "source": [
    "# Merge Survival Data\n",
    "os=pd.read_excel('OS_the_99_subjs.xlsx')\n",
    "df_fdc.insert(loc=1, column='OS', value=os.OS_months)\n",
    "df_fdc.head(3)"
   ],
   "outputs": [],
   "execution_count": null
  },
  {
   "cell_type": "markdown",
   "id": "7b5ea80f",
   "metadata": {},
   "source": [
    "### Hungarian Algorithm"
   ]
  },
  {
   "cell_type": "code",
   "id": "afaa93dd",
   "metadata": {
    "scrolled": true
   },
   "source": [
    "#fdc=df_fdc.T\n",
    "import time\n",
    "fdc=df_fdc\n",
    "max_corr=[]\n",
    "rval=[]\n",
    "pred_diff=[]\n",
    "perm_diff=[]\n",
    "\n",
    "fig, ax = plt.subplots(1, figsize=(5, 3))\n",
    "\n",
    "for random_seed in range(1000): # Run 1000 repetitions\n",
    "    print(random_seed)\n",
    "    s = time.time()\n",
    "    # Split dataset into two equal halves\n",
    "    fdc1, fdc2 = train_test_split(fdc, test_size=0.5, random_state=random_seed)\n",
    "\n",
    "    # Remove last element to ensure square matrix\n",
    "    fdc2 = fdc2[0: fdc2.shape[0] - 1]\n",
    "\n",
    "    # Save separately OS and Name for later matching\n",
    "    name1 = fdc1.CODE.tolist()\n",
    "    OS1 = fdc1.OS.tolist()\n",
    "    name2 = fdc2.CODE.tolist()\n",
    "    OS2 = fdc2.OS.tolist()\n",
    "\n",
    "    # Remove CODE and OS from dataset\n",
    "    fdc1 = fdc1.loc[:, ~fdc1.columns.isin(['CODE', 'OS'])]\n",
    "    fdc2 = fdc2.loc[:, ~fdc2.columns.isin(['CODE', 'OS'])]\n",
    "\n",
    "    # Compute Pearson Correlation Matrix\n",
    "    stat = []\n",
    "    for x in range(len(fdc2)):\n",
    "        for y in range(len(fdc1)):\n",
    "            statistic = stats.pearsonr(fdc2.iloc[x], fdc1.iloc[y])[0]\n",
    "            stat.append(statistic)\n",
    "\n",
    "    # Replace NaN values with 0 and reshape matrix\n",
    "    stat2_ = [0 if math.isnan(x) else x for x in stat]\n",
    "    stat3 = np.asarray(stat2_).reshape(fdc2.shape[0], fdc1.shape[0])\n",
    "\n",
    "    # Negative values become 0 (only positive correlations matter)\n",
    "    stat3[stat3 < 0] = 0\n",
    "\n",
    "    # Hungarian Algorithm: Find best matching subjects\n",
    "    fdc2_ind_riga, fdc1_ind_colonna = linear_sum_assignment(stat3)\n",
    "\n",
    "    # Reorder OS values based on the Hungarian assignment\n",
    "    name1_ordered = [name1[i] for i in fdc1_ind_colonna]\n",
    "    OS1_ordered = [OS1[i] for i in fdc1_ind_colonna]\n",
    "\n",
    "    # Compute Pearson correlation of predicted vs. actual OS\n",
    "    rval.append(stats.pearsonr(OS1_ordered, OS2)[0])\n",
    "    pred_diff.append(np.asarray(OS1_ordered) - np.asarray(OS2))\n",
    "    perm_diff.append(np.asarray(OS1) - np.asarray(OS2))\n",
    "\n",
    "    e = time.time()\n",
    "    print(e)\n",
    "    print(stats.pearsonr(OS1_ordered, OS2)[0])\n",
    "    print()\n",
    "\n",
    "    # Plot regression line\n",
    "    sns.regplot(x=OS1_ordered, y=OS2, ci=None, \n",
    "            scatter=False, line_kws={'linewidth': 1, 'color': 'gray', 'alpha': 0.5})\n",
    "\n",
    "plt.title('Regression Line on the Same Graph')\n",
    "plt.tight_layout()\n",
    "plt.savefig('corr.png', dpi=300)\n",
    "plt.show()"
   ],
   "outputs": [],
   "execution_count": null
  },
  {
   "cell_type": "markdown",
   "id": "1854784f",
   "metadata": {},
   "source": [
    "Plot Distribution of Prediction Accuracy"
   ]
  },
  {
   "cell_type": "code",
   "id": "27451653",
   "metadata": {},
   "source": [
    "fig, ax = plt.subplots(1, figsize=(7,2))\n",
    "sns.kdeplot(rval, fill=True, color='green')\n",
    "sns.despine(left=True)\n",
    "plt.axvline(max(rval), \n",
    "            color='red', linestyle='--')\n",
    "plt.axvline(min(rval), \n",
    "            color='blue', linestyle='--')\n",
    "plt.axvline(np.mean(rval), \n",
    "            color='k', linestyle='-')\n",
    "\n",
    "plt.savefig('data_predOS_Rvalue_distribution_with1000repetitions.png', dpi=300)"
   ],
   "outputs": [],
   "execution_count": null
  },
  {
   "cell_type": "code",
   "id": "1b6be111",
   "metadata": {},
   "source": [
    "print(np.mean(rval))\n",
    "print(np.max(rval))\n",
    "print(np.min(rval))"
   ],
   "outputs": [],
   "execution_count": null
  },
  {
   "cell_type": "markdown",
   "id": "fe9d1ffc",
   "metadata": {},
   "source": [
    "#### Compare Hungarian Algorithm vs. Random Matching"
   ]
  },
  {
   "cell_type": "code",
   "id": "26d8a4be",
   "metadata": {},
   "source": [
    "perm_diff_=np.asarray(perm_diff) #.flatten()\n",
    "pred_diff_=np.asarray(pred_diff) #.flatten()\n",
    "\n",
    "m=np.zeros(len(perm_diff_))\n",
    "l=np.zeros(len(pred_diff_))\n",
    "for pg in range(len(pred_diff_)):\n",
    "    l[pg]=np.abs(np.median(pred_diff_[pg]))\n",
    "    m[pg]=np.abs(np.median(perm_diff_[pg]))"
   ],
   "outputs": [],
   "execution_count": null
  },
  {
   "cell_type": "code",
   "id": "70e2ff46",
   "metadata": {},
   "source": [
    "k=np.concatenate((l,m), axis=0)\n",
    "dt_predOS=pd.DataFrame({'value':k,\n",
    "                       'type':['random']*len(perm_diff_)+['pred']*len(perm_diff_)})"
   ],
   "outputs": [],
   "execution_count": null
  },
  {
   "cell_type": "markdown",
   "id": "afc85c04",
   "metadata": {},
   "source": [
    "Violin Plot Comparison"
   ]
  },
  {
   "cell_type": "code",
   "id": "91bdeb8f",
   "metadata": {},
   "source": [
    "sns.set_style('white')\n",
    "iris = sns.load_dataset('iris')\n",
    "palette = 'Set2'\n",
    "fig, ax = plt.subplots(1, figsize=(7,5))\n",
    "\n",
    "ax = sns.violinplot(x=\"type\", y=\"value\", data=dt_predOS, dodge=False,\n",
    "                    scale=\"width\", inner=None,  palette=['orange','skyblue'])\n",
    "xlim = ax.get_xlim()\n",
    "ylim = ax.get_ylim()\n",
    "for violin in ax.collections:\n",
    "    bbox = violin.get_paths()[0].get_extents()\n",
    "    x0, y0, width, height = bbox.bounds\n",
    "    violin.set_clip_path(plt.Rectangle((x0, y0), width / 2, height, transform=ax.transData))\n",
    "\n",
    "sns.boxplot(x=\"type\", y=\"value\", \n",
    "            data=dt_predOS, saturation=1, showfliers=False,\n",
    "            width=0.2, linewidth=2, \n",
    "            boxprops={'zorder': 3, 'facecolor': 'None', 'edgecolor': 'black'}, \n",
    "            medianprops={'color': 'black', 'linewidth': 2},\n",
    "            whiskerprops={'color': 'black'},\n",
    "            capprops={'color': 'black'},\n",
    "            ax=ax)\n",
    "old_len_collections = len(ax.collections)\n",
    "sns.stripplot(x=\"type\", y=\"value\", palette=['red','dodgerblue'], \n",
    "              data=dt_predOS, dodge=False, alpha=0.9, ax=ax)\n",
    "for dots in ax.collections[old_len_collections:]:\n",
    "    dots.set_offsets(dots.get_offsets() + np.array([0.12, 0]))\n",
    "ax.set_xlim(xlim)\n",
    "ax.set_ylim(ylim)\n",
    "plt.savefig('comparing_random_and_Hungarianassignement_median_OSdiff.png', dpi=300)\n",
    "plt.show()"
   ],
   "outputs": [],
   "execution_count": null
  },
  {
   "cell_type": "markdown",
   "id": "718e9f98",
   "metadata": {},
   "source": [
    "Perform Paired t-Test"
   ]
  },
  {
   "cell_type": "code",
   "id": "23f091f4",
   "metadata": {},
   "source": [
    "stats.ttest_rel(dt_predOS.value[dt_predOS.type=='pred'], \n",
    "                dt_predOS.value[dt_predOS.type=='random'])"
   ],
   "outputs": [],
   "execution_count": null
  },
  {
   "cell_type": "markdown",
   "id": "782281cc",
   "metadata": {},
   "source": [
    "Compute MAE / RMSE"
   ]
  },
  {
   "cell_type": "code",
   "id": "64ad9119",
   "metadata": {},
   "source": [
    "Yp=[]\n",
    "Yr=[]\n",
    "for x in range(len(pred_diff)):\n",
    "    far=pred_diff[x]\n",
    "    Yp.append(np.sqrt(np.mean(np.square(far))))\n",
    "    #Yp.append((np.mean(np.abs(far))))\n",
    "for x in range(len(perm_diff)):\n",
    "    far=perm_diff[x]\n",
    "    Yr.append(np.sqrt(np.mean(np.square(far))))\n",
    "    #Yr.append((np.mean(np.abs(far))))\n",
    "    "
   ],
   "outputs": [],
   "execution_count": null
  },
  {
   "cell_type": "code",
   "id": "ba43770e",
   "metadata": {},
   "source": [
    "j=np.concatenate((Yp,Yr), axis=0)\n",
    "dt_predOS_new=pd.DataFrame({'value':j,\n",
    "                       'type':['pred']*len(pred_diff)+['random']*len(perm_diff)})"
   ],
   "outputs": [],
   "execution_count": null
  },
  {
   "cell_type": "code",
   "id": "6e8fd852",
   "metadata": {},
   "source": [
    "sns.set_style('white')\n",
    "iris = sns.load_dataset('iris')\n",
    "palette = 'Set2'\n",
    "fig, ax = plt.subplots(1, figsize=(7,5))\n",
    "\n",
    "ax = sns.violinplot(x=\"type\", y=\"value\", data=dt_predOS_new, dodge=False,\n",
    "                    scale=\"width\", inner=None,  palette=['orange','skyblue'])\n",
    "xlim = ax.get_xlim()\n",
    "ylim = ax.get_ylim()\n",
    "for violin in ax.collections:\n",
    "    bbox = violin.get_paths()[0].get_extents()\n",
    "    x0, y0, width, height = bbox.bounds\n",
    "    violin.set_clip_path(plt.Rectangle((x0, y0), width / 2, height, transform=ax.transData))\n",
    "\n",
    "sns.boxplot(x=\"type\", y=\"value\", \n",
    "            data=dt_predOS_new, saturation=1, showfliers=False,\n",
    "            width=0.2, linewidth=2, \n",
    "            boxprops={'zorder': 3, 'facecolor': 'None', 'edgecolor': 'black'}, \n",
    "            medianprops={'color': 'black', 'linewidth': 2},\n",
    "            whiskerprops={'color': 'black'},\n",
    "            capprops={'color': 'black'},\n",
    "            ax=ax)\n",
    "old_len_collections = len(ax.collections)\n",
    "sns.stripplot(x=\"type\", y=\"value\", palette=['red','dodgerblue'], \n",
    "              data=dt_predOS_new, dodge=False, alpha=0.9, ax=ax)\n",
    "for dots in ax.collections[old_len_collections:]:\n",
    "    dots.set_offsets(dots.get_offsets() + np.array([0.12, 0]))\n",
    "ax.set_xlim(xlim)\n",
    "ax.set_ylim(ylim)\n",
    "plt.savefig('comparing_random_and_Hungarianassignement_median_OSdiff.png', dpi=300)\n",
    "plt.show()"
   ],
   "outputs": [],
   "execution_count": null
  },
  {
   "cell_type": "code",
   "id": "43bc4919",
   "metadata": {},
   "source": [
    "stats.ttest_rel(dt_predOS_new.value[dt_predOS_new.type=='pred'], \n",
    "                dt_predOS_new.value[dt_predOS_new.type=='random'])"
   ],
   "outputs": [],
   "execution_count": null
  },
  {
   "cell_type": "code",
   "id": "5e1184fb",
   "metadata": {},
   "source": [
    "print(dt_predOS_new[dt_predOS_new.type=='pred'].value.mean())\n",
    "print(dt_predOS_new[dt_predOS_new.type=='random'].value.mean())"
   ],
   "outputs": [],
   "execution_count": null
  }
 ],
 "metadata": {
  "kernelspec": {
   "display_name": "neuro",
   "language": "python",
   "name": "python3"
  },
  "language_info": {
   "codemirror_mode": {
    "name": "ipython",
    "version": 3
   },
   "file_extension": ".py",
   "mimetype": "text/x-python",
   "name": "python",
   "nbconvert_exporter": "python",
   "pygments_lexer": "ipython3",
   "version": "3.10.16"
  },
  "widgets": {
   "application/vnd.jupyter.widget-state+json": {
    "state": {},
    "version_major": 2,
    "version_minor": 0
   }
  }
 },
 "nbformat": 4,
 "nbformat_minor": 5
}
