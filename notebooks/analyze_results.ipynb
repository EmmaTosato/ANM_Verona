{
 "cells": [
  {
   "cell_type": "code",
   "id": "initial_id",
   "metadata": {
    "collapsed": true,
    "ExecuteTime": {
     "end_time": "2025-05-29T09:04:29.314430Z",
     "start_time": "2025-05-29T09:04:29.312604Z"
    }
   },
   "source": "import numpy as np",
   "outputs": [],
   "execution_count": 2
  },
  {
   "metadata": {},
   "cell_type": "markdown",
   "source": "# Example",
   "id": "7363199b1933a7"
  },
  {
   "metadata": {
    "ExecuteTime": {
     "end_time": "2025-05-29T09:05:35.110783Z",
     "start_time": "2025-05-29T09:05:35.107284Z"
    }
   },
   "cell_type": "code",
   "source": [
    "volume = np.load(\"/data/users/etosato/ANM_Verona/data/FCmaps_processed/1_S_5000.processed.npy\")\n",
    "print(\"Shape of the volume:\", volume.shape)"
   ],
   "id": "afa4be176a4b23eb",
   "outputs": [
    {
     "name": "stdout",
     "output_type": "stream",
     "text": [
      "Shape of the volume: (91, 109, 91)\n"
     ]
    }
   ],
   "execution_count": 3
  },
  {
   "metadata": {},
   "cell_type": "code",
   "outputs": [],
   "execution_count": null,
   "source": "",
   "id": "4ea5f6cf3e943ca0"
  }
 ],
 "metadata": {
  "kernelspec": {
   "display_name": "Python 3",
   "language": "python",
   "name": "python3"
  },
  "language_info": {
   "codemirror_mode": {
    "name": "ipython",
    "version": 2
   },
   "file_extension": ".py",
   "mimetype": "text/x-python",
   "name": "python",
   "nbconvert_exporter": "python",
   "pygments_lexer": "ipython2",
   "version": "2.7.6"
  }
 },
 "nbformat": 4,
 "nbformat_minor": 5
}
