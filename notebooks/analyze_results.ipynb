{
 "cells": [
  {
   "cell_type": "code",
   "id": "initial_id",
   "metadata": {
    "collapsed": true,
    "ExecuteTime": {
     "end_time": "2025-06-05T10:16:54.689843Z",
     "start_time": "2025-06-05T10:16:53.993042Z"
    }
   },
   "source": [
    "import numpy as np\n",
    "import torch"
   ],
   "outputs": [],
   "execution_count": 1
  },
  {
   "metadata": {},
   "cell_type": "markdown",
   "source": "# Example",
   "id": "7363199b1933a7"
  },
  {
   "metadata": {
    "ExecuteTime": {
     "end_time": "2025-05-29T09:05:35.110783Z",
     "start_time": "2025-05-29T09:05:35.107284Z"
    }
   },
   "cell_type": "code",
   "source": [
    "volume = np.load(\"/data/users/etosato/ANM_Verona/data/FCmaps_processed/1_S_5000.processed.npy\")\n",
    "print(\"Shape of the volume:\", volume.shape)"
   ],
   "id": "afa4be176a4b23eb",
   "outputs": [
    {
     "name": "stdout",
     "output_type": "stream",
     "text": [
      "Shape of the volume: (91, 109, 91)\n"
     ]
    }
   ],
   "execution_count": 3
  },
  {
   "metadata": {},
   "cell_type": "markdown",
   "source": "# Checkpoints",
   "id": "4a1591fba52d6ac7"
  },
  {
   "metadata": {},
   "cell_type": "markdown",
   "source": "Example of checkpoint loading",
   "id": "5bbe344b929b86f5"
  },
  {
   "metadata": {
    "ExecuteTime": {
     "end_time": "2025-06-05T10:18:50.256720Z",
     "start_time": "2025-06-05T10:18:50.209048Z"
    }
   },
   "cell_type": "code",
   "source": [
    "# Path to the saved checkpoint\n",
    "ckpt_path = \"/cnn/runs/run1/best_model_fold2.pt\"\n",
    "\n",
    "# Load checkpoint\n",
    "checkpoint = torch.load(ckpt_path, map_location=\"cpu\", weights_only=False)\n",
    "\n",
    "# Show all available keys in the checkpoint\n",
    "print(\"Available keys in the checkpoint:\")\n",
    "print(checkpoint.keys())"
   ],
   "id": "4ea5f6cf3e943ca0",
   "outputs": [
    {
     "name": "stdout",
     "output_type": "stream",
     "text": [
      "Available keys in the checkpoint:\n",
      "dict_keys(['state_dict', 'optimizer_state', 'val_accuracy', 'epoch', 'best_train_loss', 'best_val_loss', 'fold'])\n"
     ]
    }
   ],
   "execution_count": 7
  },
  {
   "metadata": {
    "ExecuteTime": {
     "end_time": "2025-06-05T10:18:50.960624Z",
     "start_time": "2025-06-05T10:18:50.957898Z"
    }
   },
   "cell_type": "code",
   "source": [
    "# Training information\n",
    "epoch = checkpoint[\"epoch\"]\n",
    "val_accuracy = checkpoint[\"val_accuracy\"]\n",
    "train_loss = checkpoint[\"best_train_loss\"]\n",
    "val_loss = checkpoint[\"best_val_loss\"]\n",
    "fold = checkpoint[\"fold\"]\n",
    "\n",
    "print(f\"Fold: {fold}\")\n",
    "print(f\"Best Epoch: {epoch}\")\n",
    "print(f\"Validation Accuracy: {val_accuracy:.3f}\")\n",
    "print(f\"Best Training Loss: {train_loss:.3f}\")\n",
    "print(f\"Best Validation Loss: {val_loss:.3f}\")\n"
   ],
   "id": "3d668306d50f9b97",
   "outputs": [
    {
     "name": "stdout",
     "output_type": "stream",
     "text": [
      "Fold: 2\n",
      "Best Epoch: 10\n",
      "Validation Accuracy: 0.714\n",
      "Best Training Loss: 0.560\n",
      "Best Validation Loss: 0.971\n"
     ]
    }
   ],
   "execution_count": 8
  }
 ],
 "metadata": {
  "kernelspec": {
   "display_name": "Python 3",
   "language": "python",
   "name": "python3"
  },
  "language_info": {
   "codemirror_mode": {
    "name": "ipython",
    "version": 2
   },
   "file_extension": ".py",
   "mimetype": "text/x-python",
   "name": "python",
   "nbconvert_exporter": "python",
   "pygments_lexer": "ipython2",
   "version": "2.7.6"
  }
 },
 "nbformat": 4,
 "nbformat_minor": 5
}
