{
 "cells": [
  {
   "metadata": {},
   "cell_type": "markdown",
   "source": "# Classification",
   "id": "f55c1fc939b2b4be"
  },
  {
   "metadata": {
    "ExecuteTime": {
     "end_time": "2025-06-30T15:41:16.248540Z",
     "start_time": "2025-06-30T15:41:16.228647Z"
    }
   },
   "cell_type": "code",
   "source": [
    "import pandas as pd\n",
    "import glob\n",
    "from analysis.utils import resolve_split_csv_path\n",
    "import os\n",
    "import matplotlib.pyplot as plt\n",
    "import matplotlib.image as mpimg\n",
    "\n",
    "# Load classification summaries\n",
    "path_class_adni_psp = \"/Users/emmatosato/Documents/PhD/ANM_Verona/output/voxel/umap_classification/adni_psp/summary_all_seeds.csv\"\n",
    "path_class_adni_cbs =\"/Users/emmatosato/Documents/PhD/ANM_Verona/output/voxel/umap_classification/adni_cbs/summary_all_seeds.csv\"\n",
    "path_class_cbs_psp =  \"/Users/emmatosato/Documents/PhD/ANM_Verona/output/voxel/umap_classification/cbs_psp/summary_all_seeds.csv\"\n",
    "\n",
    "# Load network classification summaries\n",
    "path_class_net_adni_psp = '/Users/emmatosato/Documents/PhD/ANM_Verona/output/networks/classification/adni_psp/summary_all_seeds.csv'\n",
    "path_class_net_adni_cbs = '/Users/emmatosato/Documents/PhD/ANM_Verona/output/networks/classification/adni_cbs/summary_all_seeds.csv'\n",
    "path_class_net_psp_cbs = '/Users/emmatosato/Documents/PhD/ANM_Verona/output/networks/classification/psp_cbs/summary_all_seeds.csv'\n",
    "\n",
    "# Load split dataframes\n",
    "dir_split = \"/Users/emmatosato/Documents/PhD/ANM_Verona/data/dataframes/split\"\n",
    "\n",
    "# Dataframes voxel classification\n",
    "df_classs_adni_psp = pd.read_csv(path_class_adni_psp)\n",
    "df_classs_adni_cbs = pd.read_csv(path_class_adni_cbs)\n",
    "df_classs_cbs_psp = pd.read_csv(path_class_cbs_psp)\n",
    "\n",
    "# Dataframe network classification\n",
    "df_classs_net_adni_psp = pd.read_csv(path_class_net_adni_psp)\n",
    "df_classs_net_adni_cbs = pd.read_csv(path_class_net_adni_cbs)\n",
    "df_classs_net_cbs_psp = pd.read_csv(path_class_net_psp_cbs)\n",
    "\n",
    "\n",
    "# Separate cross-validation and test metrics\n",
    "cv_metrics = [\"cv_accuracy\", \"cv_precision\", \"cv_recall\", \"cv_f1\", \"cv_auc_roc\"]\n",
    "test_metrics = [\"test_accuracy\", \"test_precision\", \"test_recall\", \"test_f1\", \"test_auc_roc\"]"
   ],
   "id": "ab33e5c0cbd15619",
   "outputs": [],
   "execution_count": 73
  },
  {
   "metadata": {
    "ExecuteTime": {
     "end_time": "2025-06-30T15:41:16.281535Z",
     "start_time": "2025-06-30T15:41:16.277011Z"
    }
   },
   "cell_type": "code",
   "source": [
    "def get_variables(df):\n",
    "    # Group by model\n",
    "    grouped = df.groupby(\"model\")\n",
    "\n",
    "    return  grouped\n",
    "\n",
    "def print_info(df_split, df_class):\n",
    "    print(f\"Number of seeds: {df_class['seed'].nunique()} and seeds: {df_class['seed'].unique()}\")\n",
    "    print(f\"Number of models: {df_class['model'].nunique()} and types: {df_class['model'].unique()}\\n\")\n",
    "    print(f\"Training set size: {(df_split['split'] == 'train').sum()}\")\n",
    "    print(f\"Test set size: {(df_split['split'] == 'test').sum()}\")\n",
    "\n",
    "def print_result_cv(grouped, group1, group2):\n",
    "    print(f\"\\nGroup {group1} vs {group2}\\n\")\n",
    "    print(\"=== Cross-validation across seeds ===\")\n",
    "    for model_name, group in grouped:\n",
    "        print(f\"\\nModel: {model_name}\")\n",
    "        display(group[cv_metrics].agg([\"mean\", \"std\"]).round(3))\n",
    "    print(\"\\n\")\n",
    "\n",
    "\n",
    "def print_result_test(grouped, group1, group2):\n",
    "    print(f\"\\nGroup {group1} vs {group2}\\n\")\n",
    "    print(\"=== Test performance on holdout set across seeds=== \")\n",
    "    for model_name, group in grouped:\n",
    "        print(f\"\\nModel: {model_name}\")\n",
    "        display(group[test_metrics].agg([\"mean\", \"std\"]).round(3))\n",
    "    print(\"\\n\")"
   ],
   "id": "668f755b2043727f",
   "outputs": [],
   "execution_count": 74
  },
  {
   "metadata": {},
   "cell_type": "markdown",
   "source": "# Voxel classification",
   "id": "74f79bb40e536e65"
  },
  {
   "metadata": {},
   "cell_type": "markdown",
   "source": "## ADNI vs PSP",
   "id": "a7dc8de29ec1aae6"
  },
  {
   "metadata": {
    "ExecuteTime": {
     "end_time": "2025-06-30T15:41:16.292529Z",
     "start_time": "2025-06-30T15:41:16.286302Z"
    }
   },
   "cell_type": "code",
   "source": [
    "# Extract number of seeds and grouped data\n",
    "group1 = \"ADNI\"\n",
    "group2 = \"PSP\"\n",
    "split_path = resolve_split_csv_path(dir_split, group1 , group2)\n",
    "df_split = pd.read_csv(split_path)\n",
    "\n",
    "print_info(df_split, df_classs_adni_psp)"
   ],
   "id": "b28de6a466bb8c9d",
   "outputs": [
    {
     "name": "stdout",
     "output_type": "stream",
     "text": [
      "\n",
      "Using split file: /Users/emmatosato/Documents/PhD/ANM_Verona/data/dataframes/split/ADNI_PSP_splitted.csv\n",
      "\n",
      "Number of seeds: 5 and seeds: [   42   123  2023 31415 98765]\n",
      "Number of models: 2 and types: ['SVM' 'RandomForest']\n",
      "\n",
      "Training set size: 105\n",
      "Test set size: 27\n"
     ]
    }
   ],
   "execution_count": 75
  },
  {
   "metadata": {
    "ExecuteTime": {
     "end_time": "2025-06-30T15:41:16.327759Z",
     "start_time": "2025-06-30T15:41:16.312838Z"
    }
   },
   "cell_type": "code",
   "source": [
    "grouped_adni_psp = get_variables(df_classs_adni_psp)\n",
    "print_result_cv(grouped_adni_psp, group1, group2)"
   ],
   "id": "76d1bbafebee8399",
   "outputs": [
    {
     "name": "stdout",
     "output_type": "stream",
     "text": [
      "\n",
      "Group ADNI vs PSP\n",
      "\n",
      "=== Cross-validation across seeds ===\n",
      "\n",
      "Model: RandomForest\n"
     ]
    },
    {
     "data": {
      "text/plain": [
       "      cv_accuracy  cv_precision  cv_recall  cv_f1  cv_auc_roc\n",
       "mean        0.612         0.613      0.610  0.603       0.637\n",
       "std         0.025         0.024      0.024  0.029       0.020"
      ],
      "text/html": [
       "<div>\n",
       "<style scoped>\n",
       "    .dataframe tbody tr th:only-of-type {\n",
       "        vertical-align: middle;\n",
       "    }\n",
       "\n",
       "    .dataframe tbody tr th {\n",
       "        vertical-align: top;\n",
       "    }\n",
       "\n",
       "    .dataframe thead th {\n",
       "        text-align: right;\n",
       "    }\n",
       "</style>\n",
       "<table border=\"1\" class=\"dataframe\">\n",
       "  <thead>\n",
       "    <tr style=\"text-align: right;\">\n",
       "      <th></th>\n",
       "      <th>cv_accuracy</th>\n",
       "      <th>cv_precision</th>\n",
       "      <th>cv_recall</th>\n",
       "      <th>cv_f1</th>\n",
       "      <th>cv_auc_roc</th>\n",
       "    </tr>\n",
       "  </thead>\n",
       "  <tbody>\n",
       "    <tr>\n",
       "      <th>mean</th>\n",
       "      <td>0.612</td>\n",
       "      <td>0.613</td>\n",
       "      <td>0.610</td>\n",
       "      <td>0.603</td>\n",
       "      <td>0.637</td>\n",
       "    </tr>\n",
       "    <tr>\n",
       "      <th>std</th>\n",
       "      <td>0.025</td>\n",
       "      <td>0.024</td>\n",
       "      <td>0.024</td>\n",
       "      <td>0.029</td>\n",
       "      <td>0.020</td>\n",
       "    </tr>\n",
       "  </tbody>\n",
       "</table>\n",
       "</div>"
      ]
     },
     "metadata": {},
     "output_type": "display_data"
    },
    {
     "name": "stdout",
     "output_type": "stream",
     "text": [
      "\n",
      "Model: SVM\n"
     ]
    },
    {
     "data": {
      "text/plain": [
       "      cv_accuracy  cv_precision  cv_recall  cv_f1  cv_auc_roc\n",
       "mean        0.653         0.663      0.657  0.650       0.603\n",
       "std         0.005         0.004      0.006  0.007       0.056"
      ],
      "text/html": [
       "<div>\n",
       "<style scoped>\n",
       "    .dataframe tbody tr th:only-of-type {\n",
       "        vertical-align: middle;\n",
       "    }\n",
       "\n",
       "    .dataframe tbody tr th {\n",
       "        vertical-align: top;\n",
       "    }\n",
       "\n",
       "    .dataframe thead th {\n",
       "        text-align: right;\n",
       "    }\n",
       "</style>\n",
       "<table border=\"1\" class=\"dataframe\">\n",
       "  <thead>\n",
       "    <tr style=\"text-align: right;\">\n",
       "      <th></th>\n",
       "      <th>cv_accuracy</th>\n",
       "      <th>cv_precision</th>\n",
       "      <th>cv_recall</th>\n",
       "      <th>cv_f1</th>\n",
       "      <th>cv_auc_roc</th>\n",
       "    </tr>\n",
       "  </thead>\n",
       "  <tbody>\n",
       "    <tr>\n",
       "      <th>mean</th>\n",
       "      <td>0.653</td>\n",
       "      <td>0.663</td>\n",
       "      <td>0.657</td>\n",
       "      <td>0.650</td>\n",
       "      <td>0.603</td>\n",
       "    </tr>\n",
       "    <tr>\n",
       "      <th>std</th>\n",
       "      <td>0.005</td>\n",
       "      <td>0.004</td>\n",
       "      <td>0.006</td>\n",
       "      <td>0.007</td>\n",
       "      <td>0.056</td>\n",
       "    </tr>\n",
       "  </tbody>\n",
       "</table>\n",
       "</div>"
      ]
     },
     "metadata": {},
     "output_type": "display_data"
    },
    {
     "name": "stdout",
     "output_type": "stream",
     "text": [
      "\n",
      "\n"
     ]
    }
   ],
   "execution_count": 76
  },
  {
   "metadata": {
    "ExecuteTime": {
     "end_time": "2025-06-30T15:41:16.360620Z",
     "start_time": "2025-06-30T15:41:16.348204Z"
    }
   },
   "cell_type": "code",
   "source": "print_result_test(grouped_adni_psp, group1, group2)",
   "id": "9906c64fbc0b2dae",
   "outputs": [
    {
     "name": "stdout",
     "output_type": "stream",
     "text": [
      "\n",
      "Group ADNI vs PSP\n",
      "\n",
      "=== Test performance on holdout set across seeds=== \n",
      "\n",
      "Model: RandomForest\n"
     ]
    },
    {
     "data": {
      "text/plain": [
       "      test_accuracy  test_precision  test_recall  test_f1  test_auc_roc\n",
       "mean          0.637           0.636        0.616    0.612         0.643\n",
       "std           0.017           0.017        0.019    0.021         0.027"
      ],
      "text/html": [
       "<div>\n",
       "<style scoped>\n",
       "    .dataframe tbody tr th:only-of-type {\n",
       "        vertical-align: middle;\n",
       "    }\n",
       "\n",
       "    .dataframe tbody tr th {\n",
       "        vertical-align: top;\n",
       "    }\n",
       "\n",
       "    .dataframe thead th {\n",
       "        text-align: right;\n",
       "    }\n",
       "</style>\n",
       "<table border=\"1\" class=\"dataframe\">\n",
       "  <thead>\n",
       "    <tr style=\"text-align: right;\">\n",
       "      <th></th>\n",
       "      <th>test_accuracy</th>\n",
       "      <th>test_precision</th>\n",
       "      <th>test_recall</th>\n",
       "      <th>test_f1</th>\n",
       "      <th>test_auc_roc</th>\n",
       "    </tr>\n",
       "  </thead>\n",
       "  <tbody>\n",
       "    <tr>\n",
       "      <th>mean</th>\n",
       "      <td>0.637</td>\n",
       "      <td>0.636</td>\n",
       "      <td>0.616</td>\n",
       "      <td>0.612</td>\n",
       "      <td>0.643</td>\n",
       "    </tr>\n",
       "    <tr>\n",
       "      <th>std</th>\n",
       "      <td>0.017</td>\n",
       "      <td>0.017</td>\n",
       "      <td>0.019</td>\n",
       "      <td>0.021</td>\n",
       "      <td>0.027</td>\n",
       "    </tr>\n",
       "  </tbody>\n",
       "</table>\n",
       "</div>"
      ]
     },
     "metadata": {},
     "output_type": "display_data"
    },
    {
     "name": "stdout",
     "output_type": "stream",
     "text": [
      "\n",
      "Model: SVM\n"
     ]
    },
    {
     "data": {
      "text/plain": [
       "      test_accuracy  test_precision  test_recall  test_f1  test_auc_roc\n",
       "mean          0.667           0.675        0.675    0.667         0.728\n",
       "std           0.000           0.000        0.000    0.000         0.000"
      ],
      "text/html": [
       "<div>\n",
       "<style scoped>\n",
       "    .dataframe tbody tr th:only-of-type {\n",
       "        vertical-align: middle;\n",
       "    }\n",
       "\n",
       "    .dataframe tbody tr th {\n",
       "        vertical-align: top;\n",
       "    }\n",
       "\n",
       "    .dataframe thead th {\n",
       "        text-align: right;\n",
       "    }\n",
       "</style>\n",
       "<table border=\"1\" class=\"dataframe\">\n",
       "  <thead>\n",
       "    <tr style=\"text-align: right;\">\n",
       "      <th></th>\n",
       "      <th>test_accuracy</th>\n",
       "      <th>test_precision</th>\n",
       "      <th>test_recall</th>\n",
       "      <th>test_f1</th>\n",
       "      <th>test_auc_roc</th>\n",
       "    </tr>\n",
       "  </thead>\n",
       "  <tbody>\n",
       "    <tr>\n",
       "      <th>mean</th>\n",
       "      <td>0.667</td>\n",
       "      <td>0.675</td>\n",
       "      <td>0.675</td>\n",
       "      <td>0.667</td>\n",
       "      <td>0.728</td>\n",
       "    </tr>\n",
       "    <tr>\n",
       "      <th>std</th>\n",
       "      <td>0.000</td>\n",
       "      <td>0.000</td>\n",
       "      <td>0.000</td>\n",
       "      <td>0.000</td>\n",
       "      <td>0.000</td>\n",
       "    </tr>\n",
       "  </tbody>\n",
       "</table>\n",
       "</div>"
      ]
     },
     "metadata": {},
     "output_type": "display_data"
    },
    {
     "name": "stdout",
     "output_type": "stream",
     "text": [
      "\n",
      "\n"
     ]
    }
   ],
   "execution_count": 77
  },
  {
   "metadata": {},
   "cell_type": "markdown",
   "source": "## ADNI vs CBS",
   "id": "655ee4b8db7cdf40"
  },
  {
   "metadata": {
    "ExecuteTime": {
     "end_time": "2025-06-30T15:41:16.415482Z",
     "start_time": "2025-06-30T15:41:16.410624Z"
    }
   },
   "cell_type": "code",
   "source": [
    "group1 = \"ADNI\"\n",
    "group2 = \"CBS\"\n",
    "split_path = resolve_split_csv_path(dir_split, group1 , group2)\n",
    "df_split = pd.read_csv(split_path)\n",
    "\n",
    "print_info(df_split, df_classs_adni_cbs)"
   ],
   "id": "4a5b5753b1dcbf7f",
   "outputs": [
    {
     "name": "stdout",
     "output_type": "stream",
     "text": [
      "\n",
      "Using split file: /Users/emmatosato/Documents/PhD/ANM_Verona/data/dataframes/split/ADNI_CBS_splitted.csv\n",
      "\n",
      "Number of seeds: 5 and seeds: [   42   123  2023 31415 98765]\n",
      "Number of models: 2 and types: ['SVM' 'RandomForest']\n",
      "\n",
      "Training set size: 92\n",
      "Test set size: 24\n"
     ]
    }
   ],
   "execution_count": 78
  },
  {
   "metadata": {
    "ExecuteTime": {
     "end_time": "2025-06-30T15:41:16.484335Z",
     "start_time": "2025-06-30T15:41:16.470749Z"
    }
   },
   "cell_type": "code",
   "source": [
    "grouped_adni_cbs = get_variables(df_classs_adni_cbs)\n",
    "print_result_cv(grouped_adni_cbs, group1, group2)"
   ],
   "id": "4c61194817c1538d",
   "outputs": [
    {
     "name": "stdout",
     "output_type": "stream",
     "text": [
      "\n",
      "Group ADNI vs CBS\n",
      "\n",
      "=== Cross-validation across seeds ===\n",
      "\n",
      "Model: RandomForest\n"
     ]
    },
    {
     "data": {
      "text/plain": [
       "      cv_accuracy  cv_precision  cv_recall  cv_f1  cv_auc_roc\n",
       "mean        0.552         0.526      0.524  0.517       0.608\n",
       "std         0.016         0.023      0.022  0.023       0.021"
      ],
      "text/html": [
       "<div>\n",
       "<style scoped>\n",
       "    .dataframe tbody tr th:only-of-type {\n",
       "        vertical-align: middle;\n",
       "    }\n",
       "\n",
       "    .dataframe tbody tr th {\n",
       "        vertical-align: top;\n",
       "    }\n",
       "\n",
       "    .dataframe thead th {\n",
       "        text-align: right;\n",
       "    }\n",
       "</style>\n",
       "<table border=\"1\" class=\"dataframe\">\n",
       "  <thead>\n",
       "    <tr style=\"text-align: right;\">\n",
       "      <th></th>\n",
       "      <th>cv_accuracy</th>\n",
       "      <th>cv_precision</th>\n",
       "      <th>cv_recall</th>\n",
       "      <th>cv_f1</th>\n",
       "      <th>cv_auc_roc</th>\n",
       "    </tr>\n",
       "  </thead>\n",
       "  <tbody>\n",
       "    <tr>\n",
       "      <th>mean</th>\n",
       "      <td>0.552</td>\n",
       "      <td>0.526</td>\n",
       "      <td>0.524</td>\n",
       "      <td>0.517</td>\n",
       "      <td>0.608</td>\n",
       "    </tr>\n",
       "    <tr>\n",
       "      <th>std</th>\n",
       "      <td>0.016</td>\n",
       "      <td>0.023</td>\n",
       "      <td>0.022</td>\n",
       "      <td>0.023</td>\n",
       "      <td>0.021</td>\n",
       "    </tr>\n",
       "  </tbody>\n",
       "</table>\n",
       "</div>"
      ]
     },
     "metadata": {},
     "output_type": "display_data"
    },
    {
     "name": "stdout",
     "output_type": "stream",
     "text": [
      "\n",
      "Model: SVM\n"
     ]
    },
    {
     "data": {
      "text/plain": [
       "      cv_accuracy  cv_precision  cv_recall  cv_f1  cv_auc_roc\n",
       "mean        0.576         0.346      0.474  0.386       0.416\n",
       "std         0.019         0.033      0.011  0.006       0.024"
      ],
      "text/html": [
       "<div>\n",
       "<style scoped>\n",
       "    .dataframe tbody tr th:only-of-type {\n",
       "        vertical-align: middle;\n",
       "    }\n",
       "\n",
       "    .dataframe tbody tr th {\n",
       "        vertical-align: top;\n",
       "    }\n",
       "\n",
       "    .dataframe thead th {\n",
       "        text-align: right;\n",
       "    }\n",
       "</style>\n",
       "<table border=\"1\" class=\"dataframe\">\n",
       "  <thead>\n",
       "    <tr style=\"text-align: right;\">\n",
       "      <th></th>\n",
       "      <th>cv_accuracy</th>\n",
       "      <th>cv_precision</th>\n",
       "      <th>cv_recall</th>\n",
       "      <th>cv_f1</th>\n",
       "      <th>cv_auc_roc</th>\n",
       "    </tr>\n",
       "  </thead>\n",
       "  <tbody>\n",
       "    <tr>\n",
       "      <th>mean</th>\n",
       "      <td>0.576</td>\n",
       "      <td>0.346</td>\n",
       "      <td>0.474</td>\n",
       "      <td>0.386</td>\n",
       "      <td>0.416</td>\n",
       "    </tr>\n",
       "    <tr>\n",
       "      <th>std</th>\n",
       "      <td>0.019</td>\n",
       "      <td>0.033</td>\n",
       "      <td>0.011</td>\n",
       "      <td>0.006</td>\n",
       "      <td>0.024</td>\n",
       "    </tr>\n",
       "  </tbody>\n",
       "</table>\n",
       "</div>"
      ]
     },
     "metadata": {},
     "output_type": "display_data"
    },
    {
     "name": "stdout",
     "output_type": "stream",
     "text": [
      "\n",
      "\n"
     ]
    }
   ],
   "execution_count": 79
  },
  {
   "metadata": {
    "ExecuteTime": {
     "end_time": "2025-06-30T15:41:16.526463Z",
     "start_time": "2025-06-30T15:41:16.513143Z"
    }
   },
   "cell_type": "code",
   "source": "print_result_test(grouped_adni_cbs, group1, group2)",
   "id": "4684a021ee8f87aa",
   "outputs": [
    {
     "name": "stdout",
     "output_type": "stream",
     "text": [
      "\n",
      "Group ADNI vs CBS\n",
      "\n",
      "=== Test performance on holdout set across seeds=== \n",
      "\n",
      "Model: RandomForest\n"
     ]
    },
    {
     "data": {
      "text/plain": [
       "      test_accuracy  test_precision  test_recall  test_f1  test_auc_roc\n",
       "mean          0.625           0.583        0.567    0.564         0.404\n",
       "std           0.000           0.000        0.000    0.000         0.017"
      ],
      "text/html": [
       "<div>\n",
       "<style scoped>\n",
       "    .dataframe tbody tr th:only-of-type {\n",
       "        vertical-align: middle;\n",
       "    }\n",
       "\n",
       "    .dataframe tbody tr th {\n",
       "        vertical-align: top;\n",
       "    }\n",
       "\n",
       "    .dataframe thead th {\n",
       "        text-align: right;\n",
       "    }\n",
       "</style>\n",
       "<table border=\"1\" class=\"dataframe\">\n",
       "  <thead>\n",
       "    <tr style=\"text-align: right;\">\n",
       "      <th></th>\n",
       "      <th>test_accuracy</th>\n",
       "      <th>test_precision</th>\n",
       "      <th>test_recall</th>\n",
       "      <th>test_f1</th>\n",
       "      <th>test_auc_roc</th>\n",
       "    </tr>\n",
       "  </thead>\n",
       "  <tbody>\n",
       "    <tr>\n",
       "      <th>mean</th>\n",
       "      <td>0.625</td>\n",
       "      <td>0.583</td>\n",
       "      <td>0.567</td>\n",
       "      <td>0.564</td>\n",
       "      <td>0.404</td>\n",
       "    </tr>\n",
       "    <tr>\n",
       "      <th>std</th>\n",
       "      <td>0.000</td>\n",
       "      <td>0.000</td>\n",
       "      <td>0.000</td>\n",
       "      <td>0.000</td>\n",
       "      <td>0.017</td>\n",
       "    </tr>\n",
       "  </tbody>\n",
       "</table>\n",
       "</div>"
      ]
     },
     "metadata": {},
     "output_type": "display_data"
    },
    {
     "name": "stdout",
     "output_type": "stream",
     "text": [
      "\n",
      "Model: SVM\n"
     ]
    },
    {
     "data": {
      "text/plain": [
       "      test_accuracy  test_precision  test_recall  test_f1  test_auc_roc\n",
       "mean          0.625           0.312          0.5    0.385         0.549\n",
       "std           0.000           0.000          0.0    0.000         0.002"
      ],
      "text/html": [
       "<div>\n",
       "<style scoped>\n",
       "    .dataframe tbody tr th:only-of-type {\n",
       "        vertical-align: middle;\n",
       "    }\n",
       "\n",
       "    .dataframe tbody tr th {\n",
       "        vertical-align: top;\n",
       "    }\n",
       "\n",
       "    .dataframe thead th {\n",
       "        text-align: right;\n",
       "    }\n",
       "</style>\n",
       "<table border=\"1\" class=\"dataframe\">\n",
       "  <thead>\n",
       "    <tr style=\"text-align: right;\">\n",
       "      <th></th>\n",
       "      <th>test_accuracy</th>\n",
       "      <th>test_precision</th>\n",
       "      <th>test_recall</th>\n",
       "      <th>test_f1</th>\n",
       "      <th>test_auc_roc</th>\n",
       "    </tr>\n",
       "  </thead>\n",
       "  <tbody>\n",
       "    <tr>\n",
       "      <th>mean</th>\n",
       "      <td>0.625</td>\n",
       "      <td>0.312</td>\n",
       "      <td>0.5</td>\n",
       "      <td>0.385</td>\n",
       "      <td>0.549</td>\n",
       "    </tr>\n",
       "    <tr>\n",
       "      <th>std</th>\n",
       "      <td>0.000</td>\n",
       "      <td>0.000</td>\n",
       "      <td>0.0</td>\n",
       "      <td>0.000</td>\n",
       "      <td>0.002</td>\n",
       "    </tr>\n",
       "  </tbody>\n",
       "</table>\n",
       "</div>"
      ]
     },
     "metadata": {},
     "output_type": "display_data"
    },
    {
     "name": "stdout",
     "output_type": "stream",
     "text": [
      "\n",
      "\n"
     ]
    }
   ],
   "execution_count": 80
  },
  {
   "metadata": {},
   "cell_type": "markdown",
   "source": "## PSP vs CBS",
   "id": "1eca4fb5449837ee"
  },
  {
   "metadata": {
    "ExecuteTime": {
     "end_time": "2025-06-30T15:41:16.594880Z",
     "start_time": "2025-06-30T15:41:16.590133Z"
    }
   },
   "cell_type": "code",
   "source": [
    "## ADNI vs CBS\n",
    "group1 = \"PSP\"\n",
    "group2 = \"CBS\"\n",
    "split_path = resolve_split_csv_path(dir_split, group1, group2)\n",
    "df_split = pd.read_csv(split_path)\n",
    "\n",
    "print_info(df_split, df_classs_cbs_psp)"
   ],
   "id": "daedc2a7d2345210",
   "outputs": [
    {
     "name": "stdout",
     "output_type": "stream",
     "text": [
      "\n",
      "Using split file: /Users/emmatosato/Documents/PhD/ANM_Verona/data/dataframes/split/PSP_CBS_splitted.csv\n",
      "\n",
      "Number of seeds: 5 and seeds: [   42   123  2023 31415 98765]\n",
      "Number of models: 2 and types: ['SVM' 'RandomForest']\n",
      "\n",
      "Training set size: 83\n",
      "Test set size: 21\n"
     ]
    }
   ],
   "execution_count": 81
  },
  {
   "metadata": {
    "ExecuteTime": {
     "end_time": "2025-06-30T15:41:16.652731Z",
     "start_time": "2025-06-30T15:41:16.640566Z"
    }
   },
   "cell_type": "code",
   "source": [
    "grouped_psp_cbs = get_variables(df_classs_cbs_psp)\n",
    "print_result_cv(grouped_psp_cbs, group1, group2)"
   ],
   "id": "6ff9a257fb30430a",
   "outputs": [
    {
     "name": "stdout",
     "output_type": "stream",
     "text": [
      "\n",
      "Group PSP vs CBS\n",
      "\n",
      "=== Cross-validation across seeds ===\n",
      "\n",
      "Model: RandomForest\n"
     ]
    },
    {
     "data": {
      "text/plain": [
       "      cv_accuracy  cv_precision  cv_recall  cv_f1  cv_auc_roc\n",
       "mean        0.605         0.589      0.580  0.575       0.604\n",
       "std         0.064         0.069      0.067  0.070       0.056"
      ],
      "text/html": [
       "<div>\n",
       "<style scoped>\n",
       "    .dataframe tbody tr th:only-of-type {\n",
       "        vertical-align: middle;\n",
       "    }\n",
       "\n",
       "    .dataframe tbody tr th {\n",
       "        vertical-align: top;\n",
       "    }\n",
       "\n",
       "    .dataframe thead th {\n",
       "        text-align: right;\n",
       "    }\n",
       "</style>\n",
       "<table border=\"1\" class=\"dataframe\">\n",
       "  <thead>\n",
       "    <tr style=\"text-align: right;\">\n",
       "      <th></th>\n",
       "      <th>cv_accuracy</th>\n",
       "      <th>cv_precision</th>\n",
       "      <th>cv_recall</th>\n",
       "      <th>cv_f1</th>\n",
       "      <th>cv_auc_roc</th>\n",
       "    </tr>\n",
       "  </thead>\n",
       "  <tbody>\n",
       "    <tr>\n",
       "      <th>mean</th>\n",
       "      <td>0.605</td>\n",
       "      <td>0.589</td>\n",
       "      <td>0.580</td>\n",
       "      <td>0.575</td>\n",
       "      <td>0.604</td>\n",
       "    </tr>\n",
       "    <tr>\n",
       "      <th>std</th>\n",
       "      <td>0.064</td>\n",
       "      <td>0.069</td>\n",
       "      <td>0.067</td>\n",
       "      <td>0.070</td>\n",
       "      <td>0.056</td>\n",
       "    </tr>\n",
       "  </tbody>\n",
       "</table>\n",
       "</div>"
      ]
     },
     "metadata": {},
     "output_type": "display_data"
    },
    {
     "name": "stdout",
     "output_type": "stream",
     "text": [
      "\n",
      "Model: SVM\n"
     ]
    },
    {
     "data": {
      "text/plain": [
       "      cv_accuracy  cv_precision  cv_recall  cv_f1  cv_auc_roc\n",
       "mean        0.578         0.289        0.5  0.366       0.431\n",
       "std         0.000         0.000        0.0  0.000       0.047"
      ],
      "text/html": [
       "<div>\n",
       "<style scoped>\n",
       "    .dataframe tbody tr th:only-of-type {\n",
       "        vertical-align: middle;\n",
       "    }\n",
       "\n",
       "    .dataframe tbody tr th {\n",
       "        vertical-align: top;\n",
       "    }\n",
       "\n",
       "    .dataframe thead th {\n",
       "        text-align: right;\n",
       "    }\n",
       "</style>\n",
       "<table border=\"1\" class=\"dataframe\">\n",
       "  <thead>\n",
       "    <tr style=\"text-align: right;\">\n",
       "      <th></th>\n",
       "      <th>cv_accuracy</th>\n",
       "      <th>cv_precision</th>\n",
       "      <th>cv_recall</th>\n",
       "      <th>cv_f1</th>\n",
       "      <th>cv_auc_roc</th>\n",
       "    </tr>\n",
       "  </thead>\n",
       "  <tbody>\n",
       "    <tr>\n",
       "      <th>mean</th>\n",
       "      <td>0.578</td>\n",
       "      <td>0.289</td>\n",
       "      <td>0.5</td>\n",
       "      <td>0.366</td>\n",
       "      <td>0.431</td>\n",
       "    </tr>\n",
       "    <tr>\n",
       "      <th>std</th>\n",
       "      <td>0.000</td>\n",
       "      <td>0.000</td>\n",
       "      <td>0.0</td>\n",
       "      <td>0.000</td>\n",
       "      <td>0.047</td>\n",
       "    </tr>\n",
       "  </tbody>\n",
       "</table>\n",
       "</div>"
      ]
     },
     "metadata": {},
     "output_type": "display_data"
    },
    {
     "name": "stdout",
     "output_type": "stream",
     "text": [
      "\n",
      "\n"
     ]
    }
   ],
   "execution_count": 82
  },
  {
   "metadata": {
    "ExecuteTime": {
     "end_time": "2025-06-30T15:41:16.799006Z",
     "start_time": "2025-06-30T15:41:16.783951Z"
    }
   },
   "cell_type": "code",
   "source": "print_result_test(grouped_psp_cbs, group1, group2)",
   "id": "3bf6263cb9c0150d",
   "outputs": [
    {
     "name": "stdout",
     "output_type": "stream",
     "text": [
      "\n",
      "Group PSP vs CBS\n",
      "\n",
      "=== Test performance on holdout set across seeds=== \n",
      "\n",
      "Model: RandomForest\n"
     ]
    },
    {
     "data": {
      "text/plain": [
       "      test_accuracy  test_precision  test_recall  test_f1  test_auc_roc\n",
       "mean          0.457           0.491        0.492    0.440         0.555\n",
       "std           0.026           0.038        0.031    0.021         0.061"
      ],
      "text/html": [
       "<div>\n",
       "<style scoped>\n",
       "    .dataframe tbody tr th:only-of-type {\n",
       "        vertical-align: middle;\n",
       "    }\n",
       "\n",
       "    .dataframe tbody tr th {\n",
       "        vertical-align: top;\n",
       "    }\n",
       "\n",
       "    .dataframe thead th {\n",
       "        text-align: right;\n",
       "    }\n",
       "</style>\n",
       "<table border=\"1\" class=\"dataframe\">\n",
       "  <thead>\n",
       "    <tr style=\"text-align: right;\">\n",
       "      <th></th>\n",
       "      <th>test_accuracy</th>\n",
       "      <th>test_precision</th>\n",
       "      <th>test_recall</th>\n",
       "      <th>test_f1</th>\n",
       "      <th>test_auc_roc</th>\n",
       "    </tr>\n",
       "  </thead>\n",
       "  <tbody>\n",
       "    <tr>\n",
       "      <th>mean</th>\n",
       "      <td>0.457</td>\n",
       "      <td>0.491</td>\n",
       "      <td>0.492</td>\n",
       "      <td>0.440</td>\n",
       "      <td>0.555</td>\n",
       "    </tr>\n",
       "    <tr>\n",
       "      <th>std</th>\n",
       "      <td>0.026</td>\n",
       "      <td>0.038</td>\n",
       "      <td>0.031</td>\n",
       "      <td>0.021</td>\n",
       "      <td>0.061</td>\n",
       "    </tr>\n",
       "  </tbody>\n",
       "</table>\n",
       "</div>"
      ]
     },
     "metadata": {},
     "output_type": "display_data"
    },
    {
     "name": "stdout",
     "output_type": "stream",
     "text": [
      "\n",
      "Model: SVM\n"
     ]
    },
    {
     "data": {
      "text/plain": [
       "      test_accuracy  test_precision  test_recall  test_f1  test_auc_roc\n",
       "mean          0.571           0.286          0.5    0.364         0.472\n",
       "std           0.000           0.000          0.0    0.000         0.000"
      ],
      "text/html": [
       "<div>\n",
       "<style scoped>\n",
       "    .dataframe tbody tr th:only-of-type {\n",
       "        vertical-align: middle;\n",
       "    }\n",
       "\n",
       "    .dataframe tbody tr th {\n",
       "        vertical-align: top;\n",
       "    }\n",
       "\n",
       "    .dataframe thead th {\n",
       "        text-align: right;\n",
       "    }\n",
       "</style>\n",
       "<table border=\"1\" class=\"dataframe\">\n",
       "  <thead>\n",
       "    <tr style=\"text-align: right;\">\n",
       "      <th></th>\n",
       "      <th>test_accuracy</th>\n",
       "      <th>test_precision</th>\n",
       "      <th>test_recall</th>\n",
       "      <th>test_f1</th>\n",
       "      <th>test_auc_roc</th>\n",
       "    </tr>\n",
       "  </thead>\n",
       "  <tbody>\n",
       "    <tr>\n",
       "      <th>mean</th>\n",
       "      <td>0.571</td>\n",
       "      <td>0.286</td>\n",
       "      <td>0.5</td>\n",
       "      <td>0.364</td>\n",
       "      <td>0.472</td>\n",
       "    </tr>\n",
       "    <tr>\n",
       "      <th>std</th>\n",
       "      <td>0.000</td>\n",
       "      <td>0.000</td>\n",
       "      <td>0.0</td>\n",
       "      <td>0.000</td>\n",
       "      <td>0.000</td>\n",
       "    </tr>\n",
       "  </tbody>\n",
       "</table>\n",
       "</div>"
      ]
     },
     "metadata": {},
     "output_type": "display_data"
    },
    {
     "name": "stdout",
     "output_type": "stream",
     "text": [
      "\n",
      "\n"
     ]
    }
   ],
   "execution_count": 83
  },
  {
   "metadata": {},
   "cell_type": "markdown",
   "source": "# Networks Classification",
   "id": "d604e12c471988b5"
  },
  {
   "metadata": {},
   "cell_type": "markdown",
   "source": "## ADNI vs PSP",
   "id": "f1cc2b429b965c31"
  },
  {
   "metadata": {
    "ExecuteTime": {
     "end_time": "2025-06-30T15:41:16.894429Z",
     "start_time": "2025-06-30T15:41:16.890852Z"
    }
   },
   "cell_type": "code",
   "source": "df_net_noThr = pd.read_csv('/Users/emmatosato/Documents/PhD/ANM_Verona/data/dataframes/networks/networks_noTHR.csv')",
   "id": "60ced7b0b549458a",
   "outputs": [],
   "execution_count": 84
  },
  {
   "metadata": {
    "ExecuteTime": {
     "end_time": "2025-06-30T15:41:16.988314Z",
     "start_time": "2025-06-30T15:41:16.974358Z"
    }
   },
   "cell_type": "code",
   "source": [
    "group1 = \"ADNI\"\n",
    "group2 = \"PSP\"\n",
    "\n",
    "grouped_net_adni_psp = get_variables(df_classs_net_adni_psp)\n",
    "\n",
    "print_result_cv(grouped_net_adni_psp, group1, group2)"
   ],
   "id": "9f139fdfa7ddddf7",
   "outputs": [
    {
     "name": "stdout",
     "output_type": "stream",
     "text": [
      "\n",
      "Group ADNI vs PSP\n",
      "\n",
      "=== Cross-validation across seeds ===\n",
      "\n",
      "Model: RandomForest\n"
     ]
    },
    {
     "data": {
      "text/plain": [
       "      cv_accuracy  cv_precision  cv_recall  cv_f1  cv_auc_roc\n",
       "mean        0.659         0.667      0.654  0.650       0.692\n",
       "std         0.040         0.044      0.038  0.039       0.020"
      ],
      "text/html": [
       "<div>\n",
       "<style scoped>\n",
       "    .dataframe tbody tr th:only-of-type {\n",
       "        vertical-align: middle;\n",
       "    }\n",
       "\n",
       "    .dataframe tbody tr th {\n",
       "        vertical-align: top;\n",
       "    }\n",
       "\n",
       "    .dataframe thead th {\n",
       "        text-align: right;\n",
       "    }\n",
       "</style>\n",
       "<table border=\"1\" class=\"dataframe\">\n",
       "  <thead>\n",
       "    <tr style=\"text-align: right;\">\n",
       "      <th></th>\n",
       "      <th>cv_accuracy</th>\n",
       "      <th>cv_precision</th>\n",
       "      <th>cv_recall</th>\n",
       "      <th>cv_f1</th>\n",
       "      <th>cv_auc_roc</th>\n",
       "    </tr>\n",
       "  </thead>\n",
       "  <tbody>\n",
       "    <tr>\n",
       "      <th>mean</th>\n",
       "      <td>0.659</td>\n",
       "      <td>0.667</td>\n",
       "      <td>0.654</td>\n",
       "      <td>0.650</td>\n",
       "      <td>0.692</td>\n",
       "    </tr>\n",
       "    <tr>\n",
       "      <th>std</th>\n",
       "      <td>0.040</td>\n",
       "      <td>0.044</td>\n",
       "      <td>0.038</td>\n",
       "      <td>0.039</td>\n",
       "      <td>0.020</td>\n",
       "    </tr>\n",
       "  </tbody>\n",
       "</table>\n",
       "</div>"
      ]
     },
     "metadata": {},
     "output_type": "display_data"
    },
    {
     "name": "stdout",
     "output_type": "stream",
     "text": [
      "\n",
      "Model: SVM\n"
     ]
    },
    {
     "data": {
      "text/plain": [
       "      cv_accuracy  cv_precision  cv_recall  cv_f1  cv_auc_roc\n",
       "mean        0.674         0.695      0.660  0.654       0.693\n",
       "std         0.017         0.024      0.017  0.019       0.014"
      ],
      "text/html": [
       "<div>\n",
       "<style scoped>\n",
       "    .dataframe tbody tr th:only-of-type {\n",
       "        vertical-align: middle;\n",
       "    }\n",
       "\n",
       "    .dataframe tbody tr th {\n",
       "        vertical-align: top;\n",
       "    }\n",
       "\n",
       "    .dataframe thead th {\n",
       "        text-align: right;\n",
       "    }\n",
       "</style>\n",
       "<table border=\"1\" class=\"dataframe\">\n",
       "  <thead>\n",
       "    <tr style=\"text-align: right;\">\n",
       "      <th></th>\n",
       "      <th>cv_accuracy</th>\n",
       "      <th>cv_precision</th>\n",
       "      <th>cv_recall</th>\n",
       "      <th>cv_f1</th>\n",
       "      <th>cv_auc_roc</th>\n",
       "    </tr>\n",
       "  </thead>\n",
       "  <tbody>\n",
       "    <tr>\n",
       "      <th>mean</th>\n",
       "      <td>0.674</td>\n",
       "      <td>0.695</td>\n",
       "      <td>0.660</td>\n",
       "      <td>0.654</td>\n",
       "      <td>0.693</td>\n",
       "    </tr>\n",
       "    <tr>\n",
       "      <th>std</th>\n",
       "      <td>0.017</td>\n",
       "      <td>0.024</td>\n",
       "      <td>0.017</td>\n",
       "      <td>0.019</td>\n",
       "      <td>0.014</td>\n",
       "    </tr>\n",
       "  </tbody>\n",
       "</table>\n",
       "</div>"
      ]
     },
     "metadata": {},
     "output_type": "display_data"
    },
    {
     "name": "stdout",
     "output_type": "stream",
     "text": [
      "\n",
      "\n"
     ]
    }
   ],
   "execution_count": 85
  },
  {
   "metadata": {
    "ExecuteTime": {
     "end_time": "2025-06-30T15:41:17.034081Z",
     "start_time": "2025-06-30T15:41:17.022737Z"
    }
   },
   "cell_type": "code",
   "source": "print_result_test(grouped_net_adni_psp, group1, group2)",
   "id": "4c2f9db7b2711ab9",
   "outputs": [
    {
     "name": "stdout",
     "output_type": "stream",
     "text": [
      "\n",
      "Group ADNI vs PSP\n",
      "\n",
      "=== Test performance on holdout set across seeds=== \n",
      "\n",
      "Model: RandomForest\n"
     ]
    },
    {
     "data": {
      "text/plain": [
       "      test_accuracy  test_precision  test_recall  test_f1  test_auc_roc\n",
       "mean          0.593           0.590        0.590    0.589         0.639\n",
       "std           0.026           0.027        0.027    0.027         0.034"
      ],
      "text/html": [
       "<div>\n",
       "<style scoped>\n",
       "    .dataframe tbody tr th:only-of-type {\n",
       "        vertical-align: middle;\n",
       "    }\n",
       "\n",
       "    .dataframe tbody tr th {\n",
       "        vertical-align: top;\n",
       "    }\n",
       "\n",
       "    .dataframe thead th {\n",
       "        text-align: right;\n",
       "    }\n",
       "</style>\n",
       "<table border=\"1\" class=\"dataframe\">\n",
       "  <thead>\n",
       "    <tr style=\"text-align: right;\">\n",
       "      <th></th>\n",
       "      <th>test_accuracy</th>\n",
       "      <th>test_precision</th>\n",
       "      <th>test_recall</th>\n",
       "      <th>test_f1</th>\n",
       "      <th>test_auc_roc</th>\n",
       "    </tr>\n",
       "  </thead>\n",
       "  <tbody>\n",
       "    <tr>\n",
       "      <th>mean</th>\n",
       "      <td>0.593</td>\n",
       "      <td>0.590</td>\n",
       "      <td>0.590</td>\n",
       "      <td>0.589</td>\n",
       "      <td>0.639</td>\n",
       "    </tr>\n",
       "    <tr>\n",
       "      <th>std</th>\n",
       "      <td>0.026</td>\n",
       "      <td>0.027</td>\n",
       "      <td>0.027</td>\n",
       "      <td>0.027</td>\n",
       "      <td>0.034</td>\n",
       "    </tr>\n",
       "  </tbody>\n",
       "</table>\n",
       "</div>"
      ]
     },
     "metadata": {},
     "output_type": "display_data"
    },
    {
     "name": "stdout",
     "output_type": "stream",
     "text": [
      "\n",
      "Model: SVM\n"
     ]
    },
    {
     "data": {
      "text/plain": [
       "      test_accuracy  test_precision  test_recall  test_f1  test_auc_roc\n",
       "mean          0.519             0.5          0.5    0.494         0.639\n",
       "std           0.000             0.0          0.0    0.000         0.000"
      ],
      "text/html": [
       "<div>\n",
       "<style scoped>\n",
       "    .dataframe tbody tr th:only-of-type {\n",
       "        vertical-align: middle;\n",
       "    }\n",
       "\n",
       "    .dataframe tbody tr th {\n",
       "        vertical-align: top;\n",
       "    }\n",
       "\n",
       "    .dataframe thead th {\n",
       "        text-align: right;\n",
       "    }\n",
       "</style>\n",
       "<table border=\"1\" class=\"dataframe\">\n",
       "  <thead>\n",
       "    <tr style=\"text-align: right;\">\n",
       "      <th></th>\n",
       "      <th>test_accuracy</th>\n",
       "      <th>test_precision</th>\n",
       "      <th>test_recall</th>\n",
       "      <th>test_f1</th>\n",
       "      <th>test_auc_roc</th>\n",
       "    </tr>\n",
       "  </thead>\n",
       "  <tbody>\n",
       "    <tr>\n",
       "      <th>mean</th>\n",
       "      <td>0.519</td>\n",
       "      <td>0.5</td>\n",
       "      <td>0.5</td>\n",
       "      <td>0.494</td>\n",
       "      <td>0.639</td>\n",
       "    </tr>\n",
       "    <tr>\n",
       "      <th>std</th>\n",
       "      <td>0.000</td>\n",
       "      <td>0.0</td>\n",
       "      <td>0.0</td>\n",
       "      <td>0.000</td>\n",
       "      <td>0.000</td>\n",
       "    </tr>\n",
       "  </tbody>\n",
       "</table>\n",
       "</div>"
      ]
     },
     "metadata": {},
     "output_type": "display_data"
    },
    {
     "name": "stdout",
     "output_type": "stream",
     "text": [
      "\n",
      "\n"
     ]
    }
   ],
   "execution_count": 86
  },
  {
   "metadata": {},
   "cell_type": "markdown",
   "source": "## ADNI vs CBS",
   "id": "e14f5b7103951470"
  },
  {
   "metadata": {
    "ExecuteTime": {
     "end_time": "2025-06-30T15:41:17.097626Z",
     "start_time": "2025-06-30T15:41:17.083705Z"
    }
   },
   "cell_type": "code",
   "source": [
    "group1 = \"ADNI\"\n",
    "group2 = \"CBS\"\n",
    "\n",
    "grouped_net_adni_cbs = get_variables(df_classs_net_adni_cbs)\n",
    "\n",
    "print_result_cv(grouped_net_adni_cbs, group1, group2)"
   ],
   "id": "9a144fcd6e320941",
   "outputs": [
    {
     "name": "stdout",
     "output_type": "stream",
     "text": [
      "\n",
      "Group ADNI vs CBS\n",
      "\n",
      "=== Cross-validation across seeds ===\n",
      "\n",
      "Model: RandomForest\n"
     ]
    },
    {
     "data": {
      "text/plain": [
       "      cv_accuracy  cv_precision  cv_recall  cv_f1  cv_auc_roc\n",
       "mean        0.533         0.461      0.478  0.460       0.551\n",
       "std         0.022         0.037      0.021  0.029       0.037"
      ],
      "text/html": [
       "<div>\n",
       "<style scoped>\n",
       "    .dataframe tbody tr th:only-of-type {\n",
       "        vertical-align: middle;\n",
       "    }\n",
       "\n",
       "    .dataframe tbody tr th {\n",
       "        vertical-align: top;\n",
       "    }\n",
       "\n",
       "    .dataframe thead th {\n",
       "        text-align: right;\n",
       "    }\n",
       "</style>\n",
       "<table border=\"1\" class=\"dataframe\">\n",
       "  <thead>\n",
       "    <tr style=\"text-align: right;\">\n",
       "      <th></th>\n",
       "      <th>cv_accuracy</th>\n",
       "      <th>cv_precision</th>\n",
       "      <th>cv_recall</th>\n",
       "      <th>cv_f1</th>\n",
       "      <th>cv_auc_roc</th>\n",
       "    </tr>\n",
       "  </thead>\n",
       "  <tbody>\n",
       "    <tr>\n",
       "      <th>mean</th>\n",
       "      <td>0.533</td>\n",
       "      <td>0.461</td>\n",
       "      <td>0.478</td>\n",
       "      <td>0.460</td>\n",
       "      <td>0.551</td>\n",
       "    </tr>\n",
       "    <tr>\n",
       "      <th>std</th>\n",
       "      <td>0.022</td>\n",
       "      <td>0.037</td>\n",
       "      <td>0.021</td>\n",
       "      <td>0.029</td>\n",
       "      <td>0.037</td>\n",
       "    </tr>\n",
       "  </tbody>\n",
       "</table>\n",
       "</div>"
      ]
     },
     "metadata": {},
     "output_type": "display_data"
    },
    {
     "name": "stdout",
     "output_type": "stream",
     "text": [
      "\n",
      "Model: SVM\n"
     ]
    },
    {
     "data": {
      "text/plain": [
       "      cv_accuracy  cv_precision  cv_recall  cv_f1  cv_auc_roc\n",
       "mean        0.629         0.609      0.535  0.487       0.559\n",
       "std         0.012         0.080      0.009  0.008       0.057"
      ],
      "text/html": [
       "<div>\n",
       "<style scoped>\n",
       "    .dataframe tbody tr th:only-of-type {\n",
       "        vertical-align: middle;\n",
       "    }\n",
       "\n",
       "    .dataframe tbody tr th {\n",
       "        vertical-align: top;\n",
       "    }\n",
       "\n",
       "    .dataframe thead th {\n",
       "        text-align: right;\n",
       "    }\n",
       "</style>\n",
       "<table border=\"1\" class=\"dataframe\">\n",
       "  <thead>\n",
       "    <tr style=\"text-align: right;\">\n",
       "      <th></th>\n",
       "      <th>cv_accuracy</th>\n",
       "      <th>cv_precision</th>\n",
       "      <th>cv_recall</th>\n",
       "      <th>cv_f1</th>\n",
       "      <th>cv_auc_roc</th>\n",
       "    </tr>\n",
       "  </thead>\n",
       "  <tbody>\n",
       "    <tr>\n",
       "      <th>mean</th>\n",
       "      <td>0.629</td>\n",
       "      <td>0.609</td>\n",
       "      <td>0.535</td>\n",
       "      <td>0.487</td>\n",
       "      <td>0.559</td>\n",
       "    </tr>\n",
       "    <tr>\n",
       "      <th>std</th>\n",
       "      <td>0.012</td>\n",
       "      <td>0.080</td>\n",
       "      <td>0.009</td>\n",
       "      <td>0.008</td>\n",
       "      <td>0.057</td>\n",
       "    </tr>\n",
       "  </tbody>\n",
       "</table>\n",
       "</div>"
      ]
     },
     "metadata": {},
     "output_type": "display_data"
    },
    {
     "name": "stdout",
     "output_type": "stream",
     "text": [
      "\n",
      "\n"
     ]
    }
   ],
   "execution_count": 87
  },
  {
   "metadata": {
    "ExecuteTime": {
     "end_time": "2025-06-30T15:41:17.177670Z",
     "start_time": "2025-06-30T15:41:17.165019Z"
    }
   },
   "cell_type": "code",
   "source": "print_result_test(grouped_net_adni_cbs, group1, group2)",
   "id": "47ef8f7c27c16d2f",
   "outputs": [
    {
     "name": "stdout",
     "output_type": "stream",
     "text": [
      "\n",
      "Group ADNI vs CBS\n",
      "\n",
      "=== Test performance on holdout set across seeds=== \n",
      "\n",
      "Model: RandomForest\n"
     ]
    },
    {
     "data": {
      "text/plain": [
       "      test_accuracy  test_precision  test_recall  test_f1  test_auc_roc\n",
       "mean          0.633           0.582        0.556    0.534         0.507\n",
       "std           0.035           0.068        0.049    0.073         0.025"
      ],
      "text/html": [
       "<div>\n",
       "<style scoped>\n",
       "    .dataframe tbody tr th:only-of-type {\n",
       "        vertical-align: middle;\n",
       "    }\n",
       "\n",
       "    .dataframe tbody tr th {\n",
       "        vertical-align: top;\n",
       "    }\n",
       "\n",
       "    .dataframe thead th {\n",
       "        text-align: right;\n",
       "    }\n",
       "</style>\n",
       "<table border=\"1\" class=\"dataframe\">\n",
       "  <thead>\n",
       "    <tr style=\"text-align: right;\">\n",
       "      <th></th>\n",
       "      <th>test_accuracy</th>\n",
       "      <th>test_precision</th>\n",
       "      <th>test_recall</th>\n",
       "      <th>test_f1</th>\n",
       "      <th>test_auc_roc</th>\n",
       "    </tr>\n",
       "  </thead>\n",
       "  <tbody>\n",
       "    <tr>\n",
       "      <th>mean</th>\n",
       "      <td>0.633</td>\n",
       "      <td>0.582</td>\n",
       "      <td>0.556</td>\n",
       "      <td>0.534</td>\n",
       "      <td>0.507</td>\n",
       "    </tr>\n",
       "    <tr>\n",
       "      <th>std</th>\n",
       "      <td>0.035</td>\n",
       "      <td>0.068</td>\n",
       "      <td>0.049</td>\n",
       "      <td>0.073</td>\n",
       "      <td>0.025</td>\n",
       "    </tr>\n",
       "  </tbody>\n",
       "</table>\n",
       "</div>"
      ]
     },
     "metadata": {},
     "output_type": "display_data"
    },
    {
     "name": "stdout",
     "output_type": "stream",
     "text": [
      "\n",
      "Model: SVM\n"
     ]
    },
    {
     "data": {
      "text/plain": [
       "      test_accuracy  test_precision  test_recall  test_f1  test_auc_roc\n",
       "mean          0.667           0.667        0.578    0.556         0.481\n",
       "std           0.000           0.000        0.000    0.000         0.000"
      ],
      "text/html": [
       "<div>\n",
       "<style scoped>\n",
       "    .dataframe tbody tr th:only-of-type {\n",
       "        vertical-align: middle;\n",
       "    }\n",
       "\n",
       "    .dataframe tbody tr th {\n",
       "        vertical-align: top;\n",
       "    }\n",
       "\n",
       "    .dataframe thead th {\n",
       "        text-align: right;\n",
       "    }\n",
       "</style>\n",
       "<table border=\"1\" class=\"dataframe\">\n",
       "  <thead>\n",
       "    <tr style=\"text-align: right;\">\n",
       "      <th></th>\n",
       "      <th>test_accuracy</th>\n",
       "      <th>test_precision</th>\n",
       "      <th>test_recall</th>\n",
       "      <th>test_f1</th>\n",
       "      <th>test_auc_roc</th>\n",
       "    </tr>\n",
       "  </thead>\n",
       "  <tbody>\n",
       "    <tr>\n",
       "      <th>mean</th>\n",
       "      <td>0.667</td>\n",
       "      <td>0.667</td>\n",
       "      <td>0.578</td>\n",
       "      <td>0.556</td>\n",
       "      <td>0.481</td>\n",
       "    </tr>\n",
       "    <tr>\n",
       "      <th>std</th>\n",
       "      <td>0.000</td>\n",
       "      <td>0.000</td>\n",
       "      <td>0.000</td>\n",
       "      <td>0.000</td>\n",
       "      <td>0.000</td>\n",
       "    </tr>\n",
       "  </tbody>\n",
       "</table>\n",
       "</div>"
      ]
     },
     "metadata": {},
     "output_type": "display_data"
    },
    {
     "name": "stdout",
     "output_type": "stream",
     "text": [
      "\n",
      "\n"
     ]
    }
   ],
   "execution_count": 88
  },
  {
   "metadata": {},
   "cell_type": "markdown",
   "source": "## PSP vs CBS",
   "id": "ccf2d42e43d1d4f6"
  },
  {
   "metadata": {
    "ExecuteTime": {
     "end_time": "2025-06-30T15:41:17.256501Z",
     "start_time": "2025-06-30T15:41:17.239947Z"
    }
   },
   "cell_type": "code",
   "source": [
    "group1 = \"PSP\"\n",
    "group2 = \"CBS\"\n",
    "\n",
    "grouped_net_cbs_psp = get_variables(df_classs_net_cbs_psp)\n",
    "\n",
    "print_result_cv(grouped_net_cbs_psp, group1, group2)"
   ],
   "id": "58ab519954263a9",
   "outputs": [
    {
     "name": "stdout",
     "output_type": "stream",
     "text": [
      "\n",
      "Group PSP vs CBS\n",
      "\n",
      "=== Cross-validation across seeds ===\n",
      "\n",
      "Model: RandomForest\n"
     ]
    },
    {
     "data": {
      "text/plain": [
       "      cv_accuracy  cv_precision  cv_recall  cv_f1  cv_auc_roc\n",
       "mean        0.601         0.595      0.580  0.571       0.647\n",
       "std         0.063         0.066      0.062  0.067       0.061"
      ],
      "text/html": [
       "<div>\n",
       "<style scoped>\n",
       "    .dataframe tbody tr th:only-of-type {\n",
       "        vertical-align: middle;\n",
       "    }\n",
       "\n",
       "    .dataframe tbody tr th {\n",
       "        vertical-align: top;\n",
       "    }\n",
       "\n",
       "    .dataframe thead th {\n",
       "        text-align: right;\n",
       "    }\n",
       "</style>\n",
       "<table border=\"1\" class=\"dataframe\">\n",
       "  <thead>\n",
       "    <tr style=\"text-align: right;\">\n",
       "      <th></th>\n",
       "      <th>cv_accuracy</th>\n",
       "      <th>cv_precision</th>\n",
       "      <th>cv_recall</th>\n",
       "      <th>cv_f1</th>\n",
       "      <th>cv_auc_roc</th>\n",
       "    </tr>\n",
       "  </thead>\n",
       "  <tbody>\n",
       "    <tr>\n",
       "      <th>mean</th>\n",
       "      <td>0.601</td>\n",
       "      <td>0.595</td>\n",
       "      <td>0.580</td>\n",
       "      <td>0.571</td>\n",
       "      <td>0.647</td>\n",
       "    </tr>\n",
       "    <tr>\n",
       "      <th>std</th>\n",
       "      <td>0.063</td>\n",
       "      <td>0.066</td>\n",
       "      <td>0.062</td>\n",
       "      <td>0.067</td>\n",
       "      <td>0.061</td>\n",
       "    </tr>\n",
       "  </tbody>\n",
       "</table>\n",
       "</div>"
      ]
     },
     "metadata": {},
     "output_type": "display_data"
    },
    {
     "name": "stdout",
     "output_type": "stream",
     "text": [
      "\n",
      "Model: SVM\n"
     ]
    },
    {
     "data": {
      "text/plain": [
       "      cv_accuracy  cv_precision  cv_recall  cv_f1  cv_auc_roc\n",
       "mean        0.579         0.590      0.533  0.495       0.482\n",
       "std         0.011         0.048      0.009  0.011       0.097"
      ],
      "text/html": [
       "<div>\n",
       "<style scoped>\n",
       "    .dataframe tbody tr th:only-of-type {\n",
       "        vertical-align: middle;\n",
       "    }\n",
       "\n",
       "    .dataframe tbody tr th {\n",
       "        vertical-align: top;\n",
       "    }\n",
       "\n",
       "    .dataframe thead th {\n",
       "        text-align: right;\n",
       "    }\n",
       "</style>\n",
       "<table border=\"1\" class=\"dataframe\">\n",
       "  <thead>\n",
       "    <tr style=\"text-align: right;\">\n",
       "      <th></th>\n",
       "      <th>cv_accuracy</th>\n",
       "      <th>cv_precision</th>\n",
       "      <th>cv_recall</th>\n",
       "      <th>cv_f1</th>\n",
       "      <th>cv_auc_roc</th>\n",
       "    </tr>\n",
       "  </thead>\n",
       "  <tbody>\n",
       "    <tr>\n",
       "      <th>mean</th>\n",
       "      <td>0.579</td>\n",
       "      <td>0.590</td>\n",
       "      <td>0.533</td>\n",
       "      <td>0.495</td>\n",
       "      <td>0.482</td>\n",
       "    </tr>\n",
       "    <tr>\n",
       "      <th>std</th>\n",
       "      <td>0.011</td>\n",
       "      <td>0.048</td>\n",
       "      <td>0.009</td>\n",
       "      <td>0.011</td>\n",
       "      <td>0.097</td>\n",
       "    </tr>\n",
       "  </tbody>\n",
       "</table>\n",
       "</div>"
      ]
     },
     "metadata": {},
     "output_type": "display_data"
    },
    {
     "name": "stdout",
     "output_type": "stream",
     "text": [
      "\n",
      "\n"
     ]
    }
   ],
   "execution_count": 89
  },
  {
   "metadata": {
    "ExecuteTime": {
     "end_time": "2025-06-30T15:41:17.334547Z",
     "start_time": "2025-06-30T15:41:17.321944Z"
    }
   },
   "cell_type": "code",
   "source": "print_result_test(grouped_net_cbs_psp, group1, group2)",
   "id": "e76f009cd0d284e1",
   "outputs": [
    {
     "name": "stdout",
     "output_type": "stream",
     "text": [
      "\n",
      "Group PSP vs CBS\n",
      "\n",
      "=== Test performance on holdout set across seeds=== \n",
      "\n",
      "Model: RandomForest\n"
     ]
    },
    {
     "data": {
      "text/plain": [
       "      test_accuracy  test_precision  test_recall  test_f1  test_auc_roc\n",
       "mean          0.667           0.662         0.65    0.651         0.657\n",
       "std           0.034           0.037         0.03    0.031         0.022"
      ],
      "text/html": [
       "<div>\n",
       "<style scoped>\n",
       "    .dataframe tbody tr th:only-of-type {\n",
       "        vertical-align: middle;\n",
       "    }\n",
       "\n",
       "    .dataframe tbody tr th {\n",
       "        vertical-align: top;\n",
       "    }\n",
       "\n",
       "    .dataframe thead th {\n",
       "        text-align: right;\n",
       "    }\n",
       "</style>\n",
       "<table border=\"1\" class=\"dataframe\">\n",
       "  <thead>\n",
       "    <tr style=\"text-align: right;\">\n",
       "      <th></th>\n",
       "      <th>test_accuracy</th>\n",
       "      <th>test_precision</th>\n",
       "      <th>test_recall</th>\n",
       "      <th>test_f1</th>\n",
       "      <th>test_auc_roc</th>\n",
       "    </tr>\n",
       "  </thead>\n",
       "  <tbody>\n",
       "    <tr>\n",
       "      <th>mean</th>\n",
       "      <td>0.667</td>\n",
       "      <td>0.662</td>\n",
       "      <td>0.65</td>\n",
       "      <td>0.651</td>\n",
       "      <td>0.657</td>\n",
       "    </tr>\n",
       "    <tr>\n",
       "      <th>std</th>\n",
       "      <td>0.034</td>\n",
       "      <td>0.037</td>\n",
       "      <td>0.03</td>\n",
       "      <td>0.031</td>\n",
       "      <td>0.022</td>\n",
       "    </tr>\n",
       "  </tbody>\n",
       "</table>\n",
       "</div>"
      ]
     },
     "metadata": {},
     "output_type": "display_data"
    },
    {
     "name": "stdout",
     "output_type": "stream",
     "text": [
      "\n",
      "Model: SVM\n"
     ]
    },
    {
     "data": {
      "text/plain": [
       "      test_accuracy  test_precision  test_recall  test_f1  test_auc_roc\n",
       "mean          0.619           0.612        0.583    0.571         0.602\n",
       "std           0.000           0.000        0.000    0.000         0.000"
      ],
      "text/html": [
       "<div>\n",
       "<style scoped>\n",
       "    .dataframe tbody tr th:only-of-type {\n",
       "        vertical-align: middle;\n",
       "    }\n",
       "\n",
       "    .dataframe tbody tr th {\n",
       "        vertical-align: top;\n",
       "    }\n",
       "\n",
       "    .dataframe thead th {\n",
       "        text-align: right;\n",
       "    }\n",
       "</style>\n",
       "<table border=\"1\" class=\"dataframe\">\n",
       "  <thead>\n",
       "    <tr style=\"text-align: right;\">\n",
       "      <th></th>\n",
       "      <th>test_accuracy</th>\n",
       "      <th>test_precision</th>\n",
       "      <th>test_recall</th>\n",
       "      <th>test_f1</th>\n",
       "      <th>test_auc_roc</th>\n",
       "    </tr>\n",
       "  </thead>\n",
       "  <tbody>\n",
       "    <tr>\n",
       "      <th>mean</th>\n",
       "      <td>0.619</td>\n",
       "      <td>0.612</td>\n",
       "      <td>0.583</td>\n",
       "      <td>0.571</td>\n",
       "      <td>0.602</td>\n",
       "    </tr>\n",
       "    <tr>\n",
       "      <th>std</th>\n",
       "      <td>0.000</td>\n",
       "      <td>0.000</td>\n",
       "      <td>0.000</td>\n",
       "      <td>0.000</td>\n",
       "      <td>0.000</td>\n",
       "    </tr>\n",
       "  </tbody>\n",
       "</table>\n",
       "</div>"
      ]
     },
     "metadata": {},
     "output_type": "display_data"
    },
    {
     "name": "stdout",
     "output_type": "stream",
     "text": [
      "\n",
      "\n"
     ]
    }
   ],
   "execution_count": 90
  }
 ],
 "metadata": {
  "kernelspec": {
   "display_name": "Python 3",
   "language": "python",
   "name": "python3"
  },
  "language_info": {
   "codemirror_mode": {
    "name": "ipython",
    "version": 2
   },
   "file_extension": ".py",
   "mimetype": "text/x-python",
   "name": "python",
   "nbconvert_exporter": "python",
   "pygments_lexer": "ipython2",
   "version": "2.7.6"
  }
 },
 "nbformat": 4,
 "nbformat_minor": 5
}
